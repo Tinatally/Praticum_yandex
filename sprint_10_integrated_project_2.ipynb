{
 "cells": [
  {
   "cell_type": "markdown",
   "id": "cb4f574d",
   "metadata": {},
   "source": [
    "<div style=\"border:solid green 2px; padding: 20px\">\n",
    "<b>Hello, Valentina!</b>\n",
    "\n",
    "My name is Grigoriy Gusarov and I'm going to review your project.\n",
    "\n",
    "My main goal is not to show that any mistakes have been made somewhere, but to share my experience that will help you in your further work. Further in the file you can see my comments, try to take them into account when performing the next tasks. **Please, don't delete them.**\n",
    "\n",
    "\n",
    "You can find my comments in <font color='green'>green</font>, <font color='orange'>yellow</font> or <font color='red'>red</font> boxes like this:\n",
    "\n",
    "<div class=\"alert alert-success\">\n",
    "<b>Reviewer's comment:</b> if everything is done succesfully\n",
    "</div>\n",
    "\n",
    "<div class=\"alert alert-warning\">\n",
    "<b>Reviewer's comment: </b> if I can give some recommendations\n",
    "</div>\n",
    "\n",
    "<div class=\"alert alert-danger\">\n",
    "<b>Reviewer's comment:</b> if the block requires some corrections. Work can't be accepted with the red comments.\n",
    "</div>\n",
    "\n",
    "    \n",
    "Let's work on the project in dialogue: if you change something in the project or respond to my comments, write about it. It will be easier for me to track the changes if you highlight your comments:\n",
    "    \n",
    "<div class=\"alert alert-info\"> <b>Student's comment:</b> For example like this.</div>"
   ]
  },
  {
   "cell_type": "markdown",
   "id": "6d67b9fd",
   "metadata": {},
   "source": [
    "### <font color='orange'>General feedback</font>\n",
    "Thank you for sending your project! In general - well done, I like your coding skills. Congratulations, your job has been accepted!"
   ]
  },
  {
   "cell_type": "markdown",
   "id": "bb66e357",
   "metadata": {},
   "source": [
    "<div class=\"alert alert-warning\">\n",
    "<b>Reviewer's comment: </b> Additional links:\n",
    "    <ul>\n",
    "        <li>SHAP model explainer: <a>https://github.com/slundberg/shap</a></li>\n",
    "        <li>Eli5 model explainer: <a>https://eli5.readthedocs.io/en/latest/</a></li>\n",
    "        <li>Linear regression from scratch: <a>https://medium.com/analytics-vidhya/implementing-linear-regression-using-sklearn-76264a3c073c</a></li>\n",
    "        <li>TPOT - generic autoML assistant tool: <a>https://github.com/EpistasisLab/tpot/</a></li>\n",
    "    </ul>\n",
    "</div>"
   ]
  },
  {
   "cell_type": "markdown",
   "id": "6af27aeb",
   "metadata": {},
   "source": [
    "---"
   ]
  },
  {
   "cell_type": "markdown",
   "id": "8c10a0a5",
   "metadata": {},
   "source": [
    "# project Description\n",
    "Build a model that would predict the amount of gold recovered from gold ore for Zyfra using three datasets;\n",
    " * gold_recovery_train.csv \n",
    " * gold_recovery_test.csv \n",
    " * gold_recovery_full.csv"
   ]
  },
  {
   "cell_type": "markdown",
   "id": "40346e67",
   "metadata": {},
   "source": [
    "# Business Goal\n",
    "\n",
    "1. Check that recovery is calculated correctly. Using the training set, calculate recovery for the rougher.output.recovery feature. Find the MAE between the calculations and the feature values. Provide findings.\n",
    "2. Analyze the features not available in the test set. What are these parameters? What is their type?\n",
    "3. Take note of how the concentrations of metals (Au, Ag, Pb) change depending on the purification stage.\n",
    "4. Compare the feed particle size distributions in the training set and in the test set. If the distributions vary significantly, the model evaluation will be incorrect.\n",
    "5. Consider the total concentrations of all substances at different stages: raw feed, rougher concentrate, and final concentrate. Do you notice any abnormal values in the total distribution? If you do, is it worth removing such values from both samples? Describe the findings and eliminate anomalies.\n",
    "6. Write a function to calculate the final sMAPE value.\n",
    "7. Train different models. Evaluate them using cross-validation. Pick the best model and test it using the test sample. Provide findings.\n"
   ]
  },
  {
   "cell_type": "markdown",
   "id": "5cc819f1",
   "metadata": {},
   "source": [
    "<div class=\"alert alert-success\">\n",
    "<b>Reviewer's comment:</b> Nice plan, let's start 💪 \n",
    "</div>"
   ]
  },
  {
   "cell_type": "code",
   "execution_count": 1,
   "id": "d7aed78a",
   "metadata": {
    "ExecuteTime": {
     "end_time": "2021-09-10T18:22:49.483037Z",
     "start_time": "2021-09-10T18:22:47.093765Z"
    }
   },
   "outputs": [],
   "source": [
    "import pandas as pd \n",
    "import numpy as np\n",
    "import matplotlib.pyplot as plt\n",
    "%matplotlib inline\n",
    "import seaborn as sns\n",
    "from sklearn.preprocessing import StandardScaler\n",
    "from sklearn.metrics import make_scorer,mean_absolute_error\n",
    "from sklearn.linear_model import LinearRegression\n",
    "from sklearn.model_selection import GridSearchCV, cross_val_score\n",
    "from sklearn.tree import DecisionTreeRegressor\n",
    "from sklearn.ensemble import RandomForestRegressor\n",
    "from scipy import stats as st \n",
    "from sklearn.dummy import DummyRegressor"
   ]
  },
  {
   "cell_type": "code",
   "execution_count": 2,
   "id": "49b47484",
   "metadata": {
    "ExecuteTime": {
     "end_time": "2021-09-10T18:22:50.813840Z",
     "start_time": "2021-09-10T18:22:50.798859Z"
    }
   },
   "outputs": [],
   "source": [
    "def data_info(df):\n",
    "    print('Head:')\n",
    "    display(df)\n",
    "    print('-END--')\n",
    "    print('Info:')\n",
    "    display(df.info())\n",
    "    print('-END--')\n",
    "    print('Percentage Null:')\n",
    "    display(df.isnull().sum()/df.shape[0])\n",
    "    print('-END--')\n",
    "    print('Duplicated:')\n",
    "    display(df.duplicated().sum())\n",
    "\n",
    "def col_str(df, string):\n",
    "    \"\"\"This function takes the dataframe and sring being searched \n",
    "        for and returns all columns with the string.\"\"\"\n",
    "    cols = [col for col in df.columns if string in col]\n",
    "    return df[cols]\n",
    "\n",
    "def metal_contrate(df, metal, rougher, feed, stage):\n",
    "    \"\"\" It takes five variable from the dataframe to results from string search,\n",
    "        metal type etc and returns the sum of the columns. \"\"\"\n",
    "    rougher_df = col_str(gold_train,metal)\n",
    "    rougher_df = col_str(rougher_df,rougher)\n",
    "    rougher_df = col_str(rougher_df,feed)\n",
    "    rougher_df = col_str(rougher_df,stage)\n",
    "    total = rougher_df.sum()\n",
    "    return total[0]\n",
    "\n",
    "def smape(y_true, y_pred):\n",
    "    \"\"\"It takes the actual and predicted values and returns \n",
    "        the mean based on the descided formula\"\"\"\n",
    "    frac = np.divide(np.abs(y_true - y_pred), (np.abs(y_true)+np.abs(y_pred))/2)\n",
    "    return np.average(frac, axis=0)\n",
    "\n",
    "def smape_final(y_true,y_pred):\n",
    "    \"\"\"It takes the actual and predicted values and returns \n",
    "        the sum based on the ratios of the two outputs.\"\"\"\n",
    "    smape_out_rougher = smape(y_true[target.index('rougher.output.recovery')], \n",
    "                              y_pred[target.index('rougher.output.recovery')])\n",
    "    smape_out_final = smape(y_true[target.index('final.output.recovery')],\n",
    "                            y_pred[target.index('final.output.recovery')])\n",
    "    return 0.25*smape_out_rougher + 0.75*smape_out_final\n",
    "\n",
    "\n",
    "def liner_reg(x_train, x_test,y_train, y_test):\n",
    "    \"\"\"Based on linearRegression, the function takes the datasets for training and \n",
    "        testing and returns the smape mean after scaling and training of the model.\"\"\"\n",
    "    scaler = StandardScaler()\n",
    "    scaler.fit(x_train)\n",
    "    x_train = scaler.transform(x_train)\n",
    "    x_test = scaler.transform(x_test)\n",
    "    lr = LinearRegression().fit(x_train,y_train)\n",
    "    predicted_values = lr.predict(x_test)\n",
    "    smape = cross_val_score(lr, x_train,y_train,cv=5,scoring=smape_score)\n",
    "    print('Mean smape:', smape.mean())\n",
    "    print('Smape:', smape)\n",
    "    \n",
    "\n",
    "def DecisionTreeReg(x_train, x_test,y_train, y_test):\n",
    "    \"\"\"Based on Decision Tree, the function takes the features and target sets. \n",
    "        It searches and uses best parameters for the mean smape.\"\"\"\n",
    "    params = {'min_samples_split': range(2, 10, 2), 'max_depth': range(4,8,2)}\n",
    "    g_cv = GridSearchCV(DecisionTreeRegressor(random_state=123),\n",
    "                        param_grid=params,scoring=smape_score, cv=5,refit=True)\n",
    "    g_cv.fit(x_train, y_train)\n",
    "    best_params = g_cv.best_params_\n",
    "    dtr = DecisionTreeRegressor(**best_params).fit(x_train, y_train)\n",
    "    scores_dtr = cross_val_score(dtr, x_train, y_train, cv=5, scoring=smape_score)\n",
    "    print('Mean smape:', scores_dtr.mean())\n",
    "    print('Accuracy:', g_cv.score(x_test,y_test))\n",
    "    print('Smape:', scores_dtr) \n",
    "    print('Best params:',best_params)\n",
    "    \n",
    "def RandomForestReg(x_train, x_test,y_train, y_test):\n",
    "    \"\"\"Based on RandomForest, the function takes the features and target sets. \n",
    "        It searches and uses best parameters for the mean smape.\"\"\"\n",
    "    params = {'min_samples_split': range(2, 10, 2), \n",
    "              'max_depth': range(4,8,2), 'n_estimators':range(1,50,10)}\n",
    "    g_cv = GridSearchCV(RandomForestRegressor(random_state=123),\n",
    "                        param_grid=params,scoring=smape_score, cv=5,refit=True)\n",
    "    g_cv.fit(x_train, y_train)\n",
    "    best_params = g_cv.best_params_\n",
    "    rtr = RandomForestRegressor(**best_params).fit(x_train, y_train)\n",
    "    scores_dtr = cross_val_score(rtr, x_train, y_train, cv=5, scoring=smape_score)\n",
    "    print('Mean smape:', scores_dtr.mean())\n",
    "    print('Accuracy:', g_cv.score(x_test,y_test))\n",
    "    print('Smape:', scores_dtr)\n",
    "    print('Best params:',best_params)\n"
   ]
  },
  {
   "cell_type": "markdown",
   "id": "9671c587",
   "metadata": {},
   "source": [
    "<div class=\"alert alert-success\">\n",
    "<b>Reviewer's comment:</b> Great that you store all helper functions in a separate cell. \n",
    "</div>"
   ]
  },
  {
   "cell_type": "code",
   "execution_count": 3,
   "id": "ad4af78c",
   "metadata": {
    "ExecuteTime": {
     "end_time": "2021-09-10T18:23:19.882858Z",
     "start_time": "2021-09-10T18:22:53.313863Z"
    }
   },
   "outputs": [],
   "source": [
    "try:\n",
    "    gold_train = pd.read_csv('https://code.s3.yandex.net/datasets/gold_recovery_train.csv')\n",
    "    gold_test = pd.read_csv('https://code.s3.yandex.net/datasets/gold_recovery_test.csv')\n",
    "    gold_full = pd.read_csv('https://code.s3.yandex.net/datasets/gold_recovery_full.csv')\n",
    "except:\n",
    "    gold_train = pd.read_csv('https://code.s3.yandex.net/datasets/gold_recovery_train.csv')\n",
    "    gold_test = pd.read_csv('https://code.s3.yandex.net/datasets/gold_recovery_test.csv')\n",
    "    gold_full = pd.read_csv('https://code.s3.yandex.net/datasets/gold_recovery_full.csv')"
   ]
  },
  {
   "cell_type": "markdown",
   "id": "92d8ca24",
   "metadata": {},
   "source": [
    "## Preprocessing"
   ]
  },
  {
   "cell_type": "code",
   "execution_count": 4,
   "id": "195e5f5a",
   "metadata": {
    "ExecuteTime": {
     "end_time": "2021-09-10T18:23:20.054353Z",
     "start_time": "2021-09-10T18:23:19.884932Z"
    }
   },
   "outputs": [
    {
     "name": "stdout",
     "output_type": "stream",
     "text": [
      "Head:\n"
     ]
    },
    {
     "data": {
      "text/html": [
       "<div>\n",
       "<style scoped>\n",
       "    .dataframe tbody tr th:only-of-type {\n",
       "        vertical-align: middle;\n",
       "    }\n",
       "\n",
       "    .dataframe tbody tr th {\n",
       "        vertical-align: top;\n",
       "    }\n",
       "\n",
       "    .dataframe thead th {\n",
       "        text-align: right;\n",
       "    }\n",
       "</style>\n",
       "<table border=\"1\" class=\"dataframe\">\n",
       "  <thead>\n",
       "    <tr style=\"text-align: right;\">\n",
       "      <th></th>\n",
       "      <th>date</th>\n",
       "      <th>final.output.concentrate_ag</th>\n",
       "      <th>final.output.concentrate_pb</th>\n",
       "      <th>final.output.concentrate_sol</th>\n",
       "      <th>final.output.concentrate_au</th>\n",
       "      <th>final.output.recovery</th>\n",
       "      <th>final.output.tail_ag</th>\n",
       "      <th>final.output.tail_pb</th>\n",
       "      <th>final.output.tail_sol</th>\n",
       "      <th>final.output.tail_au</th>\n",
       "      <th>...</th>\n",
       "      <th>secondary_cleaner.state.floatbank4_a_air</th>\n",
       "      <th>secondary_cleaner.state.floatbank4_a_level</th>\n",
       "      <th>secondary_cleaner.state.floatbank4_b_air</th>\n",
       "      <th>secondary_cleaner.state.floatbank4_b_level</th>\n",
       "      <th>secondary_cleaner.state.floatbank5_a_air</th>\n",
       "      <th>secondary_cleaner.state.floatbank5_a_level</th>\n",
       "      <th>secondary_cleaner.state.floatbank5_b_air</th>\n",
       "      <th>secondary_cleaner.state.floatbank5_b_level</th>\n",
       "      <th>secondary_cleaner.state.floatbank6_a_air</th>\n",
       "      <th>secondary_cleaner.state.floatbank6_a_level</th>\n",
       "    </tr>\n",
       "  </thead>\n",
       "  <tbody>\n",
       "    <tr>\n",
       "      <th>0</th>\n",
       "      <td>2016-01-15 00:00:00</td>\n",
       "      <td>6.055403</td>\n",
       "      <td>9.889648</td>\n",
       "      <td>5.507324</td>\n",
       "      <td>42.192020</td>\n",
       "      <td>70.541216</td>\n",
       "      <td>10.411962</td>\n",
       "      <td>0.895447</td>\n",
       "      <td>16.904297</td>\n",
       "      <td>2.143149</td>\n",
       "      <td>...</td>\n",
       "      <td>14.016835</td>\n",
       "      <td>-502.488007</td>\n",
       "      <td>12.099931</td>\n",
       "      <td>-504.715942</td>\n",
       "      <td>9.925633</td>\n",
       "      <td>-498.310211</td>\n",
       "      <td>8.079666</td>\n",
       "      <td>-500.470978</td>\n",
       "      <td>14.151341</td>\n",
       "      <td>-605.841980</td>\n",
       "    </tr>\n",
       "    <tr>\n",
       "      <th>1</th>\n",
       "      <td>2016-01-15 01:00:00</td>\n",
       "      <td>6.029369</td>\n",
       "      <td>9.968944</td>\n",
       "      <td>5.257781</td>\n",
       "      <td>42.701629</td>\n",
       "      <td>69.266198</td>\n",
       "      <td>10.462676</td>\n",
       "      <td>0.927452</td>\n",
       "      <td>16.634514</td>\n",
       "      <td>2.224930</td>\n",
       "      <td>...</td>\n",
       "      <td>13.992281</td>\n",
       "      <td>-505.503262</td>\n",
       "      <td>11.950531</td>\n",
       "      <td>-501.331529</td>\n",
       "      <td>10.039245</td>\n",
       "      <td>-500.169983</td>\n",
       "      <td>7.984757</td>\n",
       "      <td>-500.582168</td>\n",
       "      <td>13.998353</td>\n",
       "      <td>-599.787184</td>\n",
       "    </tr>\n",
       "    <tr>\n",
       "      <th>2</th>\n",
       "      <td>2016-01-15 02:00:00</td>\n",
       "      <td>6.055926</td>\n",
       "      <td>10.213995</td>\n",
       "      <td>5.383759</td>\n",
       "      <td>42.657501</td>\n",
       "      <td>68.116445</td>\n",
       "      <td>10.507046</td>\n",
       "      <td>0.953716</td>\n",
       "      <td>16.208849</td>\n",
       "      <td>2.257889</td>\n",
       "      <td>...</td>\n",
       "      <td>14.015015</td>\n",
       "      <td>-502.520901</td>\n",
       "      <td>11.912783</td>\n",
       "      <td>-501.133383</td>\n",
       "      <td>10.070913</td>\n",
       "      <td>-500.129135</td>\n",
       "      <td>8.013877</td>\n",
       "      <td>-500.517572</td>\n",
       "      <td>14.028663</td>\n",
       "      <td>-601.427363</td>\n",
       "    </tr>\n",
       "    <tr>\n",
       "      <th>3</th>\n",
       "      <td>2016-01-15 03:00:00</td>\n",
       "      <td>6.047977</td>\n",
       "      <td>9.977019</td>\n",
       "      <td>4.858634</td>\n",
       "      <td>42.689819</td>\n",
       "      <td>68.347543</td>\n",
       "      <td>10.422762</td>\n",
       "      <td>0.883763</td>\n",
       "      <td>16.532835</td>\n",
       "      <td>2.146849</td>\n",
       "      <td>...</td>\n",
       "      <td>14.036510</td>\n",
       "      <td>-500.857308</td>\n",
       "      <td>11.999550</td>\n",
       "      <td>-501.193686</td>\n",
       "      <td>9.970366</td>\n",
       "      <td>-499.201640</td>\n",
       "      <td>7.977324</td>\n",
       "      <td>-500.255908</td>\n",
       "      <td>14.005551</td>\n",
       "      <td>-599.996129</td>\n",
       "    </tr>\n",
       "    <tr>\n",
       "      <th>4</th>\n",
       "      <td>2016-01-15 04:00:00</td>\n",
       "      <td>6.148599</td>\n",
       "      <td>10.142511</td>\n",
       "      <td>4.939416</td>\n",
       "      <td>42.774141</td>\n",
       "      <td>66.927016</td>\n",
       "      <td>10.360302</td>\n",
       "      <td>0.792826</td>\n",
       "      <td>16.525686</td>\n",
       "      <td>2.055292</td>\n",
       "      <td>...</td>\n",
       "      <td>14.027298</td>\n",
       "      <td>-499.838632</td>\n",
       "      <td>11.953070</td>\n",
       "      <td>-501.053894</td>\n",
       "      <td>9.925709</td>\n",
       "      <td>-501.686727</td>\n",
       "      <td>7.894242</td>\n",
       "      <td>-500.356035</td>\n",
       "      <td>13.996647</td>\n",
       "      <td>-601.496691</td>\n",
       "    </tr>\n",
       "    <tr>\n",
       "      <th>...</th>\n",
       "      <td>...</td>\n",
       "      <td>...</td>\n",
       "      <td>...</td>\n",
       "      <td>...</td>\n",
       "      <td>...</td>\n",
       "      <td>...</td>\n",
       "      <td>...</td>\n",
       "      <td>...</td>\n",
       "      <td>...</td>\n",
       "      <td>...</td>\n",
       "      <td>...</td>\n",
       "      <td>...</td>\n",
       "      <td>...</td>\n",
       "      <td>...</td>\n",
       "      <td>...</td>\n",
       "      <td>...</td>\n",
       "      <td>...</td>\n",
       "      <td>...</td>\n",
       "      <td>...</td>\n",
       "      <td>...</td>\n",
       "      <td>...</td>\n",
       "    </tr>\n",
       "    <tr>\n",
       "      <th>16855</th>\n",
       "      <td>2018-08-18 06:59:59</td>\n",
       "      <td>3.224920</td>\n",
       "      <td>11.356233</td>\n",
       "      <td>6.803482</td>\n",
       "      <td>46.713954</td>\n",
       "      <td>73.755150</td>\n",
       "      <td>8.769645</td>\n",
       "      <td>3.141541</td>\n",
       "      <td>10.403181</td>\n",
       "      <td>1.529220</td>\n",
       "      <td>...</td>\n",
       "      <td>23.031497</td>\n",
       "      <td>-501.167942</td>\n",
       "      <td>20.007571</td>\n",
       "      <td>-499.740028</td>\n",
       "      <td>18.006038</td>\n",
       "      <td>-499.834374</td>\n",
       "      <td>13.001114</td>\n",
       "      <td>-500.155694</td>\n",
       "      <td>20.007840</td>\n",
       "      <td>-501.296428</td>\n",
       "    </tr>\n",
       "    <tr>\n",
       "      <th>16856</th>\n",
       "      <td>2018-08-18 07:59:59</td>\n",
       "      <td>3.195978</td>\n",
       "      <td>11.349355</td>\n",
       "      <td>6.862249</td>\n",
       "      <td>46.866780</td>\n",
       "      <td>69.049291</td>\n",
       "      <td>8.897321</td>\n",
       "      <td>3.130493</td>\n",
       "      <td>10.549470</td>\n",
       "      <td>1.612542</td>\n",
       "      <td>...</td>\n",
       "      <td>22.960095</td>\n",
       "      <td>-501.612783</td>\n",
       "      <td>20.035660</td>\n",
       "      <td>-500.251357</td>\n",
       "      <td>17.998535</td>\n",
       "      <td>-500.395178</td>\n",
       "      <td>12.954048</td>\n",
       "      <td>-499.895163</td>\n",
       "      <td>19.968498</td>\n",
       "      <td>-501.041608</td>\n",
       "    </tr>\n",
       "    <tr>\n",
       "      <th>16857</th>\n",
       "      <td>2018-08-18 08:59:59</td>\n",
       "      <td>3.109998</td>\n",
       "      <td>11.434366</td>\n",
       "      <td>6.886013</td>\n",
       "      <td>46.795691</td>\n",
       "      <td>67.002189</td>\n",
       "      <td>8.529606</td>\n",
       "      <td>2.911418</td>\n",
       "      <td>11.115147</td>\n",
       "      <td>1.596616</td>\n",
       "      <td>...</td>\n",
       "      <td>23.015718</td>\n",
       "      <td>-501.711599</td>\n",
       "      <td>19.951231</td>\n",
       "      <td>-499.857027</td>\n",
       "      <td>18.019543</td>\n",
       "      <td>-500.451156</td>\n",
       "      <td>13.023431</td>\n",
       "      <td>-499.914391</td>\n",
       "      <td>19.990885</td>\n",
       "      <td>-501.518452</td>\n",
       "    </tr>\n",
       "    <tr>\n",
       "      <th>16858</th>\n",
       "      <td>2018-08-18 09:59:59</td>\n",
       "      <td>3.367241</td>\n",
       "      <td>11.625587</td>\n",
       "      <td>6.799433</td>\n",
       "      <td>46.408188</td>\n",
       "      <td>65.523246</td>\n",
       "      <td>8.777171</td>\n",
       "      <td>2.819214</td>\n",
       "      <td>10.463847</td>\n",
       "      <td>1.602879</td>\n",
       "      <td>...</td>\n",
       "      <td>23.024963</td>\n",
       "      <td>-501.153409</td>\n",
       "      <td>20.054122</td>\n",
       "      <td>-500.314711</td>\n",
       "      <td>17.979515</td>\n",
       "      <td>-499.272871</td>\n",
       "      <td>12.992404</td>\n",
       "      <td>-499.976268</td>\n",
       "      <td>20.013986</td>\n",
       "      <td>-500.625471</td>\n",
       "    </tr>\n",
       "    <tr>\n",
       "      <th>16859</th>\n",
       "      <td>2018-08-18 10:59:59</td>\n",
       "      <td>3.598375</td>\n",
       "      <td>11.737832</td>\n",
       "      <td>6.717509</td>\n",
       "      <td>46.299438</td>\n",
       "      <td>70.281454</td>\n",
       "      <td>8.406690</td>\n",
       "      <td>2.517518</td>\n",
       "      <td>10.652193</td>\n",
       "      <td>1.389434</td>\n",
       "      <td>...</td>\n",
       "      <td>23.018622</td>\n",
       "      <td>-500.492702</td>\n",
       "      <td>20.020205</td>\n",
       "      <td>-500.220296</td>\n",
       "      <td>17.963512</td>\n",
       "      <td>-499.939490</td>\n",
       "      <td>12.990306</td>\n",
       "      <td>-500.080993</td>\n",
       "      <td>19.990336</td>\n",
       "      <td>-499.191575</td>\n",
       "    </tr>\n",
       "  </tbody>\n",
       "</table>\n",
       "<p>16860 rows × 87 columns</p>\n",
       "</div>"
      ],
      "text/plain": [
       "                      date  final.output.concentrate_ag  \\\n",
       "0      2016-01-15 00:00:00                     6.055403   \n",
       "1      2016-01-15 01:00:00                     6.029369   \n",
       "2      2016-01-15 02:00:00                     6.055926   \n",
       "3      2016-01-15 03:00:00                     6.047977   \n",
       "4      2016-01-15 04:00:00                     6.148599   \n",
       "...                    ...                          ...   \n",
       "16855  2018-08-18 06:59:59                     3.224920   \n",
       "16856  2018-08-18 07:59:59                     3.195978   \n",
       "16857  2018-08-18 08:59:59                     3.109998   \n",
       "16858  2018-08-18 09:59:59                     3.367241   \n",
       "16859  2018-08-18 10:59:59                     3.598375   \n",
       "\n",
       "       final.output.concentrate_pb  final.output.concentrate_sol  \\\n",
       "0                         9.889648                      5.507324   \n",
       "1                         9.968944                      5.257781   \n",
       "2                        10.213995                      5.383759   \n",
       "3                         9.977019                      4.858634   \n",
       "4                        10.142511                      4.939416   \n",
       "...                            ...                           ...   \n",
       "16855                    11.356233                      6.803482   \n",
       "16856                    11.349355                      6.862249   \n",
       "16857                    11.434366                      6.886013   \n",
       "16858                    11.625587                      6.799433   \n",
       "16859                    11.737832                      6.717509   \n",
       "\n",
       "       final.output.concentrate_au  final.output.recovery  \\\n",
       "0                        42.192020              70.541216   \n",
       "1                        42.701629              69.266198   \n",
       "2                        42.657501              68.116445   \n",
       "3                        42.689819              68.347543   \n",
       "4                        42.774141              66.927016   \n",
       "...                            ...                    ...   \n",
       "16855                    46.713954              73.755150   \n",
       "16856                    46.866780              69.049291   \n",
       "16857                    46.795691              67.002189   \n",
       "16858                    46.408188              65.523246   \n",
       "16859                    46.299438              70.281454   \n",
       "\n",
       "       final.output.tail_ag  final.output.tail_pb  final.output.tail_sol  \\\n",
       "0                 10.411962              0.895447              16.904297   \n",
       "1                 10.462676              0.927452              16.634514   \n",
       "2                 10.507046              0.953716              16.208849   \n",
       "3                 10.422762              0.883763              16.532835   \n",
       "4                 10.360302              0.792826              16.525686   \n",
       "...                     ...                   ...                    ...   \n",
       "16855              8.769645              3.141541              10.403181   \n",
       "16856              8.897321              3.130493              10.549470   \n",
       "16857              8.529606              2.911418              11.115147   \n",
       "16858              8.777171              2.819214              10.463847   \n",
       "16859              8.406690              2.517518              10.652193   \n",
       "\n",
       "       final.output.tail_au  ...  secondary_cleaner.state.floatbank4_a_air  \\\n",
       "0                  2.143149  ...                                 14.016835   \n",
       "1                  2.224930  ...                                 13.992281   \n",
       "2                  2.257889  ...                                 14.015015   \n",
       "3                  2.146849  ...                                 14.036510   \n",
       "4                  2.055292  ...                                 14.027298   \n",
       "...                     ...  ...                                       ...   \n",
       "16855              1.529220  ...                                 23.031497   \n",
       "16856              1.612542  ...                                 22.960095   \n",
       "16857              1.596616  ...                                 23.015718   \n",
       "16858              1.602879  ...                                 23.024963   \n",
       "16859              1.389434  ...                                 23.018622   \n",
       "\n",
       "       secondary_cleaner.state.floatbank4_a_level  \\\n",
       "0                                     -502.488007   \n",
       "1                                     -505.503262   \n",
       "2                                     -502.520901   \n",
       "3                                     -500.857308   \n",
       "4                                     -499.838632   \n",
       "...                                           ...   \n",
       "16855                                 -501.167942   \n",
       "16856                                 -501.612783   \n",
       "16857                                 -501.711599   \n",
       "16858                                 -501.153409   \n",
       "16859                                 -500.492702   \n",
       "\n",
       "       secondary_cleaner.state.floatbank4_b_air  \\\n",
       "0                                     12.099931   \n",
       "1                                     11.950531   \n",
       "2                                     11.912783   \n",
       "3                                     11.999550   \n",
       "4                                     11.953070   \n",
       "...                                         ...   \n",
       "16855                                 20.007571   \n",
       "16856                                 20.035660   \n",
       "16857                                 19.951231   \n",
       "16858                                 20.054122   \n",
       "16859                                 20.020205   \n",
       "\n",
       "       secondary_cleaner.state.floatbank4_b_level  \\\n",
       "0                                     -504.715942   \n",
       "1                                     -501.331529   \n",
       "2                                     -501.133383   \n",
       "3                                     -501.193686   \n",
       "4                                     -501.053894   \n",
       "...                                           ...   \n",
       "16855                                 -499.740028   \n",
       "16856                                 -500.251357   \n",
       "16857                                 -499.857027   \n",
       "16858                                 -500.314711   \n",
       "16859                                 -500.220296   \n",
       "\n",
       "       secondary_cleaner.state.floatbank5_a_air  \\\n",
       "0                                      9.925633   \n",
       "1                                     10.039245   \n",
       "2                                     10.070913   \n",
       "3                                      9.970366   \n",
       "4                                      9.925709   \n",
       "...                                         ...   \n",
       "16855                                 18.006038   \n",
       "16856                                 17.998535   \n",
       "16857                                 18.019543   \n",
       "16858                                 17.979515   \n",
       "16859                                 17.963512   \n",
       "\n",
       "       secondary_cleaner.state.floatbank5_a_level  \\\n",
       "0                                     -498.310211   \n",
       "1                                     -500.169983   \n",
       "2                                     -500.129135   \n",
       "3                                     -499.201640   \n",
       "4                                     -501.686727   \n",
       "...                                           ...   \n",
       "16855                                 -499.834374   \n",
       "16856                                 -500.395178   \n",
       "16857                                 -500.451156   \n",
       "16858                                 -499.272871   \n",
       "16859                                 -499.939490   \n",
       "\n",
       "       secondary_cleaner.state.floatbank5_b_air  \\\n",
       "0                                      8.079666   \n",
       "1                                      7.984757   \n",
       "2                                      8.013877   \n",
       "3                                      7.977324   \n",
       "4                                      7.894242   \n",
       "...                                         ...   \n",
       "16855                                 13.001114   \n",
       "16856                                 12.954048   \n",
       "16857                                 13.023431   \n",
       "16858                                 12.992404   \n",
       "16859                                 12.990306   \n",
       "\n",
       "       secondary_cleaner.state.floatbank5_b_level  \\\n",
       "0                                     -500.470978   \n",
       "1                                     -500.582168   \n",
       "2                                     -500.517572   \n",
       "3                                     -500.255908   \n",
       "4                                     -500.356035   \n",
       "...                                           ...   \n",
       "16855                                 -500.155694   \n",
       "16856                                 -499.895163   \n",
       "16857                                 -499.914391   \n",
       "16858                                 -499.976268   \n",
       "16859                                 -500.080993   \n",
       "\n",
       "       secondary_cleaner.state.floatbank6_a_air  \\\n",
       "0                                     14.151341   \n",
       "1                                     13.998353   \n",
       "2                                     14.028663   \n",
       "3                                     14.005551   \n",
       "4                                     13.996647   \n",
       "...                                         ...   \n",
       "16855                                 20.007840   \n",
       "16856                                 19.968498   \n",
       "16857                                 19.990885   \n",
       "16858                                 20.013986   \n",
       "16859                                 19.990336   \n",
       "\n",
       "       secondary_cleaner.state.floatbank6_a_level  \n",
       "0                                     -605.841980  \n",
       "1                                     -599.787184  \n",
       "2                                     -601.427363  \n",
       "3                                     -599.996129  \n",
       "4                                     -601.496691  \n",
       "...                                           ...  \n",
       "16855                                 -501.296428  \n",
       "16856                                 -501.041608  \n",
       "16857                                 -501.518452  \n",
       "16858                                 -500.625471  \n",
       "16859                                 -499.191575  \n",
       "\n",
       "[16860 rows x 87 columns]"
      ]
     },
     "metadata": {},
     "output_type": "display_data"
    },
    {
     "name": "stdout",
     "output_type": "stream",
     "text": [
      "-END--\n",
      "Info:\n",
      "<class 'pandas.core.frame.DataFrame'>\n",
      "RangeIndex: 16860 entries, 0 to 16859\n",
      "Data columns (total 87 columns):\n",
      " #   Column                                              Non-Null Count  Dtype  \n",
      "---  ------                                              --------------  -----  \n",
      " 0   date                                                16860 non-null  object \n",
      " 1   final.output.concentrate_ag                         16788 non-null  float64\n",
      " 2   final.output.concentrate_pb                         16788 non-null  float64\n",
      " 3   final.output.concentrate_sol                        16490 non-null  float64\n",
      " 4   final.output.concentrate_au                         16789 non-null  float64\n",
      " 5   final.output.recovery                               15339 non-null  float64\n",
      " 6   final.output.tail_ag                                16794 non-null  float64\n",
      " 7   final.output.tail_pb                                16677 non-null  float64\n",
      " 8   final.output.tail_sol                               16715 non-null  float64\n",
      " 9   final.output.tail_au                                16794 non-null  float64\n",
      " 10  primary_cleaner.input.sulfate                       15553 non-null  float64\n",
      " 11  primary_cleaner.input.depressant                    15598 non-null  float64\n",
      " 12  primary_cleaner.input.feed_size                     16860 non-null  float64\n",
      " 13  primary_cleaner.input.xanthate                      15875 non-null  float64\n",
      " 14  primary_cleaner.output.concentrate_ag               16778 non-null  float64\n",
      " 15  primary_cleaner.output.concentrate_pb               16502 non-null  float64\n",
      " 16  primary_cleaner.output.concentrate_sol              16224 non-null  float64\n",
      " 17  primary_cleaner.output.concentrate_au               16778 non-null  float64\n",
      " 18  primary_cleaner.output.tail_ag                      16777 non-null  float64\n",
      " 19  primary_cleaner.output.tail_pb                      16761 non-null  float64\n",
      " 20  primary_cleaner.output.tail_sol                     16579 non-null  float64\n",
      " 21  primary_cleaner.output.tail_au                      16777 non-null  float64\n",
      " 22  primary_cleaner.state.floatbank8_a_air              16820 non-null  float64\n",
      " 23  primary_cleaner.state.floatbank8_a_level            16827 non-null  float64\n",
      " 24  primary_cleaner.state.floatbank8_b_air              16820 non-null  float64\n",
      " 25  primary_cleaner.state.floatbank8_b_level            16833 non-null  float64\n",
      " 26  primary_cleaner.state.floatbank8_c_air              16822 non-null  float64\n",
      " 27  primary_cleaner.state.floatbank8_c_level            16833 non-null  float64\n",
      " 28  primary_cleaner.state.floatbank8_d_air              16821 non-null  float64\n",
      " 29  primary_cleaner.state.floatbank8_d_level            16833 non-null  float64\n",
      " 30  rougher.calculation.sulfate_to_au_concentrate       16833 non-null  float64\n",
      " 31  rougher.calculation.floatbank10_sulfate_to_au_feed  16833 non-null  float64\n",
      " 32  rougher.calculation.floatbank11_sulfate_to_au_feed  16833 non-null  float64\n",
      " 33  rougher.calculation.au_pb_ratio                     15618 non-null  float64\n",
      " 34  rougher.input.feed_ag                               16778 non-null  float64\n",
      " 35  rougher.input.feed_pb                               16632 non-null  float64\n",
      " 36  rougher.input.feed_rate                             16347 non-null  float64\n",
      " 37  rougher.input.feed_size                             16443 non-null  float64\n",
      " 38  rougher.input.feed_sol                              16568 non-null  float64\n",
      " 39  rougher.input.feed_au                               16777 non-null  float64\n",
      " 40  rougher.input.floatbank10_sulfate                   15816 non-null  float64\n",
      " 41  rougher.input.floatbank10_xanthate                  16514 non-null  float64\n",
      " 42  rougher.input.floatbank11_sulfate                   16237 non-null  float64\n",
      " 43  rougher.input.floatbank11_xanthate                  14956 non-null  float64\n",
      " 44  rougher.output.concentrate_ag                       16778 non-null  float64\n",
      " 45  rougher.output.concentrate_pb                       16778 non-null  float64\n",
      " 46  rougher.output.concentrate_sol                      16698 non-null  float64\n",
      " 47  rougher.output.concentrate_au                       16778 non-null  float64\n",
      " 48  rougher.output.recovery                             14287 non-null  float64\n",
      " 49  rougher.output.tail_ag                              14610 non-null  float64\n",
      " 50  rougher.output.tail_pb                              16778 non-null  float64\n",
      " 51  rougher.output.tail_sol                             14611 non-null  float64\n",
      " 52  rougher.output.tail_au                              14611 non-null  float64\n",
      " 53  rougher.state.floatbank10_a_air                     16807 non-null  float64\n",
      " 54  rougher.state.floatbank10_a_level                   16807 non-null  float64\n",
      " 55  rougher.state.floatbank10_b_air                     16807 non-null  float64\n",
      " 56  rougher.state.floatbank10_b_level                   16807 non-null  float64\n",
      " 57  rougher.state.floatbank10_c_air                     16807 non-null  float64\n",
      " 58  rougher.state.floatbank10_c_level                   16814 non-null  float64\n",
      " 59  rougher.state.floatbank10_d_air                     16802 non-null  float64\n",
      " 60  rougher.state.floatbank10_d_level                   16809 non-null  float64\n",
      " 61  rougher.state.floatbank10_e_air                     16257 non-null  float64\n",
      " 62  rougher.state.floatbank10_e_level                   16809 non-null  float64\n",
      " 63  rougher.state.floatbank10_f_air                     16802 non-null  float64\n",
      " 64  rougher.state.floatbank10_f_level                   16802 non-null  float64\n",
      " 65  secondary_cleaner.output.tail_ag                    16776 non-null  float64\n",
      " 66  secondary_cleaner.output.tail_pb                    16764 non-null  float64\n",
      " 67  secondary_cleaner.output.tail_sol                   14874 non-null  float64\n",
      " 68  secondary_cleaner.output.tail_au                    16778 non-null  float64\n",
      " 69  secondary_cleaner.state.floatbank2_a_air            16497 non-null  float64\n",
      " 70  secondary_cleaner.state.floatbank2_a_level          16751 non-null  float64\n",
      " 71  secondary_cleaner.state.floatbank2_b_air            16705 non-null  float64\n",
      " 72  secondary_cleaner.state.floatbank2_b_level          16748 non-null  float64\n",
      " 73  secondary_cleaner.state.floatbank3_a_air            16763 non-null  float64\n",
      " 74  secondary_cleaner.state.floatbank3_a_level          16747 non-null  float64\n",
      " 75  secondary_cleaner.state.floatbank3_b_air            16752 non-null  float64\n",
      " 76  secondary_cleaner.state.floatbank3_b_level          16750 non-null  float64\n",
      " 77  secondary_cleaner.state.floatbank4_a_air            16731 non-null  float64\n",
      " 78  secondary_cleaner.state.floatbank4_a_level          16747 non-null  float64\n",
      " 79  secondary_cleaner.state.floatbank4_b_air            16768 non-null  float64\n",
      " 80  secondary_cleaner.state.floatbank4_b_level          16767 non-null  float64\n",
      " 81  secondary_cleaner.state.floatbank5_a_air            16775 non-null  float64\n",
      " 82  secondary_cleaner.state.floatbank5_a_level          16775 non-null  float64\n",
      " 83  secondary_cleaner.state.floatbank5_b_air            16775 non-null  float64\n",
      " 84  secondary_cleaner.state.floatbank5_b_level          16776 non-null  float64\n",
      " 85  secondary_cleaner.state.floatbank6_a_air            16757 non-null  float64\n",
      " 86  secondary_cleaner.state.floatbank6_a_level          16775 non-null  float64\n",
      "dtypes: float64(86), object(1)\n",
      "memory usage: 11.2+ MB\n"
     ]
    },
    {
     "data": {
      "text/plain": [
       "None"
      ]
     },
     "metadata": {},
     "output_type": "display_data"
    },
    {
     "name": "stdout",
     "output_type": "stream",
     "text": [
      "-END--\n",
      "Percentage Null:\n"
     ]
    },
    {
     "data": {
      "text/plain": [
       "date                                          0.000000\n",
       "final.output.concentrate_ag                   0.004270\n",
       "final.output.concentrate_pb                   0.004270\n",
       "final.output.concentrate_sol                  0.021945\n",
       "final.output.concentrate_au                   0.004211\n",
       "                                                ...   \n",
       "secondary_cleaner.state.floatbank5_a_level    0.005042\n",
       "secondary_cleaner.state.floatbank5_b_air      0.005042\n",
       "secondary_cleaner.state.floatbank5_b_level    0.004982\n",
       "secondary_cleaner.state.floatbank6_a_air      0.006109\n",
       "secondary_cleaner.state.floatbank6_a_level    0.005042\n",
       "Length: 87, dtype: float64"
      ]
     },
     "metadata": {},
     "output_type": "display_data"
    },
    {
     "name": "stdout",
     "output_type": "stream",
     "text": [
      "-END--\n",
      "Duplicated:\n"
     ]
    },
    {
     "data": {
      "text/plain": [
       "0"
      ]
     },
     "metadata": {},
     "output_type": "display_data"
    }
   ],
   "source": [
    "data_info(gold_train)"
   ]
  },
  {
   "cell_type": "code",
   "execution_count": 5,
   "id": "1279377e",
   "metadata": {
    "ExecuteTime": {
     "end_time": "2021-09-10T18:23:20.129933Z",
     "start_time": "2021-09-10T18:23:20.056919Z"
    }
   },
   "outputs": [
    {
     "name": "stdout",
     "output_type": "stream",
     "text": [
      "Head:\n"
     ]
    },
    {
     "data": {
      "text/html": [
       "<div>\n",
       "<style scoped>\n",
       "    .dataframe tbody tr th:only-of-type {\n",
       "        vertical-align: middle;\n",
       "    }\n",
       "\n",
       "    .dataframe tbody tr th {\n",
       "        vertical-align: top;\n",
       "    }\n",
       "\n",
       "    .dataframe thead th {\n",
       "        text-align: right;\n",
       "    }\n",
       "</style>\n",
       "<table border=\"1\" class=\"dataframe\">\n",
       "  <thead>\n",
       "    <tr style=\"text-align: right;\">\n",
       "      <th></th>\n",
       "      <th>date</th>\n",
       "      <th>primary_cleaner.input.sulfate</th>\n",
       "      <th>primary_cleaner.input.depressant</th>\n",
       "      <th>primary_cleaner.input.feed_size</th>\n",
       "      <th>primary_cleaner.input.xanthate</th>\n",
       "      <th>primary_cleaner.state.floatbank8_a_air</th>\n",
       "      <th>primary_cleaner.state.floatbank8_a_level</th>\n",
       "      <th>primary_cleaner.state.floatbank8_b_air</th>\n",
       "      <th>primary_cleaner.state.floatbank8_b_level</th>\n",
       "      <th>primary_cleaner.state.floatbank8_c_air</th>\n",
       "      <th>...</th>\n",
       "      <th>secondary_cleaner.state.floatbank4_a_air</th>\n",
       "      <th>secondary_cleaner.state.floatbank4_a_level</th>\n",
       "      <th>secondary_cleaner.state.floatbank4_b_air</th>\n",
       "      <th>secondary_cleaner.state.floatbank4_b_level</th>\n",
       "      <th>secondary_cleaner.state.floatbank5_a_air</th>\n",
       "      <th>secondary_cleaner.state.floatbank5_a_level</th>\n",
       "      <th>secondary_cleaner.state.floatbank5_b_air</th>\n",
       "      <th>secondary_cleaner.state.floatbank5_b_level</th>\n",
       "      <th>secondary_cleaner.state.floatbank6_a_air</th>\n",
       "      <th>secondary_cleaner.state.floatbank6_a_level</th>\n",
       "    </tr>\n",
       "  </thead>\n",
       "  <tbody>\n",
       "    <tr>\n",
       "      <th>0</th>\n",
       "      <td>2016-09-01 00:59:59</td>\n",
       "      <td>210.800909</td>\n",
       "      <td>14.993118</td>\n",
       "      <td>8.080000</td>\n",
       "      <td>1.005021</td>\n",
       "      <td>1398.981301</td>\n",
       "      <td>-500.225577</td>\n",
       "      <td>1399.144926</td>\n",
       "      <td>-499.919735</td>\n",
       "      <td>1400.102998</td>\n",
       "      <td>...</td>\n",
       "      <td>12.023554</td>\n",
       "      <td>-497.795834</td>\n",
       "      <td>8.016656</td>\n",
       "      <td>-501.289139</td>\n",
       "      <td>7.946562</td>\n",
       "      <td>-432.317850</td>\n",
       "      <td>4.872511</td>\n",
       "      <td>-500.037437</td>\n",
       "      <td>26.705889</td>\n",
       "      <td>-499.709414</td>\n",
       "    </tr>\n",
       "    <tr>\n",
       "      <th>1</th>\n",
       "      <td>2016-09-01 01:59:59</td>\n",
       "      <td>215.392455</td>\n",
       "      <td>14.987471</td>\n",
       "      <td>8.080000</td>\n",
       "      <td>0.990469</td>\n",
       "      <td>1398.777912</td>\n",
       "      <td>-500.057435</td>\n",
       "      <td>1398.055362</td>\n",
       "      <td>-499.778182</td>\n",
       "      <td>1396.151033</td>\n",
       "      <td>...</td>\n",
       "      <td>12.058140</td>\n",
       "      <td>-498.695773</td>\n",
       "      <td>8.130979</td>\n",
       "      <td>-499.634209</td>\n",
       "      <td>7.958270</td>\n",
       "      <td>-525.839648</td>\n",
       "      <td>4.878850</td>\n",
       "      <td>-500.162375</td>\n",
       "      <td>25.019940</td>\n",
       "      <td>-499.819438</td>\n",
       "    </tr>\n",
       "    <tr>\n",
       "      <th>2</th>\n",
       "      <td>2016-09-01 02:59:59</td>\n",
       "      <td>215.259946</td>\n",
       "      <td>12.884934</td>\n",
       "      <td>7.786667</td>\n",
       "      <td>0.996043</td>\n",
       "      <td>1398.493666</td>\n",
       "      <td>-500.868360</td>\n",
       "      <td>1398.860436</td>\n",
       "      <td>-499.764529</td>\n",
       "      <td>1398.075709</td>\n",
       "      <td>...</td>\n",
       "      <td>11.962366</td>\n",
       "      <td>-498.767484</td>\n",
       "      <td>8.096893</td>\n",
       "      <td>-500.827423</td>\n",
       "      <td>8.071056</td>\n",
       "      <td>-500.801673</td>\n",
       "      <td>4.905125</td>\n",
       "      <td>-499.828510</td>\n",
       "      <td>24.994862</td>\n",
       "      <td>-500.622559</td>\n",
       "    </tr>\n",
       "    <tr>\n",
       "      <th>3</th>\n",
       "      <td>2016-09-01 03:59:59</td>\n",
       "      <td>215.336236</td>\n",
       "      <td>12.006805</td>\n",
       "      <td>7.640000</td>\n",
       "      <td>0.863514</td>\n",
       "      <td>1399.618111</td>\n",
       "      <td>-498.863574</td>\n",
       "      <td>1397.440120</td>\n",
       "      <td>-499.211024</td>\n",
       "      <td>1400.129303</td>\n",
       "      <td>...</td>\n",
       "      <td>12.033091</td>\n",
       "      <td>-498.350935</td>\n",
       "      <td>8.074946</td>\n",
       "      <td>-499.474407</td>\n",
       "      <td>7.897085</td>\n",
       "      <td>-500.868509</td>\n",
       "      <td>4.931400</td>\n",
       "      <td>-499.963623</td>\n",
       "      <td>24.948919</td>\n",
       "      <td>-498.709987</td>\n",
       "    </tr>\n",
       "    <tr>\n",
       "      <th>4</th>\n",
       "      <td>2016-09-01 04:59:59</td>\n",
       "      <td>199.099327</td>\n",
       "      <td>10.682530</td>\n",
       "      <td>7.530000</td>\n",
       "      <td>0.805575</td>\n",
       "      <td>1401.268123</td>\n",
       "      <td>-500.808305</td>\n",
       "      <td>1398.128818</td>\n",
       "      <td>-499.504543</td>\n",
       "      <td>1402.172226</td>\n",
       "      <td>...</td>\n",
       "      <td>12.025367</td>\n",
       "      <td>-500.786497</td>\n",
       "      <td>8.054678</td>\n",
       "      <td>-500.397500</td>\n",
       "      <td>8.107890</td>\n",
       "      <td>-509.526725</td>\n",
       "      <td>4.957674</td>\n",
       "      <td>-500.360026</td>\n",
       "      <td>25.003331</td>\n",
       "      <td>-500.856333</td>\n",
       "    </tr>\n",
       "    <tr>\n",
       "      <th>...</th>\n",
       "      <td>...</td>\n",
       "      <td>...</td>\n",
       "      <td>...</td>\n",
       "      <td>...</td>\n",
       "      <td>...</td>\n",
       "      <td>...</td>\n",
       "      <td>...</td>\n",
       "      <td>...</td>\n",
       "      <td>...</td>\n",
       "      <td>...</td>\n",
       "      <td>...</td>\n",
       "      <td>...</td>\n",
       "      <td>...</td>\n",
       "      <td>...</td>\n",
       "      <td>...</td>\n",
       "      <td>...</td>\n",
       "      <td>...</td>\n",
       "      <td>...</td>\n",
       "      <td>...</td>\n",
       "      <td>...</td>\n",
       "      <td>...</td>\n",
       "    </tr>\n",
       "    <tr>\n",
       "      <th>5851</th>\n",
       "      <td>2017-12-31 19:59:59</td>\n",
       "      <td>173.957757</td>\n",
       "      <td>15.963399</td>\n",
       "      <td>8.070000</td>\n",
       "      <td>0.896701</td>\n",
       "      <td>1401.930554</td>\n",
       "      <td>-499.728848</td>\n",
       "      <td>1401.441445</td>\n",
       "      <td>-499.193423</td>\n",
       "      <td>1399.810313</td>\n",
       "      <td>...</td>\n",
       "      <td>13.995957</td>\n",
       "      <td>-500.157454</td>\n",
       "      <td>12.069155</td>\n",
       "      <td>-499.673279</td>\n",
       "      <td>7.977259</td>\n",
       "      <td>-499.516126</td>\n",
       "      <td>5.933319</td>\n",
       "      <td>-499.965973</td>\n",
       "      <td>8.987171</td>\n",
       "      <td>-499.755909</td>\n",
       "    </tr>\n",
       "    <tr>\n",
       "      <th>5852</th>\n",
       "      <td>2017-12-31 20:59:59</td>\n",
       "      <td>172.910270</td>\n",
       "      <td>16.002605</td>\n",
       "      <td>8.070000</td>\n",
       "      <td>0.896519</td>\n",
       "      <td>1447.075722</td>\n",
       "      <td>-494.716823</td>\n",
       "      <td>1448.851892</td>\n",
       "      <td>-465.963026</td>\n",
       "      <td>1443.890424</td>\n",
       "      <td>...</td>\n",
       "      <td>16.749781</td>\n",
       "      <td>-496.031539</td>\n",
       "      <td>13.365371</td>\n",
       "      <td>-499.122723</td>\n",
       "      <td>9.288553</td>\n",
       "      <td>-496.892967</td>\n",
       "      <td>7.372897</td>\n",
       "      <td>-499.942956</td>\n",
       "      <td>8.986832</td>\n",
       "      <td>-499.903761</td>\n",
       "    </tr>\n",
       "    <tr>\n",
       "      <th>5853</th>\n",
       "      <td>2017-12-31 21:59:59</td>\n",
       "      <td>171.135718</td>\n",
       "      <td>15.993669</td>\n",
       "      <td>8.070000</td>\n",
       "      <td>1.165996</td>\n",
       "      <td>1498.836182</td>\n",
       "      <td>-501.770403</td>\n",
       "      <td>1499.572353</td>\n",
       "      <td>-495.516347</td>\n",
       "      <td>1502.749213</td>\n",
       "      <td>...</td>\n",
       "      <td>19.994130</td>\n",
       "      <td>-499.791312</td>\n",
       "      <td>15.101425</td>\n",
       "      <td>-499.936252</td>\n",
       "      <td>10.989181</td>\n",
       "      <td>-498.347898</td>\n",
       "      <td>9.020944</td>\n",
       "      <td>-500.040448</td>\n",
       "      <td>8.982038</td>\n",
       "      <td>-497.789882</td>\n",
       "    </tr>\n",
       "    <tr>\n",
       "      <th>5854</th>\n",
       "      <td>2017-12-31 22:59:59</td>\n",
       "      <td>179.697158</td>\n",
       "      <td>15.438979</td>\n",
       "      <td>8.070000</td>\n",
       "      <td>1.501068</td>\n",
       "      <td>1498.466243</td>\n",
       "      <td>-500.483984</td>\n",
       "      <td>1497.986986</td>\n",
       "      <td>-519.200340</td>\n",
       "      <td>1496.569047</td>\n",
       "      <td>...</td>\n",
       "      <td>19.958760</td>\n",
       "      <td>-499.958750</td>\n",
       "      <td>15.026853</td>\n",
       "      <td>-499.723143</td>\n",
       "      <td>11.011607</td>\n",
       "      <td>-499.985046</td>\n",
       "      <td>9.009783</td>\n",
       "      <td>-499.937902</td>\n",
       "      <td>9.012660</td>\n",
       "      <td>-500.154284</td>\n",
       "    </tr>\n",
       "    <tr>\n",
       "      <th>5855</th>\n",
       "      <td>2017-12-31 23:59:59</td>\n",
       "      <td>181.556856</td>\n",
       "      <td>14.995850</td>\n",
       "      <td>8.070000</td>\n",
       "      <td>1.623454</td>\n",
       "      <td>1498.096303</td>\n",
       "      <td>-499.796922</td>\n",
       "      <td>1501.743791</td>\n",
       "      <td>-505.146931</td>\n",
       "      <td>1499.535978</td>\n",
       "      <td>...</td>\n",
       "      <td>20.034715</td>\n",
       "      <td>-500.728588</td>\n",
       "      <td>14.914199</td>\n",
       "      <td>-499.948518</td>\n",
       "      <td>10.986607</td>\n",
       "      <td>-500.658027</td>\n",
       "      <td>8.989497</td>\n",
       "      <td>-500.337588</td>\n",
       "      <td>8.988632</td>\n",
       "      <td>-500.764937</td>\n",
       "    </tr>\n",
       "  </tbody>\n",
       "</table>\n",
       "<p>5856 rows × 53 columns</p>\n",
       "</div>"
      ],
      "text/plain": [
       "                     date  primary_cleaner.input.sulfate  \\\n",
       "0     2016-09-01 00:59:59                     210.800909   \n",
       "1     2016-09-01 01:59:59                     215.392455   \n",
       "2     2016-09-01 02:59:59                     215.259946   \n",
       "3     2016-09-01 03:59:59                     215.336236   \n",
       "4     2016-09-01 04:59:59                     199.099327   \n",
       "...                   ...                            ...   \n",
       "5851  2017-12-31 19:59:59                     173.957757   \n",
       "5852  2017-12-31 20:59:59                     172.910270   \n",
       "5853  2017-12-31 21:59:59                     171.135718   \n",
       "5854  2017-12-31 22:59:59                     179.697158   \n",
       "5855  2017-12-31 23:59:59                     181.556856   \n",
       "\n",
       "      primary_cleaner.input.depressant  primary_cleaner.input.feed_size  \\\n",
       "0                            14.993118                         8.080000   \n",
       "1                            14.987471                         8.080000   \n",
       "2                            12.884934                         7.786667   \n",
       "3                            12.006805                         7.640000   \n",
       "4                            10.682530                         7.530000   \n",
       "...                                ...                              ...   \n",
       "5851                         15.963399                         8.070000   \n",
       "5852                         16.002605                         8.070000   \n",
       "5853                         15.993669                         8.070000   \n",
       "5854                         15.438979                         8.070000   \n",
       "5855                         14.995850                         8.070000   \n",
       "\n",
       "      primary_cleaner.input.xanthate  primary_cleaner.state.floatbank8_a_air  \\\n",
       "0                           1.005021                             1398.981301   \n",
       "1                           0.990469                             1398.777912   \n",
       "2                           0.996043                             1398.493666   \n",
       "3                           0.863514                             1399.618111   \n",
       "4                           0.805575                             1401.268123   \n",
       "...                              ...                                     ...   \n",
       "5851                        0.896701                             1401.930554   \n",
       "5852                        0.896519                             1447.075722   \n",
       "5853                        1.165996                             1498.836182   \n",
       "5854                        1.501068                             1498.466243   \n",
       "5855                        1.623454                             1498.096303   \n",
       "\n",
       "      primary_cleaner.state.floatbank8_a_level  \\\n",
       "0                                  -500.225577   \n",
       "1                                  -500.057435   \n",
       "2                                  -500.868360   \n",
       "3                                  -498.863574   \n",
       "4                                  -500.808305   \n",
       "...                                        ...   \n",
       "5851                               -499.728848   \n",
       "5852                               -494.716823   \n",
       "5853                               -501.770403   \n",
       "5854                               -500.483984   \n",
       "5855                               -499.796922   \n",
       "\n",
       "      primary_cleaner.state.floatbank8_b_air  \\\n",
       "0                                1399.144926   \n",
       "1                                1398.055362   \n",
       "2                                1398.860436   \n",
       "3                                1397.440120   \n",
       "4                                1398.128818   \n",
       "...                                      ...   \n",
       "5851                             1401.441445   \n",
       "5852                             1448.851892   \n",
       "5853                             1499.572353   \n",
       "5854                             1497.986986   \n",
       "5855                             1501.743791   \n",
       "\n",
       "      primary_cleaner.state.floatbank8_b_level  \\\n",
       "0                                  -499.919735   \n",
       "1                                  -499.778182   \n",
       "2                                  -499.764529   \n",
       "3                                  -499.211024   \n",
       "4                                  -499.504543   \n",
       "...                                        ...   \n",
       "5851                               -499.193423   \n",
       "5852                               -465.963026   \n",
       "5853                               -495.516347   \n",
       "5854                               -519.200340   \n",
       "5855                               -505.146931   \n",
       "\n",
       "      primary_cleaner.state.floatbank8_c_air  ...  \\\n",
       "0                                1400.102998  ...   \n",
       "1                                1396.151033  ...   \n",
       "2                                1398.075709  ...   \n",
       "3                                1400.129303  ...   \n",
       "4                                1402.172226  ...   \n",
       "...                                      ...  ...   \n",
       "5851                             1399.810313  ...   \n",
       "5852                             1443.890424  ...   \n",
       "5853                             1502.749213  ...   \n",
       "5854                             1496.569047  ...   \n",
       "5855                             1499.535978  ...   \n",
       "\n",
       "      secondary_cleaner.state.floatbank4_a_air  \\\n",
       "0                                    12.023554   \n",
       "1                                    12.058140   \n",
       "2                                    11.962366   \n",
       "3                                    12.033091   \n",
       "4                                    12.025367   \n",
       "...                                        ...   \n",
       "5851                                 13.995957   \n",
       "5852                                 16.749781   \n",
       "5853                                 19.994130   \n",
       "5854                                 19.958760   \n",
       "5855                                 20.034715   \n",
       "\n",
       "      secondary_cleaner.state.floatbank4_a_level  \\\n",
       "0                                    -497.795834   \n",
       "1                                    -498.695773   \n",
       "2                                    -498.767484   \n",
       "3                                    -498.350935   \n",
       "4                                    -500.786497   \n",
       "...                                          ...   \n",
       "5851                                 -500.157454   \n",
       "5852                                 -496.031539   \n",
       "5853                                 -499.791312   \n",
       "5854                                 -499.958750   \n",
       "5855                                 -500.728588   \n",
       "\n",
       "      secondary_cleaner.state.floatbank4_b_air  \\\n",
       "0                                     8.016656   \n",
       "1                                     8.130979   \n",
       "2                                     8.096893   \n",
       "3                                     8.074946   \n",
       "4                                     8.054678   \n",
       "...                                        ...   \n",
       "5851                                 12.069155   \n",
       "5852                                 13.365371   \n",
       "5853                                 15.101425   \n",
       "5854                                 15.026853   \n",
       "5855                                 14.914199   \n",
       "\n",
       "      secondary_cleaner.state.floatbank4_b_level  \\\n",
       "0                                    -501.289139   \n",
       "1                                    -499.634209   \n",
       "2                                    -500.827423   \n",
       "3                                    -499.474407   \n",
       "4                                    -500.397500   \n",
       "...                                          ...   \n",
       "5851                                 -499.673279   \n",
       "5852                                 -499.122723   \n",
       "5853                                 -499.936252   \n",
       "5854                                 -499.723143   \n",
       "5855                                 -499.948518   \n",
       "\n",
       "      secondary_cleaner.state.floatbank5_a_air  \\\n",
       "0                                     7.946562   \n",
       "1                                     7.958270   \n",
       "2                                     8.071056   \n",
       "3                                     7.897085   \n",
       "4                                     8.107890   \n",
       "...                                        ...   \n",
       "5851                                  7.977259   \n",
       "5852                                  9.288553   \n",
       "5853                                 10.989181   \n",
       "5854                                 11.011607   \n",
       "5855                                 10.986607   \n",
       "\n",
       "      secondary_cleaner.state.floatbank5_a_level  \\\n",
       "0                                    -432.317850   \n",
       "1                                    -525.839648   \n",
       "2                                    -500.801673   \n",
       "3                                    -500.868509   \n",
       "4                                    -509.526725   \n",
       "...                                          ...   \n",
       "5851                                 -499.516126   \n",
       "5852                                 -496.892967   \n",
       "5853                                 -498.347898   \n",
       "5854                                 -499.985046   \n",
       "5855                                 -500.658027   \n",
       "\n",
       "      secondary_cleaner.state.floatbank5_b_air  \\\n",
       "0                                     4.872511   \n",
       "1                                     4.878850   \n",
       "2                                     4.905125   \n",
       "3                                     4.931400   \n",
       "4                                     4.957674   \n",
       "...                                        ...   \n",
       "5851                                  5.933319   \n",
       "5852                                  7.372897   \n",
       "5853                                  9.020944   \n",
       "5854                                  9.009783   \n",
       "5855                                  8.989497   \n",
       "\n",
       "      secondary_cleaner.state.floatbank5_b_level  \\\n",
       "0                                    -500.037437   \n",
       "1                                    -500.162375   \n",
       "2                                    -499.828510   \n",
       "3                                    -499.963623   \n",
       "4                                    -500.360026   \n",
       "...                                          ...   \n",
       "5851                                 -499.965973   \n",
       "5852                                 -499.942956   \n",
       "5853                                 -500.040448   \n",
       "5854                                 -499.937902   \n",
       "5855                                 -500.337588   \n",
       "\n",
       "      secondary_cleaner.state.floatbank6_a_air  \\\n",
       "0                                    26.705889   \n",
       "1                                    25.019940   \n",
       "2                                    24.994862   \n",
       "3                                    24.948919   \n",
       "4                                    25.003331   \n",
       "...                                        ...   \n",
       "5851                                  8.987171   \n",
       "5852                                  8.986832   \n",
       "5853                                  8.982038   \n",
       "5854                                  9.012660   \n",
       "5855                                  8.988632   \n",
       "\n",
       "      secondary_cleaner.state.floatbank6_a_level  \n",
       "0                                    -499.709414  \n",
       "1                                    -499.819438  \n",
       "2                                    -500.622559  \n",
       "3                                    -498.709987  \n",
       "4                                    -500.856333  \n",
       "...                                          ...  \n",
       "5851                                 -499.755909  \n",
       "5852                                 -499.903761  \n",
       "5853                                 -497.789882  \n",
       "5854                                 -500.154284  \n",
       "5855                                 -500.764937  \n",
       "\n",
       "[5856 rows x 53 columns]"
      ]
     },
     "metadata": {},
     "output_type": "display_data"
    },
    {
     "name": "stdout",
     "output_type": "stream",
     "text": [
      "-END--\n",
      "Info:\n",
      "<class 'pandas.core.frame.DataFrame'>\n",
      "RangeIndex: 5856 entries, 0 to 5855\n",
      "Data columns (total 53 columns):\n",
      " #   Column                                      Non-Null Count  Dtype  \n",
      "---  ------                                      --------------  -----  \n",
      " 0   date                                        5856 non-null   object \n",
      " 1   primary_cleaner.input.sulfate               5554 non-null   float64\n",
      " 2   primary_cleaner.input.depressant            5572 non-null   float64\n",
      " 3   primary_cleaner.input.feed_size             5856 non-null   float64\n",
      " 4   primary_cleaner.input.xanthate              5690 non-null   float64\n",
      " 5   primary_cleaner.state.floatbank8_a_air      5840 non-null   float64\n",
      " 6   primary_cleaner.state.floatbank8_a_level    5840 non-null   float64\n",
      " 7   primary_cleaner.state.floatbank8_b_air      5840 non-null   float64\n",
      " 8   primary_cleaner.state.floatbank8_b_level    5840 non-null   float64\n",
      " 9   primary_cleaner.state.floatbank8_c_air      5840 non-null   float64\n",
      " 10  primary_cleaner.state.floatbank8_c_level    5840 non-null   float64\n",
      " 11  primary_cleaner.state.floatbank8_d_air      5840 non-null   float64\n",
      " 12  primary_cleaner.state.floatbank8_d_level    5840 non-null   float64\n",
      " 13  rougher.input.feed_ag                       5840 non-null   float64\n",
      " 14  rougher.input.feed_pb                       5840 non-null   float64\n",
      " 15  rougher.input.feed_rate                     5816 non-null   float64\n",
      " 16  rougher.input.feed_size                     5834 non-null   float64\n",
      " 17  rougher.input.feed_sol                      5789 non-null   float64\n",
      " 18  rougher.input.feed_au                       5840 non-null   float64\n",
      " 19  rougher.input.floatbank10_sulfate           5599 non-null   float64\n",
      " 20  rougher.input.floatbank10_xanthate          5733 non-null   float64\n",
      " 21  rougher.input.floatbank11_sulfate           5801 non-null   float64\n",
      " 22  rougher.input.floatbank11_xanthate          5503 non-null   float64\n",
      " 23  rougher.state.floatbank10_a_air             5839 non-null   float64\n",
      " 24  rougher.state.floatbank10_a_level           5840 non-null   float64\n",
      " 25  rougher.state.floatbank10_b_air             5839 non-null   float64\n",
      " 26  rougher.state.floatbank10_b_level           5840 non-null   float64\n",
      " 27  rougher.state.floatbank10_c_air             5839 non-null   float64\n",
      " 28  rougher.state.floatbank10_c_level           5840 non-null   float64\n",
      " 29  rougher.state.floatbank10_d_air             5839 non-null   float64\n",
      " 30  rougher.state.floatbank10_d_level           5840 non-null   float64\n",
      " 31  rougher.state.floatbank10_e_air             5839 non-null   float64\n",
      " 32  rougher.state.floatbank10_e_level           5840 non-null   float64\n",
      " 33  rougher.state.floatbank10_f_air             5839 non-null   float64\n",
      " 34  rougher.state.floatbank10_f_level           5840 non-null   float64\n",
      " 35  secondary_cleaner.state.floatbank2_a_air    5836 non-null   float64\n",
      " 36  secondary_cleaner.state.floatbank2_a_level  5840 non-null   float64\n",
      " 37  secondary_cleaner.state.floatbank2_b_air    5833 non-null   float64\n",
      " 38  secondary_cleaner.state.floatbank2_b_level  5840 non-null   float64\n",
      " 39  secondary_cleaner.state.floatbank3_a_air    5822 non-null   float64\n",
      " 40  secondary_cleaner.state.floatbank3_a_level  5840 non-null   float64\n",
      " 41  secondary_cleaner.state.floatbank3_b_air    5840 non-null   float64\n",
      " 42  secondary_cleaner.state.floatbank3_b_level  5840 non-null   float64\n",
      " 43  secondary_cleaner.state.floatbank4_a_air    5840 non-null   float64\n",
      " 44  secondary_cleaner.state.floatbank4_a_level  5840 non-null   float64\n",
      " 45  secondary_cleaner.state.floatbank4_b_air    5840 non-null   float64\n",
      " 46  secondary_cleaner.state.floatbank4_b_level  5840 non-null   float64\n",
      " 47  secondary_cleaner.state.floatbank5_a_air    5840 non-null   float64\n",
      " 48  secondary_cleaner.state.floatbank5_a_level  5840 non-null   float64\n",
      " 49  secondary_cleaner.state.floatbank5_b_air    5840 non-null   float64\n",
      " 50  secondary_cleaner.state.floatbank5_b_level  5840 non-null   float64\n",
      " 51  secondary_cleaner.state.floatbank6_a_air    5840 non-null   float64\n",
      " 52  secondary_cleaner.state.floatbank6_a_level  5840 non-null   float64\n",
      "dtypes: float64(52), object(1)\n",
      "memory usage: 2.4+ MB\n"
     ]
    },
    {
     "data": {
      "text/plain": [
       "None"
      ]
     },
     "metadata": {},
     "output_type": "display_data"
    },
    {
     "name": "stdout",
     "output_type": "stream",
     "text": [
      "-END--\n",
      "Percentage Null:\n"
     ]
    },
    {
     "data": {
      "text/plain": [
       "date                                          0.000000\n",
       "primary_cleaner.input.sulfate                 0.051571\n",
       "primary_cleaner.input.depressant              0.048497\n",
       "primary_cleaner.input.feed_size               0.000000\n",
       "primary_cleaner.input.xanthate                0.028347\n",
       "primary_cleaner.state.floatbank8_a_air        0.002732\n",
       "primary_cleaner.state.floatbank8_a_level      0.002732\n",
       "primary_cleaner.state.floatbank8_b_air        0.002732\n",
       "primary_cleaner.state.floatbank8_b_level      0.002732\n",
       "primary_cleaner.state.floatbank8_c_air        0.002732\n",
       "primary_cleaner.state.floatbank8_c_level      0.002732\n",
       "primary_cleaner.state.floatbank8_d_air        0.002732\n",
       "primary_cleaner.state.floatbank8_d_level      0.002732\n",
       "rougher.input.feed_ag                         0.002732\n",
       "rougher.input.feed_pb                         0.002732\n",
       "rougher.input.feed_rate                       0.006831\n",
       "rougher.input.feed_size                       0.003757\n",
       "rougher.input.feed_sol                        0.011441\n",
       "rougher.input.feed_au                         0.002732\n",
       "rougher.input.floatbank10_sulfate             0.043887\n",
       "rougher.input.floatbank10_xanthate            0.021004\n",
       "rougher.input.floatbank11_sulfate             0.009392\n",
       "rougher.input.floatbank11_xanthate            0.060280\n",
       "rougher.state.floatbank10_a_air               0.002903\n",
       "rougher.state.floatbank10_a_level             0.002732\n",
       "rougher.state.floatbank10_b_air               0.002903\n",
       "rougher.state.floatbank10_b_level             0.002732\n",
       "rougher.state.floatbank10_c_air               0.002903\n",
       "rougher.state.floatbank10_c_level             0.002732\n",
       "rougher.state.floatbank10_d_air               0.002903\n",
       "rougher.state.floatbank10_d_level             0.002732\n",
       "rougher.state.floatbank10_e_air               0.002903\n",
       "rougher.state.floatbank10_e_level             0.002732\n",
       "rougher.state.floatbank10_f_air               0.002903\n",
       "rougher.state.floatbank10_f_level             0.002732\n",
       "secondary_cleaner.state.floatbank2_a_air      0.003415\n",
       "secondary_cleaner.state.floatbank2_a_level    0.002732\n",
       "secondary_cleaner.state.floatbank2_b_air      0.003928\n",
       "secondary_cleaner.state.floatbank2_b_level    0.002732\n",
       "secondary_cleaner.state.floatbank3_a_air      0.005806\n",
       "secondary_cleaner.state.floatbank3_a_level    0.002732\n",
       "secondary_cleaner.state.floatbank3_b_air      0.002732\n",
       "secondary_cleaner.state.floatbank3_b_level    0.002732\n",
       "secondary_cleaner.state.floatbank4_a_air      0.002732\n",
       "secondary_cleaner.state.floatbank4_a_level    0.002732\n",
       "secondary_cleaner.state.floatbank4_b_air      0.002732\n",
       "secondary_cleaner.state.floatbank4_b_level    0.002732\n",
       "secondary_cleaner.state.floatbank5_a_air      0.002732\n",
       "secondary_cleaner.state.floatbank5_a_level    0.002732\n",
       "secondary_cleaner.state.floatbank5_b_air      0.002732\n",
       "secondary_cleaner.state.floatbank5_b_level    0.002732\n",
       "secondary_cleaner.state.floatbank6_a_air      0.002732\n",
       "secondary_cleaner.state.floatbank6_a_level    0.002732\n",
       "dtype: float64"
      ]
     },
     "metadata": {},
     "output_type": "display_data"
    },
    {
     "name": "stdout",
     "output_type": "stream",
     "text": [
      "-END--\n",
      "Duplicated:\n"
     ]
    },
    {
     "data": {
      "text/plain": [
       "0"
      ]
     },
     "metadata": {},
     "output_type": "display_data"
    }
   ],
   "source": [
    "data_info(gold_test)"
   ]
  },
  {
   "cell_type": "code",
   "execution_count": 6,
   "id": "0a3d6b6d",
   "metadata": {
    "ExecuteTime": {
     "end_time": "2021-09-10T18:23:20.326246Z",
     "start_time": "2021-09-10T18:23:20.131723Z"
    }
   },
   "outputs": [
    {
     "name": "stdout",
     "output_type": "stream",
     "text": [
      "Head:\n"
     ]
    },
    {
     "data": {
      "text/html": [
       "<div>\n",
       "<style scoped>\n",
       "    .dataframe tbody tr th:only-of-type {\n",
       "        vertical-align: middle;\n",
       "    }\n",
       "\n",
       "    .dataframe tbody tr th {\n",
       "        vertical-align: top;\n",
       "    }\n",
       "\n",
       "    .dataframe thead th {\n",
       "        text-align: right;\n",
       "    }\n",
       "</style>\n",
       "<table border=\"1\" class=\"dataframe\">\n",
       "  <thead>\n",
       "    <tr style=\"text-align: right;\">\n",
       "      <th></th>\n",
       "      <th>date</th>\n",
       "      <th>final.output.concentrate_ag</th>\n",
       "      <th>final.output.concentrate_pb</th>\n",
       "      <th>final.output.concentrate_sol</th>\n",
       "      <th>final.output.concentrate_au</th>\n",
       "      <th>final.output.recovery</th>\n",
       "      <th>final.output.tail_ag</th>\n",
       "      <th>final.output.tail_pb</th>\n",
       "      <th>final.output.tail_sol</th>\n",
       "      <th>final.output.tail_au</th>\n",
       "      <th>...</th>\n",
       "      <th>secondary_cleaner.state.floatbank4_a_air</th>\n",
       "      <th>secondary_cleaner.state.floatbank4_a_level</th>\n",
       "      <th>secondary_cleaner.state.floatbank4_b_air</th>\n",
       "      <th>secondary_cleaner.state.floatbank4_b_level</th>\n",
       "      <th>secondary_cleaner.state.floatbank5_a_air</th>\n",
       "      <th>secondary_cleaner.state.floatbank5_a_level</th>\n",
       "      <th>secondary_cleaner.state.floatbank5_b_air</th>\n",
       "      <th>secondary_cleaner.state.floatbank5_b_level</th>\n",
       "      <th>secondary_cleaner.state.floatbank6_a_air</th>\n",
       "      <th>secondary_cleaner.state.floatbank6_a_level</th>\n",
       "    </tr>\n",
       "  </thead>\n",
       "  <tbody>\n",
       "    <tr>\n",
       "      <th>0</th>\n",
       "      <td>2016-01-15 00:00:00</td>\n",
       "      <td>6.055403</td>\n",
       "      <td>9.889648</td>\n",
       "      <td>5.507324</td>\n",
       "      <td>42.192020</td>\n",
       "      <td>70.541216</td>\n",
       "      <td>10.411962</td>\n",
       "      <td>0.895447</td>\n",
       "      <td>16.904297</td>\n",
       "      <td>2.143149</td>\n",
       "      <td>...</td>\n",
       "      <td>14.016835</td>\n",
       "      <td>-502.488007</td>\n",
       "      <td>12.099931</td>\n",
       "      <td>-504.715942</td>\n",
       "      <td>9.925633</td>\n",
       "      <td>-498.310211</td>\n",
       "      <td>8.079666</td>\n",
       "      <td>-500.470978</td>\n",
       "      <td>14.151341</td>\n",
       "      <td>-605.841980</td>\n",
       "    </tr>\n",
       "    <tr>\n",
       "      <th>1</th>\n",
       "      <td>2016-01-15 01:00:00</td>\n",
       "      <td>6.029369</td>\n",
       "      <td>9.968944</td>\n",
       "      <td>5.257781</td>\n",
       "      <td>42.701629</td>\n",
       "      <td>69.266198</td>\n",
       "      <td>10.462676</td>\n",
       "      <td>0.927452</td>\n",
       "      <td>16.634514</td>\n",
       "      <td>2.224930</td>\n",
       "      <td>...</td>\n",
       "      <td>13.992281</td>\n",
       "      <td>-505.503262</td>\n",
       "      <td>11.950531</td>\n",
       "      <td>-501.331529</td>\n",
       "      <td>10.039245</td>\n",
       "      <td>-500.169983</td>\n",
       "      <td>7.984757</td>\n",
       "      <td>-500.582168</td>\n",
       "      <td>13.998353</td>\n",
       "      <td>-599.787184</td>\n",
       "    </tr>\n",
       "    <tr>\n",
       "      <th>2</th>\n",
       "      <td>2016-01-15 02:00:00</td>\n",
       "      <td>6.055926</td>\n",
       "      <td>10.213995</td>\n",
       "      <td>5.383759</td>\n",
       "      <td>42.657501</td>\n",
       "      <td>68.116445</td>\n",
       "      <td>10.507046</td>\n",
       "      <td>0.953716</td>\n",
       "      <td>16.208849</td>\n",
       "      <td>2.257889</td>\n",
       "      <td>...</td>\n",
       "      <td>14.015015</td>\n",
       "      <td>-502.520901</td>\n",
       "      <td>11.912783</td>\n",
       "      <td>-501.133383</td>\n",
       "      <td>10.070913</td>\n",
       "      <td>-500.129135</td>\n",
       "      <td>8.013877</td>\n",
       "      <td>-500.517572</td>\n",
       "      <td>14.028663</td>\n",
       "      <td>-601.427363</td>\n",
       "    </tr>\n",
       "    <tr>\n",
       "      <th>3</th>\n",
       "      <td>2016-01-15 03:00:00</td>\n",
       "      <td>6.047977</td>\n",
       "      <td>9.977019</td>\n",
       "      <td>4.858634</td>\n",
       "      <td>42.689819</td>\n",
       "      <td>68.347543</td>\n",
       "      <td>10.422762</td>\n",
       "      <td>0.883763</td>\n",
       "      <td>16.532835</td>\n",
       "      <td>2.146849</td>\n",
       "      <td>...</td>\n",
       "      <td>14.036510</td>\n",
       "      <td>-500.857308</td>\n",
       "      <td>11.999550</td>\n",
       "      <td>-501.193686</td>\n",
       "      <td>9.970366</td>\n",
       "      <td>-499.201640</td>\n",
       "      <td>7.977324</td>\n",
       "      <td>-500.255908</td>\n",
       "      <td>14.005551</td>\n",
       "      <td>-599.996129</td>\n",
       "    </tr>\n",
       "    <tr>\n",
       "      <th>4</th>\n",
       "      <td>2016-01-15 04:00:00</td>\n",
       "      <td>6.148599</td>\n",
       "      <td>10.142511</td>\n",
       "      <td>4.939416</td>\n",
       "      <td>42.774141</td>\n",
       "      <td>66.927016</td>\n",
       "      <td>10.360302</td>\n",
       "      <td>0.792826</td>\n",
       "      <td>16.525686</td>\n",
       "      <td>2.055292</td>\n",
       "      <td>...</td>\n",
       "      <td>14.027298</td>\n",
       "      <td>-499.838632</td>\n",
       "      <td>11.953070</td>\n",
       "      <td>-501.053894</td>\n",
       "      <td>9.925709</td>\n",
       "      <td>-501.686727</td>\n",
       "      <td>7.894242</td>\n",
       "      <td>-500.356035</td>\n",
       "      <td>13.996647</td>\n",
       "      <td>-601.496691</td>\n",
       "    </tr>\n",
       "    <tr>\n",
       "      <th>...</th>\n",
       "      <td>...</td>\n",
       "      <td>...</td>\n",
       "      <td>...</td>\n",
       "      <td>...</td>\n",
       "      <td>...</td>\n",
       "      <td>...</td>\n",
       "      <td>...</td>\n",
       "      <td>...</td>\n",
       "      <td>...</td>\n",
       "      <td>...</td>\n",
       "      <td>...</td>\n",
       "      <td>...</td>\n",
       "      <td>...</td>\n",
       "      <td>...</td>\n",
       "      <td>...</td>\n",
       "      <td>...</td>\n",
       "      <td>...</td>\n",
       "      <td>...</td>\n",
       "      <td>...</td>\n",
       "      <td>...</td>\n",
       "      <td>...</td>\n",
       "    </tr>\n",
       "    <tr>\n",
       "      <th>22711</th>\n",
       "      <td>2018-08-18 06:59:59</td>\n",
       "      <td>3.224920</td>\n",
       "      <td>11.356233</td>\n",
       "      <td>6.803482</td>\n",
       "      <td>46.713954</td>\n",
       "      <td>73.755150</td>\n",
       "      <td>8.769645</td>\n",
       "      <td>3.141541</td>\n",
       "      <td>10.403181</td>\n",
       "      <td>1.529220</td>\n",
       "      <td>...</td>\n",
       "      <td>23.031497</td>\n",
       "      <td>-501.167942</td>\n",
       "      <td>20.007571</td>\n",
       "      <td>-499.740028</td>\n",
       "      <td>18.006038</td>\n",
       "      <td>-499.834374</td>\n",
       "      <td>13.001114</td>\n",
       "      <td>-500.155694</td>\n",
       "      <td>20.007840</td>\n",
       "      <td>-501.296428</td>\n",
       "    </tr>\n",
       "    <tr>\n",
       "      <th>22712</th>\n",
       "      <td>2018-08-18 07:59:59</td>\n",
       "      <td>3.195978</td>\n",
       "      <td>11.349355</td>\n",
       "      <td>6.862249</td>\n",
       "      <td>46.866780</td>\n",
       "      <td>69.049291</td>\n",
       "      <td>8.897321</td>\n",
       "      <td>3.130493</td>\n",
       "      <td>10.549470</td>\n",
       "      <td>1.612542</td>\n",
       "      <td>...</td>\n",
       "      <td>22.960095</td>\n",
       "      <td>-501.612783</td>\n",
       "      <td>20.035660</td>\n",
       "      <td>-500.251357</td>\n",
       "      <td>17.998535</td>\n",
       "      <td>-500.395178</td>\n",
       "      <td>12.954048</td>\n",
       "      <td>-499.895163</td>\n",
       "      <td>19.968498</td>\n",
       "      <td>-501.041608</td>\n",
       "    </tr>\n",
       "    <tr>\n",
       "      <th>22713</th>\n",
       "      <td>2018-08-18 08:59:59</td>\n",
       "      <td>3.109998</td>\n",
       "      <td>11.434366</td>\n",
       "      <td>6.886013</td>\n",
       "      <td>46.795691</td>\n",
       "      <td>67.002189</td>\n",
       "      <td>8.529606</td>\n",
       "      <td>2.911418</td>\n",
       "      <td>11.115147</td>\n",
       "      <td>1.596616</td>\n",
       "      <td>...</td>\n",
       "      <td>23.015718</td>\n",
       "      <td>-501.711599</td>\n",
       "      <td>19.951231</td>\n",
       "      <td>-499.857027</td>\n",
       "      <td>18.019543</td>\n",
       "      <td>-500.451156</td>\n",
       "      <td>13.023431</td>\n",
       "      <td>-499.914391</td>\n",
       "      <td>19.990885</td>\n",
       "      <td>-501.518452</td>\n",
       "    </tr>\n",
       "    <tr>\n",
       "      <th>22714</th>\n",
       "      <td>2018-08-18 09:59:59</td>\n",
       "      <td>3.367241</td>\n",
       "      <td>11.625587</td>\n",
       "      <td>6.799433</td>\n",
       "      <td>46.408188</td>\n",
       "      <td>65.523246</td>\n",
       "      <td>8.777171</td>\n",
       "      <td>2.819214</td>\n",
       "      <td>10.463847</td>\n",
       "      <td>1.602879</td>\n",
       "      <td>...</td>\n",
       "      <td>23.024963</td>\n",
       "      <td>-501.153409</td>\n",
       "      <td>20.054122</td>\n",
       "      <td>-500.314711</td>\n",
       "      <td>17.979515</td>\n",
       "      <td>-499.272871</td>\n",
       "      <td>12.992404</td>\n",
       "      <td>-499.976268</td>\n",
       "      <td>20.013986</td>\n",
       "      <td>-500.625471</td>\n",
       "    </tr>\n",
       "    <tr>\n",
       "      <th>22715</th>\n",
       "      <td>2018-08-18 10:59:59</td>\n",
       "      <td>3.598375</td>\n",
       "      <td>11.737832</td>\n",
       "      <td>6.717509</td>\n",
       "      <td>46.299438</td>\n",
       "      <td>70.281454</td>\n",
       "      <td>8.406690</td>\n",
       "      <td>2.517518</td>\n",
       "      <td>10.652193</td>\n",
       "      <td>1.389434</td>\n",
       "      <td>...</td>\n",
       "      <td>23.018622</td>\n",
       "      <td>-500.492702</td>\n",
       "      <td>20.020205</td>\n",
       "      <td>-500.220296</td>\n",
       "      <td>17.963512</td>\n",
       "      <td>-499.939490</td>\n",
       "      <td>12.990306</td>\n",
       "      <td>-500.080993</td>\n",
       "      <td>19.990336</td>\n",
       "      <td>-499.191575</td>\n",
       "    </tr>\n",
       "  </tbody>\n",
       "</table>\n",
       "<p>22716 rows × 87 columns</p>\n",
       "</div>"
      ],
      "text/plain": [
       "                      date  final.output.concentrate_ag  \\\n",
       "0      2016-01-15 00:00:00                     6.055403   \n",
       "1      2016-01-15 01:00:00                     6.029369   \n",
       "2      2016-01-15 02:00:00                     6.055926   \n",
       "3      2016-01-15 03:00:00                     6.047977   \n",
       "4      2016-01-15 04:00:00                     6.148599   \n",
       "...                    ...                          ...   \n",
       "22711  2018-08-18 06:59:59                     3.224920   \n",
       "22712  2018-08-18 07:59:59                     3.195978   \n",
       "22713  2018-08-18 08:59:59                     3.109998   \n",
       "22714  2018-08-18 09:59:59                     3.367241   \n",
       "22715  2018-08-18 10:59:59                     3.598375   \n",
       "\n",
       "       final.output.concentrate_pb  final.output.concentrate_sol  \\\n",
       "0                         9.889648                      5.507324   \n",
       "1                         9.968944                      5.257781   \n",
       "2                        10.213995                      5.383759   \n",
       "3                         9.977019                      4.858634   \n",
       "4                        10.142511                      4.939416   \n",
       "...                            ...                           ...   \n",
       "22711                    11.356233                      6.803482   \n",
       "22712                    11.349355                      6.862249   \n",
       "22713                    11.434366                      6.886013   \n",
       "22714                    11.625587                      6.799433   \n",
       "22715                    11.737832                      6.717509   \n",
       "\n",
       "       final.output.concentrate_au  final.output.recovery  \\\n",
       "0                        42.192020              70.541216   \n",
       "1                        42.701629              69.266198   \n",
       "2                        42.657501              68.116445   \n",
       "3                        42.689819              68.347543   \n",
       "4                        42.774141              66.927016   \n",
       "...                            ...                    ...   \n",
       "22711                    46.713954              73.755150   \n",
       "22712                    46.866780              69.049291   \n",
       "22713                    46.795691              67.002189   \n",
       "22714                    46.408188              65.523246   \n",
       "22715                    46.299438              70.281454   \n",
       "\n",
       "       final.output.tail_ag  final.output.tail_pb  final.output.tail_sol  \\\n",
       "0                 10.411962              0.895447              16.904297   \n",
       "1                 10.462676              0.927452              16.634514   \n",
       "2                 10.507046              0.953716              16.208849   \n",
       "3                 10.422762              0.883763              16.532835   \n",
       "4                 10.360302              0.792826              16.525686   \n",
       "...                     ...                   ...                    ...   \n",
       "22711              8.769645              3.141541              10.403181   \n",
       "22712              8.897321              3.130493              10.549470   \n",
       "22713              8.529606              2.911418              11.115147   \n",
       "22714              8.777171              2.819214              10.463847   \n",
       "22715              8.406690              2.517518              10.652193   \n",
       "\n",
       "       final.output.tail_au  ...  secondary_cleaner.state.floatbank4_a_air  \\\n",
       "0                  2.143149  ...                                 14.016835   \n",
       "1                  2.224930  ...                                 13.992281   \n",
       "2                  2.257889  ...                                 14.015015   \n",
       "3                  2.146849  ...                                 14.036510   \n",
       "4                  2.055292  ...                                 14.027298   \n",
       "...                     ...  ...                                       ...   \n",
       "22711              1.529220  ...                                 23.031497   \n",
       "22712              1.612542  ...                                 22.960095   \n",
       "22713              1.596616  ...                                 23.015718   \n",
       "22714              1.602879  ...                                 23.024963   \n",
       "22715              1.389434  ...                                 23.018622   \n",
       "\n",
       "       secondary_cleaner.state.floatbank4_a_level  \\\n",
       "0                                     -502.488007   \n",
       "1                                     -505.503262   \n",
       "2                                     -502.520901   \n",
       "3                                     -500.857308   \n",
       "4                                     -499.838632   \n",
       "...                                           ...   \n",
       "22711                                 -501.167942   \n",
       "22712                                 -501.612783   \n",
       "22713                                 -501.711599   \n",
       "22714                                 -501.153409   \n",
       "22715                                 -500.492702   \n",
       "\n",
       "       secondary_cleaner.state.floatbank4_b_air  \\\n",
       "0                                     12.099931   \n",
       "1                                     11.950531   \n",
       "2                                     11.912783   \n",
       "3                                     11.999550   \n",
       "4                                     11.953070   \n",
       "...                                         ...   \n",
       "22711                                 20.007571   \n",
       "22712                                 20.035660   \n",
       "22713                                 19.951231   \n",
       "22714                                 20.054122   \n",
       "22715                                 20.020205   \n",
       "\n",
       "       secondary_cleaner.state.floatbank4_b_level  \\\n",
       "0                                     -504.715942   \n",
       "1                                     -501.331529   \n",
       "2                                     -501.133383   \n",
       "3                                     -501.193686   \n",
       "4                                     -501.053894   \n",
       "...                                           ...   \n",
       "22711                                 -499.740028   \n",
       "22712                                 -500.251357   \n",
       "22713                                 -499.857027   \n",
       "22714                                 -500.314711   \n",
       "22715                                 -500.220296   \n",
       "\n",
       "       secondary_cleaner.state.floatbank5_a_air  \\\n",
       "0                                      9.925633   \n",
       "1                                     10.039245   \n",
       "2                                     10.070913   \n",
       "3                                      9.970366   \n",
       "4                                      9.925709   \n",
       "...                                         ...   \n",
       "22711                                 18.006038   \n",
       "22712                                 17.998535   \n",
       "22713                                 18.019543   \n",
       "22714                                 17.979515   \n",
       "22715                                 17.963512   \n",
       "\n",
       "       secondary_cleaner.state.floatbank5_a_level  \\\n",
       "0                                     -498.310211   \n",
       "1                                     -500.169983   \n",
       "2                                     -500.129135   \n",
       "3                                     -499.201640   \n",
       "4                                     -501.686727   \n",
       "...                                           ...   \n",
       "22711                                 -499.834374   \n",
       "22712                                 -500.395178   \n",
       "22713                                 -500.451156   \n",
       "22714                                 -499.272871   \n",
       "22715                                 -499.939490   \n",
       "\n",
       "       secondary_cleaner.state.floatbank5_b_air  \\\n",
       "0                                      8.079666   \n",
       "1                                      7.984757   \n",
       "2                                      8.013877   \n",
       "3                                      7.977324   \n",
       "4                                      7.894242   \n",
       "...                                         ...   \n",
       "22711                                 13.001114   \n",
       "22712                                 12.954048   \n",
       "22713                                 13.023431   \n",
       "22714                                 12.992404   \n",
       "22715                                 12.990306   \n",
       "\n",
       "       secondary_cleaner.state.floatbank5_b_level  \\\n",
       "0                                     -500.470978   \n",
       "1                                     -500.582168   \n",
       "2                                     -500.517572   \n",
       "3                                     -500.255908   \n",
       "4                                     -500.356035   \n",
       "...                                           ...   \n",
       "22711                                 -500.155694   \n",
       "22712                                 -499.895163   \n",
       "22713                                 -499.914391   \n",
       "22714                                 -499.976268   \n",
       "22715                                 -500.080993   \n",
       "\n",
       "       secondary_cleaner.state.floatbank6_a_air  \\\n",
       "0                                     14.151341   \n",
       "1                                     13.998353   \n",
       "2                                     14.028663   \n",
       "3                                     14.005551   \n",
       "4                                     13.996647   \n",
       "...                                         ...   \n",
       "22711                                 20.007840   \n",
       "22712                                 19.968498   \n",
       "22713                                 19.990885   \n",
       "22714                                 20.013986   \n",
       "22715                                 19.990336   \n",
       "\n",
       "       secondary_cleaner.state.floatbank6_a_level  \n",
       "0                                     -605.841980  \n",
       "1                                     -599.787184  \n",
       "2                                     -601.427363  \n",
       "3                                     -599.996129  \n",
       "4                                     -601.496691  \n",
       "...                                           ...  \n",
       "22711                                 -501.296428  \n",
       "22712                                 -501.041608  \n",
       "22713                                 -501.518452  \n",
       "22714                                 -500.625471  \n",
       "22715                                 -499.191575  \n",
       "\n",
       "[22716 rows x 87 columns]"
      ]
     },
     "metadata": {},
     "output_type": "display_data"
    },
    {
     "name": "stdout",
     "output_type": "stream",
     "text": [
      "-END--\n",
      "Info:\n",
      "<class 'pandas.core.frame.DataFrame'>\n",
      "RangeIndex: 22716 entries, 0 to 22715\n",
      "Data columns (total 87 columns):\n",
      " #   Column                                              Non-Null Count  Dtype  \n",
      "---  ------                                              --------------  -----  \n",
      " 0   date                                                22716 non-null  object \n",
      " 1   final.output.concentrate_ag                         22627 non-null  float64\n",
      " 2   final.output.concentrate_pb                         22629 non-null  float64\n",
      " 3   final.output.concentrate_sol                        22331 non-null  float64\n",
      " 4   final.output.concentrate_au                         22630 non-null  float64\n",
      " 5   final.output.recovery                               20753 non-null  float64\n",
      " 6   final.output.tail_ag                                22633 non-null  float64\n",
      " 7   final.output.tail_pb                                22516 non-null  float64\n",
      " 8   final.output.tail_sol                               22445 non-null  float64\n",
      " 9   final.output.tail_au                                22635 non-null  float64\n",
      " 10  primary_cleaner.input.sulfate                       21107 non-null  float64\n",
      " 11  primary_cleaner.input.depressant                    21170 non-null  float64\n",
      " 12  primary_cleaner.input.feed_size                     22716 non-null  float64\n",
      " 13  primary_cleaner.input.xanthate                      21565 non-null  float64\n",
      " 14  primary_cleaner.output.concentrate_ag               22618 non-null  float64\n",
      " 15  primary_cleaner.output.concentrate_pb               22268 non-null  float64\n",
      " 16  primary_cleaner.output.concentrate_sol              21918 non-null  float64\n",
      " 17  primary_cleaner.output.concentrate_au               22618 non-null  float64\n",
      " 18  primary_cleaner.output.tail_ag                      22614 non-null  float64\n",
      " 19  primary_cleaner.output.tail_pb                      22594 non-null  float64\n",
      " 20  primary_cleaner.output.tail_sol                     22365 non-null  float64\n",
      " 21  primary_cleaner.output.tail_au                      22617 non-null  float64\n",
      " 22  primary_cleaner.state.floatbank8_a_air              22660 non-null  float64\n",
      " 23  primary_cleaner.state.floatbank8_a_level            22667 non-null  float64\n",
      " 24  primary_cleaner.state.floatbank8_b_air              22660 non-null  float64\n",
      " 25  primary_cleaner.state.floatbank8_b_level            22673 non-null  float64\n",
      " 26  primary_cleaner.state.floatbank8_c_air              22662 non-null  float64\n",
      " 27  primary_cleaner.state.floatbank8_c_level            22673 non-null  float64\n",
      " 28  primary_cleaner.state.floatbank8_d_air              22661 non-null  float64\n",
      " 29  primary_cleaner.state.floatbank8_d_level            22673 non-null  float64\n",
      " 30  rougher.calculation.sulfate_to_au_concentrate       22672 non-null  float64\n",
      " 31  rougher.calculation.floatbank10_sulfate_to_au_feed  22672 non-null  float64\n",
      " 32  rougher.calculation.floatbank11_sulfate_to_au_feed  22672 non-null  float64\n",
      " 33  rougher.calculation.au_pb_ratio                     21089 non-null  float64\n",
      " 34  rougher.input.feed_ag                               22618 non-null  float64\n",
      " 35  rougher.input.feed_pb                               22472 non-null  float64\n",
      " 36  rougher.input.feed_rate                             22163 non-null  float64\n",
      " 37  rougher.input.feed_size                             22277 non-null  float64\n",
      " 38  rougher.input.feed_sol                              22357 non-null  float64\n",
      " 39  rougher.input.feed_au                               22617 non-null  float64\n",
      " 40  rougher.input.floatbank10_sulfate                   21415 non-null  float64\n",
      " 41  rougher.input.floatbank10_xanthate                  22247 non-null  float64\n",
      " 42  rougher.input.floatbank11_sulfate                   22038 non-null  float64\n",
      " 43  rougher.input.floatbank11_xanthate                  20459 non-null  float64\n",
      " 44  rougher.output.concentrate_ag                       22618 non-null  float64\n",
      " 45  rougher.output.concentrate_pb                       22618 non-null  float64\n",
      " 46  rougher.output.concentrate_sol                      22526 non-null  float64\n",
      " 47  rougher.output.concentrate_au                       22618 non-null  float64\n",
      " 48  rougher.output.recovery                             19597 non-null  float64\n",
      " 49  rougher.output.tail_ag                              19979 non-null  float64\n",
      " 50  rougher.output.tail_pb                              22618 non-null  float64\n",
      " 51  rougher.output.tail_sol                             19980 non-null  float64\n",
      " 52  rougher.output.tail_au                              19980 non-null  float64\n",
      " 53  rougher.state.floatbank10_a_air                     22646 non-null  float64\n",
      " 54  rougher.state.floatbank10_a_level                   22647 non-null  float64\n",
      " 55  rougher.state.floatbank10_b_air                     22646 non-null  float64\n",
      " 56  rougher.state.floatbank10_b_level                   22647 non-null  float64\n",
      " 57  rougher.state.floatbank10_c_air                     22646 non-null  float64\n",
      " 58  rougher.state.floatbank10_c_level                   22654 non-null  float64\n",
      " 59  rougher.state.floatbank10_d_air                     22641 non-null  float64\n",
      " 60  rougher.state.floatbank10_d_level                   22649 non-null  float64\n",
      " 61  rougher.state.floatbank10_e_air                     22096 non-null  float64\n",
      " 62  rougher.state.floatbank10_e_level                   22649 non-null  float64\n",
      " 63  rougher.state.floatbank10_f_air                     22641 non-null  float64\n",
      " 64  rougher.state.floatbank10_f_level                   22642 non-null  float64\n",
      " 65  secondary_cleaner.output.tail_ag                    22616 non-null  float64\n",
      " 66  secondary_cleaner.output.tail_pb                    22600 non-null  float64\n",
      " 67  secondary_cleaner.output.tail_sol                   20501 non-null  float64\n",
      " 68  secondary_cleaner.output.tail_au                    22618 non-null  float64\n",
      " 69  secondary_cleaner.state.floatbank2_a_air            22333 non-null  float64\n",
      " 70  secondary_cleaner.state.floatbank2_a_level          22591 non-null  float64\n",
      " 71  secondary_cleaner.state.floatbank2_b_air            22538 non-null  float64\n",
      " 72  secondary_cleaner.state.floatbank2_b_level          22588 non-null  float64\n",
      " 73  secondary_cleaner.state.floatbank3_a_air            22585 non-null  float64\n",
      " 74  secondary_cleaner.state.floatbank3_a_level          22587 non-null  float64\n",
      " 75  secondary_cleaner.state.floatbank3_b_air            22592 non-null  float64\n",
      " 76  secondary_cleaner.state.floatbank3_b_level          22590 non-null  float64\n",
      " 77  secondary_cleaner.state.floatbank4_a_air            22571 non-null  float64\n",
      " 78  secondary_cleaner.state.floatbank4_a_level          22587 non-null  float64\n",
      " 79  secondary_cleaner.state.floatbank4_b_air            22608 non-null  float64\n",
      " 80  secondary_cleaner.state.floatbank4_b_level          22607 non-null  float64\n",
      " 81  secondary_cleaner.state.floatbank5_a_air            22615 non-null  float64\n",
      " 82  secondary_cleaner.state.floatbank5_a_level          22615 non-null  float64\n",
      " 83  secondary_cleaner.state.floatbank5_b_air            22615 non-null  float64\n",
      " 84  secondary_cleaner.state.floatbank5_b_level          22616 non-null  float64\n",
      " 85  secondary_cleaner.state.floatbank6_a_air            22597 non-null  float64\n",
      " 86  secondary_cleaner.state.floatbank6_a_level          22615 non-null  float64\n",
      "dtypes: float64(86), object(1)\n",
      "memory usage: 15.1+ MB\n"
     ]
    },
    {
     "data": {
      "text/plain": [
       "None"
      ]
     },
     "metadata": {},
     "output_type": "display_data"
    },
    {
     "name": "stdout",
     "output_type": "stream",
     "text": [
      "-END--\n",
      "Percentage Null:\n"
     ]
    },
    {
     "data": {
      "text/plain": [
       "date                                          0.000000\n",
       "final.output.concentrate_ag                   0.003918\n",
       "final.output.concentrate_pb                   0.003830\n",
       "final.output.concentrate_sol                  0.016948\n",
       "final.output.concentrate_au                   0.003786\n",
       "                                                ...   \n",
       "secondary_cleaner.state.floatbank5_a_level    0.004446\n",
       "secondary_cleaner.state.floatbank5_b_air      0.004446\n",
       "secondary_cleaner.state.floatbank5_b_level    0.004402\n",
       "secondary_cleaner.state.floatbank6_a_air      0.005239\n",
       "secondary_cleaner.state.floatbank6_a_level    0.004446\n",
       "Length: 87, dtype: float64"
      ]
     },
     "metadata": {},
     "output_type": "display_data"
    },
    {
     "name": "stdout",
     "output_type": "stream",
     "text": [
      "-END--\n",
      "Duplicated:\n"
     ]
    },
    {
     "data": {
      "text/plain": [
       "0"
      ]
     },
     "metadata": {},
     "output_type": "display_data"
    }
   ],
   "source": [
    "data_info(gold_full)"
   ]
  },
  {
   "cell_type": "markdown",
   "id": "899d400c",
   "metadata": {},
   "source": [
    "### Conclusion\n",
    "The columns in all three datasets are float values expect for date which is string. There are no duplicates in all three datasets whiles there are some missing entries in all three."
   ]
  },
  {
   "cell_type": "markdown",
   "id": "5cd30e6c",
   "metadata": {},
   "source": [
    "\n",
    "<div class=\"alert alert-success\">\n",
    "<b>Reviewer's comment:</b> Ok, well done.\n",
    "</div>"
   ]
  },
  {
   "cell_type": "markdown",
   "id": "1b9cdd73",
   "metadata": {},
   "source": [
    "## Check that recovery is calculated correctly.  Find the MAE between your calculations and the feature values. "
   ]
  },
  {
   "cell_type": "code",
   "execution_count": 7,
   "id": "b041da4b",
   "metadata": {
    "ExecuteTime": {
     "end_time": "2021-09-10T18:23:20.338778Z",
     "start_time": "2021-09-10T18:23:20.328466Z"
    }
   },
   "outputs": [
    {
     "name": "stdout",
     "output_type": "stream",
     "text": [
      "MAE: 9.303415616264301e-15\n"
     ]
    }
   ],
   "source": [
    "C = gold_train['rougher.output.concentrate_au']\n",
    "F = gold_train['rougher.input.feed_au']\n",
    "T = gold_train['rougher.output.tail_au']\n",
    "df_recovery = ((C * (F - T))/(F * (C - T))) * 100\n",
    "df_output = pd.DataFrame({'recovery':gold_train['rougher.output.recovery'], \n",
    "                          'cal':df_recovery}).dropna()\n",
    "MAE = mean_absolute_error(df_output['recovery'],df_output['cal'])\n",
    "print('MAE:',MAE)                                                                          "
   ]
  },
  {
   "cell_type": "markdown",
   "id": "ceaee325",
   "metadata": {},
   "source": [
    "<div class=\"alert alert-success\">\n",
    "<b>Reviewer's comment:</b> Good, MAE is correct.\n",
    "</div>"
   ]
  },
  {
   "cell_type": "markdown",
   "id": "d01201e7",
   "metadata": {},
   "source": [
    "## Conclusion\n",
    "\n",
    "The MAE error is 9.303415616264301e-15 indicating that, recovery calculation is correct."
   ]
  },
  {
   "cell_type": "markdown",
   "id": "279b14b7",
   "metadata": {},
   "source": [
    "## Analyze the features not available in the test set. What are these parameters? What is their type?"
   ]
  },
  {
   "cell_type": "code",
   "execution_count": 8,
   "id": "92add923",
   "metadata": {
    "ExecuteTime": {
     "end_time": "2021-09-10T18:23:20.343820Z",
     "start_time": "2021-09-10T18:23:20.340167Z"
    }
   },
   "outputs": [
    {
     "data": {
      "text/plain": [
       "True"
      ]
     },
     "execution_count": 8,
     "metadata": {},
     "output_type": "execute_result"
    }
   ],
   "source": [
    "np.all(gold_train.columns.unique()==(gold_full.columns.unique()))"
   ]
  },
  {
   "cell_type": "code",
   "execution_count": 9,
   "id": "e11b71f0",
   "metadata": {
    "ExecuteTime": {
     "end_time": "2021-09-10T18:23:20.358597Z",
     "start_time": "2021-09-10T18:23:20.345293Z"
    }
   },
   "outputs": [
    {
     "data": {
      "text/html": [
       "<div>\n",
       "<style scoped>\n",
       "    .dataframe tbody tr th:only-of-type {\n",
       "        vertical-align: middle;\n",
       "    }\n",
       "\n",
       "    .dataframe tbody tr th {\n",
       "        vertical-align: top;\n",
       "    }\n",
       "\n",
       "    .dataframe thead th {\n",
       "        text-align: right;\n",
       "    }\n",
       "</style>\n",
       "<table border=\"1\" class=\"dataframe\">\n",
       "  <thead>\n",
       "    <tr style=\"text-align: right;\">\n",
       "      <th></th>\n",
       "      <th>col_name</th>\n",
       "      <th>type</th>\n",
       "    </tr>\n",
       "  </thead>\n",
       "  <tbody>\n",
       "    <tr>\n",
       "      <th>0</th>\n",
       "      <td>final.output.concentrate_ag</td>\n",
       "      <td>float64</td>\n",
       "    </tr>\n",
       "    <tr>\n",
       "      <th>1</th>\n",
       "      <td>final.output.concentrate_au</td>\n",
       "      <td>float64</td>\n",
       "    </tr>\n",
       "    <tr>\n",
       "      <th>2</th>\n",
       "      <td>final.output.concentrate_pb</td>\n",
       "      <td>float64</td>\n",
       "    </tr>\n",
       "    <tr>\n",
       "      <th>3</th>\n",
       "      <td>final.output.concentrate_sol</td>\n",
       "      <td>float64</td>\n",
       "    </tr>\n",
       "    <tr>\n",
       "      <th>4</th>\n",
       "      <td>final.output.recovery</td>\n",
       "      <td>float64</td>\n",
       "    </tr>\n",
       "    <tr>\n",
       "      <th>5</th>\n",
       "      <td>final.output.tail_ag</td>\n",
       "      <td>float64</td>\n",
       "    </tr>\n",
       "    <tr>\n",
       "      <th>6</th>\n",
       "      <td>final.output.tail_au</td>\n",
       "      <td>float64</td>\n",
       "    </tr>\n",
       "    <tr>\n",
       "      <th>7</th>\n",
       "      <td>final.output.tail_pb</td>\n",
       "      <td>float64</td>\n",
       "    </tr>\n",
       "    <tr>\n",
       "      <th>8</th>\n",
       "      <td>final.output.tail_sol</td>\n",
       "      <td>float64</td>\n",
       "    </tr>\n",
       "    <tr>\n",
       "      <th>9</th>\n",
       "      <td>primary_cleaner.output.concentrate_ag</td>\n",
       "      <td>float64</td>\n",
       "    </tr>\n",
       "    <tr>\n",
       "      <th>10</th>\n",
       "      <td>primary_cleaner.output.concentrate_au</td>\n",
       "      <td>float64</td>\n",
       "    </tr>\n",
       "    <tr>\n",
       "      <th>11</th>\n",
       "      <td>primary_cleaner.output.concentrate_pb</td>\n",
       "      <td>float64</td>\n",
       "    </tr>\n",
       "    <tr>\n",
       "      <th>12</th>\n",
       "      <td>primary_cleaner.output.concentrate_sol</td>\n",
       "      <td>float64</td>\n",
       "    </tr>\n",
       "    <tr>\n",
       "      <th>13</th>\n",
       "      <td>primary_cleaner.output.tail_ag</td>\n",
       "      <td>float64</td>\n",
       "    </tr>\n",
       "    <tr>\n",
       "      <th>14</th>\n",
       "      <td>primary_cleaner.output.tail_au</td>\n",
       "      <td>float64</td>\n",
       "    </tr>\n",
       "    <tr>\n",
       "      <th>15</th>\n",
       "      <td>primary_cleaner.output.tail_pb</td>\n",
       "      <td>float64</td>\n",
       "    </tr>\n",
       "    <tr>\n",
       "      <th>16</th>\n",
       "      <td>primary_cleaner.output.tail_sol</td>\n",
       "      <td>float64</td>\n",
       "    </tr>\n",
       "    <tr>\n",
       "      <th>17</th>\n",
       "      <td>rougher.calculation.au_pb_ratio</td>\n",
       "      <td>float64</td>\n",
       "    </tr>\n",
       "    <tr>\n",
       "      <th>18</th>\n",
       "      <td>rougher.calculation.floatbank10_sulfate_to_au_...</td>\n",
       "      <td>float64</td>\n",
       "    </tr>\n",
       "    <tr>\n",
       "      <th>19</th>\n",
       "      <td>rougher.calculation.floatbank11_sulfate_to_au_...</td>\n",
       "      <td>float64</td>\n",
       "    </tr>\n",
       "    <tr>\n",
       "      <th>20</th>\n",
       "      <td>rougher.calculation.sulfate_to_au_concentrate</td>\n",
       "      <td>float64</td>\n",
       "    </tr>\n",
       "    <tr>\n",
       "      <th>21</th>\n",
       "      <td>rougher.output.concentrate_ag</td>\n",
       "      <td>float64</td>\n",
       "    </tr>\n",
       "    <tr>\n",
       "      <th>22</th>\n",
       "      <td>rougher.output.concentrate_au</td>\n",
       "      <td>float64</td>\n",
       "    </tr>\n",
       "    <tr>\n",
       "      <th>23</th>\n",
       "      <td>rougher.output.concentrate_pb</td>\n",
       "      <td>float64</td>\n",
       "    </tr>\n",
       "    <tr>\n",
       "      <th>24</th>\n",
       "      <td>rougher.output.concentrate_sol</td>\n",
       "      <td>float64</td>\n",
       "    </tr>\n",
       "    <tr>\n",
       "      <th>25</th>\n",
       "      <td>rougher.output.recovery</td>\n",
       "      <td>float64</td>\n",
       "    </tr>\n",
       "    <tr>\n",
       "      <th>26</th>\n",
       "      <td>rougher.output.tail_ag</td>\n",
       "      <td>float64</td>\n",
       "    </tr>\n",
       "    <tr>\n",
       "      <th>27</th>\n",
       "      <td>rougher.output.tail_au</td>\n",
       "      <td>float64</td>\n",
       "    </tr>\n",
       "    <tr>\n",
       "      <th>28</th>\n",
       "      <td>rougher.output.tail_pb</td>\n",
       "      <td>float64</td>\n",
       "    </tr>\n",
       "    <tr>\n",
       "      <th>29</th>\n",
       "      <td>rougher.output.tail_sol</td>\n",
       "      <td>float64</td>\n",
       "    </tr>\n",
       "    <tr>\n",
       "      <th>30</th>\n",
       "      <td>secondary_cleaner.output.tail_ag</td>\n",
       "      <td>float64</td>\n",
       "    </tr>\n",
       "    <tr>\n",
       "      <th>31</th>\n",
       "      <td>secondary_cleaner.output.tail_au</td>\n",
       "      <td>float64</td>\n",
       "    </tr>\n",
       "    <tr>\n",
       "      <th>32</th>\n",
       "      <td>secondary_cleaner.output.tail_pb</td>\n",
       "      <td>float64</td>\n",
       "    </tr>\n",
       "    <tr>\n",
       "      <th>33</th>\n",
       "      <td>secondary_cleaner.output.tail_sol</td>\n",
       "      <td>float64</td>\n",
       "    </tr>\n",
       "  </tbody>\n",
       "</table>\n",
       "</div>"
      ],
      "text/plain": [
       "                                             col_name     type\n",
       "0                         final.output.concentrate_ag  float64\n",
       "1                         final.output.concentrate_au  float64\n",
       "2                         final.output.concentrate_pb  float64\n",
       "3                        final.output.concentrate_sol  float64\n",
       "4                               final.output.recovery  float64\n",
       "5                                final.output.tail_ag  float64\n",
       "6                                final.output.tail_au  float64\n",
       "7                                final.output.tail_pb  float64\n",
       "8                               final.output.tail_sol  float64\n",
       "9               primary_cleaner.output.concentrate_ag  float64\n",
       "10              primary_cleaner.output.concentrate_au  float64\n",
       "11              primary_cleaner.output.concentrate_pb  float64\n",
       "12             primary_cleaner.output.concentrate_sol  float64\n",
       "13                     primary_cleaner.output.tail_ag  float64\n",
       "14                     primary_cleaner.output.tail_au  float64\n",
       "15                     primary_cleaner.output.tail_pb  float64\n",
       "16                    primary_cleaner.output.tail_sol  float64\n",
       "17                    rougher.calculation.au_pb_ratio  float64\n",
       "18  rougher.calculation.floatbank10_sulfate_to_au_...  float64\n",
       "19  rougher.calculation.floatbank11_sulfate_to_au_...  float64\n",
       "20      rougher.calculation.sulfate_to_au_concentrate  float64\n",
       "21                      rougher.output.concentrate_ag  float64\n",
       "22                      rougher.output.concentrate_au  float64\n",
       "23                      rougher.output.concentrate_pb  float64\n",
       "24                     rougher.output.concentrate_sol  float64\n",
       "25                            rougher.output.recovery  float64\n",
       "26                             rougher.output.tail_ag  float64\n",
       "27                             rougher.output.tail_au  float64\n",
       "28                             rougher.output.tail_pb  float64\n",
       "29                            rougher.output.tail_sol  float64\n",
       "30                   secondary_cleaner.output.tail_ag  float64\n",
       "31                   secondary_cleaner.output.tail_au  float64\n",
       "32                   secondary_cleaner.output.tail_pb  float64\n",
       "33                  secondary_cleaner.output.tail_sol  float64"
      ]
     },
     "execution_count": 9,
     "metadata": {},
     "output_type": "execute_result"
    }
   ],
   "source": [
    "column_diff = list(set(gold_train.columns)-set(gold_test.columns))\n",
    "column_diff.sort()\n",
    "df_types = gold_full.dtypes.reset_index()\n",
    "df_types.columns = ['col_name','type']\n",
    "df_sub = pd.DataFrame({'col_name': column_diff}).merge(df_types).sort_values('col_name')\n",
    "df_sub"
   ]
  },
  {
   "cell_type": "markdown",
   "id": "5cce8ee4",
   "metadata": {},
   "source": [
    "## Conclusion\n",
    "\n",
    "The columns in the train set are equal to that of the full set. There are 34 columns not present in the test set and are float type. "
   ]
  },
  {
   "cell_type": "markdown",
   "id": "40f02848",
   "metadata": {},
   "source": [
    " ## Perform data preprocessing."
   ]
  },
  {
   "cell_type": "code",
   "execution_count": 10,
   "id": "c562fc18",
   "metadata": {
    "ExecuteTime": {
     "end_time": "2021-09-10T18:23:20.828673Z",
     "start_time": "2021-09-10T18:23:20.361249Z"
    }
   },
   "outputs": [],
   "source": [
    "colnames = gold_full.select_dtypes('float').columns\n",
    "gold_full[colnames] = gold_full[colnames].apply(pd.to_numeric, downcast='float')\n",
    "gold_train[colnames] = gold_train[colnames].apply(pd.to_numeric, downcast='float')\n",
    "col = gold_test.select_dtypes('float').columns\n",
    "gold_test[col] = gold_test[col].apply(pd.to_numeric, downcast='float')"
   ]
  },
  {
   "cell_type": "code",
   "execution_count": 11,
   "id": "45b3b289",
   "metadata": {
    "ExecuteTime": {
     "end_time": "2021-09-10T18:23:20.839490Z",
     "start_time": "2021-09-10T18:23:20.831225Z"
    }
   },
   "outputs": [],
   "source": [
    "gold_train['date'] = pd.to_datetime(gold_test['date'])"
   ]
  },
  {
   "cell_type": "code",
   "execution_count": 12,
   "id": "d0203b60",
   "metadata": {
    "ExecuteTime": {
     "end_time": "2021-09-10T18:23:20.844409Z",
     "start_time": "2021-09-10T18:23:20.841450Z"
    }
   },
   "outputs": [],
   "source": [
    "gold_train.date = gold_train.date.fillna(method='ffill')"
   ]
  },
  {
   "cell_type": "code",
   "execution_count": 13,
   "id": "c27883a5",
   "metadata": {
    "ExecuteTime": {
     "end_time": "2021-09-10T18:23:20.850839Z",
     "start_time": "2021-09-10T18:23:20.846328Z"
    }
   },
   "outputs": [],
   "source": [
    "gold_test['date'] = pd.to_datetime(gold_test['date'])"
   ]
  },
  {
   "cell_type": "code",
   "execution_count": 14,
   "id": "357ba724",
   "metadata": {
    "ExecuteTime": {
     "end_time": "2021-09-10T18:23:20.859885Z",
     "start_time": "2021-09-10T18:23:20.852238Z"
    }
   },
   "outputs": [],
   "source": [
    "gold_full['date'] = pd.to_datetime(gold_full['date'])"
   ]
  },
  {
   "cell_type": "code",
   "execution_count": 15,
   "id": "c1390eb1",
   "metadata": {
    "ExecuteTime": {
     "end_time": "2021-09-10T18:23:20.865528Z",
     "start_time": "2021-09-10T18:23:20.861986Z"
    }
   },
   "outputs": [],
   "source": [
    "gold_test.date = gold_test.date.fillna(method='ffill')"
   ]
  },
  {
   "cell_type": "code",
   "execution_count": 16,
   "id": "6fd423eb",
   "metadata": {
    "ExecuteTime": {
     "end_time": "2021-09-10T18:23:20.884734Z",
     "start_time": "2021-09-10T18:23:20.866955Z"
    }
   },
   "outputs": [],
   "source": [
    "gold_test = (gold_test.merge(gold_full[['rougher.output.recovery','final.output.recovery']],\n",
    "                             how= 'left',left_index=True, right_index=True))"
   ]
  },
  {
   "cell_type": "markdown",
   "id": "00198cfa",
   "metadata": {},
   "source": [
    "## Conclusion\n",
    "The date columns for all three have to converted to datetime format and missing dates filled with the date before based on the fact that, Parameters that are next to each other in terms of time are often similar. The remaining missing rows would be dropped as there are no clear bases for filling them in."
   ]
  },
  {
   "cell_type": "markdown",
   "id": "e9936990",
   "metadata": {},
   "source": [
    "\n",
    "<div class=\"alert alert-success\">\n",
    "<b>Reviewer's comment:</b> Good, I agree with your approach.\n",
    "</div>"
   ]
  },
  {
   "cell_type": "markdown",
   "id": "5295295d",
   "metadata": {},
   "source": [
    "## Conclusion \n",
    "The columns in the train set are equal to that in the full set whiles 34 of these columns are missing in the test set. There were no duplicates in all three datasets. The float dtype have all been downcast with missing values in the data column forward fill. As there is no clear approach in handing the remaining missing values, those rows would be dropped."
   ]
  },
  {
   "cell_type": "markdown",
   "id": "e7599900",
   "metadata": {},
   "source": [
    "# Analyze the data"
   ]
  },
  {
   "cell_type": "markdown",
   "id": "64087124",
   "metadata": {},
   "source": [
    "## Take note of how the concentrations of metals (Au, Ag, Pb) change depending on the purification stage."
   ]
  },
  {
   "cell_type": "code",
   "execution_count": 17,
   "id": "80f01782",
   "metadata": {
    "ExecuteTime": {
     "end_time": "2021-09-10T18:23:20.891940Z",
     "start_time": "2021-09-10T18:23:20.886248Z"
    },
    "scrolled": true
   },
   "outputs": [
    {
     "data": {
      "text/plain": [
       "['rougher.calculation.sulfate_to_au_concentrate',\n",
       " 'rougher.calculation.floatbank10_sulfate_to_au_feed',\n",
       " 'rougher.calculation.floatbank11_sulfate_to_au_feed',\n",
       " 'rougher.calculation.au_pb_ratio',\n",
       " 'rougher.input.feed_ag',\n",
       " 'rougher.input.feed_pb',\n",
       " 'rougher.input.feed_rate',\n",
       " 'rougher.input.feed_size',\n",
       " 'rougher.input.feed_sol',\n",
       " 'rougher.input.feed_au',\n",
       " 'rougher.input.floatbank10_sulfate',\n",
       " 'rougher.input.floatbank10_xanthate',\n",
       " 'rougher.input.floatbank11_sulfate',\n",
       " 'rougher.input.floatbank11_xanthate',\n",
       " 'rougher.output.concentrate_ag',\n",
       " 'rougher.output.concentrate_pb',\n",
       " 'rougher.output.concentrate_sol',\n",
       " 'rougher.output.concentrate_au',\n",
       " 'rougher.output.recovery',\n",
       " 'rougher.output.tail_ag',\n",
       " 'rougher.output.tail_pb',\n",
       " 'rougher.output.tail_sol',\n",
       " 'rougher.output.tail_au',\n",
       " 'rougher.state.floatbank10_a_air',\n",
       " 'rougher.state.floatbank10_a_level',\n",
       " 'rougher.state.floatbank10_b_air',\n",
       " 'rougher.state.floatbank10_b_level',\n",
       " 'rougher.state.floatbank10_c_air',\n",
       " 'rougher.state.floatbank10_c_level',\n",
       " 'rougher.state.floatbank10_d_air',\n",
       " 'rougher.state.floatbank10_d_level',\n",
       " 'rougher.state.floatbank10_e_air',\n",
       " 'rougher.state.floatbank10_e_level',\n",
       " 'rougher.state.floatbank10_f_air',\n",
       " 'rougher.state.floatbank10_f_level']"
      ]
     },
     "execution_count": 17,
     "metadata": {},
     "output_type": "execute_result"
    }
   ],
   "source": [
    "column_names = [col for col in gold_full.columns if 'rougher' in col]\n",
    "column_names"
   ]
  },
  {
   "cell_type": "code",
   "execution_count": 18,
   "id": "880e7a5a",
   "metadata": {
    "ExecuteTime": {
     "end_time": "2021-09-10T18:23:24.985045Z",
     "start_time": "2021-09-10T18:23:24.979461Z"
    }
   },
   "outputs": [],
   "source": [
    "train_rougher = col_str(gold_full,'rougher')"
   ]
  },
  {
   "cell_type": "code",
   "execution_count": 19,
   "id": "50919038",
   "metadata": {
    "ExecuteTime": {
     "end_time": "2021-09-10T18:23:25.642079Z",
     "start_time": "2021-09-10T18:23:25.574872Z"
    }
   },
   "outputs": [],
   "source": [
    "au_rougher_input = metal_contrate(gold_full,'au','rougher','feed', 'input')\n",
    "ag_rougher_input = metal_contrate(gold_full,'ag','rougher','feed', 'input')\n",
    "pb_rougher_input = metal_contrate(gold_full,'pb','rougher','feed', 'input')\n",
    "\n",
    "au_final_tail = metal_contrate(gold_full,'au','final','output', 'tail')\n",
    "ag_final_tail = metal_contrate(gold_full,'ag','final','output', 'tail')\n",
    "pb_final_tail = metal_contrate(gold_full,'pb','final','output', 'tail')\n",
    "\n",
    "au_rougher_tail = metal_contrate(gold_full,'au','rougher','output', 'tail')\n",
    "ag_rougher_tail = metal_contrate(gold_full,'ag','rougher','output', 'tail')\n",
    "pb_rougher_tail = metal_contrate(gold_full,'pb','rougher','output', 'tail')\n",
    "\n",
    "au_primary_con = metal_contrate(gold_full,'au','primary','output','concentrate')\n",
    "ag_primary_con = metal_contrate(gold_full,'ag','primary','output','concentrate')\n",
    "pb_primary_con = metal_contrate(gold_full,'pb','final','output','concentrate')\n",
    "\n",
    "au_final_con = metal_contrate(gold_full,'au','final','output','concentrate')\n",
    "ag_final_con = metal_contrate(gold_full,'ag','final','output','concentrate')\n",
    "pb_final_con = metal_contrate(gold_full,'pb','final','output','concentrate')"
   ]
  },
  {
   "cell_type": "code",
   "execution_count": 20,
   "id": "cf1a53fd",
   "metadata": {
    "ExecuteTime": {
     "end_time": "2021-09-10T18:23:27.481310Z",
     "start_time": "2021-09-10T18:23:27.267045Z"
    }
   },
   "outputs": [
    {
     "data": {
      "image/png": "[encoded data removed]",
      "text/plain": [
       "<Figure size 1000x500 with 1 Axes>"
      ]
     },
     "metadata": {
      "needs_background": "light"
     },
     "output_type": "display_data"
    }
   ],
   "source": [
    "plot_1 = [au_rougher_input, au_final_tail,au_rougher_tail, au_primary_con, au_final_con]\n",
    "plot_2 = [ag_rougher_input, ag_final_tail,ag_rougher_tail, ag_primary_con, ag_final_con]\n",
    "plot_3= [pb_rougher_input, pb_final_tail,pb_rougher_tail, pb_primary_con, pb_final_con]\n",
    "\n",
    "plt.figure(figsize=(10,5), dpi= 100)\n",
    "\n",
    "barWidth = 0.2\n",
    "\n",
    "z1 = np.arange(len(plot_1))\n",
    "z2 = [x + barWidth for x in z1]\n",
    "z3= [x + barWidth for x in z2]\n",
    "plt.bar(z1, plot_1, color='#800000', width=barWidth,label = 'Au')\n",
    "plt.bar(z2, plot_2, color='#228B22', width=barWidth,label = 'Ag')\n",
    "plt.bar(z3, plot_3, color='#0000CD', width=barWidth,label = 'Pd')\n",
    "plt.xticks(rotation = 45)    \n",
    "plt.title('Au, Ag, Pd concentration for different purification stages')\n",
    "plt.ylabel('Total volumn of metal usage')\n",
    "plt.xlabel('Purification Stages',fontweight = 'bold')\n",
    "plt.xticks([r + barWidth for r in range(len(plot_1))],\n",
    "           ['Rougher ouput input', 'Final output tail', 'Rougher output tail','Primary Output Concent', 'Final Output Concent'])\n",
    " \n",
    "plt.legend()\n",
    "plt.show()"
   ]
  },
  {
   "cell_type": "markdown",
   "id": "5285a220",
   "metadata": {},
   "source": [
    "## Conclusion\n",
    "\n",
    "The graph above shows the various purification stages and how the various metals are used. Au is the most used metal in the final stage."
   ]
  },
  {
   "cell_type": "markdown",
   "id": "4d85fae1",
   "metadata": {},
   "source": [
    "## Compare the feed particle size distributions in the training set and in the test set. "
   ]
  },
  {
   "cell_type": "code",
   "execution_count": 21,
   "id": "e560f6fd",
   "metadata": {
    "ExecuteTime": {
     "end_time": "2021-09-10T18:23:32.463862Z",
     "start_time": "2021-09-10T18:23:31.972894Z"
    }
   },
   "outputs": [
    {
     "data": {
      "image/png": "[encoded data removed]",
      "text/plain": [
       "<Figure size 432x288 with 1 Axes>"
      ]
     },
     "metadata": {
      "needs_background": "light"
     },
     "output_type": "display_data"
    }
   ],
   "source": [
    "gold_train['rougher.input.feed_size'].hist(bins=100,label='Train')\n",
    "gold_test['rougher.input.feed_size'].hist(bins=100,label='Test')\n",
    "plt.xlim=(0,200)\n",
    "plt.legend()\n",
    "plt.title('Comparison of rougher input feed size')\n",
    "plt.xlabel('Rougher input feed size')\n",
    "plt.ylabel('Count');"
   ]
  },
  {
   "cell_type": "code",
   "execution_count": 22,
   "id": "a05375e9",
   "metadata": {
    "ExecuteTime": {
     "end_time": "2021-09-10T18:23:34.069961Z",
     "start_time": "2021-09-10T18:23:33.636366Z"
    }
   },
   "outputs": [
    {
     "data": {
      "image/png": "[encoded data removed]",
      "text/plain": [
       "<Figure size 432x288 with 1 Axes>"
      ]
     },
     "metadata": {
      "needs_background": "light"
     },
     "output_type": "display_data"
    }
   ],
   "source": [
    "gold_train['rougher.output.recovery'].hist(bins=100,label='Train')\n",
    "gold_test['rougher.output.recovery'].hist(bins=100,label='Test')\n",
    "plt.xlim=(0,100)\n",
    "plt.legend()\n",
    "plt.title('Comparison of rougher output recovery')\n",
    "plt.xlabel('Rougher output recovery')\n",
    "plt.ylabel('Count');"
   ]
  },
  {
   "cell_type": "code",
   "execution_count": 23,
   "id": "052f3dd6",
   "metadata": {
    "ExecuteTime": {
     "end_time": "2021-09-10T18:23:36.263421Z",
     "start_time": "2021-09-10T18:23:36.250898Z"
    }
   },
   "outputs": [
    {
     "data": {
      "text/plain": [
       "count    14287.000000\n",
       "mean        82.393959\n",
       "std         15.096820\n",
       "min          0.000000\n",
       "25%         79.818375\n",
       "50%         85.236000\n",
       "75%         90.131691\n",
       "max        100.000000\n",
       "Name: rougher.output.recovery, dtype: float64"
      ]
     },
     "metadata": {},
     "output_type": "display_data"
    },
    {
     "data": {
      "text/plain": [
       "count    5026.000000\n",
       "mean       77.360588\n",
       "std        14.617539\n",
       "min         0.000000\n",
       "25%        74.577278\n",
       "50%        80.105629\n",
       "75%        84.754669\n",
       "max        99.132729\n",
       "Name: rougher.output.recovery, dtype: float64"
      ]
     },
     "execution_count": 23,
     "metadata": {},
     "output_type": "execute_result"
    }
   ],
   "source": [
    "display(gold_train['rougher.output.recovery'].describe())\n",
    "gold_test['rougher.output.recovery'].describe()"
   ]
  },
  {
   "cell_type": "markdown",
   "id": "18a07cc8",
   "metadata": {},
   "source": [
    "## Conclusion \n",
    "The distribution of both the training and test set seems to be the same."
   ]
  },
  {
   "cell_type": "markdown",
   "id": "d9b9b349",
   "metadata": {},
   "source": [
    "<div class=\"alert alert-success\">\n",
    "<b>Reviewer's comment:</b> 👍\n",
    "</div>\n"
   ]
  },
  {
   "cell_type": "markdown",
   "id": "d6a7307a",
   "metadata": {},
   "source": [
    "## Consider the total concentrations of all substances at different stages: raw feed, rougher concentrate, and final concentrate. "
   ]
  },
  {
   "cell_type": "code",
   "execution_count": 24,
   "id": "f27a568c",
   "metadata": {
    "ExecuteTime": {
     "end_time": "2021-09-10T18:23:39.598544Z",
     "start_time": "2021-09-10T18:23:39.441355Z"
    }
   },
   "outputs": [
    {
     "data": {
      "image/png": "[encoded data removed]",
      "text/plain": [
       "<Figure size 432x288 with 1 Axes>"
      ]
     },
     "metadata": {
      "needs_background": "light"
     },
     "output_type": "display_data"
    }
   ],
   "source": [
    "final_concentrate = col_str(gold_full,'final.output.concentrate')\n",
    "final_concentrate.sum(1).hist()\n",
    "plt.title('Distribution of final output concentrate')\n",
    "plt.xlabel('Final output concentrate')\n",
    "plt.ylabel('Total');"
   ]
  },
  {
   "cell_type": "code",
   "execution_count": 25,
   "id": "597fc5ac",
   "metadata": {
    "ExecuteTime": {
     "end_time": "2021-09-10T18:23:42.572729Z",
     "start_time": "2021-09-10T18:23:42.410613Z"
    }
   },
   "outputs": [
    {
     "data": {
      "image/png": "[encoded data removed]",
      "text/plain": [
       "<Figure size 432x288 with 1 Axes>"
      ]
     },
     "metadata": {
      "needs_background": "light"
     },
     "output_type": "display_data"
    }
   ],
   "source": [
    "final_concentrate[final_concentrate >0.01].dropna().sum(1).hist()\n",
    "plt.title('Distribution of final output concentrate greater that 0.01')\n",
    "plt.xlabel('Final output concentrate')\n",
    "plt.ylabel('Total');"
   ]
  },
  {
   "cell_type": "code",
   "execution_count": 26,
   "id": "17ff89f2",
   "metadata": {
    "ExecuteTime": {
     "end_time": "2021-09-10T18:23:44.466549Z",
     "start_time": "2021-09-10T18:23:44.336298Z"
    }
   },
   "outputs": [
    {
     "data": {
      "image/png": "[encoded data removed]",
      "text/plain": [
       "<Figure size 432x288 with 1 Axes>"
      ]
     },
     "metadata": {
      "needs_background": "light"
     },
     "output_type": "display_data"
    }
   ],
   "source": [
    "rougher_concentrate = col_str(gold_full,'rougher.output.concentrate')\n",
    "rougher_concentrate.sum(1).hist()\n",
    "plt.title('Distribution of rougher output concentrate')\n",
    "plt.xlabel('Rougher output concentrate')\n",
    "plt.ylabel('Total');"
   ]
  },
  {
   "cell_type": "code",
   "execution_count": 27,
   "id": "46762364",
   "metadata": {
    "ExecuteTime": {
     "end_time": "2021-09-10T18:23:47.028240Z",
     "start_time": "2021-09-10T18:23:46.880929Z"
    }
   },
   "outputs": [
    {
     "data": {
      "image/png": "[encoded data removed]",
      "text/plain": [
       "<Figure size 432x288 with 1 Axes>"
      ]
     },
     "metadata": {
      "needs_background": "light"
     },
     "output_type": "display_data"
    }
   ],
   "source": [
    "rougher_concentrate[rougher_concentrate >0.01].dropna().sum(1).hist()\n",
    "plt.title('Distribution of rougher output concentrate greater than 0.01')\n",
    "plt.xlabel('Final output concentrate')\n",
    "plt.ylabel('Total');"
   ]
  },
  {
   "cell_type": "code",
   "execution_count": 28,
   "id": "c9adebbc",
   "metadata": {
    "ExecuteTime": {
     "end_time": "2021-09-10T18:23:49.575650Z",
     "start_time": "2021-09-10T18:23:49.435836Z"
    }
   },
   "outputs": [
    {
     "data": {
      "image/png": "[encoded data removed]",
      "text/plain": [
       "<Figure size 432x288 with 1 Axes>"
      ]
     },
     "metadata": {
      "needs_background": "light"
     },
     "output_type": "display_data"
    }
   ],
   "source": [
    "rougher_feed = col_str(gold_full,'rougher.input.feed_size')\n",
    "rougher_feed.sum(1).hist()\n",
    "plt.title('Distribution of rougher input feed size')\n",
    "plt.xlabel('Rougher input feed size')\n",
    "plt.ylabel('Total');"
   ]
  },
  {
   "cell_type": "code",
   "execution_count": 29,
   "id": "c0f46c74",
   "metadata": {
    "ExecuteTime": {
     "end_time": "2021-09-10T18:24:29.696227Z",
     "start_time": "2021-09-10T18:24:29.557371Z"
    }
   },
   "outputs": [
    {
     "data": {
      "image/png": "[encoded data removed]",
      "text/plain": [
       "<Figure size 432x288 with 1 Axes>"
      ]
     },
     "metadata": {
      "needs_background": "light"
     },
     "output_type": "display_data"
    }
   ],
   "source": [
    "rougher_feed[rougher_feed >0.01].dropna().sum(1).hist()\n",
    "plt.title('Distribution of rougher input feed size greater than 0.01')\n",
    "plt.xlabel('Rougher input feed size')\n",
    "plt.ylabel('Total');"
   ]
  },
  {
   "cell_type": "markdown",
   "id": "63c60e3e",
   "metadata": {},
   "source": [
    "## Conclusion \n",
    "\n",
    "The distribution are similar for raw feed, rougher concentrate and final concentrate with and without the null and values close to zero."
   ]
  },
  {
   "cell_type": "markdown",
   "id": "f01004d8",
   "metadata": {},
   "source": [
    "# Build the model"
   ]
  },
  {
   "cell_type": "markdown",
   "id": "eb655058",
   "metadata": {},
   "source": [
    "## Write a function to calculate the final sMAPE value."
   ]
  },
  {
   "cell_type": "code",
   "execution_count": 30,
   "id": "3e89be1b",
   "metadata": {
    "ExecuteTime": {
     "end_time": "2021-09-10T18:24:33.219697Z",
     "start_time": "2021-09-10T18:24:33.197333Z"
    }
   },
   "outputs": [],
   "source": [
    "target = ['rougher.output.recovery', 'final.output.recovery']\n",
    "features = list(set(gold_train.columns).intersection(set(gold_test.columns)).difference(set(target)))\n",
    "features.remove('date')\n",
    "\n",
    "gold_train = gold_train.dropna()\n",
    "gold_test = gold_test.dropna()"
   ]
  },
  {
   "cell_type": "code",
   "execution_count": 31,
   "id": "5b5cb9cc",
   "metadata": {
    "ExecuteTime": {
     "end_time": "2021-09-10T18:24:34.996498Z",
     "start_time": "2021-09-10T18:24:34.993907Z"
    }
   },
   "outputs": [],
   "source": [
    "smape_score = make_scorer(smape_final)"
   ]
  },
  {
   "cell_type": "markdown",
   "id": "76c1e8c4",
   "metadata": {},
   "source": [
    "## Conclusion\n",
    "\n",
    "The features for the model prediction have been limited to only columns available in the test set. "
   ]
  },
  {
   "cell_type": "markdown",
   "id": "0ad0e5c3",
   "metadata": {},
   "source": [
    "## Train different models. Evaluate them using cross-validation. Pick the best model and test it using the test sample. "
   ]
  },
  {
   "cell_type": "code",
   "execution_count": 32,
   "id": "30fc8728",
   "metadata": {
    "ExecuteTime": {
     "end_time": "2021-09-10T18:24:39.014807Z",
     "start_time": "2021-09-10T18:24:39.005748Z"
    }
   },
   "outputs": [],
   "source": [
    "x_train,x_test = gold_train[features].values,gold_test[features].values\n",
    "y_train, y_test = gold_train[target].values,gold_test[target].values"
   ]
  },
  {
   "cell_type": "code",
   "execution_count": 33,
   "id": "6c12ae9f",
   "metadata": {
    "ExecuteTime": {
     "end_time": "2021-09-10T18:24:39.866677Z",
     "start_time": "2021-09-10T18:24:39.793532Z"
    }
   },
   "outputs": [
    {
     "name": "stdout",
     "output_type": "stream",
     "text": [
      "Mean smape: 0.06507914764806629\n",
      "Smape: [0.02321793 0.11213129 0.04901175 0.03693783 0.10409694]\n"
     ]
    }
   ],
   "source": [
    "liner_reg(x_train, x_test,y_train, y_test)"
   ]
  },
  {
   "cell_type": "code",
   "execution_count": 34,
   "id": "edbc17d0",
   "metadata": {
    "ExecuteTime": {
     "end_time": "2021-09-10T18:24:50.068253Z",
     "start_time": "2021-09-10T18:24:41.637257Z"
    }
   },
   "outputs": [
    {
     "name": "stdout",
     "output_type": "stream",
     "text": [
      "Mean smape: 0.056626618441367904\n",
      "Accuracy: 0.017444649041517313\n",
      "Smape: [0.02326395 0.12273152 0.03072686 0.06567546 0.0407353 ]\n",
      "Best params: {'max_depth': 6, 'min_samples_split': 2}\n"
     ]
    }
   ],
   "source": [
    "DecisionTreeReg(x_train, x_test,y_train, y_test)"
   ]
  },
  {
   "cell_type": "code",
   "execution_count": 35,
   "id": "d0720ba2",
   "metadata": {
    "ExecuteTime": {
     "end_time": "2021-09-10T18:32:31.330088Z",
     "start_time": "2021-09-10T18:24:50.070989Z"
    }
   },
   "outputs": [
    {
     "name": "stdout",
     "output_type": "stream",
     "text": [
      "Mean smape: 0.06975699628976066\n",
      "Accuracy: 0.014203581843944654\n",
      "Smape: [0.09221884 0.11827127 0.03416641 0.06109555 0.04303292]\n",
      "Best params: {'max_depth': 6, 'min_samples_split': 6, 'n_estimators': 41}\n"
     ]
    }
   ],
   "source": [
    "RandomForestReg(x_train, x_test,y_train, y_test)"
   ]
  },
  {
   "cell_type": "code",
   "execution_count": 36,
   "id": "ae95a15c",
   "metadata": {
    "ExecuteTime": {
     "end_time": "2021-09-10T18:32:31.349051Z",
     "start_time": "2021-09-10T18:32:31.333427Z"
    }
   },
   "outputs": [
    {
     "name": "stdout",
     "output_type": "stream",
     "text": [
      "Mean smape: 0.07833194825798273\n",
      "Accuracy -0.0985932970320984\n"
     ]
    }
   ],
   "source": [
    "dm = DummyRegressor(strategy='mean').fit(x_train,y_train)\n",
    "score_dm= cross_val_score(dm, x_train, y_train, cv=5, scoring=smape_score)\n",
    "print('Mean smape:',score_dm.mean())\n",
    "print('Accuracy',dm.score(x_test,y_test))"
   ]
  },
  {
   "cell_type": "markdown",
   "id": "7fa808b6",
   "metadata": {},
   "source": [
    "## Conclusion \n",
    "Linear Regression smape: **0.065**\n",
    "\n",
    "Decision Tree Regressor smape: **0.057**\n",
    "\n",
    "Random Forest Regresor smape: **0.073**\n",
    "\n",
    "Dummy Regressor smape: **0.078**\n",
    "\n",
    "On average, the model giving the least error from its predicted values is Decision Tree Regressor. \n"
   ]
  },
  {
   "cell_type": "markdown",
   "id": "a02b8b1d",
   "metadata": {},
   "source": [
    "<div class=\"alert alert-success\">\n",
    "<b>Reviewer's comment:</b>  👍\n",
    "</div>\n"
   ]
  },
  {
   "cell_type": "markdown",
   "id": "4d807cc4",
   "metadata": {},
   "source": [
    "# Final Conclusion\n",
    "**Preprocessing and Analysis**\n",
    "The data columns of all datasets were converted from string to datetime and missing values of the date with forward filled based on the parameters set by Zyfra. Missing columns were dropped in the cause of the data usage whiles rougher.output.recovery and final.output.recovery which was not part of the test dataset were added. \n",
    "\n",
    "**Findings**\n",
    "1. The most used metal is au at the final output concentrate stage of mineral processing.\n",
    "2. The best result with least error rate of 0.057 was Decision Tree Regressor with an accuracy score of 0.017."
   ]
  },
  {
   "cell_type": "code",
   "execution_count": null,
   "id": "a495461d",
   "metadata": {},
   "outputs": [],
   "source": []
  }
 ],
 "metadata": {
  "ExecuteTimeLog": [
   {
    "duration": 1560,
    "start_time": "2021-09-10T15:47:13.958Z"
   },
   {
    "duration": 20,
    "start_time": "2021-09-10T15:47:15.521Z"
   },
   {
    "duration": 5772,
    "start_time": "2021-09-10T15:47:15.544Z"
   },
   {
    "duration": 236,
    "start_time": "2021-09-10T15:47:21.318Z"
   },
   {
    "duration": 142,
    "start_time": "2021-09-10T15:47:21.556Z"
   },
   {
    "duration": 292,
    "start_time": "2021-09-10T15:47:21.701Z"
   },
   {
    "duration": 15,
    "start_time": "2021-09-10T15:47:21.996Z"
   },
   {
    "duration": 7,
    "start_time": "2021-09-10T15:47:22.016Z"
   },
   {
    "duration": 26,
    "start_time": "2021-09-10T15:47:22.062Z"
   },
   {
    "duration": 410,
    "start_time": "2021-09-10T15:47:22.090Z"
   },
   {
    "duration": 10,
    "start_time": "2021-09-10T15:47:22.502Z"
   },
   {
    "duration": 14,
    "start_time": "2021-09-10T15:47:22.515Z"
   },
   {
    "duration": 23,
    "start_time": "2021-09-10T15:47:22.531Z"
   },
   {
    "duration": 22,
    "start_time": "2021-09-10T15:47:22.557Z"
   },
   {
    "duration": 16,
    "start_time": "2021-09-10T15:47:22.581Z"
   },
   {
    "duration": 39,
    "start_time": "2021-09-10T15:47:22.599Z"
   },
   {
    "duration": 25,
    "start_time": "2021-09-10T15:47:22.641Z"
   },
   {
    "duration": 29,
    "start_time": "2021-09-10T15:47:22.668Z"
   },
   {
    "duration": 97,
    "start_time": "2021-09-10T15:47:22.699Z"
   },
   {
    "duration": 493,
    "start_time": "2021-09-10T15:47:22.799Z"
   },
   {
    "duration": 1134,
    "start_time": "2021-09-10T15:47:23.294Z"
   },
   {
    "duration": 1124,
    "start_time": "2021-09-10T15:47:24.431Z"
   },
   {
    "duration": 17,
    "start_time": "2021-09-10T15:47:25.564Z"
   },
   {
    "duration": 388,
    "start_time": "2021-09-10T15:47:25.584Z"
   },
   {
    "duration": 482,
    "start_time": "2021-09-10T15:47:25.975Z"
   },
   {
    "duration": -60,
    "start_time": "2021-09-10T15:47:26.519Z"
   },
   {
    "duration": -63,
    "start_time": "2021-09-10T15:47:26.524Z"
   },
   {
    "duration": -70,
    "start_time": "2021-09-10T15:47:26.532Z"
   },
   {
    "duration": -72,
    "start_time": "2021-09-10T15:47:26.536Z"
   },
   {
    "duration": -75,
    "start_time": "2021-09-10T15:47:26.540Z"
   },
   {
    "duration": -80,
    "start_time": "2021-09-10T15:47:26.546Z"
   },
   {
    "duration": -81,
    "start_time": "2021-09-10T15:47:26.549Z"
   },
   {
    "duration": -85,
    "start_time": "2021-09-10T15:47:26.554Z"
   },
   {
    "duration": -87,
    "start_time": "2021-09-10T15:47:26.557Z"
   },
   {
    "duration": -94,
    "start_time": "2021-09-10T15:47:26.565Z"
   },
   {
    "duration": -95,
    "start_time": "2021-09-10T15:47:26.568Z"
   },
   {
    "duration": -98,
    "start_time": "2021-09-10T15:47:26.572Z"
   }
  ],
  "kernelspec": {
   "display_name": "Python 3 (ipykernel)",
   "language": "python",
   "name": "python3"
  },
  "language_info": {
   "codemirror_mode": {
    "name": "ipython",
    "version": 3
   },
   "file_extension": ".py",
   "mimetype": "text/x-python",
   "name": "python",
   "nbconvert_exporter": "python",
   "pygments_lexer": "ipython3",
   "version": "3.9.7"
  },
  "toc": {
   "base_numbering": 1,
   "nav_menu": {},
   "number_sections": true,
   "sideBar": true,
   "skip_h1_title": false,
   "title_cell": "Table of Contents",
   "title_sidebar": "Contents",
   "toc_cell": false,
   "toc_position": {},
   "toc_section_display": true,
   "toc_window_display": false
  }
 },
 "nbformat": 4,
 "nbformat_minor": 5
}
