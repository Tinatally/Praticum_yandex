{
 "cells": [
  {
   "cell_type": "markdown",
   "metadata": {},
   "source": [
    "**Review**\n",
    "  \n",
    "Hi, my name is Dmitry and I will be reviewing your project.\n",
    "  \n",
    "You can find my comments in colored markdown cells:\n",
    "  \n",
    "<div class=\"alert alert-success\">\n",
    "  If everything is done successfully.\n",
    "</div>\n",
    "  \n",
    "<div class=\"alert alert-warning\">\n",
    "  If I have some (optional) suggestions, or questions to think about, or general comments.\n",
    "</div>\n",
    "  \n",
    "<div class=\"alert alert-danger\">\n",
    "  If a section requires some corrections. Work can't be accepted with red comments.\n",
    "</div>\n",
    "  \n",
    "Please don't remove my comments, as it will make further review iterations much harder for me.\n",
    "  \n",
    "Feel free to reply to my comments or ask questions using the following template:\n",
    "  \n",
    "<div class=\"alert alert-info\">\n",
    "  For your comments and questions.\n",
    "</div>\n",
    "  \n",
    "First of all, thank you for turning in the project! You did a great job! The project is accepted. Keep up the good work on the next sprint!"
   ]
  },
  {
   "cell_type": "markdown",
   "metadata": {},
   "source": [
    "# Statement"
   ]
  },
  {
   "cell_type": "markdown",
   "metadata": {},
   "source": [
    "The Sure Tomorrow insurance company wants to solve several tasks with the help of Machine Learning and you are asked to evaluate that possibility.\n",
    "\n",
    "- Task 1: Find customers who are similar to a given customer. This will help the company's agents with marketing.\n",
    "- Task 2: Predict whether a new customer is likely to receive an insurance benefit. Can a prediction model do better than a dummy model?\n",
    "- Task 3: Predict the number of insurance benefits a new customer is likely to receive using a linear regression model.\n",
    "- Task 4: Protect clients' personal data without breaking the model from the previous task. It's necessary to develop a data transformation algorithm that would make it hard to recover personal information if the data fell into the wrong hands. This is called data masking, or data obfuscation. But the data should be protected in such a way that the quality of machine learning models doesn't suffer. You don't need to pick the best model, just prove that the algorithm works correctly."
   ]
  },
  {
   "cell_type": "markdown",
   "metadata": {},
   "source": [
    "# Data Preprocessing & Exploration\n",
    "\n",
    "## Initialization"
   ]
  },
  {
   "cell_type": "code",
   "execution_count": 1,
   "metadata": {},
   "outputs": [],
   "source": [
    "import numpy as np\n",
    "import pandas as pd\n",
    "\n",
    "import math\n",
    "import seaborn as sns\n",
    "import matplotlib.pyplot as plt\n",
    "import sklearn.linear_model\n",
    "import sklearn.metrics\n",
    "from sklearn.neighbors import NearestNeighbors\n",
    "import sklearn.preprocessing\n",
    "from sklearn.neighbors import KNeighborsClassifier\n",
    "from sklearn.model_selection import train_test_split\n",
    "from sklearn.metrics import confusion_matrix\n",
    "from IPython.display import display\n"
   ]
  },
  {
   "cell_type": "markdown",
   "metadata": {},
   "source": [
    "## Load Data"
   ]
  },
  {
   "cell_type": "markdown",
   "metadata": {},
   "source": [
    "Load data and conduct a basic check that it's free from obvious issues."
   ]
  },
  {
   "cell_type": "code",
   "execution_count": 2,
   "metadata": {},
   "outputs": [],
   "source": [
    "try:\n",
    "    df = pd.read_csv('https://code.s3.yandex.net/datasets/insurance_us.csv')\n",
    "except:\n",
    "    df = pd.read_csv('/datasets/insurance_us.csv')"
   ]
  },
  {
   "cell_type": "markdown",
   "metadata": {},
   "source": [
    "We rename the colums to make the code look more consistent with its style."
   ]
  },
  {
   "cell_type": "code",
   "execution_count": 3,
   "metadata": {},
   "outputs": [],
   "source": [
    "df = df.rename(columns={'Gender': 'gender', 'Age': 'age', 'Salary': 'income', 'Family members': 'family_members', 'Insurance benefits': 'insurance_benefits'})\n"
   ]
  },
  {
   "cell_type": "code",
   "execution_count": 4,
   "metadata": {},
   "outputs": [
    {
     "data": {
      "text/html": [
       "<div>\n",
       "<style scoped>\n",
       "    .dataframe tbody tr th:only-of-type {\n",
       "        vertical-align: middle;\n",
       "    }\n",
       "\n",
       "    .dataframe tbody tr th {\n",
       "        vertical-align: top;\n",
       "    }\n",
       "\n",
       "    .dataframe thead th {\n",
       "        text-align: right;\n",
       "    }\n",
       "</style>\n",
       "<table border=\"1\" class=\"dataframe\">\n",
       "  <thead>\n",
       "    <tr style=\"text-align: right;\">\n",
       "      <th></th>\n",
       "      <th>gender</th>\n",
       "      <th>age</th>\n",
       "      <th>income</th>\n",
       "      <th>family_members</th>\n",
       "      <th>insurance_benefits</th>\n",
       "    </tr>\n",
       "  </thead>\n",
       "  <tbody>\n",
       "    <tr>\n",
       "      <td>3411</td>\n",
       "      <td>1</td>\n",
       "      <td>25.0</td>\n",
       "      <td>49000.0</td>\n",
       "      <td>2</td>\n",
       "      <td>0</td>\n",
       "    </tr>\n",
       "    <tr>\n",
       "      <td>3057</td>\n",
       "      <td>1</td>\n",
       "      <td>33.0</td>\n",
       "      <td>38400.0</td>\n",
       "      <td>2</td>\n",
       "      <td>0</td>\n",
       "    </tr>\n",
       "    <tr>\n",
       "      <td>3852</td>\n",
       "      <td>1</td>\n",
       "      <td>22.0</td>\n",
       "      <td>44900.0</td>\n",
       "      <td>1</td>\n",
       "      <td>0</td>\n",
       "    </tr>\n",
       "    <tr>\n",
       "      <td>2017</td>\n",
       "      <td>0</td>\n",
       "      <td>38.0</td>\n",
       "      <td>30900.0</td>\n",
       "      <td>0</td>\n",
       "      <td>0</td>\n",
       "    </tr>\n",
       "    <tr>\n",
       "      <td>2237</td>\n",
       "      <td>0</td>\n",
       "      <td>19.0</td>\n",
       "      <td>33900.0</td>\n",
       "      <td>0</td>\n",
       "      <td>0</td>\n",
       "    </tr>\n",
       "    <tr>\n",
       "      <td>1838</td>\n",
       "      <td>0</td>\n",
       "      <td>32.0</td>\n",
       "      <td>17300.0</td>\n",
       "      <td>2</td>\n",
       "      <td>0</td>\n",
       "    </tr>\n",
       "    <tr>\n",
       "      <td>4092</td>\n",
       "      <td>1</td>\n",
       "      <td>19.0</td>\n",
       "      <td>40900.0</td>\n",
       "      <td>2</td>\n",
       "      <td>0</td>\n",
       "    </tr>\n",
       "    <tr>\n",
       "      <td>2819</td>\n",
       "      <td>0</td>\n",
       "      <td>37.0</td>\n",
       "      <td>37300.0</td>\n",
       "      <td>1</td>\n",
       "      <td>0</td>\n",
       "    </tr>\n",
       "    <tr>\n",
       "      <td>578</td>\n",
       "      <td>1</td>\n",
       "      <td>34.0</td>\n",
       "      <td>34900.0</td>\n",
       "      <td>0</td>\n",
       "      <td>0</td>\n",
       "    </tr>\n",
       "    <tr>\n",
       "      <td>4444</td>\n",
       "      <td>0</td>\n",
       "      <td>21.0</td>\n",
       "      <td>19900.0</td>\n",
       "      <td>2</td>\n",
       "      <td>0</td>\n",
       "    </tr>\n",
       "  </tbody>\n",
       "</table>\n",
       "</div>"
      ],
      "text/plain": [
       "      gender   age   income  family_members  insurance_benefits\n",
       "3411       1  25.0  49000.0               2                   0\n",
       "3057       1  33.0  38400.0               2                   0\n",
       "3852       1  22.0  44900.0               1                   0\n",
       "2017       0  38.0  30900.0               0                   0\n",
       "2237       0  19.0  33900.0               0                   0\n",
       "1838       0  32.0  17300.0               2                   0\n",
       "4092       1  19.0  40900.0               2                   0\n",
       "2819       0  37.0  37300.0               1                   0\n",
       "578        1  34.0  34900.0               0                   0\n",
       "4444       0  21.0  19900.0               2                   0"
      ]
     },
     "execution_count": 4,
     "metadata": {},
     "output_type": "execute_result"
    }
   ],
   "source": [
    "df.sample(10)"
   ]
  },
  {
   "cell_type": "code",
   "execution_count": 5,
   "metadata": {},
   "outputs": [
    {
     "name": "stdout",
     "output_type": "stream",
     "text": [
      "<class 'pandas.core.frame.DataFrame'>\n",
      "RangeIndex: 5000 entries, 0 to 4999\n",
      "Data columns (total 5 columns):\n",
      "gender                5000 non-null int64\n",
      "age                   5000 non-null float64\n",
      "income                5000 non-null float64\n",
      "family_members        5000 non-null int64\n",
      "insurance_benefits    5000 non-null int64\n",
      "dtypes: float64(2), int64(3)\n",
      "memory usage: 195.4 KB\n"
     ]
    }
   ],
   "source": [
    "df.info()"
   ]
  },
  {
   "cell_type": "code",
   "execution_count": 6,
   "metadata": {},
   "outputs": [],
   "source": [
    "df.age = df['age'].astype('int')"
   ]
  },
  {
   "cell_type": "code",
   "execution_count": 7,
   "metadata": {},
   "outputs": [
    {
     "name": "stdout",
     "output_type": "stream",
     "text": [
      "<class 'pandas.core.frame.DataFrame'>\n",
      "RangeIndex: 5000 entries, 0 to 4999\n",
      "Data columns (total 5 columns):\n",
      "gender                5000 non-null int64\n",
      "age                   5000 non-null int64\n",
      "income                5000 non-null float64\n",
      "family_members        5000 non-null int64\n",
      "insurance_benefits    5000 non-null int64\n",
      "dtypes: float64(1), int64(4)\n",
      "memory usage: 195.4 KB\n"
     ]
    }
   ],
   "source": [
    "df.info()"
   ]
  },
  {
   "cell_type": "code",
   "execution_count": 8,
   "metadata": {},
   "outputs": [
    {
     "data": {
      "text/html": [
       "<div>\n",
       "<style scoped>\n",
       "    .dataframe tbody tr th:only-of-type {\n",
       "        vertical-align: middle;\n",
       "    }\n",
       "\n",
       "    .dataframe tbody tr th {\n",
       "        vertical-align: top;\n",
       "    }\n",
       "\n",
       "    .dataframe thead th {\n",
       "        text-align: right;\n",
       "    }\n",
       "</style>\n",
       "<table border=\"1\" class=\"dataframe\">\n",
       "  <thead>\n",
       "    <tr style=\"text-align: right;\">\n",
       "      <th></th>\n",
       "      <th>gender</th>\n",
       "      <th>age</th>\n",
       "      <th>income</th>\n",
       "      <th>family_members</th>\n",
       "      <th>insurance_benefits</th>\n",
       "    </tr>\n",
       "  </thead>\n",
       "  <tbody>\n",
       "    <tr>\n",
       "      <td>count</td>\n",
       "      <td>5000.000000</td>\n",
       "      <td>5000.000000</td>\n",
       "      <td>5000.000000</td>\n",
       "      <td>5000.000000</td>\n",
       "      <td>5000.000000</td>\n",
       "    </tr>\n",
       "    <tr>\n",
       "      <td>mean</td>\n",
       "      <td>0.499000</td>\n",
       "      <td>30.952800</td>\n",
       "      <td>39916.360000</td>\n",
       "      <td>1.194200</td>\n",
       "      <td>0.148000</td>\n",
       "    </tr>\n",
       "    <tr>\n",
       "      <td>std</td>\n",
       "      <td>0.500049</td>\n",
       "      <td>8.440807</td>\n",
       "      <td>9900.083569</td>\n",
       "      <td>1.091387</td>\n",
       "      <td>0.463183</td>\n",
       "    </tr>\n",
       "    <tr>\n",
       "      <td>min</td>\n",
       "      <td>0.000000</td>\n",
       "      <td>18.000000</td>\n",
       "      <td>5300.000000</td>\n",
       "      <td>0.000000</td>\n",
       "      <td>0.000000</td>\n",
       "    </tr>\n",
       "    <tr>\n",
       "      <td>25%</td>\n",
       "      <td>0.000000</td>\n",
       "      <td>24.000000</td>\n",
       "      <td>33300.000000</td>\n",
       "      <td>0.000000</td>\n",
       "      <td>0.000000</td>\n",
       "    </tr>\n",
       "    <tr>\n",
       "      <td>50%</td>\n",
       "      <td>0.000000</td>\n",
       "      <td>30.000000</td>\n",
       "      <td>40200.000000</td>\n",
       "      <td>1.000000</td>\n",
       "      <td>0.000000</td>\n",
       "    </tr>\n",
       "    <tr>\n",
       "      <td>75%</td>\n",
       "      <td>1.000000</td>\n",
       "      <td>37.000000</td>\n",
       "      <td>46600.000000</td>\n",
       "      <td>2.000000</td>\n",
       "      <td>0.000000</td>\n",
       "    </tr>\n",
       "    <tr>\n",
       "      <td>max</td>\n",
       "      <td>1.000000</td>\n",
       "      <td>65.000000</td>\n",
       "      <td>79000.000000</td>\n",
       "      <td>6.000000</td>\n",
       "      <td>5.000000</td>\n",
       "    </tr>\n",
       "  </tbody>\n",
       "</table>\n",
       "</div>"
      ],
      "text/plain": [
       "            gender          age        income  family_members  \\\n",
       "count  5000.000000  5000.000000   5000.000000     5000.000000   \n",
       "mean      0.499000    30.952800  39916.360000        1.194200   \n",
       "std       0.500049     8.440807   9900.083569        1.091387   \n",
       "min       0.000000    18.000000   5300.000000        0.000000   \n",
       "25%       0.000000    24.000000  33300.000000        0.000000   \n",
       "50%       0.000000    30.000000  40200.000000        1.000000   \n",
       "75%       1.000000    37.000000  46600.000000        2.000000   \n",
       "max       1.000000    65.000000  79000.000000        6.000000   \n",
       "\n",
       "       insurance_benefits  \n",
       "count         5000.000000  \n",
       "mean             0.148000  \n",
       "std              0.463183  \n",
       "min              0.000000  \n",
       "25%              0.000000  \n",
       "50%              0.000000  \n",
       "75%              0.000000  \n",
       "max              5.000000  "
      ]
     },
     "execution_count": 8,
     "metadata": {},
     "output_type": "execute_result"
    }
   ],
   "source": [
    "df.describe()"
   ]
  },
  {
   "cell_type": "code",
   "execution_count": 9,
   "metadata": {},
   "outputs": [
    {
     "data": {
      "image/png": "[encoded data removed]",
      "text/plain": [
       "<Figure size 432x288 with 1 Axes>"
      ]
     },
     "metadata": {
      "needs_background": "light"
     },
     "output_type": "display_data"
    }
   ],
   "source": [
    "sns.distplot(df['age']);"
   ]
  },
  {
   "cell_type": "code",
   "execution_count": 10,
   "metadata": {},
   "outputs": [
    {
     "data": {
      "image/png": "[encoded data removed]",
      "text/plain": [
       "<Figure size 432x288 with 1 Axes>"
      ]
     },
     "metadata": {
      "needs_background": "light"
     },
     "output_type": "display_data"
    }
   ],
   "source": [
    "sns.distplot(df['income']);"
   ]
  },
  {
   "cell_type": "markdown",
   "metadata": {},
   "source": [
    "## Conclusion\n",
    "\n",
    "Thare are no missing or null values in the dataset. The age column has it's mean and median ages' to be the same with some outliers. Income on the other hand is negatively skewed with the median higher than it's mean."
   ]
  },
  {
   "cell_type": "markdown",
   "metadata": {},
   "source": [
    "## EDA"
   ]
  },
  {
   "cell_type": "markdown",
   "metadata": {},
   "source": [
    "Let's quickly check whether there are certain groups of customers by looking at the pair plot."
   ]
  },
  {
   "cell_type": "code",
   "execution_count": 11,
   "metadata": {},
   "outputs": [
    {
     "data": {
      "image/png": "[encoded data removed]",
      "text/plain": [
       "<Figure size 900x900 with 30 Axes>"
      ]
     },
     "metadata": {
      "needs_background": "light"
     },
     "output_type": "display_data"
    }
   ],
   "source": [
    "sns.pairplot(df);"
   ]
  },
  {
   "cell_type": "markdown",
   "metadata": {},
   "source": [
    "Ok, it is a bit difficult to spot obvious groups (clusters) as it is difficult to combine several variables simultaneously (to analyze multivariate distributions). That's where LA and ML can be quite handy."
   ]
  },
  {
   "cell_type": "markdown",
   "metadata": {},
   "source": [
    "# Task 1. Similar Customers"
   ]
  },
  {
   "cell_type": "markdown",
   "metadata": {},
   "source": [
    "In the language of ML, it is necessary to develop a procedure that returns k nearest neighbors (objects) for a given object based on the distance between the objects.\n",
    "\n",
    "You may want to review the following lessons (chapter -> lesson)\n",
    "- Distance Between Vectors -> Euclidean Distance\n",
    "- Distance Between Vectors -> Manhattan Distance\n",
    "\n",
    "To solve the task, we can try different distance metrics."
   ]
  },
  {
   "cell_type": "markdown",
   "metadata": {},
   "source": [
    "Write a function that returns k nearest neighbors for an $n^{th}$ object based on a specified distance metric. The number of received insurance benefits should not be taken into account for this task. \n",
    "\n",
    "You can use a ready implementation of the kNN algorithm from scikit-learn (check [the link](https://scikit-learn.org/stable/modules/generated/sklearn.neighbors.NearestNeighbors.html#sklearn.neighbors.NearestNeighbors)) or use your own.\n",
    "\n",
    "Test it for four combination of two cases\n",
    "- Scaling\n",
    "  - the data is not scaled\n",
    "  - the data is scaled with the [MaxAbsScaler](https://scikit-learn.org/stable/modules/generated/sklearn.preprocessing.MaxAbsScaler.html) scaler\n",
    "- Distance Metrics\n",
    "  - Euclidean\n",
    "  - Manhattan\n",
    "\n",
    "Answer these questions:\n",
    "- Does the data being not scaled affect the kNN algorithm? If so, how does that appear?\n",
    "- How similar are the results using the Manhattan distance metric (regardless of the scaling)?"
   ]
  },
  {
   "cell_type": "code",
   "execution_count": 12,
   "metadata": {},
   "outputs": [],
   "source": [
    "feature_names = ['gender', 'age', 'income', 'family_members']"
   ]
  },
  {
   "cell_type": "code",
   "execution_count": 13,
   "metadata": {},
   "outputs": [],
   "source": [
    "def get_knn(df, n, k, metric):\n",
    "    \n",
    "    \"\"\"\n",
    "    Returns k nearest neighbors\n",
    "\n",
    "    :param df: pandas DataFrame used to find similar objects within\n",
    "    :param n: object no for which the nearest neighbours are looked for\n",
    "    :param k: the number of the nearest neighbours to return\n",
    "    :param metric: name of distance metric\n",
    "    \"\"\"\n",
    "\n",
    "    nbrs = NearestNeighbors(n_neighbors= k, metric = metric )\n",
    "    nbrs.fit(df[feature_names].values)\n",
    "    nbrs_distances, nbrs_indices = nbrs.kneighbors([df.iloc[n][feature_names]], \n",
    "                                                   k, return_distance=True)\n",
    "    \n",
    "    df_res = pd.concat([\n",
    "        df.iloc[nbrs_indices[0]], \n",
    "        pd.DataFrame(nbrs_distances.T, index=nbrs_indices[0], columns=['distance'])\n",
    "        ], axis=1)\n",
    "    \n",
    "    return df_res"
   ]
  },
  {
   "cell_type": "markdown",
   "metadata": {},
   "source": [
    "<div class=\"alert alert-success\">\n",
    "<b>Reviewer's comment</b>\n",
    "  \n",
    "The function for getting k nearest neighbors is correct\n",
    "  \n",
    "</div>"
   ]
  },
  {
   "cell_type": "markdown",
   "metadata": {},
   "source": [
    "Scaling the data."
   ]
  },
  {
   "cell_type": "code",
   "execution_count": 14,
   "metadata": {},
   "outputs": [],
   "source": [
    "feature_names = ['gender', 'age', 'income', 'family_members']\n",
    "\n",
    "transformer_mas = sklearn.preprocessing.MaxAbsScaler().fit(df[feature_names].to_numpy())\n",
    "\n",
    "df_scaled = df.copy()\n",
    "df_scaled.loc[:, feature_names] = transformer_mas.transform(df[feature_names].to_numpy())"
   ]
  },
  {
   "cell_type": "code",
   "execution_count": 15,
   "metadata": {},
   "outputs": [
    {
     "data": {
      "text/html": [
       "<div>\n",
       "<style scoped>\n",
       "    .dataframe tbody tr th:only-of-type {\n",
       "        vertical-align: middle;\n",
       "    }\n",
       "\n",
       "    .dataframe tbody tr th {\n",
       "        vertical-align: top;\n",
       "    }\n",
       "\n",
       "    .dataframe thead th {\n",
       "        text-align: right;\n",
       "    }\n",
       "</style>\n",
       "<table border=\"1\" class=\"dataframe\">\n",
       "  <thead>\n",
       "    <tr style=\"text-align: right;\">\n",
       "      <th></th>\n",
       "      <th>gender</th>\n",
       "      <th>age</th>\n",
       "      <th>income</th>\n",
       "      <th>family_members</th>\n",
       "      <th>insurance_benefits</th>\n",
       "    </tr>\n",
       "  </thead>\n",
       "  <tbody>\n",
       "    <tr>\n",
       "      <td>3609</td>\n",
       "      <td>1.0</td>\n",
       "      <td>0.646154</td>\n",
       "      <td>0.598734</td>\n",
       "      <td>0.000000</td>\n",
       "      <td>1</td>\n",
       "    </tr>\n",
       "    <tr>\n",
       "      <td>2312</td>\n",
       "      <td>0.0</td>\n",
       "      <td>0.646154</td>\n",
       "      <td>0.753165</td>\n",
       "      <td>0.166667</td>\n",
       "      <td>1</td>\n",
       "    </tr>\n",
       "    <tr>\n",
       "      <td>1534</td>\n",
       "      <td>0.0</td>\n",
       "      <td>0.492308</td>\n",
       "      <td>0.529114</td>\n",
       "      <td>0.500000</td>\n",
       "      <td>0</td>\n",
       "    </tr>\n",
       "    <tr>\n",
       "      <td>2340</td>\n",
       "      <td>0.0</td>\n",
       "      <td>0.646154</td>\n",
       "      <td>0.663291</td>\n",
       "      <td>0.000000</td>\n",
       "      <td>1</td>\n",
       "    </tr>\n",
       "    <tr>\n",
       "      <td>31</td>\n",
       "      <td>1.0</td>\n",
       "      <td>0.615385</td>\n",
       "      <td>0.383544</td>\n",
       "      <td>0.000000</td>\n",
       "      <td>0</td>\n",
       "    </tr>\n",
       "  </tbody>\n",
       "</table>\n",
       "</div>"
      ],
      "text/plain": [
       "      gender       age    income  family_members  insurance_benefits\n",
       "3609     1.0  0.646154  0.598734        0.000000                   1\n",
       "2312     0.0  0.646154  0.753165        0.166667                   1\n",
       "1534     0.0  0.492308  0.529114        0.500000                   0\n",
       "2340     0.0  0.646154  0.663291        0.000000                   1\n",
       "31       1.0  0.615385  0.383544        0.000000                   0"
      ]
     },
     "execution_count": 15,
     "metadata": {},
     "output_type": "execute_result"
    }
   ],
   "source": [
    "df_scaled.sample(5)"
   ]
  },
  {
   "cell_type": "markdown",
   "metadata": {},
   "source": [
    "Now, let's get similar records for a given one for every combination"
   ]
  },
  {
   "cell_type": "code",
   "execution_count": 16,
   "metadata": {},
   "outputs": [
    {
     "data": {
      "text/html": [
       "<div>\n",
       "<style scoped>\n",
       "    .dataframe tbody tr th:only-of-type {\n",
       "        vertical-align: middle;\n",
       "    }\n",
       "\n",
       "    .dataframe tbody tr th {\n",
       "        vertical-align: top;\n",
       "    }\n",
       "\n",
       "    .dataframe thead th {\n",
       "        text-align: right;\n",
       "    }\n",
       "</style>\n",
       "<table border=\"1\" class=\"dataframe\">\n",
       "  <thead>\n",
       "    <tr style=\"text-align: right;\">\n",
       "      <th></th>\n",
       "      <th>gender</th>\n",
       "      <th>age</th>\n",
       "      <th>income</th>\n",
       "      <th>family_members</th>\n",
       "      <th>insurance_benefits</th>\n",
       "      <th>distance</th>\n",
       "    </tr>\n",
       "  </thead>\n",
       "  <tbody>\n",
       "    <tr>\n",
       "      <td>4</td>\n",
       "      <td>1.0</td>\n",
       "      <td>0.430769</td>\n",
       "      <td>0.330380</td>\n",
       "      <td>0.0</td>\n",
       "      <td>0</td>\n",
       "      <td>0.000000</td>\n",
       "    </tr>\n",
       "    <tr>\n",
       "      <td>349</td>\n",
       "      <td>1.0</td>\n",
       "      <td>0.430769</td>\n",
       "      <td>0.322785</td>\n",
       "      <td>0.0</td>\n",
       "      <td>0</td>\n",
       "      <td>0.007595</td>\n",
       "    </tr>\n",
       "    <tr>\n",
       "      <td>3934</td>\n",
       "      <td>1.0</td>\n",
       "      <td>0.430769</td>\n",
       "      <td>0.321519</td>\n",
       "      <td>0.0</td>\n",
       "      <td>0</td>\n",
       "      <td>0.008861</td>\n",
       "    </tr>\n",
       "    <tr>\n",
       "      <td>3665</td>\n",
       "      <td>1.0</td>\n",
       "      <td>0.430769</td>\n",
       "      <td>0.317722</td>\n",
       "      <td>0.0</td>\n",
       "      <td>0</td>\n",
       "      <td>0.012658</td>\n",
       "    </tr>\n",
       "    <tr>\n",
       "      <td>1435</td>\n",
       "      <td>1.0</td>\n",
       "      <td>0.446154</td>\n",
       "      <td>0.331646</td>\n",
       "      <td>0.0</td>\n",
       "      <td>0</td>\n",
       "      <td>0.016650</td>\n",
       "    </tr>\n",
       "    <tr>\n",
       "      <td>2448</td>\n",
       "      <td>1.0</td>\n",
       "      <td>0.446154</td>\n",
       "      <td>0.324051</td>\n",
       "      <td>0.0</td>\n",
       "      <td>0</td>\n",
       "      <td>0.021714</td>\n",
       "    </tr>\n",
       "    <tr>\n",
       "      <td>1774</td>\n",
       "      <td>1.0</td>\n",
       "      <td>0.400000</td>\n",
       "      <td>0.331646</td>\n",
       "      <td>0.0</td>\n",
       "      <td>0</td>\n",
       "      <td>0.032035</td>\n",
       "    </tr>\n",
       "  </tbody>\n",
       "</table>\n",
       "</div>"
      ],
      "text/plain": [
       "      gender       age    income  family_members  insurance_benefits  distance\n",
       "4        1.0  0.430769  0.330380             0.0                   0  0.000000\n",
       "349      1.0  0.430769  0.322785             0.0                   0  0.007595\n",
       "3934     1.0  0.430769  0.321519             0.0                   0  0.008861\n",
       "3665     1.0  0.430769  0.317722             0.0                   0  0.012658\n",
       "1435     1.0  0.446154  0.331646             0.0                   0  0.016650\n",
       "2448     1.0  0.446154  0.324051             0.0                   0  0.021714\n",
       "1774     1.0  0.400000  0.331646             0.0                   0  0.032035"
      ]
     },
     "execution_count": 16,
     "metadata": {},
     "output_type": "execute_result"
    }
   ],
   "source": [
    "man_scaled = get_knn(df_scaled, 4, 7, 'manhattan')\n",
    "man_scaled"
   ]
  },
  {
   "cell_type": "code",
   "execution_count": 17,
   "metadata": {},
   "outputs": [
    {
     "data": {
      "text/html": [
       "<div>\n",
       "<style scoped>\n",
       "    .dataframe tbody tr th:only-of-type {\n",
       "        vertical-align: middle;\n",
       "    }\n",
       "\n",
       "    .dataframe tbody tr th {\n",
       "        vertical-align: top;\n",
       "    }\n",
       "\n",
       "    .dataframe thead th {\n",
       "        text-align: right;\n",
       "    }\n",
       "</style>\n",
       "<table border=\"1\" class=\"dataframe\">\n",
       "  <thead>\n",
       "    <tr style=\"text-align: right;\">\n",
       "      <th></th>\n",
       "      <th>gender</th>\n",
       "      <th>age</th>\n",
       "      <th>income</th>\n",
       "      <th>family_members</th>\n",
       "      <th>insurance_benefits</th>\n",
       "      <th>distance</th>\n",
       "    </tr>\n",
       "  </thead>\n",
       "  <tbody>\n",
       "    <tr>\n",
       "      <td>4</td>\n",
       "      <td>1.0</td>\n",
       "      <td>0.430769</td>\n",
       "      <td>0.330380</td>\n",
       "      <td>0.0</td>\n",
       "      <td>0</td>\n",
       "      <td>0.000000</td>\n",
       "    </tr>\n",
       "    <tr>\n",
       "      <td>349</td>\n",
       "      <td>1.0</td>\n",
       "      <td>0.430769</td>\n",
       "      <td>0.322785</td>\n",
       "      <td>0.0</td>\n",
       "      <td>0</td>\n",
       "      <td>0.007595</td>\n",
       "    </tr>\n",
       "    <tr>\n",
       "      <td>3934</td>\n",
       "      <td>1.0</td>\n",
       "      <td>0.430769</td>\n",
       "      <td>0.321519</td>\n",
       "      <td>0.0</td>\n",
       "      <td>0</td>\n",
       "      <td>0.008861</td>\n",
       "    </tr>\n",
       "    <tr>\n",
       "      <td>3665</td>\n",
       "      <td>1.0</td>\n",
       "      <td>0.430769</td>\n",
       "      <td>0.317722</td>\n",
       "      <td>0.0</td>\n",
       "      <td>0</td>\n",
       "      <td>0.012658</td>\n",
       "    </tr>\n",
       "    <tr>\n",
       "      <td>1435</td>\n",
       "      <td>1.0</td>\n",
       "      <td>0.446154</td>\n",
       "      <td>0.331646</td>\n",
       "      <td>0.0</td>\n",
       "      <td>0</td>\n",
       "      <td>0.015437</td>\n",
       "    </tr>\n",
       "    <tr>\n",
       "      <td>2448</td>\n",
       "      <td>1.0</td>\n",
       "      <td>0.446154</td>\n",
       "      <td>0.324051</td>\n",
       "      <td>0.0</td>\n",
       "      <td>0</td>\n",
       "      <td>0.016636</td>\n",
       "    </tr>\n",
       "    <tr>\n",
       "      <td>1401</td>\n",
       "      <td>1.0</td>\n",
       "      <td>0.446154</td>\n",
       "      <td>0.351899</td>\n",
       "      <td>0.0</td>\n",
       "      <td>0</td>\n",
       "      <td>0.026453</td>\n",
       "    </tr>\n",
       "  </tbody>\n",
       "</table>\n",
       "</div>"
      ],
      "text/plain": [
       "      gender       age    income  family_members  insurance_benefits  distance\n",
       "4        1.0  0.430769  0.330380             0.0                   0  0.000000\n",
       "349      1.0  0.430769  0.322785             0.0                   0  0.007595\n",
       "3934     1.0  0.430769  0.321519             0.0                   0  0.008861\n",
       "3665     1.0  0.430769  0.317722             0.0                   0  0.012658\n",
       "1435     1.0  0.446154  0.331646             0.0                   0  0.015437\n",
       "2448     1.0  0.446154  0.324051             0.0                   0  0.016636\n",
       "1401     1.0  0.446154  0.351899             0.0                   0  0.026453"
      ]
     },
     "execution_count": 17,
     "metadata": {},
     "output_type": "execute_result"
    }
   ],
   "source": [
    "euc_scaled = get_knn(df_scaled, 4, 7, 'euclidean')\n",
    "euc_scaled"
   ]
  },
  {
   "cell_type": "code",
   "execution_count": 18,
   "metadata": {},
   "outputs": [
    {
     "data": {
      "text/html": [
       "<div>\n",
       "<style scoped>\n",
       "    .dataframe tbody tr th:only-of-type {\n",
       "        vertical-align: middle;\n",
       "    }\n",
       "\n",
       "    .dataframe tbody tr th {\n",
       "        vertical-align: top;\n",
       "    }\n",
       "\n",
       "    .dataframe thead th {\n",
       "        text-align: right;\n",
       "    }\n",
       "</style>\n",
       "<table border=\"1\" class=\"dataframe\">\n",
       "  <thead>\n",
       "    <tr style=\"text-align: right;\">\n",
       "      <th></th>\n",
       "      <th>gender</th>\n",
       "      <th>age</th>\n",
       "      <th>income</th>\n",
       "      <th>family_members</th>\n",
       "      <th>insurance_benefits</th>\n",
       "      <th>distance</th>\n",
       "    </tr>\n",
       "  </thead>\n",
       "  <tbody>\n",
       "    <tr>\n",
       "      <td>4</td>\n",
       "      <td>1</td>\n",
       "      <td>28</td>\n",
       "      <td>26100.0</td>\n",
       "      <td>0</td>\n",
       "      <td>0</td>\n",
       "      <td>0.0</td>\n",
       "    </tr>\n",
       "    <tr>\n",
       "      <td>2701</td>\n",
       "      <td>1</td>\n",
       "      <td>31</td>\n",
       "      <td>26100.0</td>\n",
       "      <td>3</td>\n",
       "      <td>0</td>\n",
       "      <td>6.0</td>\n",
       "    </tr>\n",
       "    <tr>\n",
       "      <td>2773</td>\n",
       "      <td>1</td>\n",
       "      <td>24</td>\n",
       "      <td>26100.0</td>\n",
       "      <td>2</td>\n",
       "      <td>0</td>\n",
       "      <td>6.0</td>\n",
       "    </tr>\n",
       "    <tr>\n",
       "      <td>3346</td>\n",
       "      <td>0</td>\n",
       "      <td>34</td>\n",
       "      <td>26100.0</td>\n",
       "      <td>0</td>\n",
       "      <td>0</td>\n",
       "      <td>7.0</td>\n",
       "    </tr>\n",
       "    <tr>\n",
       "      <td>4721</td>\n",
       "      <td>1</td>\n",
       "      <td>22</td>\n",
       "      <td>26100.0</td>\n",
       "      <td>2</td>\n",
       "      <td>0</td>\n",
       "      <td>8.0</td>\n",
       "    </tr>\n",
       "    <tr>\n",
       "      <td>1507</td>\n",
       "      <td>1</td>\n",
       "      <td>35</td>\n",
       "      <td>26100.0</td>\n",
       "      <td>2</td>\n",
       "      <td>0</td>\n",
       "      <td>9.0</td>\n",
       "    </tr>\n",
       "    <tr>\n",
       "      <td>3462</td>\n",
       "      <td>0</td>\n",
       "      <td>35</td>\n",
       "      <td>26100.0</td>\n",
       "      <td>2</td>\n",
       "      <td>0</td>\n",
       "      <td>10.0</td>\n",
       "    </tr>\n",
       "  </tbody>\n",
       "</table>\n",
       "</div>"
      ],
      "text/plain": [
       "      gender  age   income  family_members  insurance_benefits  distance\n",
       "4          1   28  26100.0               0                   0       0.0\n",
       "2701       1   31  26100.0               3                   0       6.0\n",
       "2773       1   24  26100.0               2                   0       6.0\n",
       "3346       0   34  26100.0               0                   0       7.0\n",
       "4721       1   22  26100.0               2                   0       8.0\n",
       "1507       1   35  26100.0               2                   0       9.0\n",
       "3462       0   35  26100.0               2                   0      10.0"
      ]
     },
     "execution_count": 18,
     "metadata": {},
     "output_type": "execute_result"
    }
   ],
   "source": [
    "man_not_scaled = get_knn(df, 4, 7, 'manhattan')\n",
    "man_not_scaled"
   ]
  },
  {
   "cell_type": "code",
   "execution_count": 19,
   "metadata": {},
   "outputs": [
    {
     "data": {
      "text/html": [
       "<div>\n",
       "<style scoped>\n",
       "    .dataframe tbody tr th:only-of-type {\n",
       "        vertical-align: middle;\n",
       "    }\n",
       "\n",
       "    .dataframe tbody tr th {\n",
       "        vertical-align: top;\n",
       "    }\n",
       "\n",
       "    .dataframe thead th {\n",
       "        text-align: right;\n",
       "    }\n",
       "</style>\n",
       "<table border=\"1\" class=\"dataframe\">\n",
       "  <thead>\n",
       "    <tr style=\"text-align: right;\">\n",
       "      <th></th>\n",
       "      <th>gender</th>\n",
       "      <th>age</th>\n",
       "      <th>income</th>\n",
       "      <th>family_members</th>\n",
       "      <th>insurance_benefits</th>\n",
       "      <th>distance</th>\n",
       "    </tr>\n",
       "  </thead>\n",
       "  <tbody>\n",
       "    <tr>\n",
       "      <td>4</td>\n",
       "      <td>1</td>\n",
       "      <td>28</td>\n",
       "      <td>26100.0</td>\n",
       "      <td>0</td>\n",
       "      <td>0</td>\n",
       "      <td>0.000000</td>\n",
       "    </tr>\n",
       "    <tr>\n",
       "      <td>2701</td>\n",
       "      <td>1</td>\n",
       "      <td>31</td>\n",
       "      <td>26100.0</td>\n",
       "      <td>3</td>\n",
       "      <td>0</td>\n",
       "      <td>4.242641</td>\n",
       "    </tr>\n",
       "    <tr>\n",
       "      <td>2773</td>\n",
       "      <td>1</td>\n",
       "      <td>24</td>\n",
       "      <td>26100.0</td>\n",
       "      <td>2</td>\n",
       "      <td>0</td>\n",
       "      <td>4.472136</td>\n",
       "    </tr>\n",
       "    <tr>\n",
       "      <td>3346</td>\n",
       "      <td>0</td>\n",
       "      <td>34</td>\n",
       "      <td>26100.0</td>\n",
       "      <td>0</td>\n",
       "      <td>0</td>\n",
       "      <td>6.082763</td>\n",
       "    </tr>\n",
       "    <tr>\n",
       "      <td>4721</td>\n",
       "      <td>1</td>\n",
       "      <td>22</td>\n",
       "      <td>26100.0</td>\n",
       "      <td>2</td>\n",
       "      <td>0</td>\n",
       "      <td>6.324555</td>\n",
       "    </tr>\n",
       "    <tr>\n",
       "      <td>1507</td>\n",
       "      <td>1</td>\n",
       "      <td>35</td>\n",
       "      <td>26100.0</td>\n",
       "      <td>2</td>\n",
       "      <td>0</td>\n",
       "      <td>7.280110</td>\n",
       "    </tr>\n",
       "    <tr>\n",
       "      <td>3462</td>\n",
       "      <td>0</td>\n",
       "      <td>35</td>\n",
       "      <td>26100.0</td>\n",
       "      <td>2</td>\n",
       "      <td>0</td>\n",
       "      <td>7.348469</td>\n",
       "    </tr>\n",
       "  </tbody>\n",
       "</table>\n",
       "</div>"
      ],
      "text/plain": [
       "      gender  age   income  family_members  insurance_benefits  distance\n",
       "4          1   28  26100.0               0                   0  0.000000\n",
       "2701       1   31  26100.0               3                   0  4.242641\n",
       "2773       1   24  26100.0               2                   0  4.472136\n",
       "3346       0   34  26100.0               0                   0  6.082763\n",
       "4721       1   22  26100.0               2                   0  6.324555\n",
       "1507       1   35  26100.0               2                   0  7.280110\n",
       "3462       0   35  26100.0               2                   0  7.348469"
      ]
     },
     "execution_count": 19,
     "metadata": {},
     "output_type": "execute_result"
    }
   ],
   "source": [
    "euc_not_scaled = get_knn(df, 4, 7, 'euclidean')\n",
    "euc_not_scaled"
   ]
  },
  {
   "cell_type": "markdown",
   "metadata": {},
   "source": [
    "There are differences in results for when manhatten  or eculidean distance are used in the calculation of distance."
   ]
  },
  {
   "cell_type": "markdown",
   "metadata": {},
   "source": [
    "**Does the data being not scaled affect the kNN algorithm? If so, how does that appear?** \n",
    "\n"
   ]
  },
  {
   "cell_type": "code",
   "execution_count": 20,
   "metadata": {},
   "outputs": [
    {
     "data": {
      "image/png": "[encoded data removed]",
      "text/plain": [
       "<Figure size 432x288 with 4 Axes>"
      ]
     },
     "metadata": {
      "needs_background": "light"
     },
     "output_type": "display_data"
    }
   ],
   "source": [
    "# distribution of features using the unscaled data\n",
    "man_not_scaled[feature_names].hist();"
   ]
  },
  {
   "cell_type": "code",
   "execution_count": 21,
   "metadata": {},
   "outputs": [
    {
     "data": {
      "image/png": "[encoded data removed]",
      "text/plain": [
       "<Figure size 432x288 with 4 Axes>"
      ]
     },
     "metadata": {
      "needs_background": "light"
     },
     "output_type": "display_data"
    }
   ],
   "source": [
    "# Distribution of features using scaled data\n",
    "man_scaled[feature_names].hist();"
   ]
  },
  {
   "cell_type": "markdown",
   "metadata": {},
   "source": [
    "The graphs above depicts the results for both unscaled and scaled data. The data not being scaled affects the kNN algorithm considering that the kNN algorithm attaches more importance to higher ranging numbers. Also, the fact that we have to decide on the number of samples(K) for the predictions goes to impact the results. As a result, the predictions would favor large feature values during predictions thereby affecting the distance computation."
   ]
  },
  {
   "cell_type": "markdown",
   "metadata": {},
   "source": [
    "<div class=\"alert alert-success\">\n",
    "<b>Reviewer's comment</b>\n",
    "  \n",
    "Yep, that makes sense\n",
    "  \n",
    "</div>"
   ]
  },
  {
   "cell_type": "markdown",
   "metadata": {},
   "source": [
    "**How similar are the results using the Manhattan distance metric (regardless of the scaling)?** \n",
    "\n"
   ]
  },
  {
   "cell_type": "code",
   "execution_count": 22,
   "metadata": {},
   "outputs": [
    {
     "data": {
      "image/png": "[encoded data removed]",
      "text/plain": [
       "<Figure size 432x288 with 1 Axes>"
      ]
     },
     "metadata": {
      "needs_background": "light"
     },
     "output_type": "display_data"
    }
   ],
   "source": [
    "man_scaled.distance.hist()\n",
    "plt.title('Manhattan scaled data distribution')\n",
    "plt.xlabel('Manhattan Distance')\n",
    "plt.ylabel('Fequency');"
   ]
  },
  {
   "cell_type": "code",
   "execution_count": 23,
   "metadata": {},
   "outputs": [
    {
     "data": {
      "image/png": "[encoded data removed]",
      "text/plain": [
       "<Figure size 432x288 with 1 Axes>"
      ]
     },
     "metadata": {
      "needs_background": "light"
     },
     "output_type": "display_data"
    }
   ],
   "source": [
    "man_not_scaled.distance.hist()\n",
    "plt.title('Manhattan unscaled data distribution')\n",
    "plt.xlabel('Manhattan Distance')\n",
    "plt.ylabel('Fequency');"
   ]
  },
  {
   "cell_type": "markdown",
   "metadata": {},
   "source": [
    "The plot above shows thats, the distance between features calculated varied as a result of scaling. "
   ]
  },
  {
   "cell_type": "markdown",
   "metadata": {},
   "source": [
    "# Task 2. Is Customer Likely to Receive Insurance Benefit?"
   ]
  },
  {
   "cell_type": "markdown",
   "metadata": {},
   "source": [
    "In terms of machine learning we can look at this like a binary classification task."
   ]
  },
  {
   "cell_type": "markdown",
   "metadata": {},
   "source": [
    "With `insurance_benefits` being more than zero as the target, evaluate whether the kNN classification approach can do better than a dummy model.\n",
    "\n",
    "Instructions:\n",
    "- Build a KNN-based classifier and measure its quality with the F1 metric for k=1..10 for both the original data and the scaled one. That'd be interesting to see how k may influece the evaluation metric, and whether scaling the data makes any difference. You can use a ready implemention of the kNN classification algorithm from scikit-learn (check [the link](https://scikit-learn.org/stable/modules/generated/sklearn.neighbors.KNeighborsClassifier.html)) or use your own.\n",
    "- Build the dummy model which is just random for this case. It should return \"1\" with some probability. Let's test the model with four probability values: 0, the probability of paying any insurance benefit, 0.5, 1.\n",
    "\n",
    "The probability of paying any insurance benefit can be defined as\n",
    "\n",
    "$$\n",
    "P\\{\\text{insurance benefit received}\\}=\\frac{\\text{number of clients received any insurance benefit}}{\\text{total number of clients}}.\n",
    "$$\n",
    "\n",
    "Split the whole data in the 70:30 proportion for the training/testing parts."
   ]
  },
  {
   "cell_type": "code",
   "execution_count": 24,
   "metadata": {},
   "outputs": [],
   "source": [
    "# calculate the target\n",
    "\n",
    "df['insurance_benefits_received'] = (df.insurance_benefits >0).astype('int')"
   ]
  },
  {
   "cell_type": "code",
   "execution_count": 25,
   "metadata": {},
   "outputs": [
    {
     "data": {
      "text/plain": [
       "0    0.8872\n",
       "1    0.1128\n",
       "Name: insurance_benefits_received, dtype: float64"
      ]
     },
     "execution_count": 25,
     "metadata": {},
     "output_type": "execute_result"
    }
   ],
   "source": [
    "# check for the class imbalance with value_counts()\n",
    "\n",
    "df['insurance_benefits_received'].value_counts(normalize=True)"
   ]
  },
  {
   "cell_type": "markdown",
   "metadata": {},
   "source": [
    "This shows that, there is class inbalance in the insurance benefit column. There are only 11.3% of the insurers have so far received insurance benefit."
   ]
  },
  {
   "cell_type": "code",
   "execution_count": 26,
   "metadata": {},
   "outputs": [],
   "source": [
    "def eval_classifier(y_true, y_pred):\n",
    "    \n",
    "    f1_score = sklearn.metrics.f1_score(y_true, y_pred)\n",
    "    print(f'F1: {f1_score:.2f}')\n",
    "    \n",
    "    cm = sklearn.metrics.confusion_matrix(y_true, y_pred,normalize='all')\n",
    "    print('Confusion Matrix')\n",
    "    print(cm)"
   ]
  },
  {
   "cell_type": "code",
   "execution_count": 27,
   "metadata": {},
   "outputs": [],
   "source": [
    "# generating output of a random model\n",
    "\n",
    "def rnd_model_predict(P, size, seed=42):\n",
    "\n",
    "    rng = np.random.default_rng(seed=seed)\n",
    "    return rng.binomial(n=1, p=P, size=size)"
   ]
  },
  {
   "cell_type": "code",
   "execution_count": 28,
   "metadata": {},
   "outputs": [],
   "source": [
    "train, test = train_test_split(df, test_size=.3, \n",
    "                               stratify=df['insurance_benefits_received'],random_state=123)\n",
    "x_train = train[feature_names]\n",
    "x_test = test[feature_names]\n",
    "y_train = train['insurance_benefits_received']\n",
    "y_test = test['insurance_benefits_received']"
   ]
  },
  {
   "cell_type": "code",
   "execution_count": 29,
   "metadata": {},
   "outputs": [
    {
     "name": "stdout",
     "output_type": "stream",
     "text": [
      "F1: 0.41\n",
      "Confusion Matrix\n",
      "[[0.88       0.00733333]\n",
      " [0.082      0.03066667]]\n"
     ]
    }
   ],
   "source": [
    "knn = KNeighborsClassifier(n_neighbors=3)\n",
    "knn.fit(x_train,y_train)\n",
    "predict_y = knn.predict(x_test)\n",
    "eval_classifier(y_test,predict_y )"
   ]
  },
  {
   "cell_type": "code",
   "execution_count": 30,
   "metadata": {
    "scrolled": false
   },
   "outputs": [
    {
     "name": "stdout",
     "output_type": "stream",
     "text": [
      "F1 score and confusion matrix for k:\n",
      "F1: 0.69\n",
      "Confusion Matrix\n",
      "[[0.876      0.01133333]\n",
      " [0.04666667 0.066     ]]\n",
      "\n",
      "F1 score and confusion matrix for k:\n",
      "F1: 0.38\n",
      "Confusion Matrix\n",
      "[[0.88533333 0.002     ]\n",
      " [0.08533333 0.02733333]]\n",
      "\n",
      "F1 score and confusion matrix for k:\n",
      "F1: 0.41\n",
      "Confusion Matrix\n",
      "[[0.88       0.00733333]\n",
      " [0.082      0.03066667]]\n",
      "\n",
      "F1 score and confusion matrix for k:\n",
      "F1: 0.21\n",
      "Confusion Matrix\n",
      "[[8.86666667e-01 6.66666667e-04]\n",
      " [9.93333333e-02 1.33333333e-02]]\n",
      "\n",
      "F1 score and confusion matrix for k:\n",
      "F1: 0.21\n",
      "Confusion Matrix\n",
      "[[0.88333333 0.004     ]\n",
      " [0.09866667 0.014     ]]\n",
      "\n",
      "F1 score and confusion matrix for k:\n",
      "F1: 0.15\n",
      "Confusion Matrix\n",
      "[[0.88733333 0.        ]\n",
      " [0.10333333 0.00933333]]\n",
      "\n",
      "F1 score and confusion matrix for k:\n",
      "F1: 0.16\n",
      "Confusion Matrix\n",
      "[[0.886      0.00133333]\n",
      " [0.10266667 0.01      ]]\n",
      "\n",
      "F1 score and confusion matrix for k:\n",
      "F1: 0.00\n",
      "Confusion Matrix\n",
      "[[0.88733333 0.        ]\n",
      " [0.11266667 0.        ]]\n",
      "\n",
      "F1 score and confusion matrix for k:\n",
      "F1: 0.01\n",
      "Confusion Matrix\n",
      "[[8.87333333e-01 0.00000000e+00]\n",
      " [1.12000000e-01 6.66666667e-04]]\n",
      "\n",
      "F1 score and confusion matrix for k:\n",
      "F1: 0.00\n",
      "Confusion Matrix\n",
      "[[0.88733333 0.        ]\n",
      " [0.11266667 0.        ]]\n",
      "\n"
     ]
    }
   ],
   "source": [
    "k = np.arange(1,11)\n",
    "for k in k:\n",
    "    print('F1 score and confusion matrix for k:')\n",
    "    knn = KNeighborsClassifier(n_neighbors=k)\n",
    "    knn.fit(x_train,y_train)\n",
    "    predict_y = knn.predict(x_test)\n",
    "    eval_classifier(y_test,predict_y )\n",
    "    print()"
   ]
  },
  {
   "cell_type": "markdown",
   "metadata": {},
   "source": [
    "The results shows how F1 score is impacted by an increase in k rangeing of 1 to 10 with the highest result from when k=1 of 0.69."
   ]
  },
  {
   "cell_type": "code",
   "execution_count": 31,
   "metadata": {},
   "outputs": [
    {
     "name": "stdout",
     "output_type": "stream",
     "text": [
      "The probability: 0.00\n",
      "F1: 0.00\n",
      "Confusion Matrix\n",
      "[[0.8872 0.    ]\n",
      " [0.1128 0.    ]]\n",
      "\n",
      "The probability: 0.11\n",
      "F1: 0.12\n",
      "Confusion Matrix\n",
      "[[0.7914 0.0958]\n",
      " [0.0994 0.0134]]\n",
      "\n",
      "The probability: 0.50\n",
      "F1: 0.20\n",
      "Confusion Matrix\n",
      "[[0.456  0.4312]\n",
      " [0.053  0.0598]]\n",
      "\n",
      "The probability: 1.00\n",
      "F1: 0.20\n",
      "Confusion Matrix\n",
      "[[0.     0.8872]\n",
      " [0.     0.1128]]\n",
      "\n"
     ]
    }
   ],
   "source": [
    "for P in [0, df['insurance_benefits_received'].sum() / len(df), 0.5, 1]:\n",
    "\n",
    "    print(f'The probability: {P:.2f}')\n",
    "    y_pred_rnd = rnd_model_predict(P, df[feature_names].shape[0])\n",
    "        \n",
    "    eval_classifier(df['insurance_benefits_received'], y_pred_rnd)\n",
    "    \n",
    "    print()"
   ]
  },
  {
   "cell_type": "markdown",
   "metadata": {},
   "source": [
    "The dummy varaibles gave the highest F1 score of 0.2 at a probability of 1."
   ]
  },
  {
   "cell_type": "markdown",
   "metadata": {},
   "source": [
    "## With scaled data"
   ]
  },
  {
   "cell_type": "code",
   "execution_count": 32,
   "metadata": {},
   "outputs": [],
   "source": [
    "df_scaled['insurance_benefits_received'] = df_scaled.insurance_benefits >0"
   ]
  },
  {
   "cell_type": "code",
   "execution_count": 33,
   "metadata": {},
   "outputs": [],
   "source": [
    "target = df_scaled['insurance_benefits_received']\n",
    "features = df_scaled[feature_names]\n",
    "\n",
    "x_train,x_test,y_train,y_test = train_test_split(features,target, \n",
    "                                                 test_size=.3, random_state=123)"
   ]
  },
  {
   "cell_type": "code",
   "execution_count": 34,
   "metadata": {
    "scrolled": false
   },
   "outputs": [
    {
     "name": "stdout",
     "output_type": "stream",
     "text": [
      "Scaled data F1 score and confusion matrix: \n",
      "F1: 0.95\n",
      "Confusion Matrix\n",
      "[[0.88266667 0.004     ]\n",
      " [0.00733333 0.106     ]]\n",
      "\n",
      "Scaled data F1 score and confusion matrix: \n",
      "F1: 0.92\n",
      "Confusion Matrix\n",
      "[[8.86000000e-01 6.66666667e-04]\n",
      " [1.53333333e-02 9.80000000e-02]]\n",
      "\n",
      "Scaled data F1 score and confusion matrix: \n",
      "F1: 0.93\n",
      "Confusion Matrix\n",
      "[[0.88533333 0.00133333]\n",
      " [0.01266667 0.10066667]]\n",
      "\n",
      "Scaled data F1 score and confusion matrix: \n",
      "F1: 0.90\n",
      "Confusion Matrix\n",
      "[[0.88666667 0.        ]\n",
      " [0.02066667 0.09266667]]\n",
      "\n",
      "Scaled data F1 score and confusion matrix: \n",
      "F1: 0.92\n",
      "Confusion Matrix\n",
      "[[0.88333333 0.00333333]\n",
      " [0.01333333 0.1       ]]\n",
      "\n",
      "Scaled data F1 score and confusion matrix: \n",
      "F1: 0.93\n",
      "Confusion Matrix\n",
      "[[0.88666667 0.        ]\n",
      " [0.01533333 0.098     ]]\n",
      "\n",
      "Scaled data F1 score and confusion matrix: \n",
      "F1: 0.94\n",
      "Confusion Matrix\n",
      "[[0.88533333 0.00133333]\n",
      " [0.01133333 0.102     ]]\n",
      "\n",
      "Scaled data F1 score and confusion matrix: \n",
      "F1: 0.93\n",
      "Confusion Matrix\n",
      "[[0.88666667 0.        ]\n",
      " [0.01466667 0.09866667]]\n",
      "\n",
      "Scaled data F1 score and confusion matrix: \n",
      "F1: 0.93\n",
      "Confusion Matrix\n",
      "[[0.88533333 0.00133333]\n",
      " [0.01266667 0.10066667]]\n",
      "\n",
      "Scaled data F1 score and confusion matrix: \n",
      "F1: 0.91\n",
      "Confusion Matrix\n",
      "[[8.86000000e-01 6.66666667e-04]\n",
      " [1.73333333e-02 9.60000000e-02]]\n",
      "\n"
     ]
    }
   ],
   "source": [
    "k = np.arange(1,11)\n",
    "for k in k:\n",
    "    print('Scaled data F1 score and confusion matrix: ')\n",
    "    knn = KNeighborsClassifier(n_neighbors=k)\n",
    "    knn.fit(x_train,y_train)\n",
    "    eval_classifier(y_test, knn.predict(x_test))\n",
    "    print()"
   ]
  },
  {
   "cell_type": "markdown",
   "metadata": {},
   "source": [
    "The results from the scaled data is different from that of the unscaled one. This gave the highest F1 from k =1 of 0.95 compared to 0.69 from the unscaled one. "
   ]
  },
  {
   "cell_type": "markdown",
   "metadata": {},
   "source": [
    "## Conclusion\n",
    "\n",
    "The scaling of the data do impact the results as well as the value of k selected. Increasing k did not impact positively on the F1 results.\n",
    "\n",
    "The use of dummy variable gave an F1 score of 0.20."
   ]
  },
  {
   "cell_type": "markdown",
   "metadata": {},
   "source": [
    "<div class=\"alert alert-success\">\n",
    "<b>Reviewer's comment</b>\n",
    "  \n",
    "Great, you successfully applied KNN to a classfication problem, compared the results obtained with original and scaled data and with a random model. Conclusions look good!\n",
    "  \n",
    "</div>"
   ]
  },
  {
   "cell_type": "markdown",
   "metadata": {},
   "source": [
    "# Task 3. Regression (with Linear Regression)"
   ]
  },
  {
   "cell_type": "markdown",
   "metadata": {},
   "source": [
    "With `insurance_benefits` as the target, evaluate what RMSE would be for a Linear Regression model."
   ]
  },
  {
   "cell_type": "markdown",
   "metadata": {},
   "source": [
    "Build your own implementation of LR. For that, recall how the linear regression task's solution is formulated in terms of LA. Check RMSE for both the original data and the scaled one. Can you see any difference in RMSE between these two cases?\n",
    "\n",
    "Let's denote\n",
    "- $X$ — feature matrix, each row is a case, each column is a feature, the first column consists of unities\n",
    "- $y$ — target (a vector)\n",
    "- $\\hat{y}$ — estimated tagret (a vector)\n",
    "- $w$ — weight vector\n",
    "\n",
    "The task of linear regression in the language of matrices can be formulated as\n",
    "\n",
    "$$\n",
    "y = Xw\n",
    "$$\n",
    "\n",
    "The training objective then is to find such $w$ that it would minimize the L2-distance (MSE) between $Xw$ and $y$:\n",
    "\n",
    "$$\n",
    "\\min_w d_2(Xw, y) \\quad \\text{or} \\quad \\min_w \\text{MSE}(Xw, y)\n",
    "$$\n",
    "\n",
    "It appears that there is analytical solution for the above:\n",
    "\n",
    "$$\n",
    "w = (X^T X)^{-1} X^T y\n",
    "$$\n",
    "\n",
    "The formula above can be used to find the weights $w$ and the latter can be used to calculate predicted values\n",
    "\n",
    "$$\n",
    "\\hat{y} = X_{val}w\n",
    "$$"
   ]
  },
  {
   "cell_type": "markdown",
   "metadata": {},
   "source": [
    "Split the whole data in the 70:30 proportion for the training/validation parts. Use the RMSE metric for the model evaluation."
   ]
  },
  {
   "cell_type": "code",
   "execution_count": 35,
   "metadata": {},
   "outputs": [],
   "source": [
    "class MyLinearRegression:\n",
    "    \n",
    "    def __init__(self):\n",
    "        \n",
    "        self.weights = None\n",
    "    \n",
    "    def fit(self, X, y):\n",
    "        \n",
    "        # adding the unities\n",
    "        \n",
    "        X2 = np.append(np.ones([len(X), 1]), X, axis=1)\n",
    "        self.weights = (np.linalg.inv(X2.T.dot(X2))).dot(X2.T).dot(y)\n",
    "         \n",
    "\n",
    "    def predict(self, X):\n",
    "        \n",
    "        # adding the unities\n",
    "        X2 = np.append(np.ones([len(X), 1]), X, axis=1)\n",
    "        y_pred = X2 @ self.weights\n",
    "        \n",
    "        return y_pred"
   ]
  },
  {
   "cell_type": "code",
   "execution_count": 36,
   "metadata": {},
   "outputs": [],
   "source": [
    "def eval_regressor(y_true, y_pred):\n",
    "    \n",
    "    rmse = math.sqrt(sklearn.metrics.mean_squared_error(y_true, y_pred))\n",
    "    print(f'RMSE: {rmse:.2f}')\n",
    "    \n",
    "    r2_score = math.sqrt(sklearn.metrics.r2_score(y_true, y_pred))\n",
    "    print(f'R2: {r2_score:.2f}')    "
   ]
  },
  {
   "cell_type": "code",
   "execution_count": 37,
   "metadata": {},
   "outputs": [
    {
     "name": "stdout",
     "output_type": "stream",
     "text": [
      "[-9.43539012e-01  3.57495491e-02  1.64272726e-02 -2.60743659e-07\n",
      " -1.16902127e-02]\n",
      "RMSE: 0.34\n",
      "R2: 0.66\n"
     ]
    }
   ],
   "source": [
    "X = df[['age', 'gender', 'income', 'family_members']].to_numpy()\n",
    "y = df['insurance_benefits'].to_numpy()\n",
    "\n",
    "X_train, X_test, y_train, y_test = train_test_split(X, y, test_size=0.3, random_state=12345)\n",
    "\n",
    "lr = MyLinearRegression()\n",
    "\n",
    "lr.fit(X_train, y_train)\n",
    "print(lr.weights)\n",
    "\n",
    "y_test_pred = lr.predict(X_test)\n",
    "eval_regressor(y_test, y_test_pred)"
   ]
  },
  {
   "cell_type": "markdown",
   "metadata": {},
   "source": [
    "The model gave an RMSE score of 0.34 and 0.66 for $ R^2 $."
   ]
  },
  {
   "cell_type": "markdown",
   "metadata": {},
   "source": [
    "# Task 4. Obfuscating Data"
   ]
  },
  {
   "cell_type": "markdown",
   "metadata": {},
   "source": [
    "It best to obfuscate data by multiplying the numerical features (remember, they can be seen as the matrix $X$) by an invertible matrix $P$. \n",
    "\n",
    "$$\n",
    "X' = X \\times P\n",
    "$$\n",
    "\n",
    "Try to do that and check how the features' values will look like after the transformation. By the way, the intertible property is important here so make sure that $P$ is indeed invertible.\n",
    "\n",
    "You may want to review the 'Matrices and Matrix Operations -> Matrix Mupliplication' lesson to recall the rule of matrix multiplication and its implementation with NumPy."
   ]
  },
  {
   "cell_type": "code",
   "execution_count": 38,
   "metadata": {},
   "outputs": [],
   "source": [
    "personal_info_column_list = ['gender', 'age', 'income', 'family_members']\n",
    "df_pn = df[personal_info_column_list]"
   ]
  },
  {
   "cell_type": "code",
   "execution_count": 39,
   "metadata": {},
   "outputs": [
    {
     "data": {
      "text/plain": [
       "array([[1.00e+00, 4.10e+01, 4.96e+04, 1.00e+00],\n",
       "       [0.00e+00, 4.60e+01, 3.80e+04, 1.00e+00],\n",
       "       [0.00e+00, 2.90e+01, 2.10e+04, 0.00e+00],\n",
       "       ...,\n",
       "       [0.00e+00, 2.00e+01, 3.39e+04, 2.00e+00],\n",
       "       [1.00e+00, 2.20e+01, 3.27e+04, 3.00e+00],\n",
       "       [1.00e+00, 2.80e+01, 4.06e+04, 1.00e+00]])"
      ]
     },
     "execution_count": 39,
     "metadata": {},
     "output_type": "execute_result"
    }
   ],
   "source": [
    "X = df_pn.to_numpy()\n",
    "X"
   ]
  },
  {
   "cell_type": "markdown",
   "metadata": {},
   "source": [
    "Generating a random matrix $P$."
   ]
  },
  {
   "cell_type": "code",
   "execution_count": 40,
   "metadata": {},
   "outputs": [
    {
     "data": {
      "text/plain": [
       "array([[0.77395605, 0.43887844, 0.85859792, 0.69736803],\n",
       "       [0.09417735, 0.97562235, 0.7611397 , 0.78606431],\n",
       "       [0.12811363, 0.45038594, 0.37079802, 0.92676499],\n",
       "       [0.64386512, 0.82276161, 0.4434142 , 0.22723872]])"
      ]
     },
     "execution_count": 40,
     "metadata": {},
     "output_type": "execute_result"
    }
   ],
   "source": [
    "rng = np.random.default_rng(seed=42)\n",
    "P = rng.random(size=(X.shape[1], X.shape[1]))\n",
    "P"
   ]
  },
  {
   "cell_type": "markdown",
   "metadata": {},
   "source": [
    "Checking the matrix $P$ is invertible"
   ]
  },
  {
   "cell_type": "code",
   "execution_count": 41,
   "metadata": {},
   "outputs": [
    {
     "data": {
      "text/plain": [
       "array([[ 1.00000000e+00,  1.85130588e-16, -2.97856902e-16,\n",
       "        -3.91584367e-17],\n",
       "       [ 6.23834470e-17,  1.00000000e+00, -7.10568689e-17,\n",
       "         8.24459807e-17],\n",
       "       [ 1.03941594e-17,  2.27454503e-17,  1.00000000e+00,\n",
       "        -5.77784356e-17],\n",
       "       [-1.02697151e-16, -1.69379178e-16, -2.49945035e-17,\n",
       "         1.00000000e+00]])"
      ]
     },
     "execution_count": 41,
     "metadata": {},
     "output_type": "execute_result"
    }
   ],
   "source": [
    "y = np.linalg.inv(P)\n",
    "P.dot(y)"
   ]
  },
  {
   "cell_type": "markdown",
   "metadata": {},
   "source": [
    "The diagonal results confirm that the P is invertible"
   ]
  },
  {
   "cell_type": "markdown",
   "metadata": {},
   "source": [
    "Can you guess the customers' ages or income after the transformation?"
   ]
  },
  {
   "cell_type": "code",
   "execution_count": 41,
   "metadata": {},
   "outputs": [
    {
     "data": {
      "text/plain": [
       "array([[ 6359.71527314, 22380.40467609, 18424.09074184, 46000.69669016],\n",
       "       [ 4873.29406479, 17160.36702982, 14125.78076133, 35253.45577301],\n",
       "       [ 2693.11742928,  9486.397744  ,  7808.83156024, 19484.86063067],\n",
       "       ...,\n",
       "       [ 4346.2234249 , 15289.24126492, 12586.16264392, 31433.50888552],\n",
       "       [ 4194.09324155, 14751.9910242 , 12144.02930637, 30323.88763426],\n",
       "       [ 5205.46827354, 18314.24814446, 15077.01370762, 37649.59295455]])"
      ]
     },
     "execution_count": 41,
     "metadata": {},
     "output_type": "execute_result"
    }
   ],
   "source": [
    "X_prime = np.matmul(X,P)\n",
    "X_prime"
   ]
  },
  {
   "cell_type": "markdown",
   "metadata": {},
   "source": [
    "Can you recover the original data from $X'$ if you know $P$? Try to check that with calculations by moving $P$ from the right side of the formula above to the left one. The rules of matrix multiplcation are really helpful here."
   ]
  },
  {
   "cell_type": "code",
   "execution_count": 42,
   "metadata": {},
   "outputs": [
    {
     "data": {
      "text/plain": [
       "array([[ 1.00000000e+00,  4.10000000e+01,  4.96000000e+04,\n",
       "         1.00000000e+00],\n",
       "       [ 1.67952800e-12,  4.60000000e+01,  3.80000000e+04,\n",
       "         1.00000000e+00],\n",
       "       [-6.23021448e-13,  2.90000000e+01,  2.10000000e+04,\n",
       "        -2.03032656e-13],\n",
       "       ...,\n",
       "       [ 1.57996161e-12,  2.00000000e+01,  3.39000000e+04,\n",
       "         2.00000000e+00],\n",
       "       [ 1.00000000e+00,  2.20000000e+01,  3.27000000e+04,\n",
       "         3.00000000e+00],\n",
       "       [ 1.00000000e+00,  2.80000000e+01,  4.06000000e+04,\n",
       "         1.00000000e+00]])"
      ]
     },
     "execution_count": 42,
     "metadata": {},
     "output_type": "execute_result"
    }
   ],
   "source": [
    "X_rev = X_prime @ np.linalg.inv(P)\n",
    "X_rev"
   ]
  },
  {
   "cell_type": "markdown",
   "metadata": {},
   "source": [
    "Print all three cases for a few customers\n",
    "- The original data\n",
    "- The transformed one\n",
    "- The reversed (recovered) one"
   ]
  },
  {
   "cell_type": "code",
   "execution_count": 43,
   "metadata": {},
   "outputs": [
    {
     "name": "stdout",
     "output_type": "stream",
     "text": [
      "The original_data:\n",
      "[[1.00e+00 4.10e+01 4.96e+04 1.00e+00]\n",
      " [0.00e+00 4.60e+01 3.80e+04 1.00e+00]]\n",
      "\n",
      "The transform data:\n",
      "[[ 6359.71527314 22380.40467609 18424.09074184 46000.69669016]\n",
      " [ 4873.29406479 17160.36702982 14125.78076133 35253.45577301]]\n",
      "\n",
      "The reversed data:\n",
      "[[1.000000e+00 4.100000e+01 4.960000e+04 1.000000e+00]\n",
      " [1.679528e-12 4.600000e+01 3.800000e+04 1.000000e+00]]\n"
     ]
    }
   ],
   "source": [
    "print('The original_data:')\n",
    "print(X[:2])\n",
    "print()\n",
    "print('The transform data:')\n",
    "print(X_prime[:2])\n",
    "print()\n",
    "print('The reversed data:')\n",
    "print(X_rev[:2])"
   ]
  },
  {
   "cell_type": "markdown",
   "metadata": {},
   "source": [
    "You can probably see that some values are not exactly the same as they are in the original data. What might be the reason for that?"
   ]
  },
  {
   "cell_type": "markdown",
   "metadata": {},
   "source": [
    "Some of the results are not the same due to the transformation and calculation of values close to zero."
   ]
  },
  {
   "cell_type": "markdown",
   "metadata": {},
   "source": [
    "<div class=\"alert alert-success\">\n",
    "<b>Reviewer's comment</b>\n",
    "  \n",
    "Yep, that's a result of working with floating point numbers\n",
    "  \n",
    "</div>"
   ]
  },
  {
   "cell_type": "markdown",
   "metadata": {},
   "source": [
    "## Proof That Data Obfuscation Can Work with LR"
   ]
  },
  {
   "cell_type": "markdown",
   "metadata": {},
   "source": [
    "The regression task has been solved with linear regression in this project. Your next task is to prove _analytically_ that the given obfuscation method won't affect linear regression in terms of predicted values i.e. their values will remain the same. Can you believe that? Well, you don't have to, you should prove it!"
   ]
  },
  {
   "cell_type": "markdown",
   "metadata": {},
   "source": [
    "So, the data is obfuscated and there is $X \\times P$ instead of just $X$ now. Consequently, there are other weights $w_P$ as\n",
    "$$\n",
    "w = (X^T X)^{-1} X^T y \\quad \\Rightarrow \\quad w_P = [(XP)^T XP]^{-1} (XP)^T y\n",
    "$$\n",
    "\n",
    "How would $w$ and $w_P$ be linked if you simplify the formula for $w_P$ above? \n",
    "\n",
    "What would be predicted values with $w_P$? \n",
    "\n",
    "What does that mean for the quality of linear regression if you measure it with RMSE?\n",
    "\n",
    "Check Appendix B Properties of Matrices in the end of the notebook. There are useful formulas in there!\n",
    "\n",
    "No code is necessary in this section, only analytical explanation!"
   ]
  },
  {
   "cell_type": "markdown",
   "metadata": {},
   "source": [
    "**Answer**"
   ]
  },
  {
   "cell_type": "markdown",
   "metadata": {},
   "source": [
    "**How would  𝑤  and  𝑤𝑃  be linked if you simplify the formula for  𝑤𝑃  above?**\n",
    "\n",
    "Given  $$ w_p = [(XP)^TXP]^{-1}(XP)^Ty $$\n",
    "\n",
    "expand $(XP)^T$  $$ w_p = [P^TX^TXP]^TP^TX^Ty$$\n",
    "\n",
    "rearrange the square brackets $$ w_p = (P^T(X^TX)P)^{-1}P^TX^Ty$$\n",
    "\n",
    "expand $(P^T(X^TX)P)^{-1}$ as $$ w_p = P^{-1}(X^TX)^{-1}(P^T)^-1P^TX^T$$\n",
    "\n",
    "$$ w_p = P^{-1}(X^TX)^{-1} IX^Ty$$\n",
    "\n",
    "apply the identity property $$ w_p = P^{-1}(X^TX)^{-1} X^Ty$$\n",
    "\n",
    "substitution of $w = (X^X)^{-1}X^Ty$ in equation $$ w_p = P^{-1} w$$"
   ]
  },
  {
   "cell_type": "markdown",
   "metadata": {},
   "source": [
    "**Analytical proof**"
   ]
  },
  {
   "cell_type": "markdown",
   "metadata": {},
   "source": [
    "**What would be predicted values with  𝑤𝑃 ?**\n",
    "\n",
    "If  $$ a = Xw $$\n",
    "\n",
    "$$ a^{'} = X^{'}w_p $$\n",
    "\n",
    "where $$ X^{'} = XP $$\n",
    "\n",
    "and $$ w_p = P^{-1}w $$\n",
    "\n",
    "substite for $ X^{'}$ in $ X^{'} = XP $   $$ a^{'} = XP.P^{-1}w $$\n",
    "\n",
    "$$ a^{'} = XIw $$\n",
    "\n",
    "$$ a^{'} = Xw = a $$"
   ]
  },
  {
   "cell_type": "markdown",
   "metadata": {},
   "source": [
    "**What does that mean for the quality of linear regression if you measure it with RMSE?**\n",
    "\n",
    "Since $ a^{'}$ and a are the same, RMSE results from both original and transform data to be the same."
   ]
  },
  {
   "cell_type": "markdown",
   "metadata": {},
   "source": [
    "<div class=\"alert alert-success\">\n",
    "<b>Reviewer's comment</b>\n",
    "  \n",
    "Excellent, the proof is absolutely correct!\n",
    "  \n",
    "</div>"
   ]
  },
  {
   "cell_type": "markdown",
   "metadata": {},
   "source": [
    "## Test Linear Regression With Data Obfuscation"
   ]
  },
  {
   "cell_type": "markdown",
   "metadata": {},
   "source": [
    "Now, let's prove Linear Regression can work computationally with the chosen obfuscation transformation.\n",
    "\n",
    "Build a procedure or a class that runs Linear Regression optionally with the obfuscation. You can use either a ready implementation of Linear Regression from sciki-learn or your own.\n",
    "\n",
    "Run Linear Regression for the original data and the obfuscated one, compare the predicted values and the RMSE, $R^2$ metric values. Is there any difference?"
   ]
  },
  {
   "cell_type": "markdown",
   "metadata": {},
   "source": [
    "**Procedure**\n",
    "\n",
    "- Create a square matrix $P$ of random numbers.\n",
    "- Check that it is invertible. If not, repeat the first point until we get an invertible matrix.\n",
    "- <! your comment here !>\n",
    "- Use $XP$ as the new feature matrix"
   ]
  },
  {
   "cell_type": "code",
   "execution_count": 44,
   "metadata": {},
   "outputs": [
    {
     "data": {
      "text/plain": [
       "array([[0.77395605, 0.43887844, 0.85859792, 0.69736803],\n",
       "       [0.09417735, 0.97562235, 0.7611397 , 0.78606431],\n",
       "       [0.12811363, 0.45038594, 0.37079802, 0.92676499],\n",
       "       [0.64386512, 0.82276161, 0.4434142 , 0.22723872]])"
      ]
     },
     "execution_count": 44,
     "metadata": {},
     "output_type": "execute_result"
    }
   ],
   "source": [
    "rng = np.random.default_rng(seed=42)\n",
    "P = rng.random(size=(X.shape[1], X.shape[1]))\n",
    "P"
   ]
  },
  {
   "cell_type": "code",
   "execution_count": 45,
   "metadata": {},
   "outputs": [
    {
     "data": {
      "text/plain": [
       "array([[ 1.00000000e+00,  1.85130588e-16, -2.97856902e-16,\n",
       "        -3.91584367e-17],\n",
       "       [ 6.23834470e-17,  1.00000000e+00, -7.10568689e-17,\n",
       "         8.24459807e-17],\n",
       "       [ 1.03941594e-17,  2.27454503e-17,  1.00000000e+00,\n",
       "        -5.77784356e-17],\n",
       "       [-1.02697151e-16, -1.69379178e-16, -2.49945035e-17,\n",
       "         1.00000000e+00]])"
      ]
     },
     "execution_count": 45,
     "metadata": {},
     "output_type": "execute_result"
    }
   ],
   "source": [
    "np.matmul(P,np.linalg.inv(P))"
   ]
  },
  {
   "cell_type": "code",
   "execution_count": 46,
   "metadata": {},
   "outputs": [],
   "source": [
    "col = ['gender', 'age', 'income', 'family_members']\n",
    "df_new = df[col]\n",
    "\n",
    "X = df_new.to_numpy()\n",
    "y = df['insurance_benefits'].to_numpy()"
   ]
  },
  {
   "cell_type": "code",
   "execution_count": 47,
   "metadata": {},
   "outputs": [
    {
     "name": "stdout",
     "output_type": "stream",
     "text": [
      "[-9.43539012e-01  1.64272726e-02  3.57495491e-02 -2.60743659e-07\n",
      " -1.16902127e-02]\n",
      "RMSE: 0.34\n",
      "R2: 0.66\n"
     ]
    }
   ],
   "source": [
    "X_train, X_test, y_train, y_test = train_test_split(X, y, test_size=0.3, random_state=12345)\n",
    "\n",
    "lr = MyLinearRegression()\n",
    "\n",
    "lr.fit(X_train, y_train)\n",
    "print(lr.weights)\n",
    "\n",
    "y_test_pred = lr.predict(X_test)\n",
    "eval_regressor(y_test, y_test_pred)"
   ]
  },
  {
   "cell_type": "code",
   "execution_count": 48,
   "metadata": {},
   "outputs": [
    {
     "name": "stdout",
     "output_type": "stream",
     "text": [
      "[-0.94353901 -0.05791721 -0.01546567  0.09871889 -0.02397536]\n",
      "RMSE: 0.34\n",
      "R2: 0.66\n"
     ]
    }
   ],
   "source": [
    "X_prime_new = X@P\n",
    "X_train, X_test, y_train, y_test = train_test_split(X_prime_new, y, test_size=0.3, random_state=12345)\n",
    "\n",
    "lr = MyLinearRegression()\n",
    "\n",
    "lr.fit(X_train, y_train)\n",
    "print(lr.weights)\n",
    "\n",
    "y_test_pred = lr.predict(X_test)\n",
    "eval_regressor(y_test, y_test_pred)"
   ]
  },
  {
   "cell_type": "markdown",
   "metadata": {},
   "source": [
    "Just as the was proven in the equation above, the results confirms the $ R^{2} $ and RMSE score to be the same, 0.66 and 0.34 respectively."
   ]
  },
  {
   "cell_type": "markdown",
   "metadata": {},
   "source": [
    "<div class=\"alert alert-success\">\n",
    "<b>Reviewer's comment</b>\n",
    "  \n",
    "Great, now you also validated our obfuscation algorithm experimentally.\n",
    "  \n",
    "</div>"
   ]
  },
  {
   "cell_type": "markdown",
   "metadata": {},
   "source": [
    "# Conclusions"
   ]
  },
  {
   "cell_type": "markdown",
   "metadata": {},
   "source": [
    "**Data Exploration and Analysis**\n",
    "\n",
    "There were no missing or null values in the dataset. The mean and median age are the same with income being negatively skewed. Gender and insurance benefit columns are binary values.\n",
    "\n",
    "**Findings**\n",
    "1. The calculation of distance using either manhattan or eculidean distance do impact on the distance between points.\n",
    "2. Scaling of the data do impact results when using kNN as it places importance on large values to the detriments of smaller once thereby impacting results.\n",
    "3. Increasing k did not increase the F1 score.\n",
    "4. The highest F1 score was from the scaled data of 0.95 when k was equal to 1.\n",
    "5. We had an RMSE score of 0.34 and 0.66 for $ R^2 $ using the class LinearRegression model.\n",
    "6. Obfuscating Data and proving with linearRegression proved that, the results are the same irrespective of whether we scaled or used the data as it is giving an $ R^2 $ of 0.66 and RMSE of 0.34.\n"
   ]
  },
  {
   "cell_type": "markdown",
   "metadata": {},
   "source": [
    "<div class=\"alert alert-success\">\n",
    "<b>Reviewer's comment</b>\n",
    "  \n",
    "Nice summary!\n",
    "  \n",
    "</div>"
   ]
  },
  {
   "cell_type": "markdown",
   "metadata": {},
   "source": [
    "# Checklist"
   ]
  },
  {
   "cell_type": "markdown",
   "metadata": {},
   "source": [
    "Type 'x' to check. Then press Shift+Enter."
   ]
  },
  {
   "cell_type": "markdown",
   "metadata": {},
   "source": [
    "- [x]  Jupyter Notebook is open\n",
    "- [x]  Code is error free\n",
    "- [x]  The cells are arranged in order of logic and execution\n",
    "- [x]  Task 1 has been performed\n",
    "    - [x]  There is the procedure that can return k similar customers for a given one\n",
    "    - [x]  The procedure is tested for all four proposed combinations\n",
    "    - [x]  The questions re the scaling/distances are answered\n",
    "- [x]  Task 2 has been performed\n",
    "    - [x]  The random classification model is built and tested for all for probability levels\n",
    "    - [x]  The kNN classification model is built and tested for both the original data and the scaled one, the F1 metric is calculated.\n",
    "- [x]  Task 3 has been performed\n",
    "    - [x]  The linear tegression solution is implemented with matrix operations.\n",
    "    - [x]  RMSE is calculated for the implemented solution.\n",
    "- [x]  Task 4 has been performed\n",
    "    - [x]  The data is obfuscated with a random and invertible matrix P\n",
    "    - [x]  The obfuscated data is recoved, few examples are printed out\n",
    "    - [x]  The analytical proof that the transformation does not affect RMSE is provided \n",
    "    - [x]  The computational proof that the transformation does not affect RMSE is provided\n",
    "- [x]  Conclusions have been made"
   ]
  },
  {
   "cell_type": "markdown",
   "metadata": {},
   "source": [
    "# Appendices \n",
    "\n",
    "## Appendix A: Writing Formulas in Jupyter Notebooks"
   ]
  },
  {
   "cell_type": "markdown",
   "metadata": {},
   "source": [
    "You can write formulas in your Jupyter Notebook in a markup language provided by a high-quality publishing system called $\\LaTeX$ (pronounced \"Lah-tech\"), and they will look like formulas in textbooks.\n",
    "\n",
    "To put a formula in a text, put the dollar sign (\\\\$) before and after the formula's text e.g. $\\frac{1}{2} \\times \\frac{3}{2} = \\frac{3}{4}$ or $y = x^2, x \\ge 1$.\n",
    "\n",
    "If a formula should be in its own paragraph, put the double dollar sign (\\\\$\\\\$) before and after the formula text e.g.\n",
    "\n",
    "$$\n",
    "\\bar{x} = \\frac{1}{n}\\sum_{i=1}^{n} x_i.\n",
    "$$\n",
    "\n",
    "The markup language of [LaTeX](https://en.wikipedia.org/wiki/LaTeX) is very popular among people who use formulas in their articles, books and texts. It can be complex but its basics are easy. Check this two page [cheatsheet](http://tug.ctan.org/info/undergradmath/undergradmath.pdf) for learning how to compose the most common formulas."
   ]
  },
  {
   "cell_type": "markdown",
   "metadata": {},
   "source": [
    "## Appendix B: Properties of Matrices"
   ]
  },
  {
   "cell_type": "markdown",
   "metadata": {},
   "source": [
    "Matrices have many properties in Linear Algebra. A few of them are listed here which can help with the analytical proof in this project."
   ]
  },
  {
   "cell_type": "markdown",
   "metadata": {},
   "source": [
    "<table>\n",
    "<tr>\n",
    "<td>Distributivity</td><td>$A(B+C)=AB+AC$</td>\n",
    "</tr>\n",
    "<tr>\n",
    "<td>Non-commutativity</td><td>$AB \\neq BA$</td>\n",
    "</tr>\n",
    "<tr>\n",
    "<td>Associative property of multiplication</td><td>$(AB)C = A(BC)$</td>\n",
    "</tr>\n",
    "<tr>\n",
    "<td>Multiplicative identity property</td><td>$IA = AI = A$</td>\n",
    "</tr>\n",
    "<tr>\n",
    "<td></td><td>$A^{-1}A = AA^{-1} = I$\n",
    "</td>\n",
    "</tr>    \n",
    "<tr>\n",
    "<td></td><td>$(AB)^{-1} = B^{-1}A^{-1}$</td>\n",
    "</tr>    \n",
    "<tr>\n",
    "<td>Reversivity of the transpose of a product of matrices,</td><td>$(AB)^T = B^TA^T$</td>\n",
    "</tr>    \n",
    "</table>"
   ]
  },
  {
   "cell_type": "code",
   "execution_count": null,
   "metadata": {},
   "outputs": [],
   "source": []
  }
 ],
 "metadata": {
  "ExecuteTimeLog": [
   {
    "duration": 1268,
    "start_time": "2021-09-24T08:06:09.093Z"
   },
   {
    "duration": 2833,
    "start_time": "2021-09-24T08:06:15.803Z"
   },
   {
    "duration": 132,
    "start_time": "2021-09-24T08:06:32.925Z"
   },
   {
    "duration": 166,
    "start_time": "2021-09-24T08:06:39.913Z"
   },
   {
    "duration": 5,
    "start_time": "2021-09-24T08:06:49.648Z"
   },
   {
    "duration": 14,
    "start_time": "2021-09-24T08:06:56.709Z"
   },
   {
    "duration": 9,
    "start_time": "2021-09-24T08:07:01.298Z"
   },
   {
    "duration": 365,
    "start_time": "2021-09-24T08:08:47.538Z"
   },
   {
    "duration": 369,
    "start_time": "2021-09-24T08:08:57.549Z"
   },
   {
    "duration": 4,
    "start_time": "2021-09-24T08:13:02.380Z"
   },
   {
    "duration": 2,
    "start_time": "2021-09-24T08:13:04.032Z"
   },
   {
    "duration": 7,
    "start_time": "2021-09-24T08:13:14.738Z"
   },
   {
    "duration": 34,
    "start_time": "2021-09-24T08:13:42.147Z"
   },
   {
    "duration": 69,
    "start_time": "2021-09-24T08:17:01.389Z"
   },
   {
    "duration": 5,
    "start_time": "2021-09-24T08:17:04.755Z"
   },
   {
    "duration": 14,
    "start_time": "2021-09-24T08:17:05.910Z"
   },
   {
    "duration": 9,
    "start_time": "2021-09-24T08:17:08.650Z"
   },
   {
    "duration": 473,
    "start_time": "2021-09-24T08:17:10.432Z"
   },
   {
    "duration": 11,
    "start_time": "2021-09-24T08:17:21.267Z"
   },
   {
    "duration": 8,
    "start_time": "2021-09-24T08:17:24.202Z"
   },
   {
    "duration": 24,
    "start_time": "2021-09-24T08:17:36.079Z"
   },
   {
    "duration": 12,
    "start_time": "2021-09-24T08:17:49.413Z"
   },
   {
    "duration": 68,
    "start_time": "2021-09-24T08:18:30.710Z"
   },
   {
    "duration": 4,
    "start_time": "2021-09-24T08:18:35.173Z"
   },
   {
    "duration": 9,
    "start_time": "2021-09-24T08:18:36.052Z"
   },
   {
    "duration": 6,
    "start_time": "2021-09-24T08:18:38.727Z"
   },
   {
    "duration": 4,
    "start_time": "2021-09-24T08:18:40.133Z"
   },
   {
    "duration": 8,
    "start_time": "2021-09-24T08:18:41.865Z"
   },
   {
    "duration": 24,
    "start_time": "2021-09-24T08:18:44.479Z"
   },
   {
    "duration": 11,
    "start_time": "2021-09-24T08:18:45.592Z"
   },
   {
    "duration": 5117,
    "start_time": "2021-09-24T08:19:08.914Z"
   },
   {
    "duration": 3,
    "start_time": "2021-09-24T08:22:51.565Z"
   },
   {
    "duration": 5,
    "start_time": "2021-09-24T08:30:12.560Z"
   },
   {
    "duration": 11,
    "start_time": "2021-09-24T08:30:34.986Z"
   },
   {
    "duration": 10,
    "start_time": "2021-09-24T08:30:36.656Z"
   },
   {
    "duration": 754,
    "start_time": "2021-09-24T08:37:49.766Z"
   },
   {
    "duration": 4,
    "start_time": "2021-09-24T08:46:44.848Z"
   },
   {
    "duration": 891,
    "start_time": "2021-09-24T08:46:49.010Z"
   },
   {
    "duration": 4,
    "start_time": "2021-09-24T08:47:02.615Z"
   },
   {
    "duration": 349,
    "start_time": "2021-09-24T08:48:56.887Z"
   },
   {
    "duration": 677,
    "start_time": "2021-09-24T08:49:14.046Z"
   },
   {
    "duration": 5,
    "start_time": "2021-09-24T08:55:09.850Z"
   },
   {
    "duration": 12,
    "start_time": "2021-09-24T08:55:13.341Z"
   },
   {
    "duration": 11,
    "start_time": "2021-09-24T08:55:15.104Z"
   },
   {
    "duration": 713,
    "start_time": "2021-09-24T08:55:25.552Z"
   },
   {
    "duration": 949,
    "start_time": "2021-09-24T08:55:39.972Z"
   },
   {
    "duration": 4,
    "start_time": "2021-09-24T08:57:43.761Z"
   },
   {
    "duration": 11,
    "start_time": "2021-09-24T08:57:46.861Z"
   },
   {
    "duration": 10,
    "start_time": "2021-09-24T08:57:48.265Z"
   },
   {
    "duration": 749,
    "start_time": "2021-09-24T08:57:52.920Z"
   },
   {
    "duration": 1288,
    "start_time": "2021-09-24T08:58:20.660Z"
   },
   {
    "duration": 74,
    "start_time": "2021-09-24T08:58:25.154Z"
   },
   {
    "duration": 5,
    "start_time": "2021-09-24T08:58:28.844Z"
   },
   {
    "duration": 13,
    "start_time": "2021-09-24T08:58:30.125Z"
   },
   {
    "duration": 8,
    "start_time": "2021-09-24T08:58:32.730Z"
   },
   {
    "duration": 4,
    "start_time": "2021-09-24T08:58:34.746Z"
   },
   {
    "duration": 6,
    "start_time": "2021-09-24T08:58:36.829Z"
   },
   {
    "duration": 23,
    "start_time": "2021-09-24T08:58:39.606Z"
   },
   {
    "duration": 4919,
    "start_time": "2021-09-24T08:58:43.230Z"
   },
   {
    "duration": 3,
    "start_time": "2021-09-24T08:58:54.044Z"
   },
   {
    "duration": 5,
    "start_time": "2021-09-24T09:00:24.159Z"
   },
   {
    "duration": 15,
    "start_time": "2021-09-24T09:00:27.229Z"
   },
   {
    "duration": 10,
    "start_time": "2021-09-24T09:00:28.576Z"
   },
   {
    "duration": 857,
    "start_time": "2021-09-24T09:00:34.620Z"
   },
   {
    "duration": 182,
    "start_time": "2021-09-24T09:02:24.382Z"
   },
   {
    "duration": 3,
    "start_time": "2021-09-24T09:04:29.361Z"
   },
   {
    "duration": 4,
    "start_time": "2021-09-24T09:05:59.020Z"
   },
   {
    "duration": 5,
    "start_time": "2021-09-24T09:06:48.891Z"
   },
   {
    "duration": 11,
    "start_time": "2021-09-24T09:06:51.979Z"
   },
   {
    "duration": 10,
    "start_time": "2021-09-24T09:06:52.883Z"
   },
   {
    "duration": 761,
    "start_time": "2021-09-24T09:07:00.880Z"
   },
   {
    "duration": 4,
    "start_time": "2021-09-24T09:07:35.320Z"
   },
   {
    "duration": 16,
    "start_time": "2021-09-24T09:07:39.312Z"
   },
   {
    "duration": 16,
    "start_time": "2021-09-24T09:09:04.550Z"
   },
   {
    "duration": 1222,
    "start_time": "2021-09-24T09:09:24.945Z"
   },
   {
    "duration": 120,
    "start_time": "2021-09-24T09:09:28.909Z"
   },
   {
    "duration": 4,
    "start_time": "2021-09-24T09:09:31.327Z"
   },
   {
    "duration": 13,
    "start_time": "2021-09-24T09:09:33.015Z"
   },
   {
    "duration": 7,
    "start_time": "2021-09-24T09:09:35.531Z"
   },
   {
    "duration": 4,
    "start_time": "2021-09-24T09:09:37.473Z"
   },
   {
    "duration": 6,
    "start_time": "2021-09-24T09:09:38.645Z"
   },
   {
    "duration": 23,
    "start_time": "2021-09-24T09:09:41.299Z"
   },
   {
    "duration": 4967,
    "start_time": "2021-09-24T09:09:44.179Z"
   },
   {
    "duration": 3,
    "start_time": "2021-09-24T09:09:51.779Z"
   },
   {
    "duration": 5,
    "start_time": "2021-09-24T09:09:56.456Z"
   },
   {
    "duration": 11,
    "start_time": "2021-09-24T09:10:47.009Z"
   },
   {
    "duration": 9,
    "start_time": "2021-09-24T09:10:52.010Z"
   },
   {
    "duration": 427,
    "start_time": "2021-09-24T09:11:13.111Z"
   },
   {
    "duration": 26,
    "start_time": "2021-09-24T09:14:30.478Z"
   },
   {
    "duration": 24,
    "start_time": "2021-09-24T09:14:53.745Z"
   },
   {
    "duration": 15,
    "start_time": "2021-09-24T09:15:00.273Z"
   },
   {
    "duration": 14,
    "start_time": "2021-09-24T09:15:04.542Z"
   },
   {
    "duration": 22,
    "start_time": "2021-09-24T09:15:51.247Z"
   },
   {
    "duration": 23,
    "start_time": "2021-09-24T09:16:09.398Z"
   },
   {
    "duration": 16,
    "start_time": "2021-09-24T09:16:28.849Z"
   },
   {
    "duration": 15,
    "start_time": "2021-09-24T09:16:46.478Z"
   },
   {
    "duration": 161,
    "start_time": "2021-09-24T09:18:30.582Z"
   },
   {
    "duration": 207,
    "start_time": "2021-09-24T09:21:06.126Z"
   },
   {
    "duration": 282,
    "start_time": "2021-09-24T09:21:21.927Z"
   },
   {
    "duration": 198,
    "start_time": "2021-09-24T09:21:34.385Z"
   },
   {
    "duration": 226,
    "start_time": "2021-09-24T09:22:57.203Z"
   },
   {
    "duration": 186,
    "start_time": "2021-09-24T09:23:21.176Z"
   },
   {
    "duration": 539,
    "start_time": "2021-09-24T09:28:21.672Z"
   },
   {
    "duration": 3,
    "start_time": "2021-09-24T09:28:47.346Z"
   },
   {
    "duration": 564,
    "start_time": "2021-09-24T09:28:55.799Z"
   },
   {
    "duration": 185,
    "start_time": "2021-09-24T09:29:02.728Z"
   },
   {
    "duration": 179,
    "start_time": "2021-09-24T09:29:56.022Z"
   },
   {
    "duration": 198,
    "start_time": "2021-09-24T09:30:34.753Z"
   },
   {
    "duration": 197,
    "start_time": "2021-09-24T09:30:56.028Z"
   },
   {
    "duration": 181,
    "start_time": "2021-09-24T09:31:05.661Z"
   },
   {
    "duration": 200,
    "start_time": "2021-09-24T09:31:25.334Z"
   },
   {
    "duration": 181,
    "start_time": "2021-09-24T09:31:47.192Z"
   },
   {
    "duration": 192,
    "start_time": "2021-09-24T09:37:30.767Z"
   },
   {
    "duration": 195,
    "start_time": "2021-09-24T09:38:00.257Z"
   },
   {
    "duration": 289,
    "start_time": "2021-09-24T09:45:52.588Z"
   },
   {
    "duration": 195,
    "start_time": "2021-09-24T09:47:10.601Z"
   },
   {
    "duration": 336,
    "start_time": "2021-09-24T09:48:55.618Z"
   },
   {
    "duration": 205,
    "start_time": "2021-09-24T09:49:17.015Z"
   },
   {
    "duration": 241,
    "start_time": "2021-09-24T09:49:48.015Z"
   },
   {
    "duration": 1229,
    "start_time": "2021-09-24T09:50:54.043Z"
   },
   {
    "duration": 76,
    "start_time": "2021-09-24T09:50:57.762Z"
   },
   {
    "duration": 5,
    "start_time": "2021-09-24T09:51:00.289Z"
   },
   {
    "duration": 14,
    "start_time": "2021-09-24T09:51:01.565Z"
   },
   {
    "duration": 8,
    "start_time": "2021-09-24T09:51:04.534Z"
   },
   {
    "duration": 5,
    "start_time": "2021-09-24T09:51:07.809Z"
   },
   {
    "duration": 7,
    "start_time": "2021-09-24T09:51:08.942Z"
   },
   {
    "duration": 24,
    "start_time": "2021-09-24T09:51:11.688Z"
   },
   {
    "duration": 223,
    "start_time": "2021-09-24T09:51:17.128Z"
   },
   {
    "duration": 263,
    "start_time": "2021-09-24T09:51:22.976Z"
   },
   {
    "duration": 435,
    "start_time": "2021-09-24T09:56:58.834Z"
   },
   {
    "duration": 5393,
    "start_time": "2021-09-24T09:57:29.201Z"
   },
   {
    "duration": 8061,
    "start_time": "2021-09-24T09:58:40.753Z"
   },
   {
    "duration": 3,
    "start_time": "2021-09-24T10:00:07.023Z"
   },
   {
    "duration": 5,
    "start_time": "2021-09-24T10:00:07.842Z"
   },
   {
    "duration": 10,
    "start_time": "2021-09-24T10:00:10.688Z"
   },
   {
    "duration": 9,
    "start_time": "2021-09-24T10:00:13.273Z"
   },
   {
    "duration": 24,
    "start_time": "2021-09-24T10:00:16.398Z"
   },
   {
    "duration": 22,
    "start_time": "2021-09-24T10:00:19.655Z"
   },
   {
    "duration": 15,
    "start_time": "2021-09-24T10:00:25.899Z"
   },
   {
    "duration": 14,
    "start_time": "2021-09-24T10:01:29.638Z"
   },
   {
    "duration": 192,
    "start_time": "2021-09-24T10:01:47.030Z"
   },
   {
    "duration": 184,
    "start_time": "2021-09-24T10:01:54.199Z"
   },
   {
    "duration": 324,
    "start_time": "2021-09-24T10:05:51.559Z"
   },
   {
    "duration": 314,
    "start_time": "2021-09-24T10:06:01.880Z"
   },
   {
    "duration": 362,
    "start_time": "2021-09-24T10:06:56.350Z"
   },
   {
    "duration": 620,
    "start_time": "2021-09-24T10:07:05.311Z"
   },
   {
    "duration": 585,
    "start_time": "2021-09-24T10:07:13.013Z"
   },
   {
    "duration": 471,
    "start_time": "2021-09-24T10:07:44.816Z"
   },
   {
    "duration": 974,
    "start_time": "2021-09-24T10:08:14.577Z"
   },
   {
    "duration": 507,
    "start_time": "2021-09-24T10:08:36.964Z"
   },
   {
    "duration": 3,
    "start_time": "2021-09-24T10:09:26.519Z"
   },
   {
    "duration": 2,
    "start_time": "2021-09-24T10:09:30.821Z"
   },
   {
    "duration": 597,
    "start_time": "2021-09-24T10:10:35.782Z"
   },
   {
    "duration": 503,
    "start_time": "2021-09-24T10:12:01.270Z"
   },
   {
    "duration": 488,
    "start_time": "2021-09-24T10:13:29.630Z"
   },
   {
    "duration": 481,
    "start_time": "2021-09-24T10:14:38.538Z"
   },
   {
    "duration": 498,
    "start_time": "2021-09-24T10:15:12.355Z"
   },
   {
    "duration": 373,
    "start_time": "2021-09-24T10:21:26.777Z"
   },
   {
    "duration": 810,
    "start_time": "2021-09-24T10:21:35.964Z"
   },
   {
    "duration": 612,
    "start_time": "2021-09-24T10:21:58.340Z"
   },
   {
    "duration": 205,
    "start_time": "2021-09-24T10:22:15.375Z"
   },
   {
    "duration": 196,
    "start_time": "2021-09-24T10:23:20.466Z"
   },
   {
    "duration": 218,
    "start_time": "2021-09-24T10:23:35.783Z"
   },
   {
    "duration": 9546,
    "start_time": "2021-09-24T10:31:00.743Z"
   },
   {
    "duration": 4,
    "start_time": "2021-09-24T10:33:16.664Z"
   },
   {
    "duration": 7,
    "start_time": "2021-09-24T10:33:47.993Z"
   },
   {
    "duration": 400,
    "start_time": "2021-09-24T10:34:04.086Z"
   },
   {
    "duration": 12,
    "start_time": "2021-09-24T10:34:24.474Z"
   },
   {
    "duration": 4,
    "start_time": "2021-09-24T10:36:00.365Z"
   },
   {
    "duration": 7,
    "start_time": "2021-09-24T10:36:01.594Z"
   },
   {
    "duration": 6,
    "start_time": "2021-09-24T10:36:11.239Z"
   },
   {
    "duration": 8,
    "start_time": "2021-09-24T10:36:17.343Z"
   },
   {
    "duration": 4,
    "start_time": "2021-09-24T10:36:30.647Z"
   },
   {
    "duration": 3,
    "start_time": "2021-09-24T10:39:40.934Z"
   },
   {
    "duration": 9,
    "start_time": "2021-09-24T10:42:42.326Z"
   },
   {
    "duration": 1161,
    "start_time": "2021-09-24T10:46:34.104Z"
   },
   {
    "duration": 9,
    "start_time": "2021-09-24T10:46:51.579Z"
   },
   {
    "duration": 901,
    "start_time": "2021-09-24T10:53:06.187Z"
   },
   {
    "duration": 3,
    "start_time": "2021-09-24T10:53:31.952Z"
   },
   {
    "duration": 3,
    "start_time": "2021-09-24T10:55:13.251Z"
   },
   {
    "duration": 770,
    "start_time": "2021-09-24T10:55:21.374Z"
   },
   {
    "duration": 4,
    "start_time": "2021-09-24T11:01:42.249Z"
   },
   {
    "duration": 784,
    "start_time": "2021-09-24T11:01:47.141Z"
   },
   {
    "duration": 724,
    "start_time": "2021-09-24T11:12:34.560Z"
   },
   {
    "duration": 11,
    "start_time": "2021-09-24T11:17:54.396Z"
   },
   {
    "duration": 754,
    "start_time": "2021-09-24T11:17:55.774Z"
   },
   {
    "duration": 824,
    "start_time": "2021-09-24T11:18:01.822Z"
   },
   {
    "duration": 741,
    "start_time": "2021-09-24T11:18:38.756Z"
   },
   {
    "duration": 1245,
    "start_time": "2021-09-24T11:21:49.366Z"
   },
   {
    "duration": 143,
    "start_time": "2021-09-24T11:21:51.804Z"
   },
   {
    "duration": 4,
    "start_time": "2021-09-24T11:21:54.102Z"
   },
   {
    "duration": 13,
    "start_time": "2021-09-24T11:21:55.287Z"
   },
   {
    "duration": 7,
    "start_time": "2021-09-24T11:21:57.913Z"
   },
   {
    "duration": 4,
    "start_time": "2021-09-24T11:21:58.993Z"
   },
   {
    "duration": 6,
    "start_time": "2021-09-24T11:22:00.171Z"
   },
   {
    "duration": 23,
    "start_time": "2021-09-24T11:22:01.685Z"
   },
   {
    "duration": 215,
    "start_time": "2021-09-24T11:22:04.207Z"
   },
   {
    "duration": 244,
    "start_time": "2021-09-24T11:22:05.424Z"
   },
   {
    "duration": 7678,
    "start_time": "2021-09-24T11:22:09.529Z"
   },
   {
    "duration": 3,
    "start_time": "2021-09-24T11:22:17.209Z"
   },
   {
    "duration": 9,
    "start_time": "2021-09-24T11:22:17.214Z"
   },
   {
    "duration": 12,
    "start_time": "2021-09-24T11:22:18.988Z"
   },
   {
    "duration": 10,
    "start_time": "2021-09-24T11:22:19.840Z"
   },
   {
    "duration": 23,
    "start_time": "2021-09-24T11:22:22.809Z"
   },
   {
    "duration": 24,
    "start_time": "2021-09-24T11:22:24.989Z"
   },
   {
    "duration": 14,
    "start_time": "2021-09-24T11:22:26.678Z"
   },
   {
    "duration": 15,
    "start_time": "2021-09-24T11:22:29.240Z"
   },
   {
    "duration": 502,
    "start_time": "2021-09-24T11:22:32.231Z"
   },
   {
    "duration": 482,
    "start_time": "2021-09-24T11:22:35.426Z"
   },
   {
    "duration": 201,
    "start_time": "2021-09-24T11:22:41.177Z"
   },
   {
    "duration": 188,
    "start_time": "2021-09-24T11:22:43.274Z"
   },
   {
    "duration": 4,
    "start_time": "2021-09-24T11:22:48.218Z"
   },
   {
    "duration": 12,
    "start_time": "2021-09-24T11:22:51.703Z"
   },
   {
    "duration": 4,
    "start_time": "2021-09-24T11:24:21.613Z"
   },
   {
    "duration": 3,
    "start_time": "2021-09-24T11:24:22.572Z"
   },
   {
    "duration": 9,
    "start_time": "2021-09-24T11:24:23.686Z"
   },
   {
    "duration": 4,
    "start_time": "2021-09-24T11:34:32.194Z"
   },
   {
    "duration": 1259,
    "start_time": "2021-09-24T11:34:39.407Z"
   },
   {
    "duration": 72,
    "start_time": "2021-09-24T11:34:42.346Z"
   },
   {
    "duration": 5,
    "start_time": "2021-09-24T11:34:44.790Z"
   },
   {
    "duration": 13,
    "start_time": "2021-09-24T11:34:46.209Z"
   },
   {
    "duration": 9,
    "start_time": "2021-09-24T11:34:49.350Z"
   },
   {
    "duration": 4,
    "start_time": "2021-09-24T11:34:50.218Z"
   },
   {
    "duration": 6,
    "start_time": "2021-09-24T11:34:50.894Z"
   },
   {
    "duration": 23,
    "start_time": "2021-09-24T11:34:51.797Z"
   },
   {
    "duration": 213,
    "start_time": "2021-09-24T11:34:54.046Z"
   },
   {
    "duration": 259,
    "start_time": "2021-09-24T11:34:57.005Z"
   },
   {
    "duration": 8715,
    "start_time": "2021-09-24T11:35:31.082Z"
   },
   {
    "duration": 2,
    "start_time": "2021-09-24T11:35:39.799Z"
   },
   {
    "duration": 7,
    "start_time": "2021-09-24T11:35:39.803Z"
   },
   {
    "duration": 13,
    "start_time": "2021-09-24T11:35:39.811Z"
   },
   {
    "duration": 11,
    "start_time": "2021-09-24T11:35:41.241Z"
   },
   {
    "duration": 26,
    "start_time": "2021-09-24T11:35:44.214Z"
   },
   {
    "duration": 25,
    "start_time": "2021-09-24T11:35:46.124Z"
   },
   {
    "duration": 17,
    "start_time": "2021-09-24T11:35:46.949Z"
   },
   {
    "duration": 15,
    "start_time": "2021-09-24T11:35:49.960Z"
   },
   {
    "duration": 517,
    "start_time": "2021-09-24T11:35:52.367Z"
   },
   {
    "duration": 490,
    "start_time": "2021-09-24T11:35:54.642Z"
   },
   {
    "duration": 202,
    "start_time": "2021-09-24T11:35:58.491Z"
   },
   {
    "duration": 200,
    "start_time": "2021-09-24T11:36:00.742Z"
   },
   {
    "duration": 4,
    "start_time": "2021-09-24T11:36:04.841Z"
   },
   {
    "duration": 12,
    "start_time": "2021-09-24T11:36:05.777Z"
   },
   {
    "duration": 3,
    "start_time": "2021-09-24T11:36:10.408Z"
   },
   {
    "duration": 3,
    "start_time": "2021-09-24T11:36:11.725Z"
   },
   {
    "duration": 11,
    "start_time": "2021-09-24T11:36:16.033Z"
   },
   {
    "duration": 853,
    "start_time": "2021-09-24T11:36:16.951Z"
   },
   {
    "duration": 739,
    "start_time": "2021-09-24T12:48:47.138Z"
   },
   {
    "duration": 4,
    "start_time": "2021-09-24T12:50:09.267Z"
   },
   {
    "duration": 48,
    "start_time": "2021-09-24T12:50:12.789Z"
   },
   {
    "duration": 8673,
    "start_time": "2021-09-24T12:52:20.137Z"
   },
   {
    "duration": 1689,
    "start_time": "2021-09-24T12:53:07.174Z"
   },
   {
    "duration": 137,
    "start_time": "2021-09-24T12:53:19.853Z"
   },
   {
    "duration": 6,
    "start_time": "2021-09-24T12:53:22.303Z"
   },
   {
    "duration": 13,
    "start_time": "2021-09-24T12:53:23.935Z"
   },
   {
    "duration": 9,
    "start_time": "2021-09-24T12:53:26.467Z"
   },
   {
    "duration": 5,
    "start_time": "2021-09-24T12:53:27.491Z"
   },
   {
    "duration": 6,
    "start_time": "2021-09-24T12:53:28.469Z"
   },
   {
    "duration": 24,
    "start_time": "2021-09-24T12:53:30.460Z"
   },
   {
    "duration": 226,
    "start_time": "2021-09-24T12:53:33.330Z"
   },
   {
    "duration": 252,
    "start_time": "2021-09-24T12:53:35.826Z"
   },
   {
    "duration": 7565,
    "start_time": "2021-09-24T12:55:29.537Z"
   },
   {
    "duration": 3,
    "start_time": "2021-09-24T12:55:37.104Z"
   },
   {
    "duration": 25,
    "start_time": "2021-09-24T12:55:37.109Z"
   },
   {
    "duration": 12,
    "start_time": "2021-09-24T12:55:38.109Z"
   },
   {
    "duration": 10,
    "start_time": "2021-09-24T12:55:40.448Z"
   },
   {
    "duration": 30,
    "start_time": "2021-09-24T12:55:42.802Z"
   },
   {
    "duration": 28,
    "start_time": "2021-09-24T12:55:43.891Z"
   },
   {
    "duration": 18,
    "start_time": "2021-09-24T12:55:46.097Z"
   },
   {
    "duration": 16,
    "start_time": "2021-09-24T12:55:48.876Z"
   },
   {
    "duration": 504,
    "start_time": "2021-09-24T12:55:51.657Z"
   },
   {
    "duration": 564,
    "start_time": "2021-09-24T12:55:54.415Z"
   },
   {
    "duration": 199,
    "start_time": "2021-09-24T12:55:58.154Z"
   },
   {
    "duration": 201,
    "start_time": "2021-09-24T12:56:01.965Z"
   },
   {
    "duration": 4,
    "start_time": "2021-09-24T12:56:05.941Z"
   },
   {
    "duration": 12,
    "start_time": "2021-09-24T12:56:07.218Z"
   },
   {
    "duration": 4,
    "start_time": "2021-09-24T12:57:12.933Z"
   },
   {
    "duration": 3,
    "start_time": "2021-09-24T12:57:14.722Z"
   },
   {
    "duration": 10,
    "start_time": "2021-09-24T12:57:15.863Z"
   },
   {
    "duration": 51,
    "start_time": "2021-09-24T12:57:17.089Z"
   },
   {
    "duration": 902,
    "start_time": "2021-09-24T12:58:31.019Z"
   },
   {
    "duration": 7916,
    "start_time": "2021-09-24T13:04:32.751Z"
   },
   {
    "duration": 8285,
    "start_time": "2021-09-24T13:05:24.872Z"
   },
   {
    "duration": 719,
    "start_time": "2021-09-24T13:12:52.260Z"
   },
   {
    "duration": 71,
    "start_time": "2021-09-24T13:14:51.170Z"
   },
   {
    "duration": 9156,
    "start_time": "2021-09-24T13:22:03.993Z"
   },
   {
    "duration": 4,
    "start_time": "2021-09-24T13:24:07.538Z"
   },
   {
    "duration": 68,
    "start_time": "2021-09-24T13:24:33.425Z"
   },
   {
    "duration": 392,
    "start_time": "2021-09-24T13:25:55.747Z"
   },
   {
    "duration": 7,
    "start_time": "2021-09-24T13:26:38.732Z"
   },
   {
    "duration": 386,
    "start_time": "2021-09-24T13:36:43.297Z"
   },
   {
    "duration": 7,
    "start_time": "2021-09-24T13:37:16.824Z"
   },
   {
    "duration": 63,
    "start_time": "2021-09-24T13:37:42.905Z"
   },
   {
    "duration": 5,
    "start_time": "2021-09-24T14:26:43.589Z"
   },
   {
    "duration": 3,
    "start_time": "2021-09-24T14:26:46.430Z"
   },
   {
    "duration": 740,
    "start_time": "2021-09-24T14:27:11.334Z"
   },
   {
    "duration": 4,
    "start_time": "2021-09-24T14:27:50.083Z"
   },
   {
    "duration": 805,
    "start_time": "2021-09-24T14:27:53.768Z"
   },
   {
    "duration": 4,
    "start_time": "2021-09-24T14:30:16.207Z"
   },
   {
    "duration": 861,
    "start_time": "2021-09-24T14:30:19.379Z"
   },
   {
    "duration": 4,
    "start_time": "2021-09-24T14:31:18.078Z"
   },
   {
    "duration": 4,
    "start_time": "2021-09-24T14:31:38.636Z"
   },
   {
    "duration": 893,
    "start_time": "2021-09-24T14:31:41.361Z"
   },
   {
    "duration": 4,
    "start_time": "2021-09-24T14:46:55.131Z"
   },
   {
    "duration": 764,
    "start_time": "2021-09-24T14:46:58.886Z"
   },
   {
    "duration": 5,
    "start_time": "2021-09-24T14:48:16.346Z"
   },
   {
    "duration": 891,
    "start_time": "2021-09-24T14:48:18.843Z"
   },
   {
    "duration": 5,
    "start_time": "2021-09-24T14:50:51.994Z"
   },
   {
    "duration": 813,
    "start_time": "2021-09-24T14:50:54.404Z"
   },
   {
    "duration": 141,
    "start_time": "2021-09-24T14:51:56.144Z"
   },
   {
    "duration": 4,
    "start_time": "2021-09-24T14:52:02.528Z"
   },
   {
    "duration": 11,
    "start_time": "2021-09-24T14:52:05.426Z"
   },
   {
    "duration": 5,
    "start_time": "2021-09-24T14:57:57.440Z"
   },
   {
    "duration": 3,
    "start_time": "2021-09-24T14:57:59.039Z"
   },
   {
    "duration": 4,
    "start_time": "2021-09-24T14:58:03.640Z"
   },
   {
    "duration": 6,
    "start_time": "2021-09-24T14:59:01.708Z"
   },
   {
    "duration": 6,
    "start_time": "2021-09-24T14:59:44.093Z"
   },
   {
    "duration": 6,
    "start_time": "2021-09-24T15:01:12.411Z"
   },
   {
    "duration": 5,
    "start_time": "2021-09-24T15:02:37.628Z"
   },
   {
    "duration": 5,
    "start_time": "2021-09-24T15:03:15.825Z"
   },
   {
    "duration": 5,
    "start_time": "2021-09-24T15:04:20.113Z"
   },
   {
    "duration": 3,
    "start_time": "2021-09-24T15:04:57.596Z"
   },
   {
    "duration": 5,
    "start_time": "2021-09-24T15:10:02.215Z"
   },
   {
    "duration": 6,
    "start_time": "2021-09-24T15:10:15.669Z"
   },
   {
    "duration": 5,
    "start_time": "2021-09-24T15:10:25.430Z"
   },
   {
    "duration": 6,
    "start_time": "2021-09-24T15:13:24.033Z"
   },
   {
    "duration": 7,
    "start_time": "2021-09-24T15:19:29.072Z"
   },
   {
    "duration": 6,
    "start_time": "2021-09-24T15:20:14.907Z"
   },
   {
    "duration": 5,
    "start_time": "2021-09-24T15:20:57.274Z"
   },
   {
    "duration": 5,
    "start_time": "2021-09-24T15:32:23.958Z"
   },
   {
    "duration": 6,
    "start_time": "2021-09-24T15:39:02.607Z"
   },
   {
    "duration": 5,
    "start_time": "2021-09-24T15:40:41.097Z"
   },
   {
    "duration": 5,
    "start_time": "2021-09-24T15:42:38.800Z"
   },
   {
    "duration": 5,
    "start_time": "2021-09-24T15:43:11.135Z"
   },
   {
    "duration": 410,
    "start_time": "2021-09-24T15:43:36.960Z"
   },
   {
    "duration": 6,
    "start_time": "2021-09-24T15:46:11.110Z"
   },
   {
    "duration": 411,
    "start_time": "2021-09-24T15:46:20.848Z"
   },
   {
    "duration": 6,
    "start_time": "2021-09-24T15:46:36.045Z"
   },
   {
    "duration": 7,
    "start_time": "2021-09-24T15:48:41.163Z"
   },
   {
    "duration": 348,
    "start_time": "2021-09-24T15:48:46.070Z"
   },
   {
    "duration": 361,
    "start_time": "2021-09-24T15:49:59.025Z"
   },
   {
    "duration": 439,
    "start_time": "2021-09-24T15:53:31.524Z"
   },
   {
    "duration": 447,
    "start_time": "2021-09-24T15:53:37.592Z"
   },
   {
    "duration": 426,
    "start_time": "2021-09-24T15:53:54.721Z"
   },
   {
    "duration": 407,
    "start_time": "2021-09-24T16:02:23.431Z"
   },
   {
    "duration": 1048,
    "start_time": "2021-09-24T16:02:36.094Z"
   },
   {
    "duration": 2536,
    "start_time": "2021-09-24T16:03:10.931Z"
   },
   {
    "duration": 783,
    "start_time": "2021-09-24T16:04:54.049Z"
   },
   {
    "duration": 1930,
    "start_time": "2021-09-24T16:05:09.289Z"
   },
   {
    "duration": 143,
    "start_time": "2021-09-24T16:05:11.607Z"
   },
   {
    "duration": 4,
    "start_time": "2021-09-24T16:05:14.011Z"
   },
   {
    "duration": 13,
    "start_time": "2021-09-24T16:05:15.929Z"
   },
   {
    "duration": 8,
    "start_time": "2021-09-24T16:05:18.153Z"
   },
   {
    "duration": 6,
    "start_time": "2021-09-24T16:05:19.190Z"
   },
   {
    "duration": 6,
    "start_time": "2021-09-24T16:05:20.066Z"
   },
   {
    "duration": 23,
    "start_time": "2021-09-24T16:05:21.488Z"
   },
   {
    "duration": 215,
    "start_time": "2021-09-24T16:05:22.453Z"
   },
   {
    "duration": 254,
    "start_time": "2021-09-24T16:05:24.828Z"
   },
   {
    "duration": 7773,
    "start_time": "2021-09-24T16:05:30.373Z"
   },
   {
    "duration": 3,
    "start_time": "2021-09-24T16:05:38.149Z"
   },
   {
    "duration": 7,
    "start_time": "2021-09-24T16:05:38.154Z"
   },
   {
    "duration": 11,
    "start_time": "2021-09-24T16:05:41.208Z"
   },
   {
    "duration": 12,
    "start_time": "2021-09-24T16:05:42.134Z"
   },
   {
    "duration": 28,
    "start_time": "2021-09-24T16:05:46.225Z"
   },
   {
    "duration": 28,
    "start_time": "2021-09-24T16:05:48.913Z"
   },
   {
    "duration": 17,
    "start_time": "2021-09-24T16:05:51.145Z"
   },
   {
    "duration": 15,
    "start_time": "2021-09-24T16:05:53.594Z"
   },
   {
    "duration": 490,
    "start_time": "2021-09-24T16:05:56.526Z"
   },
   {
    "duration": 520,
    "start_time": "2021-09-24T16:05:59.069Z"
   },
   {
    "duration": 200,
    "start_time": "2021-09-24T16:06:02.602Z"
   },
   {
    "duration": 196,
    "start_time": "2021-09-24T16:06:05.272Z"
   },
   {
    "duration": 114,
    "start_time": "2021-09-24T16:06:20.637Z"
   },
   {
    "duration": 4,
    "start_time": "2021-09-24T16:06:32.282Z"
   },
   {
    "duration": 12,
    "start_time": "2021-09-24T16:06:35.222Z"
   },
   {
    "duration": 4,
    "start_time": "2021-09-24T16:06:42.476Z"
   },
   {
    "duration": 3,
    "start_time": "2021-09-24T16:06:44.524Z"
   },
   {
    "duration": 10,
    "start_time": "2021-09-24T16:06:47.352Z"
   },
   {
    "duration": 473,
    "start_time": "2021-09-24T16:06:51.087Z"
   },
   {
    "duration": 39,
    "start_time": "2021-09-24T16:07:27.080Z"
   },
   {
    "duration": 4,
    "start_time": "2021-09-24T16:07:37.895Z"
   },
   {
    "duration": 8,
    "start_time": "2021-09-24T16:07:40.468Z"
   },
   {
    "duration": 761,
    "start_time": "2021-09-24T16:09:12.121Z"
   },
   {
    "duration": 5,
    "start_time": "2021-09-24T16:12:11.291Z"
   },
   {
    "duration": 3,
    "start_time": "2021-09-24T16:12:14.164Z"
   },
   {
    "duration": 11,
    "start_time": "2021-09-24T16:12:15.404Z"
   },
   {
    "duration": 4,
    "start_time": "2021-09-24T16:12:43.676Z"
   },
   {
    "duration": 5,
    "start_time": "2021-09-24T16:12:48.183Z"
   },
   {
    "duration": 5,
    "start_time": "2021-09-24T16:12:57.664Z"
   },
   {
    "duration": 5,
    "start_time": "2021-09-24T16:13:56.808Z"
   },
   {
    "duration": 5,
    "start_time": "2021-09-24T16:15:50.992Z"
   },
   {
    "duration": 7,
    "start_time": "2021-09-24T16:16:24.270Z"
   },
   {
    "duration": 5,
    "start_time": "2021-09-24T16:17:26.720Z"
   },
   {
    "duration": 5,
    "start_time": "2021-09-24T16:19:13.617Z"
   },
   {
    "duration": 6,
    "start_time": "2021-09-24T16:19:21.050Z"
   },
   {
    "duration": 5,
    "start_time": "2021-09-24T16:20:04.633Z"
   },
   {
    "duration": 5,
    "start_time": "2021-09-24T16:20:17.432Z"
   },
   {
    "duration": 653,
    "start_time": "2021-09-24T19:21:45.343Z"
   },
   {
    "duration": 5,
    "start_time": "2021-09-24T19:21:53.708Z"
   },
   {
    "duration": 6,
    "start_time": "2021-09-24T19:22:25.559Z"
   },
   {
    "duration": 5,
    "start_time": "2021-09-24T19:26:37.648Z"
   },
   {
    "duration": 9,
    "start_time": "2021-09-24T19:27:41.856Z"
   },
   {
    "duration": 10,
    "start_time": "2021-09-24T19:29:30.071Z"
   },
   {
    "duration": 3,
    "start_time": "2021-09-24T19:46:06.709Z"
   },
   {
    "duration": 9,
    "start_time": "2021-09-24T19:46:07.608Z"
   },
   {
    "duration": 574,
    "start_time": "2021-09-24T19:46:08.754Z"
   },
   {
    "duration": 526,
    "start_time": "2021-09-24T19:56:58.913Z"
   },
   {
    "duration": 1033,
    "start_time": "2021-09-24T19:57:24.561Z"
   },
   {
    "duration": 497,
    "start_time": "2021-09-24T19:57:42.319Z"
   },
   {
    "duration": 1732,
    "start_time": "2021-09-24T19:58:56.381Z"
   },
   {
    "duration": 158,
    "start_time": "2021-09-24T19:59:27.485Z"
   },
   {
    "duration": 5,
    "start_time": "2021-09-24T19:59:33.988Z"
   },
   {
    "duration": 13,
    "start_time": "2021-09-24T19:59:36.146Z"
   },
   {
    "duration": 7,
    "start_time": "2021-09-24T19:59:38.840Z"
   },
   {
    "duration": 5,
    "start_time": "2021-09-24T19:59:41.845Z"
   },
   {
    "duration": 6,
    "start_time": "2021-09-24T19:59:43.146Z"
   },
   {
    "duration": 22,
    "start_time": "2021-09-24T19:59:45.392Z"
   },
   {
    "duration": 213,
    "start_time": "2021-09-24T19:59:59.681Z"
   },
   {
    "duration": 253,
    "start_time": "2021-09-24T20:00:01.473Z"
   },
   {
    "duration": 8049,
    "start_time": "2021-09-24T20:04:50.311Z"
   },
   {
    "duration": 3,
    "start_time": "2021-09-24T20:04:58.361Z"
   },
   {
    "duration": 4,
    "start_time": "2021-09-24T20:04:58.379Z"
   },
   {
    "duration": 11,
    "start_time": "2021-09-24T20:05:01.845Z"
   },
   {
    "duration": 10,
    "start_time": "2021-09-24T20:05:03.597Z"
   },
   {
    "duration": 27,
    "start_time": "2021-09-24T20:05:40.998Z"
   },
   {
    "duration": 25,
    "start_time": "2021-09-24T20:05:43.664Z"
   },
   {
    "duration": 16,
    "start_time": "2021-09-24T20:05:46.416Z"
   },
   {
    "duration": 16,
    "start_time": "2021-09-24T20:06:44.057Z"
   },
   {
    "duration": 497,
    "start_time": "2021-09-24T20:09:02.581Z"
   },
   {
    "duration": 492,
    "start_time": "2021-09-24T20:09:04.938Z"
   },
   {
    "duration": 194,
    "start_time": "2021-09-24T20:15:59.111Z"
   },
   {
    "duration": 199,
    "start_time": "2021-09-24T20:16:02.301Z"
   },
   {
    "duration": 4,
    "start_time": "2021-09-24T20:16:18.949Z"
   },
   {
    "duration": 12,
    "start_time": "2021-09-24T20:16:21.887Z"
   },
   {
    "duration": 4,
    "start_time": "2021-09-24T20:18:57.044Z"
   },
   {
    "duration": 3,
    "start_time": "2021-09-24T20:18:59.554Z"
   },
   {
    "duration": 11,
    "start_time": "2021-09-24T20:19:14.541Z"
   },
   {
    "duration": 60,
    "start_time": "2021-09-24T20:19:17.195Z"
   },
   {
    "duration": 473,
    "start_time": "2021-09-24T20:19:25.091Z"
   },
   {
    "duration": 41,
    "start_time": "2021-09-24T20:19:34.652Z"
   },
   {
    "duration": 5,
    "start_time": "2021-09-24T20:19:59.932Z"
   },
   {
    "duration": 8,
    "start_time": "2021-09-24T20:20:01.028Z"
   },
   {
    "duration": 589,
    "start_time": "2021-09-24T20:20:04.645Z"
   },
   {
    "duration": 4,
    "start_time": "2021-09-24T20:21:45.534Z"
   },
   {
    "duration": 3,
    "start_time": "2021-09-24T20:21:49.873Z"
   },
   {
    "duration": 10,
    "start_time": "2021-09-24T20:21:52.250Z"
   },
   {
    "duration": 4,
    "start_time": "2021-09-24T20:22:49.196Z"
   },
   {
    "duration": 5,
    "start_time": "2021-09-24T20:22:50.312Z"
   },
   {
    "duration": 5,
    "start_time": "2021-09-24T20:22:55.227Z"
   },
   {
    "duration": 4,
    "start_time": "2021-09-24T20:25:25.065Z"
   },
   {
    "duration": 6,
    "start_time": "2021-09-24T20:25:44.298Z"
   },
   {
    "duration": 5,
    "start_time": "2021-09-24T20:26:02.585Z"
   },
   {
    "duration": 4,
    "start_time": "2021-09-24T20:26:33.554Z"
   },
   {
    "duration": 5,
    "start_time": "2021-09-24T20:26:40.439Z"
   },
   {
    "duration": 5,
    "start_time": "2021-09-24T20:26:43.642Z"
   },
   {
    "duration": 9,
    "start_time": "2021-09-24T20:26:47.146Z"
   },
   {
    "duration": 9,
    "start_time": "2021-09-24T20:26:55.508Z"
   }
  ],
  "kernelspec": {
   "display_name": "Python 3 (ipykernel)",
   "language": "python",
   "name": "python3"
  },
  "language_info": {
   "codemirror_mode": {
    "name": "ipython",
    "version": 3
   },
   "file_extension": ".py",
   "mimetype": "text/x-python",
   "name": "python",
   "nbconvert_exporter": "python",
   "pygments_lexer": "ipython3",
   "version": "3.9.7"
  },
  "toc": {
   "base_numbering": 1,
   "nav_menu": {},
   "number_sections": true,
   "sideBar": true,
   "skip_h1_title": true,
   "title_cell": "Table of Contents",
   "title_sidebar": "Contents",
   "toc_cell": false,
   "toc_position": {},
   "toc_section_display": true,
   "toc_window_display": false
  }
 },
 "nbformat": 4,
 "nbformat_minor": 4
}
