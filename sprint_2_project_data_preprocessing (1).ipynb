{
 "cells": [
  {
   "cell_type": "markdown",
   "metadata": {},
   "source": [
    "<hr style=\"border: 2px solid green;\" />\n",
    "\n",
    "Hello, Valentina!🤚 \n",
    "\n",
    "My name is Kseniya Vishnevskaya. I'm going to review your project 😊 \n",
    "\n",
    "✏️You can find my comments in <font color='green'>green</font>, <font color='orange'>yellow</font> or <font color='red'>red</font> boxes like this:\n",
    "\n",
    "<div style=\"border:solid green 2px; padding: 20px\"> <b>Success:</b><br>\n",
    "    I'm using green color if everything is done perfectly.</div>       \n",
    "<br>\n",
    "<div style=\"border:solid orange 2px; padding: 20px\"> <b>Remarks:</b><br>\n",
    "    if I can give some recommendations</div>   \n",
    "<br>\n",
    "<div style=\"border:solid red 2px; padding: 20px\"> <b>Needs fixing:</b><br>\n",
    "    if the block requires some corrections. Work can't be accepted with the red comments</div>\n",
    " \n",
    "Further in the file you can see my comments, try to take them into account when performing the next tasks. **Please, don't delete them.** :)\n",
    "\n",
    "Let's work on the project in dialogue: if you change something in the project or respond to my comments, write about it. It will be easier for me to track the changes if you highlight your comments:\n",
    "\n",
    "<div class=\"alert alert-info\" style=\"border:solid blue 2px; padding: 20px\"> <b>Student comment:</b> In the blue boxes you can leave comments and ask questions.</div>\n",
    "\n",
    "\n",
    "<hr style=\"border: 2px solid green;\" />"
   ]
  },
  {
   "cell_type": "markdown",
   "metadata": {},
   "source": [
    "### <font color='orange'>General feedback</font>"
   ]
  },
  {
   "cell_type": "markdown",
   "metadata": {},
   "source": [
    "<div style=\"border:solid orange 2px; padding: 20px\"> <b>Remarks:</b><br>\n",
    "    There are some comments for further improvement. They don't mean that you did anything wrong, but they're things we wanted to point out that can help you further develop your skills. \n",
    "\n",
    "And also I leave several links that can help you to make your further projects even better:\n",
    "\n",
    "* Text formatting:\n",
    "<a>https://medium.com/analytics-vidhya/the-ultimate-markdown-guide-for-jupyter-notebook-d5e5abf728fd</a>\n",
    "\n",
    "*  How to deal with missing data:\n",
    "<a>https://towardsdatascience.com/how-to-deal-with-missing-data-in-python-1f74a9112d93</a>\n",
    "\n",
    "*  How to edit text in jupyter notebook using Markdown:\n",
    "<a>https://www.earthdatascience.org/courses/intro-to-earth-data-science/file-formats/use-text-files/format-text-with-markdown-jupyter-notebook/</a> \n",
    "    \n",
    "   \n",
    "</div>"
   ]
  },
  {
   "cell_type": "markdown",
   "metadata": {},
   "source": [
    "<div style=\"border:solid green 2px; padding: 20px\"> <b>Success :</b><br>\n",
    "Thank you for the Great job, your project has been accepted. Congratulations! 🎊 🎉</div>"
   ]
  },
  {
   "cell_type": "markdown",
   "metadata": {},
   "source": [
    "# Analyzing borrowers’ risk of defaulting\n",
    "\n",
    "Your project is to prepare a report for a bank’s loan division. You’ll need to find out if a customer’s marital status and number of children has an impact on whether they will default on a loan. The bank already has some data on customers’ credit worthiness.\n",
    "\n",
    "Your report will be considered when building a **credit scoring** of a potential customer. A ** credit scoring ** is used to evaluate the ability of a potential borrower to repay their loan."
   ]
  },
  {
   "cell_type": "markdown",
   "metadata": {},
   "source": [
    "### Overview of data being used for analysis\n",
    "\n",
    "The dataset is a collection of infomation from 21525 individuals who have accessed loans from the bank over time.\n",
    "In this project, the analysis of the data is in an attempt to answer four main questions:\n",
    "1. Whether there is a connection between the number of children one has and repaying of loan on time?\n",
    "2. Whether there is a connection between a persons marital status and repaying of loan on time?\n",
    "3. Whether there is a connection between a persons income level and repaying of laon on time?\n",
    "4. How the different loan purposes affect on-time loan repayment?\n"
   ]
  },
  {
   "cell_type": "markdown",
   "metadata": {},
   "source": [
    "<div style=\"border:solid orange 2px; padding: 20px\"> <b>Remarks:</b><br>\n",
    "\n",
    "Well done for not forgetting the title and description of the project task :). But it is also important to include a description of the data to be worked with.\n",
    "    </div> "
   ]
  },
  {
   "cell_type": "markdown",
   "metadata": {},
   "source": [
    "## Open the data file and have a look at the general information. "
   ]
  },
  {
   "cell_type": "code",
   "execution_count": 1,
   "metadata": {},
   "outputs": [],
   "source": [
    "import pandas as pd"
   ]
  },
  {
   "cell_type": "code",
   "execution_count": 2,
   "metadata": {},
   "outputs": [
    {
     "data": {
      "text/html": [
       "<div>\n",
       "<style scoped>\n",
       "    .dataframe tbody tr th:only-of-type {\n",
       "        vertical-align: middle;\n",
       "    }\n",
       "\n",
       "    .dataframe tbody tr th {\n",
       "        vertical-align: top;\n",
       "    }\n",
       "\n",
       "    .dataframe thead th {\n",
       "        text-align: right;\n",
       "    }\n",
       "</style>\n",
       "<table border=\"1\" class=\"dataframe\">\n",
       "  <thead>\n",
       "    <tr style=\"text-align: right;\">\n",
       "      <th></th>\n",
       "      <th>children</th>\n",
       "      <th>days_employed</th>\n",
       "      <th>dob_years</th>\n",
       "      <th>education</th>\n",
       "      <th>education_id</th>\n",
       "      <th>family_status</th>\n",
       "      <th>family_status_id</th>\n",
       "      <th>gender</th>\n",
       "      <th>income_type</th>\n",
       "      <th>debt</th>\n",
       "      <th>total_income</th>\n",
       "      <th>purpose</th>\n",
       "    </tr>\n",
       "  </thead>\n",
       "  <tbody>\n",
       "    <tr>\n",
       "      <td>0</td>\n",
       "      <td>1</td>\n",
       "      <td>-8437.673028</td>\n",
       "      <td>42</td>\n",
       "      <td>bachelor's degree</td>\n",
       "      <td>0</td>\n",
       "      <td>married</td>\n",
       "      <td>0</td>\n",
       "      <td>F</td>\n",
       "      <td>employee</td>\n",
       "      <td>0</td>\n",
       "      <td>40620.102</td>\n",
       "      <td>purchase of the house</td>\n",
       "    </tr>\n",
       "    <tr>\n",
       "      <td>1</td>\n",
       "      <td>1</td>\n",
       "      <td>-4024.803754</td>\n",
       "      <td>36</td>\n",
       "      <td>secondary education</td>\n",
       "      <td>1</td>\n",
       "      <td>married</td>\n",
       "      <td>0</td>\n",
       "      <td>F</td>\n",
       "      <td>employee</td>\n",
       "      <td>0</td>\n",
       "      <td>17932.802</td>\n",
       "      <td>car purchase</td>\n",
       "    </tr>\n",
       "    <tr>\n",
       "      <td>2</td>\n",
       "      <td>0</td>\n",
       "      <td>-5623.422610</td>\n",
       "      <td>33</td>\n",
       "      <td>Secondary Education</td>\n",
       "      <td>1</td>\n",
       "      <td>married</td>\n",
       "      <td>0</td>\n",
       "      <td>M</td>\n",
       "      <td>employee</td>\n",
       "      <td>0</td>\n",
       "      <td>23341.752</td>\n",
       "      <td>purchase of the house</td>\n",
       "    </tr>\n",
       "    <tr>\n",
       "      <td>3</td>\n",
       "      <td>3</td>\n",
       "      <td>-4124.747207</td>\n",
       "      <td>32</td>\n",
       "      <td>secondary education</td>\n",
       "      <td>1</td>\n",
       "      <td>married</td>\n",
       "      <td>0</td>\n",
       "      <td>M</td>\n",
       "      <td>employee</td>\n",
       "      <td>0</td>\n",
       "      <td>42820.568</td>\n",
       "      <td>supplementary education</td>\n",
       "    </tr>\n",
       "    <tr>\n",
       "      <td>4</td>\n",
       "      <td>0</td>\n",
       "      <td>340266.072047</td>\n",
       "      <td>53</td>\n",
       "      <td>secondary education</td>\n",
       "      <td>1</td>\n",
       "      <td>civil partnership</td>\n",
       "      <td>1</td>\n",
       "      <td>F</td>\n",
       "      <td>retiree</td>\n",
       "      <td>0</td>\n",
       "      <td>25378.572</td>\n",
       "      <td>to have a wedding</td>\n",
       "    </tr>\n",
       "  </tbody>\n",
       "</table>\n",
       "</div>"
      ],
      "text/plain": [
       "   children  days_employed  dob_years            education  education_id  \\\n",
       "0         1   -8437.673028         42    bachelor's degree             0   \n",
       "1         1   -4024.803754         36  secondary education             1   \n",
       "2         0   -5623.422610         33  Secondary Education             1   \n",
       "3         3   -4124.747207         32  secondary education             1   \n",
       "4         0  340266.072047         53  secondary education             1   \n",
       "\n",
       "       family_status  family_status_id gender income_type  debt  total_income  \\\n",
       "0            married                 0      F    employee     0     40620.102   \n",
       "1            married                 0      F    employee     0     17932.802   \n",
       "2            married                 0      M    employee     0     23341.752   \n",
       "3            married                 0      M    employee     0     42820.568   \n",
       "4  civil partnership                 1      F     retiree     0     25378.572   \n",
       "\n",
       "                   purpose  \n",
       "0    purchase of the house  \n",
       "1             car purchase  \n",
       "2    purchase of the house  \n",
       "3  supplementary education  \n",
       "4        to have a wedding  "
      ]
     },
     "execution_count": 2,
     "metadata": {},
     "output_type": "execute_result"
    }
   ],
   "source": [
    "try:\n",
    "    credit_score = pd.read_csv('/Users/eseyram/Downloads/credit_scoring_eng.csv')\n",
    "except:\n",
    "    credit_score = pd.read_csv('/datasets/credit_scoring_eng.csv') \n",
    "credit_score.head()"
   ]
  },
  {
   "cell_type": "markdown",
   "metadata": {},
   "source": [
    "\n",
    "<div style=\"border:solid green 2px; padding: 20px\"> <b>Success:</b><br>\n",
    "    Nice! 👍</div>       "
   ]
  },
  {
   "cell_type": "code",
   "execution_count": 3,
   "metadata": {},
   "outputs": [
    {
     "name": "stdout",
     "output_type": "stream",
     "text": [
      "<class 'pandas.core.frame.DataFrame'>\n",
      "RangeIndex: 21525 entries, 0 to 21524\n",
      "Data columns (total 12 columns):\n",
      "children            21525 non-null int64\n",
      "days_employed       19351 non-null float64\n",
      "dob_years           21525 non-null int64\n",
      "education           21525 non-null object\n",
      "education_id        21525 non-null int64\n",
      "family_status       21525 non-null object\n",
      "family_status_id    21525 non-null int64\n",
      "gender              21525 non-null object\n",
      "income_type         21525 non-null object\n",
      "debt                21525 non-null int64\n",
      "total_income        19351 non-null float64\n",
      "purpose             21525 non-null object\n",
      "dtypes: float64(2), int64(5), object(5)\n",
      "memory usage: 2.0+ MB\n"
     ]
    }
   ],
   "source": [
    "credit_score.info()"
   ]
  },
  {
   "cell_type": "markdown",
   "metadata": {},
   "source": [
    "### Conclusion\n",
    "\n",
    "There are two columns of float/real number values(ie days_employed and total_income) with education, family_status and purpose being strings. Children, dob_years, education_id, family_status_id and debt on the other hand are string values.\n",
    "There are 21525 rows for most of the columns except for days_employed and total_income with 19351 rows in total."
   ]
  },
  {
   "cell_type": "markdown",
   "metadata": {},
   "source": [
    "<div style=\"border:solid green 2px; padding: 20px\"> <b>Success:</b><br>\n",
    "    Great, we looked at and described the general information about the data  🙂</div>       "
   ]
  },
  {
   "cell_type": "markdown",
   "metadata": {},
   "source": []
  },
  {
   "cell_type": "markdown",
   "metadata": {},
   "source": [
    "## Data preprocessing"
   ]
  },
  {
   "cell_type": "markdown",
   "metadata": {},
   "source": [
    "### Processing missing values"
   ]
  },
  {
   "cell_type": "code",
   "execution_count": 4,
   "metadata": {},
   "outputs": [
    {
     "data": {
      "text/plain": [
       "children               0\n",
       "days_employed       2174\n",
       "dob_years              0\n",
       "education              0\n",
       "education_id           0\n",
       "family_status          0\n",
       "family_status_id       0\n",
       "gender                 0\n",
       "income_type            0\n",
       "debt                   0\n",
       "total_income        2174\n",
       "purpose                0\n",
       "dtype: int64"
      ]
     },
     "execution_count": 4,
     "metadata": {},
     "output_type": "execute_result"
    }
   ],
   "source": [
    "credit_score.isnull().sum()"
   ]
  },
  {
   "cell_type": "markdown",
   "metadata": {},
   "source": [
    "Determining the sum of null values in the dataset"
   ]
  },
  {
   "cell_type": "code",
   "execution_count": 5,
   "metadata": {},
   "outputs": [
    {
     "data": {
      "text/plain": [
       "Series([], Name: total_income, dtype: int64)"
      ]
     },
     "execution_count": 5,
     "metadata": {},
     "output_type": "execute_result"
    }
   ],
   "source": [
    "credit_score[credit_score['days_employed'].isnull()]['total_income'].value_counts()"
   ]
  },
  {
   "cell_type": "code",
   "execution_count": 6,
   "metadata": {},
   "outputs": [
    {
     "data": {
      "text/plain": [
       "True"
      ]
     },
     "execution_count": 6,
     "metadata": {},
     "output_type": "execute_result"
    }
   ],
   "source": [
    "credit_score['days_employed'].isnull().equals(credit_score['total_income'].isnull())"
   ]
  },
  {
   "cell_type": "markdown",
   "metadata": {},
   "source": [
    "With the two codes above, I want to ascertain if the persons with null values in days_employed are the same for those with null values in the total_income column."
   ]
  },
  {
   "cell_type": "markdown",
   "metadata": {},
   "source": [
    "<div style=\"border:solid green 2px; padding: 20px\"> <b>Success:</b><br>\n",
    "    It's great that you checked the missing values :)</div>       "
   ]
  },
  {
   "cell_type": "code",
   "execution_count": 7,
   "metadata": {},
   "outputs": [],
   "source": [
    "credit_score['total_income'] = credit_score['total_income'].fillna(credit_score.groupby(['education_id', 'income_type'])['total_income'].transform('median')) "
   ]
  },
  {
   "cell_type": "markdown",
   "metadata": {},
   "source": [
    "The null values in the total_income column is being filled with the median of the column."
   ]
  },
  {
   "cell_type": "code",
   "execution_count": 8,
   "metadata": {},
   "outputs": [],
   "source": [
    "credit_score['days_employed']=credit_score['days_employed'].abs()"
   ]
  },
  {
   "cell_type": "code",
   "execution_count": 9,
   "metadata": {},
   "outputs": [],
   "source": [
    "credit_score['days_employed'] = credit_score.fillna(credit_score['days_employed'].median()) "
   ]
  },
  {
   "cell_type": "code",
   "execution_count": 10,
   "metadata": {},
   "outputs": [
    {
     "data": {
      "text/plain": [
       "children            0\n",
       "days_employed       0\n",
       "dob_years           0\n",
       "education           0\n",
       "education_id        0\n",
       "family_status       0\n",
       "family_status_id    0\n",
       "gender              0\n",
       "income_type         0\n",
       "debt                0\n",
       "total_income        0\n",
       "purpose             0\n",
       "dtype: int64"
      ]
     },
     "execution_count": 10,
     "metadata": {},
     "output_type": "execute_result"
    }
   ],
   "source": [
    "credit_score.isnull().sum()"
   ]
  },
  {
   "cell_type": "markdown",
   "metadata": {},
   "source": [
    "First, the total_income null values column were filled with the median of the column.\n",
    "Secondly, By taking the absolute value of the column, all negative values were changed to positive values to enable accurate computaion of the median values for the null entries. \n",
    "Finally, the null values in the days_employed were then filled with the median of the column."
   ]
  },
  {
   "cell_type": "markdown",
   "metadata": {},
   "source": [
    "\n",
    "<div style=\"border:solid green 2px; padding: 20px\"> <b>Success:</b><br>\n",
    "    Thanks a lot for your corrections. Now the preprocessing of the data looks great 🙂</div>       "
   ]
  },
  {
   "cell_type": "markdown",
   "metadata": {},
   "source": [
    "### Conclusion\n",
    "\n",
    "The number of persons with null values in days_employed and total_income are the same. These have been filled with the median of each column including that of days_employed. "
   ]
  },
  {
   "cell_type": "markdown",
   "metadata": {},
   "source": [
    "<div style=\"border:solid green 2px; padding: 20px\"> <b>Success:</b><br>\n",
    "    Thanks a lot for writing conclusions in each unit 👍</div>       "
   ]
  },
  {
   "cell_type": "markdown",
   "metadata": {},
   "source": [
    "### Data type replacement"
   ]
  },
  {
   "cell_type": "code",
   "execution_count": 11,
   "metadata": {},
   "outputs": [],
   "source": [
    "credit_score[['days_employed','total_income']] = credit_score[['days_employed','total_income']].astype('int32')"
   ]
  },
  {
   "cell_type": "code",
   "execution_count": 12,
   "metadata": {},
   "outputs": [],
   "source": [
    "credit_score[['children','dob_years','education_id','family_status_id','debt']]=credit_score[['children','dob_years','education_id','family_status_id','debt']].astype('int32')"
   ]
  },
  {
   "cell_type": "code",
   "execution_count": 13,
   "metadata": {},
   "outputs": [
    {
     "name": "stdout",
     "output_type": "stream",
     "text": [
      "<class 'pandas.core.frame.DataFrame'>\n",
      "RangeIndex: 21525 entries, 0 to 21524\n",
      "Data columns (total 12 columns):\n",
      "children            21525 non-null int32\n",
      "days_employed       21525 non-null int32\n",
      "dob_years           21525 non-null int32\n",
      "education           21525 non-null object\n",
      "education_id        21525 non-null int32\n",
      "family_status       21525 non-null object\n",
      "family_status_id    21525 non-null int32\n",
      "gender              21525 non-null object\n",
      "income_type         21525 non-null object\n",
      "debt                21525 non-null int32\n",
      "total_income        21525 non-null int32\n",
      "purpose             21525 non-null object\n",
      "dtypes: int32(7), object(5)\n",
      "memory usage: 1.4+ MB\n"
     ]
    }
   ],
   "source": [
    "credit_score.info()"
   ]
  },
  {
   "cell_type": "markdown",
   "metadata": {},
   "source": [
    "<div style=\"border:solid green 2px; padding: 20px\"> <b>Success:</b><br>\n",
    "    Yes, agree :)</div>       "
   ]
  },
  {
   "cell_type": "markdown",
   "metadata": {},
   "source": [
    "### Conclusion\n",
    "\n",
    "The real number types for days_employed and total_income have been changed to integers inorder to cut off all decimal values. All the int columns were also downcasted to int32 from int64 in order to optimize memory usage."
   ]
  },
  {
   "cell_type": "markdown",
   "metadata": {},
   "source": [
    "<div style=\"border:solid orange 2px; padding: 20px\"> <b>Remarks:</b><br>\n",
    "    Please visit this link, there is some information on how to optimise data types and downsize them to make your project even better: \n",
    "    <a>https://vincentteyssier.medium.com/optimizing-the-size-of-a-pandas-dataframe-for-low-memory-environment-5f07db3d72e</a>\n",
    "</div> "
   ]
  },
  {
   "cell_type": "markdown",
   "metadata": {},
   "source": [
    "### Processing duplicates"
   ]
  },
  {
   "cell_type": "code",
   "execution_count": 14,
   "metadata": {},
   "outputs": [],
   "source": [
    "credit_score['education'] = credit_score['education'].str.lower()"
   ]
  },
  {
   "cell_type": "code",
   "execution_count": 15,
   "metadata": {
    "scrolled": true
   },
   "outputs": [
    {
     "data": {
      "text/html": [
       "<div>\n",
       "<style scoped>\n",
       "    .dataframe tbody tr th:only-of-type {\n",
       "        vertical-align: middle;\n",
       "    }\n",
       "\n",
       "    .dataframe tbody tr th {\n",
       "        vertical-align: top;\n",
       "    }\n",
       "\n",
       "    .dataframe thead th {\n",
       "        text-align: right;\n",
       "    }\n",
       "</style>\n",
       "<table border=\"1\" class=\"dataframe\">\n",
       "  <thead>\n",
       "    <tr style=\"text-align: right;\">\n",
       "      <th></th>\n",
       "      <th>children</th>\n",
       "      <th>days_employed</th>\n",
       "      <th>dob_years</th>\n",
       "      <th>education</th>\n",
       "      <th>education_id</th>\n",
       "      <th>family_status</th>\n",
       "      <th>family_status_id</th>\n",
       "      <th>gender</th>\n",
       "      <th>income_type</th>\n",
       "      <th>debt</th>\n",
       "      <th>total_income</th>\n",
       "      <th>purpose</th>\n",
       "    </tr>\n",
       "  </thead>\n",
       "  <tbody>\n",
       "    <tr>\n",
       "      <td>2849</td>\n",
       "      <td>0</td>\n",
       "      <td>0</td>\n",
       "      <td>41</td>\n",
       "      <td>secondary education</td>\n",
       "      <td>1</td>\n",
       "      <td>married</td>\n",
       "      <td>0</td>\n",
       "      <td>F</td>\n",
       "      <td>employee</td>\n",
       "      <td>0</td>\n",
       "      <td>21848</td>\n",
       "      <td>purchase of the house for my family</td>\n",
       "    </tr>\n",
       "    <tr>\n",
       "      <td>3290</td>\n",
       "      <td>0</td>\n",
       "      <td>0</td>\n",
       "      <td>58</td>\n",
       "      <td>secondary education</td>\n",
       "      <td>1</td>\n",
       "      <td>civil partnership</td>\n",
       "      <td>1</td>\n",
       "      <td>F</td>\n",
       "      <td>retiree</td>\n",
       "      <td>0</td>\n",
       "      <td>18374</td>\n",
       "      <td>to have a wedding</td>\n",
       "    </tr>\n",
       "    <tr>\n",
       "      <td>4182</td>\n",
       "      <td>1</td>\n",
       "      <td>1</td>\n",
       "      <td>34</td>\n",
       "      <td>bachelor's degree</td>\n",
       "      <td>0</td>\n",
       "      <td>civil partnership</td>\n",
       "      <td>1</td>\n",
       "      <td>F</td>\n",
       "      <td>employee</td>\n",
       "      <td>0</td>\n",
       "      <td>26502</td>\n",
       "      <td>wedding ceremony</td>\n",
       "    </tr>\n",
       "    <tr>\n",
       "      <td>4851</td>\n",
       "      <td>0</td>\n",
       "      <td>0</td>\n",
       "      <td>60</td>\n",
       "      <td>secondary education</td>\n",
       "      <td>1</td>\n",
       "      <td>civil partnership</td>\n",
       "      <td>1</td>\n",
       "      <td>F</td>\n",
       "      <td>retiree</td>\n",
       "      <td>0</td>\n",
       "      <td>18374</td>\n",
       "      <td>wedding ceremony</td>\n",
       "    </tr>\n",
       "    <tr>\n",
       "      <td>5557</td>\n",
       "      <td>0</td>\n",
       "      <td>0</td>\n",
       "      <td>58</td>\n",
       "      <td>secondary education</td>\n",
       "      <td>1</td>\n",
       "      <td>civil partnership</td>\n",
       "      <td>1</td>\n",
       "      <td>F</td>\n",
       "      <td>retiree</td>\n",
       "      <td>0</td>\n",
       "      <td>18374</td>\n",
       "      <td>to have a wedding</td>\n",
       "    </tr>\n",
       "    <tr>\n",
       "      <td>...</td>\n",
       "      <td>...</td>\n",
       "      <td>...</td>\n",
       "      <td>...</td>\n",
       "      <td>...</td>\n",
       "      <td>...</td>\n",
       "      <td>...</td>\n",
       "      <td>...</td>\n",
       "      <td>...</td>\n",
       "      <td>...</td>\n",
       "      <td>...</td>\n",
       "      <td>...</td>\n",
       "      <td>...</td>\n",
       "    </tr>\n",
       "    <tr>\n",
       "      <td>20702</td>\n",
       "      <td>0</td>\n",
       "      <td>0</td>\n",
       "      <td>64</td>\n",
       "      <td>secondary education</td>\n",
       "      <td>1</td>\n",
       "      <td>married</td>\n",
       "      <td>0</td>\n",
       "      <td>F</td>\n",
       "      <td>retiree</td>\n",
       "      <td>0</td>\n",
       "      <td>18374</td>\n",
       "      <td>supplementary education</td>\n",
       "    </tr>\n",
       "    <tr>\n",
       "      <td>21032</td>\n",
       "      <td>0</td>\n",
       "      <td>0</td>\n",
       "      <td>60</td>\n",
       "      <td>secondary education</td>\n",
       "      <td>1</td>\n",
       "      <td>married</td>\n",
       "      <td>0</td>\n",
       "      <td>F</td>\n",
       "      <td>retiree</td>\n",
       "      <td>0</td>\n",
       "      <td>18374</td>\n",
       "      <td>to become educated</td>\n",
       "    </tr>\n",
       "    <tr>\n",
       "      <td>21132</td>\n",
       "      <td>0</td>\n",
       "      <td>0</td>\n",
       "      <td>47</td>\n",
       "      <td>secondary education</td>\n",
       "      <td>1</td>\n",
       "      <td>married</td>\n",
       "      <td>0</td>\n",
       "      <td>F</td>\n",
       "      <td>employee</td>\n",
       "      <td>0</td>\n",
       "      <td>21848</td>\n",
       "      <td>housing renovation</td>\n",
       "    </tr>\n",
       "    <tr>\n",
       "      <td>21281</td>\n",
       "      <td>1</td>\n",
       "      <td>1</td>\n",
       "      <td>30</td>\n",
       "      <td>bachelor's degree</td>\n",
       "      <td>0</td>\n",
       "      <td>married</td>\n",
       "      <td>0</td>\n",
       "      <td>F</td>\n",
       "      <td>employee</td>\n",
       "      <td>0</td>\n",
       "      <td>26502</td>\n",
       "      <td>buy commercial real estate</td>\n",
       "    </tr>\n",
       "    <tr>\n",
       "      <td>21415</td>\n",
       "      <td>0</td>\n",
       "      <td>0</td>\n",
       "      <td>54</td>\n",
       "      <td>secondary education</td>\n",
       "      <td>1</td>\n",
       "      <td>married</td>\n",
       "      <td>0</td>\n",
       "      <td>F</td>\n",
       "      <td>retiree</td>\n",
       "      <td>0</td>\n",
       "      <td>18374</td>\n",
       "      <td>housing transactions</td>\n",
       "    </tr>\n",
       "  </tbody>\n",
       "</table>\n",
       "<p>71 rows × 12 columns</p>\n",
       "</div>"
      ],
      "text/plain": [
       "       children  days_employed  dob_years            education  education_id  \\\n",
       "2849          0              0         41  secondary education             1   \n",
       "3290          0              0         58  secondary education             1   \n",
       "4182          1              1         34    bachelor's degree             0   \n",
       "4851          0              0         60  secondary education             1   \n",
       "5557          0              0         58  secondary education             1   \n",
       "...         ...            ...        ...                  ...           ...   \n",
       "20702         0              0         64  secondary education             1   \n",
       "21032         0              0         60  secondary education             1   \n",
       "21132         0              0         47  secondary education             1   \n",
       "21281         1              1         30    bachelor's degree             0   \n",
       "21415         0              0         54  secondary education             1   \n",
       "\n",
       "           family_status  family_status_id gender income_type  debt  \\\n",
       "2849             married                 0      F    employee     0   \n",
       "3290   civil partnership                 1      F     retiree     0   \n",
       "4182   civil partnership                 1      F    employee     0   \n",
       "4851   civil partnership                 1      F     retiree     0   \n",
       "5557   civil partnership                 1      F     retiree     0   \n",
       "...                  ...               ...    ...         ...   ...   \n",
       "20702            married                 0      F     retiree     0   \n",
       "21032            married                 0      F     retiree     0   \n",
       "21132            married                 0      F    employee     0   \n",
       "21281            married                 0      F    employee     0   \n",
       "21415            married                 0      F     retiree     0   \n",
       "\n",
       "       total_income                              purpose  \n",
       "2849          21848  purchase of the house for my family  \n",
       "3290          18374                    to have a wedding  \n",
       "4182          26502                     wedding ceremony  \n",
       "4851          18374                     wedding ceremony  \n",
       "5557          18374                    to have a wedding  \n",
       "...             ...                                  ...  \n",
       "20702         18374              supplementary education  \n",
       "21032         18374                   to become educated  \n",
       "21132         21848                   housing renovation  \n",
       "21281         26502           buy commercial real estate  \n",
       "21415         18374                 housing transactions  \n",
       "\n",
       "[71 rows x 12 columns]"
      ]
     },
     "execution_count": 15,
     "metadata": {},
     "output_type": "execute_result"
    }
   ],
   "source": [
    "credit_score[credit_score.duplicated()]"
   ]
  },
  {
   "cell_type": "markdown",
   "metadata": {},
   "source": [
    "<div style=\"border:solid green 2px; padding: 20px\"> <b>Success:</b><br>\n",
    "    Very well that you converted the columns to lower case using <code>str.lower()</code></div>  "
   ]
  },
  {
   "cell_type": "code",
   "execution_count": 16,
   "metadata": {},
   "outputs": [
    {
     "data": {
      "text/plain": [
       "0.32984901277584205"
      ]
     },
     "execution_count": 16,
     "metadata": {},
     "output_type": "execute_result"
    }
   ],
   "source": [
    "credit_score.duplicated().sum() / len(credit_score) *100    "
   ]
  },
  {
   "cell_type": "markdown",
   "metadata": {},
   "source": [
    "This represent the percentage of duplicated dataset."
   ]
  },
  {
   "cell_type": "code",
   "execution_count": 17,
   "metadata": {},
   "outputs": [],
   "source": [
    "credit_score = credit_score.drop_duplicates().reset_index(drop=True)"
   ]
  },
  {
   "cell_type": "markdown",
   "metadata": {},
   "source": [
    "### Conclusion\n",
    "\n",
    "In other to properly identify duplicated values, entries in the education column has been converted to small letters.\n",
    "71 rows of duplicated datasets have been identified representing ~0.63% of the dataset.\n",
    "\n",
    "These than have been droped and the index reset using the reset_index(). This duplicated entries might have resulted from double completion of info by the individuals or from the data engineers during the data aggregation period. "
   ]
  },
  {
   "cell_type": "markdown",
   "metadata": {},
   "source": [
    "<div style=\"border:solid green 2px; padding: 20px\"> <b>Success:</b><br>\n",
    "    Well done for finding unusual values in the children column and replacing them with more logical ones 👍</div>       "
   ]
  },
  {
   "cell_type": "markdown",
   "metadata": {},
   "source": [
    "### Categorizing Data"
   ]
  },
  {
   "cell_type": "code",
   "execution_count": 18,
   "metadata": {},
   "outputs": [
    {
     "data": {
      "text/plain": [
       "-1        47\n",
       " 0     14091\n",
       " 1      4808\n",
       " 2      2052\n",
       " 3       330\n",
       " 4        41\n",
       " 5         9\n",
       " 20       76\n",
       "Name: children, dtype: int64"
      ]
     },
     "execution_count": 18,
     "metadata": {},
     "output_type": "execute_result"
    }
   ],
   "source": [
    "credit_score['children'].value_counts().sort_index()"
   ]
  },
  {
   "cell_type": "code",
   "execution_count": 19,
   "metadata": {},
   "outputs": [
    {
     "data": {
      "text/plain": [
       "0.573319660669339"
      ]
     },
     "execution_count": 19,
     "metadata": {},
     "output_type": "execute_result"
    }
   ],
   "source": [
    "len(credit_score[(credit_score['children'] == -1) | (credit_score['children'] == 20)]) / len(credit_score) * 100 "
   ]
  },
  {
   "cell_type": "markdown",
   "metadata": {},
   "source": [
    "There are two issues with the range of values for the children column. 0.57% of the children column shows record of -1 child and 20 children. These could be as a result of entry error or some other reason. In order to clear this issue, the absolute value of the column was taken thereby changing the -1 to a positive value and those with 20 children were also reduced to 2."
   ]
  },
  {
   "cell_type": "code",
   "execution_count": 20,
   "metadata": {
    "scrolled": true
   },
   "outputs": [
    {
     "data": {
      "text/html": [
       "<div>\n",
       "<style scoped>\n",
       "    .dataframe tbody tr th:only-of-type {\n",
       "        vertical-align: middle;\n",
       "    }\n",
       "\n",
       "    .dataframe tbody tr th {\n",
       "        vertical-align: top;\n",
       "    }\n",
       "\n",
       "    .dataframe thead th {\n",
       "        text-align: right;\n",
       "    }\n",
       "</style>\n",
       "<table border=\"1\" class=\"dataframe\">\n",
       "  <thead>\n",
       "    <tr style=\"text-align: right;\">\n",
       "      <th></th>\n",
       "      <th>children</th>\n",
       "      <th>days_employed</th>\n",
       "      <th>dob_years</th>\n",
       "      <th>education</th>\n",
       "      <th>education_id</th>\n",
       "      <th>family_status</th>\n",
       "      <th>family_status_id</th>\n",
       "      <th>gender</th>\n",
       "      <th>income_type</th>\n",
       "      <th>debt</th>\n",
       "      <th>total_income</th>\n",
       "      <th>purpose</th>\n",
       "    </tr>\n",
       "  </thead>\n",
       "  <tbody>\n",
       "    <tr>\n",
       "      <td>606</td>\n",
       "      <td>20</td>\n",
       "      <td>20</td>\n",
       "      <td>21</td>\n",
       "      <td>secondary education</td>\n",
       "      <td>1</td>\n",
       "      <td>married</td>\n",
       "      <td>0</td>\n",
       "      <td>M</td>\n",
       "      <td>business</td>\n",
       "      <td>0</td>\n",
       "      <td>23253</td>\n",
       "      <td>purchase of the house</td>\n",
       "    </tr>\n",
       "    <tr>\n",
       "      <td>720</td>\n",
       "      <td>20</td>\n",
       "      <td>20</td>\n",
       "      <td>44</td>\n",
       "      <td>secondary education</td>\n",
       "      <td>1</td>\n",
       "      <td>married</td>\n",
       "      <td>0</td>\n",
       "      <td>F</td>\n",
       "      <td>business</td>\n",
       "      <td>0</td>\n",
       "      <td>18079</td>\n",
       "      <td>buy real estate</td>\n",
       "    </tr>\n",
       "    <tr>\n",
       "      <td>1074</td>\n",
       "      <td>20</td>\n",
       "      <td>20</td>\n",
       "      <td>56</td>\n",
       "      <td>secondary education</td>\n",
       "      <td>1</td>\n",
       "      <td>married</td>\n",
       "      <td>0</td>\n",
       "      <td>F</td>\n",
       "      <td>employee</td>\n",
       "      <td>1</td>\n",
       "      <td>36722</td>\n",
       "      <td>getting an education</td>\n",
       "    </tr>\n",
       "    <tr>\n",
       "      <td>2510</td>\n",
       "      <td>20</td>\n",
       "      <td>20</td>\n",
       "      <td>59</td>\n",
       "      <td>bachelor's degree</td>\n",
       "      <td>0</td>\n",
       "      <td>widow / widower</td>\n",
       "      <td>2</td>\n",
       "      <td>F</td>\n",
       "      <td>employee</td>\n",
       "      <td>0</td>\n",
       "      <td>42315</td>\n",
       "      <td>transactions with commercial real estate</td>\n",
       "    </tr>\n",
       "    <tr>\n",
       "      <td>2940</td>\n",
       "      <td>20</td>\n",
       "      <td>20</td>\n",
       "      <td>0</td>\n",
       "      <td>secondary education</td>\n",
       "      <td>1</td>\n",
       "      <td>married</td>\n",
       "      <td>0</td>\n",
       "      <td>F</td>\n",
       "      <td>employee</td>\n",
       "      <td>0</td>\n",
       "      <td>31958</td>\n",
       "      <td>to buy a car</td>\n",
       "    </tr>\n",
       "    <tr>\n",
       "      <td>...</td>\n",
       "      <td>...</td>\n",
       "      <td>...</td>\n",
       "      <td>...</td>\n",
       "      <td>...</td>\n",
       "      <td>...</td>\n",
       "      <td>...</td>\n",
       "      <td>...</td>\n",
       "      <td>...</td>\n",
       "      <td>...</td>\n",
       "      <td>...</td>\n",
       "      <td>...</td>\n",
       "      <td>...</td>\n",
       "    </tr>\n",
       "    <tr>\n",
       "      <td>20941</td>\n",
       "      <td>20</td>\n",
       "      <td>20</td>\n",
       "      <td>40</td>\n",
       "      <td>secondary education</td>\n",
       "      <td>1</td>\n",
       "      <td>married</td>\n",
       "      <td>0</td>\n",
       "      <td>F</td>\n",
       "      <td>employee</td>\n",
       "      <td>1</td>\n",
       "      <td>21363</td>\n",
       "      <td>to own a car</td>\n",
       "    </tr>\n",
       "    <tr>\n",
       "      <td>21255</td>\n",
       "      <td>20</td>\n",
       "      <td>20</td>\n",
       "      <td>37</td>\n",
       "      <td>secondary education</td>\n",
       "      <td>1</td>\n",
       "      <td>married</td>\n",
       "      <td>0</td>\n",
       "      <td>F</td>\n",
       "      <td>business</td>\n",
       "      <td>0</td>\n",
       "      <td>16477</td>\n",
       "      <td>profile education</td>\n",
       "    </tr>\n",
       "    <tr>\n",
       "      <td>21320</td>\n",
       "      <td>20</td>\n",
       "      <td>20</td>\n",
       "      <td>53</td>\n",
       "      <td>secondary education</td>\n",
       "      <td>1</td>\n",
       "      <td>married</td>\n",
       "      <td>0</td>\n",
       "      <td>M</td>\n",
       "      <td>business</td>\n",
       "      <td>0</td>\n",
       "      <td>25451</td>\n",
       "      <td>buy residential real estate</td>\n",
       "    </tr>\n",
       "    <tr>\n",
       "      <td>21334</td>\n",
       "      <td>20</td>\n",
       "      <td>20</td>\n",
       "      <td>52</td>\n",
       "      <td>secondary education</td>\n",
       "      <td>1</td>\n",
       "      <td>married</td>\n",
       "      <td>0</td>\n",
       "      <td>M</td>\n",
       "      <td>business</td>\n",
       "      <td>0</td>\n",
       "      <td>25060</td>\n",
       "      <td>transactions with my real estate</td>\n",
       "    </tr>\n",
       "    <tr>\n",
       "      <td>21420</td>\n",
       "      <td>20</td>\n",
       "      <td>20</td>\n",
       "      <td>27</td>\n",
       "      <td>secondary education</td>\n",
       "      <td>1</td>\n",
       "      <td>married</td>\n",
       "      <td>0</td>\n",
       "      <td>F</td>\n",
       "      <td>employee</td>\n",
       "      <td>0</td>\n",
       "      <td>24883</td>\n",
       "      <td>buying a second-hand car</td>\n",
       "    </tr>\n",
       "  </tbody>\n",
       "</table>\n",
       "<p>76 rows × 12 columns</p>\n",
       "</div>"
      ],
      "text/plain": [
       "       children  days_employed  dob_years            education  education_id  \\\n",
       "606          20             20         21  secondary education             1   \n",
       "720          20             20         44  secondary education             1   \n",
       "1074         20             20         56  secondary education             1   \n",
       "2510         20             20         59    bachelor's degree             0   \n",
       "2940         20             20          0  secondary education             1   \n",
       "...         ...            ...        ...                  ...           ...   \n",
       "20941        20             20         40  secondary education             1   \n",
       "21255        20             20         37  secondary education             1   \n",
       "21320        20             20         53  secondary education             1   \n",
       "21334        20             20         52  secondary education             1   \n",
       "21420        20             20         27  secondary education             1   \n",
       "\n",
       "         family_status  family_status_id gender income_type  debt  \\\n",
       "606            married                 0      M    business     0   \n",
       "720            married                 0      F    business     0   \n",
       "1074           married                 0      F    employee     1   \n",
       "2510   widow / widower                 2      F    employee     0   \n",
       "2940           married                 0      F    employee     0   \n",
       "...                ...               ...    ...         ...   ...   \n",
       "20941          married                 0      F    employee     1   \n",
       "21255          married                 0      F    business     0   \n",
       "21320          married                 0      M    business     0   \n",
       "21334          married                 0      M    business     0   \n",
       "21420          married                 0      F    employee     0   \n",
       "\n",
       "       total_income                                   purpose  \n",
       "606           23253                     purchase of the house  \n",
       "720           18079                           buy real estate  \n",
       "1074          36722                      getting an education  \n",
       "2510          42315  transactions with commercial real estate  \n",
       "2940          31958                              to buy a car  \n",
       "...             ...                                       ...  \n",
       "20941         21363                              to own a car  \n",
       "21255         16477                         profile education  \n",
       "21320         25451               buy residential real estate  \n",
       "21334         25060          transactions with my real estate  \n",
       "21420         24883                  buying a second-hand car  \n",
       "\n",
       "[76 rows x 12 columns]"
      ]
     },
     "execution_count": 20,
     "metadata": {},
     "output_type": "execute_result"
    }
   ],
   "source": [
    "credit_score[credit_score['children']>=10]"
   ]
  },
  {
   "cell_type": "code",
   "execution_count": 21,
   "metadata": {},
   "outputs": [],
   "source": [
    "credit_score.loc[(credit_score.children>=10),'children']=2"
   ]
  },
  {
   "cell_type": "code",
   "execution_count": 22,
   "metadata": {},
   "outputs": [
    {
     "data": {
      "text/html": [
       "<div>\n",
       "<style scoped>\n",
       "    .dataframe tbody tr th:only-of-type {\n",
       "        vertical-align: middle;\n",
       "    }\n",
       "\n",
       "    .dataframe tbody tr th {\n",
       "        vertical-align: top;\n",
       "    }\n",
       "\n",
       "    .dataframe thead th {\n",
       "        text-align: right;\n",
       "    }\n",
       "</style>\n",
       "<table border=\"1\" class=\"dataframe\">\n",
       "  <thead>\n",
       "    <tr style=\"text-align: right;\">\n",
       "      <th></th>\n",
       "      <th>children</th>\n",
       "      <th>days_employed</th>\n",
       "      <th>dob_years</th>\n",
       "      <th>education</th>\n",
       "      <th>education_id</th>\n",
       "      <th>family_status</th>\n",
       "      <th>family_status_id</th>\n",
       "      <th>gender</th>\n",
       "      <th>income_type</th>\n",
       "      <th>debt</th>\n",
       "      <th>total_income</th>\n",
       "      <th>purpose</th>\n",
       "    </tr>\n",
       "  </thead>\n",
       "  <tbody>\n",
       "    <tr>\n",
       "      <td>291</td>\n",
       "      <td>-1</td>\n",
       "      <td>-1</td>\n",
       "      <td>46</td>\n",
       "      <td>secondary education</td>\n",
       "      <td>1</td>\n",
       "      <td>civil partnership</td>\n",
       "      <td>1</td>\n",
       "      <td>F</td>\n",
       "      <td>employee</td>\n",
       "      <td>0</td>\n",
       "      <td>16450</td>\n",
       "      <td>profile education</td>\n",
       "    </tr>\n",
       "    <tr>\n",
       "      <td>705</td>\n",
       "      <td>-1</td>\n",
       "      <td>-1</td>\n",
       "      <td>50</td>\n",
       "      <td>secondary education</td>\n",
       "      <td>1</td>\n",
       "      <td>married</td>\n",
       "      <td>0</td>\n",
       "      <td>F</td>\n",
       "      <td>civil servant</td>\n",
       "      <td>0</td>\n",
       "      <td>22061</td>\n",
       "      <td>car purchase</td>\n",
       "    </tr>\n",
       "    <tr>\n",
       "      <td>742</td>\n",
       "      <td>-1</td>\n",
       "      <td>-1</td>\n",
       "      <td>57</td>\n",
       "      <td>secondary education</td>\n",
       "      <td>1</td>\n",
       "      <td>married</td>\n",
       "      <td>0</td>\n",
       "      <td>F</td>\n",
       "      <td>employee</td>\n",
       "      <td>0</td>\n",
       "      <td>10282</td>\n",
       "      <td>supplementary education</td>\n",
       "    </tr>\n",
       "    <tr>\n",
       "      <td>800</td>\n",
       "      <td>-1</td>\n",
       "      <td>-1</td>\n",
       "      <td>54</td>\n",
       "      <td>secondary education</td>\n",
       "      <td>1</td>\n",
       "      <td>unmarried</td>\n",
       "      <td>4</td>\n",
       "      <td>F</td>\n",
       "      <td>retiree</td>\n",
       "      <td>0</td>\n",
       "      <td>13806</td>\n",
       "      <td>supplementary education</td>\n",
       "    </tr>\n",
       "    <tr>\n",
       "      <td>941</td>\n",
       "      <td>-1</td>\n",
       "      <td>-1</td>\n",
       "      <td>57</td>\n",
       "      <td>secondary education</td>\n",
       "      <td>1</td>\n",
       "      <td>married</td>\n",
       "      <td>0</td>\n",
       "      <td>F</td>\n",
       "      <td>retiree</td>\n",
       "      <td>0</td>\n",
       "      <td>18374</td>\n",
       "      <td>buying my own car</td>\n",
       "    </tr>\n",
       "    <tr>\n",
       "      <td>1363</td>\n",
       "      <td>-1</td>\n",
       "      <td>-1</td>\n",
       "      <td>55</td>\n",
       "      <td>secondary education</td>\n",
       "      <td>1</td>\n",
       "      <td>married</td>\n",
       "      <td>0</td>\n",
       "      <td>F</td>\n",
       "      <td>business</td>\n",
       "      <td>0</td>\n",
       "      <td>11128</td>\n",
       "      <td>profile education</td>\n",
       "    </tr>\n",
       "    <tr>\n",
       "      <td>1929</td>\n",
       "      <td>-1</td>\n",
       "      <td>-1</td>\n",
       "      <td>38</td>\n",
       "      <td>secondary education</td>\n",
       "      <td>1</td>\n",
       "      <td>unmarried</td>\n",
       "      <td>4</td>\n",
       "      <td>M</td>\n",
       "      <td>employee</td>\n",
       "      <td>0</td>\n",
       "      <td>17459</td>\n",
       "      <td>purchase of the house</td>\n",
       "    </tr>\n",
       "    <tr>\n",
       "      <td>2073</td>\n",
       "      <td>-1</td>\n",
       "      <td>-1</td>\n",
       "      <td>42</td>\n",
       "      <td>secondary education</td>\n",
       "      <td>1</td>\n",
       "      <td>divorced</td>\n",
       "      <td>3</td>\n",
       "      <td>F</td>\n",
       "      <td>business</td>\n",
       "      <td>0</td>\n",
       "      <td>26022</td>\n",
       "      <td>purchase of the house</td>\n",
       "    </tr>\n",
       "    <tr>\n",
       "      <td>3812</td>\n",
       "      <td>-1</td>\n",
       "      <td>-1</td>\n",
       "      <td>26</td>\n",
       "      <td>secondary education</td>\n",
       "      <td>1</td>\n",
       "      <td>civil partnership</td>\n",
       "      <td>1</td>\n",
       "      <td>F</td>\n",
       "      <td>civil servant</td>\n",
       "      <td>0</td>\n",
       "      <td>21102</td>\n",
       "      <td>having a wedding</td>\n",
       "    </tr>\n",
       "    <tr>\n",
       "      <td>4198</td>\n",
       "      <td>-1</td>\n",
       "      <td>-1</td>\n",
       "      <td>41</td>\n",
       "      <td>secondary education</td>\n",
       "      <td>1</td>\n",
       "      <td>married</td>\n",
       "      <td>0</td>\n",
       "      <td>F</td>\n",
       "      <td>civil servant</td>\n",
       "      <td>0</td>\n",
       "      <td>36220</td>\n",
       "      <td>transactions with my real estate</td>\n",
       "    </tr>\n",
       "    <tr>\n",
       "      <td>4399</td>\n",
       "      <td>-1</td>\n",
       "      <td>-1</td>\n",
       "      <td>64</td>\n",
       "      <td>secondary education</td>\n",
       "      <td>1</td>\n",
       "      <td>married</td>\n",
       "      <td>0</td>\n",
       "      <td>F</td>\n",
       "      <td>retiree</td>\n",
       "      <td>0</td>\n",
       "      <td>26122</td>\n",
       "      <td>buy real estate</td>\n",
       "    </tr>\n",
       "    <tr>\n",
       "      <td>4539</td>\n",
       "      <td>-1</td>\n",
       "      <td>-1</td>\n",
       "      <td>32</td>\n",
       "      <td>secondary education</td>\n",
       "      <td>1</td>\n",
       "      <td>married</td>\n",
       "      <td>0</td>\n",
       "      <td>F</td>\n",
       "      <td>employee</td>\n",
       "      <td>0</td>\n",
       "      <td>25687</td>\n",
       "      <td>education</td>\n",
       "    </tr>\n",
       "    <tr>\n",
       "      <td>5268</td>\n",
       "      <td>-1</td>\n",
       "      <td>-1</td>\n",
       "      <td>46</td>\n",
       "      <td>secondary education</td>\n",
       "      <td>1</td>\n",
       "      <td>widow / widower</td>\n",
       "      <td>2</td>\n",
       "      <td>F</td>\n",
       "      <td>employee</td>\n",
       "      <td>0</td>\n",
       "      <td>44593</td>\n",
       "      <td>buy real estate</td>\n",
       "    </tr>\n",
       "    <tr>\n",
       "      <td>6008</td>\n",
       "      <td>-1</td>\n",
       "      <td>-1</td>\n",
       "      <td>46</td>\n",
       "      <td>bachelor's degree</td>\n",
       "      <td>0</td>\n",
       "      <td>married</td>\n",
       "      <td>0</td>\n",
       "      <td>F</td>\n",
       "      <td>employee</td>\n",
       "      <td>0</td>\n",
       "      <td>22881</td>\n",
       "      <td>construction of own property</td>\n",
       "    </tr>\n",
       "    <tr>\n",
       "      <td>6379</td>\n",
       "      <td>-1</td>\n",
       "      <td>-1</td>\n",
       "      <td>48</td>\n",
       "      <td>secondary education</td>\n",
       "      <td>1</td>\n",
       "      <td>widow / widower</td>\n",
       "      <td>2</td>\n",
       "      <td>F</td>\n",
       "      <td>retiree</td>\n",
       "      <td>0</td>\n",
       "      <td>5768</td>\n",
       "      <td>education</td>\n",
       "    </tr>\n",
       "    <tr>\n",
       "      <td>7184</td>\n",
       "      <td>-1</td>\n",
       "      <td>-1</td>\n",
       "      <td>34</td>\n",
       "      <td>secondary education</td>\n",
       "      <td>1</td>\n",
       "      <td>married</td>\n",
       "      <td>0</td>\n",
       "      <td>M</td>\n",
       "      <td>employee</td>\n",
       "      <td>0</td>\n",
       "      <td>29490</td>\n",
       "      <td>car purchase</td>\n",
       "    </tr>\n",
       "    <tr>\n",
       "      <td>7272</td>\n",
       "      <td>-1</td>\n",
       "      <td>-1</td>\n",
       "      <td>51</td>\n",
       "      <td>secondary education</td>\n",
       "      <td>1</td>\n",
       "      <td>married</td>\n",
       "      <td>0</td>\n",
       "      <td>F</td>\n",
       "      <td>employee</td>\n",
       "      <td>0</td>\n",
       "      <td>23508</td>\n",
       "      <td>transactions with commercial real estate</td>\n",
       "    </tr>\n",
       "    <tr>\n",
       "      <td>7609</td>\n",
       "      <td>-1</td>\n",
       "      <td>-1</td>\n",
       "      <td>35</td>\n",
       "      <td>secondary education</td>\n",
       "      <td>1</td>\n",
       "      <td>married</td>\n",
       "      <td>0</td>\n",
       "      <td>M</td>\n",
       "      <td>employee</td>\n",
       "      <td>0</td>\n",
       "      <td>21848</td>\n",
       "      <td>education</td>\n",
       "    </tr>\n",
       "    <tr>\n",
       "      <td>7679</td>\n",
       "      <td>-1</td>\n",
       "      <td>-1</td>\n",
       "      <td>53</td>\n",
       "      <td>secondary education</td>\n",
       "      <td>1</td>\n",
       "      <td>widow / widower</td>\n",
       "      <td>2</td>\n",
       "      <td>F</td>\n",
       "      <td>employee</td>\n",
       "      <td>0</td>\n",
       "      <td>25548</td>\n",
       "      <td>building a real estate</td>\n",
       "    </tr>\n",
       "    <tr>\n",
       "      <td>8220</td>\n",
       "      <td>-1</td>\n",
       "      <td>-1</td>\n",
       "      <td>54</td>\n",
       "      <td>bachelor's degree</td>\n",
       "      <td>0</td>\n",
       "      <td>married</td>\n",
       "      <td>0</td>\n",
       "      <td>F</td>\n",
       "      <td>business</td>\n",
       "      <td>0</td>\n",
       "      <td>22209</td>\n",
       "      <td>buy real estate</td>\n",
       "    </tr>\n",
       "    <tr>\n",
       "      <td>8242</td>\n",
       "      <td>-1</td>\n",
       "      <td>-1</td>\n",
       "      <td>31</td>\n",
       "      <td>secondary education</td>\n",
       "      <td>1</td>\n",
       "      <td>civil partnership</td>\n",
       "      <td>1</td>\n",
       "      <td>F</td>\n",
       "      <td>employee</td>\n",
       "      <td>0</td>\n",
       "      <td>8705</td>\n",
       "      <td>to own a car</td>\n",
       "    </tr>\n",
       "    <tr>\n",
       "      <td>8552</td>\n",
       "      <td>-1</td>\n",
       "      <td>-1</td>\n",
       "      <td>31</td>\n",
       "      <td>secondary education</td>\n",
       "      <td>1</td>\n",
       "      <td>married</td>\n",
       "      <td>0</td>\n",
       "      <td>F</td>\n",
       "      <td>employee</td>\n",
       "      <td>0</td>\n",
       "      <td>23292</td>\n",
       "      <td>housing renovation</td>\n",
       "    </tr>\n",
       "    <tr>\n",
       "      <td>9553</td>\n",
       "      <td>-1</td>\n",
       "      <td>-1</td>\n",
       "      <td>34</td>\n",
       "      <td>bachelor's degree</td>\n",
       "      <td>0</td>\n",
       "      <td>married</td>\n",
       "      <td>0</td>\n",
       "      <td>M</td>\n",
       "      <td>employee</td>\n",
       "      <td>0</td>\n",
       "      <td>20280</td>\n",
       "      <td>real estate transactions</td>\n",
       "    </tr>\n",
       "    <tr>\n",
       "      <td>9562</td>\n",
       "      <td>-1</td>\n",
       "      <td>-1</td>\n",
       "      <td>28</td>\n",
       "      <td>bachelor's degree</td>\n",
       "      <td>0</td>\n",
       "      <td>married</td>\n",
       "      <td>0</td>\n",
       "      <td>M</td>\n",
       "      <td>civil servant</td>\n",
       "      <td>0</td>\n",
       "      <td>48501</td>\n",
       "      <td>to get a supplementary education</td>\n",
       "    </tr>\n",
       "    <tr>\n",
       "      <td>10162</td>\n",
       "      <td>-1</td>\n",
       "      <td>-1</td>\n",
       "      <td>37</td>\n",
       "      <td>secondary education</td>\n",
       "      <td>1</td>\n",
       "      <td>married</td>\n",
       "      <td>0</td>\n",
       "      <td>M</td>\n",
       "      <td>employee</td>\n",
       "      <td>0</td>\n",
       "      <td>49658</td>\n",
       "      <td>getting an education</td>\n",
       "    </tr>\n",
       "    <tr>\n",
       "      <td>10350</td>\n",
       "      <td>-1</td>\n",
       "      <td>-1</td>\n",
       "      <td>63</td>\n",
       "      <td>bachelor's degree</td>\n",
       "      <td>0</td>\n",
       "      <td>widow / widower</td>\n",
       "      <td>2</td>\n",
       "      <td>F</td>\n",
       "      <td>retiree</td>\n",
       "      <td>0</td>\n",
       "      <td>27322</td>\n",
       "      <td>building a real estate</td>\n",
       "    </tr>\n",
       "    <tr>\n",
       "      <td>10900</td>\n",
       "      <td>-1</td>\n",
       "      <td>-1</td>\n",
       "      <td>50</td>\n",
       "      <td>secondary education</td>\n",
       "      <td>1</td>\n",
       "      <td>married</td>\n",
       "      <td>0</td>\n",
       "      <td>M</td>\n",
       "      <td>retiree</td>\n",
       "      <td>0</td>\n",
       "      <td>27322</td>\n",
       "      <td>purchase of my own house</td>\n",
       "    </tr>\n",
       "    <tr>\n",
       "      <td>11090</td>\n",
       "      <td>-1</td>\n",
       "      <td>-1</td>\n",
       "      <td>59</td>\n",
       "      <td>secondary education</td>\n",
       "      <td>1</td>\n",
       "      <td>married</td>\n",
       "      <td>0</td>\n",
       "      <td>F</td>\n",
       "      <td>employee</td>\n",
       "      <td>0</td>\n",
       "      <td>35179</td>\n",
       "      <td>housing transactions</td>\n",
       "    </tr>\n",
       "    <tr>\n",
       "      <td>11249</td>\n",
       "      <td>-1</td>\n",
       "      <td>-1</td>\n",
       "      <td>30</td>\n",
       "      <td>bachelor's degree</td>\n",
       "      <td>0</td>\n",
       "      <td>civil partnership</td>\n",
       "      <td>1</td>\n",
       "      <td>F</td>\n",
       "      <td>business</td>\n",
       "      <td>0</td>\n",
       "      <td>51456</td>\n",
       "      <td>to buy a car</td>\n",
       "    </tr>\n",
       "    <tr>\n",
       "      <td>11598</td>\n",
       "      <td>-1</td>\n",
       "      <td>-1</td>\n",
       "      <td>27</td>\n",
       "      <td>secondary education</td>\n",
       "      <td>1</td>\n",
       "      <td>married</td>\n",
       "      <td>0</td>\n",
       "      <td>F</td>\n",
       "      <td>business</td>\n",
       "      <td>0</td>\n",
       "      <td>26334</td>\n",
       "      <td>buying property for renting out</td>\n",
       "    </tr>\n",
       "    <tr>\n",
       "      <td>12284</td>\n",
       "      <td>-1</td>\n",
       "      <td>-1</td>\n",
       "      <td>61</td>\n",
       "      <td>some college</td>\n",
       "      <td>2</td>\n",
       "      <td>married</td>\n",
       "      <td>0</td>\n",
       "      <td>M</td>\n",
       "      <td>employee</td>\n",
       "      <td>0</td>\n",
       "      <td>50400</td>\n",
       "      <td>property</td>\n",
       "    </tr>\n",
       "    <tr>\n",
       "      <td>13760</td>\n",
       "      <td>-1</td>\n",
       "      <td>-1</td>\n",
       "      <td>42</td>\n",
       "      <td>secondary education</td>\n",
       "      <td>1</td>\n",
       "      <td>unmarried</td>\n",
       "      <td>4</td>\n",
       "      <td>M</td>\n",
       "      <td>business</td>\n",
       "      <td>0</td>\n",
       "      <td>25451</td>\n",
       "      <td>car</td>\n",
       "    </tr>\n",
       "    <tr>\n",
       "      <td>14328</td>\n",
       "      <td>-1</td>\n",
       "      <td>-1</td>\n",
       "      <td>23</td>\n",
       "      <td>secondary education</td>\n",
       "      <td>1</td>\n",
       "      <td>divorced</td>\n",
       "      <td>3</td>\n",
       "      <td>F</td>\n",
       "      <td>business</td>\n",
       "      <td>0</td>\n",
       "      <td>14761</td>\n",
       "      <td>buy residential real estate</td>\n",
       "    </tr>\n",
       "    <tr>\n",
       "      <td>15114</td>\n",
       "      <td>-1</td>\n",
       "      <td>-1</td>\n",
       "      <td>44</td>\n",
       "      <td>secondary education</td>\n",
       "      <td>1</td>\n",
       "      <td>divorced</td>\n",
       "      <td>3</td>\n",
       "      <td>F</td>\n",
       "      <td>employee</td>\n",
       "      <td>0</td>\n",
       "      <td>17758</td>\n",
       "      <td>to own a car</td>\n",
       "    </tr>\n",
       "    <tr>\n",
       "      <td>15400</td>\n",
       "      <td>-1</td>\n",
       "      <td>-1</td>\n",
       "      <td>40</td>\n",
       "      <td>bachelor's degree</td>\n",
       "      <td>0</td>\n",
       "      <td>civil partnership</td>\n",
       "      <td>1</td>\n",
       "      <td>F</td>\n",
       "      <td>employee</td>\n",
       "      <td>0</td>\n",
       "      <td>15700</td>\n",
       "      <td>to have a wedding</td>\n",
       "    </tr>\n",
       "    <tr>\n",
       "      <td>16093</td>\n",
       "      <td>-1</td>\n",
       "      <td>-1</td>\n",
       "      <td>33</td>\n",
       "      <td>secondary education</td>\n",
       "      <td>1</td>\n",
       "      <td>married</td>\n",
       "      <td>0</td>\n",
       "      <td>F</td>\n",
       "      <td>employee</td>\n",
       "      <td>1</td>\n",
       "      <td>23942</td>\n",
       "      <td>car</td>\n",
       "    </tr>\n",
       "    <tr>\n",
       "      <td>16227</td>\n",
       "      <td>-1</td>\n",
       "      <td>-1</td>\n",
       "      <td>40</td>\n",
       "      <td>bachelor's degree</td>\n",
       "      <td>0</td>\n",
       "      <td>married</td>\n",
       "      <td>0</td>\n",
       "      <td>M</td>\n",
       "      <td>employee</td>\n",
       "      <td>0</td>\n",
       "      <td>17917</td>\n",
       "      <td>purchase of the house</td>\n",
       "    </tr>\n",
       "    <tr>\n",
       "      <td>17054</td>\n",
       "      <td>-1</td>\n",
       "      <td>-1</td>\n",
       "      <td>34</td>\n",
       "      <td>secondary education</td>\n",
       "      <td>1</td>\n",
       "      <td>married</td>\n",
       "      <td>0</td>\n",
       "      <td>F</td>\n",
       "      <td>employee</td>\n",
       "      <td>0</td>\n",
       "      <td>29207</td>\n",
       "      <td>buying a second-hand car</td>\n",
       "    </tr>\n",
       "    <tr>\n",
       "      <td>17386</td>\n",
       "      <td>-1</td>\n",
       "      <td>-1</td>\n",
       "      <td>37</td>\n",
       "      <td>secondary education</td>\n",
       "      <td>1</td>\n",
       "      <td>married</td>\n",
       "      <td>0</td>\n",
       "      <td>F</td>\n",
       "      <td>business</td>\n",
       "      <td>0</td>\n",
       "      <td>34370</td>\n",
       "      <td>housing</td>\n",
       "    </tr>\n",
       "    <tr>\n",
       "      <td>17614</td>\n",
       "      <td>-1</td>\n",
       "      <td>-1</td>\n",
       "      <td>41</td>\n",
       "      <td>secondary education</td>\n",
       "      <td>1</td>\n",
       "      <td>married</td>\n",
       "      <td>0</td>\n",
       "      <td>F</td>\n",
       "      <td>employee</td>\n",
       "      <td>0</td>\n",
       "      <td>19536</td>\n",
       "      <td>transactions with my real estate</td>\n",
       "    </tr>\n",
       "    <tr>\n",
       "      <td>18174</td>\n",
       "      <td>-1</td>\n",
       "      <td>-1</td>\n",
       "      <td>33</td>\n",
       "      <td>secondary education</td>\n",
       "      <td>1</td>\n",
       "      <td>married</td>\n",
       "      <td>0</td>\n",
       "      <td>F</td>\n",
       "      <td>employee</td>\n",
       "      <td>0</td>\n",
       "      <td>20537</td>\n",
       "      <td>university education</td>\n",
       "    </tr>\n",
       "    <tr>\n",
       "      <td>19048</td>\n",
       "      <td>-1</td>\n",
       "      <td>-1</td>\n",
       "      <td>38</td>\n",
       "      <td>secondary education</td>\n",
       "      <td>1</td>\n",
       "      <td>unmarried</td>\n",
       "      <td>4</td>\n",
       "      <td>M</td>\n",
       "      <td>employee</td>\n",
       "      <td>0</td>\n",
       "      <td>19552</td>\n",
       "      <td>building a real estate</td>\n",
       "    </tr>\n",
       "    <tr>\n",
       "      <td>19311</td>\n",
       "      <td>-1</td>\n",
       "      <td>-1</td>\n",
       "      <td>43</td>\n",
       "      <td>secondary education</td>\n",
       "      <td>1</td>\n",
       "      <td>married</td>\n",
       "      <td>0</td>\n",
       "      <td>M</td>\n",
       "      <td>employee</td>\n",
       "      <td>0</td>\n",
       "      <td>24894</td>\n",
       "      <td>second-hand car purchase</td>\n",
       "    </tr>\n",
       "    <tr>\n",
       "      <td>19360</td>\n",
       "      <td>-1</td>\n",
       "      <td>-1</td>\n",
       "      <td>28</td>\n",
       "      <td>secondary education</td>\n",
       "      <td>1</td>\n",
       "      <td>divorced</td>\n",
       "      <td>3</td>\n",
       "      <td>F</td>\n",
       "      <td>retiree</td>\n",
       "      <td>0</td>\n",
       "      <td>8459</td>\n",
       "      <td>cars</td>\n",
       "    </tr>\n",
       "    <tr>\n",
       "      <td>20328</td>\n",
       "      <td>-1</td>\n",
       "      <td>-1</td>\n",
       "      <td>69</td>\n",
       "      <td>secondary education</td>\n",
       "      <td>1</td>\n",
       "      <td>unmarried</td>\n",
       "      <td>4</td>\n",
       "      <td>F</td>\n",
       "      <td>retiree</td>\n",
       "      <td>0</td>\n",
       "      <td>18643</td>\n",
       "      <td>real estate transactions</td>\n",
       "    </tr>\n",
       "    <tr>\n",
       "      <td>20650</td>\n",
       "      <td>-1</td>\n",
       "      <td>-1</td>\n",
       "      <td>32</td>\n",
       "      <td>bachelor's degree</td>\n",
       "      <td>0</td>\n",
       "      <td>married</td>\n",
       "      <td>0</td>\n",
       "      <td>F</td>\n",
       "      <td>employee</td>\n",
       "      <td>0</td>\n",
       "      <td>21984</td>\n",
       "      <td>buy residential real estate</td>\n",
       "    </tr>\n",
       "    <tr>\n",
       "      <td>21071</td>\n",
       "      <td>-1</td>\n",
       "      <td>-1</td>\n",
       "      <td>44</td>\n",
       "      <td>secondary education</td>\n",
       "      <td>1</td>\n",
       "      <td>married</td>\n",
       "      <td>0</td>\n",
       "      <td>F</td>\n",
       "      <td>business</td>\n",
       "      <td>0</td>\n",
       "      <td>27129</td>\n",
       "      <td>transactions with my real estate</td>\n",
       "    </tr>\n",
       "  </tbody>\n",
       "</table>\n",
       "</div>"
      ],
      "text/plain": [
       "       children  days_employed  dob_years            education  education_id  \\\n",
       "291          -1             -1         46  secondary education             1   \n",
       "705          -1             -1         50  secondary education             1   \n",
       "742          -1             -1         57  secondary education             1   \n",
       "800          -1             -1         54  secondary education             1   \n",
       "941          -1             -1         57  secondary education             1   \n",
       "1363         -1             -1         55  secondary education             1   \n",
       "1929         -1             -1         38  secondary education             1   \n",
       "2073         -1             -1         42  secondary education             1   \n",
       "3812         -1             -1         26  secondary education             1   \n",
       "4198         -1             -1         41  secondary education             1   \n",
       "4399         -1             -1         64  secondary education             1   \n",
       "4539         -1             -1         32  secondary education             1   \n",
       "5268         -1             -1         46  secondary education             1   \n",
       "6008         -1             -1         46    bachelor's degree             0   \n",
       "6379         -1             -1         48  secondary education             1   \n",
       "7184         -1             -1         34  secondary education             1   \n",
       "7272         -1             -1         51  secondary education             1   \n",
       "7609         -1             -1         35  secondary education             1   \n",
       "7679         -1             -1         53  secondary education             1   \n",
       "8220         -1             -1         54    bachelor's degree             0   \n",
       "8242         -1             -1         31  secondary education             1   \n",
       "8552         -1             -1         31  secondary education             1   \n",
       "9553         -1             -1         34    bachelor's degree             0   \n",
       "9562         -1             -1         28    bachelor's degree             0   \n",
       "10162        -1             -1         37  secondary education             1   \n",
       "10350        -1             -1         63    bachelor's degree             0   \n",
       "10900        -1             -1         50  secondary education             1   \n",
       "11090        -1             -1         59  secondary education             1   \n",
       "11249        -1             -1         30    bachelor's degree             0   \n",
       "11598        -1             -1         27  secondary education             1   \n",
       "12284        -1             -1         61         some college             2   \n",
       "13760        -1             -1         42  secondary education             1   \n",
       "14328        -1             -1         23  secondary education             1   \n",
       "15114        -1             -1         44  secondary education             1   \n",
       "15400        -1             -1         40    bachelor's degree             0   \n",
       "16093        -1             -1         33  secondary education             1   \n",
       "16227        -1             -1         40    bachelor's degree             0   \n",
       "17054        -1             -1         34  secondary education             1   \n",
       "17386        -1             -1         37  secondary education             1   \n",
       "17614        -1             -1         41  secondary education             1   \n",
       "18174        -1             -1         33  secondary education             1   \n",
       "19048        -1             -1         38  secondary education             1   \n",
       "19311        -1             -1         43  secondary education             1   \n",
       "19360        -1             -1         28  secondary education             1   \n",
       "20328        -1             -1         69  secondary education             1   \n",
       "20650        -1             -1         32    bachelor's degree             0   \n",
       "21071        -1             -1         44  secondary education             1   \n",
       "\n",
       "           family_status  family_status_id gender    income_type  debt  \\\n",
       "291    civil partnership                 1      F       employee     0   \n",
       "705              married                 0      F  civil servant     0   \n",
       "742              married                 0      F       employee     0   \n",
       "800            unmarried                 4      F        retiree     0   \n",
       "941              married                 0      F        retiree     0   \n",
       "1363             married                 0      F       business     0   \n",
       "1929           unmarried                 4      M       employee     0   \n",
       "2073            divorced                 3      F       business     0   \n",
       "3812   civil partnership                 1      F  civil servant     0   \n",
       "4198             married                 0      F  civil servant     0   \n",
       "4399             married                 0      F        retiree     0   \n",
       "4539             married                 0      F       employee     0   \n",
       "5268     widow / widower                 2      F       employee     0   \n",
       "6008             married                 0      F       employee     0   \n",
       "6379     widow / widower                 2      F        retiree     0   \n",
       "7184             married                 0      M       employee     0   \n",
       "7272             married                 0      F       employee     0   \n",
       "7609             married                 0      M       employee     0   \n",
       "7679     widow / widower                 2      F       employee     0   \n",
       "8220             married                 0      F       business     0   \n",
       "8242   civil partnership                 1      F       employee     0   \n",
       "8552             married                 0      F       employee     0   \n",
       "9553             married                 0      M       employee     0   \n",
       "9562             married                 0      M  civil servant     0   \n",
       "10162            married                 0      M       employee     0   \n",
       "10350    widow / widower                 2      F        retiree     0   \n",
       "10900            married                 0      M        retiree     0   \n",
       "11090            married                 0      F       employee     0   \n",
       "11249  civil partnership                 1      F       business     0   \n",
       "11598            married                 0      F       business     0   \n",
       "12284            married                 0      M       employee     0   \n",
       "13760          unmarried                 4      M       business     0   \n",
       "14328           divorced                 3      F       business     0   \n",
       "15114           divorced                 3      F       employee     0   \n",
       "15400  civil partnership                 1      F       employee     0   \n",
       "16093            married                 0      F       employee     1   \n",
       "16227            married                 0      M       employee     0   \n",
       "17054            married                 0      F       employee     0   \n",
       "17386            married                 0      F       business     0   \n",
       "17614            married                 0      F       employee     0   \n",
       "18174            married                 0      F       employee     0   \n",
       "19048          unmarried                 4      M       employee     0   \n",
       "19311            married                 0      M       employee     0   \n",
       "19360           divorced                 3      F        retiree     0   \n",
       "20328          unmarried                 4      F        retiree     0   \n",
       "20650            married                 0      F       employee     0   \n",
       "21071            married                 0      F       business     0   \n",
       "\n",
       "       total_income                                   purpose  \n",
       "291           16450                         profile education  \n",
       "705           22061                              car purchase  \n",
       "742           10282                   supplementary education  \n",
       "800           13806                   supplementary education  \n",
       "941           18374                         buying my own car  \n",
       "1363          11128                         profile education  \n",
       "1929          17459                     purchase of the house  \n",
       "2073          26022                     purchase of the house  \n",
       "3812          21102                          having a wedding  \n",
       "4198          36220          transactions with my real estate  \n",
       "4399          26122                           buy real estate  \n",
       "4539          25687                                 education  \n",
       "5268          44593                           buy real estate  \n",
       "6008          22881              construction of own property  \n",
       "6379           5768                                 education  \n",
       "7184          29490                              car purchase  \n",
       "7272          23508  transactions with commercial real estate  \n",
       "7609          21848                                 education  \n",
       "7679          25548                    building a real estate  \n",
       "8220          22209                           buy real estate  \n",
       "8242           8705                              to own a car  \n",
       "8552          23292                        housing renovation  \n",
       "9553          20280                  real estate transactions  \n",
       "9562          48501          to get a supplementary education  \n",
       "10162         49658                      getting an education  \n",
       "10350         27322                    building a real estate  \n",
       "10900         27322                  purchase of my own house  \n",
       "11090         35179                      housing transactions  \n",
       "11249         51456                              to buy a car  \n",
       "11598         26334           buying property for renting out  \n",
       "12284         50400                                  property  \n",
       "13760         25451                                       car  \n",
       "14328         14761               buy residential real estate  \n",
       "15114         17758                              to own a car  \n",
       "15400         15700                         to have a wedding  \n",
       "16093         23942                                       car  \n",
       "16227         17917                     purchase of the house  \n",
       "17054         29207                  buying a second-hand car  \n",
       "17386         34370                                   housing  \n",
       "17614         19536          transactions with my real estate  \n",
       "18174         20537                      university education  \n",
       "19048         19552                    building a real estate  \n",
       "19311         24894                  second-hand car purchase  \n",
       "19360          8459                                      cars  \n",
       "20328         18643                  real estate transactions  \n",
       "20650         21984               buy residential real estate  \n",
       "21071         27129          transactions with my real estate  "
      ]
     },
     "execution_count": 22,
     "metadata": {},
     "output_type": "execute_result"
    }
   ],
   "source": [
    "credit_score[credit_score['children']<0]"
   ]
  },
  {
   "cell_type": "code",
   "execution_count": 23,
   "metadata": {},
   "outputs": [],
   "source": [
    "credit_score['children']=credit_score['children'].abs()"
   ]
  },
  {
   "cell_type": "code",
   "execution_count": 24,
   "metadata": {},
   "outputs": [
    {
     "data": {
      "text/plain": [
       "0    14091\n",
       "1     4855\n",
       "2     2128\n",
       "3      330\n",
       "4       41\n",
       "5        9\n",
       "Name: children, dtype: int64"
      ]
     },
     "execution_count": 24,
     "metadata": {},
     "output_type": "execute_result"
    }
   ],
   "source": [
    "credit_score['children'].value_counts().sort_index()"
   ]
  },
  {
   "cell_type": "code",
   "execution_count": 25,
   "metadata": {},
   "outputs": [
    {
     "data": {
      "text/plain": [
       "F      14174\n",
       "M       7279\n",
       "XNA        1\n",
       "Name: gender, dtype: int64"
      ]
     },
     "execution_count": 25,
     "metadata": {},
     "output_type": "execute_result"
    }
   ],
   "source": [
    "credit_score['gender'].value_counts().sort_index()"
   ]
  },
  {
   "cell_type": "markdown",
   "metadata": {},
   "source": [
    "The odd or unique sex type here is XNA which could mean a nonbinary sex or wrong entry. With just one entry, This would be removed from the dataset to enable ease of analysis."
   ]
  },
  {
   "cell_type": "code",
   "execution_count": 26,
   "metadata": {},
   "outputs": [
    {
     "data": {
      "text/html": [
       "<div>\n",
       "<style scoped>\n",
       "    .dataframe tbody tr th:only-of-type {\n",
       "        vertical-align: middle;\n",
       "    }\n",
       "\n",
       "    .dataframe tbody tr th {\n",
       "        vertical-align: top;\n",
       "    }\n",
       "\n",
       "    .dataframe thead th {\n",
       "        text-align: right;\n",
       "    }\n",
       "</style>\n",
       "<table border=\"1\" class=\"dataframe\">\n",
       "  <thead>\n",
       "    <tr style=\"text-align: right;\">\n",
       "      <th></th>\n",
       "      <th>children</th>\n",
       "      <th>days_employed</th>\n",
       "      <th>dob_years</th>\n",
       "      <th>education</th>\n",
       "      <th>education_id</th>\n",
       "      <th>family_status</th>\n",
       "      <th>family_status_id</th>\n",
       "      <th>gender</th>\n",
       "      <th>income_type</th>\n",
       "      <th>debt</th>\n",
       "      <th>total_income</th>\n",
       "      <th>purpose</th>\n",
       "    </tr>\n",
       "  </thead>\n",
       "  <tbody>\n",
       "    <tr>\n",
       "      <td>10684</td>\n",
       "      <td>0</td>\n",
       "      <td>0</td>\n",
       "      <td>24</td>\n",
       "      <td>some college</td>\n",
       "      <td>2</td>\n",
       "      <td>civil partnership</td>\n",
       "      <td>1</td>\n",
       "      <td>XNA</td>\n",
       "      <td>business</td>\n",
       "      <td>0</td>\n",
       "      <td>32624</td>\n",
       "      <td>buy real estate</td>\n",
       "    </tr>\n",
       "  </tbody>\n",
       "</table>\n",
       "</div>"
      ],
      "text/plain": [
       "       children  days_employed  dob_years     education  education_id  \\\n",
       "10684         0              0         24  some college             2   \n",
       "\n",
       "           family_status  family_status_id gender income_type  debt  \\\n",
       "10684  civil partnership                 1    XNA    business     0   \n",
       "\n",
       "       total_income          purpose  \n",
       "10684         32624  buy real estate  "
      ]
     },
     "execution_count": 26,
     "metadata": {},
     "output_type": "execute_result"
    }
   ],
   "source": [
    "credit_score[credit_score['gender']>='XNA']"
   ]
  },
  {
   "cell_type": "code",
   "execution_count": 27,
   "metadata": {},
   "outputs": [],
   "source": [
    "credit_score =credit_score.drop(credit_score.index[10684]).reset_index(drop=True)"
   ]
  },
  {
   "cell_type": "markdown",
   "metadata": {},
   "source": [
    "<div style=\"border:solid green 2px; padding: 20px\"> <b>Success:</b><br>\n",
    "    It's very good that you found gender <code>XNA</code> in our data and removed it 👍</div>       \n",
    "<br>"
   ]
  },
  {
   "cell_type": "code",
   "execution_count": 28,
   "metadata": {
    "scrolled": true
   },
   "outputs": [
    {
     "data": {
      "text/plain": [
       "0     101\n",
       "19     14\n",
       "20     51\n",
       "21    111\n",
       "22    183\n",
       "23    252\n",
       "24    263\n",
       "25    357\n",
       "26    408\n",
       "27    493\n",
       "28    503\n",
       "29    544\n",
       "30    537\n",
       "31    559\n",
       "32    509\n",
       "33    581\n",
       "34    601\n",
       "35    616\n",
       "36    554\n",
       "37    536\n",
       "38    597\n",
       "39    572\n",
       "40    607\n",
       "41    605\n",
       "42    596\n",
       "43    512\n",
       "44    545\n",
       "45    496\n",
       "46    472\n",
       "47    477\n",
       "48    536\n",
       "49    508\n",
       "50    513\n",
       "51    446\n",
       "52    484\n",
       "53    459\n",
       "54    476\n",
       "55    443\n",
       "56    483\n",
       "57    456\n",
       "58    454\n",
       "59    443\n",
       "60    374\n",
       "61    354\n",
       "62    348\n",
       "63    269\n",
       "64    260\n",
       "65    193\n",
       "66    182\n",
       "67    167\n",
       "68     99\n",
       "69     85\n",
       "70     65\n",
       "71     56\n",
       "72     33\n",
       "73      8\n",
       "74      6\n",
       "75      1\n",
       "Name: dob_years, dtype: int64"
      ]
     },
     "execution_count": 28,
     "metadata": {},
     "output_type": "execute_result"
    }
   ],
   "source": [
    "credit_score['dob_years'].value_counts().sort_index()"
   ]
  },
  {
   "cell_type": "code",
   "execution_count": 29,
   "metadata": {
    "scrolled": true
   },
   "outputs": [
    {
     "data": {
      "text/html": [
       "<div>\n",
       "<style scoped>\n",
       "    .dataframe tbody tr th:only-of-type {\n",
       "        vertical-align: middle;\n",
       "    }\n",
       "\n",
       "    .dataframe tbody tr th {\n",
       "        vertical-align: top;\n",
       "    }\n",
       "\n",
       "    .dataframe thead th {\n",
       "        text-align: right;\n",
       "    }\n",
       "</style>\n",
       "<table border=\"1\" class=\"dataframe\">\n",
       "  <thead>\n",
       "    <tr style=\"text-align: right;\">\n",
       "      <th></th>\n",
       "      <th>children</th>\n",
       "      <th>days_employed</th>\n",
       "      <th>dob_years</th>\n",
       "      <th>education</th>\n",
       "      <th>education_id</th>\n",
       "      <th>family_status</th>\n",
       "      <th>family_status_id</th>\n",
       "      <th>gender</th>\n",
       "      <th>income_type</th>\n",
       "      <th>debt</th>\n",
       "      <th>total_income</th>\n",
       "      <th>purpose</th>\n",
       "    </tr>\n",
       "  </thead>\n",
       "  <tbody>\n",
       "    <tr>\n",
       "      <td>99</td>\n",
       "      <td>0</td>\n",
       "      <td>0</td>\n",
       "      <td>0</td>\n",
       "      <td>secondary education</td>\n",
       "      <td>1</td>\n",
       "      <td>married</td>\n",
       "      <td>0</td>\n",
       "      <td>F</td>\n",
       "      <td>retiree</td>\n",
       "      <td>0</td>\n",
       "      <td>11406</td>\n",
       "      <td>car</td>\n",
       "    </tr>\n",
       "    <tr>\n",
       "      <td>149</td>\n",
       "      <td>0</td>\n",
       "      <td>0</td>\n",
       "      <td>0</td>\n",
       "      <td>secondary education</td>\n",
       "      <td>1</td>\n",
       "      <td>divorced</td>\n",
       "      <td>3</td>\n",
       "      <td>F</td>\n",
       "      <td>employee</td>\n",
       "      <td>0</td>\n",
       "      <td>11228</td>\n",
       "      <td>housing transactions</td>\n",
       "    </tr>\n",
       "    <tr>\n",
       "      <td>270</td>\n",
       "      <td>3</td>\n",
       "      <td>3</td>\n",
       "      <td>0</td>\n",
       "      <td>secondary education</td>\n",
       "      <td>1</td>\n",
       "      <td>married</td>\n",
       "      <td>0</td>\n",
       "      <td>F</td>\n",
       "      <td>employee</td>\n",
       "      <td>0</td>\n",
       "      <td>16346</td>\n",
       "      <td>housing renovation</td>\n",
       "    </tr>\n",
       "    <tr>\n",
       "      <td>578</td>\n",
       "      <td>0</td>\n",
       "      <td>0</td>\n",
       "      <td>0</td>\n",
       "      <td>secondary education</td>\n",
       "      <td>1</td>\n",
       "      <td>married</td>\n",
       "      <td>0</td>\n",
       "      <td>F</td>\n",
       "      <td>retiree</td>\n",
       "      <td>0</td>\n",
       "      <td>15619</td>\n",
       "      <td>construction of own property</td>\n",
       "    </tr>\n",
       "    <tr>\n",
       "      <td>1040</td>\n",
       "      <td>0</td>\n",
       "      <td>0</td>\n",
       "      <td>0</td>\n",
       "      <td>bachelor's degree</td>\n",
       "      <td>0</td>\n",
       "      <td>divorced</td>\n",
       "      <td>3</td>\n",
       "      <td>F</td>\n",
       "      <td>business</td>\n",
       "      <td>0</td>\n",
       "      <td>48639</td>\n",
       "      <td>to own a car</td>\n",
       "    </tr>\n",
       "    <tr>\n",
       "      <td>...</td>\n",
       "      <td>...</td>\n",
       "      <td>...</td>\n",
       "      <td>...</td>\n",
       "      <td>...</td>\n",
       "      <td>...</td>\n",
       "      <td>...</td>\n",
       "      <td>...</td>\n",
       "      <td>...</td>\n",
       "      <td>...</td>\n",
       "      <td>...</td>\n",
       "      <td>...</td>\n",
       "      <td>...</td>\n",
       "    </tr>\n",
       "    <tr>\n",
       "      <td>19769</td>\n",
       "      <td>0</td>\n",
       "      <td>0</td>\n",
       "      <td>0</td>\n",
       "      <td>secondary education</td>\n",
       "      <td>1</td>\n",
       "      <td>married</td>\n",
       "      <td>0</td>\n",
       "      <td>F</td>\n",
       "      <td>employee</td>\n",
       "      <td>0</td>\n",
       "      <td>21848</td>\n",
       "      <td>housing</td>\n",
       "    </tr>\n",
       "    <tr>\n",
       "      <td>20396</td>\n",
       "      <td>0</td>\n",
       "      <td>0</td>\n",
       "      <td>0</td>\n",
       "      <td>secondary education</td>\n",
       "      <td>1</td>\n",
       "      <td>married</td>\n",
       "      <td>0</td>\n",
       "      <td>F</td>\n",
       "      <td>retiree</td>\n",
       "      <td>0</td>\n",
       "      <td>41471</td>\n",
       "      <td>purchase of my own house</td>\n",
       "    </tr>\n",
       "    <tr>\n",
       "      <td>20511</td>\n",
       "      <td>0</td>\n",
       "      <td>0</td>\n",
       "      <td>0</td>\n",
       "      <td>secondary education</td>\n",
       "      <td>1</td>\n",
       "      <td>unmarried</td>\n",
       "      <td>4</td>\n",
       "      <td>F</td>\n",
       "      <td>retiree</td>\n",
       "      <td>0</td>\n",
       "      <td>20766</td>\n",
       "      <td>property</td>\n",
       "    </tr>\n",
       "    <tr>\n",
       "      <td>21109</td>\n",
       "      <td>2</td>\n",
       "      <td>2</td>\n",
       "      <td>0</td>\n",
       "      <td>bachelor's degree</td>\n",
       "      <td>0</td>\n",
       "      <td>married</td>\n",
       "      <td>0</td>\n",
       "      <td>M</td>\n",
       "      <td>business</td>\n",
       "      <td>0</td>\n",
       "      <td>38512</td>\n",
       "      <td>building a real estate</td>\n",
       "    </tr>\n",
       "    <tr>\n",
       "      <td>21242</td>\n",
       "      <td>0</td>\n",
       "      <td>0</td>\n",
       "      <td>0</td>\n",
       "      <td>secondary education</td>\n",
       "      <td>1</td>\n",
       "      <td>unmarried</td>\n",
       "      <td>4</td>\n",
       "      <td>M</td>\n",
       "      <td>employee</td>\n",
       "      <td>0</td>\n",
       "      <td>24387</td>\n",
       "      <td>housing transactions</td>\n",
       "    </tr>\n",
       "  </tbody>\n",
       "</table>\n",
       "<p>101 rows × 12 columns</p>\n",
       "</div>"
      ],
      "text/plain": [
       "       children  days_employed  dob_years            education  education_id  \\\n",
       "99            0              0          0  secondary education             1   \n",
       "149           0              0          0  secondary education             1   \n",
       "270           3              3          0  secondary education             1   \n",
       "578           0              0          0  secondary education             1   \n",
       "1040          0              0          0    bachelor's degree             0   \n",
       "...         ...            ...        ...                  ...           ...   \n",
       "19769         0              0          0  secondary education             1   \n",
       "20396         0              0          0  secondary education             1   \n",
       "20511         0              0          0  secondary education             1   \n",
       "21109         2              2          0    bachelor's degree             0   \n",
       "21242         0              0          0  secondary education             1   \n",
       "\n",
       "      family_status  family_status_id gender income_type  debt  total_income  \\\n",
       "99          married                 0      F     retiree     0         11406   \n",
       "149        divorced                 3      F    employee     0         11228   \n",
       "270         married                 0      F    employee     0         16346   \n",
       "578         married                 0      F     retiree     0         15619   \n",
       "1040       divorced                 3      F    business     0         48639   \n",
       "...             ...               ...    ...         ...   ...           ...   \n",
       "19769       married                 0      F    employee     0         21848   \n",
       "20396       married                 0      F     retiree     0         41471   \n",
       "20511     unmarried                 4      F     retiree     0         20766   \n",
       "21109       married                 0      M    business     0         38512   \n",
       "21242     unmarried                 4      M    employee     0         24387   \n",
       "\n",
       "                            purpose  \n",
       "99                              car  \n",
       "149            housing transactions  \n",
       "270              housing renovation  \n",
       "578    construction of own property  \n",
       "1040                   to own a car  \n",
       "...                             ...  \n",
       "19769                       housing  \n",
       "20396      purchase of my own house  \n",
       "20511                      property  \n",
       "21109        building a real estate  \n",
       "21242          housing transactions  \n",
       "\n",
       "[101 rows x 12 columns]"
      ]
     },
     "execution_count": 29,
     "metadata": {},
     "output_type": "execute_result"
    }
   ],
   "source": [
    "credit_score[credit_score['dob_years']==0]"
   ]
  },
  {
   "cell_type": "markdown",
   "metadata": {},
   "source": [
    "* married,\n",
    "* divorced,\n",
    "* unmarried,\n",
    "* widow / widower and\n",
    "* civil partnership \n",
    "\n",
    "have 0 age recorded for them, a case which is unlikely. Possible entry errors might have caused these to happen. To correct this, the median true ages of the individuals in the column have been used in filling them out instaed of delating them entirely."
   ]
  },
  {
   "cell_type": "code",
   "execution_count": 30,
   "metadata": {},
   "outputs": [],
   "source": [
    "credit_score.loc[(credit_score.dob_years ==0),'dob_years']=credit_score['dob_years'].median()"
   ]
  },
  {
   "cell_type": "code",
   "execution_count": 31,
   "metadata": {},
   "outputs": [
    {
     "data": {
      "image/png": "[encoded data removed]",
      "text/plain": [
       "<Figure size 432x288 with 1 Axes>"
      ]
     },
     "metadata": {
      "needs_background": "light"
     },
     "output_type": "display_data"
    }
   ],
   "source": [
    "#Reviewer's code\n",
    "import matplotlib.pyplot as plt\n",
    "credit_score['dob_years'].hist(bins=100, edgecolor='black')\n",
    "plt.title('Histogram of age', size=13)\n",
    "plt.xlabel('Age')\n",
    "plt.ylabel('Count')\n",
    "plt.show()"
   ]
  },
  {
   "cell_type": "code",
   "execution_count": 32,
   "metadata": {},
   "outputs": [
    {
     "data": {
      "text/plain": [
       "count    21453.000000\n",
       "mean        43.469864\n",
       "std         12.213443\n",
       "min         19.000000\n",
       "25%         33.000000\n",
       "50%         42.000000\n",
       "75%         53.000000\n",
       "max         75.000000\n",
       "Name: dob_years, dtype: float64"
      ]
     },
     "execution_count": 32,
     "metadata": {},
     "output_type": "execute_result"
    }
   ],
   "source": [
    "credit_score['dob_years'].describe()"
   ]
  },
  {
   "cell_type": "markdown",
   "metadata": {},
   "source": [
    "By this, we know the ages of the dataset ranges from 19 to 75 with the mean age of 43. An age grouping was done for the column to enable ease of use in the analysis."
   ]
  },
  {
   "cell_type": "code",
   "execution_count": 33,
   "metadata": {},
   "outputs": [
    {
     "data": {
      "text/html": [
       "<div>\n",
       "<style scoped>\n",
       "    .dataframe tbody tr th:only-of-type {\n",
       "        vertical-align: middle;\n",
       "    }\n",
       "\n",
       "    .dataframe tbody tr th {\n",
       "        vertical-align: top;\n",
       "    }\n",
       "\n",
       "    .dataframe thead th {\n",
       "        text-align: right;\n",
       "    }\n",
       "</style>\n",
       "<table border=\"1\" class=\"dataframe\">\n",
       "  <thead>\n",
       "    <tr style=\"text-align: right;\">\n",
       "      <th></th>\n",
       "      <th>children</th>\n",
       "      <th>days_employed</th>\n",
       "      <th>dob_years</th>\n",
       "      <th>education</th>\n",
       "      <th>education_id</th>\n",
       "      <th>family_status</th>\n",
       "      <th>family_status_id</th>\n",
       "      <th>gender</th>\n",
       "      <th>income_type</th>\n",
       "      <th>debt</th>\n",
       "      <th>total_income</th>\n",
       "      <th>purpose</th>\n",
       "      <th>year_group</th>\n",
       "    </tr>\n",
       "  </thead>\n",
       "  <tbody>\n",
       "    <tr>\n",
       "      <td>0</td>\n",
       "      <td>1</td>\n",
       "      <td>1</td>\n",
       "      <td>42.0</td>\n",
       "      <td>bachelor's degree</td>\n",
       "      <td>0</td>\n",
       "      <td>married</td>\n",
       "      <td>0</td>\n",
       "      <td>F</td>\n",
       "      <td>employee</td>\n",
       "      <td>0</td>\n",
       "      <td>40620</td>\n",
       "      <td>purchase of the house</td>\n",
       "      <td>40-49</td>\n",
       "    </tr>\n",
       "    <tr>\n",
       "      <td>1</td>\n",
       "      <td>1</td>\n",
       "      <td>1</td>\n",
       "      <td>36.0</td>\n",
       "      <td>secondary education</td>\n",
       "      <td>1</td>\n",
       "      <td>married</td>\n",
       "      <td>0</td>\n",
       "      <td>F</td>\n",
       "      <td>employee</td>\n",
       "      <td>0</td>\n",
       "      <td>17932</td>\n",
       "      <td>car purchase</td>\n",
       "      <td>30-39</td>\n",
       "    </tr>\n",
       "    <tr>\n",
       "      <td>2</td>\n",
       "      <td>0</td>\n",
       "      <td>0</td>\n",
       "      <td>33.0</td>\n",
       "      <td>secondary education</td>\n",
       "      <td>1</td>\n",
       "      <td>married</td>\n",
       "      <td>0</td>\n",
       "      <td>M</td>\n",
       "      <td>employee</td>\n",
       "      <td>0</td>\n",
       "      <td>23341</td>\n",
       "      <td>purchase of the house</td>\n",
       "      <td>30-39</td>\n",
       "    </tr>\n",
       "    <tr>\n",
       "      <td>3</td>\n",
       "      <td>3</td>\n",
       "      <td>3</td>\n",
       "      <td>32.0</td>\n",
       "      <td>secondary education</td>\n",
       "      <td>1</td>\n",
       "      <td>married</td>\n",
       "      <td>0</td>\n",
       "      <td>M</td>\n",
       "      <td>employee</td>\n",
       "      <td>0</td>\n",
       "      <td>42820</td>\n",
       "      <td>supplementary education</td>\n",
       "      <td>30-39</td>\n",
       "    </tr>\n",
       "    <tr>\n",
       "      <td>4</td>\n",
       "      <td>0</td>\n",
       "      <td>0</td>\n",
       "      <td>53.0</td>\n",
       "      <td>secondary education</td>\n",
       "      <td>1</td>\n",
       "      <td>civil partnership</td>\n",
       "      <td>1</td>\n",
       "      <td>F</td>\n",
       "      <td>retiree</td>\n",
       "      <td>0</td>\n",
       "      <td>25378</td>\n",
       "      <td>to have a wedding</td>\n",
       "      <td>50-59</td>\n",
       "    </tr>\n",
       "  </tbody>\n",
       "</table>\n",
       "</div>"
      ],
      "text/plain": [
       "   children  days_employed  dob_years            education  education_id  \\\n",
       "0         1              1       42.0    bachelor's degree             0   \n",
       "1         1              1       36.0  secondary education             1   \n",
       "2         0              0       33.0  secondary education             1   \n",
       "3         3              3       32.0  secondary education             1   \n",
       "4         0              0       53.0  secondary education             1   \n",
       "\n",
       "       family_status  family_status_id gender income_type  debt  total_income  \\\n",
       "0            married                 0      F    employee     0         40620   \n",
       "1            married                 0      F    employee     0         17932   \n",
       "2            married                 0      M    employee     0         23341   \n",
       "3            married                 0      M    employee     0         42820   \n",
       "4  civil partnership                 1      F     retiree     0         25378   \n",
       "\n",
       "                   purpose year_group  \n",
       "0    purchase of the house      40-49  \n",
       "1             car purchase      30-39  \n",
       "2    purchase of the house      30-39  \n",
       "3  supplementary education      30-39  \n",
       "4        to have a wedding      50-59  "
      ]
     },
     "execution_count": 33,
     "metadata": {},
     "output_type": "execute_result"
    }
   ],
   "source": [
    "def assign_age_group(dob_years):\n",
    "    if dob_years <=19 or pd.isna(dob_years):\n",
    "        return 'Under Age'\n",
    "    elif dob_years < 30:\n",
    "        return '20-29'\n",
    "    elif dob_years < 40:\n",
    "        return '30-39'\n",
    "    elif dob_years < 50:\n",
    "        return '40-49'\n",
    "    elif dob_years < 60:\n",
    "        return '50-59'\n",
    "    elif dob_years <70:\n",
    "        return '60-69'\n",
    "    else:\n",
    "        return '70+'\n",
    "credit_score['year_group'] = credit_score['dob_years'].apply(assign_age_group)\n",
    "credit_score.head()"
   ]
  },
  {
   "cell_type": "markdown",
   "metadata": {},
   "source": [
    "The dob_years which cover the ages of the individual was analyzed in row 32 based on which the categorization/grouping in row 33 carried out. With the least age being 19 and 75 being the oldest."
   ]
  },
  {
   "cell_type": "code",
   "execution_count": 34,
   "metadata": {},
   "outputs": [
    {
     "data": {
      "text/html": [
       "<div>\n",
       "<style scoped>\n",
       "    .dataframe tbody tr th:only-of-type {\n",
       "        vertical-align: middle;\n",
       "    }\n",
       "\n",
       "    .dataframe tbody tr th {\n",
       "        vertical-align: top;\n",
       "    }\n",
       "\n",
       "    .dataframe thead th {\n",
       "        text-align: right;\n",
       "    }\n",
       "</style>\n",
       "<table border=\"1\" class=\"dataframe\">\n",
       "  <thead>\n",
       "    <tr style=\"text-align: right;\">\n",
       "      <th></th>\n",
       "      <th>children</th>\n",
       "      <th>gender</th>\n",
       "      <th>year_group</th>\n",
       "      <th>debt</th>\n",
       "    </tr>\n",
       "  </thead>\n",
       "  <tbody>\n",
       "    <tr>\n",
       "      <td>0</td>\n",
       "      <td>1</td>\n",
       "      <td>F</td>\n",
       "      <td>40-49</td>\n",
       "      <td>0</td>\n",
       "    </tr>\n",
       "    <tr>\n",
       "      <td>1</td>\n",
       "      <td>1</td>\n",
       "      <td>F</td>\n",
       "      <td>30-39</td>\n",
       "      <td>0</td>\n",
       "    </tr>\n",
       "    <tr>\n",
       "      <td>2</td>\n",
       "      <td>0</td>\n",
       "      <td>M</td>\n",
       "      <td>30-39</td>\n",
       "      <td>0</td>\n",
       "    </tr>\n",
       "    <tr>\n",
       "      <td>3</td>\n",
       "      <td>3</td>\n",
       "      <td>M</td>\n",
       "      <td>30-39</td>\n",
       "      <td>0</td>\n",
       "    </tr>\n",
       "    <tr>\n",
       "      <td>4</td>\n",
       "      <td>0</td>\n",
       "      <td>F</td>\n",
       "      <td>50-59</td>\n",
       "      <td>0</td>\n",
       "    </tr>\n",
       "    <tr>\n",
       "      <td>...</td>\n",
       "      <td>...</td>\n",
       "      <td>...</td>\n",
       "      <td>...</td>\n",
       "      <td>...</td>\n",
       "    </tr>\n",
       "    <tr>\n",
       "      <td>21448</td>\n",
       "      <td>1</td>\n",
       "      <td>F</td>\n",
       "      <td>40-49</td>\n",
       "      <td>0</td>\n",
       "    </tr>\n",
       "    <tr>\n",
       "      <td>21449</td>\n",
       "      <td>0</td>\n",
       "      <td>F</td>\n",
       "      <td>60-69</td>\n",
       "      <td>0</td>\n",
       "    </tr>\n",
       "    <tr>\n",
       "      <td>21450</td>\n",
       "      <td>1</td>\n",
       "      <td>M</td>\n",
       "      <td>30-39</td>\n",
       "      <td>1</td>\n",
       "    </tr>\n",
       "    <tr>\n",
       "      <td>21451</td>\n",
       "      <td>3</td>\n",
       "      <td>M</td>\n",
       "      <td>30-39</td>\n",
       "      <td>1</td>\n",
       "    </tr>\n",
       "    <tr>\n",
       "      <td>21452</td>\n",
       "      <td>2</td>\n",
       "      <td>F</td>\n",
       "      <td>40-49</td>\n",
       "      <td>0</td>\n",
       "    </tr>\n",
       "  </tbody>\n",
       "</table>\n",
       "<p>21453 rows × 4 columns</p>\n",
       "</div>"
      ],
      "text/plain": [
       "       children gender year_group  debt\n",
       "0             1      F      40-49     0\n",
       "1             1      F      30-39     0\n",
       "2             0      M      30-39     0\n",
       "3             3      M      30-39     0\n",
       "4             0      F      50-59     0\n",
       "...         ...    ...        ...   ...\n",
       "21448         1      F      40-49     0\n",
       "21449         0      F      60-69     0\n",
       "21450         1      M      30-39     1\n",
       "21451         3      M      30-39     1\n",
       "21452         2      F      40-49     0\n",
       "\n",
       "[21453 rows x 4 columns]"
      ]
     },
     "execution_count": 34,
     "metadata": {},
     "output_type": "execute_result"
    }
   ],
   "source": [
    "child_loan_default =credit_score[['children','gender','year_group','debt']]\n",
    "child_loan_default"
   ]
  },
  {
   "cell_type": "code",
   "execution_count": 35,
   "metadata": {},
   "outputs": [
    {
     "data": {
      "text/plain": [
       "0    14090\n",
       "1     4855\n",
       "2     2128\n",
       "3      330\n",
       "4       41\n",
       "5        9\n",
       "Name: children, dtype: int64"
      ]
     },
     "execution_count": 35,
     "metadata": {},
     "output_type": "execute_result"
    }
   ],
   "source": [
    "child_loan_default['children'].value_counts()"
   ]
  },
  {
   "cell_type": "code",
   "execution_count": 36,
   "metadata": {},
   "outputs": [
    {
     "name": "stderr",
     "output_type": "stream",
     "text": [
      "/opt/conda/lib/python3.7/site-packages/ipykernel_launcher.py:32: SettingWithCopyWarning: \n",
      "A value is trying to be set on a copy of a slice from a DataFrame.\n",
      "Try using .loc[row_indexer,col_indexer] = value instead\n",
      "\n",
      "See the caveats in the documentation: http://pandas.pydata.org/pandas-docs/stable/user_guide/indexing.html#returning-a-view-versus-a-copy\n"
     ]
    },
    {
     "data": {
      "text/html": [
       "<div>\n",
       "<style scoped>\n",
       "    .dataframe tbody tr th:only-of-type {\n",
       "        vertical-align: middle;\n",
       "    }\n",
       "\n",
       "    .dataframe tbody tr th {\n",
       "        vertical-align: top;\n",
       "    }\n",
       "\n",
       "    .dataframe thead th {\n",
       "        text-align: right;\n",
       "    }\n",
       "</style>\n",
       "<table border=\"1\" class=\"dataframe\">\n",
       "  <thead>\n",
       "    <tr style=\"text-align: right;\">\n",
       "      <th></th>\n",
       "      <th>children</th>\n",
       "      <th>gender</th>\n",
       "      <th>year_group</th>\n",
       "      <th>debt</th>\n",
       "      <th>default_status</th>\n",
       "    </tr>\n",
       "  </thead>\n",
       "  <tbody>\n",
       "    <tr>\n",
       "      <td>0</td>\n",
       "      <td>1</td>\n",
       "      <td>F</td>\n",
       "      <td>40-49</td>\n",
       "      <td>0</td>\n",
       "      <td>least Non-defaulter</td>\n",
       "    </tr>\n",
       "    <tr>\n",
       "      <td>1</td>\n",
       "      <td>1</td>\n",
       "      <td>F</td>\n",
       "      <td>30-39</td>\n",
       "      <td>0</td>\n",
       "      <td>least Non-defaulter</td>\n",
       "    </tr>\n",
       "    <tr>\n",
       "      <td>2</td>\n",
       "      <td>0</td>\n",
       "      <td>M</td>\n",
       "      <td>30-39</td>\n",
       "      <td>0</td>\n",
       "      <td>Not eligible</td>\n",
       "    </tr>\n",
       "    <tr>\n",
       "      <td>3</td>\n",
       "      <td>3</td>\n",
       "      <td>M</td>\n",
       "      <td>30-39</td>\n",
       "      <td>0</td>\n",
       "      <td>Min Non-defaulter</td>\n",
       "    </tr>\n",
       "    <tr>\n",
       "      <td>4</td>\n",
       "      <td>0</td>\n",
       "      <td>F</td>\n",
       "      <td>50-59</td>\n",
       "      <td>0</td>\n",
       "      <td>Not eligible</td>\n",
       "    </tr>\n",
       "    <tr>\n",
       "      <td>...</td>\n",
       "      <td>...</td>\n",
       "      <td>...</td>\n",
       "      <td>...</td>\n",
       "      <td>...</td>\n",
       "      <td>...</td>\n",
       "    </tr>\n",
       "    <tr>\n",
       "      <td>21448</td>\n",
       "      <td>1</td>\n",
       "      <td>F</td>\n",
       "      <td>40-49</td>\n",
       "      <td>0</td>\n",
       "      <td>least Non-defaulter</td>\n",
       "    </tr>\n",
       "    <tr>\n",
       "      <td>21449</td>\n",
       "      <td>0</td>\n",
       "      <td>F</td>\n",
       "      <td>60-69</td>\n",
       "      <td>0</td>\n",
       "      <td>Not eligible</td>\n",
       "    </tr>\n",
       "    <tr>\n",
       "      <td>21450</td>\n",
       "      <td>1</td>\n",
       "      <td>M</td>\n",
       "      <td>30-39</td>\n",
       "      <td>1</td>\n",
       "      <td>least defaulter</td>\n",
       "    </tr>\n",
       "    <tr>\n",
       "      <td>21451</td>\n",
       "      <td>3</td>\n",
       "      <td>M</td>\n",
       "      <td>30-39</td>\n",
       "      <td>1</td>\n",
       "      <td>Min defaulter</td>\n",
       "    </tr>\n",
       "    <tr>\n",
       "      <td>21452</td>\n",
       "      <td>2</td>\n",
       "      <td>F</td>\n",
       "      <td>40-49</td>\n",
       "      <td>0</td>\n",
       "      <td>Before min Non-defaulter</td>\n",
       "    </tr>\n",
       "  </tbody>\n",
       "</table>\n",
       "<p>21453 rows × 5 columns</p>\n",
       "</div>"
      ],
      "text/plain": [
       "       children gender year_group  debt            default_status\n",
       "0             1      F      40-49     0       least Non-defaulter\n",
       "1             1      F      30-39     0       least Non-defaulter\n",
       "2             0      M      30-39     0              Not eligible\n",
       "3             3      M      30-39     0         Min Non-defaulter\n",
       "4             0      F      50-59     0              Not eligible\n",
       "...         ...    ...        ...   ...                       ...\n",
       "21448         1      F      40-49     0       least Non-defaulter\n",
       "21449         0      F      60-69     0              Not eligible\n",
       "21450         1      M      30-39     1           least defaulter\n",
       "21451         3      M      30-39     1             Min defaulter\n",
       "21452         2      F      40-49     0  Before min Non-defaulter\n",
       "\n",
       "[21453 rows x 5 columns]"
      ]
     },
     "execution_count": 36,
     "metadata": {},
     "output_type": "execute_result"
    }
   ],
   "source": [
    "def assign_debt_status(row):\n",
    "    children = row['children']\n",
    "    debt = row['debt']\n",
    "    if children ==0 and debt ==0:\n",
    "        return 'Not eligible'\n",
    "    if children == 0 and debt ==1:\n",
    "        return 'Child not a factor'\n",
    "    if children ==1 and debt==0:\n",
    "        return 'least Non-defaulter'\n",
    "    if children ==1 and debt ==1:\n",
    "        return 'least defaulter'\n",
    "    if children ==2 and debt ==0:\n",
    "        return 'Before min Non-defaulter'\n",
    "    if children ==2 and debt ==1:\n",
    "        return 'Before min Defaulter'\n",
    "    if children ==3 and debt ==0:\n",
    "        return 'Min Non-defaulter'\n",
    "    if children ==3 and debt ==1:\n",
    "        return 'Min defaulter'\n",
    "    if children ==4 and debt ==0:\n",
    "        return 'Above min Non-defaulter'\n",
    "    if children ==4 and debt ==0:\n",
    "        return 'Above min Defaulter'\n",
    "    if children >=5 and debt ==0:\n",
    "        return 'Max Non defaulter'\n",
    "    if children >=5 and debt ==1:\n",
    "        return 'Max defaulter'\n",
    "    else:\n",
    "        return 'Anayze further'\n",
    "\n",
    "\n",
    "child_loan_default['default_status'] = child_loan_default.apply(assign_debt_status, axis =1)\n",
    "child_loan_default"
   ]
  },
  {
   "cell_type": "markdown",
   "metadata": {},
   "source": [
    "Here, the age ranges determined in row 33, have been used in combination with the number of children between 0-5 into determining the default status of each age group/category."
   ]
  },
  {
   "cell_type": "markdown",
   "metadata": {},
   "source": [
    "<div style=\"border:solid green 2px; padding: 20px\"> <b>Success:</b><br>\n",
    "   Wow, it's really great that you wrote your own function to divide the bank's customers by the number of children, and moreover, you took into account the <code>debt</code> parameter. Well done! 😊</div>  "
   ]
  },
  {
   "cell_type": "code",
   "execution_count": 37,
   "metadata": {},
   "outputs": [
    {
     "data": {
      "text/plain": [
       "0.024677489673126923"
      ]
     },
     "execution_count": 37,
     "metadata": {},
     "output_type": "execute_result"
    }
   ],
   "source": [
    "child_loan_default['children'].corr(child_loan_default['debt'])"
   ]
  },
  {
   "cell_type": "markdown",
   "metadata": {},
   "source": [
    "<div style=\"border:solid green 2px; padding: 20px\"> <b>Success:</b><br>\n",
    "    Very well that you use <code>corr()</code> function 👍 </div>  "
   ]
  },
  {
   "cell_type": "code",
   "execution_count": 38,
   "metadata": {},
   "outputs": [
    {
     "data": {
      "text/html": [
       "<div>\n",
       "<style scoped>\n",
       "    .dataframe tbody tr th:only-of-type {\n",
       "        vertical-align: middle;\n",
       "    }\n",
       "\n",
       "    .dataframe tbody tr th {\n",
       "        vertical-align: top;\n",
       "    }\n",
       "\n",
       "    .dataframe thead th {\n",
       "        text-align: right;\n",
       "    }\n",
       "</style>\n",
       "<table border=\"1\" class=\"dataframe\">\n",
       "  <thead>\n",
       "    <tr style=\"text-align: right;\">\n",
       "      <th></th>\n",
       "      <th>default_status</th>\n",
       "      <th>Above min Non-defaulter</th>\n",
       "      <th>Anayze further</th>\n",
       "      <th>Before min Defaulter</th>\n",
       "      <th>Before min Non-defaulter</th>\n",
       "      <th>Child not a factor</th>\n",
       "      <th>Max Non defaulter</th>\n",
       "      <th>Min Non-defaulter</th>\n",
       "      <th>Min defaulter</th>\n",
       "      <th>Not eligible</th>\n",
       "      <th>least Non-defaulter</th>\n",
       "      <th>least defaulter</th>\n",
       "      <th>All</th>\n",
       "    </tr>\n",
       "    <tr>\n",
       "      <th>year_group</th>\n",
       "      <th>gender</th>\n",
       "      <th></th>\n",
       "      <th></th>\n",
       "      <th></th>\n",
       "      <th></th>\n",
       "      <th></th>\n",
       "      <th></th>\n",
       "      <th></th>\n",
       "      <th></th>\n",
       "      <th></th>\n",
       "      <th></th>\n",
       "      <th></th>\n",
       "      <th></th>\n",
       "    </tr>\n",
       "  </thead>\n",
       "  <tbody>\n",
       "    <tr>\n",
       "      <td>20-29</td>\n",
       "      <td>M</td>\n",
       "      <td>1.0</td>\n",
       "      <td>1.0</td>\n",
       "      <td>8.0</td>\n",
       "      <td>100.0</td>\n",
       "      <td>116.0</td>\n",
       "      <td>NaN</td>\n",
       "      <td>9.0</td>\n",
       "      <td>1.0</td>\n",
       "      <td>818.0</td>\n",
       "      <td>258.0</td>\n",
       "      <td>43.0</td>\n",
       "      <td>1355</td>\n",
       "    </tr>\n",
       "    <tr>\n",
       "      <td>30-39</td>\n",
       "      <td>M</td>\n",
       "      <td>6.0</td>\n",
       "      <td>NaN</td>\n",
       "      <td>36.0</td>\n",
       "      <td>390.0</td>\n",
       "      <td>107.0</td>\n",
       "      <td>NaN</td>\n",
       "      <td>68.0</td>\n",
       "      <td>5.0</td>\n",
       "      <td>866.0</td>\n",
       "      <td>629.0</td>\n",
       "      <td>83.0</td>\n",
       "      <td>2190</td>\n",
       "    </tr>\n",
       "    <tr>\n",
       "      <td>40-49</td>\n",
       "      <td>M</td>\n",
       "      <td>3.0</td>\n",
       "      <td>1.0</td>\n",
       "      <td>17.0</td>\n",
       "      <td>229.0</td>\n",
       "      <td>105.0</td>\n",
       "      <td>1.0</td>\n",
       "      <td>39.0</td>\n",
       "      <td>4.0</td>\n",
       "      <td>991.0</td>\n",
       "      <td>443.0</td>\n",
       "      <td>51.0</td>\n",
       "      <td>1884</td>\n",
       "    </tr>\n",
       "    <tr>\n",
       "      <td>50-59</td>\n",
       "      <td>M</td>\n",
       "      <td>NaN</td>\n",
       "      <td>1.0</td>\n",
       "      <td>3.0</td>\n",
       "      <td>39.0</td>\n",
       "      <td>105.0</td>\n",
       "      <td>1.0</td>\n",
       "      <td>8.0</td>\n",
       "      <td>NaN</td>\n",
       "      <td>929.0</td>\n",
       "      <td>166.0</td>\n",
       "      <td>19.0</td>\n",
       "      <td>1271</td>\n",
       "    </tr>\n",
       "    <tr>\n",
       "      <td>60-69</td>\n",
       "      <td>M</td>\n",
       "      <td>NaN</td>\n",
       "      <td>NaN</td>\n",
       "      <td>NaN</td>\n",
       "      <td>3.0</td>\n",
       "      <td>35.0</td>\n",
       "      <td>NaN</td>\n",
       "      <td>NaN</td>\n",
       "      <td>NaN</td>\n",
       "      <td>459.0</td>\n",
       "      <td>38.0</td>\n",
       "      <td>2.0</td>\n",
       "      <td>537</td>\n",
       "    </tr>\n",
       "    <tr>\n",
       "      <td>70+</td>\n",
       "      <td>M</td>\n",
       "      <td>NaN</td>\n",
       "      <td>NaN</td>\n",
       "      <td>NaN</td>\n",
       "      <td>NaN</td>\n",
       "      <td>2.0</td>\n",
       "      <td>NaN</td>\n",
       "      <td>NaN</td>\n",
       "      <td>NaN</td>\n",
       "      <td>33.0</td>\n",
       "      <td>2.0</td>\n",
       "      <td>1.0</td>\n",
       "      <td>38</td>\n",
       "    </tr>\n",
       "    <tr>\n",
       "      <td>Under Age</td>\n",
       "      <td>M</td>\n",
       "      <td>NaN</td>\n",
       "      <td>NaN</td>\n",
       "      <td>NaN</td>\n",
       "      <td>NaN</td>\n",
       "      <td>1.0</td>\n",
       "      <td>NaN</td>\n",
       "      <td>NaN</td>\n",
       "      <td>NaN</td>\n",
       "      <td>3.0</td>\n",
       "      <td>NaN</td>\n",
       "      <td>NaN</td>\n",
       "      <td>4</td>\n",
       "    </tr>\n",
       "    <tr>\n",
       "      <td>20-29</td>\n",
       "      <td>F</td>\n",
       "      <td>3.0</td>\n",
       "      <td>NaN</td>\n",
       "      <td>32.0</td>\n",
       "      <td>204.0</td>\n",
       "      <td>92.0</td>\n",
       "      <td>NaN</td>\n",
       "      <td>24.0</td>\n",
       "      <td>2.0</td>\n",
       "      <td>869.0</td>\n",
       "      <td>531.0</td>\n",
       "      <td>53.0</td>\n",
       "      <td>1810</td>\n",
       "    </tr>\n",
       "    <tr>\n",
       "      <td>30-39</td>\n",
       "      <td>F</td>\n",
       "      <td>20.0</td>\n",
       "      <td>1.0</td>\n",
       "      <td>79.0</td>\n",
       "      <td>674.0</td>\n",
       "      <td>118.0</td>\n",
       "      <td>7.0</td>\n",
       "      <td>111.0</td>\n",
       "      <td>12.0</td>\n",
       "      <td>1243.0</td>\n",
       "      <td>1096.0</td>\n",
       "      <td>111.0</td>\n",
       "      <td>3472</td>\n",
       "    </tr>\n",
       "    <tr>\n",
       "      <td>40-49</td>\n",
       "      <td>F</td>\n",
       "      <td>4.0</td>\n",
       "      <td>NaN</td>\n",
       "      <td>24.0</td>\n",
       "      <td>239.0</td>\n",
       "      <td>147.0</td>\n",
       "      <td>NaN</td>\n",
       "      <td>41.0</td>\n",
       "      <td>3.0</td>\n",
       "      <td>2214.0</td>\n",
       "      <td>839.0</td>\n",
       "      <td>60.0</td>\n",
       "      <td>3571</td>\n",
       "    </tr>\n",
       "    <tr>\n",
       "      <td>50-59</td>\n",
       "      <td>F</td>\n",
       "      <td>NaN</td>\n",
       "      <td>NaN</td>\n",
       "      <td>3.0</td>\n",
       "      <td>40.0</td>\n",
       "      <td>156.0</td>\n",
       "      <td>NaN</td>\n",
       "      <td>2.0</td>\n",
       "      <td>NaN</td>\n",
       "      <td>2872.0</td>\n",
       "      <td>295.0</td>\n",
       "      <td>18.0</td>\n",
       "      <td>3386</td>\n",
       "    </tr>\n",
       "    <tr>\n",
       "      <td>60-69</td>\n",
       "      <td>F</td>\n",
       "      <td>NaN</td>\n",
       "      <td>NaN</td>\n",
       "      <td>NaN</td>\n",
       "      <td>8.0</td>\n",
       "      <td>76.0</td>\n",
       "      <td>NaN</td>\n",
       "      <td>1.0</td>\n",
       "      <td>NaN</td>\n",
       "      <td>1599.0</td>\n",
       "      <td>106.0</td>\n",
       "      <td>4.0</td>\n",
       "      <td>1794</td>\n",
       "    </tr>\n",
       "    <tr>\n",
       "      <td>70+</td>\n",
       "      <td>F</td>\n",
       "      <td>NaN</td>\n",
       "      <td>NaN</td>\n",
       "      <td>NaN</td>\n",
       "      <td>NaN</td>\n",
       "      <td>3.0</td>\n",
       "      <td>NaN</td>\n",
       "      <td>NaN</td>\n",
       "      <td>NaN</td>\n",
       "      <td>121.0</td>\n",
       "      <td>7.0</td>\n",
       "      <td>NaN</td>\n",
       "      <td>131</td>\n",
       "    </tr>\n",
       "    <tr>\n",
       "      <td>Under Age</td>\n",
       "      <td>F</td>\n",
       "      <td>NaN</td>\n",
       "      <td>NaN</td>\n",
       "      <td>NaN</td>\n",
       "      <td>NaN</td>\n",
       "      <td>NaN</td>\n",
       "      <td>NaN</td>\n",
       "      <td>NaN</td>\n",
       "      <td>NaN</td>\n",
       "      <td>10.0</td>\n",
       "      <td>NaN</td>\n",
       "      <td>NaN</td>\n",
       "      <td>10</td>\n",
       "    </tr>\n",
       "    <tr>\n",
       "      <td>All</td>\n",
       "      <td></td>\n",
       "      <td>37.0</td>\n",
       "      <td>4.0</td>\n",
       "      <td>202.0</td>\n",
       "      <td>1926.0</td>\n",
       "      <td>1063.0</td>\n",
       "      <td>9.0</td>\n",
       "      <td>303.0</td>\n",
       "      <td>27.0</td>\n",
       "      <td>13027.0</td>\n",
       "      <td>4410.0</td>\n",
       "      <td>445.0</td>\n",
       "      <td>21453</td>\n",
       "    </tr>\n",
       "  </tbody>\n",
       "</table>\n",
       "</div>"
      ],
      "text/plain": [
       "default_status     Above min Non-defaulter  Anayze further  \\\n",
       "year_group gender                                            \n",
       "20-29      M                           1.0             1.0   \n",
       "30-39      M                           6.0             NaN   \n",
       "40-49      M                           3.0             1.0   \n",
       "50-59      M                           NaN             1.0   \n",
       "60-69      M                           NaN             NaN   \n",
       "70+        M                           NaN             NaN   \n",
       "Under Age  M                           NaN             NaN   \n",
       "20-29      F                           3.0             NaN   \n",
       "30-39      F                          20.0             1.0   \n",
       "40-49      F                           4.0             NaN   \n",
       "50-59      F                           NaN             NaN   \n",
       "60-69      F                           NaN             NaN   \n",
       "70+        F                           NaN             NaN   \n",
       "Under Age  F                           NaN             NaN   \n",
       "All                                   37.0             4.0   \n",
       "\n",
       "default_status     Before min Defaulter  Before min Non-defaulter  \\\n",
       "year_group gender                                                   \n",
       "20-29      M                        8.0                     100.0   \n",
       "30-39      M                       36.0                     390.0   \n",
       "40-49      M                       17.0                     229.0   \n",
       "50-59      M                        3.0                      39.0   \n",
       "60-69      M                        NaN                       3.0   \n",
       "70+        M                        NaN                       NaN   \n",
       "Under Age  M                        NaN                       NaN   \n",
       "20-29      F                       32.0                     204.0   \n",
       "30-39      F                       79.0                     674.0   \n",
       "40-49      F                       24.0                     239.0   \n",
       "50-59      F                        3.0                      40.0   \n",
       "60-69      F                        NaN                       8.0   \n",
       "70+        F                        NaN                       NaN   \n",
       "Under Age  F                        NaN                       NaN   \n",
       "All                               202.0                    1926.0   \n",
       "\n",
       "default_status     Child not a factor  Max Non defaulter  Min Non-defaulter  \\\n",
       "year_group gender                                                             \n",
       "20-29      M                    116.0                NaN                9.0   \n",
       "30-39      M                    107.0                NaN               68.0   \n",
       "40-49      M                    105.0                1.0               39.0   \n",
       "50-59      M                    105.0                1.0                8.0   \n",
       "60-69      M                     35.0                NaN                NaN   \n",
       "70+        M                      2.0                NaN                NaN   \n",
       "Under Age  M                      1.0                NaN                NaN   \n",
       "20-29      F                     92.0                NaN               24.0   \n",
       "30-39      F                    118.0                7.0              111.0   \n",
       "40-49      F                    147.0                NaN               41.0   \n",
       "50-59      F                    156.0                NaN                2.0   \n",
       "60-69      F                     76.0                NaN                1.0   \n",
       "70+        F                      3.0                NaN                NaN   \n",
       "Under Age  F                      NaN                NaN                NaN   \n",
       "All                            1063.0                9.0              303.0   \n",
       "\n",
       "default_status     Min defaulter  Not eligible  least Non-defaulter  \\\n",
       "year_group gender                                                     \n",
       "20-29      M                 1.0         818.0                258.0   \n",
       "30-39      M                 5.0         866.0                629.0   \n",
       "40-49      M                 4.0         991.0                443.0   \n",
       "50-59      M                 NaN         929.0                166.0   \n",
       "60-69      M                 NaN         459.0                 38.0   \n",
       "70+        M                 NaN          33.0                  2.0   \n",
       "Under Age  M                 NaN           3.0                  NaN   \n",
       "20-29      F                 2.0         869.0                531.0   \n",
       "30-39      F                12.0        1243.0               1096.0   \n",
       "40-49      F                 3.0        2214.0                839.0   \n",
       "50-59      F                 NaN        2872.0                295.0   \n",
       "60-69      F                 NaN        1599.0                106.0   \n",
       "70+        F                 NaN         121.0                  7.0   \n",
       "Under Age  F                 NaN          10.0                  NaN   \n",
       "All                         27.0       13027.0               4410.0   \n",
       "\n",
       "default_status     least defaulter    All  \n",
       "year_group gender                          \n",
       "20-29      M                  43.0   1355  \n",
       "30-39      M                  83.0   2190  \n",
       "40-49      M                  51.0   1884  \n",
       "50-59      M                  19.0   1271  \n",
       "60-69      M                   2.0    537  \n",
       "70+        M                   1.0     38  \n",
       "Under Age  M                   NaN      4  \n",
       "20-29      F                  53.0   1810  \n",
       "30-39      F                 111.0   3472  \n",
       "40-49      F                  60.0   3571  \n",
       "50-59      F                  18.0   3386  \n",
       "60-69      F                   4.0   1794  \n",
       "70+        F                   NaN    131  \n",
       "Under Age  F                   NaN     10  \n",
       "All                          445.0  21453  "
      ]
     },
     "execution_count": 38,
     "metadata": {},
     "output_type": "execute_result"
    }
   ],
   "source": [
    "child_loan_default_pivoted= child_loan_default.pivot_table(index=['year_group','gender'],\n",
    "                              columns='default_status',\n",
    "                             values= 'children',\n",
    "                             aggfunc='count',\n",
    "                             margins=True)\n",
    "child_loan_default_pivoted.sort_values(by='gender',ascending=False)"
   ]
  },
  {
   "cell_type": "markdown",
   "metadata": {},
   "source": [
    "The pivot_table provides summary overview of default_status by gender age grouping. "
   ]
  },
  {
   "cell_type": "code",
   "execution_count": 39,
   "metadata": {},
   "outputs": [
    {
     "data": {
      "text/html": [
       "<div>\n",
       "<style scoped>\n",
       "    .dataframe tbody tr th:only-of-type {\n",
       "        vertical-align: middle;\n",
       "    }\n",
       "\n",
       "    .dataframe tbody tr th {\n",
       "        vertical-align: top;\n",
       "    }\n",
       "\n",
       "    .dataframe thead th {\n",
       "        text-align: right;\n",
       "    }\n",
       "</style>\n",
       "<table border=\"1\" class=\"dataframe\">\n",
       "  <thead>\n",
       "    <tr style=\"text-align: right;\">\n",
       "      <th></th>\n",
       "      <th>family_status_id</th>\n",
       "      <th>gender</th>\n",
       "      <th>year_group</th>\n",
       "      <th>debt</th>\n",
       "    </tr>\n",
       "  </thead>\n",
       "  <tbody>\n",
       "    <tr>\n",
       "      <td>0</td>\n",
       "      <td>0</td>\n",
       "      <td>F</td>\n",
       "      <td>40-49</td>\n",
       "      <td>0</td>\n",
       "    </tr>\n",
       "    <tr>\n",
       "      <td>1</td>\n",
       "      <td>0</td>\n",
       "      <td>F</td>\n",
       "      <td>30-39</td>\n",
       "      <td>0</td>\n",
       "    </tr>\n",
       "    <tr>\n",
       "      <td>2</td>\n",
       "      <td>0</td>\n",
       "      <td>M</td>\n",
       "      <td>30-39</td>\n",
       "      <td>0</td>\n",
       "    </tr>\n",
       "    <tr>\n",
       "      <td>3</td>\n",
       "      <td>0</td>\n",
       "      <td>M</td>\n",
       "      <td>30-39</td>\n",
       "      <td>0</td>\n",
       "    </tr>\n",
       "    <tr>\n",
       "      <td>4</td>\n",
       "      <td>1</td>\n",
       "      <td>F</td>\n",
       "      <td>50-59</td>\n",
       "      <td>0</td>\n",
       "    </tr>\n",
       "    <tr>\n",
       "      <td>...</td>\n",
       "      <td>...</td>\n",
       "      <td>...</td>\n",
       "      <td>...</td>\n",
       "      <td>...</td>\n",
       "    </tr>\n",
       "    <tr>\n",
       "      <td>21448</td>\n",
       "      <td>1</td>\n",
       "      <td>F</td>\n",
       "      <td>40-49</td>\n",
       "      <td>0</td>\n",
       "    </tr>\n",
       "    <tr>\n",
       "      <td>21449</td>\n",
       "      <td>0</td>\n",
       "      <td>F</td>\n",
       "      <td>60-69</td>\n",
       "      <td>0</td>\n",
       "    </tr>\n",
       "    <tr>\n",
       "      <td>21450</td>\n",
       "      <td>1</td>\n",
       "      <td>M</td>\n",
       "      <td>30-39</td>\n",
       "      <td>1</td>\n",
       "    </tr>\n",
       "    <tr>\n",
       "      <td>21451</td>\n",
       "      <td>0</td>\n",
       "      <td>M</td>\n",
       "      <td>30-39</td>\n",
       "      <td>1</td>\n",
       "    </tr>\n",
       "    <tr>\n",
       "      <td>21452</td>\n",
       "      <td>0</td>\n",
       "      <td>F</td>\n",
       "      <td>40-49</td>\n",
       "      <td>0</td>\n",
       "    </tr>\n",
       "  </tbody>\n",
       "</table>\n",
       "<p>21453 rows × 4 columns</p>\n",
       "</div>"
      ],
      "text/plain": [
       "       family_status_id gender year_group  debt\n",
       "0                     0      F      40-49     0\n",
       "1                     0      F      30-39     0\n",
       "2                     0      M      30-39     0\n",
       "3                     0      M      30-39     0\n",
       "4                     1      F      50-59     0\n",
       "...                 ...    ...        ...   ...\n",
       "21448                 1      F      40-49     0\n",
       "21449                 0      F      60-69     0\n",
       "21450                 1      M      30-39     1\n",
       "21451                 0      M      30-39     1\n",
       "21452                 0      F      40-49     0\n",
       "\n",
       "[21453 rows x 4 columns]"
      ]
     },
     "execution_count": 39,
     "metadata": {},
     "output_type": "execute_result"
    }
   ],
   "source": [
    "debt_family_status = credit_score[['family_status_id','gender','year_group','debt']]\n",
    "debt_family_status"
   ]
  },
  {
   "cell_type": "markdown",
   "metadata": {},
   "source": [
    "To help in determing whether family_status has an impact on an individuals ability to repay their loans, family_status_id, gender, year_group and debt data have been extracted from the main dataset. This would then be used into creating a new column default_status base on two parameter; family_status_id and debt."
   ]
  },
  {
   "cell_type": "code",
   "execution_count": 40,
   "metadata": {},
   "outputs": [
    {
     "data": {
      "text/plain": [
       "0    12339\n",
       "1     4150\n",
       "4     2810\n",
       "3     1195\n",
       "2      959\n",
       "Name: family_status_id, dtype: int64"
      ]
     },
     "execution_count": 40,
     "metadata": {},
     "output_type": "execute_result"
    }
   ],
   "source": [
    "debt_family_status['family_status_id'].value_counts()"
   ]
  },
  {
   "cell_type": "code",
   "execution_count": 41,
   "metadata": {},
   "outputs": [
    {
     "name": "stderr",
     "output_type": "stream",
     "text": [
      "/opt/conda/lib/python3.7/site-packages/ipykernel_launcher.py:28: SettingWithCopyWarning: \n",
      "A value is trying to be set on a copy of a slice from a DataFrame.\n",
      "Try using .loc[row_indexer,col_indexer] = value instead\n",
      "\n",
      "See the caveats in the documentation: http://pandas.pydata.org/pandas-docs/stable/user_guide/indexing.html#returning-a-view-versus-a-copy\n"
     ]
    },
    {
     "data": {
      "text/html": [
       "<div>\n",
       "<style scoped>\n",
       "    .dataframe tbody tr th:only-of-type {\n",
       "        vertical-align: middle;\n",
       "    }\n",
       "\n",
       "    .dataframe tbody tr th {\n",
       "        vertical-align: top;\n",
       "    }\n",
       "\n",
       "    .dataframe thead th {\n",
       "        text-align: right;\n",
       "    }\n",
       "</style>\n",
       "<table border=\"1\" class=\"dataframe\">\n",
       "  <thead>\n",
       "    <tr style=\"text-align: right;\">\n",
       "      <th></th>\n",
       "      <th>family_status_id</th>\n",
       "      <th>gender</th>\n",
       "      <th>year_group</th>\n",
       "      <th>debt</th>\n",
       "      <th>DF_Status</th>\n",
       "    </tr>\n",
       "  </thead>\n",
       "  <tbody>\n",
       "    <tr>\n",
       "      <td>0</td>\n",
       "      <td>0</td>\n",
       "      <td>F</td>\n",
       "      <td>40-49</td>\n",
       "      <td>0</td>\n",
       "      <td>Power of Two</td>\n",
       "    </tr>\n",
       "    <tr>\n",
       "      <td>1</td>\n",
       "      <td>0</td>\n",
       "      <td>F</td>\n",
       "      <td>30-39</td>\n",
       "      <td>0</td>\n",
       "      <td>Power of Two</td>\n",
       "    </tr>\n",
       "    <tr>\n",
       "      <td>2</td>\n",
       "      <td>0</td>\n",
       "      <td>M</td>\n",
       "      <td>30-39</td>\n",
       "      <td>0</td>\n",
       "      <td>Power of Two</td>\n",
       "    </tr>\n",
       "    <tr>\n",
       "      <td>3</td>\n",
       "      <td>0</td>\n",
       "      <td>M</td>\n",
       "      <td>30-39</td>\n",
       "      <td>0</td>\n",
       "      <td>Power of Two</td>\n",
       "    </tr>\n",
       "    <tr>\n",
       "      <td>4</td>\n",
       "      <td>1</td>\n",
       "      <td>F</td>\n",
       "      <td>50-59</td>\n",
       "      <td>0</td>\n",
       "      <td>True Civil Partners</td>\n",
       "    </tr>\n",
       "    <tr>\n",
       "      <td>...</td>\n",
       "      <td>...</td>\n",
       "      <td>...</td>\n",
       "      <td>...</td>\n",
       "      <td>...</td>\n",
       "      <td>...</td>\n",
       "    </tr>\n",
       "    <tr>\n",
       "      <td>21448</td>\n",
       "      <td>1</td>\n",
       "      <td>F</td>\n",
       "      <td>40-49</td>\n",
       "      <td>0</td>\n",
       "      <td>True Civil Partners</td>\n",
       "    </tr>\n",
       "    <tr>\n",
       "      <td>21449</td>\n",
       "      <td>0</td>\n",
       "      <td>F</td>\n",
       "      <td>60-69</td>\n",
       "      <td>0</td>\n",
       "      <td>Power of Two</td>\n",
       "    </tr>\n",
       "    <tr>\n",
       "      <td>21450</td>\n",
       "      <td>1</td>\n",
       "      <td>M</td>\n",
       "      <td>30-39</td>\n",
       "      <td>1</td>\n",
       "      <td>Civil Defualters</td>\n",
       "    </tr>\n",
       "    <tr>\n",
       "      <td>21451</td>\n",
       "      <td>0</td>\n",
       "      <td>M</td>\n",
       "      <td>30-39</td>\n",
       "      <td>1</td>\n",
       "      <td>Married defaulter</td>\n",
       "    </tr>\n",
       "    <tr>\n",
       "      <td>21452</td>\n",
       "      <td>0</td>\n",
       "      <td>F</td>\n",
       "      <td>40-49</td>\n",
       "      <td>0</td>\n",
       "      <td>Power of Two</td>\n",
       "    </tr>\n",
       "  </tbody>\n",
       "</table>\n",
       "<p>21453 rows × 5 columns</p>\n",
       "</div>"
      ],
      "text/plain": [
       "       family_status_id gender year_group  debt            DF_Status\n",
       "0                     0      F      40-49     0         Power of Two\n",
       "1                     0      F      30-39     0         Power of Two\n",
       "2                     0      M      30-39     0         Power of Two\n",
       "3                     0      M      30-39     0         Power of Two\n",
       "4                     1      F      50-59     0  True Civil Partners\n",
       "...                 ...    ...        ...   ...                  ...\n",
       "21448                 1      F      40-49     0  True Civil Partners\n",
       "21449                 0      F      60-69     0         Power of Two\n",
       "21450                 1      M      30-39     1     Civil Defualters\n",
       "21451                 0      M      30-39     1    Married defaulter\n",
       "21452                 0      F      40-49     0         Power of Two\n",
       "\n",
       "[21453 rows x 5 columns]"
      ]
     },
     "execution_count": 41,
     "metadata": {},
     "output_type": "execute_result"
    }
   ],
   "source": [
    "def assign_debt_family_status(row):\n",
    "    family_status_id = row['family_status_id']\n",
    "    debt = row['debt']\n",
    "    if family_status_id ==0 and debt ==0:\n",
    "        return 'Power of Two'\n",
    "    if family_status_id == 0 and debt ==1:\n",
    "        return 'Married defaulter'\n",
    "    if family_status_id ==1 and debt==0:\n",
    "        return 'True Civil Partners'\n",
    "    if family_status_id ==1 and debt ==1:\n",
    "        return 'Civil Defualters'\n",
    "    if family_status_id ==2 and debt ==0:\n",
    "        return 'Happy widow/widower'\n",
    "    if family_status_id ==2 and debt ==1:\n",
    "        return 'Widow/widower defaulter'\n",
    "    if family_status_id ==3 and debt ==0:\n",
    "        return 'Happy divorcee'\n",
    "    if family_status_id ==3 and debt ==1:\n",
    "        return 'Divorced Defaulter'\n",
    "    if family_status_id ==4 and debt ==0:\n",
    "        return 'Single and Free'\n",
    "    if family_status_id ==4 and debt ==1:\n",
    "        return 'Single Red Alert'\n",
    "    else:\n",
    "        return 'Anayze further'\n",
    "\n",
    "\n",
    "debt_family_status['DF_Status'] = debt_family_status.apply(assign_debt_family_status, axis =1)\n",
    "debt_family_status"
   ]
  },
  {
   "cell_type": "markdown",
   "metadata": {},
   "source": [
    "Where;\n",
    "* familiy_status_id (0)= Married\n",
    "* familiy_status_id (1)= Civil partnership\n",
    "* familiy_status_id (2)= widow/widower e.t.c\n",
    "\n",
    "the classification has made it then easy to determine whether indeed, there is a relationship between a persons family status and their ability to payoff their loans on time."
   ]
  },
  {
   "cell_type": "markdown",
   "metadata": {},
   "source": [
    "<div style=\"border:solid green 2px; padding: 20px\"> <b>Success:</b><br>\n",
    "    Great!</div>  "
   ]
  },
  {
   "cell_type": "code",
   "execution_count": 42,
   "metadata": {
    "scrolled": false
   },
   "outputs": [
    {
     "data": {
      "text/html": [
       "<div>\n",
       "<style scoped>\n",
       "    .dataframe tbody tr th:only-of-type {\n",
       "        vertical-align: middle;\n",
       "    }\n",
       "\n",
       "    .dataframe tbody tr th {\n",
       "        vertical-align: top;\n",
       "    }\n",
       "\n",
       "    .dataframe thead th {\n",
       "        text-align: right;\n",
       "    }\n",
       "</style>\n",
       "<table border=\"1\" class=\"dataframe\">\n",
       "  <thead>\n",
       "    <tr style=\"text-align: right;\">\n",
       "      <th></th>\n",
       "      <th>DF_Status</th>\n",
       "      <th>Civil Defualters</th>\n",
       "      <th>Divorced Defaulter</th>\n",
       "      <th>Happy divorcee</th>\n",
       "      <th>Happy widow/widower</th>\n",
       "      <th>Married defaulter</th>\n",
       "      <th>Power of Two</th>\n",
       "      <th>Single Red Alert</th>\n",
       "      <th>Single and Free</th>\n",
       "      <th>True Civil Partners</th>\n",
       "      <th>Widow/widower defaulter</th>\n",
       "      <th>All</th>\n",
       "    </tr>\n",
       "    <tr>\n",
       "      <th>year_group</th>\n",
       "      <th>gender</th>\n",
       "      <th></th>\n",
       "      <th></th>\n",
       "      <th></th>\n",
       "      <th></th>\n",
       "      <th></th>\n",
       "      <th></th>\n",
       "      <th></th>\n",
       "      <th></th>\n",
       "      <th></th>\n",
       "      <th></th>\n",
       "      <th></th>\n",
       "    </tr>\n",
       "  </thead>\n",
       "  <tbody>\n",
       "    <tr>\n",
       "      <td>20-29</td>\n",
       "      <td>M</td>\n",
       "      <td>30.0</td>\n",
       "      <td>6.0</td>\n",
       "      <td>17.0</td>\n",
       "      <td>NaN</td>\n",
       "      <td>64.0</td>\n",
       "      <td>513.0</td>\n",
       "      <td>69.0</td>\n",
       "      <td>427.0</td>\n",
       "      <td>229.0</td>\n",
       "      <td>NaN</td>\n",
       "      <td>1355</td>\n",
       "    </tr>\n",
       "    <tr>\n",
       "      <td>30-39</td>\n",
       "      <td>M</td>\n",
       "      <td>45.0</td>\n",
       "      <td>7.0</td>\n",
       "      <td>69.0</td>\n",
       "      <td>3.0</td>\n",
       "      <td>130.0</td>\n",
       "      <td>1299.0</td>\n",
       "      <td>49.0</td>\n",
       "      <td>241.0</td>\n",
       "      <td>347.0</td>\n",
       "      <td>NaN</td>\n",
       "      <td>2190</td>\n",
       "    </tr>\n",
       "    <tr>\n",
       "      <td>40-49</td>\n",
       "      <td>M</td>\n",
       "      <td>42.0</td>\n",
       "      <td>6.0</td>\n",
       "      <td>83.0</td>\n",
       "      <td>10.0</td>\n",
       "      <td>104.0</td>\n",
       "      <td>1140.0</td>\n",
       "      <td>24.0</td>\n",
       "      <td>159.0</td>\n",
       "      <td>314.0</td>\n",
       "      <td>2.0</td>\n",
       "      <td>1884</td>\n",
       "    </tr>\n",
       "    <tr>\n",
       "      <td>50-59</td>\n",
       "      <td>M</td>\n",
       "      <td>30.0</td>\n",
       "      <td>4.0</td>\n",
       "      <td>51.0</td>\n",
       "      <td>20.0</td>\n",
       "      <td>78.0</td>\n",
       "      <td>827.0</td>\n",
       "      <td>11.0</td>\n",
       "      <td>64.0</td>\n",
       "      <td>181.0</td>\n",
       "      <td>5.0</td>\n",
       "      <td>1271</td>\n",
       "    </tr>\n",
       "    <tr>\n",
       "      <td>60-69</td>\n",
       "      <td>M</td>\n",
       "      <td>8.0</td>\n",
       "      <td>1.0</td>\n",
       "      <td>15.0</td>\n",
       "      <td>11.0</td>\n",
       "      <td>23.0</td>\n",
       "      <td>370.0</td>\n",
       "      <td>2.0</td>\n",
       "      <td>30.0</td>\n",
       "      <td>74.0</td>\n",
       "      <td>3.0</td>\n",
       "      <td>537</td>\n",
       "    </tr>\n",
       "    <tr>\n",
       "      <td>70+</td>\n",
       "      <td>M</td>\n",
       "      <td>NaN</td>\n",
       "      <td>NaN</td>\n",
       "      <td>NaN</td>\n",
       "      <td>NaN</td>\n",
       "      <td>2.0</td>\n",
       "      <td>29.0</td>\n",
       "      <td>NaN</td>\n",
       "      <td>3.0</td>\n",
       "      <td>3.0</td>\n",
       "      <td>1.0</td>\n",
       "      <td>38</td>\n",
       "    </tr>\n",
       "    <tr>\n",
       "      <td>Under Age</td>\n",
       "      <td>M</td>\n",
       "      <td>NaN</td>\n",
       "      <td>NaN</td>\n",
       "      <td>NaN</td>\n",
       "      <td>NaN</td>\n",
       "      <td>NaN</td>\n",
       "      <td>NaN</td>\n",
       "      <td>1.0</td>\n",
       "      <td>1.0</td>\n",
       "      <td>2.0</td>\n",
       "      <td>NaN</td>\n",
       "      <td>4</td>\n",
       "    </tr>\n",
       "    <tr>\n",
       "      <td>20-29</td>\n",
       "      <td>F</td>\n",
       "      <td>40.0</td>\n",
       "      <td>8.0</td>\n",
       "      <td>65.0</td>\n",
       "      <td>2.0</td>\n",
       "      <td>98.0</td>\n",
       "      <td>803.0</td>\n",
       "      <td>33.0</td>\n",
       "      <td>381.0</td>\n",
       "      <td>380.0</td>\n",
       "      <td>NaN</td>\n",
       "      <td>1810</td>\n",
       "    </tr>\n",
       "    <tr>\n",
       "      <td>30-39</td>\n",
       "      <td>F</td>\n",
       "      <td>92.0</td>\n",
       "      <td>13.0</td>\n",
       "      <td>172.0</td>\n",
       "      <td>35.0</td>\n",
       "      <td>178.0</td>\n",
       "      <td>1885.0</td>\n",
       "      <td>35.0</td>\n",
       "      <td>376.0</td>\n",
       "      <td>683.0</td>\n",
       "      <td>3.0</td>\n",
       "      <td>3472</td>\n",
       "    </tr>\n",
       "    <tr>\n",
       "      <td>40-49</td>\n",
       "      <td>F</td>\n",
       "      <td>55.0</td>\n",
       "      <td>15.0</td>\n",
       "      <td>276.0</td>\n",
       "      <td>116.0</td>\n",
       "      <td>131.0</td>\n",
       "      <td>1919.0</td>\n",
       "      <td>23.0</td>\n",
       "      <td>333.0</td>\n",
       "      <td>693.0</td>\n",
       "      <td>10.0</td>\n",
       "      <td>3571</td>\n",
       "    </tr>\n",
       "    <tr>\n",
       "      <td>50-59</td>\n",
       "      <td>F</td>\n",
       "      <td>36.0</td>\n",
       "      <td>15.0</td>\n",
       "      <td>233.0</td>\n",
       "      <td>335.0</td>\n",
       "      <td>90.0</td>\n",
       "      <td>1768.0</td>\n",
       "      <td>20.0</td>\n",
       "      <td>318.0</td>\n",
       "      <td>555.0</td>\n",
       "      <td>16.0</td>\n",
       "      <td>3386</td>\n",
       "    </tr>\n",
       "    <tr>\n",
       "      <td>60-69</td>\n",
       "      <td>F</td>\n",
       "      <td>10.0</td>\n",
       "      <td>10.0</td>\n",
       "      <td>124.0</td>\n",
       "      <td>329.0</td>\n",
       "      <td>32.0</td>\n",
       "      <td>801.0</td>\n",
       "      <td>6.0</td>\n",
       "      <td>188.0</td>\n",
       "      <td>272.0</td>\n",
       "      <td>22.0</td>\n",
       "      <td>1794</td>\n",
       "    </tr>\n",
       "    <tr>\n",
       "      <td>70+</td>\n",
       "      <td>F</td>\n",
       "      <td>NaN</td>\n",
       "      <td>NaN</td>\n",
       "      <td>5.0</td>\n",
       "      <td>35.0</td>\n",
       "      <td>1.0</td>\n",
       "      <td>51.0</td>\n",
       "      <td>1.0</td>\n",
       "      <td>10.0</td>\n",
       "      <td>27.0</td>\n",
       "      <td>1.0</td>\n",
       "      <td>131</td>\n",
       "    </tr>\n",
       "    <tr>\n",
       "      <td>Under Age</td>\n",
       "      <td>F</td>\n",
       "      <td>NaN</td>\n",
       "      <td>NaN</td>\n",
       "      <td>NaN</td>\n",
       "      <td>NaN</td>\n",
       "      <td>NaN</td>\n",
       "      <td>3.0</td>\n",
       "      <td>NaN</td>\n",
       "      <td>5.0</td>\n",
       "      <td>2.0</td>\n",
       "      <td>NaN</td>\n",
       "      <td>10</td>\n",
       "    </tr>\n",
       "    <tr>\n",
       "      <td>All</td>\n",
       "      <td></td>\n",
       "      <td>388.0</td>\n",
       "      <td>85.0</td>\n",
       "      <td>1110.0</td>\n",
       "      <td>896.0</td>\n",
       "      <td>931.0</td>\n",
       "      <td>11408.0</td>\n",
       "      <td>274.0</td>\n",
       "      <td>2536.0</td>\n",
       "      <td>3762.0</td>\n",
       "      <td>63.0</td>\n",
       "      <td>21453</td>\n",
       "    </tr>\n",
       "  </tbody>\n",
       "</table>\n",
       "</div>"
      ],
      "text/plain": [
       "DF_Status          Civil Defualters  Divorced Defaulter  Happy divorcee  \\\n",
       "year_group gender                                                         \n",
       "20-29      M                   30.0                 6.0            17.0   \n",
       "30-39      M                   45.0                 7.0            69.0   \n",
       "40-49      M                   42.0                 6.0            83.0   \n",
       "50-59      M                   30.0                 4.0            51.0   \n",
       "60-69      M                    8.0                 1.0            15.0   \n",
       "70+        M                    NaN                 NaN             NaN   \n",
       "Under Age  M                    NaN                 NaN             NaN   \n",
       "20-29      F                   40.0                 8.0            65.0   \n",
       "30-39      F                   92.0                13.0           172.0   \n",
       "40-49      F                   55.0                15.0           276.0   \n",
       "50-59      F                   36.0                15.0           233.0   \n",
       "60-69      F                   10.0                10.0           124.0   \n",
       "70+        F                    NaN                 NaN             5.0   \n",
       "Under Age  F                    NaN                 NaN             NaN   \n",
       "All                           388.0                85.0          1110.0   \n",
       "\n",
       "DF_Status          Happy widow/widower  Married defaulter  Power of Two  \\\n",
       "year_group gender                                                         \n",
       "20-29      M                       NaN               64.0         513.0   \n",
       "30-39      M                       3.0              130.0        1299.0   \n",
       "40-49      M                      10.0              104.0        1140.0   \n",
       "50-59      M                      20.0               78.0         827.0   \n",
       "60-69      M                      11.0               23.0         370.0   \n",
       "70+        M                       NaN                2.0          29.0   \n",
       "Under Age  M                       NaN                NaN           NaN   \n",
       "20-29      F                       2.0               98.0         803.0   \n",
       "30-39      F                      35.0              178.0        1885.0   \n",
       "40-49      F                     116.0              131.0        1919.0   \n",
       "50-59      F                     335.0               90.0        1768.0   \n",
       "60-69      F                     329.0               32.0         801.0   \n",
       "70+        F                      35.0                1.0          51.0   \n",
       "Under Age  F                       NaN                NaN           3.0   \n",
       "All                              896.0              931.0       11408.0   \n",
       "\n",
       "DF_Status          Single Red Alert  Single and Free  True Civil Partners  \\\n",
       "year_group gender                                                           \n",
       "20-29      M                   69.0            427.0                229.0   \n",
       "30-39      M                   49.0            241.0                347.0   \n",
       "40-49      M                   24.0            159.0                314.0   \n",
       "50-59      M                   11.0             64.0                181.0   \n",
       "60-69      M                    2.0             30.0                 74.0   \n",
       "70+        M                    NaN              3.0                  3.0   \n",
       "Under Age  M                    1.0              1.0                  2.0   \n",
       "20-29      F                   33.0            381.0                380.0   \n",
       "30-39      F                   35.0            376.0                683.0   \n",
       "40-49      F                   23.0            333.0                693.0   \n",
       "50-59      F                   20.0            318.0                555.0   \n",
       "60-69      F                    6.0            188.0                272.0   \n",
       "70+        F                    1.0             10.0                 27.0   \n",
       "Under Age  F                    NaN              5.0                  2.0   \n",
       "All                           274.0           2536.0               3762.0   \n",
       "\n",
       "DF_Status          Widow/widower defaulter    All  \n",
       "year_group gender                                  \n",
       "20-29      M                           NaN   1355  \n",
       "30-39      M                           NaN   2190  \n",
       "40-49      M                           2.0   1884  \n",
       "50-59      M                           5.0   1271  \n",
       "60-69      M                           3.0    537  \n",
       "70+        M                           1.0     38  \n",
       "Under Age  M                           NaN      4  \n",
       "20-29      F                           NaN   1810  \n",
       "30-39      F                           3.0   3472  \n",
       "40-49      F                          10.0   3571  \n",
       "50-59      F                          16.0   3386  \n",
       "60-69      F                          22.0   1794  \n",
       "70+        F                           1.0    131  \n",
       "Under Age  F                           NaN     10  \n",
       "All                                   63.0  21453  "
      ]
     },
     "execution_count": 42,
     "metadata": {},
     "output_type": "execute_result"
    }
   ],
   "source": [
    "debt_family_status_piveted= debt_family_status.pivot_table(index=['year_group','gender'],\n",
    "                              columns='DF_Status',\n",
    "                             values= 'family_status_id',\n",
    "                             aggfunc='count',\n",
    "                             margins=True)\n",
    "debt_family_status_piveted.sort_values(by = 'gender',ascending=False)"
   ]
  },
  {
   "cell_type": "markdown",
   "metadata": {},
   "source": [
    "The pivot table provides a snippet of a persons family_status and debt payability. The results shows that, majority of loans disbursed were to married couples(***Power of Two***) who were prompt in paying up whiles also being the highest defaulters."
   ]
  },
  {
   "cell_type": "markdown",
   "metadata": {},
   "source": [
    "\n",
    "<div style=\"border:solid green 2px; padding: 20px\"> <b>Success:</b><br>\n",
    "   It's great that you're using a spreadsheet to display the information you need 👍 </div>  "
   ]
  },
  {
   "cell_type": "code",
   "execution_count": 43,
   "metadata": {
    "scrolled": false
   },
   "outputs": [
    {
     "data": {
      "text/html": [
       "<div>\n",
       "<style scoped>\n",
       "    .dataframe tbody tr th:only-of-type {\n",
       "        vertical-align: middle;\n",
       "    }\n",
       "\n",
       "    .dataframe tbody tr th {\n",
       "        vertical-align: top;\n",
       "    }\n",
       "\n",
       "    .dataframe thead th {\n",
       "        text-align: right;\n",
       "    }\n",
       "</style>\n",
       "<table border=\"1\" class=\"dataframe\">\n",
       "  <thead>\n",
       "    <tr style=\"text-align: right;\">\n",
       "      <th></th>\n",
       "      <th>gender</th>\n",
       "      <th>year_group</th>\n",
       "      <th>debt</th>\n",
       "      <th>total_income</th>\n",
       "    </tr>\n",
       "  </thead>\n",
       "  <tbody>\n",
       "    <tr>\n",
       "      <td>0</td>\n",
       "      <td>F</td>\n",
       "      <td>40-49</td>\n",
       "      <td>0</td>\n",
       "      <td>40620</td>\n",
       "    </tr>\n",
       "    <tr>\n",
       "      <td>1</td>\n",
       "      <td>F</td>\n",
       "      <td>30-39</td>\n",
       "      <td>0</td>\n",
       "      <td>17932</td>\n",
       "    </tr>\n",
       "    <tr>\n",
       "      <td>2</td>\n",
       "      <td>M</td>\n",
       "      <td>30-39</td>\n",
       "      <td>0</td>\n",
       "      <td>23341</td>\n",
       "    </tr>\n",
       "    <tr>\n",
       "      <td>3</td>\n",
       "      <td>M</td>\n",
       "      <td>30-39</td>\n",
       "      <td>0</td>\n",
       "      <td>42820</td>\n",
       "    </tr>\n",
       "    <tr>\n",
       "      <td>4</td>\n",
       "      <td>F</td>\n",
       "      <td>50-59</td>\n",
       "      <td>0</td>\n",
       "      <td>25378</td>\n",
       "    </tr>\n",
       "    <tr>\n",
       "      <td>...</td>\n",
       "      <td>...</td>\n",
       "      <td>...</td>\n",
       "      <td>...</td>\n",
       "      <td>...</td>\n",
       "    </tr>\n",
       "    <tr>\n",
       "      <td>21448</td>\n",
       "      <td>F</td>\n",
       "      <td>40-49</td>\n",
       "      <td>0</td>\n",
       "      <td>35966</td>\n",
       "    </tr>\n",
       "    <tr>\n",
       "      <td>21449</td>\n",
       "      <td>F</td>\n",
       "      <td>60-69</td>\n",
       "      <td>0</td>\n",
       "      <td>24959</td>\n",
       "    </tr>\n",
       "    <tr>\n",
       "      <td>21450</td>\n",
       "      <td>M</td>\n",
       "      <td>30-39</td>\n",
       "      <td>1</td>\n",
       "      <td>14347</td>\n",
       "    </tr>\n",
       "    <tr>\n",
       "      <td>21451</td>\n",
       "      <td>M</td>\n",
       "      <td>30-39</td>\n",
       "      <td>1</td>\n",
       "      <td>39054</td>\n",
       "    </tr>\n",
       "    <tr>\n",
       "      <td>21452</td>\n",
       "      <td>F</td>\n",
       "      <td>40-49</td>\n",
       "      <td>0</td>\n",
       "      <td>13127</td>\n",
       "    </tr>\n",
       "  </tbody>\n",
       "</table>\n",
       "<p>21453 rows × 4 columns</p>\n",
       "</div>"
      ],
      "text/plain": [
       "      gender year_group  debt  total_income\n",
       "0          F      40-49     0         40620\n",
       "1          F      30-39     0         17932\n",
       "2          M      30-39     0         23341\n",
       "3          M      30-39     0         42820\n",
       "4          F      50-59     0         25378\n",
       "...      ...        ...   ...           ...\n",
       "21448      F      40-49     0         35966\n",
       "21449      F      60-69     0         24959\n",
       "21450      M      30-39     1         14347\n",
       "21451      M      30-39     1         39054\n",
       "21452      F      40-49     0         13127\n",
       "\n",
       "[21453 rows x 4 columns]"
      ]
     },
     "execution_count": 43,
     "metadata": {},
     "output_type": "execute_result"
    }
   ],
   "source": [
    "income_debt_default = credit_score[['gender','year_group','debt','total_income']]\n",
    "income_debt_default"
   ]
  },
  {
   "cell_type": "code",
   "execution_count": 44,
   "metadata": {},
   "outputs": [
    {
     "data": {
      "image/png": "[encoded data removed]",
      "text/plain": [
       "<Figure size 432x288 with 1 Axes>"
      ]
     },
     "metadata": {
      "needs_background": "light"
     },
     "output_type": "display_data"
    }
   ],
   "source": [
    "credit_score['total_income'].hist(bins=100, edgecolor='black')\n",
    "plt.title('Histogram of Income', size=8)\n",
    "plt.xlabel('Total_Income')\n",
    "plt.ylabel('Count')\n",
    "plt.show()"
   ]
  },
  {
   "cell_type": "code",
   "execution_count": 45,
   "metadata": {},
   "outputs": [
    {
     "data": {
      "text/plain": [
       "count     21453.000000\n",
       "mean      26471.762364\n",
       "std       15726.502424\n",
       "min        3306.000000\n",
       "25%       17202.000000\n",
       "50%       22993.000000\n",
       "75%       31728.000000\n",
       "max      362496.000000\n",
       "Name: total_income, dtype: float64"
      ]
     },
     "execution_count": 45,
     "metadata": {},
     "output_type": "execute_result"
    }
   ],
   "source": [
    "income_debt_default['total_income'].describe()"
   ]
  },
  {
   "cell_type": "code",
   "execution_count": 46,
   "metadata": {},
   "outputs": [
    {
     "name": "stderr",
     "output_type": "stream",
     "text": [
      "/opt/conda/lib/python3.7/site-packages/ipykernel_launcher.py:22: SettingWithCopyWarning: \n",
      "A value is trying to be set on a copy of a slice from a DataFrame.\n",
      "Try using .loc[row_indexer,col_indexer] = value instead\n",
      "\n",
      "See the caveats in the documentation: http://pandas.pydata.org/pandas-docs/stable/user_guide/indexing.html#returning-a-view-versus-a-copy\n"
     ]
    },
    {
     "data": {
      "text/html": [
       "<div>\n",
       "<style scoped>\n",
       "    .dataframe tbody tr th:only-of-type {\n",
       "        vertical-align: middle;\n",
       "    }\n",
       "\n",
       "    .dataframe tbody tr th {\n",
       "        vertical-align: top;\n",
       "    }\n",
       "\n",
       "    .dataframe thead th {\n",
       "        text-align: right;\n",
       "    }\n",
       "</style>\n",
       "<table border=\"1\" class=\"dataframe\">\n",
       "  <thead>\n",
       "    <tr style=\"text-align: right;\">\n",
       "      <th></th>\n",
       "      <th>gender</th>\n",
       "      <th>year_group</th>\n",
       "      <th>debt</th>\n",
       "      <th>total_income</th>\n",
       "      <th>income_range</th>\n",
       "    </tr>\n",
       "  </thead>\n",
       "  <tbody>\n",
       "    <tr>\n",
       "      <td>0</td>\n",
       "      <td>F</td>\n",
       "      <td>40-49</td>\n",
       "      <td>0</td>\n",
       "      <td>40620</td>\n",
       "      <td>50k</td>\n",
       "    </tr>\n",
       "    <tr>\n",
       "      <td>1</td>\n",
       "      <td>F</td>\n",
       "      <td>30-39</td>\n",
       "      <td>0</td>\n",
       "      <td>17932</td>\n",
       "      <td>25k</td>\n",
       "    </tr>\n",
       "    <tr>\n",
       "      <td>2</td>\n",
       "      <td>M</td>\n",
       "      <td>30-39</td>\n",
       "      <td>0</td>\n",
       "      <td>23341</td>\n",
       "      <td>25k</td>\n",
       "    </tr>\n",
       "    <tr>\n",
       "      <td>3</td>\n",
       "      <td>M</td>\n",
       "      <td>30-39</td>\n",
       "      <td>0</td>\n",
       "      <td>42820</td>\n",
       "      <td>50k</td>\n",
       "    </tr>\n",
       "    <tr>\n",
       "      <td>4</td>\n",
       "      <td>F</td>\n",
       "      <td>50-59</td>\n",
       "      <td>0</td>\n",
       "      <td>25378</td>\n",
       "      <td>50k</td>\n",
       "    </tr>\n",
       "    <tr>\n",
       "      <td>...</td>\n",
       "      <td>...</td>\n",
       "      <td>...</td>\n",
       "      <td>...</td>\n",
       "      <td>...</td>\n",
       "      <td>...</td>\n",
       "    </tr>\n",
       "    <tr>\n",
       "      <td>21448</td>\n",
       "      <td>F</td>\n",
       "      <td>40-49</td>\n",
       "      <td>0</td>\n",
       "      <td>35966</td>\n",
       "      <td>50k</td>\n",
       "    </tr>\n",
       "    <tr>\n",
       "      <td>21449</td>\n",
       "      <td>F</td>\n",
       "      <td>60-69</td>\n",
       "      <td>0</td>\n",
       "      <td>24959</td>\n",
       "      <td>25k</td>\n",
       "    </tr>\n",
       "    <tr>\n",
       "      <td>21450</td>\n",
       "      <td>M</td>\n",
       "      <td>30-39</td>\n",
       "      <td>1</td>\n",
       "      <td>14347</td>\n",
       "      <td>25k</td>\n",
       "    </tr>\n",
       "    <tr>\n",
       "      <td>21451</td>\n",
       "      <td>M</td>\n",
       "      <td>30-39</td>\n",
       "      <td>1</td>\n",
       "      <td>39054</td>\n",
       "      <td>50k</td>\n",
       "    </tr>\n",
       "    <tr>\n",
       "      <td>21452</td>\n",
       "      <td>F</td>\n",
       "      <td>40-49</td>\n",
       "      <td>0</td>\n",
       "      <td>13127</td>\n",
       "      <td>25k</td>\n",
       "    </tr>\n",
       "  </tbody>\n",
       "</table>\n",
       "<p>21453 rows × 5 columns</p>\n",
       "</div>"
      ],
      "text/plain": [
       "      gender year_group  debt  total_income income_range\n",
       "0          F      40-49     0         40620          50k\n",
       "1          F      30-39     0         17932          25k\n",
       "2          M      30-39     0         23341          25k\n",
       "3          M      30-39     0         42820          50k\n",
       "4          F      50-59     0         25378          50k\n",
       "...      ...        ...   ...           ...          ...\n",
       "21448      F      40-49     0         35966          50k\n",
       "21449      F      60-69     0         24959          25k\n",
       "21450      M      30-39     1         14347          25k\n",
       "21451      M      30-39     1         39054          50k\n",
       "21452      F      40-49     0         13127          25k\n",
       "\n",
       "[21453 rows x 5 columns]"
      ]
     },
     "execution_count": 46,
     "metadata": {},
     "output_type": "execute_result"
    }
   ],
   "source": [
    "def assign_income_range(total_income):\n",
    "    if total_income <=0 or pd.isna(total_income):\n",
    "        return 'No income'\n",
    "    elif total_income < 5000:\n",
    "        return '5k'\n",
    "    elif total_income < 25000:\n",
    "        return '25k'\n",
    "    elif total_income < 50000:\n",
    "        return '50k'\n",
    "    elif total_income < 75000:\n",
    "        return '75k'\n",
    "    elif total_income < 10000:\n",
    "        return '100k'\n",
    "    elif total_income < 125000:\n",
    "        return '125k'\n",
    "    elif total_income < 150000:\n",
    "        return '150k'\n",
    "    elif total_income < 400000:\n",
    "        return '400k'\n",
    "    else:\n",
    "        return '400+'\n",
    "income_debt_default['income_range'] = income_debt_default['total_income'].apply(assign_income_range)\n",
    "income_debt_default"
   ]
  },
  {
   "cell_type": "markdown",
   "metadata": {},
   "source": [
    "Income distribution analysis was carried out subquent to determming the class/category of persons base on their income level and debt payability. The analysis showed that, total income earned ranged from 3k being the least to 350k+ with significant income distribution between 20k and 50k. "
   ]
  },
  {
   "cell_type": "code",
   "execution_count": 47,
   "metadata": {},
   "outputs": [
    {
     "name": "stderr",
     "output_type": "stream",
     "text": [
      "/opt/conda/lib/python3.7/site-packages/ipykernel_launcher.py:55: SettingWithCopyWarning: \n",
      "A value is trying to be set on a copy of a slice from a DataFrame.\n",
      "Try using .loc[row_indexer,col_indexer] = value instead\n",
      "\n",
      "See the caveats in the documentation: http://pandas.pydata.org/pandas-docs/stable/user_guide/indexing.html#returning-a-view-versus-a-copy\n"
     ]
    },
    {
     "data": {
      "text/html": [
       "<div>\n",
       "<style scoped>\n",
       "    .dataframe tbody tr th:only-of-type {\n",
       "        vertical-align: middle;\n",
       "    }\n",
       "\n",
       "    .dataframe tbody tr th {\n",
       "        vertical-align: top;\n",
       "    }\n",
       "\n",
       "    .dataframe thead th {\n",
       "        text-align: right;\n",
       "    }\n",
       "</style>\n",
       "<table border=\"1\" class=\"dataframe\">\n",
       "  <thead>\n",
       "    <tr style=\"text-align: right;\">\n",
       "      <th></th>\n",
       "      <th>gender</th>\n",
       "      <th>year_group</th>\n",
       "      <th>debt</th>\n",
       "      <th>total_income</th>\n",
       "      <th>income_range</th>\n",
       "      <th>Income_default</th>\n",
       "    </tr>\n",
       "  </thead>\n",
       "  <tbody>\n",
       "    <tr>\n",
       "      <td>0</td>\n",
       "      <td>F</td>\n",
       "      <td>40-49</td>\n",
       "      <td>0</td>\n",
       "      <td>40620</td>\n",
       "      <td>50k</td>\n",
       "      <td>50k Non defaulter</td>\n",
       "    </tr>\n",
       "    <tr>\n",
       "      <td>1</td>\n",
       "      <td>F</td>\n",
       "      <td>30-39</td>\n",
       "      <td>0</td>\n",
       "      <td>17932</td>\n",
       "      <td>25k</td>\n",
       "      <td>25k Non defaulter</td>\n",
       "    </tr>\n",
       "    <tr>\n",
       "      <td>2</td>\n",
       "      <td>M</td>\n",
       "      <td>30-39</td>\n",
       "      <td>0</td>\n",
       "      <td>23341</td>\n",
       "      <td>25k</td>\n",
       "      <td>25k Non defaulter</td>\n",
       "    </tr>\n",
       "    <tr>\n",
       "      <td>3</td>\n",
       "      <td>M</td>\n",
       "      <td>30-39</td>\n",
       "      <td>0</td>\n",
       "      <td>42820</td>\n",
       "      <td>50k</td>\n",
       "      <td>50k Non defaulter</td>\n",
       "    </tr>\n",
       "    <tr>\n",
       "      <td>4</td>\n",
       "      <td>F</td>\n",
       "      <td>50-59</td>\n",
       "      <td>0</td>\n",
       "      <td>25378</td>\n",
       "      <td>50k</td>\n",
       "      <td>50k Non defaulter</td>\n",
       "    </tr>\n",
       "    <tr>\n",
       "      <td>...</td>\n",
       "      <td>...</td>\n",
       "      <td>...</td>\n",
       "      <td>...</td>\n",
       "      <td>...</td>\n",
       "      <td>...</td>\n",
       "      <td>...</td>\n",
       "    </tr>\n",
       "    <tr>\n",
       "      <td>21448</td>\n",
       "      <td>F</td>\n",
       "      <td>40-49</td>\n",
       "      <td>0</td>\n",
       "      <td>35966</td>\n",
       "      <td>50k</td>\n",
       "      <td>50k Non defaulter</td>\n",
       "    </tr>\n",
       "    <tr>\n",
       "      <td>21449</td>\n",
       "      <td>F</td>\n",
       "      <td>60-69</td>\n",
       "      <td>0</td>\n",
       "      <td>24959</td>\n",
       "      <td>25k</td>\n",
       "      <td>25k Non defaulter</td>\n",
       "    </tr>\n",
       "    <tr>\n",
       "      <td>21450</td>\n",
       "      <td>M</td>\n",
       "      <td>30-39</td>\n",
       "      <td>1</td>\n",
       "      <td>14347</td>\n",
       "      <td>25k</td>\n",
       "      <td>25k defaulter</td>\n",
       "    </tr>\n",
       "    <tr>\n",
       "      <td>21451</td>\n",
       "      <td>M</td>\n",
       "      <td>30-39</td>\n",
       "      <td>1</td>\n",
       "      <td>39054</td>\n",
       "      <td>50k</td>\n",
       "      <td>50k defaulter</td>\n",
       "    </tr>\n",
       "    <tr>\n",
       "      <td>21452</td>\n",
       "      <td>F</td>\n",
       "      <td>40-49</td>\n",
       "      <td>0</td>\n",
       "      <td>13127</td>\n",
       "      <td>25k</td>\n",
       "      <td>25k Non defaulter</td>\n",
       "    </tr>\n",
       "  </tbody>\n",
       "</table>\n",
       "<p>21453 rows × 6 columns</p>\n",
       "</div>"
      ],
      "text/plain": [
       "      gender year_group  debt  total_income income_range     Income_default\n",
       "0          F      40-49     0         40620          50k  50k Non defaulter\n",
       "1          F      30-39     0         17932          25k  25k Non defaulter\n",
       "2          M      30-39     0         23341          25k  25k Non defaulter\n",
       "3          M      30-39     0         42820          50k  50k Non defaulter\n",
       "4          F      50-59     0         25378          50k  50k Non defaulter\n",
       "...      ...        ...   ...           ...          ...                ...\n",
       "21448      F      40-49     0         35966          50k  50k Non defaulter\n",
       "21449      F      60-69     0         24959          25k  25k Non defaulter\n",
       "21450      M      30-39     1         14347          25k      25k defaulter\n",
       "21451      M      30-39     1         39054          50k      50k defaulter\n",
       "21452      F      40-49     0         13127          25k  25k Non defaulter\n",
       "\n",
       "[21453 rows x 6 columns]"
      ]
     },
     "execution_count": 47,
     "metadata": {},
     "output_type": "execute_result"
    }
   ],
   "source": [
    "def assign_debt_income_range(row):\n",
    "    income_range = row['income_range']\n",
    "    debt = row['debt']\n",
    "    if income_range=='No Income'and debt ==0:\n",
    "        return '0k Default'\n",
    "    if income_range == 'No Income' and debt ==1:\n",
    "        return 'No Income Defaulter'\n",
    "    if income_range =='5k' and debt ==0:\n",
    "        return '5k Non defaulter'\n",
    "    if income_range =='5k' and debt ==1:\n",
    "        return '5k Defaulter'\n",
    "    if income_range == '25k' and debt ==0:\n",
    "        return '25k Non defaulter'\n",
    "    if income_range == '25k' and debt ==1:\n",
    "        return '25k defaulter'\n",
    "    if income_range == '50k' and debt ==0:\n",
    "        return '50k Non defaulter'\n",
    "    if income_range == '50k' and debt ==1:\n",
    "        return '50k defaulter'\n",
    "    if income_range == '75k' and debt ==0:\n",
    "        return '75k Non defaulter'\n",
    "    if income_range == '75k' and debt ==1:\n",
    "        return '75k defaulter'\n",
    "    if income_range == '100k' and debt ==0:\n",
    "        return '100k Non defaulter'\n",
    "    if income_range == '100k' and debt ==1:\n",
    "        return '100k defaulter'\n",
    "    if income_range == '125k' and debt ==0:\n",
    "        return '125k Non defaulter'\n",
    "    if income_range == '125k' and debt ==1:\n",
    "        return '125k defaulter'\n",
    "    if income_range == '150k' and debt ==0:\n",
    "        return '150k Non defaulter'\n",
    "    if income_range == '150k' and debt ==1:\n",
    "        return '150k defaulter'\n",
    "    if income_range == '200k' and debt ==0:\n",
    "        return '200k Non defaulter'\n",
    "    if income_range =='200k' and debt ==1:\n",
    "        return '200k Dafaulter'\n",
    "    if income_range =='300k' and debt ==0:\n",
    "        return '300k Non Defaulter'\n",
    "    if income_range =='300k' and debt ==1:\n",
    "        return '300k Defaulter'\n",
    "    if income_range =='400k' and debt ==0:\n",
    "        return '400k Non Defaulter'\n",
    "    if income_range =='400k' and debt ==1:\n",
    "        return '400k Defaulter'\n",
    "    if income_range =='400+' and debt ==0:\n",
    "        return '400+ Non Defaulter'\n",
    "    if income_range =='400+' and debt ==1:\n",
    "        return '400+ Defaulter'\n",
    "    else:\n",
    "        return 'Red Alert'\n",
    "\n",
    "income_debt_default['Income_default'] = income_debt_default.apply(assign_debt_income_range, axis =1)\n",
    "income_debt_default"
   ]
  },
  {
   "cell_type": "markdown",
   "metadata": {},
   "source": [
    "Based on the results from row 47, default status base on an individuals income level have been set using two parameters of each income range."
   ]
  },
  {
   "cell_type": "markdown",
   "metadata": {},
   "source": [
    "\n",
    "<div style=\"border:solid green 2px; padding: 20px\"> <b>Success:</b><br>\n",
    "    I really like the way you're writing the functions :)</div>  "
   ]
  },
  {
   "cell_type": "code",
   "execution_count": 48,
   "metadata": {},
   "outputs": [
    {
     "data": {
      "text/html": [
       "<div>\n",
       "<style scoped>\n",
       "    .dataframe tbody tr th:only-of-type {\n",
       "        vertical-align: middle;\n",
       "    }\n",
       "\n",
       "    .dataframe tbody tr th {\n",
       "        vertical-align: top;\n",
       "    }\n",
       "\n",
       "    .dataframe thead th {\n",
       "        text-align: right;\n",
       "    }\n",
       "</style>\n",
       "<table border=\"1\" class=\"dataframe\">\n",
       "  <thead>\n",
       "    <tr style=\"text-align: right;\">\n",
       "      <th>year_group</th>\n",
       "      <th>20-29</th>\n",
       "      <th>30-39</th>\n",
       "      <th>40-49</th>\n",
       "      <th>50-59</th>\n",
       "      <th>60-69</th>\n",
       "      <th>70+</th>\n",
       "      <th>Under Age</th>\n",
       "      <th>All</th>\n",
       "    </tr>\n",
       "    <tr>\n",
       "      <th>Income_default</th>\n",
       "      <th></th>\n",
       "      <th></th>\n",
       "      <th></th>\n",
       "      <th></th>\n",
       "      <th></th>\n",
       "      <th></th>\n",
       "      <th></th>\n",
       "      <th></th>\n",
       "    </tr>\n",
       "  </thead>\n",
       "  <tbody>\n",
       "    <tr>\n",
       "      <td>125k Non defaulter</td>\n",
       "      <td>27.0</td>\n",
       "      <td>72.0</td>\n",
       "      <td>65.0</td>\n",
       "      <td>51.0</td>\n",
       "      <td>18.0</td>\n",
       "      <td>NaN</td>\n",
       "      <td>NaN</td>\n",
       "      <td>233</td>\n",
       "    </tr>\n",
       "    <tr>\n",
       "      <td>125k defaulter</td>\n",
       "      <td>1.0</td>\n",
       "      <td>3.0</td>\n",
       "      <td>5.0</td>\n",
       "      <td>3.0</td>\n",
       "      <td>NaN</td>\n",
       "      <td>NaN</td>\n",
       "      <td>NaN</td>\n",
       "      <td>12</td>\n",
       "    </tr>\n",
       "    <tr>\n",
       "      <td>150k Non defaulter</td>\n",
       "      <td>NaN</td>\n",
       "      <td>9.0</td>\n",
       "      <td>4.0</td>\n",
       "      <td>1.0</td>\n",
       "      <td>NaN</td>\n",
       "      <td>NaN</td>\n",
       "      <td>NaN</td>\n",
       "      <td>14</td>\n",
       "    </tr>\n",
       "    <tr>\n",
       "      <td>150k defaulter</td>\n",
       "      <td>1.0</td>\n",
       "      <td>NaN</td>\n",
       "      <td>1.0</td>\n",
       "      <td>NaN</td>\n",
       "      <td>NaN</td>\n",
       "      <td>NaN</td>\n",
       "      <td>NaN</td>\n",
       "      <td>2</td>\n",
       "    </tr>\n",
       "    <tr>\n",
       "      <td>25k Non defaulter</td>\n",
       "      <td>1597.0</td>\n",
       "      <td>2587.0</td>\n",
       "      <td>2569.0</td>\n",
       "      <td>2623.0</td>\n",
       "      <td>1500.0</td>\n",
       "      <td>117.0</td>\n",
       "      <td>11.0</td>\n",
       "      <td>11004</td>\n",
       "    </tr>\n",
       "    <tr>\n",
       "      <td>25k defaulter</td>\n",
       "      <td>216.0</td>\n",
       "      <td>318.0</td>\n",
       "      <td>230.0</td>\n",
       "      <td>169.0</td>\n",
       "      <td>84.0</td>\n",
       "      <td>4.0</td>\n",
       "      <td>1.0</td>\n",
       "      <td>1022</td>\n",
       "    </tr>\n",
       "    <tr>\n",
       "      <td>400k Defaulter</td>\n",
       "      <td>NaN</td>\n",
       "      <td>1.0</td>\n",
       "      <td>1.0</td>\n",
       "      <td>NaN</td>\n",
       "      <td>NaN</td>\n",
       "      <td>NaN</td>\n",
       "      <td>NaN</td>\n",
       "      <td>2</td>\n",
       "    </tr>\n",
       "    <tr>\n",
       "      <td>400k Non Defaulter</td>\n",
       "      <td>NaN</td>\n",
       "      <td>9.0</td>\n",
       "      <td>8.0</td>\n",
       "      <td>7.0</td>\n",
       "      <td>2.0</td>\n",
       "      <td>NaN</td>\n",
       "      <td>NaN</td>\n",
       "      <td>26</td>\n",
       "    </tr>\n",
       "    <tr>\n",
       "      <td>50k Non defaulter</td>\n",
       "      <td>1084.0</td>\n",
       "      <td>2150.0</td>\n",
       "      <td>2084.0</td>\n",
       "      <td>1470.0</td>\n",
       "      <td>623.0</td>\n",
       "      <td>42.0</td>\n",
       "      <td>2.0</td>\n",
       "      <td>7455</td>\n",
       "    </tr>\n",
       "    <tr>\n",
       "      <td>50k defaulter</td>\n",
       "      <td>118.0</td>\n",
       "      <td>200.0</td>\n",
       "      <td>153.0</td>\n",
       "      <td>121.0</td>\n",
       "      <td>31.0</td>\n",
       "      <td>2.0</td>\n",
       "      <td>NaN</td>\n",
       "      <td>625</td>\n",
       "    </tr>\n",
       "    <tr>\n",
       "      <td>5k Defaulter</td>\n",
       "      <td>NaN</td>\n",
       "      <td>NaN</td>\n",
       "      <td>NaN</td>\n",
       "      <td>1.0</td>\n",
       "      <td>1.0</td>\n",
       "      <td>NaN</td>\n",
       "      <td>NaN</td>\n",
       "      <td>2</td>\n",
       "    </tr>\n",
       "    <tr>\n",
       "      <td>5k Non defaulter</td>\n",
       "      <td>3.0</td>\n",
       "      <td>1.0</td>\n",
       "      <td>4.0</td>\n",
       "      <td>7.0</td>\n",
       "      <td>7.0</td>\n",
       "      <td>2.0</td>\n",
       "      <td>NaN</td>\n",
       "      <td>24</td>\n",
       "    </tr>\n",
       "    <tr>\n",
       "      <td>75k Non defaulter</td>\n",
       "      <td>106.0</td>\n",
       "      <td>282.0</td>\n",
       "      <td>309.0</td>\n",
       "      <td>193.0</td>\n",
       "      <td>64.0</td>\n",
       "      <td>2.0</td>\n",
       "      <td>NaN</td>\n",
       "      <td>956</td>\n",
       "    </tr>\n",
       "    <tr>\n",
       "      <td>75k defaulter</td>\n",
       "      <td>12.0</td>\n",
       "      <td>30.0</td>\n",
       "      <td>22.0</td>\n",
       "      <td>11.0</td>\n",
       "      <td>1.0</td>\n",
       "      <td>NaN</td>\n",
       "      <td>NaN</td>\n",
       "      <td>76</td>\n",
       "    </tr>\n",
       "    <tr>\n",
       "      <td>All</td>\n",
       "      <td>3165.0</td>\n",
       "      <td>5662.0</td>\n",
       "      <td>5455.0</td>\n",
       "      <td>4657.0</td>\n",
       "      <td>2331.0</td>\n",
       "      <td>169.0</td>\n",
       "      <td>14.0</td>\n",
       "      <td>21453</td>\n",
       "    </tr>\n",
       "  </tbody>\n",
       "</table>\n",
       "</div>"
      ],
      "text/plain": [
       "year_group           20-29   30-39   40-49   50-59   60-69    70+  Under Age  \\\n",
       "Income_default                                                                 \n",
       "125k Non defaulter    27.0    72.0    65.0    51.0    18.0    NaN        NaN   \n",
       "125k defaulter         1.0     3.0     5.0     3.0     NaN    NaN        NaN   \n",
       "150k Non defaulter     NaN     9.0     4.0     1.0     NaN    NaN        NaN   \n",
       "150k defaulter         1.0     NaN     1.0     NaN     NaN    NaN        NaN   \n",
       "25k Non defaulter   1597.0  2587.0  2569.0  2623.0  1500.0  117.0       11.0   \n",
       "25k defaulter        216.0   318.0   230.0   169.0    84.0    4.0        1.0   \n",
       "400k Defaulter         NaN     1.0     1.0     NaN     NaN    NaN        NaN   \n",
       "400k Non Defaulter     NaN     9.0     8.0     7.0     2.0    NaN        NaN   \n",
       "50k Non defaulter   1084.0  2150.0  2084.0  1470.0   623.0   42.0        2.0   \n",
       "50k defaulter        118.0   200.0   153.0   121.0    31.0    2.0        NaN   \n",
       "5k Defaulter           NaN     NaN     NaN     1.0     1.0    NaN        NaN   \n",
       "5k Non defaulter       3.0     1.0     4.0     7.0     7.0    2.0        NaN   \n",
       "75k Non defaulter    106.0   282.0   309.0   193.0    64.0    2.0        NaN   \n",
       "75k defaulter         12.0    30.0    22.0    11.0     1.0    NaN        NaN   \n",
       "All                 3165.0  5662.0  5455.0  4657.0  2331.0  169.0       14.0   \n",
       "\n",
       "year_group            All  \n",
       "Income_default             \n",
       "125k Non defaulter    233  \n",
       "125k defaulter         12  \n",
       "150k Non defaulter     14  \n",
       "150k defaulter          2  \n",
       "25k Non defaulter   11004  \n",
       "25k defaulter        1022  \n",
       "400k Defaulter          2  \n",
       "400k Non Defaulter     26  \n",
       "50k Non defaulter    7455  \n",
       "50k defaulter         625  \n",
       "5k Defaulter            2  \n",
       "5k Non defaulter       24  \n",
       "75k Non defaulter     956  \n",
       "75k defaulter          76  \n",
       "All                 21453  "
      ]
     },
     "execution_count": 48,
     "metadata": {},
     "output_type": "execute_result"
    }
   ],
   "source": [
    "income_debt_default.pivot_table(index='Income_default',\n",
    "                              columns='year_group',\n",
    "                             values= 'income_range',\n",
    "                             aggfunc='count',\n",
    "                             margins=True)\n"
   ]
  },
  {
   "cell_type": "code",
   "execution_count": 49,
   "metadata": {},
   "outputs": [
    {
     "data": {
      "text/plain": [
       "-0.01358422371933036"
      ]
     },
     "execution_count": 49,
     "metadata": {},
     "output_type": "execute_result"
    }
   ],
   "source": [
    "income_debt_default['total_income'].corr(income_debt_default['debt'])"
   ]
  },
  {
   "cell_type": "markdown",
   "metadata": {},
   "source": [
    "Results from the pivot_table shows that, significant proportion of loans were to persons earning between 5k and 25k who also ended up being the largest defaulters. It's insteresting to note that, basis of default is no respecter of income level as those earning between 300k - 400k also defaulted. "
   ]
  },
  {
   "cell_type": "markdown",
   "metadata": {},
   "source": [
    "\n",
    "<div style=\"border:solid green 2px; padding: 20px\"> <b>Success:</b><br>\n",
    "    Well done!</div>  "
   ]
  },
  {
   "cell_type": "code",
   "execution_count": 50,
   "metadata": {
    "scrolled": true
   },
   "outputs": [
    {
     "data": {
      "text/plain": [
       "building a property                         619\n",
       "building a real estate                      624\n",
       "buy commercial real estate                  661\n",
       "buy real estate                             620\n",
       "buy residential real estate                 606\n",
       "buying a second-hand car                    478\n",
       "buying my own car                           505\n",
       "buying property for renting out             651\n",
       "car                                         494\n",
       "car purchase                                461\n",
       "cars                                        478\n",
       "construction of own property                635\n",
       "education                                   447\n",
       "getting an education                        442\n",
       "getting higher education                    426\n",
       "going to university                         496\n",
       "having a wedding                            768\n",
       "housing                                     646\n",
       "housing renovation                          607\n",
       "housing transactions                        652\n",
       "profile education                           436\n",
       "property                                    633\n",
       "purchase of a car                           455\n",
       "purchase of my own house                    620\n",
       "purchase of the house                       646\n",
       "purchase of the house for my family         638\n",
       "real estate transactions                    675\n",
       "second-hand car purchase                    486\n",
       "supplementary education                     460\n",
       "to become educated                          408\n",
       "to buy a car                                471\n",
       "to get a supplementary education            446\n",
       "to have a wedding                           765\n",
       "to own a car                                478\n",
       "transactions with commercial real estate    650\n",
       "transactions with my real estate            627\n",
       "university education                        452\n",
       "wedding ceremony                            791\n",
       "Name: purpose, dtype: int64"
      ]
     },
     "execution_count": 50,
     "metadata": {},
     "output_type": "execute_result"
    }
   ],
   "source": [
    "credit_score['purpose'].value_counts().sort_index()"
   ]
  },
  {
   "cell_type": "code",
   "execution_count": 51,
   "metadata": {},
   "outputs": [
    {
     "data": {
      "text/html": [
       "<div>\n",
       "<style scoped>\n",
       "    .dataframe tbody tr th:only-of-type {\n",
       "        vertical-align: middle;\n",
       "    }\n",
       "\n",
       "    .dataframe tbody tr th {\n",
       "        vertical-align: top;\n",
       "    }\n",
       "\n",
       "    .dataframe thead th {\n",
       "        text-align: right;\n",
       "    }\n",
       "</style>\n",
       "<table border=\"1\" class=\"dataframe\">\n",
       "  <thead>\n",
       "    <tr style=\"text-align: right;\">\n",
       "      <th></th>\n",
       "      <th>gender</th>\n",
       "      <th>year_group</th>\n",
       "      <th>debt</th>\n",
       "      <th>purpose</th>\n",
       "    </tr>\n",
       "  </thead>\n",
       "  <tbody>\n",
       "    <tr>\n",
       "      <td>0</td>\n",
       "      <td>F</td>\n",
       "      <td>40-49</td>\n",
       "      <td>0</td>\n",
       "      <td>purchase of the house</td>\n",
       "    </tr>\n",
       "    <tr>\n",
       "      <td>1</td>\n",
       "      <td>F</td>\n",
       "      <td>30-39</td>\n",
       "      <td>0</td>\n",
       "      <td>car purchase</td>\n",
       "    </tr>\n",
       "    <tr>\n",
       "      <td>2</td>\n",
       "      <td>M</td>\n",
       "      <td>30-39</td>\n",
       "      <td>0</td>\n",
       "      <td>purchase of the house</td>\n",
       "    </tr>\n",
       "    <tr>\n",
       "      <td>3</td>\n",
       "      <td>M</td>\n",
       "      <td>30-39</td>\n",
       "      <td>0</td>\n",
       "      <td>supplementary education</td>\n",
       "    </tr>\n",
       "    <tr>\n",
       "      <td>4</td>\n",
       "      <td>F</td>\n",
       "      <td>50-59</td>\n",
       "      <td>0</td>\n",
       "      <td>to have a wedding</td>\n",
       "    </tr>\n",
       "    <tr>\n",
       "      <td>...</td>\n",
       "      <td>...</td>\n",
       "      <td>...</td>\n",
       "      <td>...</td>\n",
       "      <td>...</td>\n",
       "    </tr>\n",
       "    <tr>\n",
       "      <td>21448</td>\n",
       "      <td>F</td>\n",
       "      <td>40-49</td>\n",
       "      <td>0</td>\n",
       "      <td>housing transactions</td>\n",
       "    </tr>\n",
       "    <tr>\n",
       "      <td>21449</td>\n",
       "      <td>F</td>\n",
       "      <td>60-69</td>\n",
       "      <td>0</td>\n",
       "      <td>purchase of a car</td>\n",
       "    </tr>\n",
       "    <tr>\n",
       "      <td>21450</td>\n",
       "      <td>M</td>\n",
       "      <td>30-39</td>\n",
       "      <td>1</td>\n",
       "      <td>property</td>\n",
       "    </tr>\n",
       "    <tr>\n",
       "      <td>21451</td>\n",
       "      <td>M</td>\n",
       "      <td>30-39</td>\n",
       "      <td>1</td>\n",
       "      <td>buying my own car</td>\n",
       "    </tr>\n",
       "    <tr>\n",
       "      <td>21452</td>\n",
       "      <td>F</td>\n",
       "      <td>40-49</td>\n",
       "      <td>0</td>\n",
       "      <td>to buy a car</td>\n",
       "    </tr>\n",
       "  </tbody>\n",
       "</table>\n",
       "<p>21453 rows × 4 columns</p>\n",
       "</div>"
      ],
      "text/plain": [
       "      gender year_group  debt                  purpose\n",
       "0          F      40-49     0    purchase of the house\n",
       "1          F      30-39     0             car purchase\n",
       "2          M      30-39     0    purchase of the house\n",
       "3          M      30-39     0  supplementary education\n",
       "4          F      50-59     0        to have a wedding\n",
       "...      ...        ...   ...                      ...\n",
       "21448      F      40-49     0     housing transactions\n",
       "21449      F      60-69     0        purchase of a car\n",
       "21450      M      30-39     1                 property\n",
       "21451      M      30-39     1        buying my own car\n",
       "21452      F      40-49     0             to buy a car\n",
       "\n",
       "[21453 rows x 4 columns]"
      ]
     },
     "execution_count": 51,
     "metadata": {},
     "output_type": "execute_result"
    }
   ],
   "source": [
    "purpose_default = credit_score[['gender','year_group','debt','purpose']]\n",
    "purpose_default"
   ]
  },
  {
   "cell_type": "code",
   "execution_count": 52,
   "metadata": {
    "scrolled": true
   },
   "outputs": [
    {
     "name": "stderr",
     "output_type": "stream",
     "text": [
      "/opt/conda/lib/python3.7/site-packages/ipykernel_launcher.py:24: SettingWithCopyWarning: \n",
      "A value is trying to be set on a copy of a slice from a DataFrame.\n",
      "Try using .loc[row_indexer,col_indexer] = value instead\n",
      "\n",
      "See the caveats in the documentation: http://pandas.pydata.org/pandas-docs/stable/user_guide/indexing.html#returning-a-view-versus-a-copy\n"
     ]
    },
    {
     "data": {
      "text/html": [
       "<div>\n",
       "<style scoped>\n",
       "    .dataframe tbody tr th:only-of-type {\n",
       "        vertical-align: middle;\n",
       "    }\n",
       "\n",
       "    .dataframe tbody tr th {\n",
       "        vertical-align: top;\n",
       "    }\n",
       "\n",
       "    .dataframe thead th {\n",
       "        text-align: right;\n",
       "    }\n",
       "</style>\n",
       "<table border=\"1\" class=\"dataframe\">\n",
       "  <thead>\n",
       "    <tr style=\"text-align: right;\">\n",
       "      <th></th>\n",
       "      <th>gender</th>\n",
       "      <th>year_group</th>\n",
       "      <th>debt</th>\n",
       "      <th>purpose</th>\n",
       "      <th>purpose_extract</th>\n",
       "    </tr>\n",
       "  </thead>\n",
       "  <tbody>\n",
       "    <tr>\n",
       "      <td>0</td>\n",
       "      <td>F</td>\n",
       "      <td>40-49</td>\n",
       "      <td>0</td>\n",
       "      <td>purchase of the house</td>\n",
       "      <td>property</td>\n",
       "    </tr>\n",
       "    <tr>\n",
       "      <td>1</td>\n",
       "      <td>F</td>\n",
       "      <td>30-39</td>\n",
       "      <td>0</td>\n",
       "      <td>car purchase</td>\n",
       "      <td>car</td>\n",
       "    </tr>\n",
       "    <tr>\n",
       "      <td>2</td>\n",
       "      <td>M</td>\n",
       "      <td>30-39</td>\n",
       "      <td>0</td>\n",
       "      <td>purchase of the house</td>\n",
       "      <td>property</td>\n",
       "    </tr>\n",
       "    <tr>\n",
       "      <td>3</td>\n",
       "      <td>M</td>\n",
       "      <td>30-39</td>\n",
       "      <td>0</td>\n",
       "      <td>supplementary education</td>\n",
       "      <td>studies</td>\n",
       "    </tr>\n",
       "    <tr>\n",
       "      <td>4</td>\n",
       "      <td>F</td>\n",
       "      <td>50-59</td>\n",
       "      <td>0</td>\n",
       "      <td>to have a wedding</td>\n",
       "      <td>wedding</td>\n",
       "    </tr>\n",
       "    <tr>\n",
       "      <td>...</td>\n",
       "      <td>...</td>\n",
       "      <td>...</td>\n",
       "      <td>...</td>\n",
       "      <td>...</td>\n",
       "      <td>...</td>\n",
       "    </tr>\n",
       "    <tr>\n",
       "      <td>21448</td>\n",
       "      <td>F</td>\n",
       "      <td>40-49</td>\n",
       "      <td>0</td>\n",
       "      <td>housing transactions</td>\n",
       "      <td>property</td>\n",
       "    </tr>\n",
       "    <tr>\n",
       "      <td>21449</td>\n",
       "      <td>F</td>\n",
       "      <td>60-69</td>\n",
       "      <td>0</td>\n",
       "      <td>purchase of a car</td>\n",
       "      <td>car</td>\n",
       "    </tr>\n",
       "    <tr>\n",
       "      <td>21450</td>\n",
       "      <td>M</td>\n",
       "      <td>30-39</td>\n",
       "      <td>1</td>\n",
       "      <td>property</td>\n",
       "      <td>property</td>\n",
       "    </tr>\n",
       "    <tr>\n",
       "      <td>21451</td>\n",
       "      <td>M</td>\n",
       "      <td>30-39</td>\n",
       "      <td>1</td>\n",
       "      <td>buying my own car</td>\n",
       "      <td>car</td>\n",
       "    </tr>\n",
       "    <tr>\n",
       "      <td>21452</td>\n",
       "      <td>F</td>\n",
       "      <td>40-49</td>\n",
       "      <td>0</td>\n",
       "      <td>to buy a car</td>\n",
       "      <td>car</td>\n",
       "    </tr>\n",
       "  </tbody>\n",
       "</table>\n",
       "<p>21453 rows × 5 columns</p>\n",
       "</div>"
      ],
      "text/plain": [
       "      gender year_group  debt                  purpose purpose_extract\n",
       "0          F      40-49     0    purchase of the house        property\n",
       "1          F      30-39     0             car purchase             car\n",
       "2          M      30-39     0    purchase of the house        property\n",
       "3          M      30-39     0  supplementary education         studies\n",
       "4          F      50-59     0        to have a wedding         wedding\n",
       "...      ...        ...   ...                      ...             ...\n",
       "21448      F      40-49     0     housing transactions        property\n",
       "21449      F      60-69     0        purchase of a car             car\n",
       "21450      M      30-39     1                 property        property\n",
       "21451      M      30-39     1        buying my own car             car\n",
       "21452      F      40-49     0             to buy a car             car\n",
       "\n",
       "[21453 rows x 5 columns]"
      ]
     },
     "execution_count": 52,
     "metadata": {},
     "output_type": "execute_result"
    }
   ],
   "source": [
    "def text_extract(row):\n",
    "    purpose = row['purpose']\n",
    "    if 'house' in purpose:\n",
    "        return 'property'\n",
    "    elif 'housing' in purpose:\n",
    "        return 'property'\n",
    "    elif 'car' in purpose:\n",
    "        return 'car'\n",
    "    elif 'estate' in purpose:\n",
    "        return 'property'\n",
    "    elif 'education' in purpose:\n",
    "        return 'studies'\n",
    "    elif 'property' in purpose:\n",
    "        return 'property'\n",
    "    elif 'wedding' in purpose:\n",
    "        return 'wedding'\n",
    "    elif 'educated' in purpose:\n",
    "        return 'studies'\n",
    "    elif 'university' in purpose:\n",
    "        return 'studies'\n",
    "    else:\n",
    "        return 'other'\n",
    "\n",
    "purpose_default['purpose_extract'] = purpose_default.apply(text_extract, axis =1)\n",
    "purpose_default"
   ]
  },
  {
   "cell_type": "markdown",
   "metadata": {},
   "source": [
    "Given that, the reasons/purpose for taking out a loan were written and presented in different but similar reasons, categorization was done to enable ease of use in the analysis. \n",
    "* Reasons such as to buy a house,buy property, purchase real estate have all been placed under property. \n",
    "* This was followed by car for those who wanted to buy car,own a car or rent one. \n",
    "* Studies was used for those who stated education, get educated as their reasons. \n",
    "* Lastly, wedding was used for those who wanted the loans to finance their wedding ceremony."
   ]
  },
  {
   "cell_type": "code",
   "execution_count": 53,
   "metadata": {},
   "outputs": [
    {
     "name": "stderr",
     "output_type": "stream",
     "text": [
      "/opt/conda/lib/python3.7/site-packages/ipykernel_launcher.py:22: SettingWithCopyWarning: \n",
      "A value is trying to be set on a copy of a slice from a DataFrame.\n",
      "Try using .loc[row_indexer,col_indexer] = value instead\n",
      "\n",
      "See the caveats in the documentation: http://pandas.pydata.org/pandas-docs/stable/user_guide/indexing.html#returning-a-view-versus-a-copy\n"
     ]
    },
    {
     "data": {
      "text/html": [
       "<div>\n",
       "<style scoped>\n",
       "    .dataframe tbody tr th:only-of-type {\n",
       "        vertical-align: middle;\n",
       "    }\n",
       "\n",
       "    .dataframe tbody tr th {\n",
       "        vertical-align: top;\n",
       "    }\n",
       "\n",
       "    .dataframe thead th {\n",
       "        text-align: right;\n",
       "    }\n",
       "</style>\n",
       "<table border=\"1\" class=\"dataframe\">\n",
       "  <thead>\n",
       "    <tr style=\"text-align: right;\">\n",
       "      <th></th>\n",
       "      <th>gender</th>\n",
       "      <th>year_group</th>\n",
       "      <th>debt</th>\n",
       "      <th>purpose</th>\n",
       "      <th>purpose_extract</th>\n",
       "      <th>purpose_defaulters</th>\n",
       "    </tr>\n",
       "  </thead>\n",
       "  <tbody>\n",
       "    <tr>\n",
       "      <td>0</td>\n",
       "      <td>F</td>\n",
       "      <td>40-49</td>\n",
       "      <td>0</td>\n",
       "      <td>purchase of the house</td>\n",
       "      <td>property</td>\n",
       "      <td>property debt paid</td>\n",
       "    </tr>\n",
       "    <tr>\n",
       "      <td>1</td>\n",
       "      <td>F</td>\n",
       "      <td>30-39</td>\n",
       "      <td>0</td>\n",
       "      <td>car purchase</td>\n",
       "      <td>car</td>\n",
       "      <td>car debt paid</td>\n",
       "    </tr>\n",
       "    <tr>\n",
       "      <td>2</td>\n",
       "      <td>M</td>\n",
       "      <td>30-39</td>\n",
       "      <td>0</td>\n",
       "      <td>purchase of the house</td>\n",
       "      <td>property</td>\n",
       "      <td>property debt paid</td>\n",
       "    </tr>\n",
       "    <tr>\n",
       "      <td>3</td>\n",
       "      <td>M</td>\n",
       "      <td>30-39</td>\n",
       "      <td>0</td>\n",
       "      <td>supplementary education</td>\n",
       "      <td>studies</td>\n",
       "      <td>Study loan paid</td>\n",
       "    </tr>\n",
       "    <tr>\n",
       "      <td>4</td>\n",
       "      <td>F</td>\n",
       "      <td>50-59</td>\n",
       "      <td>0</td>\n",
       "      <td>to have a wedding</td>\n",
       "      <td>wedding</td>\n",
       "      <td>wedding debt paid</td>\n",
       "    </tr>\n",
       "    <tr>\n",
       "      <td>...</td>\n",
       "      <td>...</td>\n",
       "      <td>...</td>\n",
       "      <td>...</td>\n",
       "      <td>...</td>\n",
       "      <td>...</td>\n",
       "      <td>...</td>\n",
       "    </tr>\n",
       "    <tr>\n",
       "      <td>21448</td>\n",
       "      <td>F</td>\n",
       "      <td>40-49</td>\n",
       "      <td>0</td>\n",
       "      <td>housing transactions</td>\n",
       "      <td>property</td>\n",
       "      <td>property debt paid</td>\n",
       "    </tr>\n",
       "    <tr>\n",
       "      <td>21449</td>\n",
       "      <td>F</td>\n",
       "      <td>60-69</td>\n",
       "      <td>0</td>\n",
       "      <td>purchase of a car</td>\n",
       "      <td>car</td>\n",
       "      <td>car debt paid</td>\n",
       "    </tr>\n",
       "    <tr>\n",
       "      <td>21450</td>\n",
       "      <td>M</td>\n",
       "      <td>30-39</td>\n",
       "      <td>1</td>\n",
       "      <td>property</td>\n",
       "      <td>property</td>\n",
       "      <td>property debt defaulter</td>\n",
       "    </tr>\n",
       "    <tr>\n",
       "      <td>21451</td>\n",
       "      <td>M</td>\n",
       "      <td>30-39</td>\n",
       "      <td>1</td>\n",
       "      <td>buying my own car</td>\n",
       "      <td>car</td>\n",
       "      <td>car debt Defaulter</td>\n",
       "    </tr>\n",
       "    <tr>\n",
       "      <td>21452</td>\n",
       "      <td>F</td>\n",
       "      <td>40-49</td>\n",
       "      <td>0</td>\n",
       "      <td>to buy a car</td>\n",
       "      <td>car</td>\n",
       "      <td>car debt paid</td>\n",
       "    </tr>\n",
       "  </tbody>\n",
       "</table>\n",
       "<p>21453 rows × 6 columns</p>\n",
       "</div>"
      ],
      "text/plain": [
       "      gender year_group  debt                  purpose purpose_extract  \\\n",
       "0          F      40-49     0    purchase of the house        property   \n",
       "1          F      30-39     0             car purchase             car   \n",
       "2          M      30-39     0    purchase of the house        property   \n",
       "3          M      30-39     0  supplementary education         studies   \n",
       "4          F      50-59     0        to have a wedding         wedding   \n",
       "...      ...        ...   ...                      ...             ...   \n",
       "21448      F      40-49     0     housing transactions        property   \n",
       "21449      F      60-69     0        purchase of a car             car   \n",
       "21450      M      30-39     1                 property        property   \n",
       "21451      M      30-39     1        buying my own car             car   \n",
       "21452      F      40-49     0             to buy a car             car   \n",
       "\n",
       "            purpose_defaulters  \n",
       "0           property debt paid  \n",
       "1                car debt paid  \n",
       "2           property debt paid  \n",
       "3              Study loan paid  \n",
       "4            wedding debt paid  \n",
       "...                        ...  \n",
       "21448       property debt paid  \n",
       "21449            car debt paid  \n",
       "21450  property debt defaulter  \n",
       "21451       car debt Defaulter  \n",
       "21452            car debt paid  \n",
       "\n",
       "[21453 rows x 6 columns]"
      ]
     },
     "execution_count": 53,
     "metadata": {},
     "output_type": "execute_result"
    }
   ],
   "source": [
    "def assign_purpose_debt_default(row):\n",
    "    purpose_extract = row['purpose_extract']\n",
    "    debt = row['debt']\n",
    "    if purpose_extract =='car' and debt==0:\n",
    "        return 'car debt paid'\n",
    "    if purpose_extract == 'car' and debt ==1:\n",
    "        return 'car debt Defaulter'\n",
    "    if purpose_extract == 'property' and debt ==0:\n",
    "        return 'property debt paid'\n",
    "    if purpose_extract =='property' and debt ==1:\n",
    "        return 'property debt defaulter'\n",
    "    if purpose_extract == 'studies' and debt ==0:\n",
    "        return 'Study loan paid'\n",
    "    if purpose_extract == 'studies' and debt ==1:\n",
    "        return 'studies debt defaulter'\n",
    "    if purpose_extract == 'wedding' and debt==0:\n",
    "        return 'wedding debt paid'\n",
    "    if purpose_extract == 'wedding' and debt ==1:\n",
    "        return 'wedding debt defaulter'\n",
    "    else:\n",
    "        return 'Red Alert'\n",
    "purpose_default['purpose_defaulters'] = purpose_default.apply(assign_purpose_debt_default, axis =1)\n",
    "purpose_default"
   ]
  },
  {
   "cell_type": "markdown",
   "metadata": {},
   "source": [
    "Purpose defaulters column have been created based on 1. the purpose extract column and 2. debt column. Two categories were been created for each reason. One for a non defaulter and the onther as a defaulter. This would then be used in the creation of pivot table to provide an overview on whether indeed there is a relationship between purpose and loan repayment."
   ]
  },
  {
   "cell_type": "code",
   "execution_count": 54,
   "metadata": {},
   "outputs": [
    {
     "data": {
      "text/html": [
       "<div>\n",
       "<style scoped>\n",
       "    .dataframe tbody tr th:only-of-type {\n",
       "        vertical-align: middle;\n",
       "    }\n",
       "\n",
       "    .dataframe tbody tr th {\n",
       "        vertical-align: top;\n",
       "    }\n",
       "\n",
       "    .dataframe thead th {\n",
       "        text-align: right;\n",
       "    }\n",
       "</style>\n",
       "<table border=\"1\" class=\"dataframe\">\n",
       "  <thead>\n",
       "    <tr style=\"text-align: right;\">\n",
       "      <th></th>\n",
       "      <th>purpose_defaulters</th>\n",
       "      <th>Study loan paid</th>\n",
       "      <th>car debt Defaulter</th>\n",
       "      <th>car debt paid</th>\n",
       "      <th>property debt defaulter</th>\n",
       "      <th>property debt paid</th>\n",
       "      <th>studies debt defaulter</th>\n",
       "      <th>wedding debt defaulter</th>\n",
       "      <th>wedding debt paid</th>\n",
       "      <th>All</th>\n",
       "    </tr>\n",
       "    <tr>\n",
       "      <th>year_group</th>\n",
       "      <th>gender</th>\n",
       "      <th></th>\n",
       "      <th></th>\n",
       "      <th></th>\n",
       "      <th></th>\n",
       "      <th></th>\n",
       "      <th></th>\n",
       "      <th></th>\n",
       "      <th></th>\n",
       "      <th></th>\n",
       "    </tr>\n",
       "  </thead>\n",
       "  <tbody>\n",
       "    <tr>\n",
       "      <td>20-29</td>\n",
       "      <td>M</td>\n",
       "      <td>219.0</td>\n",
       "      <td>43.0</td>\n",
       "      <td>205.0</td>\n",
       "      <td>73.0</td>\n",
       "      <td>644.0</td>\n",
       "      <td>36.0</td>\n",
       "      <td>17.0</td>\n",
       "      <td>118.0</td>\n",
       "      <td>1355</td>\n",
       "    </tr>\n",
       "    <tr>\n",
       "      <td>30-39</td>\n",
       "      <td>M</td>\n",
       "      <td>362.0</td>\n",
       "      <td>52.0</td>\n",
       "      <td>386.0</td>\n",
       "      <td>107.0</td>\n",
       "      <td>999.0</td>\n",
       "      <td>53.0</td>\n",
       "      <td>19.0</td>\n",
       "      <td>212.0</td>\n",
       "      <td>2190</td>\n",
       "    </tr>\n",
       "    <tr>\n",
       "      <td>40-49</td>\n",
       "      <td>M</td>\n",
       "      <td>289.0</td>\n",
       "      <td>36.0</td>\n",
       "      <td>346.0</td>\n",
       "      <td>86.0</td>\n",
       "      <td>882.0</td>\n",
       "      <td>37.0</td>\n",
       "      <td>19.0</td>\n",
       "      <td>189.0</td>\n",
       "      <td>1884</td>\n",
       "    </tr>\n",
       "    <tr>\n",
       "      <td>50-59</td>\n",
       "      <td>M</td>\n",
       "      <td>212.0</td>\n",
       "      <td>26.0</td>\n",
       "      <td>238.0</td>\n",
       "      <td>56.0</td>\n",
       "      <td>583.0</td>\n",
       "      <td>28.0</td>\n",
       "      <td>18.0</td>\n",
       "      <td>110.0</td>\n",
       "      <td>1271</td>\n",
       "    </tr>\n",
       "    <tr>\n",
       "      <td>60-69</td>\n",
       "      <td>M</td>\n",
       "      <td>95.0</td>\n",
       "      <td>10.0</td>\n",
       "      <td>97.0</td>\n",
       "      <td>13.0</td>\n",
       "      <td>258.0</td>\n",
       "      <td>9.0</td>\n",
       "      <td>5.0</td>\n",
       "      <td>50.0</td>\n",
       "      <td>537</td>\n",
       "    </tr>\n",
       "    <tr>\n",
       "      <td>70+</td>\n",
       "      <td>M</td>\n",
       "      <td>6.0</td>\n",
       "      <td>1.0</td>\n",
       "      <td>6.0</td>\n",
       "      <td>2.0</td>\n",
       "      <td>20.0</td>\n",
       "      <td>NaN</td>\n",
       "      <td>NaN</td>\n",
       "      <td>3.0</td>\n",
       "      <td>38</td>\n",
       "    </tr>\n",
       "    <tr>\n",
       "      <td>Under Age</td>\n",
       "      <td>M</td>\n",
       "      <td>NaN</td>\n",
       "      <td>NaN</td>\n",
       "      <td>NaN</td>\n",
       "      <td>1.0</td>\n",
       "      <td>1.0</td>\n",
       "      <td>NaN</td>\n",
       "      <td>NaN</td>\n",
       "      <td>2.0</td>\n",
       "      <td>4</td>\n",
       "    </tr>\n",
       "    <tr>\n",
       "      <td>20-29</td>\n",
       "      <td>F</td>\n",
       "      <td>305.0</td>\n",
       "      <td>33.0</td>\n",
       "      <td>315.0</td>\n",
       "      <td>89.0</td>\n",
       "      <td>822.0</td>\n",
       "      <td>42.0</td>\n",
       "      <td>15.0</td>\n",
       "      <td>189.0</td>\n",
       "      <td>1810</td>\n",
       "    </tr>\n",
       "    <tr>\n",
       "      <td>30-39</td>\n",
       "      <td>F</td>\n",
       "      <td>569.0</td>\n",
       "      <td>84.0</td>\n",
       "      <td>617.0</td>\n",
       "      <td>132.0</td>\n",
       "      <td>1612.0</td>\n",
       "      <td>64.0</td>\n",
       "      <td>41.0</td>\n",
       "      <td>353.0</td>\n",
       "      <td>3472</td>\n",
       "    </tr>\n",
       "    <tr>\n",
       "      <td>40-49</td>\n",
       "      <td>F</td>\n",
       "      <td>627.0</td>\n",
       "      <td>58.0</td>\n",
       "      <td>670.0</td>\n",
       "      <td>105.0</td>\n",
       "      <td>1683.0</td>\n",
       "      <td>44.0</td>\n",
       "      <td>27.0</td>\n",
       "      <td>357.0</td>\n",
       "      <td>3571</td>\n",
       "    </tr>\n",
       "    <tr>\n",
       "      <td>50-59</td>\n",
       "      <td>F</td>\n",
       "      <td>608.0</td>\n",
       "      <td>39.0</td>\n",
       "      <td>632.0</td>\n",
       "      <td>82.0</td>\n",
       "      <td>1617.0</td>\n",
       "      <td>38.0</td>\n",
       "      <td>18.0</td>\n",
       "      <td>352.0</td>\n",
       "      <td>3386</td>\n",
       "    </tr>\n",
       "    <tr>\n",
       "      <td>60-69</td>\n",
       "      <td>F</td>\n",
       "      <td>324.0</td>\n",
       "      <td>18.0</td>\n",
       "      <td>364.0</td>\n",
       "      <td>36.0</td>\n",
       "      <td>840.0</td>\n",
       "      <td>19.0</td>\n",
       "      <td>7.0</td>\n",
       "      <td>186.0</td>\n",
       "      <td>1794</td>\n",
       "    </tr>\n",
       "    <tr>\n",
       "      <td>70+</td>\n",
       "      <td>F</td>\n",
       "      <td>26.0</td>\n",
       "      <td>3.0</td>\n",
       "      <td>24.0</td>\n",
       "      <td>NaN</td>\n",
       "      <td>62.0</td>\n",
       "      <td>NaN</td>\n",
       "      <td>NaN</td>\n",
       "      <td>16.0</td>\n",
       "      <td>131</td>\n",
       "    </tr>\n",
       "    <tr>\n",
       "      <td>Under Age</td>\n",
       "      <td>F</td>\n",
       "      <td>1.0</td>\n",
       "      <td>NaN</td>\n",
       "      <td>3.0</td>\n",
       "      <td>NaN</td>\n",
       "      <td>5.0</td>\n",
       "      <td>NaN</td>\n",
       "      <td>NaN</td>\n",
       "      <td>1.0</td>\n",
       "      <td>10</td>\n",
       "    </tr>\n",
       "    <tr>\n",
       "      <td>All</td>\n",
       "      <td></td>\n",
       "      <td>3643.0</td>\n",
       "      <td>403.0</td>\n",
       "      <td>3903.0</td>\n",
       "      <td>782.0</td>\n",
       "      <td>10028.0</td>\n",
       "      <td>370.0</td>\n",
       "      <td>186.0</td>\n",
       "      <td>2138.0</td>\n",
       "      <td>21453</td>\n",
       "    </tr>\n",
       "  </tbody>\n",
       "</table>\n",
       "</div>"
      ],
      "text/plain": [
       "purpose_defaulters  Study loan paid  car debt Defaulter  car debt paid  \\\n",
       "year_group gender                                                        \n",
       "20-29      M                  219.0                43.0          205.0   \n",
       "30-39      M                  362.0                52.0          386.0   \n",
       "40-49      M                  289.0                36.0          346.0   \n",
       "50-59      M                  212.0                26.0          238.0   \n",
       "60-69      M                   95.0                10.0           97.0   \n",
       "70+        M                    6.0                 1.0            6.0   \n",
       "Under Age  M                    NaN                 NaN            NaN   \n",
       "20-29      F                  305.0                33.0          315.0   \n",
       "30-39      F                  569.0                84.0          617.0   \n",
       "40-49      F                  627.0                58.0          670.0   \n",
       "50-59      F                  608.0                39.0          632.0   \n",
       "60-69      F                  324.0                18.0          364.0   \n",
       "70+        F                   26.0                 3.0           24.0   \n",
       "Under Age  F                    1.0                 NaN            3.0   \n",
       "All                          3643.0               403.0         3903.0   \n",
       "\n",
       "purpose_defaulters  property debt defaulter  property debt paid  \\\n",
       "year_group gender                                                 \n",
       "20-29      M                           73.0               644.0   \n",
       "30-39      M                          107.0               999.0   \n",
       "40-49      M                           86.0               882.0   \n",
       "50-59      M                           56.0               583.0   \n",
       "60-69      M                           13.0               258.0   \n",
       "70+        M                            2.0                20.0   \n",
       "Under Age  M                            1.0                 1.0   \n",
       "20-29      F                           89.0               822.0   \n",
       "30-39      F                          132.0              1612.0   \n",
       "40-49      F                          105.0              1683.0   \n",
       "50-59      F                           82.0              1617.0   \n",
       "60-69      F                           36.0               840.0   \n",
       "70+        F                            NaN                62.0   \n",
       "Under Age  F                            NaN                 5.0   \n",
       "All                                   782.0             10028.0   \n",
       "\n",
       "purpose_defaulters  studies debt defaulter  wedding debt defaulter  \\\n",
       "year_group gender                                                    \n",
       "20-29      M                          36.0                    17.0   \n",
       "30-39      M                          53.0                    19.0   \n",
       "40-49      M                          37.0                    19.0   \n",
       "50-59      M                          28.0                    18.0   \n",
       "60-69      M                           9.0                     5.0   \n",
       "70+        M                           NaN                     NaN   \n",
       "Under Age  M                           NaN                     NaN   \n",
       "20-29      F                          42.0                    15.0   \n",
       "30-39      F                          64.0                    41.0   \n",
       "40-49      F                          44.0                    27.0   \n",
       "50-59      F                          38.0                    18.0   \n",
       "60-69      F                          19.0                     7.0   \n",
       "70+        F                           NaN                     NaN   \n",
       "Under Age  F                           NaN                     NaN   \n",
       "All                                  370.0                   186.0   \n",
       "\n",
       "purpose_defaulters  wedding debt paid    All  \n",
       "year_group gender                             \n",
       "20-29      M                    118.0   1355  \n",
       "30-39      M                    212.0   2190  \n",
       "40-49      M                    189.0   1884  \n",
       "50-59      M                    110.0   1271  \n",
       "60-69      M                     50.0    537  \n",
       "70+        M                      3.0     38  \n",
       "Under Age  M                      2.0      4  \n",
       "20-29      F                    189.0   1810  \n",
       "30-39      F                    353.0   3472  \n",
       "40-49      F                    357.0   3571  \n",
       "50-59      F                    352.0   3386  \n",
       "60-69      F                    186.0   1794  \n",
       "70+        F                     16.0    131  \n",
       "Under Age  F                      1.0     10  \n",
       "All                            2138.0  21453  "
      ]
     },
     "execution_count": 54,
     "metadata": {},
     "output_type": "execute_result"
    }
   ],
   "source": [
    "purpose_default_pivoted= purpose_default.pivot_table(index=['year_group','gender'],\n",
    "                              columns='purpose_defaulters',\n",
    "                             values= 'purpose_extract',\n",
    "                             aggfunc='count',\n",
    "                             margins=True)\n",
    "purpose_default_pivoted.sort_values(by = 'gender',ascending=False)"
   ]
  },
  {
   "cell_type": "markdown",
   "metadata": {},
   "source": [
    "<div style=\"border:solid green 2px; padding: 20px\"> <b>Success:</b><br>\n",
    "    Well, it's all good here. 🙂 </div>"
   ]
  },
  {
   "cell_type": "markdown",
   "metadata": {},
   "source": [
    "### Conclusion"
   ]
  },
  {
   "cell_type": "markdown",
   "metadata": {},
   "source": [
    "## Answer these questions"
   ]
  },
  {
   "cell_type": "markdown",
   "metadata": {},
   "source": [
    "- Is there a relation between having kids and repaying a loan on time?"
   ]
  },
  {
   "cell_type": "markdown",
   "metadata": {},
   "source": [
    "From the pivot_table, **child not a factor(no children)** category were the highest defaulters followed by **least defaulter(at least 1 child).** This is not surprising as more than half of the total loans disbursed were **Not eligible category(no children, pay debt on time) 60.7%.** \n",
    "\n",
    "There seem to be more female defaulters compared to their male counterparts with **55.7%** of the child not a factor defaulters being females and **55.18%** of least defaulters category being the second largest defaulters also being females.\n",
    "\n",
    "On the whole, **Persons with no children(child not a factor)** represents **~61%** of Total defaulters, and **~4.96%** of the total loans disbursed with ages ranging from 20-69.\n",
    "\n",
    "Though further analysis might be needed prior to making a definate conclusion, the basis of opinion might differ depending on the denominator used in the computation of default rate. ie. Child not a factor defaulters represents **~61%** of the total_defaulters and **~4.96%** of total_loans disbursed. A ratio that is significantly different just by changing the denominator.\n",
    "\n",
    "The correlation analysis showed **little or no relationship(0.025)** between the number of children a person has and ones ability to repay their loan. \n",
    "\n",
    "**Conclusion:**\n",
    "Is there a relation between having kids and repaying a loan on time? With results from the pivot table and correlation computation, the answer is ***NO.*** "
   ]
  },
  {
   "cell_type": "markdown",
   "metadata": {},
   "source": [
    "\n",
    "<div style=\"border:solid green 2px; padding: 20px\"> <b>Success:</b><br>\n",
    "   It's great that you did such an in-depth analysis. </div>   "
   ]
  },
  {
   "cell_type": "markdown",
   "metadata": {},
   "source": [
    "### Conclusion"
   ]
  },
  {
   "cell_type": "markdown",
   "metadata": {},
   "source": [
    "- Is there a relation between marital status and repaying a loan on time?"
   ]
  },
  {
   "cell_type": "markdown",
   "metadata": {},
   "source": [
    "Based on the pivot table, being married did not immune one from taking out loans. The highest number of defaulters by family status were married defaulters(ie.**~53.5% of total_defaulters) representing **4.34%** of total loans disbursed. 33% of which are between ages of 30-39 years.\n",
    "\n",
    "Also, **~53.2% of those who settled the debt on time were the power of two category with the females making up 63.4% and 36.6% being males.** \n",
    "\n",
    "Civil partnership relationships were the second largest to settle their debts on time followed by single and free categories.\n",
    "\n",
    "The correlation coefficient for the family_status to debt ratio of **0.020** indicates little or no relationship between them.\n",
    "\n",
    "**Conclusion:** Is there a relation between marital status and repaying a loan on time? Based on the results from the pivot table and correlation analysis, the answer is ***NO.***  "
   ]
  },
  {
   "cell_type": "markdown",
   "metadata": {},
   "source": [
    "\n",
    "<div style=\"border:solid green 2px; padding: 20px\"> <b>Success:</b><br>\n",
    "   👍</div>   "
   ]
  },
  {
   "cell_type": "markdown",
   "metadata": {},
   "source": [
    "### Conclusion"
   ]
  },
  {
   "cell_type": "markdown",
   "metadata": {},
   "source": [
    "- Is there a relation between income level and repaying a loan on time?"
   ]
  },
  {
   "cell_type": "markdown",
   "metadata": {},
   "source": [
    "From the pivot table,**56.1% of the loans disbursed were to persons earning between 5k and 25k of which 4.7% defaulted across all age groups.**\n",
    "This is followed by 50k defaulters with 2.9% of the total loans disbursed. Similarly, 50k non defaulters were also the second largest after 25k non defaulters. \n",
    "\n",
    "There is a negligible negative correlation of **~-0.010** between total income and a persons ability to repay their loan.  \n",
    "\n",
    "**Conclusion:** Is there a relation between income level and repaying a loan on time? Base on the results from the pivot table and correlation analysis, the answer is ***NO.*** \n"
   ]
  },
  {
   "cell_type": "markdown",
   "metadata": {},
   "source": [
    "\n",
    "<div style=\"border:solid green 2px; padding: 20px\"> <b>Success:</b><br>\n",
    "    Well done for detailed answering!</div>  "
   ]
  },
  {
   "cell_type": "markdown",
   "metadata": {},
   "source": [
    "### Conclusion"
   ]
  },
  {
   "cell_type": "markdown",
   "metadata": {},
   "source": [
    "- How do different loan purposes affect on-time repayment of the loan?"
   ]
  },
  {
   "cell_type": "markdown",
   "metadata": {},
   "source": [
    "From the pivot table, the purpose for loans shows that, about **50.4%** were for the purchase of property. Of this, **~3.64%** defaulted representing **7.23% of property loans and ~44.9% of total loan defaulters.**\n",
    "\n",
    "The second largest defaulters are car loans followed by studies representing **~1.9% and ~1.72% respectively** which also represents the order of loans disbursed based on this category.\n",
    "The volumn disbursed under each category has shown some relative impact on the level of default for the same category though percentage rate of default for each category varies base on the parameter in use.\n",
    "\n",
    "**Conclusion** How do different loan purposes affect on-time repayment of the loan? The results from the pivot table indicates that, the different purposes do not have a significant impact on loan repayments. "
   ]
  },
  {
   "cell_type": "markdown",
   "metadata": {},
   "source": [
    "\n",
    "<div style=\"border:solid green 2px; padding: 20px\"> <b>Success:</b><br>\n",
    "    Good job!</div>  "
   ]
  },
  {
   "cell_type": "markdown",
   "metadata": {},
   "source": [
    "### Conclusion"
   ]
  },
  {
   "cell_type": "markdown",
   "metadata": {},
   "source": [
    "## General conclusion\n",
    "\n",
    "\n",
    "Individual analysis based on the paired variables alone makes it difficult to say their is evidence that one's level of income, family status, purpose of taking loan or the number of children, has a significant impact on their ability to repay their loans. \n",
    "Results from the analysis shows that, \n",
    "* The highest defaulters based on the paired data are that of, number of children to debt defaulters representing 4.96% for persons with no children(1063 individuals).\n",
    "* This is followed by income levels of 4.7% amongstthose earning between 5k and 25k(1022 individuals). \n",
    "* Family status came third with 4.34% representing married couples (931 individuals). \n",
    "* Lastly came purchase of property for purpose of loan with 3.64% (782 individuals).\n",
    "\n",
    "With no referrence as guide on whether the rate of default is relative to the total number of loans disbursed or on the number of defaulters provides little room to make final and conclusive remarks.\n",
    "\n",
    "Despite having insignificant correlation individually, combining three or more variables might give better insights on what the true relationships might be. A factor worth exploring later in the analysis. \n"
   ]
  },
  {
   "cell_type": "markdown",
   "metadata": {},
   "source": [
    "\n",
    "<div style=\"border:solid green 2px; padding: 20px\"> <b>Success :</b><br>\n",
    "    Thank you so much for taking the time to work on even the \"improve\" comments 😊</div>       \n",
    "<br>"
   ]
  },
  {
   "cell_type": "markdown",
   "metadata": {},
   "source": [
    "## Project Readiness Checklist\n",
    "\n",
    "Put 'x' in the completed points. Then press Shift + Enter."
   ]
  },
  {
   "cell_type": "markdown",
   "metadata": {},
   "source": [
    "- [x]  file open;\n",
    "- [x]  file examined;\n",
    "- [x]  missing values defined;\n",
    "- [x]  missing values are filled;\n",
    "- [x]  an explanation of which missing value types were detected;\n",
    "- [x]  explanation for the possible causes of missing values;\n",
    "- [x]  an explanation of how the blanks are filled;\n",
    "- [x]  replaced the real data type with an integer;\n",
    "- [x]  an explanation of which method is used to change the data type and why;\n",
    "- [x]  duplicates deleted;\n",
    "- [x]  an explanation of which method is used to find and remove duplicates;\n",
    "- [x]  description of the possible reasons for the appearance of duplicates in the data;\n",
    "- [x]  data is categorized;\n",
    "- [x]  an explanation of the principle of data categorization;\n",
    "- [x]  an answer to the question \"Is there a relation between having kids and repaying a loan on time?\";\n",
    "- [x]  an answer to the question \" Is there a relation between marital status and repaying a loan on time?\";\n",
    "- [x]   an answer to the question \" Is there a relation between income level and repaying a loan on time?\";\n",
    "- [x]  an answer to the question \" How do different loan purposes affect on-time repayment of the loan?\"\n",
    "- [x]  conclusions are present on each stage;\n",
    "- [x]  a general conclusion is made."
   ]
  },
  {
   "cell_type": "code",
   "execution_count": null,
   "metadata": {},
   "outputs": [],
   "source": []
  }
 ],
 "metadata": {
  "ExecuteTimeLog": [
   {
    "duration": 811,
    "start_time": "2021-06-24T12:59:23.185Z"
   },
   {
    "duration": 17,
    "start_time": "2021-06-24T13:00:31.566Z"
   },
   {
    "duration": 14,
    "start_time": "2021-06-24T13:03:53.735Z"
   },
   {
    "duration": 14,
    "start_time": "2021-06-24T13:04:17.558Z"
   },
   {
    "duration": 9,
    "start_time": "2021-06-24T13:04:29.961Z"
   },
   {
    "duration": 17,
    "start_time": "2021-06-24T13:04:49.081Z"
   },
   {
    "duration": 7,
    "start_time": "2021-06-24T13:07:26.565Z"
   },
   {
    "duration": 14,
    "start_time": "2021-06-24T13:08:18.259Z"
   },
   {
    "duration": 45,
    "start_time": "2021-06-24T13:09:36.887Z"
   },
   {
    "duration": 26,
    "start_time": "2021-06-24T13:09:59.570Z"
   },
   {
    "duration": 11,
    "start_time": "2021-06-24T13:14:59.242Z"
   },
   {
    "duration": 29,
    "start_time": "2021-06-24T13:15:35.007Z"
   },
   {
    "duration": 12,
    "start_time": "2021-06-24T13:15:56.392Z"
   },
   {
    "duration": 32,
    "start_time": "2021-06-24T13:16:08.785Z"
   },
   {
    "duration": 8,
    "start_time": "2021-06-24T13:16:37.810Z"
   },
   {
    "duration": 8,
    "start_time": "2021-06-24T13:16:57.990Z"
   },
   {
    "duration": 11,
    "start_time": "2021-06-24T13:17:16.000Z"
   },
   {
    "duration": 17,
    "start_time": "2021-06-24T13:17:46.877Z"
   },
   {
    "duration": 9,
    "start_time": "2021-06-24T13:18:07.399Z"
   },
   {
    "duration": 9,
    "start_time": "2021-06-24T13:18:46.303Z"
   },
   {
    "duration": 30,
    "start_time": "2021-06-24T13:19:06.786Z"
   },
   {
    "duration": 9,
    "start_time": "2021-06-24T13:20:47.655Z"
   },
   {
    "duration": 13,
    "start_time": "2021-06-24T13:21:16.404Z"
   },
   {
    "duration": 46,
    "start_time": "2021-06-24T13:21:55.410Z"
   },
   {
    "duration": 12,
    "start_time": "2021-06-24T13:22:16.501Z"
   },
   {
    "duration": 501,
    "start_time": "2021-06-24T13:22:47.898Z"
   },
   {
    "duration": 372,
    "start_time": "2021-06-24T13:23:38.007Z"
   },
   {
    "duration": 21,
    "start_time": "2021-06-24T13:24:40.474Z"
   },
   {
    "duration": 557,
    "start_time": "2021-06-24T13:25:17.008Z"
   },
   {
    "duration": 7,
    "start_time": "2021-06-24T13:25:45.617Z"
   },
   {
    "duration": 102,
    "start_time": "2021-06-24T13:26:20.220Z"
   },
   {
    "duration": 22,
    "start_time": "2021-06-24T13:27:22.264Z"
   },
   {
    "duration": 649,
    "start_time": "2021-06-24T13:27:43.541Z"
   },
   {
    "duration": 99,
    "start_time": "2021-06-24T13:28:17.899Z"
   },
   {
    "duration": 17,
    "start_time": "2021-06-24T13:29:03.331Z"
   },
   {
    "duration": 11,
    "start_time": "2021-06-24T13:29:17.136Z"
   },
   {
    "duration": 40,
    "start_time": "2021-06-24T13:29:47.556Z"
   },
   {
    "duration": 553,
    "start_time": "2021-06-24T13:30:36.917Z"
   },
   {
    "duration": 104,
    "start_time": "2021-06-24T13:31:13.848Z"
   },
   {
    "duration": 7,
    "start_time": "2021-06-24T13:31:36.475Z"
   },
   {
    "duration": 20,
    "start_time": "2021-06-24T13:32:12.675Z"
   },
   {
    "duration": 563,
    "start_time": "2021-06-24T13:32:31.757Z"
   },
   {
    "duration": 97,
    "start_time": "2021-06-24T13:33:01.443Z"
   },
   {
    "duration": 800,
    "start_time": "2021-06-25T08:35:47.853Z"
   },
   {
    "duration": 18,
    "start_time": "2021-06-25T08:35:48.656Z"
   },
   {
    "duration": 15,
    "start_time": "2021-06-25T08:35:48.678Z"
   },
   {
    "duration": 37,
    "start_time": "2021-06-25T08:35:48.696Z"
   },
   {
    "duration": 8,
    "start_time": "2021-06-25T08:35:48.736Z"
   },
   {
    "duration": 18,
    "start_time": "2021-06-25T08:35:48.747Z"
   },
   {
    "duration": 7,
    "start_time": "2021-06-25T08:35:48.767Z"
   },
   {
    "duration": 51,
    "start_time": "2021-06-25T08:35:48.778Z"
   },
   {
    "duration": 46,
    "start_time": "2021-06-25T08:35:48.833Z"
   },
   {
    "duration": 45,
    "start_time": "2021-06-25T08:35:48.882Z"
   },
   {
    "duration": 9,
    "start_time": "2021-06-25T08:35:48.929Z"
   },
   {
    "duration": 36,
    "start_time": "2021-06-25T08:35:48.940Z"
   },
   {
    "duration": 8,
    "start_time": "2021-06-25T08:35:48.978Z"
   },
   {
    "duration": 67,
    "start_time": "2021-06-25T08:35:48.988Z"
   },
   {
    "duration": 11,
    "start_time": "2021-06-25T08:35:49.058Z"
   },
   {
    "duration": 12,
    "start_time": "2021-06-25T08:35:49.072Z"
   },
   {
    "duration": 15,
    "start_time": "2021-06-25T08:35:49.086Z"
   },
   {
    "duration": 18,
    "start_time": "2021-06-25T08:35:49.123Z"
   },
   {
    "duration": 13,
    "start_time": "2021-06-25T08:35:49.143Z"
   },
   {
    "duration": 10,
    "start_time": "2021-06-25T08:35:49.159Z"
   },
   {
    "duration": 62,
    "start_time": "2021-06-25T08:35:49.171Z"
   },
   {
    "duration": 8,
    "start_time": "2021-06-25T08:35:49.235Z"
   },
   {
    "duration": 14,
    "start_time": "2021-06-25T08:35:49.247Z"
   },
   {
    "duration": 68,
    "start_time": "2021-06-25T08:35:49.264Z"
   },
   {
    "duration": 11,
    "start_time": "2021-06-25T08:35:49.334Z"
   },
   {
    "duration": 436,
    "start_time": "2021-06-25T08:35:49.347Z"
   },
   {
    "duration": 23,
    "start_time": "2021-06-25T08:35:49.785Z"
   },
   {
    "duration": 589,
    "start_time": "2021-06-25T08:35:49.824Z"
   },
   {
    "duration": 13,
    "start_time": "2021-06-25T08:35:50.415Z"
   },
   {
    "duration": 122,
    "start_time": "2021-06-25T08:35:50.431Z"
   },
   {
    "duration": 18,
    "start_time": "2021-06-25T08:35:50.555Z"
   },
   {
    "duration": 603,
    "start_time": "2021-06-25T08:35:50.575Z"
   },
   {
    "duration": 113,
    "start_time": "2021-06-25T08:35:51.181Z"
   },
   {
    "duration": 27,
    "start_time": "2021-06-25T08:35:51.297Z"
   },
   {
    "duration": 11,
    "start_time": "2021-06-25T08:35:51.327Z"
   },
   {
    "duration": 41,
    "start_time": "2021-06-25T08:35:51.341Z"
   },
   {
    "duration": 632,
    "start_time": "2021-06-25T08:35:51.384Z"
   },
   {
    "duration": 129,
    "start_time": "2021-06-25T08:35:52.018Z"
   },
   {
    "duration": 7,
    "start_time": "2021-06-25T08:35:52.149Z"
   },
   {
    "duration": 21,
    "start_time": "2021-06-25T08:35:52.158Z"
   },
   {
    "duration": 596,
    "start_time": "2021-06-25T08:35:52.182Z"
   },
   {
    "duration": 119,
    "start_time": "2021-06-25T08:35:52.781Z"
   },
   {
    "duration": 5,
    "start_time": "2021-06-25T08:49:49.555Z"
   },
   {
    "duration": 75,
    "start_time": "2021-06-25T09:25:15.831Z"
   },
   {
    "duration": 22,
    "start_time": "2021-06-25T09:25:15.909Z"
   },
   {
    "duration": 31,
    "start_time": "2021-06-25T09:25:15.934Z"
   },
   {
    "duration": 12,
    "start_time": "2021-06-25T09:25:15.967Z"
   },
   {
    "duration": 9,
    "start_time": "2021-06-25T09:25:15.982Z"
   },
   {
    "duration": 16,
    "start_time": "2021-06-25T09:25:16.025Z"
   },
   {
    "duration": 7,
    "start_time": "2021-06-25T09:25:16.043Z"
   },
   {
    "duration": 33,
    "start_time": "2021-06-25T09:25:16.053Z"
   },
   {
    "duration": 69,
    "start_time": "2021-06-25T09:25:16.089Z"
   },
   {
    "duration": 26,
    "start_time": "2021-06-25T09:25:16.161Z"
   },
   {
    "duration": 9,
    "start_time": "2021-06-25T09:25:16.189Z"
   },
   {
    "duration": 52,
    "start_time": "2021-06-25T09:25:16.200Z"
   },
   {
    "duration": 15,
    "start_time": "2021-06-25T09:25:16.254Z"
   },
   {
    "duration": 56,
    "start_time": "2021-06-25T09:25:16.271Z"
   },
   {
    "duration": 14,
    "start_time": "2021-06-25T09:25:16.329Z"
   },
   {
    "duration": 11,
    "start_time": "2021-06-25T09:25:16.345Z"
   },
   {
    "duration": 19,
    "start_time": "2021-06-25T09:25:16.359Z"
   },
   {
    "duration": 43,
    "start_time": "2021-06-25T09:25:16.381Z"
   },
   {
    "duration": 12,
    "start_time": "2021-06-25T09:25:16.427Z"
   },
   {
    "duration": 12,
    "start_time": "2021-06-25T09:25:16.441Z"
   },
   {
    "duration": 43,
    "start_time": "2021-06-25T09:25:16.456Z"
   },
   {
    "duration": 8,
    "start_time": "2021-06-25T09:25:18.581Z"
   },
   {
    "duration": 70,
    "start_time": "2021-06-25T09:26:52.984Z"
   },
   {
    "duration": 13,
    "start_time": "2021-06-25T09:26:53.057Z"
   },
   {
    "duration": 12,
    "start_time": "2021-06-25T09:26:53.074Z"
   },
   {
    "duration": 42,
    "start_time": "2021-06-25T09:26:53.088Z"
   },
   {
    "duration": 8,
    "start_time": "2021-06-25T09:26:53.132Z"
   },
   {
    "duration": 13,
    "start_time": "2021-06-25T09:26:53.142Z"
   },
   {
    "duration": 6,
    "start_time": "2021-06-25T09:26:53.157Z"
   },
   {
    "duration": 15,
    "start_time": "2021-06-25T09:26:53.167Z"
   },
   {
    "duration": 46,
    "start_time": "2021-06-25T09:26:53.223Z"
   },
   {
    "duration": 25,
    "start_time": "2021-06-25T09:26:53.272Z"
   },
   {
    "duration": 26,
    "start_time": "2021-06-25T09:26:53.300Z"
   },
   {
    "duration": 44,
    "start_time": "2021-06-25T09:26:53.329Z"
   },
   {
    "duration": 25,
    "start_time": "2021-06-25T09:26:53.376Z"
   },
   {
    "duration": 65,
    "start_time": "2021-06-25T09:26:53.404Z"
   },
   {
    "duration": 10,
    "start_time": "2021-06-25T09:26:53.472Z"
   },
   {
    "duration": 39,
    "start_time": "2021-06-25T09:26:53.485Z"
   },
   {
    "duration": 11,
    "start_time": "2021-06-25T09:26:53.526Z"
   },
   {
    "duration": 23,
    "start_time": "2021-06-25T09:26:53.539Z"
   },
   {
    "duration": 14,
    "start_time": "2021-06-25T09:26:53.564Z"
   },
   {
    "duration": 8,
    "start_time": "2021-06-25T09:26:53.580Z"
   },
   {
    "duration": 56,
    "start_time": "2021-06-25T09:26:53.590Z"
   },
   {
    "duration": 1015,
    "start_time": "2021-06-25T09:26:57.427Z"
   },
   {
    "duration": 611,
    "start_time": "2021-06-25T09:27:44.643Z"
   },
   {
    "duration": 549,
    "start_time": "2021-06-25T09:28:12.164Z"
   },
   {
    "duration": 7959,
    "start_time": "2021-06-25T11:18:44.106Z"
   },
   {
    "duration": 15,
    "start_time": "2021-06-25T11:18:52.067Z"
   },
   {
    "duration": 49,
    "start_time": "2021-06-25T11:18:52.086Z"
   },
   {
    "duration": 10,
    "start_time": "2021-06-25T11:18:52.138Z"
   },
   {
    "duration": 9,
    "start_time": "2021-06-25T11:18:52.150Z"
   },
   {
    "duration": 74,
    "start_time": "2021-06-25T11:18:52.162Z"
   },
   {
    "duration": 7,
    "start_time": "2021-06-25T11:18:52.238Z"
   },
   {
    "duration": 18,
    "start_time": "2021-06-25T11:18:52.247Z"
   },
   {
    "duration": 81,
    "start_time": "2021-06-25T11:18:52.269Z"
   },
   {
    "duration": 25,
    "start_time": "2021-06-25T11:18:52.353Z"
   },
   {
    "duration": 9,
    "start_time": "2021-06-25T11:18:52.381Z"
   },
   {
    "duration": 63,
    "start_time": "2021-06-25T11:18:52.392Z"
   },
   {
    "duration": 10,
    "start_time": "2021-06-25T11:18:52.458Z"
   },
   {
    "duration": 76,
    "start_time": "2021-06-25T11:18:52.471Z"
   },
   {
    "duration": 9,
    "start_time": "2021-06-25T11:18:52.550Z"
   },
   {
    "duration": 67,
    "start_time": "2021-06-25T11:18:52.561Z"
   },
   {
    "duration": 11,
    "start_time": "2021-06-25T11:18:52.631Z"
   },
   {
    "duration": 18,
    "start_time": "2021-06-25T11:18:52.644Z"
   },
   {
    "duration": 9,
    "start_time": "2021-06-25T11:18:52.724Z"
   },
   {
    "duration": 9,
    "start_time": "2021-06-25T11:18:52.736Z"
   },
   {
    "duration": 96,
    "start_time": "2021-06-25T11:18:52.747Z"
   },
   {
    "duration": 9,
    "start_time": "2021-06-25T11:18:52.846Z"
   },
   {
    "duration": 1305,
    "start_time": "2021-06-25T11:18:52.857Z"
   },
   {
    "duration": 65,
    "start_time": "2021-06-25T11:18:54.164Z"
   },
   {
    "duration": 100,
    "start_time": "2021-06-25T11:18:54.231Z"
   },
   {
    "duration": 11,
    "start_time": "2021-06-25T11:18:54.333Z"
   },
   {
    "duration": 884,
    "start_time": "2021-06-25T11:18:54.349Z"
   },
   {
    "duration": 21,
    "start_time": "2021-06-25T11:18:55.236Z"
   },
   {
    "duration": 905,
    "start_time": "2021-06-25T11:18:55.259Z"
   },
   {
    "duration": 7,
    "start_time": "2021-06-25T11:18:56.166Z"
   },
   {
    "duration": 130,
    "start_time": "2021-06-25T11:18:56.175Z"
   },
   {
    "duration": 30,
    "start_time": "2021-06-25T11:18:56.308Z"
   },
   {
    "duration": 664,
    "start_time": "2021-06-25T11:18:56.340Z"
   },
   {
    "duration": 128,
    "start_time": "2021-06-25T11:18:57.006Z"
   },
   {
    "duration": 16,
    "start_time": "2021-06-25T11:18:57.137Z"
   },
   {
    "duration": 26,
    "start_time": "2021-06-25T11:18:57.156Z"
   },
   {
    "duration": 61,
    "start_time": "2021-06-25T11:18:57.185Z"
   },
   {
    "duration": 800,
    "start_time": "2021-06-25T11:18:57.250Z"
   },
   {
    "duration": 129,
    "start_time": "2021-06-25T11:18:58.052Z"
   },
   {
    "duration": 8,
    "start_time": "2021-06-25T11:18:58.183Z"
   },
   {
    "duration": 43,
    "start_time": "2021-06-25T11:18:58.194Z"
   },
   {
    "duration": 731,
    "start_time": "2021-06-25T11:18:58.239Z"
   },
   {
    "duration": 113,
    "start_time": "2021-06-25T11:18:58.973Z"
   },
   {
    "duration": 986,
    "start_time": "2021-06-25T15:31:05.698Z"
   },
   {
    "duration": 117,
    "start_time": "2021-06-25T15:31:12.435Z"
   },
   {
    "duration": 24,
    "start_time": "2021-06-25T15:31:19.088Z"
   },
   {
    "duration": 20,
    "start_time": "2021-06-25T15:31:28.155Z"
   },
   {
    "duration": 12,
    "start_time": "2021-06-25T15:31:46.888Z"
   },
   {
    "duration": 12,
    "start_time": "2021-06-25T15:33:00.734Z"
   },
   {
    "duration": 14,
    "start_time": "2021-06-25T15:34:59.986Z"
   },
   {
    "duration": 5,
    "start_time": "2021-06-25T15:38:24.241Z"
   },
   {
    "duration": 20,
    "start_time": "2021-06-25T15:39:58.218Z"
   },
   {
    "duration": 424,
    "start_time": "2021-06-25T15:44:59.059Z"
   },
   {
    "duration": 15,
    "start_time": "2021-06-25T15:45:33.953Z"
   },
   {
    "duration": 8,
    "start_time": "2021-06-25T15:45:43.964Z"
   },
   {
    "duration": 773,
    "start_time": "2021-06-25T15:47:54.635Z"
   },
   {
    "duration": 81,
    "start_time": "2021-06-25T15:47:57.384Z"
   },
   {
    "duration": 17,
    "start_time": "2021-06-25T15:48:01.205Z"
   },
   {
    "duration": 20,
    "start_time": "2021-06-25T15:48:06.598Z"
   },
   {
    "duration": 10,
    "start_time": "2021-06-25T15:48:10.879Z"
   },
   {
    "duration": 8,
    "start_time": "2021-06-25T15:48:13.826Z"
   },
   {
    "duration": 12,
    "start_time": "2021-06-25T15:48:17.717Z"
   },
   {
    "duration": 5,
    "start_time": "2021-06-25T15:48:24.768Z"
   },
   {
    "duration": 13,
    "start_time": "2021-06-25T15:48:28.641Z"
   },
   {
    "duration": 23,
    "start_time": "2021-06-25T15:48:55.231Z"
   },
   {
    "duration": 14,
    "start_time": "2021-06-25T15:48:57.418Z"
   },
   {
    "duration": 113,
    "start_time": "2021-06-25T15:49:25.609Z"
   },
   {
    "duration": 1478,
    "start_time": "2021-06-25T15:49:41.301Z"
   },
   {
    "duration": 29,
    "start_time": "2021-06-25T15:51:05.736Z"
   },
   {
    "duration": 17,
    "start_time": "2021-06-25T15:51:09.396Z"
   },
   {
    "duration": 11,
    "start_time": "2021-06-25T15:51:36.350Z"
   },
   {
    "duration": 18,
    "start_time": "2021-06-25T15:51:48.817Z"
   },
   {
    "duration": 45,
    "start_time": "2021-06-25T15:51:54.755Z"
   },
   {
    "duration": 28,
    "start_time": "2021-06-25T15:52:34.332Z"
   },
   {
    "duration": 25,
    "start_time": "2021-06-25T15:52:48.498Z"
   },
   {
    "duration": 25,
    "start_time": "2021-06-25T15:53:46.012Z"
   },
   {
    "duration": 8,
    "start_time": "2021-06-25T15:53:58.083Z"
   },
   {
    "duration": 30,
    "start_time": "2021-06-25T15:54:03.556Z"
   },
   {
    "duration": 7,
    "start_time": "2021-06-25T15:54:07.684Z"
   },
   {
    "duration": 32,
    "start_time": "2021-06-25T15:54:09.011Z"
   },
   {
    "duration": 5,
    "start_time": "2021-06-25T15:54:44.433Z"
   },
   {
    "duration": 8,
    "start_time": "2021-06-25T15:54:50.553Z"
   },
   {
    "duration": 10,
    "start_time": "2021-06-25T15:58:21.486Z"
   },
   {
    "duration": 17,
    "start_time": "2021-06-25T15:58:26.826Z"
   },
   {
    "duration": 10,
    "start_time": "2021-06-25T15:58:28.470Z"
   },
   {
    "duration": 9,
    "start_time": "2021-06-25T15:58:32.997Z"
   },
   {
    "duration": 30,
    "start_time": "2021-06-25T15:58:38.199Z"
   },
   {
    "duration": 9,
    "start_time": "2021-06-25T15:58:57.084Z"
   },
   {
    "duration": 13,
    "start_time": "2021-06-25T15:59:18.580Z"
   },
   {
    "duration": 45,
    "start_time": "2021-06-25T15:59:23.165Z"
   },
   {
    "duration": 21,
    "start_time": "2021-06-25T16:02:13.097Z"
   },
   {
    "duration": 7,
    "start_time": "2021-06-25T16:02:19.888Z"
   },
   {
    "duration": 356,
    "start_time": "2021-06-25T16:02:25.224Z"
   },
   {
    "duration": 608,
    "start_time": "2021-06-25T16:02:49.987Z"
   },
   {
    "duration": 7,
    "start_time": "2021-06-25T16:02:56.940Z"
   },
   {
    "duration": 105,
    "start_time": "2021-06-25T16:03:00.314Z"
   },
   {
    "duration": 19,
    "start_time": "2021-06-25T16:03:05.270Z"
   },
   {
    "duration": 596,
    "start_time": "2021-06-25T16:03:10.055Z"
   },
   {
    "duration": 106,
    "start_time": "2021-06-25T16:03:15.257Z"
   },
   {
    "duration": 16,
    "start_time": "2021-06-25T16:03:19.912Z"
   },
   {
    "duration": 12,
    "start_time": "2021-06-25T16:03:23.974Z"
   },
   {
    "duration": 42,
    "start_time": "2021-06-25T16:03:26.975Z"
   },
   {
    "duration": 666,
    "start_time": "2021-06-25T16:03:34.234Z"
   },
   {
    "duration": 110,
    "start_time": "2021-06-25T16:03:39.623Z"
   },
   {
    "duration": 8,
    "start_time": "2021-06-25T16:03:44.481Z"
   },
   {
    "duration": 12,
    "start_time": "2021-06-25T16:03:48.305Z"
   },
   {
    "duration": 411,
    "start_time": "2021-06-25T16:03:57.204Z"
   },
   {
    "duration": 22,
    "start_time": "2021-06-25T16:04:46.340Z"
   },
   {
    "duration": 503,
    "start_time": "2021-06-25T16:05:15.668Z"
   },
   {
    "duration": 603,
    "start_time": "2021-06-25T16:05:31.679Z"
   },
   {
    "duration": 103,
    "start_time": "2021-06-25T16:05:36.785Z"
   },
   {
    "duration": 757,
    "start_time": "2021-06-25T17:14:32.125Z"
   },
   {
    "duration": 84,
    "start_time": "2021-06-25T17:14:35.578Z"
   },
   {
    "duration": 15,
    "start_time": "2021-06-25T17:14:40.107Z"
   },
   {
    "duration": 12,
    "start_time": "2021-06-25T17:14:46.932Z"
   },
   {
    "duration": 9,
    "start_time": "2021-06-25T17:14:53.678Z"
   },
   {
    "duration": 8,
    "start_time": "2021-06-25T17:14:56.660Z"
   },
   {
    "duration": 12,
    "start_time": "2021-06-25T17:16:20.532Z"
   },
   {
    "duration": 5,
    "start_time": "2021-06-25T17:16:29.752Z"
   },
   {
    "duration": 30,
    "start_time": "2021-06-25T17:16:32.513Z"
   },
   {
    "duration": 18,
    "start_time": "2021-06-25T17:16:34.669Z"
   },
   {
    "duration": 10,
    "start_time": "2021-06-25T17:18:58.577Z"
   },
   {
    "duration": 14,
    "start_time": "2021-06-25T17:23:38.886Z"
   },
   {
    "duration": 43,
    "start_time": "2021-06-25T17:23:42.479Z"
   },
   {
    "duration": 27,
    "start_time": "2021-06-25T17:23:47.581Z"
   },
   {
    "duration": 23,
    "start_time": "2021-06-25T17:23:54.683Z"
   },
   {
    "duration": 9,
    "start_time": "2021-06-25T17:24:02.946Z"
   },
   {
    "duration": 33,
    "start_time": "2021-06-25T17:24:08.386Z"
   },
   {
    "duration": 8,
    "start_time": "2021-06-25T17:24:12.419Z"
   },
   {
    "duration": 32,
    "start_time": "2021-06-25T17:24:17.282Z"
   },
   {
    "duration": 5,
    "start_time": "2021-06-25T17:24:22.089Z"
   },
   {
    "duration": 11,
    "start_time": "2021-06-25T17:24:27.586Z"
   },
   {
    "duration": 11,
    "start_time": "2021-06-25T17:24:32.481Z"
   },
   {
    "duration": 18,
    "start_time": "2021-06-25T17:24:36.031Z"
   },
   {
    "duration": 11,
    "start_time": "2021-06-25T17:24:41.082Z"
   },
   {
    "duration": 29,
    "start_time": "2021-06-25T17:24:48.678Z"
   },
   {
    "duration": 10,
    "start_time": "2021-06-25T17:24:55.305Z"
   },
   {
    "duration": 661,
    "start_time": "2021-06-25T17:25:05.365Z"
   },
   {
    "duration": 11,
    "start_time": "2021-06-25T17:25:12.566Z"
   },
   {
    "duration": 43,
    "start_time": "2021-06-25T17:25:16.824Z"
   },
   {
    "duration": 23,
    "start_time": "2021-06-25T17:25:30.816Z"
   },
   {
    "duration": 694,
    "start_time": "2021-06-25T17:25:37.277Z"
   },
   {
    "duration": 7,
    "start_time": "2021-06-25T17:25:45.976Z"
   },
   {
    "duration": 108,
    "start_time": "2021-06-25T17:25:51.291Z"
   },
   {
    "duration": 19,
    "start_time": "2021-06-25T17:25:58.403Z"
   },
   {
    "duration": 600,
    "start_time": "2021-06-25T17:26:02.967Z"
   },
   {
    "duration": 105,
    "start_time": "2021-06-25T17:26:08.682Z"
   },
   {
    "duration": 17,
    "start_time": "2021-06-25T17:26:20.713Z"
   },
   {
    "duration": 11,
    "start_time": "2021-06-25T17:26:24.757Z"
   },
   {
    "duration": 42,
    "start_time": "2021-06-25T17:26:29.048Z"
   },
   {
    "duration": 601,
    "start_time": "2021-06-25T17:26:33.346Z"
   },
   {
    "duration": 114,
    "start_time": "2021-06-25T17:26:40.695Z"
   },
   {
    "duration": 108,
    "start_time": "2021-06-25T17:26:49.038Z"
   },
   {
    "duration": 7,
    "start_time": "2021-06-25T17:26:57.713Z"
   },
   {
    "duration": 12,
    "start_time": "2021-06-25T17:27:02.683Z"
   },
   {
    "duration": 19,
    "start_time": "2021-06-25T17:27:08.574Z"
   },
   {
    "duration": 378,
    "start_time": "2021-06-25T17:27:12.953Z"
   },
   {
    "duration": 584,
    "start_time": "2021-06-25T17:27:17.025Z"
   },
   {
    "duration": 103,
    "start_time": "2021-06-25T17:27:21.288Z"
   },
   {
    "duration": 786,
    "start_time": "2021-06-25T18:09:26.751Z"
   },
   {
    "duration": 76,
    "start_time": "2021-06-25T18:09:27.540Z"
   },
   {
    "duration": 15,
    "start_time": "2021-06-25T18:09:27.620Z"
   },
   {
    "duration": 12,
    "start_time": "2021-06-25T18:09:27.656Z"
   },
   {
    "duration": 11,
    "start_time": "2021-06-25T18:09:27.671Z"
   },
   {
    "duration": 12,
    "start_time": "2021-06-25T18:09:27.685Z"
   },
   {
    "duration": 11,
    "start_time": "2021-06-25T18:09:27.699Z"
   },
   {
    "duration": 45,
    "start_time": "2021-06-25T18:09:27.714Z"
   },
   {
    "duration": 26,
    "start_time": "2021-06-25T18:09:27.762Z"
   },
   {
    "duration": 15,
    "start_time": "2021-06-25T18:09:27.791Z"
   },
   {
    "duration": 9,
    "start_time": "2021-06-25T18:09:27.809Z"
   },
   {
    "duration": 46,
    "start_time": "2021-06-25T18:09:27.820Z"
   },
   {
    "duration": 45,
    "start_time": "2021-06-25T18:09:27.869Z"
   },
   {
    "duration": 57,
    "start_time": "2021-06-25T18:09:27.917Z"
   },
   {
    "duration": 24,
    "start_time": "2021-06-25T18:09:27.977Z"
   },
   {
    "duration": 11,
    "start_time": "2021-06-25T18:09:28.004Z"
   },
   {
    "duration": 60,
    "start_time": "2021-06-25T18:09:28.017Z"
   },
   {
    "duration": 9,
    "start_time": "2021-06-25T18:09:28.080Z"
   },
   {
    "duration": 64,
    "start_time": "2021-06-25T18:09:28.092Z"
   },
   {
    "duration": 6,
    "start_time": "2021-06-25T18:09:28.158Z"
   },
   {
    "duration": 10,
    "start_time": "2021-06-25T18:09:28.167Z"
   },
   {
    "duration": 10,
    "start_time": "2021-06-25T18:09:28.180Z"
   },
   {
    "duration": 58,
    "start_time": "2021-06-25T18:09:28.198Z"
   },
   {
    "duration": 11,
    "start_time": "2021-06-25T18:09:28.260Z"
   },
   {
    "duration": 11,
    "start_time": "2021-06-25T18:09:28.274Z"
   },
   {
    "duration": 69,
    "start_time": "2021-06-25T18:09:28.288Z"
   },
   {
    "duration": 8,
    "start_time": "2021-06-25T18:09:28.360Z"
   },
   {
    "duration": 656,
    "start_time": "2021-06-25T18:09:28.370Z"
   },
   {
    "duration": 10,
    "start_time": "2021-06-25T18:09:29.029Z"
   },
   {
    "duration": 41,
    "start_time": "2021-06-25T18:09:29.055Z"
   },
   {
    "duration": 20,
    "start_time": "2021-06-25T18:09:29.098Z"
   },
   {
    "duration": 710,
    "start_time": "2021-06-25T18:09:29.120Z"
   },
   {
    "duration": 7,
    "start_time": "2021-06-25T18:09:29.832Z"
   },
   {
    "duration": 105,
    "start_time": "2021-06-25T18:09:29.856Z"
   },
   {
    "duration": 18,
    "start_time": "2021-06-25T18:09:29.963Z"
   },
   {
    "duration": 617,
    "start_time": "2021-06-25T18:09:29.983Z"
   },
   {
    "duration": 112,
    "start_time": "2021-06-25T18:09:30.603Z"
   },
   {
    "duration": 14,
    "start_time": "2021-06-25T18:09:30.718Z"
   },
   {
    "duration": 51,
    "start_time": "2021-06-25T18:09:30.735Z"
   },
   {
    "duration": 46,
    "start_time": "2021-06-25T18:09:30.788Z"
   },
   {
    "duration": 581,
    "start_time": "2021-06-25T18:09:30.836Z"
   },
   {
    "duration": 117,
    "start_time": "2021-06-25T18:09:31.420Z"
   },
   {
    "duration": 6,
    "start_time": "2021-06-25T18:09:31.539Z"
   },
   {
    "duration": 15,
    "start_time": "2021-06-25T18:09:31.555Z"
   },
   {
    "duration": 19,
    "start_time": "2021-06-25T18:09:31.572Z"
   },
   {
    "duration": 395,
    "start_time": "2021-06-25T18:09:31.593Z"
   },
   {
    "duration": 595,
    "start_time": "2021-06-25T18:09:31.990Z"
   },
   {
    "duration": 109,
    "start_time": "2021-06-25T18:09:32.587Z"
   },
   {
    "duration": 4,
    "start_time": "2021-06-25T18:15:22.021Z"
   },
   {
    "duration": 69,
    "start_time": "2021-06-25T18:15:22.037Z"
   },
   {
    "duration": 14,
    "start_time": "2021-06-25T18:15:22.109Z"
   },
   {
    "duration": 31,
    "start_time": "2021-06-25T18:15:22.126Z"
   },
   {
    "duration": 9,
    "start_time": "2021-06-25T18:15:22.160Z"
   },
   {
    "duration": 7,
    "start_time": "2021-06-25T18:15:22.172Z"
   },
   {
    "duration": 12,
    "start_time": "2021-06-25T18:15:22.181Z"
   },
   {
    "duration": 5,
    "start_time": "2021-06-25T18:15:22.195Z"
   },
   {
    "duration": 78,
    "start_time": "2021-06-25T18:15:22.202Z"
   },
   {
    "duration": 16,
    "start_time": "2021-06-25T18:15:22.283Z"
   },
   {
    "duration": 9,
    "start_time": "2021-06-25T18:15:22.302Z"
   },
   {
    "duration": 45,
    "start_time": "2021-06-25T18:15:22.313Z"
   },
   {
    "duration": 43,
    "start_time": "2021-06-25T18:15:22.360Z"
   },
   {
    "duration": 20,
    "start_time": "2021-06-25T18:15:49.740Z"
   },
   {
    "duration": 20,
    "start_time": "2021-06-25T18:16:02.962Z"
   },
   {
    "duration": 4,
    "start_time": "2021-06-25T18:16:24.449Z"
   },
   {
    "duration": 65,
    "start_time": "2021-06-25T18:16:24.473Z"
   },
   {
    "duration": 15,
    "start_time": "2021-06-25T18:16:24.541Z"
   },
   {
    "duration": 12,
    "start_time": "2021-06-25T18:16:24.558Z"
   },
   {
    "duration": 9,
    "start_time": "2021-06-25T18:16:24.573Z"
   },
   {
    "duration": 13,
    "start_time": "2021-06-25T18:16:24.584Z"
   },
   {
    "duration": 12,
    "start_time": "2021-06-25T18:16:24.599Z"
   },
   {
    "duration": 4,
    "start_time": "2021-06-25T18:16:24.613Z"
   },
   {
    "duration": 60,
    "start_time": "2021-06-25T18:16:24.619Z"
   },
   {
    "duration": 16,
    "start_time": "2021-06-25T18:16:24.683Z"
   },
   {
    "duration": 9,
    "start_time": "2021-06-25T18:16:24.701Z"
   },
   {
    "duration": 45,
    "start_time": "2021-06-25T18:16:24.712Z"
   },
   {
    "duration": 39,
    "start_time": "2021-06-25T18:16:24.760Z"
   },
   {
    "duration": 22,
    "start_time": "2021-06-25T18:16:24.801Z"
   },
   {
    "duration": 21,
    "start_time": "2021-06-25T18:16:36.003Z"
   },
   {
    "duration": 19,
    "start_time": "2021-06-25T18:16:38.151Z"
   },
   {
    "duration": 5,
    "start_time": "2021-06-25T18:16:59.723Z"
   },
   {
    "duration": 20,
    "start_time": "2021-06-25T18:20:14.167Z"
   },
   {
    "duration": 82,
    "start_time": "2021-06-25T18:21:26.607Z"
   },
   {
    "duration": 20,
    "start_time": "2021-06-25T18:21:33.727Z"
   },
   {
    "duration": 4,
    "start_time": "2021-06-25T18:56:50.477Z"
   },
   {
    "duration": 72,
    "start_time": "2021-06-25T18:56:50.489Z"
   },
   {
    "duration": 15,
    "start_time": "2021-06-25T18:56:50.564Z"
   },
   {
    "duration": 12,
    "start_time": "2021-06-25T18:56:50.582Z"
   },
   {
    "duration": 12,
    "start_time": "2021-06-25T18:56:50.597Z"
   },
   {
    "duration": 48,
    "start_time": "2021-06-25T18:56:50.611Z"
   },
   {
    "duration": 11,
    "start_time": "2021-06-25T18:56:50.661Z"
   },
   {
    "duration": 5,
    "start_time": "2021-06-25T18:56:50.674Z"
   },
   {
    "duration": 29,
    "start_time": "2021-06-25T18:56:50.682Z"
   },
   {
    "duration": 49,
    "start_time": "2021-06-25T18:56:50.715Z"
   },
   {
    "duration": 9,
    "start_time": "2021-06-25T18:56:50.767Z"
   },
   {
    "duration": 14,
    "start_time": "2021-06-25T18:56:50.779Z"
   },
   {
    "duration": 71,
    "start_time": "2021-06-25T18:56:50.796Z"
   },
   {
    "duration": 26,
    "start_time": "2021-06-25T18:56:50.870Z"
   },
   {
    "duration": 24,
    "start_time": "2021-06-25T18:56:50.898Z"
   },
   {
    "duration": 37,
    "start_time": "2021-06-25T18:56:50.925Z"
   },
   {
    "duration": 13,
    "start_time": "2021-06-25T18:56:55.456Z"
   },
   {
    "duration": 13,
    "start_time": "2021-06-25T18:57:05.401Z"
   },
   {
    "duration": 4,
    "start_time": "2021-06-25T18:57:12.091Z"
   },
   {
    "duration": 78,
    "start_time": "2021-06-25T18:57:12.111Z"
   },
   {
    "duration": 16,
    "start_time": "2021-06-25T18:57:12.192Z"
   },
   {
    "duration": 15,
    "start_time": "2021-06-25T18:57:12.212Z"
   },
   {
    "duration": 11,
    "start_time": "2021-06-25T18:57:12.256Z"
   },
   {
    "duration": 10,
    "start_time": "2021-06-25T18:57:12.270Z"
   },
   {
    "duration": 14,
    "start_time": "2021-06-25T18:57:12.283Z"
   },
   {
    "duration": 6,
    "start_time": "2021-06-25T18:57:12.299Z"
   },
   {
    "duration": 75,
    "start_time": "2021-06-25T18:57:12.308Z"
   },
   {
    "duration": 18,
    "start_time": "2021-06-25T18:57:12.388Z"
   },
   {
    "duration": 48,
    "start_time": "2021-06-25T18:57:12.409Z"
   },
   {
    "duration": 14,
    "start_time": "2021-06-25T18:57:12.460Z"
   },
   {
    "duration": 42,
    "start_time": "2021-06-25T18:57:12.477Z"
   },
   {
    "duration": 49,
    "start_time": "2021-06-25T18:57:12.522Z"
   },
   {
    "duration": 25,
    "start_time": "2021-06-25T18:57:12.574Z"
   },
   {
    "duration": 10,
    "start_time": "2021-06-25T18:57:12.601Z"
   },
   {
    "duration": 13,
    "start_time": "2021-06-25T18:57:15.910Z"
   },
   {
    "duration": 33,
    "start_time": "2021-06-25T18:57:53.663Z"
   },
   {
    "duration": 10,
    "start_time": "2021-06-25T18:58:26.064Z"
   },
   {
    "duration": 689,
    "start_time": "2021-06-25T19:06:25.501Z"
   },
   {
    "duration": 77,
    "start_time": "2021-06-25T19:06:26.193Z"
   },
   {
    "duration": 14,
    "start_time": "2021-06-25T19:06:26.274Z"
   },
   {
    "duration": 17,
    "start_time": "2021-06-25T19:06:26.291Z"
   },
   {
    "duration": 9,
    "start_time": "2021-06-25T19:06:26.311Z"
   },
   {
    "duration": 40,
    "start_time": "2021-06-25T19:06:26.322Z"
   },
   {
    "duration": 11,
    "start_time": "2021-06-25T19:06:26.364Z"
   },
   {
    "duration": 4,
    "start_time": "2021-06-25T19:06:26.379Z"
   },
   {
    "duration": 38,
    "start_time": "2021-06-25T19:06:26.386Z"
   },
   {
    "duration": 34,
    "start_time": "2021-06-25T19:06:26.427Z"
   },
   {
    "duration": 10,
    "start_time": "2021-06-25T19:06:26.463Z"
   },
   {
    "duration": 16,
    "start_time": "2021-06-25T19:06:26.475Z"
   },
   {
    "duration": 68,
    "start_time": "2021-06-25T19:06:26.493Z"
   },
   {
    "duration": 28,
    "start_time": "2021-06-25T19:06:26.565Z"
   },
   {
    "duration": 22,
    "start_time": "2021-06-25T19:06:26.595Z"
   },
   {
    "duration": 8,
    "start_time": "2021-06-25T19:06:26.619Z"
   },
   {
    "duration": 29,
    "start_time": "2021-06-25T19:06:26.656Z"
   },
   {
    "duration": 9,
    "start_time": "2021-06-25T19:06:26.687Z"
   },
   {
    "duration": 60,
    "start_time": "2021-06-25T19:06:26.698Z"
   },
   {
    "duration": 6,
    "start_time": "2021-06-25T19:06:26.760Z"
   },
   {
    "duration": 9,
    "start_time": "2021-06-25T19:06:26.768Z"
   },
   {
    "duration": 9,
    "start_time": "2021-06-25T19:06:26.779Z"
   },
   {
    "duration": 17,
    "start_time": "2021-06-25T19:06:26.793Z"
   },
   {
    "duration": 47,
    "start_time": "2021-06-25T19:06:26.813Z"
   },
   {
    "duration": 8,
    "start_time": "2021-06-25T19:06:26.863Z"
   },
   {
    "duration": 34,
    "start_time": "2021-06-25T19:06:26.874Z"
   },
   {
    "duration": 8,
    "start_time": "2021-06-25T19:06:26.911Z"
   },
   {
    "duration": 719,
    "start_time": "2021-06-25T19:06:26.921Z"
   },
   {
    "duration": 25,
    "start_time": "2021-06-25T19:06:27.643Z"
   },
   {
    "duration": 52,
    "start_time": "2021-06-25T19:06:27.671Z"
   },
   {
    "duration": 41,
    "start_time": "2021-06-25T19:06:27.726Z"
   },
   {
    "duration": 593,
    "start_time": "2021-06-25T19:06:27.769Z"
   },
   {
    "duration": 6,
    "start_time": "2021-06-25T19:06:28.365Z"
   },
   {
    "duration": 126,
    "start_time": "2021-06-25T19:06:28.373Z"
   },
   {
    "duration": 17,
    "start_time": "2021-06-25T19:06:28.501Z"
   },
   {
    "duration": 591,
    "start_time": "2021-06-25T19:06:28.521Z"
   },
   {
    "duration": 116,
    "start_time": "2021-06-25T19:06:29.114Z"
   },
   {
    "duration": 25,
    "start_time": "2021-06-25T19:06:29.233Z"
   },
   {
    "duration": 15,
    "start_time": "2021-06-25T19:06:29.261Z"
   },
   {
    "duration": 40,
    "start_time": "2021-06-25T19:06:29.279Z"
   },
   {
    "duration": 608,
    "start_time": "2021-06-25T19:06:29.321Z"
   },
   {
    "duration": 126,
    "start_time": "2021-06-25T19:06:29.931Z"
   },
   {
    "duration": 7,
    "start_time": "2021-06-25T19:06:30.060Z"
   },
   {
    "duration": 25,
    "start_time": "2021-06-25T19:06:30.069Z"
   },
   {
    "duration": 35,
    "start_time": "2021-06-25T19:06:30.096Z"
   },
   {
    "duration": 388,
    "start_time": "2021-06-25T19:06:30.134Z"
   },
   {
    "duration": 578,
    "start_time": "2021-06-25T19:06:30.525Z"
   },
   {
    "duration": 112,
    "start_time": "2021-06-25T19:06:31.105Z"
   },
   {
    "duration": 753,
    "start_time": "2021-06-25T19:38:13.644Z"
   },
   {
    "duration": 84,
    "start_time": "2021-06-25T19:38:14.400Z"
   },
   {
    "duration": 15,
    "start_time": "2021-06-25T19:38:14.488Z"
   },
   {
    "duration": 15,
    "start_time": "2021-06-25T19:38:14.506Z"
   },
   {
    "duration": 34,
    "start_time": "2021-06-25T19:38:14.524Z"
   },
   {
    "duration": 9,
    "start_time": "2021-06-25T19:38:14.561Z"
   },
   {
    "duration": 13,
    "start_time": "2021-06-25T19:38:14.573Z"
   },
   {
    "duration": 4,
    "start_time": "2021-06-25T19:38:14.592Z"
   },
   {
    "duration": 76,
    "start_time": "2021-06-25T19:38:14.600Z"
   },
   {
    "duration": 18,
    "start_time": "2021-06-25T19:38:14.678Z"
   },
   {
    "duration": 9,
    "start_time": "2021-06-25T19:38:14.699Z"
   },
   {
    "duration": 13,
    "start_time": "2021-06-25T19:38:14.711Z"
   },
   {
    "duration": 41,
    "start_time": "2021-06-25T19:38:14.755Z"
   },
   {
    "duration": 26,
    "start_time": "2021-06-25T19:38:14.798Z"
   },
   {
    "duration": 42,
    "start_time": "2021-06-25T19:38:14.827Z"
   },
   {
    "duration": 9,
    "start_time": "2021-06-25T19:38:14.871Z"
   },
   {
    "duration": 29,
    "start_time": "2021-06-25T19:38:14.883Z"
   },
   {
    "duration": 43,
    "start_time": "2021-06-25T19:38:14.915Z"
   },
   {
    "duration": 29,
    "start_time": "2021-06-25T19:38:14.961Z"
   },
   {
    "duration": 6,
    "start_time": "2021-06-25T19:38:14.992Z"
   },
   {
    "duration": 10,
    "start_time": "2021-06-25T19:38:15.000Z"
   },
   {
    "duration": 12,
    "start_time": "2021-06-25T19:38:15.012Z"
   },
   {
    "duration": 17,
    "start_time": "2021-06-25T19:38:15.059Z"
   },
   {
    "duration": 13,
    "start_time": "2021-06-25T19:38:15.079Z"
   },
   {
    "duration": 9,
    "start_time": "2021-06-25T19:38:15.095Z"
   },
   {
    "duration": 60,
    "start_time": "2021-06-25T19:38:15.107Z"
   },
   {
    "duration": 8,
    "start_time": "2021-06-25T19:38:15.169Z"
   },
   {
    "duration": 663,
    "start_time": "2021-06-25T19:38:15.180Z"
   },
   {
    "duration": 19,
    "start_time": "2021-06-25T19:38:15.845Z"
   },
   {
    "duration": 41,
    "start_time": "2021-06-25T19:38:15.867Z"
   },
   {
    "duration": 47,
    "start_time": "2021-06-25T19:38:15.910Z"
   },
   {
    "duration": 573,
    "start_time": "2021-06-25T19:38:15.959Z"
   },
   {
    "duration": 6,
    "start_time": "2021-06-25T19:38:16.535Z"
   },
   {
    "duration": 126,
    "start_time": "2021-06-25T19:38:16.543Z"
   },
   {
    "duration": 17,
    "start_time": "2021-06-25T19:38:16.671Z"
   },
   {
    "duration": 612,
    "start_time": "2021-06-25T19:38:16.690Z"
   },
   {
    "duration": 160,
    "start_time": "2021-06-25T19:38:17.305Z"
   },
   {
    "duration": 16,
    "start_time": "2021-06-25T19:38:17.467Z"
   },
   {
    "duration": 11,
    "start_time": "2021-06-25T19:38:17.486Z"
   },
   {
    "duration": 72,
    "start_time": "2021-06-25T19:38:17.500Z"
   },
   {
    "duration": 583,
    "start_time": "2021-06-25T19:38:17.574Z"
   },
   {
    "duration": 113,
    "start_time": "2021-06-25T19:38:18.159Z"
   },
   {
    "duration": 7,
    "start_time": "2021-06-25T19:38:18.274Z"
   },
   {
    "duration": 13,
    "start_time": "2021-06-25T19:38:18.283Z"
   },
   {
    "duration": 21,
    "start_time": "2021-06-25T19:38:18.299Z"
   },
   {
    "duration": 380,
    "start_time": "2021-06-25T19:38:18.355Z"
   },
   {
    "duration": 580,
    "start_time": "2021-06-25T19:38:18.737Z"
   },
   {
    "duration": 107,
    "start_time": "2021-06-25T19:38:19.319Z"
   },
   {
    "duration": 329,
    "start_time": "2021-06-25T19:55:49.635Z"
   },
   {
    "duration": 759,
    "start_time": "2021-06-25T20:21:53.181Z"
   },
   {
    "duration": 80,
    "start_time": "2021-06-25T20:22:07.270Z"
   },
   {
    "duration": 15,
    "start_time": "2021-06-25T20:22:12.755Z"
   },
   {
    "duration": 13,
    "start_time": "2021-06-25T20:24:42.791Z"
   },
   {
    "duration": 10,
    "start_time": "2021-06-25T20:24:48.373Z"
   },
   {
    "duration": 9,
    "start_time": "2021-06-25T20:24:53.502Z"
   },
   {
    "duration": 12,
    "start_time": "2021-06-25T20:25:05.383Z"
   },
   {
    "duration": 5,
    "start_time": "2021-06-25T20:25:10.832Z"
   },
   {
    "duration": 27,
    "start_time": "2021-06-25T20:25:14.298Z"
   },
   {
    "duration": 18,
    "start_time": "2021-06-25T20:25:18.013Z"
   },
   {
    "duration": 10,
    "start_time": "2021-06-25T20:25:50.606Z"
   },
   {
    "duration": 4,
    "start_time": "2021-06-25T20:37:20.815Z"
   },
   {
    "duration": 4,
    "start_time": "2021-06-25T20:38:31.548Z"
   },
   {
    "duration": 3,
    "start_time": "2021-06-25T20:39:06.952Z"
   },
   {
    "duration": 6163,
    "start_time": "2021-06-25T20:41:35.139Z"
   },
   {
    "duration": 3,
    "start_time": "2021-06-25T20:45:57.631Z"
   },
   {
    "duration": 273,
    "start_time": "2021-06-25T20:47:19.343Z"
   },
   {
    "duration": 265,
    "start_time": "2021-06-25T20:47:30.394Z"
   },
   {
    "duration": 6713,
    "start_time": "2021-06-25T20:47:59.019Z"
   },
   {
    "duration": 72,
    "start_time": "2021-06-25T20:58:25.777Z"
   },
   {
    "duration": 14,
    "start_time": "2021-06-25T20:58:31.269Z"
   },
   {
    "duration": 12,
    "start_time": "2021-06-25T20:58:37.223Z"
   },
   {
    "duration": 10,
    "start_time": "2021-06-25T20:58:41.661Z"
   },
   {
    "duration": 10,
    "start_time": "2021-06-25T20:58:42.865Z"
   },
   {
    "duration": 12,
    "start_time": "2021-06-25T20:58:50.485Z"
   },
   {
    "duration": 5,
    "start_time": "2021-06-25T20:58:53.478Z"
   },
   {
    "duration": 23,
    "start_time": "2021-06-25T20:58:56.826Z"
   },
   {
    "duration": 17,
    "start_time": "2021-06-25T20:58:59.206Z"
   },
   {
    "duration": 10,
    "start_time": "2021-06-25T20:59:20.485Z"
   },
   {
    "duration": 4,
    "start_time": "2021-06-25T21:02:29.283Z"
   },
   {
    "duration": 6740,
    "start_time": "2021-06-25T21:03:59.418Z"
   },
   {
    "duration": 261,
    "start_time": "2021-06-25T21:04:20.646Z"
   },
   {
    "duration": 7,
    "start_time": "2021-06-25T21:38:29.406Z"
   },
   {
    "duration": 9,
    "start_time": "2021-06-25T21:39:24.460Z"
   },
   {
    "duration": 15,
    "start_time": "2021-06-25T21:40:29.557Z"
   },
   {
    "duration": 8,
    "start_time": "2021-06-25T21:44:25.666Z"
   },
   {
    "duration": 9,
    "start_time": "2021-06-25T21:44:34.266Z"
   },
   {
    "duration": 16,
    "start_time": "2021-06-25T21:44:37.251Z"
   },
   {
    "duration": 13,
    "start_time": "2021-06-25T21:44:53.356Z"
   },
   {
    "duration": 41,
    "start_time": "2021-06-25T21:44:57.054Z"
   },
   {
    "duration": 18,
    "start_time": "2021-06-25T21:45:08.101Z"
   },
   {
    "duration": 21,
    "start_time": "2021-06-25T21:46:59.940Z"
   },
   {
    "duration": 9,
    "start_time": "2021-06-25T21:47:33.398Z"
   },
   {
    "duration": 8,
    "start_time": "2021-06-25T21:48:02.918Z"
   },
   {
    "duration": 29,
    "start_time": "2021-06-25T21:49:35.817Z"
   },
   {
    "duration": 8,
    "start_time": "2021-06-25T21:50:00.498Z"
   },
   {
    "duration": 31,
    "start_time": "2021-06-25T21:50:48.235Z"
   },
   {
    "duration": 4,
    "start_time": "2021-06-25T21:51:32.704Z"
   },
   {
    "duration": 8,
    "start_time": "2021-06-25T21:52:06.818Z"
   },
   {
    "duration": 10,
    "start_time": "2021-06-25T21:52:39.506Z"
   },
   {
    "duration": 178,
    "start_time": "2021-06-25T21:53:05.533Z"
   },
   {
    "duration": 17,
    "start_time": "2021-06-25T21:53:44.312Z"
   },
   {
    "duration": 9,
    "start_time": "2021-06-25T21:54:06.647Z"
   },
   {
    "duration": 10,
    "start_time": "2021-06-25T21:55:00.964Z"
   },
   {
    "duration": 31,
    "start_time": "2021-06-25T21:55:37.396Z"
   },
   {
    "duration": 8,
    "start_time": "2021-06-25T21:57:08.380Z"
   },
   {
    "duration": 649,
    "start_time": "2021-06-25T21:57:35.143Z"
   },
   {
    "duration": 12,
    "start_time": "2021-06-25T21:58:22.977Z"
   },
   {
    "duration": 43,
    "start_time": "2021-06-25T21:59:21.920Z"
   },
   {
    "duration": 22,
    "start_time": "2021-06-25T22:05:01.548Z"
   },
   {
    "duration": 601,
    "start_time": "2021-06-25T22:05:05.320Z"
   },
   {
    "duration": 7,
    "start_time": "2021-06-25T22:05:13.211Z"
   },
   {
    "duration": 9,
    "start_time": "2021-06-25T22:13:56.267Z"
   },
   {
    "duration": 8306,
    "start_time": "2021-06-25T22:23:16.111Z"
   },
   {
    "duration": 275,
    "start_time": "2021-06-25T22:23:52.471Z"
   },
   {
    "duration": 28,
    "start_time": "2021-06-25T22:24:05.950Z"
   },
   {
    "duration": 8,
    "start_time": "2021-06-25T22:24:10.661Z"
   },
   {
    "duration": 719,
    "start_time": "2021-06-25T22:54:45.410Z"
   },
   {
    "duration": 76,
    "start_time": "2021-06-25T22:54:49.040Z"
   },
   {
    "duration": 14,
    "start_time": "2021-06-25T22:54:54.293Z"
   },
   {
    "duration": 12,
    "start_time": "2021-06-25T22:55:00.149Z"
   },
   {
    "duration": 10,
    "start_time": "2021-06-25T22:55:07.077Z"
   },
   {
    "duration": 10,
    "start_time": "2021-06-25T22:55:10.770Z"
   },
   {
    "duration": 11,
    "start_time": "2021-06-25T22:55:15.652Z"
   },
   {
    "duration": 5,
    "start_time": "2021-06-25T22:55:19.235Z"
   },
   {
    "duration": 30,
    "start_time": "2021-06-25T22:55:21.785Z"
   },
   {
    "duration": 18,
    "start_time": "2021-06-25T22:55:24.094Z"
   },
   {
    "duration": 10,
    "start_time": "2021-06-25T22:55:36.214Z"
   },
   {
    "duration": 9,
    "start_time": "2021-06-25T22:55:41.634Z"
   },
   {
    "duration": 16,
    "start_time": "2021-06-25T22:55:47.011Z"
   },
   {
    "duration": 15,
    "start_time": "2021-06-25T22:55:58.084Z"
   },
   {
    "duration": 44,
    "start_time": "2021-06-25T22:55:59.861Z"
   },
   {
    "duration": 20,
    "start_time": "2021-06-25T22:56:04.877Z"
   },
   {
    "duration": 22,
    "start_time": "2021-06-25T22:56:09.117Z"
   },
   {
    "duration": 11,
    "start_time": "2021-06-25T22:56:20.969Z"
   },
   {
    "duration": 11,
    "start_time": "2021-06-25T22:56:24.995Z"
   },
   {
    "duration": 33,
    "start_time": "2021-06-25T22:56:29.303Z"
   },
   {
    "duration": 9,
    "start_time": "2021-06-25T22:56:34.661Z"
   },
   {
    "duration": 32,
    "start_time": "2021-06-25T22:56:37.155Z"
   },
   {
    "duration": 4,
    "start_time": "2021-06-25T22:56:41.460Z"
   },
   {
    "duration": 8,
    "start_time": "2021-06-25T22:56:43.490Z"
   },
   {
    "duration": 10,
    "start_time": "2021-06-25T22:56:47.784Z"
   },
   {
    "duration": 16,
    "start_time": "2021-06-25T22:56:52.655Z"
   },
   {
    "duration": 9,
    "start_time": "2021-06-25T22:56:56.800Z"
   },
   {
    "duration": 9,
    "start_time": "2021-06-25T22:56:58.050Z"
   },
   {
    "duration": 33,
    "start_time": "2021-06-25T22:57:05.956Z"
   },
   {
    "duration": 8,
    "start_time": "2021-06-25T22:57:12.096Z"
   },
   {
    "duration": 650,
    "start_time": "2021-06-25T22:57:13.734Z"
   },
   {
    "duration": 11,
    "start_time": "2021-06-25T22:57:18.918Z"
   },
   {
    "duration": 43,
    "start_time": "2021-06-25T22:57:24.474Z"
   },
   {
    "duration": 22,
    "start_time": "2021-06-25T22:57:30.560Z"
   },
   {
    "duration": 10,
    "start_time": "2021-06-25T22:57:41.721Z"
   },
   {
    "duration": 566,
    "start_time": "2021-06-25T22:57:54.842Z"
   },
   {
    "duration": 7,
    "start_time": "2021-06-25T22:58:00.972Z"
   },
   {
    "duration": 106,
    "start_time": "2021-06-25T22:58:04.428Z"
   },
   {
    "duration": 20,
    "start_time": "2021-06-25T22:58:14.192Z"
   },
   {
    "duration": 8,
    "start_time": "2021-06-25T22:58:23.767Z"
   },
   {
    "duration": 584,
    "start_time": "2021-06-25T22:58:26.227Z"
   },
   {
    "duration": 100,
    "start_time": "2021-06-25T22:59:07.844Z"
   },
   {
    "duration": 93,
    "start_time": "2021-06-25T22:59:57.500Z"
   },
   {
    "duration": 17,
    "start_time": "2021-06-25T23:00:02.539Z"
   },
   {
    "duration": 11,
    "start_time": "2021-06-25T23:00:18.860Z"
   },
   {
    "duration": 35,
    "start_time": "2021-06-25T23:00:32.211Z"
   },
   {
    "duration": 715,
    "start_time": "2021-06-25T23:02:05.310Z"
   },
   {
    "duration": 80,
    "start_time": "2021-06-25T23:02:07.090Z"
   },
   {
    "duration": 15,
    "start_time": "2021-06-25T23:02:13.636Z"
   },
   {
    "duration": 12,
    "start_time": "2021-06-25T23:02:18.463Z"
   },
   {
    "duration": 11,
    "start_time": "2021-06-25T23:02:22.480Z"
   },
   {
    "duration": 9,
    "start_time": "2021-06-25T23:02:23.777Z"
   },
   {
    "duration": 12,
    "start_time": "2021-06-25T23:02:28.016Z"
   },
   {
    "duration": 5,
    "start_time": "2021-06-25T23:02:31.156Z"
   },
   {
    "duration": 28,
    "start_time": "2021-06-25T23:02:32.887Z"
   },
   {
    "duration": 17,
    "start_time": "2021-06-25T23:02:34.910Z"
   },
   {
    "duration": 11,
    "start_time": "2021-06-25T23:02:42.928Z"
   },
   {
    "duration": 10,
    "start_time": "2021-06-25T23:02:45.148Z"
   },
   {
    "duration": 15,
    "start_time": "2021-06-25T23:02:46.173Z"
   },
   {
    "duration": 13,
    "start_time": "2021-06-25T23:02:54.490Z"
   },
   {
    "duration": 41,
    "start_time": "2021-06-25T23:02:56.451Z"
   },
   {
    "duration": 20,
    "start_time": "2021-06-25T23:03:03.152Z"
   },
   {
    "duration": 21,
    "start_time": "2021-06-25T23:03:09.657Z"
   },
   {
    "duration": 9,
    "start_time": "2021-06-25T23:03:16.529Z"
   },
   {
    "duration": 10,
    "start_time": "2021-06-25T23:03:20.619Z"
   },
   {
    "duration": 31,
    "start_time": "2021-06-25T23:03:25.140Z"
   },
   {
    "duration": 8,
    "start_time": "2021-06-25T23:03:30.326Z"
   },
   {
    "duration": 32,
    "start_time": "2021-06-25T23:03:31.822Z"
   },
   {
    "duration": 5,
    "start_time": "2021-06-25T23:03:37.336Z"
   },
   {
    "duration": 9,
    "start_time": "2021-06-25T23:03:38.856Z"
   },
   {
    "duration": 11,
    "start_time": "2021-06-25T23:03:42.865Z"
   },
   {
    "duration": 18,
    "start_time": "2021-06-25T23:03:46.723Z"
   },
   {
    "duration": 9,
    "start_time": "2021-06-25T23:03:50.884Z"
   },
   {
    "duration": 10,
    "start_time": "2021-06-25T23:03:53.416Z"
   },
   {
    "duration": 32,
    "start_time": "2021-06-25T23:03:58.476Z"
   },
   {
    "duration": 9,
    "start_time": "2021-06-25T23:04:10.037Z"
   },
   {
    "duration": 629,
    "start_time": "2021-06-25T23:04:13.003Z"
   },
   {
    "duration": 12,
    "start_time": "2021-06-25T23:04:19.820Z"
   },
   {
    "duration": 45,
    "start_time": "2021-06-25T23:04:27.258Z"
   },
   {
    "duration": 23,
    "start_time": "2021-06-25T23:04:34.640Z"
   },
   {
    "duration": 9,
    "start_time": "2021-06-25T23:04:39.561Z"
   },
   {
    "duration": 559,
    "start_time": "2021-06-25T23:04:43.289Z"
   },
   {
    "duration": 7,
    "start_time": "2021-06-25T23:04:49.618Z"
   },
   {
    "duration": 111,
    "start_time": "2021-06-25T23:04:53.691Z"
   },
   {
    "duration": 18,
    "start_time": "2021-06-25T23:05:05.293Z"
   },
   {
    "duration": 8,
    "start_time": "2021-06-25T23:05:13.274Z"
   },
   {
    "duration": 559,
    "start_time": "2021-06-25T23:05:16.228Z"
   },
   {
    "duration": 101,
    "start_time": "2021-06-25T23:05:22.202Z"
   },
   {
    "duration": 18,
    "start_time": "2021-06-25T23:05:27.476Z"
   },
   {
    "duration": 12,
    "start_time": "2021-06-25T23:05:35.970Z"
   },
   {
    "duration": 40,
    "start_time": "2021-06-25T23:05:52.428Z"
   },
   {
    "duration": 550,
    "start_time": "2021-06-25T23:06:01.513Z"
   },
   {
    "duration": 45,
    "start_time": "2021-06-25T23:11:37.710Z"
   },
   {
    "duration": 49,
    "start_time": "2021-06-25T23:12:38.412Z"
   },
   {
    "duration": 597,
    "start_time": "2021-06-25T23:13:51.258Z"
   },
   {
    "duration": 739,
    "start_time": "2021-06-25T23:17:17.792Z"
   },
   {
    "duration": 84,
    "start_time": "2021-06-25T23:17:19.598Z"
   },
   {
    "duration": 17,
    "start_time": "2021-06-25T23:17:24.323Z"
   },
   {
    "duration": 14,
    "start_time": "2021-06-25T23:17:29.544Z"
   },
   {
    "duration": 12,
    "start_time": "2021-06-25T23:17:33.146Z"
   },
   {
    "duration": 9,
    "start_time": "2021-06-25T23:17:34.603Z"
   },
   {
    "duration": 17,
    "start_time": "2021-06-25T23:17:39.533Z"
   },
   {
    "duration": 6,
    "start_time": "2021-06-25T23:17:42.499Z"
   },
   {
    "duration": 37,
    "start_time": "2021-06-25T23:17:43.594Z"
   },
   {
    "duration": 16,
    "start_time": "2021-06-25T23:17:44.668Z"
   },
   {
    "duration": 10,
    "start_time": "2021-06-25T23:17:51.611Z"
   },
   {
    "duration": 14,
    "start_time": "2021-06-25T23:17:56.093Z"
   },
   {
    "duration": 45,
    "start_time": "2021-06-25T23:17:57.859Z"
   },
   {
    "duration": 30,
    "start_time": "2021-06-25T23:18:04.194Z"
   },
   {
    "duration": 24,
    "start_time": "2021-06-25T23:18:14.127Z"
   },
   {
    "duration": 9,
    "start_time": "2021-06-25T23:18:28.266Z"
   },
   {
    "duration": 9,
    "start_time": "2021-06-25T23:18:32.379Z"
   },
   {
    "duration": 31,
    "start_time": "2021-06-25T23:18:36.329Z"
   },
   {
    "duration": 9,
    "start_time": "2021-06-25T23:18:42.062Z"
   },
   {
    "duration": 34,
    "start_time": "2021-06-25T23:18:43.710Z"
   },
   {
    "duration": 5,
    "start_time": "2021-06-25T23:18:48.080Z"
   },
   {
    "duration": 9,
    "start_time": "2021-06-25T23:18:49.145Z"
   },
   {
    "duration": 12,
    "start_time": "2021-06-25T23:18:51.276Z"
   },
   {
    "duration": 18,
    "start_time": "2021-06-25T23:18:56.075Z"
   },
   {
    "duration": 10,
    "start_time": "2021-06-25T23:18:57.726Z"
   },
   {
    "duration": 9,
    "start_time": "2021-06-25T23:18:59.182Z"
   },
   {
    "duration": 32,
    "start_time": "2021-06-25T23:19:05.735Z"
   },
   {
    "duration": 12,
    "start_time": "2021-06-25T23:19:11.308Z"
   },
   {
    "duration": 626,
    "start_time": "2021-06-25T23:19:12.565Z"
   },
   {
    "duration": 11,
    "start_time": "2021-06-25T23:19:17.642Z"
   },
   {
    "duration": 50,
    "start_time": "2021-06-25T23:19:27.164Z"
   },
   {
    "duration": 22,
    "start_time": "2021-06-25T23:19:35.001Z"
   },
   {
    "duration": 9,
    "start_time": "2021-06-25T23:19:38.684Z"
   },
   {
    "duration": 556,
    "start_time": "2021-06-25T23:19:39.978Z"
   },
   {
    "duration": 7,
    "start_time": "2021-06-25T23:19:47.879Z"
   },
   {
    "duration": 101,
    "start_time": "2021-06-25T23:19:52.720Z"
   },
   {
    "duration": 19,
    "start_time": "2021-06-25T23:19:57.275Z"
   },
   {
    "duration": 8,
    "start_time": "2021-06-25T23:20:01.952Z"
   },
   {
    "duration": 587,
    "start_time": "2021-06-25T23:20:04.583Z"
   },
   {
    "duration": 99,
    "start_time": "2021-06-25T23:20:11.865Z"
   },
   {
    "duration": 18,
    "start_time": "2021-06-25T23:20:17.882Z"
   },
   {
    "duration": 11,
    "start_time": "2021-06-25T23:20:30.125Z"
   },
   {
    "duration": 381,
    "start_time": "2021-06-26T06:30:34.897Z"
   },
   {
    "duration": 796,
    "start_time": "2021-06-26T06:31:26.434Z"
   },
   {
    "duration": 77,
    "start_time": "2021-06-26T06:31:28.639Z"
   },
   {
    "duration": 16,
    "start_time": "2021-06-26T06:31:33.893Z"
   },
   {
    "duration": 14,
    "start_time": "2021-06-26T06:31:39.385Z"
   },
   {
    "duration": 10,
    "start_time": "2021-06-26T06:31:44.190Z"
   },
   {
    "duration": 8,
    "start_time": "2021-06-26T06:31:46.473Z"
   },
   {
    "duration": 749,
    "start_time": "2021-06-26T06:32:05.691Z"
   },
   {
    "duration": 81,
    "start_time": "2021-06-26T06:32:07.961Z"
   },
   {
    "duration": 14,
    "start_time": "2021-06-26T06:32:12.569Z"
   },
   {
    "duration": 13,
    "start_time": "2021-06-26T06:32:17.747Z"
   },
   {
    "duration": 11,
    "start_time": "2021-06-26T06:32:22.505Z"
   },
   {
    "duration": 9,
    "start_time": "2021-06-26T06:32:23.710Z"
   },
   {
    "duration": 12,
    "start_time": "2021-06-26T06:32:30.935Z"
   },
   {
    "duration": 5,
    "start_time": "2021-06-26T06:32:34.318Z"
   },
   {
    "duration": 27,
    "start_time": "2021-06-26T06:32:36.370Z"
   },
   {
    "duration": 17,
    "start_time": "2021-06-26T06:32:38.340Z"
   },
   {
    "duration": 9,
    "start_time": "2021-06-26T06:32:55.442Z"
   },
   {
    "duration": 9,
    "start_time": "2021-06-26T06:35:03.228Z"
   },
   {
    "duration": 15,
    "start_time": "2021-06-26T06:35:15.527Z"
   },
   {
    "duration": 14,
    "start_time": "2021-06-26T06:39:12.232Z"
   },
   {
    "duration": 47,
    "start_time": "2021-06-26T06:39:14.159Z"
   },
   {
    "duration": 22,
    "start_time": "2021-06-26T06:40:01.576Z"
   },
   {
    "duration": 21,
    "start_time": "2021-06-26T06:40:10.499Z"
   },
   {
    "duration": 9,
    "start_time": "2021-06-26T06:40:37.223Z"
   },
   {
    "duration": 9,
    "start_time": "2021-06-26T06:40:41.011Z"
   },
   {
    "duration": 39,
    "start_time": "2021-06-26T06:40:46.599Z"
   },
   {
    "duration": 8,
    "start_time": "2021-06-26T06:40:51.031Z"
   },
   {
    "duration": 32,
    "start_time": "2021-06-26T06:40:52.215Z"
   },
   {
    "duration": 4,
    "start_time": "2021-06-26T06:40:57.115Z"
   },
   {
    "duration": 10,
    "start_time": "2021-06-26T06:40:58.871Z"
   },
   {
    "duration": 9,
    "start_time": "2021-06-26T06:41:01.017Z"
   },
   {
    "duration": 18,
    "start_time": "2021-06-26T06:41:06.628Z"
   },
   {
    "duration": 9,
    "start_time": "2021-06-26T06:41:16.650Z"
   },
   {
    "duration": 9,
    "start_time": "2021-06-26T06:41:18.415Z"
   },
   {
    "duration": 31,
    "start_time": "2021-06-26T06:41:22.230Z"
   },
   {
    "duration": 8,
    "start_time": "2021-06-26T06:41:29.761Z"
   },
   {
    "duration": 759,
    "start_time": "2021-06-26T06:41:31.277Z"
   },
   {
    "duration": 11,
    "start_time": "2021-06-26T06:41:48.037Z"
   },
   {
    "duration": 44,
    "start_time": "2021-06-26T06:41:52.820Z"
   },
   {
    "duration": 21,
    "start_time": "2021-06-26T06:42:02.496Z"
   },
   {
    "duration": 7,
    "start_time": "2021-06-26T06:42:06.098Z"
   },
   {
    "duration": 619,
    "start_time": "2021-06-26T06:42:09.749Z"
   },
   {
    "duration": 8,
    "start_time": "2021-06-26T06:42:21.595Z"
   },
   {
    "duration": 103,
    "start_time": "2021-06-26T06:42:27.365Z"
   },
   {
    "duration": 21,
    "start_time": "2021-06-26T06:42:49.400Z"
   },
   {
    "duration": 8,
    "start_time": "2021-06-26T06:42:55.707Z"
   },
   {
    "duration": 654,
    "start_time": "2021-06-26T06:43:01.132Z"
   },
   {
    "duration": 100,
    "start_time": "2021-06-26T06:43:07.640Z"
   },
   {
    "duration": 18,
    "start_time": "2021-06-26T06:43:15.488Z"
   },
   {
    "duration": 610,
    "start_time": "2021-06-26T06:43:19.911Z"
   },
   {
    "duration": 11,
    "start_time": "2021-06-26T06:46:17.164Z"
   },
   {
    "duration": 13,
    "start_time": "2021-06-26T06:46:49.556Z"
   },
   {
    "duration": 46,
    "start_time": "2021-06-26T06:50:14.964Z"
   },
   {
    "duration": 613,
    "start_time": "2021-06-26T06:57:14.916Z"
   },
   {
    "duration": 138,
    "start_time": "2021-06-26T06:57:27.450Z"
   },
   {
    "duration": 557,
    "start_time": "2021-06-26T06:59:36.083Z"
   },
   {
    "duration": 566,
    "start_time": "2021-06-26T07:00:06.900Z"
   },
   {
    "duration": 691,
    "start_time": "2021-06-26T07:00:54.903Z"
   },
   {
    "duration": 420,
    "start_time": "2021-06-26T07:01:06.412Z"
   },
   {
    "duration": 563,
    "start_time": "2021-06-26T07:01:23.623Z"
   },
   {
    "duration": 45,
    "start_time": "2021-06-26T07:03:58.581Z"
   },
   {
    "duration": 770,
    "start_time": "2021-06-26T07:04:24.553Z"
   },
   {
    "duration": 79,
    "start_time": "2021-06-26T07:04:26.733Z"
   },
   {
    "duration": 15,
    "start_time": "2021-06-26T07:04:32.384Z"
   },
   {
    "duration": 12,
    "start_time": "2021-06-26T07:04:37.449Z"
   },
   {
    "duration": 9,
    "start_time": "2021-06-26T07:04:41.443Z"
   },
   {
    "duration": 9,
    "start_time": "2021-06-26T07:04:43.157Z"
   },
   {
    "duration": 12,
    "start_time": "2021-06-26T07:04:46.779Z"
   },
   {
    "duration": 4,
    "start_time": "2021-06-26T07:04:49.526Z"
   },
   {
    "duration": 27,
    "start_time": "2021-06-26T07:04:50.440Z"
   },
   {
    "duration": 16,
    "start_time": "2021-06-26T07:04:53.276Z"
   },
   {
    "duration": 12,
    "start_time": "2021-06-26T07:04:57.997Z"
   },
   {
    "duration": 10,
    "start_time": "2021-06-26T07:04:59.022Z"
   },
   {
    "duration": 15,
    "start_time": "2021-06-26T07:05:01.183Z"
   },
   {
    "duration": 15,
    "start_time": "2021-06-26T07:05:05.748Z"
   },
   {
    "duration": 44,
    "start_time": "2021-06-26T07:05:06.969Z"
   },
   {
    "duration": 18,
    "start_time": "2021-06-26T07:05:10.551Z"
   },
   {
    "duration": 21,
    "start_time": "2021-06-26T07:05:13.724Z"
   },
   {
    "duration": 8,
    "start_time": "2021-06-26T07:05:20.323Z"
   },
   {
    "duration": 8,
    "start_time": "2021-06-26T07:05:21.724Z"
   },
   {
    "duration": 8,
    "start_time": "2021-06-26T07:05:33.541Z"
   },
   {
    "duration": 5,
    "start_time": "2021-06-26T07:05:38.553Z"
   },
   {
    "duration": 9,
    "start_time": "2021-06-26T07:05:40.200Z"
   },
   {
    "duration": 12,
    "start_time": "2021-06-26T07:06:32.466Z"
   },
   {
    "duration": 18,
    "start_time": "2021-06-26T07:06:36.476Z"
   },
   {
    "duration": 10,
    "start_time": "2021-06-26T07:06:40.162Z"
   },
   {
    "duration": 9,
    "start_time": "2021-06-26T07:06:41.645Z"
   },
   {
    "duration": 30,
    "start_time": "2021-06-26T07:06:45.498Z"
   },
   {
    "duration": 9,
    "start_time": "2021-06-26T07:06:49.779Z"
   },
   {
    "duration": 648,
    "start_time": "2021-06-26T07:06:51.989Z"
   },
   {
    "duration": 13,
    "start_time": "2021-06-26T07:06:56.645Z"
   },
   {
    "duration": 43,
    "start_time": "2021-06-26T07:07:00.660Z"
   },
   {
    "duration": 22,
    "start_time": "2021-06-26T07:07:04.650Z"
   },
   {
    "duration": 9,
    "start_time": "2021-06-26T07:07:10.178Z"
   },
   {
    "duration": 634,
    "start_time": "2021-06-26T07:07:13.133Z"
   },
   {
    "duration": 8,
    "start_time": "2021-06-26T07:07:18.525Z"
   },
   {
    "duration": 107,
    "start_time": "2021-06-26T07:07:22.183Z"
   },
   {
    "duration": 19,
    "start_time": "2021-06-26T07:07:27.838Z"
   },
   {
    "duration": 9,
    "start_time": "2021-06-26T07:07:33.512Z"
   },
   {
    "duration": 616,
    "start_time": "2021-06-26T07:07:36.602Z"
   },
   {
    "duration": 100,
    "start_time": "2021-06-26T07:07:43.198Z"
   },
   {
    "duration": 17,
    "start_time": "2021-06-26T07:07:49.089Z"
   },
   {
    "duration": 602,
    "start_time": "2021-06-26T07:07:55.045Z"
   },
   {
    "duration": 12,
    "start_time": "2021-06-26T07:08:16.287Z"
   },
   {
    "duration": 52,
    "start_time": "2021-06-26T07:08:49.102Z"
   },
   {
    "duration": 638,
    "start_time": "2021-06-26T07:13:56.870Z"
   },
   {
    "duration": 125,
    "start_time": "2021-06-26T07:14:09.775Z"
   },
   {
    "duration": 81,
    "start_time": "2021-06-26T07:14:57.337Z"
   },
   {
    "duration": 108,
    "start_time": "2021-06-26T07:15:10.830Z"
   },
   {
    "duration": 7,
    "start_time": "2021-06-26T07:15:48.579Z"
   },
   {
    "duration": 11,
    "start_time": "2021-06-26T07:15:53.605Z"
   },
   {
    "duration": 18,
    "start_time": "2021-06-26T07:15:58.686Z"
   },
   {
    "duration": 405,
    "start_time": "2021-06-26T07:16:02.240Z"
   },
   {
    "duration": 623,
    "start_time": "2021-06-26T07:16:11.025Z"
   },
   {
    "duration": 109,
    "start_time": "2021-06-26T07:16:16.765Z"
   },
   {
    "duration": 46,
    "start_time": "2021-06-26T09:27:31.134Z"
   },
   {
    "duration": 629,
    "start_time": "2021-06-26T09:27:35.900Z"
   },
   {
    "duration": 101,
    "start_time": "2021-06-26T09:27:42.096Z"
   },
   {
    "duration": 87,
    "start_time": "2021-06-26T09:28:51.116Z"
   },
   {
    "duration": 87,
    "start_time": "2021-06-26T09:31:27.432Z"
   },
   {
    "duration": 86,
    "start_time": "2021-06-26T09:31:59.336Z"
   },
   {
    "duration": 980,
    "start_time": "2021-06-26T10:07:32.016Z"
   },
   {
    "duration": 82,
    "start_time": "2021-06-26T10:07:36.304Z"
   },
   {
    "duration": 17,
    "start_time": "2021-06-26T10:07:41.072Z"
   },
   {
    "duration": 12,
    "start_time": "2021-06-26T10:07:46.698Z"
   },
   {
    "duration": 10,
    "start_time": "2021-06-26T10:07:50.586Z"
   },
   {
    "duration": 9,
    "start_time": "2021-06-26T10:07:51.957Z"
   },
   {
    "duration": 12,
    "start_time": "2021-06-26T10:07:57.494Z"
   },
   {
    "duration": 4,
    "start_time": "2021-06-26T10:08:01.438Z"
   },
   {
    "duration": 30,
    "start_time": "2021-06-26T10:08:03.599Z"
   },
   {
    "duration": 18,
    "start_time": "2021-06-26T10:08:04.974Z"
   },
   {
    "duration": 10,
    "start_time": "2021-06-26T10:11:28.978Z"
   },
   {
    "duration": 10,
    "start_time": "2021-06-26T10:11:31.427Z"
   },
   {
    "duration": 16,
    "start_time": "2021-06-26T10:11:33.754Z"
   },
   {
    "duration": 14,
    "start_time": "2021-06-26T10:12:29.651Z"
   },
   {
    "duration": 43,
    "start_time": "2021-06-26T10:12:36.241Z"
   },
   {
    "duration": 21,
    "start_time": "2021-06-26T10:12:44.230Z"
   },
   {
    "duration": 22,
    "start_time": "2021-06-26T10:12:53.620Z"
   },
   {
    "duration": 9,
    "start_time": "2021-06-26T10:16:11.508Z"
   },
   {
    "duration": 9,
    "start_time": "2021-06-26T10:16:13.469Z"
   },
   {
    "duration": 32,
    "start_time": "2021-06-26T10:16:39.842Z"
   },
   {
    "duration": 8,
    "start_time": "2021-06-26T10:16:44.418Z"
   },
   {
    "duration": 32,
    "start_time": "2021-06-26T10:16:46.109Z"
   },
   {
    "duration": 5,
    "start_time": "2021-06-26T10:16:53.339Z"
   },
   {
    "duration": 8,
    "start_time": "2021-06-26T10:16:55.790Z"
   },
   {
    "duration": 10,
    "start_time": "2021-06-26T10:17:04.329Z"
   },
   {
    "duration": 16,
    "start_time": "2021-06-26T10:17:08.297Z"
   },
   {
    "duration": 9,
    "start_time": "2021-06-26T10:17:11.572Z"
   },
   {
    "duration": 10,
    "start_time": "2021-06-26T10:17:12.919Z"
   },
   {
    "duration": 30,
    "start_time": "2021-06-26T10:17:17.189Z"
   },
   {
    "duration": 8,
    "start_time": "2021-06-26T10:18:51.156Z"
   },
   {
    "duration": 658,
    "start_time": "2021-06-26T10:18:57.182Z"
   },
   {
    "duration": 11,
    "start_time": "2021-06-26T10:19:01.459Z"
   },
   {
    "duration": 42,
    "start_time": "2021-06-26T10:19:46.134Z"
   },
   {
    "duration": 22,
    "start_time": "2021-06-26T10:23:15.447Z"
   },
   {
    "duration": 8,
    "start_time": "2021-06-26T10:23:21.046Z"
   },
   {
    "duration": 599,
    "start_time": "2021-06-26T10:23:26.284Z"
   },
   {
    "duration": 7,
    "start_time": "2021-06-26T10:25:08.785Z"
   },
   {
    "duration": 106,
    "start_time": "2021-06-26T10:25:12.410Z"
   },
   {
    "duration": 19,
    "start_time": "2021-06-26T10:27:00.027Z"
   },
   {
    "duration": 10,
    "start_time": "2021-06-26T10:30:55.575Z"
   },
   {
    "duration": 592,
    "start_time": "2021-06-26T10:30:57.363Z"
   },
   {
    "duration": 102,
    "start_time": "2021-06-26T10:34:46.719Z"
   },
   {
    "duration": 17,
    "start_time": "2021-06-26T10:41:17.394Z"
   },
   {
    "duration": 612,
    "start_time": "2021-06-26T10:41:23.535Z"
   },
   {
    "duration": 14,
    "start_time": "2021-06-26T10:41:33.980Z"
   },
   {
    "duration": 43,
    "start_time": "2021-06-26T10:41:37.556Z"
   },
   {
    "duration": 609,
    "start_time": "2021-06-26T10:49:17.743Z"
   },
   {
    "duration": 91,
    "start_time": "2021-06-26T10:51:33.597Z"
   },
   {
    "duration": 7,
    "start_time": "2021-06-26T10:51:52.327Z"
   },
   {
    "duration": 11,
    "start_time": "2021-06-26T10:54:58.276Z"
   },
   {
    "duration": 18,
    "start_time": "2021-06-26T10:55:02.942Z"
   },
   {
    "duration": 385,
    "start_time": "2021-06-26T10:55:07.715Z"
   },
   {
    "duration": 593,
    "start_time": "2021-06-26T11:03:13.926Z"
   },
   {
    "duration": 102,
    "start_time": "2021-06-26T11:07:14.492Z"
   }
  ],
  "kernelspec": {
   "display_name": "Python 3 (ipykernel)",
   "language": "python",
   "name": "python3"
  },
  "language_info": {
   "codemirror_mode": {
    "name": "ipython",
    "version": 3
   },
   "file_extension": ".py",
   "mimetype": "text/x-python",
   "name": "python",
   "nbconvert_exporter": "python",
   "pygments_lexer": "ipython3",
   "version": "3.9.7"
  },
  "toc": {
   "base_numbering": 1,
   "nav_menu": {},
   "number_sections": true,
   "sideBar": true,
   "skip_h1_title": true,
   "title_cell": "Table of Contents",
   "title_sidebar": "Contents",
   "toc_cell": false,
   "toc_position": {},
   "toc_section_display": true,
   "toc_window_display": true
  }
 },
 "nbformat": 4,
 "nbformat_minor": 2
}
