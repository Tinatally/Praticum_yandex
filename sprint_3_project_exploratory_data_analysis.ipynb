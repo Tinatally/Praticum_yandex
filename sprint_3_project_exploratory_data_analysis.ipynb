{
 "cells": [
  {
   "cell_type": "markdown",
   "metadata": {},
   "source": [
    "Hi Valentina. I'm Svetlana and will review your project. I've added all my comments to new cells with different coloring. Please don't delete my comments.\n",
    "\n",
    "\n",
    "The first time I see a mistake, I'll just point it out and let you find it and fix it yourself. In a real job, your boss will do the same, and I'm trying to prepare you to work as an Data Analyst. But if you can't handle this task yet, I'll give you a more accurate hint at the next check.\n",
    "\n",
    "<div class=\"alert alert-success\" role=\"alert\">\n",
    "Reviewer's comment v. 1:\n",
    "    \n",
    "If you did something great I'm using green color for my comment\n",
    "</div>\n",
    "\n",
    "<div class=\"alert alert-warning\" role=\"alert\">\n",
    "Reviewer's comment v. 1:\n",
    "    \n",
    "If I want to give you advice or think that something can be improved, then I'll use yellow. This is an optional recommendation.\n",
    "</div>\n",
    "\n",
    "<div class=\"alert alert-danger\" role=\"alert\">\n",
    "Reviewer's comment v. 1:\n",
    "    \n",
    "If the topic requires some extra work so I can accept it then the color will be red\n",
    "</div>\n",
    "\n",
    "## Review v. 1<a class=\"tocSkip\">\n",
    "\n",
    "You've worked really hard and submitted a solid project. While there's room for improvement, on the whole, your project is looking good. There are few things that need to be corrected in your project. They're mostly minor issues that are easy to fix. \"Improve\" comments mean that there are tiny corrections which could help you to make your project better. Every issue with our code is a chance for us to learn something new. Good luck!\n",
    "    \n",
    "## Review v. 2<a class=\"tocSkip\">\n",
    "    \n",
    "Congratulations! Your project now is perfect. I'm glad to say that your project has been accepted. Keep up the good work, and good luck on the next sprint!"
   ]
  },
  {
   "cell_type": "markdown",
   "metadata": {},
   "source": [
    "# Research on car sales ads\n",
    "\n",
    "You're an analyst at Crankshaft List. Hundreds of free advertisements for vehicles are published on your site every day.\n",
    "\n",
    "You need to study data collected over the last few years and determine which factors influence the price of a vehicle. "
   ]
  },
  {
   "cell_type": "markdown",
   "metadata": {},
   "source": [
    "# Business Goal\n",
    "I am required by this project to study vehicle advertised on our site with other independent variables to determine which of them influence the price of vehicles.the following parameters serve as guide:\n",
    "* Identifying any outliers in the dataset and storing them seperately.\n",
    "* Ascertain the life cycle of days_listed and determine short and long days listing of vehicles.\n",
    "* Analyse the number ads and average price of each type of vehicle and select the highest two.\n",
    "* Determine which factors affect the price of vehicles.\n",
    "By this, management would be able to make a decision vehicle listings and their price setting "
   ]
  },
  {
   "cell_type": "markdown",
   "metadata": {},
   "source": [
    "<div class=\"alert alert-warning\" role=\"alert\">\n",
    "Reviewer's comment v. 1:\n",
    "    \n",
    "Well done that you described the project, but please formulate a goal of it. \n",
    "</div>"
   ]
  },
  {
   "cell_type": "markdown",
   "metadata": {},
   "source": [
    "<div class=\"alert alert-success\" role=\"alert\">\n",
    "Reviewer's comment v. 2:\n",
    "    \n",
    "It's great that you formulated a goal of the project.\n",
    "</div>"
   ]
  },
  {
   "cell_type": "markdown",
   "metadata": {},
   "source": [
    "## Open the data file and study the general information. "
   ]
  },
  {
   "cell_type": "code",
   "execution_count": 1,
   "metadata": {},
   "outputs": [],
   "source": [
    "import pandas as pd\n",
    "import matplotlib.pyplot as plt\n",
    "import seaborn as sns\n",
    "import sys\n",
    "import warnings\n",
    "\n",
    "if not sys.warnoptions:\n",
    "    warnings.simplefilter(\"ignore\")"
   ]
  },
  {
   "cell_type": "code",
   "execution_count": 2,
   "metadata": {},
   "outputs": [],
   "source": [
    "try:\n",
    "    us_vehicles = pd.read_csv('/Users/eseyram/Downloads/vehicles_us.csv')\n",
    "except:\n",
    "    us_vehicles=pd.read_csv('/datasets/vehicles_us.csv')\n",
    "                           "
   ]
  },
  {
   "cell_type": "markdown",
   "metadata": {},
   "source": [
    "<div class=\"alert alert-success\" role=\"alert\">\n",
    "Reviewer's comment v. 1:\n",
    "    \n",
    "Well done for using try-except for the path to the file.\n",
    "</div>"
   ]
  },
  {
   "cell_type": "code",
   "execution_count": 3,
   "metadata": {},
   "outputs": [
    {
     "data": {
      "text/html": [
       "<div>\n",
       "<style scoped>\n",
       "    .dataframe tbody tr th:only-of-type {\n",
       "        vertical-align: middle;\n",
       "    }\n",
       "\n",
       "    .dataframe tbody tr th {\n",
       "        vertical-align: top;\n",
       "    }\n",
       "\n",
       "    .dataframe thead th {\n",
       "        text-align: right;\n",
       "    }\n",
       "</style>\n",
       "<table border=\"1\" class=\"dataframe\">\n",
       "  <thead>\n",
       "    <tr style=\"text-align: right;\">\n",
       "      <th></th>\n",
       "      <th>price</th>\n",
       "      <th>model_year</th>\n",
       "      <th>model</th>\n",
       "      <th>condition</th>\n",
       "      <th>cylinders</th>\n",
       "      <th>fuel</th>\n",
       "      <th>odometer</th>\n",
       "      <th>transmission</th>\n",
       "      <th>type</th>\n",
       "      <th>paint_color</th>\n",
       "      <th>is_4wd</th>\n",
       "      <th>date_posted</th>\n",
       "      <th>days_listed</th>\n",
       "    </tr>\n",
       "  </thead>\n",
       "  <tbody>\n",
       "    <tr>\n",
       "      <td>0</td>\n",
       "      <td>9400</td>\n",
       "      <td>2011.0</td>\n",
       "      <td>bmw x5</td>\n",
       "      <td>good</td>\n",
       "      <td>6.0</td>\n",
       "      <td>gas</td>\n",
       "      <td>145000.0</td>\n",
       "      <td>automatic</td>\n",
       "      <td>SUV</td>\n",
       "      <td>NaN</td>\n",
       "      <td>1.0</td>\n",
       "      <td>2018-06-23</td>\n",
       "      <td>19</td>\n",
       "    </tr>\n",
       "    <tr>\n",
       "      <td>1</td>\n",
       "      <td>25500</td>\n",
       "      <td>NaN</td>\n",
       "      <td>ford f-150</td>\n",
       "      <td>good</td>\n",
       "      <td>6.0</td>\n",
       "      <td>gas</td>\n",
       "      <td>88705.0</td>\n",
       "      <td>automatic</td>\n",
       "      <td>pickup</td>\n",
       "      <td>white</td>\n",
       "      <td>1.0</td>\n",
       "      <td>2018-10-19</td>\n",
       "      <td>50</td>\n",
       "    </tr>\n",
       "    <tr>\n",
       "      <td>2</td>\n",
       "      <td>5500</td>\n",
       "      <td>2013.0</td>\n",
       "      <td>hyundai sonata</td>\n",
       "      <td>like new</td>\n",
       "      <td>4.0</td>\n",
       "      <td>gas</td>\n",
       "      <td>110000.0</td>\n",
       "      <td>automatic</td>\n",
       "      <td>sedan</td>\n",
       "      <td>red</td>\n",
       "      <td>NaN</td>\n",
       "      <td>2019-02-07</td>\n",
       "      <td>79</td>\n",
       "    </tr>\n",
       "    <tr>\n",
       "      <td>3</td>\n",
       "      <td>1500</td>\n",
       "      <td>2003.0</td>\n",
       "      <td>ford f-150</td>\n",
       "      <td>fair</td>\n",
       "      <td>8.0</td>\n",
       "      <td>gas</td>\n",
       "      <td>NaN</td>\n",
       "      <td>automatic</td>\n",
       "      <td>pickup</td>\n",
       "      <td>NaN</td>\n",
       "      <td>NaN</td>\n",
       "      <td>2019-03-22</td>\n",
       "      <td>9</td>\n",
       "    </tr>\n",
       "    <tr>\n",
       "      <td>4</td>\n",
       "      <td>14900</td>\n",
       "      <td>2017.0</td>\n",
       "      <td>chrysler 200</td>\n",
       "      <td>excellent</td>\n",
       "      <td>4.0</td>\n",
       "      <td>gas</td>\n",
       "      <td>80903.0</td>\n",
       "      <td>automatic</td>\n",
       "      <td>sedan</td>\n",
       "      <td>black</td>\n",
       "      <td>NaN</td>\n",
       "      <td>2019-04-02</td>\n",
       "      <td>28</td>\n",
       "    </tr>\n",
       "  </tbody>\n",
       "</table>\n",
       "</div>"
      ],
      "text/plain": [
       "   price  model_year           model  condition  cylinders fuel  odometer  \\\n",
       "0   9400      2011.0          bmw x5       good        6.0  gas  145000.0   \n",
       "1  25500         NaN      ford f-150       good        6.0  gas   88705.0   \n",
       "2   5500      2013.0  hyundai sonata   like new        4.0  gas  110000.0   \n",
       "3   1500      2003.0      ford f-150       fair        8.0  gas       NaN   \n",
       "4  14900      2017.0    chrysler 200  excellent        4.0  gas   80903.0   \n",
       "\n",
       "  transmission    type paint_color  is_4wd date_posted  days_listed  \n",
       "0    automatic     SUV         NaN     1.0  2018-06-23           19  \n",
       "1    automatic  pickup       white     1.0  2018-10-19           50  \n",
       "2    automatic   sedan         red     NaN  2019-02-07           79  \n",
       "3    automatic  pickup         NaN     NaN  2019-03-22            9  \n",
       "4    automatic   sedan       black     NaN  2019-04-02           28  "
      ]
     },
     "execution_count": 3,
     "metadata": {},
     "output_type": "execute_result"
    }
   ],
   "source": [
    "us_vehicles.head()"
   ]
  },
  {
   "cell_type": "code",
   "execution_count": 4,
   "metadata": {},
   "outputs": [
    {
     "name": "stdout",
     "output_type": "stream",
     "text": [
      "<class 'pandas.core.frame.DataFrame'>\n",
      "RangeIndex: 51525 entries, 0 to 51524\n",
      "Data columns (total 13 columns):\n",
      "price           51525 non-null int64\n",
      "model_year      47906 non-null float64\n",
      "model           51525 non-null object\n",
      "condition       51525 non-null object\n",
      "cylinders       46265 non-null float64\n",
      "fuel            51525 non-null object\n",
      "odometer        43633 non-null float64\n",
      "transmission    51525 non-null object\n",
      "type            51525 non-null object\n",
      "paint_color     42258 non-null object\n",
      "is_4wd          25572 non-null float64\n",
      "date_posted     51525 non-null object\n",
      "days_listed     51525 non-null int64\n",
      "dtypes: float64(4), int64(2), object(7)\n",
      "memory usage: 5.1+ MB\n"
     ]
    }
   ],
   "source": [
    "us_vehicles.info()"
   ]
  },
  {
   "cell_type": "markdown",
   "metadata": {},
   "source": [
    "### Conclusion"
   ]
  },
  {
   "cell_type": "markdown",
   "metadata": {},
   "source": [
    "The dataframe os made of 51525 rows of data with 13 columns 7 of which are type objects with 2 integer columns and 4 float columns. 5 of the columns have missing values thereby reducing there column numbers in the dataset."
   ]
  },
  {
   "cell_type": "markdown",
   "metadata": {},
   "source": [
    "<div class=\"alert alert-success\" role=\"alert\">\n",
    "Reviewer's comment v. 1:\n",
    "    \n",
    "Yes, you correctly noted that we have a problem with a missing values.\n",
    "</div>"
   ]
  },
  {
   "cell_type": "markdown",
   "metadata": {},
   "source": [
    "## Data preprocessing"
   ]
  },
  {
   "cell_type": "code",
   "execution_count": 5,
   "metadata": {},
   "outputs": [
    {
     "data": {
      "text/plain": [
       "price               0\n",
       "model_year       3619\n",
       "model               0\n",
       "condition           0\n",
       "cylinders        5260\n",
       "fuel                0\n",
       "odometer         7892\n",
       "transmission        0\n",
       "type                0\n",
       "paint_color      9267\n",
       "is_4wd          25953\n",
       "date_posted         0\n",
       "days_listed         0\n",
       "dtype: int64"
      ]
     },
     "execution_count": 5,
     "metadata": {},
     "output_type": "execute_result"
    }
   ],
   "source": [
    "us_vehicles.isnull().sum()"
   ]
  },
  {
   "cell_type": "markdown",
   "metadata": {},
   "source": [
    "<div class=\"alert alert-danger\" role=\"alert\">\n",
    "Reviewer's comment v. 1:\n",
    "    \n",
    "Please calculate the percentage of a missing values in the each column.\n",
    "</div>"
   ]
  },
  {
   "cell_type": "markdown",
   "metadata": {},
   "source": [
    "To ascertain the summary statistics of null values and also compute the percenatge of these null values in the dataset."
   ]
  },
  {
   "cell_type": "code",
   "execution_count": 6,
   "metadata": {},
   "outputs": [
    {
     "data": {
      "text/plain": [
       "0.07023774866569626"
      ]
     },
     "execution_count": 6,
     "metadata": {},
     "output_type": "execute_result"
    }
   ],
   "source": [
    "# calculating the percenatge of null values in model_year\n",
    "us_vehicles['model_year'].isnull().sum()/len(us_vehicles)"
   ]
  },
  {
   "cell_type": "code",
   "execution_count": 7,
   "metadata": {},
   "outputs": [
    {
     "data": {
      "text/plain": [
       "0.10208636584182436"
      ]
     },
     "execution_count": 7,
     "metadata": {},
     "output_type": "execute_result"
    }
   ],
   "source": [
    "# calculating the percenatge of null values in cylinders\n",
    "us_vehicles['cylinders'].isnull().sum()/len(us_vehicles)"
   ]
  },
  {
   "cell_type": "code",
   "execution_count": 8,
   "metadata": {},
   "outputs": [
    {
     "data": {
      "text/plain": [
       "0.15316836487142163"
      ]
     },
     "execution_count": 8,
     "metadata": {},
     "output_type": "execute_result"
    }
   ],
   "source": [
    "# calculating the percenatge of null values in odometer\n",
    "us_vehicles['odometer'].isnull().sum()/len(us_vehicles)"
   ]
  },
  {
   "cell_type": "code",
   "execution_count": 9,
   "metadata": {},
   "outputs": [
    {
     "data": {
      "text/plain": [
       "0.17985443959243086"
      ]
     },
     "execution_count": 9,
     "metadata": {},
     "output_type": "execute_result"
    }
   ],
   "source": [
    "# calculating the percenatge of null values in paint_color\n",
    "us_vehicles['paint_color'].isnull().sum()/len(us_vehicles)"
   ]
  },
  {
   "cell_type": "code",
   "execution_count": 10,
   "metadata": {},
   "outputs": [
    {
     "data": {
      "text/plain": [
       "0.5036972343522562"
      ]
     },
     "execution_count": 10,
     "metadata": {},
     "output_type": "execute_result"
    }
   ],
   "source": [
    "# calculating the percenatge of null values in is_4wd\n",
    "us_vehicles['is_4wd'].isnull().sum()/len(us_vehicles)"
   ]
  },
  {
   "cell_type": "markdown",
   "metadata": {},
   "source": [
    "<div class=\"alert alert-success\" role=\"alert\">\n",
    "Reviewer's comment v. 2:\n",
    "    \n",
    "Good job that you calculated a percentage of a missing values. This is important to know when making decision about processing of a missing values.\n",
    "</div>"
   ]
  },
  {
   "cell_type": "code",
   "execution_count": 71,
   "metadata": {},
   "outputs": [],
   "source": [
    "# filling the is4wd null values with 0.\n",
    "us_vehicles['is_4wd']= us_vehicles['is_4wd'].fillna(0)"
   ]
  },
  {
   "cell_type": "code",
   "execution_count": 12,
   "metadata": {},
   "outputs": [],
   "source": [
    "# converting the date_posted column from string to datetime format.\n",
    "us_vehicles['date_posted']= pd.to_datetime(us_vehicles['date_posted'])"
   ]
  },
  {
   "cell_type": "code",
   "execution_count": 13,
   "metadata": {},
   "outputs": [],
   "source": [
    "us_vehicles['cylinders']= us_vehicles['cylinders'].fillna(us_vehicles.groupby(['model','model_year'])['cylinders'].transform('median'))"
   ]
  },
  {
   "cell_type": "markdown",
   "metadata": {},
   "source": [
    "### Conclusion\n",
    "There are some null values in the dataset which might have resulted from either the clients not filling them in prior to publication on the site or during data extraction. \n",
    "Except for paint_color and model year, is_4wd, odometer and cylinder null values have been filled in.\n",
    "Zero was used for the column is_4wd column considering the column values are boolean in nature with those indicated as 'None' representing ~50.4% of the data in the column. \n",
    "\n",
    "Lastly,the date_posted column has also been converted to datetime format from its current string format."
   ]
  },
  {
   "cell_type": "markdown",
   "metadata": {},
   "source": [
    "<div class=\"alert alert-danger\" role=\"alert\">\n",
    "Reviewer's comment v. 1:\n",
    "    \n",
    "Could you please analyse and fill a missing values? Please try to find relationship between variables.\n",
    "</div>"
   ]
  },
  {
   "cell_type": "markdown",
   "metadata": {},
   "source": [
    "<div class=\"alert alert-success\" role=\"alert\">\n",
    "Reviewer's comment v. 2:\n",
    "    \n",
    "Yes, \"is_4wd\" column seems to be a logical field and a missing values in this column can be replaced by \"0\".\n",
    "</div>"
   ]
  },
  {
   "cell_type": "markdown",
   "metadata": {},
   "source": [
    "## Make calculations and add them to the table"
   ]
  },
  {
   "cell_type": "code",
   "execution_count": 14,
   "metadata": {},
   "outputs": [],
   "source": [
    "# renaming the column to read as mileage instead of odometer\n",
    "us_vehicles['mileage']= us_vehicles['odometer']"
   ]
  },
  {
   "cell_type": "code",
   "execution_count": 15,
   "metadata": {},
   "outputs": [],
   "source": [
    "# extrating and creating a new column as day from the date_posted column.\n",
    "us_vehicles['day'] = us_vehicles['date_posted'].dt.weekday"
   ]
  },
  {
   "cell_type": "code",
   "execution_count": 16,
   "metadata": {},
   "outputs": [],
   "source": [
    "# extrating and creating a new column as month from the date_posted column\n",
    "us_vehicles['Month'] = us_vehicles['date_posted'].dt.month"
   ]
  },
  {
   "cell_type": "code",
   "execution_count": 17,
   "metadata": {},
   "outputs": [],
   "source": [
    "# extrating and creting a new column as year from the date_posted column\n",
    "us_vehicles['Year'] = us_vehicles['date_posted'].dt.year"
   ]
  },
  {
   "cell_type": "code",
   "execution_count": 18,
   "metadata": {},
   "outputs": [],
   "source": [
    "# creating a new column 'age' of the vehicle as the difference \n",
    "# between the year the vehicle was made and the year it was made available for sale.\n",
    "us_vehicles['age']= us_vehicles['Year']-us_vehicles['model_year']"
   ]
  },
  {
   "cell_type": "code",
   "execution_count": 19,
   "metadata": {},
   "outputs": [],
   "source": [
    "# compuation of mileage traveled per year using the vehicle mileage and age\n",
    "us_vehicles['mileage_per_year'] = us_vehicles['mileage']/us_vehicles['age']"
   ]
  },
  {
   "cell_type": "code",
   "execution_count": 20,
   "metadata": {},
   "outputs": [],
   "source": [
    "us_vehicles['odometer']= us_vehicles['odometer'].fillna(us_vehicles.groupby(['age','condition'])['odometer'].transform('median'))"
   ]
  },
  {
   "cell_type": "code",
   "execution_count": 21,
   "metadata": {},
   "outputs": [
    {
     "data": {
      "text/plain": [
       "excellent    24773\n",
       "good         20145\n",
       "like new      4742\n",
       "fair          1607\n",
       "new            143\n",
       "salvage        115\n",
       "Name: condition, dtype: int64"
      ]
     },
     "execution_count": 21,
     "metadata": {},
     "output_type": "execute_result"
    }
   ],
   "source": [
    "us_vehicles['condition'].value_counts()"
   ]
  },
  {
   "cell_type": "code",
   "execution_count": 22,
   "metadata": {},
   "outputs": [
    {
     "data": {
      "text/html": [
       "<div>\n",
       "<style scoped>\n",
       "    .dataframe tbody tr th:only-of-type {\n",
       "        vertical-align: middle;\n",
       "    }\n",
       "\n",
       "    .dataframe tbody tr th {\n",
       "        vertical-align: top;\n",
       "    }\n",
       "\n",
       "    .dataframe thead th {\n",
       "        text-align: right;\n",
       "    }\n",
       "</style>\n",
       "<table border=\"1\" class=\"dataframe\">\n",
       "  <thead>\n",
       "    <tr style=\"text-align: right;\">\n",
       "      <th></th>\n",
       "      <th>price</th>\n",
       "      <th>model_year</th>\n",
       "      <th>model</th>\n",
       "      <th>condition</th>\n",
       "      <th>cylinders</th>\n",
       "      <th>fuel</th>\n",
       "      <th>odometer</th>\n",
       "      <th>transmission</th>\n",
       "      <th>type</th>\n",
       "      <th>paint_color</th>\n",
       "      <th>is_4wd</th>\n",
       "      <th>date_posted</th>\n",
       "      <th>days_listed</th>\n",
       "      <th>mileage</th>\n",
       "      <th>day</th>\n",
       "      <th>Month</th>\n",
       "      <th>Year</th>\n",
       "      <th>age</th>\n",
       "      <th>mileage_per_year</th>\n",
       "    </tr>\n",
       "  </thead>\n",
       "  <tbody>\n",
       "    <tr>\n",
       "      <td>0</td>\n",
       "      <td>9400</td>\n",
       "      <td>2011.0</td>\n",
       "      <td>bmw x5</td>\n",
       "      <td>2</td>\n",
       "      <td>6.0</td>\n",
       "      <td>gas</td>\n",
       "      <td>145000.0</td>\n",
       "      <td>automatic</td>\n",
       "      <td>SUV</td>\n",
       "      <td>NaN</td>\n",
       "      <td>1.0</td>\n",
       "      <td>2018-06-23</td>\n",
       "      <td>19</td>\n",
       "      <td>145000.0</td>\n",
       "      <td>5</td>\n",
       "      <td>6</td>\n",
       "      <td>2018</td>\n",
       "      <td>7.0</td>\n",
       "      <td>20714.285714</td>\n",
       "    </tr>\n",
       "    <tr>\n",
       "      <td>1</td>\n",
       "      <td>25500</td>\n",
       "      <td>NaN</td>\n",
       "      <td>ford f-150</td>\n",
       "      <td>2</td>\n",
       "      <td>6.0</td>\n",
       "      <td>gas</td>\n",
       "      <td>88705.0</td>\n",
       "      <td>automatic</td>\n",
       "      <td>pickup</td>\n",
       "      <td>white</td>\n",
       "      <td>1.0</td>\n",
       "      <td>2018-10-19</td>\n",
       "      <td>50</td>\n",
       "      <td>88705.0</td>\n",
       "      <td>4</td>\n",
       "      <td>10</td>\n",
       "      <td>2018</td>\n",
       "      <td>NaN</td>\n",
       "      <td>NaN</td>\n",
       "    </tr>\n",
       "    <tr>\n",
       "      <td>2</td>\n",
       "      <td>5500</td>\n",
       "      <td>2013.0</td>\n",
       "      <td>hyundai sonata</td>\n",
       "      <td>4</td>\n",
       "      <td>4.0</td>\n",
       "      <td>gas</td>\n",
       "      <td>110000.0</td>\n",
       "      <td>automatic</td>\n",
       "      <td>sedan</td>\n",
       "      <td>red</td>\n",
       "      <td>0.0</td>\n",
       "      <td>2019-02-07</td>\n",
       "      <td>79</td>\n",
       "      <td>110000.0</td>\n",
       "      <td>3</td>\n",
       "      <td>2</td>\n",
       "      <td>2019</td>\n",
       "      <td>6.0</td>\n",
       "      <td>18333.333333</td>\n",
       "    </tr>\n",
       "    <tr>\n",
       "      <td>3</td>\n",
       "      <td>1500</td>\n",
       "      <td>2003.0</td>\n",
       "      <td>ford f-150</td>\n",
       "      <td>1</td>\n",
       "      <td>8.0</td>\n",
       "      <td>gas</td>\n",
       "      <td>178500.0</td>\n",
       "      <td>automatic</td>\n",
       "      <td>pickup</td>\n",
       "      <td>NaN</td>\n",
       "      <td>0.0</td>\n",
       "      <td>2019-03-22</td>\n",
       "      <td>9</td>\n",
       "      <td>NaN</td>\n",
       "      <td>4</td>\n",
       "      <td>3</td>\n",
       "      <td>2019</td>\n",
       "      <td>16.0</td>\n",
       "      <td>NaN</td>\n",
       "    </tr>\n",
       "    <tr>\n",
       "      <td>4</td>\n",
       "      <td>14900</td>\n",
       "      <td>2017.0</td>\n",
       "      <td>chrysler 200</td>\n",
       "      <td>3</td>\n",
       "      <td>4.0</td>\n",
       "      <td>gas</td>\n",
       "      <td>80903.0</td>\n",
       "      <td>automatic</td>\n",
       "      <td>sedan</td>\n",
       "      <td>black</td>\n",
       "      <td>0.0</td>\n",
       "      <td>2019-04-02</td>\n",
       "      <td>28</td>\n",
       "      <td>80903.0</td>\n",
       "      <td>1</td>\n",
       "      <td>4</td>\n",
       "      <td>2019</td>\n",
       "      <td>2.0</td>\n",
       "      <td>40451.500000</td>\n",
       "    </tr>\n",
       "    <tr>\n",
       "      <td>...</td>\n",
       "      <td>...</td>\n",
       "      <td>...</td>\n",
       "      <td>...</td>\n",
       "      <td>...</td>\n",
       "      <td>...</td>\n",
       "      <td>...</td>\n",
       "      <td>...</td>\n",
       "      <td>...</td>\n",
       "      <td>...</td>\n",
       "      <td>...</td>\n",
       "      <td>...</td>\n",
       "      <td>...</td>\n",
       "      <td>...</td>\n",
       "      <td>...</td>\n",
       "      <td>...</td>\n",
       "      <td>...</td>\n",
       "      <td>...</td>\n",
       "      <td>...</td>\n",
       "      <td>...</td>\n",
       "    </tr>\n",
       "    <tr>\n",
       "      <td>51520</td>\n",
       "      <td>9249</td>\n",
       "      <td>2013.0</td>\n",
       "      <td>nissan maxima</td>\n",
       "      <td>4</td>\n",
       "      <td>6.0</td>\n",
       "      <td>gas</td>\n",
       "      <td>88136.0</td>\n",
       "      <td>automatic</td>\n",
       "      <td>sedan</td>\n",
       "      <td>black</td>\n",
       "      <td>0.0</td>\n",
       "      <td>2018-10-03</td>\n",
       "      <td>37</td>\n",
       "      <td>88136.0</td>\n",
       "      <td>2</td>\n",
       "      <td>10</td>\n",
       "      <td>2018</td>\n",
       "      <td>5.0</td>\n",
       "      <td>17627.200000</td>\n",
       "    </tr>\n",
       "    <tr>\n",
       "      <td>51521</td>\n",
       "      <td>2700</td>\n",
       "      <td>2002.0</td>\n",
       "      <td>honda civic</td>\n",
       "      <td>0</td>\n",
       "      <td>4.0</td>\n",
       "      <td>gas</td>\n",
       "      <td>181500.0</td>\n",
       "      <td>automatic</td>\n",
       "      <td>sedan</td>\n",
       "      <td>white</td>\n",
       "      <td>0.0</td>\n",
       "      <td>2018-11-14</td>\n",
       "      <td>22</td>\n",
       "      <td>181500.0</td>\n",
       "      <td>2</td>\n",
       "      <td>11</td>\n",
       "      <td>2018</td>\n",
       "      <td>16.0</td>\n",
       "      <td>11343.750000</td>\n",
       "    </tr>\n",
       "    <tr>\n",
       "      <td>51522</td>\n",
       "      <td>3950</td>\n",
       "      <td>2009.0</td>\n",
       "      <td>hyundai sonata</td>\n",
       "      <td>3</td>\n",
       "      <td>4.0</td>\n",
       "      <td>gas</td>\n",
       "      <td>128000.0</td>\n",
       "      <td>automatic</td>\n",
       "      <td>sedan</td>\n",
       "      <td>blue</td>\n",
       "      <td>0.0</td>\n",
       "      <td>2018-11-15</td>\n",
       "      <td>32</td>\n",
       "      <td>128000.0</td>\n",
       "      <td>3</td>\n",
       "      <td>11</td>\n",
       "      <td>2018</td>\n",
       "      <td>9.0</td>\n",
       "      <td>14222.222222</td>\n",
       "    </tr>\n",
       "    <tr>\n",
       "      <td>51523</td>\n",
       "      <td>7455</td>\n",
       "      <td>2013.0</td>\n",
       "      <td>toyota corolla</td>\n",
       "      <td>2</td>\n",
       "      <td>4.0</td>\n",
       "      <td>gas</td>\n",
       "      <td>139573.0</td>\n",
       "      <td>automatic</td>\n",
       "      <td>sedan</td>\n",
       "      <td>black</td>\n",
       "      <td>0.0</td>\n",
       "      <td>2018-07-02</td>\n",
       "      <td>71</td>\n",
       "      <td>139573.0</td>\n",
       "      <td>0</td>\n",
       "      <td>7</td>\n",
       "      <td>2018</td>\n",
       "      <td>5.0</td>\n",
       "      <td>27914.600000</td>\n",
       "    </tr>\n",
       "    <tr>\n",
       "      <td>51524</td>\n",
       "      <td>6300</td>\n",
       "      <td>2014.0</td>\n",
       "      <td>nissan altima</td>\n",
       "      <td>2</td>\n",
       "      <td>4.0</td>\n",
       "      <td>gas</td>\n",
       "      <td>90219.0</td>\n",
       "      <td>automatic</td>\n",
       "      <td>sedan</td>\n",
       "      <td>NaN</td>\n",
       "      <td>0.0</td>\n",
       "      <td>2018-06-05</td>\n",
       "      <td>10</td>\n",
       "      <td>NaN</td>\n",
       "      <td>1</td>\n",
       "      <td>6</td>\n",
       "      <td>2018</td>\n",
       "      <td>4.0</td>\n",
       "      <td>NaN</td>\n",
       "    </tr>\n",
       "  </tbody>\n",
       "</table>\n",
       "<p>51525 rows × 19 columns</p>\n",
       "</div>"
      ],
      "text/plain": [
       "       price  model_year           model  condition  cylinders fuel  odometer  \\\n",
       "0       9400      2011.0          bmw x5          2        6.0  gas  145000.0   \n",
       "1      25500         NaN      ford f-150          2        6.0  gas   88705.0   \n",
       "2       5500      2013.0  hyundai sonata          4        4.0  gas  110000.0   \n",
       "3       1500      2003.0      ford f-150          1        8.0  gas  178500.0   \n",
       "4      14900      2017.0    chrysler 200          3        4.0  gas   80903.0   \n",
       "...      ...         ...             ...        ...        ...  ...       ...   \n",
       "51520   9249      2013.0   nissan maxima          4        6.0  gas   88136.0   \n",
       "51521   2700      2002.0     honda civic          0        4.0  gas  181500.0   \n",
       "51522   3950      2009.0  hyundai sonata          3        4.0  gas  128000.0   \n",
       "51523   7455      2013.0  toyota corolla          2        4.0  gas  139573.0   \n",
       "51524   6300      2014.0   nissan altima          2        4.0  gas   90219.0   \n",
       "\n",
       "      transmission    type paint_color  is_4wd date_posted  days_listed  \\\n",
       "0        automatic     SUV         NaN     1.0  2018-06-23           19   \n",
       "1        automatic  pickup       white     1.0  2018-10-19           50   \n",
       "2        automatic   sedan         red     0.0  2019-02-07           79   \n",
       "3        automatic  pickup         NaN     0.0  2019-03-22            9   \n",
       "4        automatic   sedan       black     0.0  2019-04-02           28   \n",
       "...            ...     ...         ...     ...         ...          ...   \n",
       "51520    automatic   sedan       black     0.0  2018-10-03           37   \n",
       "51521    automatic   sedan       white     0.0  2018-11-14           22   \n",
       "51522    automatic   sedan        blue     0.0  2018-11-15           32   \n",
       "51523    automatic   sedan       black     0.0  2018-07-02           71   \n",
       "51524    automatic   sedan         NaN     0.0  2018-06-05           10   \n",
       "\n",
       "        mileage  day  Month  Year   age  mileage_per_year  \n",
       "0      145000.0    5      6  2018   7.0      20714.285714  \n",
       "1       88705.0    4     10  2018   NaN               NaN  \n",
       "2      110000.0    3      2  2019   6.0      18333.333333  \n",
       "3           NaN    4      3  2019  16.0               NaN  \n",
       "4       80903.0    1      4  2019   2.0      40451.500000  \n",
       "...         ...  ...    ...   ...   ...               ...  \n",
       "51520   88136.0    2     10  2018   5.0      17627.200000  \n",
       "51521  181500.0    2     11  2018  16.0      11343.750000  \n",
       "51522  128000.0    3     11  2018   9.0      14222.222222  \n",
       "51523  139573.0    0      7  2018   5.0      27914.600000  \n",
       "51524       NaN    1      6  2018   4.0               NaN  \n",
       "\n",
       "[51525 rows x 19 columns]"
      ]
     },
     "execution_count": 22,
     "metadata": {},
     "output_type": "execute_result"
    }
   ],
   "source": [
    "# conveting the condition column from string values to numeric ones.\n",
    "def condition_convertion(condition):\n",
    "    if condition == 'new':\n",
    "        return 5\n",
    "    elif condition =='like new':\n",
    "        return 4\n",
    "    elif condition == 'excellent':\n",
    "        return 3\n",
    "    elif condition =='good':\n",
    "        return 2\n",
    "    elif condition =='fair':\n",
    "        return 1\n",
    "    else:\n",
    "        return 0\n",
    "us_vehicles['condition'] = us_vehicles['condition'].apply(condition_convertion) \n",
    "us_vehicles"
   ]
  },
  {
   "cell_type": "markdown",
   "metadata": {},
   "source": [
    "<div class=\"alert alert-success\" role=\"alert\">\n",
    "Reviewer's comment v. 1:\n",
    "    \n",
    "Yes, it's necessary to convert the condition column to a numeric scale.\n",
    "</div>"
   ]
  },
  {
   "cell_type": "code",
   "execution_count": 23,
   "metadata": {},
   "outputs": [
    {
     "data": {
      "text/plain": [
       "0"
      ]
     },
     "execution_count": 23,
     "metadata": {},
     "output_type": "execute_result"
    }
   ],
   "source": [
    "# ascertain if there are any duplicate values in the dataset\n",
    "us_vehicles.duplicated().sum()"
   ]
  },
  {
   "cell_type": "markdown",
   "metadata": {},
   "source": [
    "<div class=\"alert alert-success\" role=\"alert\">\n",
    "Reviewer's comment v. 1:\n",
    "    \n",
    "Well done, we don't have duplcates in our data.\n",
    "</div>"
   ]
  },
  {
   "cell_type": "markdown",
   "metadata": {},
   "source": [
    "### Conclusion \n",
    "The three new columns day, month and year in which the vehicles were listed were created using the date column from which the age of the vehicle was calculated. \n",
    "In line 19, the condition of the vehicle was also recoded with numeric figures; \n",
    "* new = 5\n",
    "* salvage =0"
   ]
  },
  {
   "cell_type": "markdown",
   "metadata": {},
   "source": [
    "<div class=\"alert alert-success\" role=\"alert\">\n",
    "Reviewer's comment v. 1:\n",
    "    \n",
    "Ok :)\n",
    "</div>"
   ]
  },
  {
   "cell_type": "markdown",
   "metadata": {},
   "source": [
    "## Carry out exploratory data analysis"
   ]
  },
  {
   "cell_type": "code",
   "execution_count": 24,
   "metadata": {},
   "outputs": [
    {
     "data": {
      "text/html": [
       "<div>\n",
       "<style scoped>\n",
       "    .dataframe tbody tr th:only-of-type {\n",
       "        vertical-align: middle;\n",
       "    }\n",
       "\n",
       "    .dataframe tbody tr th {\n",
       "        vertical-align: top;\n",
       "    }\n",
       "\n",
       "    .dataframe thead th {\n",
       "        text-align: right;\n",
       "    }\n",
       "</style>\n",
       "<table border=\"1\" class=\"dataframe\">\n",
       "  <thead>\n",
       "    <tr style=\"text-align: right;\">\n",
       "      <th></th>\n",
       "      <th>price</th>\n",
       "      <th>age</th>\n",
       "      <th>mileage</th>\n",
       "      <th>cylinders</th>\n",
       "      <th>condition</th>\n",
       "    </tr>\n",
       "  </thead>\n",
       "  <tbody>\n",
       "    <tr>\n",
       "      <td>count</td>\n",
       "      <td>51525.000000</td>\n",
       "      <td>47906.000000</td>\n",
       "      <td>43633.000000</td>\n",
       "      <td>51136.000000</td>\n",
       "      <td>51525.000000</td>\n",
       "    </tr>\n",
       "    <tr>\n",
       "      <td>mean</td>\n",
       "      <td>12132.464920</td>\n",
       "      <td>8.556966</td>\n",
       "      <td>115553.461738</td>\n",
       "      <td>6.120522</td>\n",
       "      <td>2.637535</td>\n",
       "    </tr>\n",
       "    <tr>\n",
       "      <td>std</td>\n",
       "      <td>10040.803015</td>\n",
       "      <td>6.295266</td>\n",
       "      <td>65094.611341</td>\n",
       "      <td>1.657071</td>\n",
       "      <td>0.712447</td>\n",
       "    </tr>\n",
       "    <tr>\n",
       "      <td>min</td>\n",
       "      <td>1.000000</td>\n",
       "      <td>0.000000</td>\n",
       "      <td>0.000000</td>\n",
       "      <td>3.000000</td>\n",
       "      <td>0.000000</td>\n",
       "    </tr>\n",
       "    <tr>\n",
       "      <td>25%</td>\n",
       "      <td>5000.000000</td>\n",
       "      <td>4.000000</td>\n",
       "      <td>70000.000000</td>\n",
       "      <td>4.000000</td>\n",
       "      <td>2.000000</td>\n",
       "    </tr>\n",
       "    <tr>\n",
       "      <td>50%</td>\n",
       "      <td>9000.000000</td>\n",
       "      <td>7.000000</td>\n",
       "      <td>113000.000000</td>\n",
       "      <td>6.000000</td>\n",
       "      <td>3.000000</td>\n",
       "    </tr>\n",
       "    <tr>\n",
       "      <td>75%</td>\n",
       "      <td>16839.000000</td>\n",
       "      <td>12.000000</td>\n",
       "      <td>155000.000000</td>\n",
       "      <td>8.000000</td>\n",
       "      <td>3.000000</td>\n",
       "    </tr>\n",
       "    <tr>\n",
       "      <td>max</td>\n",
       "      <td>375000.000000</td>\n",
       "      <td>110.000000</td>\n",
       "      <td>990000.000000</td>\n",
       "      <td>12.000000</td>\n",
       "      <td>5.000000</td>\n",
       "    </tr>\n",
       "  </tbody>\n",
       "</table>\n",
       "</div>"
      ],
      "text/plain": [
       "               price           age        mileage     cylinders     condition\n",
       "count   51525.000000  47906.000000   43633.000000  51136.000000  51525.000000\n",
       "mean    12132.464920      8.556966  115553.461738      6.120522      2.637535\n",
       "std     10040.803015      6.295266   65094.611341      1.657071      0.712447\n",
       "min         1.000000      0.000000       0.000000      3.000000      0.000000\n",
       "25%      5000.000000      4.000000   70000.000000      4.000000      2.000000\n",
       "50%      9000.000000      7.000000  113000.000000      6.000000      3.000000\n",
       "75%     16839.000000     12.000000  155000.000000      8.000000      3.000000\n",
       "max    375000.000000    110.000000  990000.000000     12.000000      5.000000"
      ]
     },
     "execution_count": 24,
     "metadata": {},
     "output_type": "execute_result"
    }
   ],
   "source": [
    "# summary statistics of selected columns\n",
    "us_vehicles[['price','age','mileage','cylinders','condition']].describe()"
   ]
  },
  {
   "cell_type": "markdown",
   "metadata": {},
   "source": [
    "<div class=\"alert alert-warning\" role=\"alert\">\n",
    "Reviewer's comment v. 1:\n",
    "    \n",
    "Please note that you can avoid \"Text(0.5, 1.0, 'Histogram: price of vehicles')\" by using \";\" after code lines with graph.\n",
    "</div>"
   ]
  },
  {
   "cell_type": "markdown",
   "metadata": {},
   "source": [
    "<div class=\"alert alert-success\" role=\"alert\">\n",
    "Reviewer's comment v. 2:\n",
    "    \n",
    "👍👍👍\n",
    "</div>"
   ]
  },
  {
   "cell_type": "code",
   "execution_count": 25,
   "metadata": {},
   "outputs": [
    {
     "data": {
      "image/png": "[encoded data removed]",
      "text/plain": [
       "<Figure size 432x288 with 1 Axes>"
      ]
     },
     "metadata": {
      "needs_background": "light"
     },
     "output_type": "display_data"
    }
   ],
   "source": [
    "# creating a histogram with the price column\n",
    "us_vehicles.hist('price',bins=50)\n",
    "plt.xlabel('Price')\n",
    "plt.ylabel('Count')\n",
    "plt.title('Histogram: price of vehicles');"
   ]
  },
  {
   "cell_type": "markdown",
   "metadata": {},
   "source": [
    "This graph represents the distribution of prices of vehicles listed on the site. The x-axis presents the price ranges of vehicles and the count on the y-axis. Values between 0 and 5000 represents the peak of the data points on the y-axis of the histogram which is skewed to the right with extreme outliers over 350,000. "
   ]
  },
  {
   "cell_type": "markdown",
   "metadata": {},
   "source": [
    "<div class=\"alert alert-danger\" role=\"alert\">\n",
    "Reviewer's comment v. 1:\n",
    "    \n",
    "Please note that as Data Analyst you should describe graphs in details and make a corresponding conclusion.\n",
    "    \n",
    "Please see the following link how graphs can be described: http://explainwell.org/index.php/table-of-contents-handle-numbers/phrases-and-6-analysis-steps-to-interpret-a-graph/\n",
    "</div>"
   ]
  },
  {
   "cell_type": "markdown",
   "metadata": {},
   "source": [
    "<div class=\"alert alert-success\" role=\"alert\">\n",
    "Reviewer's comment v. 2:\n",
    "    \n",
    "Well done that you firstly described what the graph shows and then analysed main trends and an outliers.\n",
    "</div>"
   ]
  },
  {
   "cell_type": "code",
   "execution_count": 26,
   "metadata": {},
   "outputs": [
    {
     "data": {
      "image/png": "[encoded data removed]",
      "text/plain": [
       "<Figure size 432x288 with 1 Axes>"
      ]
     },
     "metadata": {
      "needs_background": "light"
     },
     "output_type": "display_data"
    }
   ],
   "source": [
    "# creating a histogram with the age column\n",
    "us_vehicles.hist('age',bins=100)\n",
    "plt.xlabel('Age')\n",
    "plt.ylabel('Count')\n",
    "plt.title('Histogram: Age of vehicles');"
   ]
  },
  {
   "cell_type": "markdown",
   "metadata": {},
   "source": [
    "This graph represents the distribution of the ages of vehicles at the time of listing. The histogram has two significant modes at about 0-5 and about 14-15 years. It is evident from the graph that, most listed vehicles are between the ages of 0 and 25 years."
   ]
  },
  {
   "cell_type": "markdown",
   "metadata": {},
   "source": [
    "<div class=\"alert alert-success\" role=\"alert\">\n",
    "Reviewer's comment v. 2:\n",
    "    \n",
    "It's great that you analyzed the graph in details.\n",
    "</div>"
   ]
  },
  {
   "cell_type": "code",
   "execution_count": 27,
   "metadata": {},
   "outputs": [
    {
     "data": {
      "image/png": "[encoded data removed]",
      "text/plain": [
       "<Figure size 432x288 with 1 Axes>"
      ]
     },
     "metadata": {
      "needs_background": "light"
     },
     "output_type": "display_data"
    }
   ],
   "source": [
    "# creating a histogram with the mileage column\n",
    "us_vehicles.hist('mileage',bins=100)\n",
    "plt.xlabel('Mileage')\n",
    "plt.ylabel('Count')\n",
    "plt.title('Histogram: Mileage of vehicles');"
   ]
  },
  {
   "cell_type": "markdown",
   "metadata": {},
   "source": [
    "With two modes between 100,000 and 130,000, the histogram shows the data values are right skewed with extreme value of 1,000,000."
   ]
  },
  {
   "cell_type": "markdown",
   "metadata": {},
   "source": [
    "<div class=\"alert alert-success\" role=\"alert\">\n",
    "Reviewer's comment v. 2:\n",
    "    \n",
    "Yes, the distribution is right skewed.\n",
    "</div>"
   ]
  },
  {
   "cell_type": "code",
   "execution_count": 28,
   "metadata": {},
   "outputs": [
    {
     "data": {
      "image/png": "[encoded data removed]",
      "text/plain": [
       "<Figure size 432x288 with 1 Axes>"
      ]
     },
     "metadata": {
      "needs_background": "light"
     },
     "output_type": "display_data"
    }
   ],
   "source": [
    "# creating a histogram with the cylinders column\n",
    "us_vehicles.hist('cylinders',bins=100)\n",
    "plt.xlabel('Cylinders')\n",
    "plt.ylabel('Count')\n",
    "plt.title('Histogram: Number of cylinders Distribution');"
   ]
  },
  {
   "cell_type": "markdown",
   "metadata": {},
   "source": [
    "The graph depicts the distribution of the number cylinders on the vehicles listed."
   ]
  },
  {
   "cell_type": "code",
   "execution_count": 29,
   "metadata": {},
   "outputs": [
    {
     "data": {
      "image/png": "[encoded data removed]",
      "text/plain": [
       "<Figure size 432x288 with 1 Axes>"
      ]
     },
     "metadata": {
      "needs_background": "light"
     },
     "output_type": "display_data"
    }
   ],
   "source": [
    "# creating a histogram with the condition column\n",
    "us_vehicles.hist('condition',bins=100)\n",
    "plt.xlabel('Condition')\n",
    "plt.ylabel('Count')\n",
    "plt.title('Histogram: Condition of vehicles');"
   ]
  },
  {
   "cell_type": "markdown",
   "metadata": {},
   "source": [
    "This graph shows the distribution of condition of the vehicles listed. Notably, most of the vehicles sold are either in good  or in excellent conditions."
   ]
  },
  {
   "cell_type": "markdown",
   "metadata": {},
   "source": [
    "### Conclusion\n",
    "The study of the various graphs above show some level of right skewness in the dataset except for conditions and cylinders. Some outliers were more evident in some compared to others. These  outliers identified can be truely ascertained or become more visible when we apply the boxplot to plot the data. "
   ]
  },
  {
   "cell_type": "markdown",
   "metadata": {},
   "source": [
    "<div class=\"alert alert-success\" role=\"alert\">\n",
    "Reviewer's comment v. 2:\n",
    "    \n",
    "An excellent analysis :)\n",
    "</div>"
   ]
  },
  {
   "cell_type": "code",
   "execution_count": 30,
   "metadata": {},
   "outputs": [],
   "source": [
    "# computing the 25%, 75% and the Interquartile range of the price column\n",
    "Q1=us_vehicles['price'].quantile(0.25)\n",
    "Q3=us_vehicles['price'].quantile(0.75)\n",
    "IQR = Q3-Q1"
   ]
  },
  {
   "cell_type": "code",
   "execution_count": 31,
   "metadata": {},
   "outputs": [
    {
     "data": {
      "image/png": "[encoded data removed]",
      "text/plain": [
       "<Figure size 432x288 with 1 Axes>"
      ]
     },
     "metadata": {
      "needs_background": "light"
     },
     "output_type": "display_data"
    }
   ],
   "source": [
    "# creating a boxplot to determine the outliers of the price column\n",
    "us_vehicles.boxplot('price')\n",
    "plt.hlines(y=[Q1-1.5*IQR],xmin= 0.9,xmax=1.1,color='red')\n",
    "plt.hlines(y=[Q3+1.5*IQR],xmin= 0.9,xmax=1.1,color='red');"
   ]
  },
  {
   "cell_type": "code",
   "execution_count": 32,
   "metadata": {
    "scrolled": true
   },
   "outputs": [
    {
     "data": {
      "image/png": "[encoded data removed]",
      "text/plain": [
       "<Figure size 432x288 with 1 Axes>"
      ]
     },
     "metadata": {
      "needs_background": "light"
     },
     "output_type": "display_data"
    }
   ],
   "source": [
    "# zooming in on the boxplot as the data is heavily concentrated between 0 and 50000\n",
    "us_vehicles.boxplot('price')\n",
    "plt.hlines(y=[Q1-1.5*IQR],xmin= 0.9,xmax=1.1,color='red')\n",
    "plt.hlines(y=[Q3+1.5*IQR],xmin= 0.9,xmax=1.1,color='red')\n",
    "plt.ylim(0,50000);"
   ]
  },
  {
   "cell_type": "markdown",
   "metadata": {},
   "source": [
    "The boxplot shows reveils in more detail, the outliers identifed using the histogram. It has it's median value of about 9,000, 25% of 5000 and 75% of about 18,000. The red line  after the upper whiskers indicate the upper outliers of the dataset at about 35,000. "
   ]
  },
  {
   "cell_type": "markdown",
   "metadata": {},
   "source": [
    "<div class=\"alert alert-danger\" role=\"alert\">\n",
    "Reviewer's comment v. 1:\n",
    "    \n",
    "Well done that you plot boxplot, but please describe outliers in more details.\n",
    "</div>"
   ]
  },
  {
   "cell_type": "markdown",
   "metadata": {},
   "source": [
    "<div class=\"alert alert-success\" role=\"alert\">\n",
    "Reviewer's comment v. 2:\n",
    "    \n",
    "You have made a really great analysis of an outliers. Good job!\n",
    "</div>"
   ]
  },
  {
   "cell_type": "code",
   "execution_count": 33,
   "metadata": {},
   "outputs": [],
   "source": [
    "# seperating the outliers into a different variable.\n",
    "upper_limit_outliers = us_vehicles.query('price >35000')"
   ]
  },
  {
   "cell_type": "code",
   "execution_count": 34,
   "metadata": {},
   "outputs": [],
   "source": [
    "# extracting the rows of price greater than or equal to 35,000 to be used in the analysis\n",
    "us_vehicles_filtered = us_vehicles.query('price <=35000')"
   ]
  },
  {
   "cell_type": "code",
   "execution_count": 35,
   "metadata": {},
   "outputs": [
    {
     "data": {
      "text/html": [
       "<div>\n",
       "<style scoped>\n",
       "    .dataframe tbody tr th:only-of-type {\n",
       "        vertical-align: middle;\n",
       "    }\n",
       "\n",
       "    .dataframe tbody tr th {\n",
       "        vertical-align: top;\n",
       "    }\n",
       "\n",
       "    .dataframe thead th {\n",
       "        text-align: right;\n",
       "    }\n",
       "</style>\n",
       "<table border=\"1\" class=\"dataframe\">\n",
       "  <thead>\n",
       "    <tr style=\"text-align: right;\">\n",
       "      <th></th>\n",
       "      <th>price</th>\n",
       "      <th>model_year</th>\n",
       "      <th>model</th>\n",
       "      <th>condition</th>\n",
       "      <th>cylinders</th>\n",
       "      <th>fuel</th>\n",
       "      <th>odometer</th>\n",
       "      <th>transmission</th>\n",
       "      <th>type</th>\n",
       "      <th>paint_color</th>\n",
       "      <th>is_4wd</th>\n",
       "      <th>date_posted</th>\n",
       "      <th>days_listed</th>\n",
       "      <th>mileage</th>\n",
       "      <th>day</th>\n",
       "      <th>Month</th>\n",
       "      <th>Year</th>\n",
       "      <th>age</th>\n",
       "      <th>mileage_per_year</th>\n",
       "    </tr>\n",
       "  </thead>\n",
       "  <tbody>\n",
       "    <tr>\n",
       "      <td>0</td>\n",
       "      <td>9400</td>\n",
       "      <td>2011.0</td>\n",
       "      <td>bmw x5</td>\n",
       "      <td>2</td>\n",
       "      <td>6.0</td>\n",
       "      <td>gas</td>\n",
       "      <td>145000.0</td>\n",
       "      <td>automatic</td>\n",
       "      <td>SUV</td>\n",
       "      <td>NaN</td>\n",
       "      <td>1.0</td>\n",
       "      <td>2018-06-23</td>\n",
       "      <td>19</td>\n",
       "      <td>145000.0</td>\n",
       "      <td>5</td>\n",
       "      <td>6</td>\n",
       "      <td>2018</td>\n",
       "      <td>7.0</td>\n",
       "      <td>20714.285714</td>\n",
       "    </tr>\n",
       "    <tr>\n",
       "      <td>1</td>\n",
       "      <td>25500</td>\n",
       "      <td>NaN</td>\n",
       "      <td>ford f-150</td>\n",
       "      <td>2</td>\n",
       "      <td>6.0</td>\n",
       "      <td>gas</td>\n",
       "      <td>88705.0</td>\n",
       "      <td>automatic</td>\n",
       "      <td>pickup</td>\n",
       "      <td>white</td>\n",
       "      <td>1.0</td>\n",
       "      <td>2018-10-19</td>\n",
       "      <td>50</td>\n",
       "      <td>88705.0</td>\n",
       "      <td>4</td>\n",
       "      <td>10</td>\n",
       "      <td>2018</td>\n",
       "      <td>NaN</td>\n",
       "      <td>NaN</td>\n",
       "    </tr>\n",
       "    <tr>\n",
       "      <td>2</td>\n",
       "      <td>5500</td>\n",
       "      <td>2013.0</td>\n",
       "      <td>hyundai sonata</td>\n",
       "      <td>4</td>\n",
       "      <td>4.0</td>\n",
       "      <td>gas</td>\n",
       "      <td>110000.0</td>\n",
       "      <td>automatic</td>\n",
       "      <td>sedan</td>\n",
       "      <td>red</td>\n",
       "      <td>0.0</td>\n",
       "      <td>2019-02-07</td>\n",
       "      <td>79</td>\n",
       "      <td>110000.0</td>\n",
       "      <td>3</td>\n",
       "      <td>2</td>\n",
       "      <td>2019</td>\n",
       "      <td>6.0</td>\n",
       "      <td>18333.333333</td>\n",
       "    </tr>\n",
       "    <tr>\n",
       "      <td>3</td>\n",
       "      <td>1500</td>\n",
       "      <td>2003.0</td>\n",
       "      <td>ford f-150</td>\n",
       "      <td>1</td>\n",
       "      <td>8.0</td>\n",
       "      <td>gas</td>\n",
       "      <td>178500.0</td>\n",
       "      <td>automatic</td>\n",
       "      <td>pickup</td>\n",
       "      <td>NaN</td>\n",
       "      <td>0.0</td>\n",
       "      <td>2019-03-22</td>\n",
       "      <td>9</td>\n",
       "      <td>NaN</td>\n",
       "      <td>4</td>\n",
       "      <td>3</td>\n",
       "      <td>2019</td>\n",
       "      <td>16.0</td>\n",
       "      <td>NaN</td>\n",
       "    </tr>\n",
       "    <tr>\n",
       "      <td>4</td>\n",
       "      <td>14900</td>\n",
       "      <td>2017.0</td>\n",
       "      <td>chrysler 200</td>\n",
       "      <td>3</td>\n",
       "      <td>4.0</td>\n",
       "      <td>gas</td>\n",
       "      <td>80903.0</td>\n",
       "      <td>automatic</td>\n",
       "      <td>sedan</td>\n",
       "      <td>black</td>\n",
       "      <td>0.0</td>\n",
       "      <td>2019-04-02</td>\n",
       "      <td>28</td>\n",
       "      <td>80903.0</td>\n",
       "      <td>1</td>\n",
       "      <td>4</td>\n",
       "      <td>2019</td>\n",
       "      <td>2.0</td>\n",
       "      <td>40451.500000</td>\n",
       "    </tr>\n",
       "    <tr>\n",
       "      <td>...</td>\n",
       "      <td>...</td>\n",
       "      <td>...</td>\n",
       "      <td>...</td>\n",
       "      <td>...</td>\n",
       "      <td>...</td>\n",
       "      <td>...</td>\n",
       "      <td>...</td>\n",
       "      <td>...</td>\n",
       "      <td>...</td>\n",
       "      <td>...</td>\n",
       "      <td>...</td>\n",
       "      <td>...</td>\n",
       "      <td>...</td>\n",
       "      <td>...</td>\n",
       "      <td>...</td>\n",
       "      <td>...</td>\n",
       "      <td>...</td>\n",
       "      <td>...</td>\n",
       "      <td>...</td>\n",
       "    </tr>\n",
       "    <tr>\n",
       "      <td>51520</td>\n",
       "      <td>9249</td>\n",
       "      <td>2013.0</td>\n",
       "      <td>nissan maxima</td>\n",
       "      <td>4</td>\n",
       "      <td>6.0</td>\n",
       "      <td>gas</td>\n",
       "      <td>88136.0</td>\n",
       "      <td>automatic</td>\n",
       "      <td>sedan</td>\n",
       "      <td>black</td>\n",
       "      <td>0.0</td>\n",
       "      <td>2018-10-03</td>\n",
       "      <td>37</td>\n",
       "      <td>88136.0</td>\n",
       "      <td>2</td>\n",
       "      <td>10</td>\n",
       "      <td>2018</td>\n",
       "      <td>5.0</td>\n",
       "      <td>17627.200000</td>\n",
       "    </tr>\n",
       "    <tr>\n",
       "      <td>51521</td>\n",
       "      <td>2700</td>\n",
       "      <td>2002.0</td>\n",
       "      <td>honda civic</td>\n",
       "      <td>0</td>\n",
       "      <td>4.0</td>\n",
       "      <td>gas</td>\n",
       "      <td>181500.0</td>\n",
       "      <td>automatic</td>\n",
       "      <td>sedan</td>\n",
       "      <td>white</td>\n",
       "      <td>0.0</td>\n",
       "      <td>2018-11-14</td>\n",
       "      <td>22</td>\n",
       "      <td>181500.0</td>\n",
       "      <td>2</td>\n",
       "      <td>11</td>\n",
       "      <td>2018</td>\n",
       "      <td>16.0</td>\n",
       "      <td>11343.750000</td>\n",
       "    </tr>\n",
       "    <tr>\n",
       "      <td>51522</td>\n",
       "      <td>3950</td>\n",
       "      <td>2009.0</td>\n",
       "      <td>hyundai sonata</td>\n",
       "      <td>3</td>\n",
       "      <td>4.0</td>\n",
       "      <td>gas</td>\n",
       "      <td>128000.0</td>\n",
       "      <td>automatic</td>\n",
       "      <td>sedan</td>\n",
       "      <td>blue</td>\n",
       "      <td>0.0</td>\n",
       "      <td>2018-11-15</td>\n",
       "      <td>32</td>\n",
       "      <td>128000.0</td>\n",
       "      <td>3</td>\n",
       "      <td>11</td>\n",
       "      <td>2018</td>\n",
       "      <td>9.0</td>\n",
       "      <td>14222.222222</td>\n",
       "    </tr>\n",
       "    <tr>\n",
       "      <td>51523</td>\n",
       "      <td>7455</td>\n",
       "      <td>2013.0</td>\n",
       "      <td>toyota corolla</td>\n",
       "      <td>2</td>\n",
       "      <td>4.0</td>\n",
       "      <td>gas</td>\n",
       "      <td>139573.0</td>\n",
       "      <td>automatic</td>\n",
       "      <td>sedan</td>\n",
       "      <td>black</td>\n",
       "      <td>0.0</td>\n",
       "      <td>2018-07-02</td>\n",
       "      <td>71</td>\n",
       "      <td>139573.0</td>\n",
       "      <td>0</td>\n",
       "      <td>7</td>\n",
       "      <td>2018</td>\n",
       "      <td>5.0</td>\n",
       "      <td>27914.600000</td>\n",
       "    </tr>\n",
       "    <tr>\n",
       "      <td>51524</td>\n",
       "      <td>6300</td>\n",
       "      <td>2014.0</td>\n",
       "      <td>nissan altima</td>\n",
       "      <td>2</td>\n",
       "      <td>4.0</td>\n",
       "      <td>gas</td>\n",
       "      <td>90219.0</td>\n",
       "      <td>automatic</td>\n",
       "      <td>sedan</td>\n",
       "      <td>NaN</td>\n",
       "      <td>0.0</td>\n",
       "      <td>2018-06-05</td>\n",
       "      <td>10</td>\n",
       "      <td>NaN</td>\n",
       "      <td>1</td>\n",
       "      <td>6</td>\n",
       "      <td>2018</td>\n",
       "      <td>4.0</td>\n",
       "      <td>NaN</td>\n",
       "    </tr>\n",
       "  </tbody>\n",
       "</table>\n",
       "<p>50111 rows × 19 columns</p>\n",
       "</div>"
      ],
      "text/plain": [
       "       price  model_year           model  condition  cylinders fuel  odometer  \\\n",
       "0       9400      2011.0          bmw x5          2        6.0  gas  145000.0   \n",
       "1      25500         NaN      ford f-150          2        6.0  gas   88705.0   \n",
       "2       5500      2013.0  hyundai sonata          4        4.0  gas  110000.0   \n",
       "3       1500      2003.0      ford f-150          1        8.0  gas  178500.0   \n",
       "4      14900      2017.0    chrysler 200          3        4.0  gas   80903.0   \n",
       "...      ...         ...             ...        ...        ...  ...       ...   \n",
       "51520   9249      2013.0   nissan maxima          4        6.0  gas   88136.0   \n",
       "51521   2700      2002.0     honda civic          0        4.0  gas  181500.0   \n",
       "51522   3950      2009.0  hyundai sonata          3        4.0  gas  128000.0   \n",
       "51523   7455      2013.0  toyota corolla          2        4.0  gas  139573.0   \n",
       "51524   6300      2014.0   nissan altima          2        4.0  gas   90219.0   \n",
       "\n",
       "      transmission    type paint_color  is_4wd date_posted  days_listed  \\\n",
       "0        automatic     SUV         NaN     1.0  2018-06-23           19   \n",
       "1        automatic  pickup       white     1.0  2018-10-19           50   \n",
       "2        automatic   sedan         red     0.0  2019-02-07           79   \n",
       "3        automatic  pickup         NaN     0.0  2019-03-22            9   \n",
       "4        automatic   sedan       black     0.0  2019-04-02           28   \n",
       "...            ...     ...         ...     ...         ...          ...   \n",
       "51520    automatic   sedan       black     0.0  2018-10-03           37   \n",
       "51521    automatic   sedan       white     0.0  2018-11-14           22   \n",
       "51522    automatic   sedan        blue     0.0  2018-11-15           32   \n",
       "51523    automatic   sedan       black     0.0  2018-07-02           71   \n",
       "51524    automatic   sedan         NaN     0.0  2018-06-05           10   \n",
       "\n",
       "        mileage  day  Month  Year   age  mileage_per_year  \n",
       "0      145000.0    5      6  2018   7.0      20714.285714  \n",
       "1       88705.0    4     10  2018   NaN               NaN  \n",
       "2      110000.0    3      2  2019   6.0      18333.333333  \n",
       "3           NaN    4      3  2019  16.0               NaN  \n",
       "4       80903.0    1      4  2019   2.0      40451.500000  \n",
       "...         ...  ...    ...   ...   ...               ...  \n",
       "51520   88136.0    2     10  2018   5.0      17627.200000  \n",
       "51521  181500.0    2     11  2018  16.0      11343.750000  \n",
       "51522  128000.0    3     11  2018   9.0      14222.222222  \n",
       "51523  139573.0    0      7  2018   5.0      27914.600000  \n",
       "51524       NaN    1      6  2018   4.0               NaN  \n",
       "\n",
       "[50111 rows x 19 columns]"
      ]
     },
     "execution_count": 35,
     "metadata": {},
     "output_type": "execute_result"
    }
   ],
   "source": [
    "us_vehicles_filtered"
   ]
  },
  {
   "cell_type": "markdown",
   "metadata": {},
   "source": [
    "From the boxplot, values beyond $35000 where idenfied as outliers as indicated by the red line on the whiskers. The outliers would be filtered out of the dataset prior to using the remianing for the analysis."
   ]
  },
  {
   "cell_type": "markdown",
   "metadata": {},
   "source": [
    "<div class=\"alert alert-success\" role=\"alert\">\n",
    "Reviewer's comment v. 1:\n",
    "    \n",
    "Good job tha you removed an outliers.\n",
    "</div>"
   ]
  },
  {
   "cell_type": "code",
   "execution_count": 36,
   "metadata": {
    "scrolled": true
   },
   "outputs": [
    {
     "data": {
      "image/png": "[encoded data removed]",
      "text/plain": [
       "<Figure size 432x288 with 1 Axes>"
      ]
     },
     "metadata": {
      "needs_background": "light"
     },
     "output_type": "display_data"
    }
   ],
   "source": [
    "us_vehicles['price'].hist(bins=50)\n",
    "us_vehicles_filtered['price'].hist(bins=50)\n",
    "plt.xlabel('Price')\n",
    "plt.ylabel('Count')\n",
    "plt.title('Histogram: Comparing filtered data to old one(Price)');"
   ]
  },
  {
   "cell_type": "markdown",
   "metadata": {},
   "source": [
    "This graph compares price of vehicles from both the raw data and the filtered one without outliers.  There is a huge difference between the two dataframes. In the raw data,there are vehicles sold as high is 350,000 whiles does from the filtered one has its maximum value at 35,000."
   ]
  },
  {
   "cell_type": "code",
   "execution_count": 37,
   "metadata": {
    "scrolled": true
   },
   "outputs": [
    {
     "data": {
      "image/png": "[encoded data removed]",
      "text/plain": [
       "<Figure size 432x288 with 1 Axes>"
      ]
     },
     "metadata": {
      "needs_background": "light"
     },
     "output_type": "display_data"
    }
   ],
   "source": [
    "us_vehicles['mileage'].hist(bins=100)\n",
    "us_vehicles_filtered['mileage'].hist(bins=100)\n",
    "plt.xlabel('Mileage')\n",
    "plt.ylabel('Count')\n",
    "plt.title('Histogram: Comparing filtered data to old one(Mileage)');"
   ]
  },
  {
   "cell_type": "markdown",
   "metadata": {},
   "source": [
    "The filtered data and the raw data do not seem to have any significant difference in them."
   ]
  },
  {
   "cell_type": "code",
   "execution_count": 38,
   "metadata": {
    "scrolled": true
   },
   "outputs": [
    {
     "data": {
      "image/png": "[encoded data removed]",
      "text/plain": [
       "<Figure size 432x288 with 1 Axes>"
      ]
     },
     "metadata": {
      "needs_background": "light"
     },
     "output_type": "display_data"
    }
   ],
   "source": [
    "us_vehicles['cylinders'].hist(bins=100)\n",
    "us_vehicles_filtered['cylinders'].hist(bins=100)\n",
    "plt.xlabel('Cylinders')\n",
    "plt.ylabel('Count')\n",
    "plt.title('Histogram: Comparing filtered data to old one(Cylinders)');"
   ]
  },
  {
   "cell_type": "markdown",
   "metadata": {},
   "source": [
    "The graph do not show any significant difference between filtered data and raw data."
   ]
  },
  {
   "cell_type": "code",
   "execution_count": 39,
   "metadata": {
    "scrolled": true
   },
   "outputs": [
    {
     "data": {
      "image/png": "[encoded data removed]",
      "text/plain": [
       "<Figure size 432x288 with 1 Axes>"
      ]
     },
     "metadata": {
      "needs_background": "light"
     },
     "output_type": "display_data"
    }
   ],
   "source": [
    "us_vehicles['condition'].hist(bins=100)\n",
    "us_vehicles_filtered['condition'].hist(bins=100)\n",
    "plt.xlabel('Condition')\n",
    "plt.ylabel('Count')\n",
    "plt.title('Histogram: Comparing filtered data to old one(Condition)');"
   ]
  },
  {
   "cell_type": "markdown",
   "metadata": {},
   "source": [
    "This graph shows the results of both the raw data and the filtered one which has completely overlapped each other."
   ]
  },
  {
   "cell_type": "code",
   "execution_count": 40,
   "metadata": {
    "scrolled": true
   },
   "outputs": [
    {
     "data": {
      "image/png": "[encoded data removed]",
      "text/plain": [
       "<Figure size 432x288 with 1 Axes>"
      ]
     },
     "metadata": {
      "needs_background": "light"
     },
     "output_type": "display_data"
    }
   ],
   "source": [
    "us_vehicles['age'].hist(bins=100)\n",
    "us_vehicles_filtered['age'].hist(bins=100)\n",
    "plt.xlabel('Age')\n",
    "plt.ylabel('Count')\n",
    "plt.title('Histogram: Comparing filtered data to old one(Age)');"
   ]
  },
  {
   "cell_type": "markdown",
   "metadata": {},
   "source": [
    "This graph shows the results of age of vehicle in both raw data and the filtered one which has almost completly overlapped. This indicate that, the filtered data is representative of the entire dataset structure."
   ]
  },
  {
   "cell_type": "markdown",
   "metadata": {},
   "source": [
    "<div class=\"alert alert-success\" role=\"alert\">\n",
    "Reviewer's comment v. 2:\n",
    "    \n",
    "👍👍👍\n",
    "</div>"
   ]
  },
  {
   "cell_type": "markdown",
   "metadata": {},
   "source": [
    "### Conclusion\n",
    "Comparing the old histograms using the raw data for price, age, condition, mileage and cylinders and the filtered one. Except for price based on the results above, the other graphs do not show significant variations in the data set. This is reflective of the fact that, the filtered dataset is represenative of the whole thereby, representative of the whole considering the other parameters.  "
   ]
  },
  {
   "cell_type": "code",
   "execution_count": 41,
   "metadata": {},
   "outputs": [
    {
     "data": {
      "text/plain": [
       "count    50111.000000\n",
       "mean        39.548123\n",
       "std         28.195189\n",
       "min          0.000000\n",
       "25%         19.000000\n",
       "50%         33.000000\n",
       "75%         53.000000\n",
       "max        271.000000\n",
       "Name: days_listed, dtype: float64"
      ]
     },
     "execution_count": 41,
     "metadata": {},
     "output_type": "execute_result"
    }
   ],
   "source": [
    "us_vehicles_filtered['days_listed'].describe()"
   ]
  },
  {
   "cell_type": "code",
   "execution_count": 42,
   "metadata": {},
   "outputs": [
    {
     "data": {
      "image/png": "[encoded data removed]",
      "text/plain": [
       "<Figure size 432x288 with 1 Axes>"
      ]
     },
     "metadata": {
      "needs_background": "light"
     },
     "output_type": "display_data"
    }
   ],
   "source": [
    "us_vehicles_filtered['days_listed'].hist(bins=100)\n",
    "plt.xlabel('Days_listed')\n",
    "plt.ylabel('Count')\n",
    "plt.title('Histogram: Distribution of Vehicles days listing');"
   ]
  },
  {
   "cell_type": "markdown",
   "metadata": {},
   "source": [
    "This graph shows the distribution of the number of days the vehicles were listed on the site. The histogram peaked at about 25 days before having a downward slope to the right. The slope is maintained up until 271 days which makes the life of the vehicle listing."
   ]
  },
  {
   "cell_type": "code",
   "execution_count": 43,
   "metadata": {
    "scrolled": false
   },
   "outputs": [
    {
     "data": {
      "text/html": [
       "<div>\n",
       "<style scoped>\n",
       "    .dataframe tbody tr th:only-of-type {\n",
       "        vertical-align: middle;\n",
       "    }\n",
       "\n",
       "    .dataframe tbody tr th {\n",
       "        vertical-align: top;\n",
       "    }\n",
       "\n",
       "    .dataframe thead th {\n",
       "        text-align: right;\n",
       "    }\n",
       "</style>\n",
       "<table border=\"1\" class=\"dataframe\">\n",
       "  <thead>\n",
       "    <tr style=\"text-align: right;\">\n",
       "      <th></th>\n",
       "      <th>mean</th>\n",
       "      <th>median</th>\n",
       "    </tr>\n",
       "    <tr>\n",
       "      <th>type</th>\n",
       "      <th></th>\n",
       "      <th></th>\n",
       "    </tr>\n",
       "  </thead>\n",
       "  <tbody>\n",
       "    <tr>\n",
       "      <td>SUV</td>\n",
       "      <td>39.771873</td>\n",
       "      <td>33.0</td>\n",
       "    </tr>\n",
       "    <tr>\n",
       "      <td>bus</td>\n",
       "      <td>43.500000</td>\n",
       "      <td>44.5</td>\n",
       "    </tr>\n",
       "    <tr>\n",
       "      <td>convertible</td>\n",
       "      <td>39.194836</td>\n",
       "      <td>33.0</td>\n",
       "    </tr>\n",
       "    <tr>\n",
       "      <td>coupe</td>\n",
       "      <td>39.338551</td>\n",
       "      <td>33.0</td>\n",
       "    </tr>\n",
       "    <tr>\n",
       "      <td>hatchback</td>\n",
       "      <td>40.533906</td>\n",
       "      <td>35.0</td>\n",
       "    </tr>\n",
       "    <tr>\n",
       "      <td>mini-van</td>\n",
       "      <td>39.448574</td>\n",
       "      <td>33.0</td>\n",
       "    </tr>\n",
       "    <tr>\n",
       "      <td>offroad</td>\n",
       "      <td>40.485577</td>\n",
       "      <td>32.0</td>\n",
       "    </tr>\n",
       "    <tr>\n",
       "      <td>other</td>\n",
       "      <td>38.055556</td>\n",
       "      <td>32.0</td>\n",
       "    </tr>\n",
       "    <tr>\n",
       "      <td>pickup</td>\n",
       "      <td>39.259559</td>\n",
       "      <td>33.0</td>\n",
       "    </tr>\n",
       "    <tr>\n",
       "      <td>sedan</td>\n",
       "      <td>39.421339</td>\n",
       "      <td>33.0</td>\n",
       "    </tr>\n",
       "    <tr>\n",
       "      <td>truck</td>\n",
       "      <td>39.397440</td>\n",
       "      <td>33.0</td>\n",
       "    </tr>\n",
       "    <tr>\n",
       "      <td>van</td>\n",
       "      <td>40.715190</td>\n",
       "      <td>33.5</td>\n",
       "    </tr>\n",
       "    <tr>\n",
       "      <td>wagon</td>\n",
       "      <td>40.561644</td>\n",
       "      <td>34.0</td>\n",
       "    </tr>\n",
       "  </tbody>\n",
       "</table>\n",
       "</div>"
      ],
      "text/plain": [
       "                  mean  median\n",
       "type                          \n",
       "SUV          39.771873    33.0\n",
       "bus          43.500000    44.5\n",
       "convertible  39.194836    33.0\n",
       "coupe        39.338551    33.0\n",
       "hatchback    40.533906    35.0\n",
       "mini-van     39.448574    33.0\n",
       "offroad      40.485577    32.0\n",
       "other        38.055556    32.0\n",
       "pickup       39.259559    33.0\n",
       "sedan        39.421339    33.0\n",
       "truck        39.397440    33.0\n",
       "van          40.715190    33.5\n",
       "wagon        40.561644    34.0"
      ]
     },
     "execution_count": 43,
     "metadata": {},
     "output_type": "execute_result"
    }
   ],
   "source": [
    "us_vehicles_filtered.groupby('type')['days_listed'].agg(['mean','median'])"
   ]
  },
  {
   "cell_type": "code",
   "execution_count": 44,
   "metadata": {},
   "outputs": [
    {
     "data": {
      "text/plain": [
       "33.0"
      ]
     },
     "execution_count": 44,
     "metadata": {},
     "output_type": "execute_result"
    }
   ],
   "source": [
    "us_vehicles_filtered.days_listed.median()"
   ]
  },
  {
   "cell_type": "code",
   "execution_count": 45,
   "metadata": {},
   "outputs": [],
   "source": [
    "us_vehicles_filtered['short_days']=us_vehicles_filtered['days_listed']<33"
   ]
  },
  {
   "cell_type": "code",
   "execution_count": 46,
   "metadata": {
    "scrolled": true
   },
   "outputs": [],
   "source": [
    "us_vehicles_filtered['long_days']=us_vehicles_filtered['days_listed']>33"
   ]
  },
  {
   "cell_type": "code",
   "execution_count": 47,
   "metadata": {
    "scrolled": false
   },
   "outputs": [
    {
     "data": {
      "image/png": "[encoded data removed]",
      "text/plain": [
       "<Figure size 432x288 with 1 Axes>"
      ]
     },
     "metadata": {
      "needs_background": "light"
     },
     "output_type": "display_data"
    }
   ],
   "source": [
    "(us_vehicles_filtered.pivot_table(index='type',values='short_days').hist(bins=50));"
   ]
  },
  {
   "cell_type": "markdown",
   "metadata": {},
   "source": [
    "Upon selecting values lesser than the median value of 33 days, the histogram show the number of vehicles the were listed for below the median days. These vehicles were either sold or taken off the site during the time frame."
   ]
  },
  {
   "cell_type": "code",
   "execution_count": 48,
   "metadata": {
    "scrolled": false
   },
   "outputs": [
    {
     "data": {
      "image/png": "[encoded data removed]",
      "text/plain": [
       "<Figure size 432x288 with 1 Axes>"
      ]
     },
     "metadata": {
      "needs_background": "light"
     },
     "output_type": "display_data"
    }
   ],
   "source": [
    "(us_vehicles_filtered.pivot_table(index='type',values='long_days').hist(bins=50));"
   ]
  },
  {
   "cell_type": "markdown",
   "metadata": {},
   "source": [
    "Here, the histogram provide graphica represenation of vehicles that were listed for more than the median days of 33.  "
   ]
  },
  {
   "cell_type": "code",
   "execution_count": 49,
   "metadata": {},
   "outputs": [
    {
     "data": {
      "text/plain": [
       "0.4884157171080202"
      ]
     },
     "execution_count": 49,
     "metadata": {},
     "output_type": "execute_result"
    }
   ],
   "source": [
    "us_vehicles_filtered.short_days.sum()/len(us_vehicles_filtered)"
   ]
  },
  {
   "cell_type": "code",
   "execution_count": 50,
   "metadata": {
    "scrolled": true
   },
   "outputs": [
    {
     "data": {
      "text/plain": [
       "0.49532038873700385"
      ]
     },
     "execution_count": 50,
     "metadata": {},
     "output_type": "execute_result"
    }
   ],
   "source": [
    "us_vehicles_filtered.long_days.sum()/len(us_vehicles_filtered)"
   ]
  },
  {
   "cell_type": "markdown",
   "metadata": {},
   "source": [
    "In conclusion, there were more vehicles listed for longer periods than those for shorter periods."
   ]
  },
  {
   "cell_type": "code",
   "execution_count": 51,
   "metadata": {},
   "outputs": [
    {
     "data": {
      "image/png": "[encoded data removed]",
      "text/plain": [
       "<Figure size 432x288 with 1 Axes>"
      ]
     },
     "metadata": {
      "needs_background": "light"
     },
     "output_type": "display_data"
    },
    {
     "data": {
      "image/png": "[encoded data removed]",
      "text/plain": [
       "<Figure size 432x288 with 1 Axes>"
      ]
     },
     "metadata": {
      "needs_background": "light"
     },
     "output_type": "display_data"
    },
    {
     "data": {
      "image/png": "[encoded data removed]",
      "text/plain": [
       "<Figure size 432x288 with 1 Axes>"
      ]
     },
     "metadata": {
      "needs_background": "light"
     },
     "output_type": "display_data"
    },
    {
     "data": {
      "image/png": "[encoded data removed]",
      "text/plain": [
       "<Figure size 432x288 with 1 Axes>"
      ]
     },
     "metadata": {
      "needs_background": "light"
     },
     "output_type": "display_data"
    },
    {
     "data": {
      "image/png": "[encoded data removed]",
      "text/plain": [
       "<Figure size 432x288 with 1 Axes>"
      ]
     },
     "metadata": {
      "needs_background": "light"
     },
     "output_type": "display_data"
    },
    {
     "data": {
      "image/png": "[encoded data removed]",
      "text/plain": [
       "<Figure size 432x288 with 1 Axes>"
      ]
     },
     "metadata": {
      "needs_background": "light"
     },
     "output_type": "display_data"
    },
    {
     "data": {
      "image/png": "[encoded data removed]",
      "text/plain": [
       "<Figure size 432x288 with 1 Axes>"
      ]
     },
     "metadata": {
      "needs_background": "light"
     },
     "output_type": "display_data"
    },
    {
     "data": {
      "image/png": "[encoded data removed]",
      "text/plain": [
       "<Figure size 432x288 with 1 Axes>"
      ]
     },
     "metadata": {
      "needs_background": "light"
     },
     "output_type": "display_data"
    },
    {
     "data": {
      "image/png": "[encoded data removed]",
      "text/plain": [
       "<Figure size 432x288 with 1 Axes>"
      ]
     },
     "metadata": {
      "needs_background": "light"
     },
     "output_type": "display_data"
    },
    {
     "data": {
      "image/png": "[encoded data removed]",
      "text/plain": [
       "<Figure size 432x288 with 1 Axes>"
      ]
     },
     "metadata": {
      "needs_background": "light"
     },
     "output_type": "display_data"
    },
    {
     "data": {
      "image/png": "[encoded data removed]",
      "text/plain": [
       "<Figure size 432x288 with 1 Axes>"
      ]
     },
     "metadata": {
      "needs_background": "light"
     },
     "output_type": "display_data"
    },
    {
     "data": {
      "image/png": "[encoded data removed]",
      "text/plain": [
       "<Figure size 432x288 with 1 Axes>"
      ]
     },
     "metadata": {
      "needs_background": "light"
     },
     "output_type": "display_data"
    },
    {
     "data": {
      "image/png": "[encoded data removed]",
      "text/plain": [
       "<Figure size 432x288 with 1 Axes>"
      ]
     },
     "metadata": {
      "needs_background": "light"
     },
     "output_type": "display_data"
    }
   ],
   "source": [
    "# histogram of days listed grouped by vehicle type\n",
    "for model,group_data in us_vehicles_filtered.groupby('type'):\n",
    "    group_data.plot(y='days_listed',title=model,kind='hist',bins=100)"
   ]
  },
  {
   "cell_type": "code",
   "execution_count": 52,
   "metadata": {},
   "outputs": [
    {
     "data": {
      "text/plain": [
       "mean      39.548123\n",
       "median    33.000000\n",
       "Name: days_listed, dtype: float64"
      ]
     },
     "execution_count": 52,
     "metadata": {},
     "output_type": "execute_result"
    }
   ],
   "source": [
    "# computation of the mean and median of days listed column\n",
    "us_vehicles_filtered['days_listed'].agg(['mean','median'])"
   ]
  },
  {
   "cell_type": "code",
   "execution_count": 53,
   "metadata": {},
   "outputs": [],
   "source": [
    "sort_days=us_vehicles_filtered[us_vehicles_filtered['days_listed']>33]"
   ]
  },
  {
   "cell_type": "code",
   "execution_count": 54,
   "metadata": {},
   "outputs": [
    {
     "data": {
      "text/plain": [
       "type\n",
       "SUV            0.498682\n",
       "bus            0.625000\n",
       "convertible    0.481221\n",
       "coupe          0.491950\n",
       "hatchback      0.518625\n",
       "mini-van       0.490061\n",
       "offroad        0.471154\n",
       "other          0.476190\n",
       "pickup         0.493177\n",
       "sedan          0.491644\n",
       "truck          0.494589\n",
       "van            0.500000\n",
       "wagon          0.512068\n",
       "Name: days_listed, dtype: float64"
      ]
     },
     "execution_count": 54,
     "metadata": {},
     "output_type": "execute_result"
    }
   ],
   "source": [
    "sort_days.groupby('type')['days_listed'].count()/us_vehicles_filtered.groupby('type')['days_listed'].count()\n"
   ]
  },
  {
   "cell_type": "code",
   "execution_count": 55,
   "metadata": {},
   "outputs": [],
   "source": [
    "sort_days_by_mean=us_vehicles_filtered[us_vehicles_filtered['days_listed']>39.5]"
   ]
  },
  {
   "cell_type": "code",
   "execution_count": 56,
   "metadata": {},
   "outputs": [
    {
     "data": {
      "text/plain": [
       "type\n",
       "SUV            0.406245\n",
       "bus            0.541667\n",
       "convertible    0.401408\n",
       "coupe          0.395349\n",
       "hatchback      0.429799\n",
       "mini-van       0.402766\n",
       "offroad        0.399038\n",
       "other          0.380952\n",
       "pickup         0.405608\n",
       "sedan          0.401416\n",
       "truck          0.406288\n",
       "van            0.419304\n",
       "wagon          0.428571\n",
       "Name: days_listed, dtype: float64"
      ]
     },
     "execution_count": 56,
     "metadata": {},
     "output_type": "execute_result"
    }
   ],
   "source": [
    "sort_days_by_mean.groupby('type')['days_listed'].count()/us_vehicles_filtered.groupby('type')['days_listed'].count()"
   ]
  },
  {
   "cell_type": "code",
   "execution_count": 57,
   "metadata": {},
   "outputs": [
    {
     "data": {
      "text/html": [
       "<div>\n",
       "<style scoped>\n",
       "    .dataframe tbody tr th:only-of-type {\n",
       "        vertical-align: middle;\n",
       "    }\n",
       "\n",
       "    .dataframe tbody tr th {\n",
       "        vertical-align: top;\n",
       "    }\n",
       "\n",
       "    .dataframe thead th {\n",
       "        text-align: right;\n",
       "    }\n",
       "</style>\n",
       "<table border=\"1\" class=\"dataframe\">\n",
       "  <thead>\n",
       "    <tr style=\"text-align: right;\">\n",
       "      <th>type</th>\n",
       "      <th>SUV</th>\n",
       "      <th>bus</th>\n",
       "      <th>convertible</th>\n",
       "      <th>coupe</th>\n",
       "      <th>hatchback</th>\n",
       "      <th>mini-van</th>\n",
       "      <th>offroad</th>\n",
       "      <th>other</th>\n",
       "      <th>pickup</th>\n",
       "      <th>sedan</th>\n",
       "      <th>truck</th>\n",
       "      <th>van</th>\n",
       "      <th>wagon</th>\n",
       "      <th>All</th>\n",
       "    </tr>\n",
       "    <tr>\n",
       "      <th>condition</th>\n",
       "      <th></th>\n",
       "      <th></th>\n",
       "      <th></th>\n",
       "      <th></th>\n",
       "      <th></th>\n",
       "      <th></th>\n",
       "      <th></th>\n",
       "      <th></th>\n",
       "      <th></th>\n",
       "      <th></th>\n",
       "      <th></th>\n",
       "      <th></th>\n",
       "      <th></th>\n",
       "      <th></th>\n",
       "    </tr>\n",
       "  </thead>\n",
       "  <tbody>\n",
       "    <tr>\n",
       "      <td>0</td>\n",
       "      <td>8.0</td>\n",
       "      <td>NaN</td>\n",
       "      <td>1.0</td>\n",
       "      <td>4.0</td>\n",
       "      <td>3.0</td>\n",
       "      <td>NaN</td>\n",
       "      <td>NaN</td>\n",
       "      <td>NaN</td>\n",
       "      <td>10.0</td>\n",
       "      <td>26.0</td>\n",
       "      <td>4.0</td>\n",
       "      <td>NaN</td>\n",
       "      <td>NaN</td>\n",
       "      <td>56</td>\n",
       "    </tr>\n",
       "    <tr>\n",
       "      <td>1</td>\n",
       "      <td>174.0</td>\n",
       "      <td>NaN</td>\n",
       "      <td>8.0</td>\n",
       "      <td>32.0</td>\n",
       "      <td>15.0</td>\n",
       "      <td>22.0</td>\n",
       "      <td>5.0</td>\n",
       "      <td>1.0</td>\n",
       "      <td>162.0</td>\n",
       "      <td>147.0</td>\n",
       "      <td>195.0</td>\n",
       "      <td>8.0</td>\n",
       "      <td>17.0</td>\n",
       "      <td>786</td>\n",
       "    </tr>\n",
       "    <tr>\n",
       "      <td>2</td>\n",
       "      <td>2168.0</td>\n",
       "      <td>11.0</td>\n",
       "      <td>68.0</td>\n",
       "      <td>553.0</td>\n",
       "      <td>178.0</td>\n",
       "      <td>180.0</td>\n",
       "      <td>41.0</td>\n",
       "      <td>51.0</td>\n",
       "      <td>1421.0</td>\n",
       "      <td>2115.0</td>\n",
       "      <td>2573.0</td>\n",
       "      <td>154.0</td>\n",
       "      <td>359.0</td>\n",
       "      <td>9872</td>\n",
       "    </tr>\n",
       "    <tr>\n",
       "      <td>3</td>\n",
       "      <td>3161.0</td>\n",
       "      <td>4.0</td>\n",
       "      <td>112.0</td>\n",
       "      <td>415.0</td>\n",
       "      <td>284.0</td>\n",
       "      <td>320.0</td>\n",
       "      <td>33.0</td>\n",
       "      <td>66.0</td>\n",
       "      <td>1466.0</td>\n",
       "      <td>3018.0</td>\n",
       "      <td>2540.0</td>\n",
       "      <td>136.0</td>\n",
       "      <td>376.0</td>\n",
       "      <td>11931</td>\n",
       "    </tr>\n",
       "    <tr>\n",
       "      <td>4</td>\n",
       "      <td>535.0</td>\n",
       "      <td>NaN</td>\n",
       "      <td>15.0</td>\n",
       "      <td>93.0</td>\n",
       "      <td>62.0</td>\n",
       "      <td>43.0</td>\n",
       "      <td>19.0</td>\n",
       "      <td>2.0</td>\n",
       "      <td>228.0</td>\n",
       "      <td>638.0</td>\n",
       "      <td>438.0</td>\n",
       "      <td>18.0</td>\n",
       "      <td>33.0</td>\n",
       "      <td>2124</td>\n",
       "    </tr>\n",
       "    <tr>\n",
       "      <td>5</td>\n",
       "      <td>7.0</td>\n",
       "      <td>NaN</td>\n",
       "      <td>1.0</td>\n",
       "      <td>3.0</td>\n",
       "      <td>1.0</td>\n",
       "      <td>2.0</td>\n",
       "      <td>NaN</td>\n",
       "      <td>NaN</td>\n",
       "      <td>2.0</td>\n",
       "      <td>28.0</td>\n",
       "      <td>8.0</td>\n",
       "      <td>NaN</td>\n",
       "      <td>NaN</td>\n",
       "      <td>52</td>\n",
       "    </tr>\n",
       "    <tr>\n",
       "      <td>All</td>\n",
       "      <td>6053.0</td>\n",
       "      <td>15.0</td>\n",
       "      <td>205.0</td>\n",
       "      <td>1100.0</td>\n",
       "      <td>543.0</td>\n",
       "      <td>567.0</td>\n",
       "      <td>98.0</td>\n",
       "      <td>120.0</td>\n",
       "      <td>3289.0</td>\n",
       "      <td>5972.0</td>\n",
       "      <td>5758.0</td>\n",
       "      <td>316.0</td>\n",
       "      <td>785.0</td>\n",
       "      <td>24821</td>\n",
       "    </tr>\n",
       "  </tbody>\n",
       "</table>\n",
       "</div>"
      ],
      "text/plain": [
       "type          SUV   bus  convertible   coupe  hatchback  mini-van  offroad  \\\n",
       "condition                                                                    \n",
       "0             8.0   NaN          1.0     4.0        3.0       NaN      NaN   \n",
       "1           174.0   NaN          8.0    32.0       15.0      22.0      5.0   \n",
       "2          2168.0  11.0         68.0   553.0      178.0     180.0     41.0   \n",
       "3          3161.0   4.0        112.0   415.0      284.0     320.0     33.0   \n",
       "4           535.0   NaN         15.0    93.0       62.0      43.0     19.0   \n",
       "5             7.0   NaN          1.0     3.0        1.0       2.0      NaN   \n",
       "All        6053.0  15.0        205.0  1100.0      543.0     567.0     98.0   \n",
       "\n",
       "type       other  pickup   sedan   truck    van  wagon    All  \n",
       "condition                                                      \n",
       "0            NaN    10.0    26.0     4.0    NaN    NaN     56  \n",
       "1            1.0   162.0   147.0   195.0    8.0   17.0    786  \n",
       "2           51.0  1421.0  2115.0  2573.0  154.0  359.0   9872  \n",
       "3           66.0  1466.0  3018.0  2540.0  136.0  376.0  11931  \n",
       "4            2.0   228.0   638.0   438.0   18.0   33.0   2124  \n",
       "5            NaN     2.0    28.0     8.0    NaN    NaN     52  \n",
       "All        120.0  3289.0  5972.0  5758.0  316.0  785.0  24821  "
      ]
     },
     "execution_count": 57,
     "metadata": {},
     "output_type": "execute_result"
    }
   ],
   "source": [
    "sort_days_pivoted=sort_days.pivot_table(index='condition',values='days_listed',columns='type',\n",
    "                                        aggfunc='count',margins=True)\n",
    "sort_days_pivoted"
   ]
  },
  {
   "cell_type": "markdown",
   "metadata": {},
   "source": [
    "### Conclusion\n",
    "The typical life cycle of listings spans between 0 and 271 days with about ~49% listed for less than 33 days and ~50% listed for more than 33 days which is the median days of listing.\n",
    "On average, ~50% of all vehicle types were listed for more than the median listing time compared to when the mean is used. \n",
    "This difference in values are due to the variations/spread of the data accross the number of days of listing which is also likely to impact the true number of days listing on the site. \n",
    "Vehicle in excellent condition (largely made up of SUV, sedan and trucks) turn to take longer days_listing compared to new and fair condition ones. \n",
    "Except for bus, the other vehicle types histogram show right skewed distribution with SUV, Wagon, Sedan, Pickup and coupe having dense results around the median. "
   ]
  },
  {
   "cell_type": "markdown",
   "metadata": {},
   "source": [
    "<div class=\"alert alert-danger\" role=\"alert\">\n",
    "Reviewer's comment v. 1:\n",
    "    \n",
    "Could you please describe the typical lifetime of an ad (you chose too broad range) and determine when ads were removed quickly, and when they were listed for an abnormally long time? Please explain your choice.\n",
    "</div>"
   ]
  },
  {
   "cell_type": "markdown",
   "metadata": {},
   "source": [
    "<div class=\"alert alert-warning\" role=\"alert\">\n",
    "Reviewer's comment v. 2:\n",
    "    \n",
    "Yes, the typical lifetime of an ad is clearly described. But it will be better to formulate which values can be considered as removed quickly and listed for an abnormally long time more explicitly.\n",
    "</div>"
   ]
  },
  {
   "cell_type": "code",
   "execution_count": 58,
   "metadata": {},
   "outputs": [
    {
     "data": {
      "text/html": [
       "<div>\n",
       "<style scoped>\n",
       "    .dataframe tbody tr th:only-of-type {\n",
       "        vertical-align: middle;\n",
       "    }\n",
       "\n",
       "    .dataframe tbody tr th {\n",
       "        vertical-align: top;\n",
       "    }\n",
       "\n",
       "    .dataframe thead th {\n",
       "        text-align: right;\n",
       "    }\n",
       "</style>\n",
       "<table border=\"1\" class=\"dataframe\">\n",
       "  <thead>\n",
       "    <tr style=\"text-align: right;\">\n",
       "      <th></th>\n",
       "      <th>days_listed</th>\n",
       "      <th>price</th>\n",
       "    </tr>\n",
       "    <tr>\n",
       "      <th>type</th>\n",
       "      <th></th>\n",
       "      <th></th>\n",
       "    </tr>\n",
       "  </thead>\n",
       "  <tbody>\n",
       "    <tr>\n",
       "      <td>bus</td>\n",
       "      <td>43.500000</td>\n",
       "      <td>17135.666667</td>\n",
       "    </tr>\n",
       "    <tr>\n",
       "      <td>van</td>\n",
       "      <td>40.715190</td>\n",
       "      <td>10440.212025</td>\n",
       "    </tr>\n",
       "    <tr>\n",
       "      <td>wagon</td>\n",
       "      <td>40.561644</td>\n",
       "      <td>8914.377038</td>\n",
       "    </tr>\n",
       "    <tr>\n",
       "      <td>hatchback</td>\n",
       "      <td>40.533906</td>\n",
       "      <td>6868.513849</td>\n",
       "    </tr>\n",
       "    <tr>\n",
       "      <td>offroad</td>\n",
       "      <td>40.485577</td>\n",
       "      <td>13387.264423</td>\n",
       "    </tr>\n",
       "    <tr>\n",
       "      <td>SUV</td>\n",
       "      <td>39.771873</td>\n",
       "      <td>10428.704399</td>\n",
       "    </tr>\n",
       "    <tr>\n",
       "      <td>mini-van</td>\n",
       "      <td>39.448574</td>\n",
       "      <td>8004.687986</td>\n",
       "    </tr>\n",
       "    <tr>\n",
       "      <td>sedan</td>\n",
       "      <td>39.421339</td>\n",
       "      <td>6942.349551</td>\n",
       "    </tr>\n",
       "    <tr>\n",
       "      <td>truck</td>\n",
       "      <td>39.397440</td>\n",
       "      <td>14979.944082</td>\n",
       "    </tr>\n",
       "    <tr>\n",
       "      <td>coupe</td>\n",
       "      <td>39.338551</td>\n",
       "      <td>13366.048301</td>\n",
       "    </tr>\n",
       "    <tr>\n",
       "      <td>pickup</td>\n",
       "      <td>39.259559</td>\n",
       "      <td>14752.998201</td>\n",
       "    </tr>\n",
       "    <tr>\n",
       "      <td>convertible</td>\n",
       "      <td>39.194836</td>\n",
       "      <td>12669.751174</td>\n",
       "    </tr>\n",
       "    <tr>\n",
       "      <td>other</td>\n",
       "      <td>38.055556</td>\n",
       "      <td>10507.194444</td>\n",
       "    </tr>\n",
       "  </tbody>\n",
       "</table>\n",
       "</div>"
      ],
      "text/plain": [
       "             days_listed         price\n",
       "type                                  \n",
       "bus            43.500000  17135.666667\n",
       "van            40.715190  10440.212025\n",
       "wagon          40.561644   8914.377038\n",
       "hatchback      40.533906   6868.513849\n",
       "offroad        40.485577  13387.264423\n",
       "SUV            39.771873  10428.704399\n",
       "mini-van       39.448574   8004.687986\n",
       "sedan          39.421339   6942.349551\n",
       "truck          39.397440  14979.944082\n",
       "coupe          39.338551  13366.048301\n",
       "pickup         39.259559  14752.998201\n",
       "convertible    39.194836  12669.751174\n",
       "other          38.055556  10507.194444"
      ]
     },
     "execution_count": 58,
     "metadata": {},
     "output_type": "execute_result"
    }
   ],
   "source": [
    "# calculating the mean and the median of both price and days listed \n",
    "price_days = us_vehicles_filtered.groupby('type')[['days_listed','price']].mean()\n",
    "price_days.sort_values('days_listed',ascending=False)"
   ]
  },
  {
   "cell_type": "code",
   "execution_count": 59,
   "metadata": {},
   "outputs": [
    {
     "data": {
      "image/png": "[encoded data removed]",
      "text/plain": [
       "<Figure size 432x288 with 1 Axes>"
      ]
     },
     "metadata": {
      "needs_background": "light"
     },
     "output_type": "display_data"
    }
   ],
   "source": [
    "# Analysing and graphing of days listed by vehicle type\n",
    "vehicles_by_ad= us_vehicles_filtered.pivot_table(index='type',\n",
    "                                                 values='days_listed',aggfunc='count')\n",
    "vehicles_by_ad.sort_values('days_listed',\n",
    "                           ascending=False).plot(kind='bar',\n",
    "                                                 grid=True,\n",
    "                                                 title='Number of days of listing by vehicle type')\n",
    "plt.ylabel('Count')\n",
    "plt.xlabel('Vehicle type');"
   ]
  },
  {
   "cell_type": "markdown",
   "metadata": {},
   "source": [
    "Sedan and SUV are at the peak of the histogram followed by truck with a shape dip to pickup and then coupe before seeing gradual decline for the rest of the vehilce. This result shows that, the two most listed vehicles on the site are sedan and SUV."
   ]
  },
  {
   "cell_type": "code",
   "execution_count": 60,
   "metadata": {},
   "outputs": [
    {
     "data": {
      "text/plain": [
       "type\n",
       "SUV      12138\n",
       "sedan    12147\n",
       "Name: days_listed, dtype: int64"
      ]
     },
     "execution_count": 60,
     "metadata": {},
     "output_type": "execute_result"
    }
   ],
   "source": [
    "# extracting the two bars with the most listings\n",
    "vehicle_type = us_vehicles_filtered.query('type in (\"sedan\",\"SUV\")')\n",
    "vehicle_type.groupby('type')['days_listed'].count()"
   ]
  },
  {
   "cell_type": "markdown",
   "metadata": {},
   "source": [
    "### Conclusion\n",
    "On avearge, buses have the highest listing time followed by Vans' despite having the list number of listings. The high mean value showed a proportionate high value in price but this phenomenon is not refelctive in the other vehicle types.\n",
    "Sedan which has the most listings with its mean days of listing around the column mean is the second least with respect to prices."
   ]
  },
  {
   "cell_type": "markdown",
   "metadata": {},
   "source": [
    "<div class=\"alert alert-success\" role=\"alert\">\n",
    "Reviewer's comment v. 1:\n",
    "    \n",
    "Yes, you are right :)\n",
    "</div>"
   ]
  },
  {
   "cell_type": "code",
   "execution_count": 61,
   "metadata": {
    "scrolled": true
   },
   "outputs": [
    {
     "data": {
      "text/plain": [
       "automatic    45583\n",
       "manual        2765\n",
       "other         1763\n",
       "Name: transmission, dtype: int64"
      ]
     },
     "execution_count": 61,
     "metadata": {},
     "output_type": "execute_result"
    }
   ],
   "source": [
    "us_vehicles_filtered['transmission'].value_counts()"
   ]
  },
  {
   "cell_type": "code",
   "execution_count": 62,
   "metadata": {
    "scrolled": true
   },
   "outputs": [
    {
     "data": {
      "image/png": "[encoded data removed]",
      "text/plain": [
       "<Figure size 432x288 with 1 Axes>"
      ]
     },
     "metadata": {
      "needs_background": "light"
     },
     "output_type": "display_data"
    },
    {
     "data": {
      "image/png": "[encoded data removed]",
      "text/plain": [
       "<Figure size 432x288 with 1 Axes>"
      ]
     },
     "metadata": {
      "needs_background": "light"
     },
     "output_type": "display_data"
    },
    {
     "data": {
      "image/png": "[encoded data removed]",
      "text/plain": [
       "<Figure size 432x288 with 1 Axes>"
      ]
     },
     "metadata": {
      "needs_background": "light"
     },
     "output_type": "display_data"
    }
   ],
   "source": [
    "# graphing of prices based on the transmission type of the vehicles\n",
    "for model,group_data in us_vehicles_filtered.groupby('transmission'):\n",
    "    group_data.plot(y='price',title=model,kind='box')"
   ]
  },
  {
   "cell_type": "code",
   "execution_count": 63,
   "metadata": {
    "scrolled": true
   },
   "outputs": [
    {
     "data": {
      "image/png": "[encoded data removed]",
      "text/plain": [
       "<Figure size 432x288 with 1 Axes>"
      ]
     },
     "metadata": {
      "needs_background": "light"
     },
     "output_type": "display_data"
    },
    {
     "data": {
      "image/png": "[encoded data removed]",
      "text/plain": [
       "<Figure size 432x288 with 1 Axes>"
      ]
     },
     "metadata": {
      "needs_background": "light"
     },
     "output_type": "display_data"
    },
    {
     "data": {
      "image/png": "[encoded data removed]",
      "text/plain": [
       "<Figure size 432x288 with 1 Axes>"
      ]
     },
     "metadata": {
      "needs_background": "light"
     },
     "output_type": "display_data"
    },
    {
     "data": {
      "image/png": "[encoded data removed]",
      "text/plain": [
       "<Figure size 432x288 with 1 Axes>"
      ]
     },
     "metadata": {
      "needs_background": "light"
     },
     "output_type": "display_data"
    },
    {
     "data": {
      "image/png": "[encoded data removed]",
      "text/plain": [
       "<Figure size 432x288 with 1 Axes>"
      ]
     },
     "metadata": {
      "needs_background": "light"
     },
     "output_type": "display_data"
    },
    {
     "data": {
      "image/png": "[encoded data removed]",
      "text/plain": [
       "<Figure size 432x288 with 1 Axes>"
      ]
     },
     "metadata": {
      "needs_background": "light"
     },
     "output_type": "display_data"
    },
    {
     "data": {
      "image/png": "[encoded data removed]",
      "text/plain": [
       "<Figure size 432x288 with 1 Axes>"
      ]
     },
     "metadata": {
      "needs_background": "light"
     },
     "output_type": "display_data"
    },
    {
     "data": {
      "image/png": "[encoded data removed]",
      "text/plain": [
       "<Figure size 432x288 with 1 Axes>"
      ]
     },
     "metadata": {
      "needs_background": "light"
     },
     "output_type": "display_data"
    },
    {
     "data": {
      "image/png": "[encoded data removed]",
      "text/plain": [
       "<Figure size 432x288 with 1 Axes>"
      ]
     },
     "metadata": {
      "needs_background": "light"
     },
     "output_type": "display_data"
    },
    {
     "data": {
      "image/png": "[encoded data removed]",
      "text/plain": [
       "<Figure size 432x288 with 1 Axes>"
      ]
     },
     "metadata": {
      "needs_background": "light"
     },
     "output_type": "display_data"
    },
    {
     "data": {
      "image/png": "[encoded data removed]",
      "text/plain": [
       "<Figure size 432x288 with 1 Axes>"
      ]
     },
     "metadata": {
      "needs_background": "light"
     },
     "output_type": "display_data"
    },
    {
     "data": {
      "image/png": "[encoded data removed]",
      "text/plain": [
       "<Figure size 432x288 with 1 Axes>"
      ]
     },
     "metadata": {
      "needs_background": "light"
     },
     "output_type": "display_data"
    }
   ],
   "source": [
    "# graphing of prices based on the paint_color of the vehicles\n",
    "for model,group_data in us_vehicles_filtered.groupby('paint_color'):\n",
    "    group_data.plot(y='price',title=model,kind='box')"
   ]
  },
  {
   "cell_type": "code",
   "execution_count": 64,
   "metadata": {
    "scrolled": false
   },
   "outputs": [
    {
     "data": {
      "image/png": "[encoded data removed]",
      "text/plain": [
       "<Figure size 360x360 with 1 Axes>"
      ]
     },
     "metadata": {
      "needs_background": "light"
     },
     "output_type": "display_data"
    }
   ],
   "source": [
    "# summary graph of prices based on the transmission type of the vehicles\n",
    "sns.catplot(x='transmission',y='price',kind='box',data= us_vehicles_filtered);"
   ]
  },
  {
   "cell_type": "markdown",
   "metadata": {},
   "source": [
    "The graph show a summary analysis of vehicles by transmission type and price. Though automatic vehicles make up a significant portion of transmission types, manual transmission vehicles have more outliers and with a lower median value than the automatic ones. "
   ]
  },
  {
   "cell_type": "code",
   "execution_count": 65,
   "metadata": {},
   "outputs": [
    {
     "data": {
      "image/png": "[encoded data removed]",
      "text/plain": [
       "<Figure size 360x360 with 1 Axes>"
      ]
     },
     "metadata": {
      "needs_background": "light"
     },
     "output_type": "display_data"
    }
   ],
   "source": [
    "# summary graph of prices based on the paint_color of the vehicles\n",
    "sns.catplot(x='paint_color',y='price',kind='box',data= us_vehicles_filtered)\n",
    "plt.xticks(rotation=45);"
   ]
  },
  {
   "cell_type": "markdown",
   "metadata": {},
   "source": [
    "The boxplot shows summary analysis of vehicles by price and paint_color. White, black, yellow and orange vehicle color types do not have any outliers with blue having the most outliers. The median price ranges considering the vehicle type also vary accross all colors except for grey, silver and custom which seem to have approsimately similar median values. Purple on the other hand, had the least price ranges between its 25% and 75%."
   ]
  },
  {
   "cell_type": "markdown",
   "metadata": {},
   "source": [
    "<div class=\"alert alert-success\" role=\"alert\">\n",
    "Reviewer's comment v. 2:\n",
    "    \n",
    "Good job that you plotted boxplots and clearly analysed them.\n",
    "</div>"
   ]
  },
  {
   "cell_type": "code",
   "execution_count": 66,
   "metadata": {},
   "outputs": [],
   "source": [
    "us_vehicles_filtered_stat = us_vehicles_filtered[['price','condition',\n",
    "                                               'cylinders','days_listed','model_year',\n",
    "                                               'age']]"
   ]
  },
  {
   "cell_type": "code",
   "execution_count": 67,
   "metadata": {},
   "outputs": [
    {
     "data": {
      "image/png": "[encoded data removed]",
      "text/plain": [
       "<Figure size 432x288 with 1 Axes>"
      ]
     },
     "metadata": {
      "needs_background": "light"
     },
     "output_type": "display_data"
    }
   ],
   "source": [
    "# a scatter plot to asceratin determine the relationshionship between price and age\n",
    "us_vehicles_filtered.plot(x='age',y='price',kind='scatter',style='*',alpha=0.3);"
   ]
  },
  {
   "cell_type": "markdown",
   "metadata": {},
   "source": [
    "The scatter plot graph's the price of vehicle and the age. The results shows most vehicles listed are clustered between 0 and 20 years before being dispersed or in smaller volumns accross the other ages. With some being over 100 years old."
   ]
  },
  {
   "cell_type": "code",
   "execution_count": 68,
   "metadata": {},
   "outputs": [
    {
     "data": {
      "image/png": "[encoded data removed]",
      "text/plain": [
       "<Figure size 432x288 with 1 Axes>"
      ]
     },
     "metadata": {
      "needs_background": "light"
     },
     "output_type": "display_data"
    }
   ],
   "source": [
    "# a scatter plot to asceratin determine the relationshionship between price and mileage\n",
    "us_vehicles_filtered.plot(x='mileage',y='price',kind='scatter',style='*',alpha=0.3);"
   ]
  },
  {
   "cell_type": "markdown",
   "metadata": {},
   "source": [
    "The scatter plot shows dense population of values accross all price ranges and between 0 and 200,0000 mileages before dispersing over the remaining distance travelled. "
   ]
  },
  {
   "cell_type": "code",
   "execution_count": 69,
   "metadata": {
    "scrolled": false
   },
   "outputs": [
    {
     "data": {
      "image/png": "[encoded data removed]",
      "text/plain": [
       "<Figure size 432x288 with 1 Axes>"
      ]
     },
     "metadata": {
      "needs_background": "light"
     },
     "output_type": "display_data"
    }
   ],
   "source": [
    "# a scatter plot to asceratin determine the relationshionship between price and condition\n",
    "us_vehicles_filtered.plot(x='condition',y='price',kind='scatter',style='*',alpha=0.3);"
   ]
  },
  {
   "cell_type": "markdown",
   "metadata": {},
   "source": [
    "The scatter plot shows dense population for both good and excellent condition vehicles with new and salvage ones being the least."
   ]
  },
  {
   "cell_type": "code",
   "execution_count": 70,
   "metadata": {},
   "outputs": [
    {
     "data": {
      "text/html": [
       "<div>\n",
       "<style scoped>\n",
       "    .dataframe tbody tr th:only-of-type {\n",
       "        vertical-align: middle;\n",
       "    }\n",
       "\n",
       "    .dataframe tbody tr th {\n",
       "        vertical-align: top;\n",
       "    }\n",
       "\n",
       "    .dataframe thead th {\n",
       "        text-align: right;\n",
       "    }\n",
       "</style>\n",
       "<table border=\"1\" class=\"dataframe\">\n",
       "  <thead>\n",
       "    <tr style=\"text-align: right;\">\n",
       "      <th></th>\n",
       "      <th>price</th>\n",
       "      <th>condition</th>\n",
       "      <th>cylinders</th>\n",
       "      <th>days_listed</th>\n",
       "      <th>model_year</th>\n",
       "      <th>age</th>\n",
       "      <th>mileage</th>\n",
       "    </tr>\n",
       "  </thead>\n",
       "  <tbody>\n",
       "    <tr>\n",
       "      <td>price</td>\n",
       "      <td>1.000000</td>\n",
       "      <td>0.203014</td>\n",
       "      <td>0.294058</td>\n",
       "      <td>-0.001704</td>\n",
       "      <td>0.462916</td>\n",
       "      <td>-0.461455</td>\n",
       "      <td>-0.421964</td>\n",
       "    </tr>\n",
       "    <tr>\n",
       "      <td>condition</td>\n",
       "      <td>0.203014</td>\n",
       "      <td>1.000000</td>\n",
       "      <td>-0.087262</td>\n",
       "      <td>-0.001572</td>\n",
       "      <td>0.275590</td>\n",
       "      <td>-0.274657</td>\n",
       "      <td>-0.282185</td>\n",
       "    </tr>\n",
       "    <tr>\n",
       "      <td>cylinders</td>\n",
       "      <td>0.294058</td>\n",
       "      <td>-0.087262</td>\n",
       "      <td>1.000000</td>\n",
       "      <td>0.004507</td>\n",
       "      <td>-0.179311</td>\n",
       "      <td>0.178938</td>\n",
       "      <td>0.121300</td>\n",
       "    </tr>\n",
       "    <tr>\n",
       "      <td>days_listed</td>\n",
       "      <td>-0.001704</td>\n",
       "      <td>-0.001572</td>\n",
       "      <td>0.004507</td>\n",
       "      <td>1.000000</td>\n",
       "      <td>-0.005192</td>\n",
       "      <td>0.005873</td>\n",
       "      <td>0.004668</td>\n",
       "    </tr>\n",
       "    <tr>\n",
       "      <td>model_year</td>\n",
       "      <td>0.462916</td>\n",
       "      <td>0.275590</td>\n",
       "      <td>-0.179311</td>\n",
       "      <td>-0.005192</td>\n",
       "      <td>1.000000</td>\n",
       "      <td>-0.997208</td>\n",
       "      <td>-0.466781</td>\n",
       "    </tr>\n",
       "    <tr>\n",
       "      <td>age</td>\n",
       "      <td>-0.461455</td>\n",
       "      <td>-0.274657</td>\n",
       "      <td>0.178938</td>\n",
       "      <td>0.005873</td>\n",
       "      <td>-0.997208</td>\n",
       "      <td>1.000000</td>\n",
       "      <td>0.465162</td>\n",
       "    </tr>\n",
       "    <tr>\n",
       "      <td>mileage</td>\n",
       "      <td>-0.421964</td>\n",
       "      <td>-0.282185</td>\n",
       "      <td>0.121300</td>\n",
       "      <td>0.004668</td>\n",
       "      <td>-0.466781</td>\n",
       "      <td>0.465162</td>\n",
       "      <td>1.000000</td>\n",
       "    </tr>\n",
       "  </tbody>\n",
       "</table>\n",
       "</div>"
      ],
      "text/plain": [
       "                price  condition  cylinders  days_listed  model_year  \\\n",
       "price        1.000000   0.203014   0.294058    -0.001704    0.462916   \n",
       "condition    0.203014   1.000000  -0.087262    -0.001572    0.275590   \n",
       "cylinders    0.294058  -0.087262   1.000000     0.004507   -0.179311   \n",
       "days_listed -0.001704  -0.001572   0.004507     1.000000   -0.005192   \n",
       "model_year   0.462916   0.275590  -0.179311    -0.005192    1.000000   \n",
       "age         -0.461455  -0.274657   0.178938     0.005873   -0.997208   \n",
       "mileage     -0.421964  -0.282185   0.121300     0.004668   -0.466781   \n",
       "\n",
       "                  age   mileage  \n",
       "price       -0.461455 -0.421964  \n",
       "condition   -0.274657 -0.282185  \n",
       "cylinders    0.178938  0.121300  \n",
       "days_listed  0.005873  0.004668  \n",
       "model_year  -0.997208 -0.466781  \n",
       "age          1.000000  0.465162  \n",
       "mileage      0.465162  1.000000  "
      ]
     },
     "execution_count": 70,
     "metadata": {},
     "output_type": "execute_result"
    }
   ],
   "source": [
    "# calculating the correlation between price and condition,cylinders, days_listed, model year and age.\n",
    "us_vehicles_filtered_stat = us_vehicles_filtered[['price','condition','cylinders','days_listed',\n",
    "                                                  'model_year','age','mileage']]\n",
    "us_vehicles_filtered_stat.corr()"
   ]
  },
  {
   "cell_type": "markdown",
   "metadata": {},
   "source": [
    "<div class=\"alert alert-danger\" role=\"alert\">\n",
    "Reviewer's comment v. 1:\n",
    "    \n",
    "Please add description to the graphs. Graph analysis is important part of the project.\n",
    "</div>"
   ]
  },
  {
   "cell_type": "markdown",
   "metadata": {},
   "source": [
    "<div class=\"alert alert-success\" role=\"alert\">\n",
    "Reviewer's comment v. 2:\n",
    "    \n",
    "You have made an excellent  analysis of the graphs :)\n",
    "</div>"
   ]
  },
  {
   "cell_type": "markdown",
   "metadata": {},
   "source": [
    "### Conclusion\n",
    "From the transmission analysis, there were more outliers with the manuel vehicles than there were with automatic ones with manuel vehicles having the list range of prices. \n",
    "Results from the paint_color of the vehicle does not provide any clear values on vehicle color type and the price. \n",
    "From the age/price scatter plot, its evident that, most of the vehicles sold are between 0 to 25 years. Similar of age/price, most of the vehicle for mileage/price are between 0 to 38000 mileages.\n",
    "The most of vehicles sold base on conditions are those of good, excellent and like new conditions. \n",
    "Lastly, the correlation results show moderately positive linear relationship between price and model year and a moderately negative relationship between price and age and mileage.  "
   ]
  },
  {
   "cell_type": "markdown",
   "metadata": {},
   "source": [
    "<div class=\"alert alert-success\" role=\"alert\">\n",
    "Reviewer's comment v. 1:\n",
    "    \n",
    "Well done that you described main findings.\n",
    "</div>"
   ]
  },
  {
   "cell_type": "markdown",
   "metadata": {},
   "source": [
    "<div class=\"alert alert-success\" role=\"alert\">\n",
    "Reviewer's comment v. 1:\n",
    "    \n",
    "Well done for using a correlation function. But please note that correlation function shows only linear dependecy between variables. Maybe this link will be interesting for you: https://machinelearningmastery.com/how-to-use-correlation-to-understand-the-relationship-between-variables/.\n",
    "</div>"
   ]
  },
  {
   "cell_type": "markdown",
   "metadata": {},
   "source": [
    "## Overall conclusion"
   ]
  },
  {
   "cell_type": "markdown",
   "metadata": {},
   "source": [
    "**Data Processing**\n",
    "During the data preparation stage, the date column was converted from string value to datetime fomart and null values for is_4wd, cylinder and odometer/mileage filled with 0 and median values respectively. Those of model_year and paint_color were left as they is no clear relationship in the remaining dataset to help fill them in. \n",
    "\n",
    "**Exploratory Analysis**\n",
    "The price of vehicles were right skewed with significant outliers. These were addressed by limiting the data to prices of 35,000 and the remaining store in the different variable. The filtered data accross other parameters like condition, mileage e.t.c when compared with the raw data showed no negative varainces.\n",
    "\n",
    "**Main findings**\n",
    "* The typical life cylce of vehicle listings last for 271 days with a mean and median number of  days of ~40 and 33 days respectively. About 49% of the listings are below the median days with 50% above it largely made up of vehicles in good and excellent conditions. \n",
    "* There were more sedan, SUV and trucks sold on the site compared to other vehicles. Despite bus being the least number of type sold, it had the highest number of listing on avearge on the site. \n",
    "*  There exist some mederate relationship between **price and three other variables (model year, age, and mileage) with model_year being positievly correlated at 0.47 and age and mileage being negatively correlated at -0.46 and -0.42 respectively.**\n"
   ]
  },
  {
   "cell_type": "markdown",
   "metadata": {},
   "source": [
    "<div class=\"alert alert-success\" role=\"alert\">\n",
    "Reviewer's comment v. 2:\n",
    "    \n",
    "Great, now all main results of the project were described in a logical way. Good job!\n",
    "</div>"
   ]
  },
  {
   "cell_type": "markdown",
   "metadata": {},
   "source": [
    "# Project completion checklist\n",
    "\n",
    "Mark the completed tasks with 'x'. Then press Shift+Enter."
   ]
  },
  {
   "cell_type": "markdown",
   "metadata": {},
   "source": [
    "- [x]  file opened\n",
    "- [x]  files explored (first rows printed, info() method)\n",
    "- [x]  missing values determined\n",
    "- [x]  missing values filled in\n",
    "- [x]  clarification of the discovered missing values provided\n",
    "- [x]  data types converted\n",
    "- [x]  explanation of which columns had the data types changed and why\n",
    "- [x]  calculated and added to the table: day of the week, month, and year the ad was placed\n",
    "- [x]  calculated and added to the table: the vehicle's age (in years) when the ad was placed\n",
    "- [x]  calculated and added to the table: the vehicle's average mileage per year\n",
    "- [x]  the following parameters investigated: price, vehicle's age when the ad was placed, mileage, number of cylinders, and condition\n",
    "- [x]  histograms for each parameter created\n",
    "- [x]  task completed: \"Determine the upper limits of outliers, remove the outliers and store them in a separate DataFrame, and continue your work with the filtered data.\"\n",
    "- [x]  task completed: \"Use the filtered data to plot new histograms. Compare them with the earlier histograms (the ones that included outliers). Draw conclusions for each histogram.\"\n",
    "- [x]  task completed: \"Study how many days advertisements were displayed (days_listed). Plot a histogram. Calculate the mean and median. Describe the typical lifetime of an ad. Determine when ads were removed quickly, and when they were listed for an abnormally long time.  \"\n",
    "- [x]  task completed: \"Analyze the number of ads and the average price for each type of vehicle. Plot a graph showing the dependence of the number of ads on the vehicle type. Select the two types with the greatest number of ads. \"\n",
    "- [x]  task completed: \"What factors impact the price most? Take each of the popular types you detected at the previous stage and study whether the price depends on age, mileage, condition, transmission type, and color. For categorical variables (transmission type and color), plot box-and-whisker charts, and create scatterplots for the rest. When analyzing categorical variables, note that the categories must have at least 50 ads; otherwise, their parameters won't be valid for analysis.  \"\n",
    "- [x]  each stage has a conclusion\n",
    "- [x]  overall conclusion drawn"
   ]
  },
  {
   "cell_type": "code",
   "execution_count": null,
   "metadata": {},
   "outputs": [],
   "source": []
  }
 ],
 "metadata": {
  "ExecuteTimeLog": [
   {
    "duration": 656,
    "start_time": "2021-07-13T09:34:35.837Z"
   },
   {
    "duration": 3968,
    "start_time": "2021-07-13T09:38:32.152Z"
   },
   {
    "duration": 4118,
    "start_time": "2021-07-13T09:39:38.494Z"
   },
   {
    "duration": 75,
    "start_time": "2021-07-13T09:46:51.554Z"
   },
   {
    "duration": 16,
    "start_time": "2021-07-13T09:47:44.517Z"
   },
   {
    "duration": 19,
    "start_time": "2021-07-13T09:48:06.892Z"
   },
   {
    "duration": 25,
    "start_time": "2021-07-13T09:55:56.279Z"
   },
   {
    "duration": 17,
    "start_time": "2021-07-13T09:56:04.059Z"
   },
   {
    "duration": 6,
    "start_time": "2021-07-13T09:57:34.967Z"
   },
   {
    "duration": 4,
    "start_time": "2021-07-13T09:57:59.194Z"
   },
   {
    "duration": 10,
    "start_time": "2021-07-13T10:01:36.718Z"
   },
   {
    "duration": 3,
    "start_time": "2021-07-13T10:04:46.975Z"
   },
   {
    "duration": 9,
    "start_time": "2021-07-13T10:05:47.553Z"
   },
   {
    "duration": 9,
    "start_time": "2021-07-13T10:06:25.358Z"
   },
   {
    "duration": 9,
    "start_time": "2021-07-13T10:08:25.437Z"
   },
   {
    "duration": 10,
    "start_time": "2021-07-13T10:11:21.477Z"
   },
   {
    "duration": 4,
    "start_time": "2021-07-13T10:13:24.139Z"
   },
   {
    "duration": 10,
    "start_time": "2021-07-13T10:13:58.409Z"
   },
   {
    "duration": 49,
    "start_time": "2021-07-13T10:14:20.595Z"
   },
   {
    "duration": 43,
    "start_time": "2021-07-13T10:15:13.785Z"
   },
   {
    "duration": 671,
    "start_time": "2021-07-13T13:27:35.764Z"
   },
   {
    "duration": 40,
    "start_time": "2021-07-13T13:27:47.413Z"
   },
   {
    "duration": 308,
    "start_time": "2021-07-13T13:28:37.835Z"
   },
   {
    "duration": 297,
    "start_time": "2021-07-13T13:28:52.541Z"
   },
   {
    "duration": 290,
    "start_time": "2021-07-13T13:28:58.516Z"
   },
   {
    "duration": 334,
    "start_time": "2021-07-13T13:29:11.635Z"
   },
   {
    "duration": 304,
    "start_time": "2021-07-13T13:29:29.857Z"
   },
   {
    "duration": 282,
    "start_time": "2021-07-13T13:29:40.448Z"
   },
   {
    "duration": 270,
    "start_time": "2021-07-13T13:29:53.948Z"
   },
   {
    "duration": 264,
    "start_time": "2021-07-13T13:30:35.096Z"
   },
   {
    "duration": 6,
    "start_time": "2021-07-13T13:31:25.255Z"
   },
   {
    "duration": 9,
    "start_time": "2021-07-13T13:31:35.829Z"
   },
   {
    "duration": 8,
    "start_time": "2021-07-13T13:31:41.502Z"
   },
   {
    "duration": 8,
    "start_time": "2021-07-13T13:31:46.318Z"
   },
   {
    "duration": 51,
    "start_time": "2021-07-13T13:31:56.979Z"
   },
   {
    "duration": 272,
    "start_time": "2021-07-13T13:32:09.758Z"
   },
   {
    "duration": 257,
    "start_time": "2021-07-13T13:32:14.749Z"
   },
   {
    "duration": 311,
    "start_time": "2021-07-13T13:35:05.681Z"
   },
   {
    "duration": 5,
    "start_time": "2021-07-13T13:35:54.641Z"
   },
   {
    "duration": 19,
    "start_time": "2021-07-13T13:37:41.100Z"
   },
   {
    "duration": 6,
    "start_time": "2021-07-13T13:43:56.970Z"
   },
   {
    "duration": 4,
    "start_time": "2021-07-13T13:44:14.809Z"
   },
   {
    "duration": 313,
    "start_time": "2021-07-13T13:44:34.535Z"
   },
   {
    "duration": 5,
    "start_time": "2021-07-13T13:45:43.971Z"
   },
   {
    "duration": 282,
    "start_time": "2021-07-13T13:45:44.954Z"
   },
   {
    "duration": 3,
    "start_time": "2021-07-13T13:45:55.053Z"
   },
   {
    "duration": 345,
    "start_time": "2021-07-13T13:45:55.953Z"
   },
   {
    "duration": 16,
    "start_time": "2021-07-13T13:46:08.900Z"
   },
   {
    "duration": 3,
    "start_time": "2021-07-13T13:46:18.733Z"
   },
   {
    "duration": 289,
    "start_time": "2021-07-13T13:46:19.663Z"
   },
   {
    "duration": 7,
    "start_time": "2021-07-13T13:47:09.727Z"
   },
   {
    "duration": 132,
    "start_time": "2021-07-13T13:47:25.079Z"
   },
   {
    "duration": 136,
    "start_time": "2021-07-13T13:47:45.518Z"
   },
   {
    "duration": 7,
    "start_time": "2021-07-13T13:48:24.524Z"
   },
   {
    "duration": 10,
    "start_time": "2021-07-13T13:48:37.089Z"
   },
   {
    "duration": 26,
    "start_time": "2021-07-13T13:48:48.983Z"
   },
   {
    "duration": 307,
    "start_time": "2021-07-13T13:58:38.183Z"
   },
   {
    "duration": 429,
    "start_time": "2021-07-13T13:58:52.297Z"
   },
   {
    "duration": 504,
    "start_time": "2021-07-13T13:59:06.722Z"
   },
   {
    "duration": 428,
    "start_time": "2021-07-13T13:59:24.768Z"
   },
   {
    "duration": 750,
    "start_time": "2021-07-13T13:59:42.317Z"
   },
   {
    "duration": 6544,
    "start_time": "2021-07-13T14:00:10.998Z"
   },
   {
    "duration": 529,
    "start_time": "2021-07-13T14:00:19.710Z"
   },
   {
    "duration": 290,
    "start_time": "2021-07-13T14:03:33.344Z"
   },
   {
    "duration": 7,
    "start_time": "2021-07-13T14:03:56.010Z"
   },
   {
    "duration": 287,
    "start_time": "2021-07-13T14:04:15.521Z"
   },
   {
    "duration": 4555,
    "start_time": "2021-07-13T14:08:02.201Z"
   },
   {
    "duration": 14,
    "start_time": "2021-07-13T14:18:46.755Z"
   },
   {
    "duration": 182,
    "start_time": "2021-07-13T14:20:23.161Z"
   },
   {
    "duration": 182,
    "start_time": "2021-07-13T14:20:45.499Z"
   },
   {
    "duration": 10,
    "start_time": "2021-07-13T14:22:06.911Z"
   },
   {
    "duration": 194,
    "start_time": "2021-07-13T14:23:42.759Z"
   },
   {
    "duration": 86,
    "start_time": "2021-07-13T14:24:14.711Z"
   },
   {
    "duration": 458,
    "start_time": "2021-07-13T14:24:21.261Z"
   },
   {
    "duration": 190,
    "start_time": "2021-07-13T14:24:43.727Z"
   },
   {
    "duration": 197,
    "start_time": "2021-07-13T14:27:07.445Z"
   },
   {
    "duration": 226,
    "start_time": "2021-07-13T14:27:33.388Z"
   },
   {
    "duration": 220,
    "start_time": "2021-07-13T14:27:55.876Z"
   },
   {
    "duration": 16,
    "start_time": "2021-07-13T14:30:07.796Z"
   },
   {
    "duration": 13,
    "start_time": "2021-07-13T14:31:58.464Z"
   },
   {
    "duration": 191,
    "start_time": "2021-07-13T14:35:53.653Z"
   },
   {
    "duration": 244,
    "start_time": "2021-07-13T14:36:04.288Z"
   },
   {
    "duration": 1026,
    "start_time": "2021-07-13T14:39:55.398Z"
   },
   {
    "duration": 1972,
    "start_time": "2021-07-13T14:41:32.789Z"
   },
   {
    "duration": 5,
    "start_time": "2021-07-13T14:43:10.487Z"
   },
   {
    "duration": 4,
    "start_time": "2021-07-13T14:44:29.789Z"
   },
   {
    "duration": 7885,
    "start_time": "2021-07-13T14:44:39.856Z"
   },
   {
    "duration": 7258,
    "start_time": "2021-07-13T14:44:49.587Z"
   },
   {
    "duration": 5,
    "start_time": "2021-07-13T14:45:19.077Z"
   },
   {
    "duration": 20710,
    "start_time": "2021-07-13T14:45:20.081Z"
   },
   {
    "duration": 21130,
    "start_time": "2021-07-13T14:46:01.357Z"
   },
   {
    "duration": 276,
    "start_time": "2021-07-13T14:47:20.420Z"
   },
   {
    "duration": 16,
    "start_time": "2021-07-13T14:48:24.794Z"
   },
   {
    "duration": 226,
    "start_time": "2021-07-13T14:50:03.877Z"
   },
   {
    "duration": 262,
    "start_time": "2021-07-13T14:58:21.566Z"
   },
   {
    "duration": 276,
    "start_time": "2021-07-13T14:58:32.953Z"
   },
   {
    "duration": 700,
    "start_time": "2021-07-13T14:59:15.307Z"
   },
   {
    "duration": 511,
    "start_time": "2021-07-13T14:59:40.315Z"
   },
   {
    "duration": 300,
    "start_time": "2021-07-13T15:00:21.004Z"
   },
   {
    "duration": 1415,
    "start_time": "2021-07-13T15:00:29.196Z"
   },
   {
    "duration": 18266,
    "start_time": "2021-07-13T15:01:52.516Z"
   },
   {
    "duration": 15883,
    "start_time": "2021-07-13T15:02:12.183Z"
   },
   {
    "duration": 655,
    "start_time": "2021-07-13T15:03:51.708Z"
   },
   {
    "duration": 662,
    "start_time": "2021-07-13T15:04:05.880Z"
   },
   {
    "duration": 641,
    "start_time": "2021-07-13T15:04:40.381Z"
   },
   {
    "duration": 709,
    "start_time": "2021-07-13T15:05:03.949Z"
   },
   {
    "duration": 262,
    "start_time": "2021-07-13T15:07:13.605Z"
   },
   {
    "duration": 9,
    "start_time": "2021-07-13T15:08:32.774Z"
   },
   {
    "duration": 6921,
    "start_time": "2021-07-13T15:08:50.765Z"
   },
   {
    "duration": 9,
    "start_time": "2021-07-13T15:09:26.137Z"
   },
   {
    "duration": 264,
    "start_time": "2021-07-13T15:09:51.783Z"
   },
   {
    "duration": 731,
    "start_time": "2021-07-13T15:10:33.342Z"
   },
   {
    "duration": 392,
    "start_time": "2021-07-13T15:14:35.367Z"
   },
   {
    "duration": 286,
    "start_time": "2021-07-13T15:19:26.780Z"
   },
   {
    "duration": 457,
    "start_time": "2021-07-13T15:19:56.734Z"
   },
   {
    "duration": 826,
    "start_time": "2021-07-13T15:20:41.583Z"
   },
   {
    "duration": 699,
    "start_time": "2021-07-13T15:24:28.784Z"
   },
   {
    "duration": 902,
    "start_time": "2021-07-13T15:25:07.365Z"
   },
   {
    "duration": 1122,
    "start_time": "2021-07-13T15:25:28.105Z"
   },
   {
    "duration": 920,
    "start_time": "2021-07-13T15:25:44.620Z"
   },
   {
    "duration": 812,
    "start_time": "2021-07-13T15:29:17.153Z"
   },
   {
    "duration": 374,
    "start_time": "2021-07-13T15:34:15.104Z"
   },
   {
    "duration": 628,
    "start_time": "2021-07-13T15:34:44.870Z"
   },
   {
    "duration": 1456,
    "start_time": "2021-07-13T15:35:30.689Z"
   },
   {
    "duration": 257,
    "start_time": "2021-07-13T15:39:14.068Z"
   },
   {
    "duration": 196,
    "start_time": "2021-07-13T15:41:47.062Z"
   },
   {
    "duration": 359,
    "start_time": "2021-07-13T15:44:02.868Z"
   },
   {
    "duration": 373,
    "start_time": "2021-07-13T15:44:29.619Z"
   },
   {
    "duration": 375,
    "start_time": "2021-07-13T15:46:34.794Z"
   },
   {
    "duration": 380,
    "start_time": "2021-07-13T15:46:49.983Z"
   },
   {
    "duration": 375,
    "start_time": "2021-07-13T15:48:46.798Z"
   },
   {
    "duration": 378,
    "start_time": "2021-07-13T15:50:04.179Z"
   },
   {
    "duration": 753,
    "start_time": "2021-07-13T15:51:48.657Z"
   },
   {
    "duration": 645,
    "start_time": "2021-07-13T15:52:10.514Z"
   },
   {
    "duration": 1138,
    "start_time": "2021-07-13T16:18:33.321Z"
   },
   {
    "duration": 80,
    "start_time": "2021-07-13T16:18:35.562Z"
   },
   {
    "duration": 15,
    "start_time": "2021-07-13T16:18:37.284Z"
   },
   {
    "duration": 19,
    "start_time": "2021-07-13T16:18:40.621Z"
   },
   {
    "duration": 17,
    "start_time": "2021-07-13T16:18:46.365Z"
   },
   {
    "duration": 5,
    "start_time": "2021-07-13T16:18:51.451Z"
   },
   {
    "duration": 4,
    "start_time": "2021-07-13T16:18:54.660Z"
   },
   {
    "duration": 11,
    "start_time": "2021-07-13T16:18:58.711Z"
   },
   {
    "duration": 3,
    "start_time": "2021-07-13T16:19:04.658Z"
   },
   {
    "duration": 9,
    "start_time": "2021-07-13T16:19:08.957Z"
   },
   {
    "duration": 8,
    "start_time": "2021-07-13T16:19:10.300Z"
   },
   {
    "duration": 8,
    "start_time": "2021-07-13T16:19:14.921Z"
   },
   {
    "duration": 9,
    "start_time": "2021-07-13T16:19:17.841Z"
   },
   {
    "duration": 5,
    "start_time": "2021-07-13T16:19:19.502Z"
   },
   {
    "duration": 10,
    "start_time": "2021-07-13T16:19:20.917Z"
   },
   {
    "duration": 46,
    "start_time": "2021-07-13T16:19:23.089Z"
   },
   {
    "duration": 43,
    "start_time": "2021-07-13T16:19:27.477Z"
   },
   {
    "duration": 39,
    "start_time": "2021-07-13T16:19:35.169Z"
   },
   {
    "duration": 256,
    "start_time": "2021-07-13T16:19:50.283Z"
   },
   {
    "duration": 289,
    "start_time": "2021-07-13T16:20:05.890Z"
   },
   {
    "duration": 299,
    "start_time": "2021-07-13T16:20:09.410Z"
   },
   {
    "duration": 357,
    "start_time": "2021-07-13T16:20:13.316Z"
   },
   {
    "duration": 289,
    "start_time": "2021-07-13T16:20:17.653Z"
   },
   {
    "duration": 4,
    "start_time": "2021-07-13T16:20:40.361Z"
   },
   {
    "duration": 318,
    "start_time": "2021-07-13T16:20:42.483Z"
   },
   {
    "duration": 573,
    "start_time": "2021-07-13T16:23:23.580Z"
   },
   {
    "duration": 299,
    "start_time": "2021-07-13T16:23:53.883Z"
   },
   {
    "duration": 300,
    "start_time": "2021-07-13T16:24:53.264Z"
   },
   {
    "duration": 305,
    "start_time": "2021-07-13T16:25:14.685Z"
   },
   {
    "duration": 387,
    "start_time": "2021-07-13T16:26:22.862Z"
   },
   {
    "duration": 316,
    "start_time": "2021-07-13T16:26:56.291Z"
   },
   {
    "duration": 324,
    "start_time": "2021-07-13T16:28:20.502Z"
   },
   {
    "duration": 7,
    "start_time": "2021-07-13T16:28:28.259Z"
   },
   {
    "duration": 139,
    "start_time": "2021-07-13T16:28:31.164Z"
   },
   {
    "duration": 122,
    "start_time": "2021-07-13T16:28:34.171Z"
   },
   {
    "duration": 8,
    "start_time": "2021-07-13T16:28:37.902Z"
   },
   {
    "duration": 12,
    "start_time": "2021-07-13T16:28:39.305Z"
   },
   {
    "duration": 26,
    "start_time": "2021-07-13T16:28:41.279Z"
   },
   {
    "duration": 360,
    "start_time": "2021-07-13T16:28:53.300Z"
   },
   {
    "duration": 430,
    "start_time": "2021-07-13T16:31:41.139Z"
   },
   {
    "duration": 572,
    "start_time": "2021-07-13T16:32:07.517Z"
   },
   {
    "duration": 439,
    "start_time": "2021-07-13T16:32:25.874Z"
   },
   {
    "duration": 459,
    "start_time": "2021-07-13T16:33:05.759Z"
   },
   {
    "duration": 559,
    "start_time": "2021-07-13T16:33:27.409Z"
   },
   {
    "duration": 455,
    "start_time": "2021-07-13T16:33:46.669Z"
   },
   {
    "duration": 504,
    "start_time": "2021-07-13T16:35:06.541Z"
   },
   {
    "duration": 4749,
    "start_time": "2021-07-13T16:35:16.740Z"
   },
   {
    "duration": 7,
    "start_time": "2021-07-13T16:35:24.054Z"
   },
   {
    "duration": 300,
    "start_time": "2021-07-13T16:35:28.093Z"
   },
   {
    "duration": 14,
    "start_time": "2021-07-13T16:35:34.646Z"
   },
   {
    "duration": 185,
    "start_time": "2021-07-13T16:35:37.649Z"
   },
   {
    "duration": 209,
    "start_time": "2021-07-13T16:35:51.553Z"
   },
   {
    "duration": 16,
    "start_time": "2021-07-13T16:35:55.513Z"
   },
   {
    "duration": 400,
    "start_time": "2021-07-13T16:36:37.219Z"
   },
   {
    "duration": 418,
    "start_time": "2021-07-13T16:37:06.964Z"
   },
   {
    "duration": 387,
    "start_time": "2021-07-13T16:37:14.824Z"
   },
   {
    "duration": 613,
    "start_time": "2021-07-13T16:37:24.917Z"
   },
   {
    "duration": 1491,
    "start_time": "2021-07-13T16:37:34.242Z"
   },
   {
    "duration": 802,
    "start_time": "2021-07-13T16:37:38.041Z"
   },
   {
    "duration": 655,
    "start_time": "2021-07-13T16:37:43.522Z"
   },
   {
    "duration": 5,
    "start_time": "2021-07-13T16:37:57.441Z"
   },
   {
    "duration": 679,
    "start_time": "2021-07-13T16:37:59.054Z"
   },
   {
    "duration": 658,
    "start_time": "2021-07-13T16:38:03.065Z"
   },
   {
    "duration": 675,
    "start_time": "2021-07-13T16:38:09.232Z"
   },
   {
    "duration": 9,
    "start_time": "2021-07-13T16:38:22.147Z"
   },
   {
    "duration": 9,
    "start_time": "2021-07-13T16:38:23.323Z"
   },
   {
    "duration": 22291,
    "start_time": "2021-07-13T16:38:32.408Z"
   },
   {
    "duration": 17,
    "start_time": "2021-07-13T16:39:03.344Z"
   },
   {
    "duration": 5,
    "start_time": "2021-07-13T18:44:05.352Z"
   },
   {
    "duration": 1062,
    "start_time": "2021-07-13T18:44:23.047Z"
   },
   {
    "duration": 79,
    "start_time": "2021-07-13T18:44:28.084Z"
   },
   {
    "duration": 15,
    "start_time": "2021-07-13T18:44:29.893Z"
   },
   {
    "duration": 19,
    "start_time": "2021-07-13T18:44:32.985Z"
   },
   {
    "duration": 18,
    "start_time": "2021-07-13T18:44:37.043Z"
   },
   {
    "duration": 6,
    "start_time": "2021-07-13T18:44:40.516Z"
   },
   {
    "duration": 4,
    "start_time": "2021-07-13T18:44:42.515Z"
   },
   {
    "duration": 2994,
    "start_time": "2021-07-13T18:44:46.585Z"
   },
   {
    "duration": 1785,
    "start_time": "2021-07-13T18:47:13.236Z"
   },
   {
    "duration": 2122,
    "start_time": "2021-07-13T18:47:26.343Z"
   },
   {
    "duration": 2090,
    "start_time": "2021-07-13T18:48:13.513Z"
   },
   {
    "duration": 11,
    "start_time": "2021-07-13T18:48:21.862Z"
   },
   {
    "duration": 4,
    "start_time": "2021-07-13T18:48:33.424Z"
   },
   {
    "duration": 9,
    "start_time": "2021-07-13T18:48:36.861Z"
   },
   {
    "duration": 8,
    "start_time": "2021-07-13T18:48:38.752Z"
   },
   {
    "duration": 9,
    "start_time": "2021-07-13T18:48:41.170Z"
   },
   {
    "duration": 10,
    "start_time": "2021-07-13T18:48:42.041Z"
   },
   {
    "duration": 4,
    "start_time": "2021-07-13T18:48:44.857Z"
   },
   {
    "duration": 9,
    "start_time": "2021-07-13T18:48:46.417Z"
   },
   {
    "duration": 47,
    "start_time": "2021-07-13T18:48:47.722Z"
   },
   {
    "duration": 45,
    "start_time": "2021-07-13T18:48:54.685Z"
   },
   {
    "duration": 37,
    "start_time": "2021-07-13T18:49:01.050Z"
   },
   {
    "duration": 242,
    "start_time": "2021-07-13T18:49:09.788Z"
   },
   {
    "duration": 292,
    "start_time": "2021-07-13T18:49:12.489Z"
   },
   {
    "duration": 298,
    "start_time": "2021-07-13T18:49:14.906Z"
   },
   {
    "duration": 357,
    "start_time": "2021-07-13T18:49:17.885Z"
   },
   {
    "duration": 292,
    "start_time": "2021-07-13T18:49:21.989Z"
   },
   {
    "duration": 254,
    "start_time": "2021-07-13T18:49:35.703Z"
   },
   {
    "duration": 33,
    "start_time": "2021-07-13T18:53:12.254Z"
   },
   {
    "duration": 241,
    "start_time": "2021-07-13T18:53:15.675Z"
   },
   {
    "duration": 292,
    "start_time": "2021-07-13T18:53:19.291Z"
   },
   {
    "duration": 296,
    "start_time": "2021-07-13T18:53:21.835Z"
   },
   {
    "duration": 299,
    "start_time": "2021-07-13T18:53:24.883Z"
   },
   {
    "duration": 374,
    "start_time": "2021-07-13T18:53:31.132Z"
   },
   {
    "duration": 7,
    "start_time": "2021-07-13T18:53:34.965Z"
   },
   {
    "duration": 134,
    "start_time": "2021-07-13T18:53:36.781Z"
   },
   {
    "duration": 123,
    "start_time": "2021-07-13T18:53:41.201Z"
   },
   {
    "duration": 8,
    "start_time": "2021-07-13T18:53:46.046Z"
   },
   {
    "duration": 12,
    "start_time": "2021-07-13T18:53:46.916Z"
   },
   {
    "duration": 28,
    "start_time": "2021-07-13T18:53:48.896Z"
   },
   {
    "duration": 331,
    "start_time": "2021-07-13T18:53:59.736Z"
   },
   {
    "duration": 447,
    "start_time": "2021-07-13T18:54:05.136Z"
   },
   {
    "duration": 452,
    "start_time": "2021-07-13T18:54:08.444Z"
   },
   {
    "duration": 561,
    "start_time": "2021-07-13T18:54:18.804Z"
   },
   {
    "duration": 459,
    "start_time": "2021-07-13T18:54:24.196Z"
   },
   {
    "duration": 332,
    "start_time": "2021-07-13T18:54:35.628Z"
   },
   {
    "duration": 4553,
    "start_time": "2021-07-13T18:54:41.170Z"
   },
   {
    "duration": 8,
    "start_time": "2021-07-13T18:54:50.010Z"
   },
   {
    "duration": 14,
    "start_time": "2021-07-13T18:55:22.587Z"
   },
   {
    "duration": 180,
    "start_time": "2021-07-13T18:55:29.244Z"
   },
   {
    "duration": 215,
    "start_time": "2021-07-13T18:55:46.071Z"
   },
   {
    "duration": 15,
    "start_time": "2021-07-13T18:55:56.502Z"
   },
   {
    "duration": 393,
    "start_time": "2021-07-13T18:56:00.103Z"
   },
   {
    "duration": 634,
    "start_time": "2021-07-13T18:56:11.964Z"
   },
   {
    "duration": 1734,
    "start_time": "2021-07-13T18:56:15.392Z"
   },
   {
    "duration": 470,
    "start_time": "2021-07-13T18:56:19.333Z"
   },
   {
    "duration": 785,
    "start_time": "2021-07-13T18:56:23.681Z"
   },
   {
    "duration": 5,
    "start_time": "2021-07-13T18:56:32.781Z"
   },
   {
    "duration": 734,
    "start_time": "2021-07-13T18:56:34.861Z"
   },
   {
    "duration": 649,
    "start_time": "2021-07-13T18:56:39.027Z"
   },
   {
    "duration": 657,
    "start_time": "2021-07-13T18:56:49.906Z"
   },
   {
    "duration": 9,
    "start_time": "2021-07-13T18:57:03.700Z"
   },
   {
    "duration": 9,
    "start_time": "2021-07-13T18:57:05.719Z"
   },
   {
    "duration": 15,
    "start_time": "2021-07-13T18:57:09.028Z"
   },
   {
    "duration": 186,
    "start_time": "2021-07-13T19:33:15.952Z"
   },
   {
    "duration": 205,
    "start_time": "2021-07-13T19:35:43.967Z"
   },
   {
    "duration": 85,
    "start_time": "2021-07-13T19:44:49.950Z"
   },
   {
    "duration": 203,
    "start_time": "2021-07-13T19:46:08.343Z"
   },
   {
    "duration": 291,
    "start_time": "2021-07-13T20:16:15.450Z"
   },
   {
    "duration": 20,
    "start_time": "2021-07-13T20:16:28.760Z"
   },
   {
    "duration": 8,
    "start_time": "2021-07-13T20:22:53.365Z"
   },
   {
    "duration": 989,
    "start_time": "2021-07-13T20:44:34.991Z"
   },
   {
    "duration": 78,
    "start_time": "2021-07-13T20:44:38.230Z"
   },
   {
    "duration": 17,
    "start_time": "2021-07-13T20:44:39.823Z"
   },
   {
    "duration": 19,
    "start_time": "2021-07-13T20:44:42.551Z"
   },
   {
    "duration": 18,
    "start_time": "2021-07-13T20:44:49.864Z"
   },
   {
    "duration": 5,
    "start_time": "2021-07-13T20:44:53.978Z"
   },
   {
    "duration": 5,
    "start_time": "2021-07-13T20:45:38.958Z"
   },
   {
    "duration": 10,
    "start_time": "2021-07-13T20:45:40.754Z"
   },
   {
    "duration": 4,
    "start_time": "2021-07-13T20:45:44.273Z"
   },
   {
    "duration": 9,
    "start_time": "2021-07-13T20:45:45.456Z"
   },
   {
    "duration": 9,
    "start_time": "2021-07-13T20:45:46.323Z"
   },
   {
    "duration": 8,
    "start_time": "2021-07-13T20:45:47.126Z"
   },
   {
    "duration": 9,
    "start_time": "2021-07-13T20:45:48.229Z"
   },
   {
    "duration": 5,
    "start_time": "2021-07-13T20:45:50.319Z"
   },
   {
    "duration": 9,
    "start_time": "2021-07-13T20:45:52.567Z"
   },
   {
    "duration": 49,
    "start_time": "2021-07-13T20:45:55.993Z"
   },
   {
    "duration": 46,
    "start_time": "2021-07-13T20:45:59.823Z"
   },
   {
    "duration": 40,
    "start_time": "2021-07-13T20:46:04.761Z"
   },
   {
    "duration": 242,
    "start_time": "2021-07-13T20:46:09.634Z"
   },
   {
    "duration": 302,
    "start_time": "2021-07-13T20:46:12.646Z"
   },
   {
    "duration": 296,
    "start_time": "2021-07-13T20:46:16.772Z"
   },
   {
    "duration": 374,
    "start_time": "2021-07-13T20:46:19.741Z"
   },
   {
    "duration": 288,
    "start_time": "2021-07-13T20:46:23.267Z"
   },
   {
    "duration": 7,
    "start_time": "2021-07-13T20:46:28.458Z"
   },
   {
    "duration": 143,
    "start_time": "2021-07-13T20:46:30.040Z"
   },
   {
    "duration": 130,
    "start_time": "2021-07-13T20:46:32.641Z"
   },
   {
    "duration": 6,
    "start_time": "2021-07-13T20:46:35.754Z"
   },
   {
    "duration": 12,
    "start_time": "2021-07-13T20:46:36.893Z"
   },
   {
    "duration": 25,
    "start_time": "2021-07-13T20:46:38.530Z"
   },
   {
    "duration": 316,
    "start_time": "2021-07-13T20:46:43.160Z"
   },
   {
    "duration": 445,
    "start_time": "2021-07-13T20:46:46.915Z"
   },
   {
    "duration": 537,
    "start_time": "2021-07-13T20:46:49.875Z"
   },
   {
    "duration": 517,
    "start_time": "2021-07-13T20:46:53.697Z"
   },
   {
    "duration": 434,
    "start_time": "2021-07-13T20:46:56.885Z"
   },
   {
    "duration": 304,
    "start_time": "2021-07-13T20:47:01.738Z"
   },
   {
    "duration": 4504,
    "start_time": "2021-07-13T20:47:05.166Z"
   },
   {
    "duration": 7,
    "start_time": "2021-07-13T20:47:12.553Z"
   },
   {
    "duration": 224,
    "start_time": "2021-07-13T20:47:15.110Z"
   },
   {
    "duration": 15,
    "start_time": "2021-07-13T20:47:20.018Z"
   },
   {
    "duration": 208,
    "start_time": "2021-07-13T20:47:24.536Z"
   },
   {
    "duration": 14,
    "start_time": "2021-07-13T20:47:28.340Z"
   },
   {
    "duration": 9,
    "start_time": "2021-07-13T20:48:06.364Z"
   },
   {
    "duration": 485,
    "start_time": "2021-07-13T20:48:09.148Z"
   },
   {
    "duration": 1740,
    "start_time": "2021-07-13T20:48:13.690Z"
   },
   {
    "duration": 624,
    "start_time": "2021-07-13T20:48:18.004Z"
   },
   {
    "duration": 639,
    "start_time": "2021-07-13T20:48:21.715Z"
   },
   {
    "duration": 5,
    "start_time": "2021-07-13T20:48:25.991Z"
   },
   {
    "duration": 650,
    "start_time": "2021-07-13T20:48:27.419Z"
   },
   {
    "duration": 677,
    "start_time": "2021-07-13T20:48:31.338Z"
   },
   {
    "duration": 668,
    "start_time": "2021-07-13T20:48:35.816Z"
   },
   {
    "duration": 18,
    "start_time": "2021-07-13T20:48:40.178Z"
   },
   {
    "duration": 1139,
    "start_time": "2021-07-14T17:06:45.356Z"
   },
   {
    "duration": 76,
    "start_time": "2021-07-14T17:06:46.497Z"
   },
   {
    "duration": 16,
    "start_time": "2021-07-14T17:06:46.575Z"
   },
   {
    "duration": 23,
    "start_time": "2021-07-14T17:06:46.593Z"
   },
   {
    "duration": 17,
    "start_time": "2021-07-14T17:06:46.617Z"
   },
   {
    "duration": 6,
    "start_time": "2021-07-14T17:06:46.635Z"
   },
   {
    "duration": 5,
    "start_time": "2021-07-14T17:06:46.643Z"
   },
   {
    "duration": 10,
    "start_time": "2021-07-14T17:06:46.651Z"
   },
   {
    "duration": 24,
    "start_time": "2021-07-14T17:06:46.663Z"
   },
   {
    "duration": 13,
    "start_time": "2021-07-14T17:06:46.688Z"
   },
   {
    "duration": 7,
    "start_time": "2021-07-14T17:06:46.703Z"
   },
   {
    "duration": 7,
    "start_time": "2021-07-14T17:06:46.712Z"
   },
   {
    "duration": 3,
    "start_time": "2021-07-14T17:06:46.721Z"
   },
   {
    "duration": 4,
    "start_time": "2021-07-14T17:06:46.725Z"
   },
   {
    "duration": 8,
    "start_time": "2021-07-14T17:06:46.730Z"
   },
   {
    "duration": 72,
    "start_time": "2021-07-14T17:06:46.740Z"
   },
   {
    "duration": 41,
    "start_time": "2021-07-14T17:06:46.814Z"
   },
   {
    "duration": 47,
    "start_time": "2021-07-14T17:06:46.857Z"
   },
   {
    "duration": 1604,
    "start_time": "2021-07-14T17:06:46.905Z"
   },
   {
    "duration": 504,
    "start_time": "2021-07-14T17:06:48.511Z"
   },
   {
    "duration": 507,
    "start_time": "2021-07-14T17:06:49.017Z"
   },
   {
    "duration": 360,
    "start_time": "2021-07-14T17:06:49.526Z"
   },
   {
    "duration": 360,
    "start_time": "2021-07-14T17:06:49.889Z"
   },
   {
    "duration": 7,
    "start_time": "2021-07-14T17:06:50.251Z"
   },
   {
    "duration": 196,
    "start_time": "2021-07-14T17:06:50.259Z"
   },
   {
    "duration": 183,
    "start_time": "2021-07-14T17:06:50.456Z"
   },
   {
    "duration": 6,
    "start_time": "2021-07-14T17:06:50.640Z"
   },
   {
    "duration": 11,
    "start_time": "2021-07-14T17:06:50.648Z"
   },
   {
    "duration": 37,
    "start_time": "2021-07-14T17:06:50.661Z"
   },
   {
    "duration": 379,
    "start_time": "2021-07-14T17:06:50.699Z"
   },
   {
    "duration": 605,
    "start_time": "2021-07-14T17:06:51.080Z"
   },
   {
    "duration": 584,
    "start_time": "2021-07-14T17:06:51.686Z"
   },
   {
    "duration": 634,
    "start_time": "2021-07-14T17:06:52.271Z"
   },
   {
    "duration": 723,
    "start_time": "2021-07-14T17:06:52.907Z"
   },
   {
    "duration": 473,
    "start_time": "2021-07-14T17:06:53.632Z"
   },
   {
    "duration": 4928,
    "start_time": "2021-07-14T17:06:54.106Z"
   },
   {
    "duration": 9,
    "start_time": "2021-07-14T17:06:59.036Z"
   },
   {
    "duration": 243,
    "start_time": "2021-07-14T17:06:59.046Z"
   },
   {
    "duration": 16,
    "start_time": "2021-07-14T17:06:59.291Z"
   },
   {
    "duration": 255,
    "start_time": "2021-07-14T17:06:59.309Z"
   },
   {
    "duration": 23,
    "start_time": "2021-07-14T17:06:59.566Z"
   },
   {
    "duration": 7,
    "start_time": "2021-07-14T17:06:59.591Z"
   },
   {
    "duration": 670,
    "start_time": "2021-07-14T17:06:59.600Z"
   },
   {
    "duration": 2038,
    "start_time": "2021-07-14T17:07:00.272Z"
   },
   {
    "duration": 732,
    "start_time": "2021-07-14T17:07:02.311Z"
   },
   {
    "duration": 945,
    "start_time": "2021-07-14T17:07:03.045Z"
   },
   {
    "duration": 4,
    "start_time": "2021-07-14T17:07:03.992Z"
   },
   {
    "duration": 814,
    "start_time": "2021-07-14T17:07:03.998Z"
   },
   {
    "duration": 692,
    "start_time": "2021-07-14T17:07:04.814Z"
   },
   {
    "duration": 714,
    "start_time": "2021-07-14T17:07:05.508Z"
   },
   {
    "duration": 21,
    "start_time": "2021-07-14T17:07:06.223Z"
   },
   {
    "duration": 9115,
    "start_time": "2021-07-14T20:21:59.754Z"
   },
   {
    "duration": 75,
    "start_time": "2021-07-14T20:22:08.871Z"
   },
   {
    "duration": 15,
    "start_time": "2021-07-14T20:22:08.948Z"
   },
   {
    "duration": 20,
    "start_time": "2021-07-14T20:22:08.964Z"
   },
   {
    "duration": 17,
    "start_time": "2021-07-14T20:22:08.986Z"
   },
   {
    "duration": 4,
    "start_time": "2021-07-14T20:22:09.005Z"
   },
   {
    "duration": 5,
    "start_time": "2021-07-14T20:22:09.010Z"
   },
   {
    "duration": 10,
    "start_time": "2021-07-14T20:22:09.017Z"
   },
   {
    "duration": 3,
    "start_time": "2021-07-14T20:22:09.030Z"
   },
   {
    "duration": 19,
    "start_time": "2021-07-14T20:22:09.035Z"
   },
   {
    "duration": 9,
    "start_time": "2021-07-14T20:22:09.056Z"
   },
   {
    "duration": 9,
    "start_time": "2021-07-14T20:22:09.066Z"
   },
   {
    "duration": 11,
    "start_time": "2021-07-14T20:22:09.076Z"
   },
   {
    "duration": 3,
    "start_time": "2021-07-14T20:22:09.089Z"
   },
   {
    "duration": 14,
    "start_time": "2021-07-14T20:22:09.093Z"
   },
   {
    "duration": 49,
    "start_time": "2021-07-14T20:22:09.108Z"
   },
   {
    "duration": 41,
    "start_time": "2021-07-14T20:22:09.158Z"
   },
   {
    "duration": 38,
    "start_time": "2021-07-14T20:22:09.200Z"
   },
   {
    "duration": 476,
    "start_time": "2021-07-14T20:22:09.240Z"
   },
   {
    "duration": 916,
    "start_time": "2021-07-14T20:22:09.718Z"
   },
   {
    "duration": 787,
    "start_time": "2021-07-14T20:22:10.636Z"
   },
   {
    "duration": 1005,
    "start_time": "2021-07-14T20:22:11.425Z"
   },
   {
    "duration": 629,
    "start_time": "2021-07-14T20:22:12.491Z"
   },
   {
    "duration": 8,
    "start_time": "2021-07-14T20:22:13.122Z"
   },
   {
    "duration": 371,
    "start_time": "2021-07-14T20:22:13.132Z"
   },
   {
    "duration": 306,
    "start_time": "2021-07-14T20:22:13.505Z"
   },
   {
    "duration": 7,
    "start_time": "2021-07-14T20:22:13.814Z"
   },
   {
    "duration": 68,
    "start_time": "2021-07-14T20:22:13.823Z"
   },
   {
    "duration": 36,
    "start_time": "2021-07-14T20:22:13.893Z"
   },
   {
    "duration": 680,
    "start_time": "2021-07-14T20:22:13.931Z"
   },
   {
    "duration": 901,
    "start_time": "2021-07-14T20:22:14.613Z"
   },
   {
    "duration": 1104,
    "start_time": "2021-07-14T20:22:15.516Z"
   },
   {
    "duration": 898,
    "start_time": "2021-07-14T20:22:16.621Z"
   },
   {
    "duration": 910,
    "start_time": "2021-07-14T20:22:17.520Z"
   },
   {
    "duration": 1064,
    "start_time": "2021-07-14T20:22:18.432Z"
   },
   {
    "duration": 9932,
    "start_time": "2021-07-14T20:22:19.498Z"
   },
   {
    "duration": 6,
    "start_time": "2021-07-14T20:22:29.432Z"
   },
   {
    "duration": 212,
    "start_time": "2021-07-14T20:22:29.439Z"
   },
   {
    "duration": 13,
    "start_time": "2021-07-14T20:22:29.652Z"
   },
   {
    "duration": 210,
    "start_time": "2021-07-14T20:22:29.666Z"
   },
   {
    "duration": 21,
    "start_time": "2021-07-14T20:22:29.877Z"
   },
   {
    "duration": 7,
    "start_time": "2021-07-14T20:22:29.900Z"
   },
   {
    "duration": 369,
    "start_time": "2021-07-14T20:22:29.908Z"
   },
   {
    "duration": 1691,
    "start_time": "2021-07-14T20:22:30.279Z"
   },
   {
    "duration": 632,
    "start_time": "2021-07-14T20:22:31.972Z"
   },
   {
    "duration": 592,
    "start_time": "2021-07-14T20:22:32.606Z"
   },
   {
    "duration": 4,
    "start_time": "2021-07-14T20:22:33.199Z"
   },
   {
    "duration": 653,
    "start_time": "2021-07-14T20:22:33.205Z"
   },
   {
    "duration": 615,
    "start_time": "2021-07-14T20:22:33.859Z"
   },
   {
    "duration": 661,
    "start_time": "2021-07-14T20:22:34.476Z"
   },
   {
    "duration": 18,
    "start_time": "2021-07-14T20:22:35.139Z"
   },
   {
    "duration": 1802,
    "start_time": "2021-07-15T06:43:08.191Z"
   },
   {
    "duration": 126,
    "start_time": "2021-07-15T06:43:09.994Z"
   },
   {
    "duration": 71,
    "start_time": "2021-07-15T06:43:10.122Z"
   },
   {
    "duration": 17,
    "start_time": "2021-07-15T06:43:10.195Z"
   },
   {
    "duration": 81,
    "start_time": "2021-07-15T06:43:10.213Z"
   },
   {
    "duration": 4,
    "start_time": "2021-07-15T06:43:10.296Z"
   },
   {
    "duration": 6,
    "start_time": "2021-07-15T06:43:10.301Z"
   },
   {
    "duration": 12,
    "start_time": "2021-07-15T06:43:10.309Z"
   },
   {
    "duration": 2,
    "start_time": "2021-07-15T06:43:10.323Z"
   },
   {
    "duration": 70,
    "start_time": "2021-07-15T06:43:10.327Z"
   },
   {
    "duration": 8,
    "start_time": "2021-07-15T06:43:10.398Z"
   },
   {
    "duration": 7,
    "start_time": "2021-07-15T06:43:10.407Z"
   },
   {
    "duration": 6,
    "start_time": "2021-07-15T06:43:10.416Z"
   },
   {
    "duration": 3,
    "start_time": "2021-07-15T06:43:10.424Z"
   },
   {
    "duration": 69,
    "start_time": "2021-07-15T06:43:10.428Z"
   },
   {
    "duration": 102,
    "start_time": "2021-07-15T06:43:10.498Z"
   },
   {
    "duration": 97,
    "start_time": "2021-07-15T06:43:10.601Z"
   },
   {
    "duration": 36,
    "start_time": "2021-07-15T06:43:10.700Z"
   },
   {
    "duration": 485,
    "start_time": "2021-07-15T06:43:10.738Z"
   },
   {
    "duration": 669,
    "start_time": "2021-07-15T06:43:11.224Z"
   },
   {
    "duration": 599,
    "start_time": "2021-07-15T06:43:11.895Z"
   },
   {
    "duration": 730,
    "start_time": "2021-07-15T06:43:12.495Z"
   },
   {
    "duration": 595,
    "start_time": "2021-07-15T06:43:13.229Z"
   },
   {
    "duration": 6,
    "start_time": "2021-07-15T06:43:13.826Z"
   },
   {
    "duration": 291,
    "start_time": "2021-07-15T06:43:13.833Z"
   },
   {
    "duration": 275,
    "start_time": "2021-07-15T06:43:14.126Z"
   },
   {
    "duration": 8,
    "start_time": "2021-07-15T06:43:14.402Z"
   },
   {
    "duration": 12,
    "start_time": "2021-07-15T06:43:14.411Z"
   },
   {
    "duration": 87,
    "start_time": "2021-07-15T06:43:14.424Z"
   },
   {
    "duration": 623,
    "start_time": "2021-07-15T06:43:14.513Z"
   },
   {
    "duration": 887,
    "start_time": "2021-07-15T06:43:15.138Z"
   },
   {
    "duration": 1096,
    "start_time": "2021-07-15T06:43:16.027Z"
   },
   {
    "duration": 422,
    "start_time": "2021-07-15T06:43:17.124Z"
   },
   {
    "duration": 431,
    "start_time": "2021-07-15T06:43:17.547Z"
   },
   {
    "duration": 296,
    "start_time": "2021-07-15T06:43:17.980Z"
   },
   {
    "duration": 4351,
    "start_time": "2021-07-15T06:43:18.278Z"
   },
   {
    "duration": 7,
    "start_time": "2021-07-15T06:43:22.630Z"
   },
   {
    "duration": 216,
    "start_time": "2021-07-15T06:43:22.638Z"
   },
   {
    "duration": 13,
    "start_time": "2021-07-15T06:43:22.856Z"
   },
   {
    "duration": 208,
    "start_time": "2021-07-15T06:43:22.870Z"
   },
   {
    "duration": 18,
    "start_time": "2021-07-15T06:43:23.080Z"
   },
   {
    "duration": 7,
    "start_time": "2021-07-15T06:43:23.099Z"
   },
   {
    "duration": 373,
    "start_time": "2021-07-15T06:43:23.108Z"
   },
   {
    "duration": 1634,
    "start_time": "2021-07-15T06:43:23.483Z"
   },
   {
    "duration": 606,
    "start_time": "2021-07-15T06:43:25.119Z"
   },
   {
    "duration": 618,
    "start_time": "2021-07-15T06:43:25.727Z"
   },
   {
    "duration": 5,
    "start_time": "2021-07-15T06:43:26.347Z"
   },
   {
    "duration": 739,
    "start_time": "2021-07-15T06:43:26.354Z"
   },
   {
    "duration": 645,
    "start_time": "2021-07-15T06:43:27.094Z"
   },
   {
    "duration": 628,
    "start_time": "2021-07-15T06:43:27.741Z"
   },
   {
    "duration": 23,
    "start_time": "2021-07-15T06:43:28.370Z"
   },
   {
    "duration": 451,
    "start_time": "2021-07-15T08:15:05.304Z"
   },
   {
    "duration": 1438,
    "start_time": "2021-07-15T08:15:13.412Z"
   },
   {
    "duration": 117,
    "start_time": "2021-07-15T08:15:17.142Z"
   },
   {
    "duration": 27,
    "start_time": "2021-07-15T08:15:21.466Z"
   },
   {
    "duration": 27,
    "start_time": "2021-07-15T08:15:23.882Z"
   },
   {
    "duration": 24,
    "start_time": "2021-07-15T08:15:28.472Z"
   },
   {
    "duration": 14,
    "start_time": "2021-07-15T08:15:34.062Z"
   },
   {
    "duration": 6,
    "start_time": "2021-07-15T08:15:51.348Z"
   },
   {
    "duration": 6,
    "start_time": "2021-07-15T08:16:10.379Z"
   },
   {
    "duration": 7,
    "start_time": "2021-07-15T08:16:35.949Z"
   },
   {
    "duration": 9,
    "start_time": "2021-07-15T08:16:49.036Z"
   },
   {
    "duration": 6,
    "start_time": "2021-07-15T08:18:09.477Z"
   },
   {
    "duration": 37,
    "start_time": "2021-07-15T08:20:35.263Z"
   },
   {
    "duration": 29,
    "start_time": "2021-07-15T08:22:29.831Z"
   },
   {
    "duration": 30,
    "start_time": "2021-07-15T08:22:41.476Z"
   },
   {
    "duration": 14,
    "start_time": "2021-07-15T08:25:49.106Z"
   },
   {
    "duration": 35,
    "start_time": "2021-07-15T08:30:47.364Z"
   },
   {
    "duration": 8,
    "start_time": "2021-07-15T08:31:25.457Z"
   },
   {
    "duration": 6,
    "start_time": "2021-07-15T08:31:31.770Z"
   },
   {
    "duration": 17,
    "start_time": "2021-07-15T08:34:38.312Z"
   },
   {
    "duration": 5,
    "start_time": "2021-07-15T08:47:19.944Z"
   },
   {
    "duration": 16,
    "start_time": "2021-07-15T08:47:20.917Z"
   },
   {
    "duration": 5,
    "start_time": "2021-07-15T08:47:26.871Z"
   },
   {
    "duration": 13,
    "start_time": "2021-07-15T08:47:28.813Z"
   },
   {
    "duration": 12,
    "start_time": "2021-07-15T08:47:29.708Z"
   },
   {
    "duration": 13,
    "start_time": "2021-07-15T08:47:34.381Z"
   },
   {
    "duration": 7,
    "start_time": "2021-07-15T08:47:35.414Z"
   },
   {
    "duration": 5,
    "start_time": "2021-07-15T08:47:36.896Z"
   },
   {
    "duration": 13,
    "start_time": "2021-07-15T08:47:41.171Z"
   },
   {
    "duration": 80,
    "start_time": "2021-07-15T08:47:44.057Z"
   },
   {
    "duration": 66,
    "start_time": "2021-07-15T08:47:52.281Z"
   },
   {
    "duration": 54,
    "start_time": "2021-07-15T08:48:02.148Z"
   },
   {
    "duration": 468,
    "start_time": "2021-07-15T08:48:25.464Z"
   },
   {
    "duration": 575,
    "start_time": "2021-07-15T09:16:02.054Z"
   },
   {
    "duration": 563,
    "start_time": "2021-07-15T09:19:41.579Z"
   },
   {
    "duration": 646,
    "start_time": "2021-07-15T10:00:42.751Z"
   },
   {
    "duration": 118,
    "start_time": "2021-07-15T10:01:22.313Z"
   },
   {
    "duration": 578,
    "start_time": "2021-07-15T10:01:33.982Z"
   },
   {
    "duration": 9,
    "start_time": "2021-07-15T10:16:45.781Z"
   },
   {
    "duration": 241,
    "start_time": "2021-07-15T10:16:50.882Z"
   },
   {
    "duration": 220,
    "start_time": "2021-07-15T10:17:11.390Z"
   },
   {
    "duration": 10,
    "start_time": "2021-07-15T10:32:05.187Z"
   },
   {
    "duration": 17,
    "start_time": "2021-07-15T10:32:07.431Z"
   },
   {
    "duration": 47,
    "start_time": "2021-07-15T10:32:08.919Z"
   },
   {
    "duration": 609,
    "start_time": "2021-07-15T10:32:24.078Z"
   },
   {
    "duration": 975,
    "start_time": "2021-07-15T10:39:31.360Z"
   },
   {
    "duration": 933,
    "start_time": "2021-07-15T10:40:37.464Z"
   },
   {
    "duration": 846,
    "start_time": "2021-07-15T10:41:35.204Z"
   },
   {
    "duration": 839,
    "start_time": "2021-07-15T10:42:30.497Z"
   },
   {
    "duration": 552,
    "start_time": "2021-07-15T10:49:12.081Z"
   },
   {
    "duration": 13,
    "start_time": "2021-07-15T10:56:32.451Z"
   },
   {
    "duration": 11,
    "start_time": "2021-07-15T10:58:54.861Z"
   },
   {
    "duration": 14,
    "start_time": "2021-07-15T10:59:09.574Z"
   },
   {
    "duration": 23,
    "start_time": "2021-07-15T11:00:29.379Z"
   },
   {
    "duration": 8397,
    "start_time": "2021-07-15T11:01:44.027Z"
   },
   {
    "duration": 9,
    "start_time": "2021-07-15T11:01:57.816Z"
   },
   {
    "duration": 421,
    "start_time": "2021-07-15T11:02:01.210Z"
   },
   {
    "duration": 408,
    "start_time": "2021-07-15T11:02:21.787Z"
   },
   {
    "duration": 373,
    "start_time": "2021-07-15T11:03:08.997Z"
   },
   {
    "duration": 426,
    "start_time": "2021-07-15T11:04:32.873Z"
   },
   {
    "duration": 144,
    "start_time": "2021-07-15T11:04:40.269Z"
   },
   {
    "duration": 379,
    "start_time": "2021-07-15T11:04:47.403Z"
   },
   {
    "duration": 14,
    "start_time": "2021-07-15T11:15:14.499Z"
   },
   {
    "duration": 11,
    "start_time": "2021-07-15T11:30:34.951Z"
   },
   {
    "duration": 6,
    "start_time": "2021-07-15T11:30:54.822Z"
   },
   {
    "duration": 9911,
    "start_time": "2021-07-15T13:36:05.274Z"
   },
   {
    "duration": 15,
    "start_time": "2021-07-15T13:36:24.498Z"
   },
   {
    "duration": 49,
    "start_time": "2021-07-15T13:36:49.799Z"
   },
   {
    "duration": 11942,
    "start_time": "2021-07-15T13:42:21.345Z"
   },
   {
    "duration": 427,
    "start_time": "2021-07-15T13:46:03.978Z"
   },
   {
    "duration": 15,
    "start_time": "2021-07-15T13:52:50.404Z"
   },
   {
    "duration": 49,
    "start_time": "2021-07-15T13:52:59.364Z"
   },
   {
    "duration": 1041,
    "start_time": "2021-07-15T13:54:31.748Z"
   },
   {
    "duration": 136,
    "start_time": "2021-07-15T13:55:53.033Z"
   },
   {
    "duration": 973,
    "start_time": "2021-07-15T13:56:00.102Z"
   },
   {
    "duration": 8823,
    "start_time": "2021-07-15T13:56:27.301Z"
   },
   {
    "duration": 183,
    "start_time": "2021-07-15T13:57:52.355Z"
   },
   {
    "duration": 1539,
    "start_time": "2021-07-15T14:03:16.404Z"
   },
   {
    "duration": 115,
    "start_time": "2021-07-15T14:03:20.495Z"
   },
   {
    "duration": 26,
    "start_time": "2021-07-15T14:03:23.628Z"
   },
   {
    "duration": 27,
    "start_time": "2021-07-15T14:03:26.407Z"
   },
   {
    "duration": 26,
    "start_time": "2021-07-15T14:03:32.928Z"
   },
   {
    "duration": 8,
    "start_time": "2021-07-15T14:03:37.790Z"
   },
   {
    "duration": 6,
    "start_time": "2021-07-15T14:03:39.130Z"
   },
   {
    "duration": 8,
    "start_time": "2021-07-15T14:03:41.798Z"
   },
   {
    "duration": 9,
    "start_time": "2021-07-15T14:03:43.338Z"
   },
   {
    "duration": 6,
    "start_time": "2021-07-15T14:03:46.089Z"
   },
   {
    "duration": 4,
    "start_time": "2021-07-15T14:03:47.788Z"
   },
   {
    "duration": 16,
    "start_time": "2021-07-15T14:03:48.944Z"
   },
   {
    "duration": 31,
    "start_time": "2021-07-15T14:03:50.062Z"
   },
   {
    "duration": 17,
    "start_time": "2021-07-15T14:03:51.038Z"
   },
   {
    "duration": 5,
    "start_time": "2021-07-15T14:03:54.371Z"
   },
   {
    "duration": 12,
    "start_time": "2021-07-15T14:03:55.158Z"
   },
   {
    "duration": 11,
    "start_time": "2021-07-15T14:03:55.917Z"
   },
   {
    "duration": 12,
    "start_time": "2021-07-15T14:03:56.537Z"
   },
   {
    "duration": 10,
    "start_time": "2021-07-15T14:03:57.158Z"
   },
   {
    "duration": 6,
    "start_time": "2021-07-15T14:03:57.772Z"
   },
   {
    "duration": 12,
    "start_time": "2021-07-15T14:03:59.759Z"
   },
   {
    "duration": 85,
    "start_time": "2021-07-15T14:04:02.028Z"
   },
   {
    "duration": 69,
    "start_time": "2021-07-15T14:04:07.230Z"
   },
   {
    "duration": 55,
    "start_time": "2021-07-15T14:04:11.545Z"
   },
   {
    "duration": 465,
    "start_time": "2021-07-15T14:04:19.662Z"
   },
   {
    "duration": 563,
    "start_time": "2021-07-15T14:04:27.352Z"
   },
   {
    "duration": 568,
    "start_time": "2021-07-15T14:04:31.730Z"
   },
   {
    "duration": 643,
    "start_time": "2021-07-15T14:04:36.542Z"
   },
   {
    "duration": 541,
    "start_time": "2021-07-15T14:04:41.143Z"
   },
   {
    "duration": 9,
    "start_time": "2021-07-15T14:04:45.499Z"
   },
   {
    "duration": 236,
    "start_time": "2021-07-15T14:04:47.452Z"
   },
   {
    "duration": 221,
    "start_time": "2021-07-15T14:04:52.320Z"
   },
   {
    "duration": 11,
    "start_time": "2021-07-15T14:06:46.654Z"
   },
   {
    "duration": 18,
    "start_time": "2021-07-15T14:06:47.607Z"
   },
   {
    "duration": 47,
    "start_time": "2021-07-15T14:06:49.505Z"
   },
   {
    "duration": 599,
    "start_time": "2021-07-15T14:06:53.812Z"
   },
   {
    "duration": 1056,
    "start_time": "2021-07-15T14:06:58.454Z"
   },
   {
    "duration": 923,
    "start_time": "2021-07-15T14:07:02.572Z"
   },
   {
    "duration": 822,
    "start_time": "2021-07-15T14:07:06.825Z"
   },
   {
    "duration": 946,
    "start_time": "2021-07-15T14:07:11.379Z"
   },
   {
    "duration": 654,
    "start_time": "2021-07-15T14:07:23.736Z"
   },
   {
    "duration": 4,
    "start_time": "2021-07-15T14:10:57.825Z"
   },
   {
    "duration": 16,
    "start_time": "2021-07-15T14:11:23.349Z"
   },
   {
    "duration": 17,
    "start_time": "2021-07-15T14:12:36.953Z"
   },
   {
    "duration": 95,
    "start_time": "2021-07-15T14:13:01.053Z"
   },
   {
    "duration": 18,
    "start_time": "2021-07-15T14:13:50.063Z"
   },
   {
    "duration": 93,
    "start_time": "2021-07-15T14:14:01.901Z"
   },
   {
    "duration": 491,
    "start_time": "2021-07-15T14:17:38.611Z"
   },
   {
    "duration": 388,
    "start_time": "2021-07-15T14:18:31.353Z"
   },
   {
    "duration": 1202693,
    "start_time": "2021-07-15T14:18:41.509Z"
   },
   {
    "duration": 27,
    "start_time": "2021-07-15T14:41:34.511Z"
   },
   {
    "duration": 365,
    "start_time": "2021-07-15T14:42:52.789Z"
   },
   {
    "duration": 8,
    "start_time": "2021-07-15T14:47:13.029Z"
   },
   {
    "duration": 6,
    "start_time": "2021-07-15T14:47:37.943Z"
   },
   {
    "duration": 6,
    "start_time": "2021-07-15T14:48:14.069Z"
   },
   {
    "duration": 121,
    "start_time": "2021-07-15T14:51:05.514Z"
   },
   {
    "duration": 927,
    "start_time": "2021-07-15T14:51:31.549Z"
   },
   {
    "duration": 882,
    "start_time": "2021-07-15T14:51:45.371Z"
   },
   {
    "duration": 69,
    "start_time": "2021-07-15T14:53:00.964Z"
   },
   {
    "duration": 459,
    "start_time": "2021-07-15T14:53:28.791Z"
   },
   {
    "duration": 449,
    "start_time": "2021-07-15T14:54:28.224Z"
   },
   {
    "duration": 430,
    "start_time": "2021-07-15T14:54:58.424Z"
   },
   {
    "duration": 1488,
    "start_time": "2021-07-15T14:58:07.964Z"
   },
   {
    "duration": 115,
    "start_time": "2021-07-15T14:58:14.239Z"
   },
   {
    "duration": 26,
    "start_time": "2021-07-15T14:58:18.310Z"
   },
   {
    "duration": 28,
    "start_time": "2021-07-15T14:58:21.286Z"
   },
   {
    "duration": 25,
    "start_time": "2021-07-15T14:58:25.523Z"
   },
   {
    "duration": 6,
    "start_time": "2021-07-15T14:58:28.939Z"
   },
   {
    "duration": 7,
    "start_time": "2021-07-15T14:58:29.955Z"
   },
   {
    "duration": 7,
    "start_time": "2021-07-15T14:58:30.858Z"
   },
   {
    "duration": 10,
    "start_time": "2021-07-15T14:58:31.629Z"
   },
   {
    "duration": 7,
    "start_time": "2021-07-15T14:58:33.989Z"
   },
   {
    "duration": 5,
    "start_time": "2021-07-15T14:58:35.028Z"
   },
   {
    "duration": 16,
    "start_time": "2021-07-15T14:58:36.044Z"
   },
   {
    "duration": 30,
    "start_time": "2021-07-15T14:58:39.101Z"
   },
   {
    "duration": 19,
    "start_time": "2021-07-15T14:58:39.349Z"
   },
   {
    "duration": 5,
    "start_time": "2021-07-15T14:58:45.771Z"
   },
   {
    "duration": 13,
    "start_time": "2021-07-15T14:58:46.527Z"
   },
   {
    "duration": 12,
    "start_time": "2021-07-15T14:58:47.174Z"
   },
   {
    "duration": 11,
    "start_time": "2021-07-15T14:58:47.764Z"
   },
   {
    "duration": 10,
    "start_time": "2021-07-15T14:58:48.406Z"
   },
   {
    "duration": 5,
    "start_time": "2021-07-15T14:58:49.027Z"
   },
   {
    "duration": 13,
    "start_time": "2021-07-15T14:58:51.432Z"
   },
   {
    "duration": 82,
    "start_time": "2021-07-15T14:58:53.564Z"
   },
   {
    "duration": 68,
    "start_time": "2021-07-15T14:58:57.627Z"
   },
   {
    "duration": 55,
    "start_time": "2021-07-15T14:59:01.152Z"
   },
   {
    "duration": 438,
    "start_time": "2021-07-15T14:59:05.583Z"
   },
   {
    "duration": 547,
    "start_time": "2021-07-15T14:59:10.524Z"
   },
   {
    "duration": 563,
    "start_time": "2021-07-15T14:59:14.635Z"
   },
   {
    "duration": 739,
    "start_time": "2021-07-15T14:59:18.947Z"
   },
   {
    "duration": 535,
    "start_time": "2021-07-15T14:59:24.858Z"
   },
   {
    "duration": 9,
    "start_time": "2021-07-15T14:59:30.338Z"
   },
   {
    "duration": 232,
    "start_time": "2021-07-15T14:59:31.786Z"
   },
   {
    "duration": 214,
    "start_time": "2021-07-15T14:59:35.518Z"
   },
   {
    "duration": 10,
    "start_time": "2021-07-15T14:59:40.669Z"
   },
   {
    "duration": 16,
    "start_time": "2021-07-15T14:59:42.896Z"
   },
   {
    "duration": 48,
    "start_time": "2021-07-15T14:59:51.139Z"
   },
   {
    "duration": 565,
    "start_time": "2021-07-15T14:59:56.640Z"
   },
   {
    "duration": 864,
    "start_time": "2021-07-15T15:00:01.020Z"
   },
   {
    "duration": 914,
    "start_time": "2021-07-15T15:00:07.562Z"
   },
   {
    "duration": 794,
    "start_time": "2021-07-15T15:00:14.099Z"
   },
   {
    "duration": 919,
    "start_time": "2021-07-15T15:00:19.683Z"
   },
   {
    "duration": 533,
    "start_time": "2021-07-15T15:00:26.829Z"
   },
   {
    "duration": 25,
    "start_time": "2021-07-15T15:01:31.459Z"
   },
   {
    "duration": 9,
    "start_time": "2021-07-15T15:01:37.351Z"
   },
   {
    "duration": 6,
    "start_time": "2021-07-15T15:01:39.951Z"
   },
   {
    "duration": 6,
    "start_time": "2021-07-15T15:01:46.186Z"
   },
   {
    "duration": 449,
    "start_time": "2021-07-15T15:01:52.259Z"
   },
   {
    "duration": 541,
    "start_time": "2021-07-15T15:01:58.739Z"
   },
   {
    "duration": 417,
    "start_time": "2021-07-15T15:02:03.556Z"
   },
   {
    "duration": 369,
    "start_time": "2021-07-15T15:02:33.379Z"
   },
   {
    "duration": 458,
    "start_time": "2021-07-15T15:02:51.255Z"
   },
   {
    "duration": 561,
    "start_time": "2021-07-15T15:02:59.391Z"
   },
   {
    "duration": 440,
    "start_time": "2021-07-15T15:03:10.956Z"
   },
   {
    "duration": 7,
    "start_time": "2021-07-15T15:05:12.785Z"
   },
   {
    "duration": 7,
    "start_time": "2021-07-15T15:05:32.429Z"
   },
   {
    "duration": 8725,
    "start_time": "2021-07-15T15:14:37.674Z"
   },
   {
    "duration": 10,
    "start_time": "2021-07-15T15:14:55.998Z"
   },
   {
    "duration": 537,
    "start_time": "2021-07-15T15:21:02.784Z"
   },
   {
    "duration": 101,
    "start_time": "2021-07-15T15:21:19.581Z"
   },
   {
    "duration": 24,
    "start_time": "2021-07-15T15:22:55.992Z"
   },
   {
    "duration": 79,
    "start_time": "2021-07-15T15:23:21.433Z"
   },
   {
    "duration": 19,
    "start_time": "2021-07-15T15:24:34.575Z"
   },
   {
    "duration": 12,
    "start_time": "2021-07-15T15:25:35.089Z"
   },
   {
    "duration": 14,
    "start_time": "2021-07-15T15:25:40.157Z"
   },
   {
    "duration": 15,
    "start_time": "2021-07-15T15:25:54.097Z"
   },
   {
    "duration": 16,
    "start_time": "2021-07-15T15:26:57.237Z"
   },
   {
    "duration": 15,
    "start_time": "2021-07-15T15:27:20.412Z"
   },
   {
    "duration": 8,
    "start_time": "2021-07-15T15:32:11.289Z"
   },
   {
    "duration": 16,
    "start_time": "2021-07-15T15:32:56.248Z"
   },
   {
    "duration": 369,
    "start_time": "2021-07-15T15:38:09.347Z"
   },
   {
    "duration": 16,
    "start_time": "2021-07-15T15:38:20.430Z"
   },
   {
    "duration": 375,
    "start_time": "2021-07-15T15:40:35.224Z"
   },
   {
    "duration": 420,
    "start_time": "2021-07-15T15:40:50.389Z"
   },
   {
    "duration": 34,
    "start_time": "2021-07-15T15:41:20.981Z"
   },
   {
    "duration": 339,
    "start_time": "2021-07-15T15:41:53.051Z"
   },
   {
    "duration": 332,
    "start_time": "2021-07-15T15:42:00.060Z"
   },
   {
    "duration": 80,
    "start_time": "2021-07-15T15:46:33.031Z"
   },
   {
    "duration": 81,
    "start_time": "2021-07-15T15:48:18.562Z"
   },
   {
    "duration": 1272,
    "start_time": "2021-07-15T15:48:58.229Z"
   },
   {
    "duration": 81,
    "start_time": "2021-07-15T15:49:09.891Z"
   },
   {
    "duration": 400,
    "start_time": "2021-07-15T15:50:19.695Z"
   },
   {
    "duration": 47,
    "start_time": "2021-07-15T15:50:35.045Z"
   },
   {
    "duration": 118,
    "start_time": "2021-07-15T15:52:59.560Z"
   },
   {
    "duration": 90,
    "start_time": "2021-07-15T15:53:13.625Z"
   },
   {
    "duration": 441,
    "start_time": "2021-07-15T15:53:37.742Z"
   },
   {
    "duration": 529,
    "start_time": "2021-07-15T15:53:49.289Z"
   },
   {
    "duration": 91,
    "start_time": "2021-07-15T15:53:59.713Z"
   },
   {
    "duration": 22,
    "start_time": "2021-07-15T16:01:35.619Z"
   },
   {
    "duration": 364,
    "start_time": "2021-07-15T16:01:39.134Z"
   },
   {
    "duration": 20,
    "start_time": "2021-07-15T16:01:46.813Z"
   },
   {
    "duration": 13,
    "start_time": "2021-07-15T16:02:03.282Z"
   },
   {
    "duration": 681,
    "start_time": "2021-07-15T16:02:05.840Z"
   },
   {
    "duration": 3107,
    "start_time": "2021-07-15T16:02:10.579Z"
   },
   {
    "duration": 790,
    "start_time": "2021-07-15T16:02:19.082Z"
   },
   {
    "duration": 1239,
    "start_time": "2021-07-15T16:02:29.534Z"
   },
   {
    "duration": 7,
    "start_time": "2021-07-15T16:02:45.599Z"
   },
   {
    "duration": 1085,
    "start_time": "2021-07-15T16:02:48.097Z"
   },
   {
    "duration": 1059,
    "start_time": "2021-07-15T16:02:55.412Z"
   },
   {
    "duration": 1162,
    "start_time": "2021-07-15T16:03:01.154Z"
   },
   {
    "duration": 1122,
    "start_time": "2021-07-15T16:03:11.862Z"
   },
   {
    "duration": 28,
    "start_time": "2021-07-15T16:03:17.257Z"
   },
   {
    "duration": 424,
    "start_time": "2021-07-15T16:05:41.915Z"
   },
   {
    "duration": 404,
    "start_time": "2021-07-15T16:05:58.693Z"
   },
   {
    "duration": 2481,
    "start_time": "2021-07-15T16:06:18.483Z"
   },
   {
    "duration": 384,
    "start_time": "2021-07-15T16:06:40.642Z"
   },
   {
    "duration": 14,
    "start_time": "2021-07-15T17:22:36.555Z"
   },
   {
    "duration": 7,
    "start_time": "2021-07-15T18:23:10.340Z"
   },
   {
    "duration": 6,
    "start_time": "2021-07-15T18:23:18.337Z"
   },
   {
    "duration": 7,
    "start_time": "2021-07-15T18:23:27.065Z"
   },
   {
    "duration": 7,
    "start_time": "2021-07-15T18:23:37.254Z"
   },
   {
    "duration": 385,
    "start_time": "2021-07-15T20:27:22.756Z"
   },
   {
    "duration": 12,
    "start_time": "2021-07-15T20:27:30.209Z"
   },
   {
    "duration": 646,
    "start_time": "2021-07-15T20:29:06.824Z"
   },
   {
    "duration": 63,
    "start_time": "2021-07-15T20:35:11.325Z"
   },
   {
    "duration": 62,
    "start_time": "2021-07-15T20:35:49.562Z"
   },
   {
    "duration": 92,
    "start_time": "2021-07-15T20:35:57.665Z"
   },
   {
    "duration": 675,
    "start_time": "2021-07-15T20:46:57.537Z"
   },
   {
    "duration": 1459,
    "start_time": "2021-07-15T20:58:41.103Z"
   },
   {
    "duration": 117,
    "start_time": "2021-07-15T20:58:44.085Z"
   },
   {
    "duration": 1504,
    "start_time": "2021-07-15T21:06:48.106Z"
   },
   {
    "duration": 116,
    "start_time": "2021-07-15T21:06:51.410Z"
   },
   {
    "duration": 25,
    "start_time": "2021-07-15T21:06:55.055Z"
   },
   {
    "duration": 27,
    "start_time": "2021-07-15T21:06:58.134Z"
   },
   {
    "duration": 23,
    "start_time": "2021-07-15T21:07:03.379Z"
   },
   {
    "duration": 6,
    "start_time": "2021-07-15T21:07:07.947Z"
   },
   {
    "duration": 6,
    "start_time": "2021-07-15T21:07:11.013Z"
   },
   {
    "duration": 7,
    "start_time": "2021-07-15T21:07:15.024Z"
   },
   {
    "duration": 9,
    "start_time": "2021-07-15T21:07:18.299Z"
   },
   {
    "duration": 7,
    "start_time": "2021-07-15T21:07:21.483Z"
   },
   {
    "duration": 5,
    "start_time": "2021-07-15T21:07:23.777Z"
   },
   {
    "duration": 16,
    "start_time": "2021-07-15T21:07:24.882Z"
   },
   {
    "duration": 509,
    "start_time": "2021-07-15T21:07:25.633Z"
   },
   {
    "duration": 330,
    "start_time": "2021-07-15T21:08:35.516Z"
   },
   {
    "duration": 1489,
    "start_time": "2021-07-15T21:08:56.054Z"
   },
   {
    "duration": 119,
    "start_time": "2021-07-15T21:08:58.930Z"
   },
   {
    "duration": 25,
    "start_time": "2021-07-15T21:09:02.371Z"
   },
   {
    "duration": 29,
    "start_time": "2021-07-15T21:09:05.499Z"
   },
   {
    "duration": 23,
    "start_time": "2021-07-15T21:09:09.608Z"
   },
   {
    "duration": 7,
    "start_time": "2021-07-15T21:09:13.099Z"
   },
   {
    "duration": 7,
    "start_time": "2021-07-15T21:09:15.169Z"
   },
   {
    "duration": 8,
    "start_time": "2021-07-15T21:09:16.587Z"
   },
   {
    "duration": 9,
    "start_time": "2021-07-15T21:09:19.447Z"
   },
   {
    "duration": 7,
    "start_time": "2021-07-15T21:09:22.510Z"
   },
   {
    "duration": 5,
    "start_time": "2021-07-15T21:09:23.597Z"
   },
   {
    "duration": 17,
    "start_time": "2021-07-15T21:09:24.355Z"
   },
   {
    "duration": 20,
    "start_time": "2021-07-15T21:09:25.189Z"
   },
   {
    "duration": 5,
    "start_time": "2021-07-15T21:09:29.037Z"
   },
   {
    "duration": 14,
    "start_time": "2021-07-15T21:09:29.986Z"
   },
   {
    "duration": 13,
    "start_time": "2021-07-15T21:09:30.956Z"
   },
   {
    "duration": 12,
    "start_time": "2021-07-15T21:09:33.292Z"
   },
   {
    "duration": 12,
    "start_time": "2021-07-15T21:09:34.223Z"
   },
   {
    "duration": 6,
    "start_time": "2021-07-15T21:09:35.847Z"
   },
   {
    "duration": 28,
    "start_time": "2021-07-15T21:09:38.277Z"
   },
   {
    "duration": 12,
    "start_time": "2021-07-15T21:09:41.599Z"
   },
   {
    "duration": 77,
    "start_time": "2021-07-15T21:09:43.087Z"
   },
   {
    "duration": 71,
    "start_time": "2021-07-15T21:09:48.000Z"
   },
   {
    "duration": 50,
    "start_time": "2021-07-15T21:09:51.838Z"
   },
   {
    "duration": 445,
    "start_time": "2021-07-15T21:09:55.743Z"
   },
   {
    "duration": 549,
    "start_time": "2021-07-15T21:09:59.922Z"
   },
   {
    "duration": 560,
    "start_time": "2021-07-15T21:10:03.683Z"
   },
   {
    "duration": 646,
    "start_time": "2021-07-15T21:10:07.741Z"
   },
   {
    "duration": 557,
    "start_time": "2021-07-15T21:10:12.126Z"
   },
   {
    "duration": 9,
    "start_time": "2021-07-15T21:10:17.051Z"
   },
   {
    "duration": 238,
    "start_time": "2021-07-15T21:10:18.805Z"
   },
   {
    "duration": 224,
    "start_time": "2021-07-15T21:10:21.071Z"
   },
   {
    "duration": 12,
    "start_time": "2021-07-15T21:10:25.578Z"
   },
   {
    "duration": 16,
    "start_time": "2021-07-15T21:10:26.846Z"
   },
   {
    "duration": 47,
    "start_time": "2021-07-15T21:10:28.324Z"
   },
   {
    "duration": 592,
    "start_time": "2021-07-15T21:10:32.665Z"
   },
   {
    "duration": 856,
    "start_time": "2021-07-15T21:10:37.389Z"
   },
   {
    "duration": 936,
    "start_time": "2021-07-15T21:10:43.920Z"
   },
   {
    "duration": 907,
    "start_time": "2021-07-15T21:10:49.138Z"
   },
   {
    "duration": 845,
    "start_time": "2021-07-15T21:10:54.059Z"
   },
   {
    "duration": 13,
    "start_time": "2021-07-15T21:10:59.225Z"
   },
   {
    "duration": 548,
    "start_time": "2021-07-15T21:11:08.685Z"
   },
   {
    "duration": 24,
    "start_time": "2021-07-15T21:11:13.483Z"
   },
   {
    "duration": 7,
    "start_time": "2021-07-15T21:11:22.850Z"
   },
   {
    "duration": 6,
    "start_time": "2021-07-15T21:11:24.206Z"
   },
   {
    "duration": 5,
    "start_time": "2021-07-15T21:11:25.092Z"
   },
   {
    "duration": 454,
    "start_time": "2021-07-15T21:11:26.640Z"
   },
   {
    "duration": 612,
    "start_time": "2021-07-15T21:11:33.129Z"
   },
   {
    "duration": 7,
    "start_time": "2021-07-15T21:11:40.067Z"
   },
   {
    "duration": 6,
    "start_time": "2021-07-15T21:11:41.136Z"
   },
   {
    "duration": 8380,
    "start_time": "2021-07-15T21:11:45.070Z"
   },
   {
    "duration": 10,
    "start_time": "2021-07-15T21:11:57.329Z"
   },
   {
    "duration": 11,
    "start_time": "2021-07-15T21:12:00.303Z"
   },
   {
    "duration": 16,
    "start_time": "2021-07-15T21:12:01.380Z"
   },
   {
    "duration": 10,
    "start_time": "2021-07-15T21:12:05.161Z"
   },
   {
    "duration": 17,
    "start_time": "2021-07-15T21:12:06.024Z"
   },
   {
    "duration": 91,
    "start_time": "2021-07-15T21:12:12.423Z"
   },
   {
    "duration": 21,
    "start_time": "2021-07-15T21:12:17.707Z"
   },
   {
    "duration": 367,
    "start_time": "2021-07-15T21:12:23.529Z"
   },
   {
    "duration": 21,
    "start_time": "2021-07-15T21:12:30.326Z"
   },
   {
    "duration": 12,
    "start_time": "2021-07-15T21:12:34.171Z"
   },
   {
    "duration": 920,
    "start_time": "2021-07-15T21:12:35.441Z"
   },
   {
    "duration": 2724,
    "start_time": "2021-07-15T21:12:39.718Z"
   },
   {
    "duration": 864,
    "start_time": "2021-07-15T21:12:45.464Z"
   },
   {
    "duration": 1042,
    "start_time": "2021-07-15T21:12:49.846Z"
   },
   {
    "duration": 6,
    "start_time": "2021-07-15T21:12:55.072Z"
   },
   {
    "duration": 1102,
    "start_time": "2021-07-15T21:12:56.895Z"
   },
   {
    "duration": 1058,
    "start_time": "2021-07-15T21:13:01.316Z"
   },
   {
    "duration": 1044,
    "start_time": "2021-07-15T21:13:05.657Z"
   },
   {
    "duration": 29,
    "start_time": "2021-07-15T21:13:11.317Z"
   },
   {
    "duration": 989,
    "start_time": "2021-07-16T20:20:36.332Z"
   },
   {
    "duration": 75,
    "start_time": "2021-07-16T20:20:37.322Z"
   },
   {
    "duration": 14,
    "start_time": "2021-07-16T20:20:37.399Z"
   },
   {
    "duration": 16,
    "start_time": "2021-07-16T20:20:37.415Z"
   },
   {
    "duration": 15,
    "start_time": "2021-07-16T20:20:37.433Z"
   },
   {
    "duration": 4,
    "start_time": "2021-07-16T20:20:37.450Z"
   },
   {
    "duration": 5,
    "start_time": "2021-07-16T20:20:37.456Z"
   },
   {
    "duration": 30,
    "start_time": "2021-07-16T20:20:37.463Z"
   },
   {
    "duration": 6,
    "start_time": "2021-07-16T20:20:37.496Z"
   },
   {
    "duration": 5,
    "start_time": "2021-07-16T20:20:37.504Z"
   },
   {
    "duration": 5,
    "start_time": "2021-07-16T20:20:37.510Z"
   },
   {
    "duration": 11,
    "start_time": "2021-07-16T20:20:37.516Z"
   },
   {
    "duration": 13,
    "start_time": "2021-07-16T20:20:37.528Z"
   },
   {
    "duration": 4,
    "start_time": "2021-07-16T20:20:37.542Z"
   },
   {
    "duration": 45,
    "start_time": "2021-07-16T20:20:37.547Z"
   },
   {
    "duration": 8,
    "start_time": "2021-07-16T20:20:37.594Z"
   },
   {
    "duration": 8,
    "start_time": "2021-07-16T20:20:37.604Z"
   },
   {
    "duration": 8,
    "start_time": "2021-07-16T20:20:37.613Z"
   },
   {
    "duration": 5,
    "start_time": "2021-07-16T20:20:37.623Z"
   },
   {
    "duration": 22,
    "start_time": "2021-07-16T20:20:37.630Z"
   },
   {
    "duration": 9,
    "start_time": "2021-07-16T20:20:37.653Z"
   },
   {
    "duration": 63,
    "start_time": "2021-07-16T20:20:37.663Z"
   },
   {
    "duration": 38,
    "start_time": "2021-07-16T20:20:37.727Z"
   },
   {
    "duration": 49,
    "start_time": "2021-07-16T20:20:37.767Z"
   },
   {
    "duration": 228,
    "start_time": "2021-07-16T20:20:37.817Z"
   },
   {
    "duration": 280,
    "start_time": "2021-07-16T20:20:38.046Z"
   },
   {
    "duration": 394,
    "start_time": "2021-07-16T20:20:38.330Z"
   },
   {
    "duration": 348,
    "start_time": "2021-07-16T20:20:38.727Z"
   },
   {
    "duration": 282,
    "start_time": "2021-07-16T20:20:39.077Z"
   },
   {
    "duration": 6,
    "start_time": "2021-07-16T20:20:39.361Z"
   },
   {
    "duration": 135,
    "start_time": "2021-07-16T20:20:39.368Z"
   },
   {
    "duration": 131,
    "start_time": "2021-07-16T20:20:39.505Z"
   },
   {
    "duration": 18,
    "start_time": "2021-07-16T20:20:39.638Z"
   },
   {
    "duration": 11,
    "start_time": "2021-07-16T20:20:39.658Z"
   },
   {
    "duration": 25,
    "start_time": "2021-07-16T20:20:39.671Z"
   },
   {
    "duration": 304,
    "start_time": "2021-07-16T20:20:39.697Z"
   },
   {
    "duration": 441,
    "start_time": "2021-07-16T20:20:40.002Z"
   },
   {
    "duration": 509,
    "start_time": "2021-07-16T20:20:40.445Z"
   },
   {
    "duration": 444,
    "start_time": "2021-07-16T20:20:40.955Z"
   },
   {
    "duration": 416,
    "start_time": "2021-07-16T20:20:41.401Z"
   },
   {
    "duration": 8,
    "start_time": "2021-07-16T20:20:41.819Z"
   },
   {
    "duration": 289,
    "start_time": "2021-07-16T20:20:41.828Z"
   },
   {
    "duration": 14,
    "start_time": "2021-07-16T20:20:42.119Z"
   },
   {
    "duration": 4,
    "start_time": "2021-07-16T20:20:42.135Z"
   },
   {
    "duration": 4,
    "start_time": "2021-07-16T20:20:42.140Z"
   },
   {
    "duration": 5,
    "start_time": "2021-07-16T20:20:42.146Z"
   },
   {
    "duration": 242,
    "start_time": "2021-07-16T20:20:42.152Z"
   },
   {
    "duration": 417,
    "start_time": "2021-07-16T20:20:42.395Z"
   },
   {
    "duration": 4,
    "start_time": "2021-07-16T20:20:42.813Z"
   },
   {
    "duration": 6,
    "start_time": "2021-07-16T20:20:42.819Z"
   },
   {
    "duration": 4108,
    "start_time": "2021-07-16T20:20:42.826Z"
   },
   {
    "duration": 6,
    "start_time": "2021-07-16T20:20:46.936Z"
   },
   {
    "duration": 12,
    "start_time": "2021-07-16T20:20:46.944Z"
   },
   {
    "duration": 11,
    "start_time": "2021-07-16T20:20:46.958Z"
   },
   {
    "duration": 25,
    "start_time": "2021-07-16T20:20:46.971Z"
   },
   {
    "duration": 11,
    "start_time": "2021-07-16T20:20:46.997Z"
   },
   {
    "duration": 50,
    "start_time": "2021-07-16T20:20:47.010Z"
   },
   {
    "duration": 32,
    "start_time": "2021-07-16T20:20:47.062Z"
   },
   {
    "duration": 204,
    "start_time": "2021-07-16T20:20:47.096Z"
   },
   {
    "duration": 14,
    "start_time": "2021-07-16T20:20:47.302Z"
   },
   {
    "duration": 9,
    "start_time": "2021-07-16T20:20:47.317Z"
   },
   {
    "duration": 552,
    "start_time": "2021-07-16T20:20:47.327Z"
   },
   {
    "duration": 1401,
    "start_time": "2021-07-16T20:20:47.880Z"
   },
   {
    "duration": 576,
    "start_time": "2021-07-16T20:20:49.283Z"
   },
   {
    "duration": 631,
    "start_time": "2021-07-16T20:20:49.861Z"
   },
   {
    "duration": 5,
    "start_time": "2021-07-16T20:20:50.494Z"
   },
   {
    "duration": 730,
    "start_time": "2021-07-16T20:20:50.501Z"
   },
   {
    "duration": 633,
    "start_time": "2021-07-16T20:20:51.233Z"
   },
   {
    "duration": 668,
    "start_time": "2021-07-16T20:20:51.868Z"
   },
   {
    "duration": 17,
    "start_time": "2021-07-16T20:20:52.538Z"
   },
   {
    "duration": 4,
    "start_time": "2021-07-16T21:13:44.188Z"
   }
  ],
  "kernelspec": {
   "display_name": "Python 3",
   "language": "python",
   "name": "python3"
  },
  "language_info": {
   "codemirror_mode": {
    "name": "ipython",
    "version": 3
   },
   "file_extension": ".py",
   "mimetype": "text/x-python",
   "name": "python",
   "nbconvert_exporter": "python",
   "pygments_lexer": "ipython3",
   "version": "3.8.10"
  },
  "toc": {
   "base_numbering": 1,
   "nav_menu": {},
   "number_sections": true,
   "sideBar": true,
   "skip_h1_title": true,
   "title_cell": "Table of Contents",
   "title_sidebar": "Contents",
   "toc_cell": false,
   "toc_position": {},
   "toc_section_display": true,
   "toc_window_display": true
  }
 },
 "nbformat": 4,
 "nbformat_minor": 2
}
