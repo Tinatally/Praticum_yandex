{
 "cells": [
  {
   "cell_type": "markdown",
   "metadata": {},
   "source": [
    "# Project Description\n",
    "As an analyst Megaline a telecom operator where the company offers its clients two prepaid plans, Surf and Ultimate. \n",
    "The commercial department wants to know which of the plans brings in more revenue in order\n",
    "to adjust the advertising budget."
   ]
  },
  {
   "cell_type": "markdown",
   "metadata": {},
   "source": [
    "# Business Goal\n",
    "As part of the project, I am required to review the sample list of users to determine:\n",
    "1. The number of calls and minutes used per month per user.\n",
    "2. The number of text messages sent per month per user.\n",
    "3. The volumn of data used per month per user.\n",
    "4. Monthly revenue per user per month\n",
    "5. plot a histogram. Calculate the mean, variance and standard deviation of tex, data and messages per month per user and Describe customer behaviour. \n",
    "6. Formulate and test the hypothesis using:\n",
    "    * average revenue from users of both plans,\n",
    "    * average revenue from users in NY-NJ regions.\n",
    " "
   ]
  },
  {
   "cell_type": "markdown",
   "metadata": {},
   "source": [
    "## Open file and general information"
   ]
  },
  {
   "cell_type": "code",
   "execution_count": 1,
   "metadata": {},
   "outputs": [],
   "source": [
    "import pandas as pd\n",
    "import matplotlib.pyplot as plt\n",
    "from scipy import stats as st\n",
    "import numpy as np\n",
    "import seaborn as sns"
   ]
  },
  {
   "cell_type": "code",
   "execution_count": 2,
   "metadata": {},
   "outputs": [
    {
     "data": {
      "text/html": [
       "<div>\n",
       "<style scoped>\n",
       "    .dataframe tbody tr th:only-of-type {\n",
       "        vertical-align: middle;\n",
       "    }\n",
       "\n",
       "    .dataframe tbody tr th {\n",
       "        vertical-align: top;\n",
       "    }\n",
       "\n",
       "    .dataframe thead th {\n",
       "        text-align: right;\n",
       "    }\n",
       "</style>\n",
       "<table border=\"1\" class=\"dataframe\">\n",
       "  <thead>\n",
       "    <tr style=\"text-align: right;\">\n",
       "      <th></th>\n",
       "      <th>user_id</th>\n",
       "      <th>first_name</th>\n",
       "      <th>last_name</th>\n",
       "      <th>age</th>\n",
       "      <th>city</th>\n",
       "      <th>reg_date</th>\n",
       "      <th>tariff</th>\n",
       "      <th>churn_date</th>\n",
       "    </tr>\n",
       "  </thead>\n",
       "  <tbody>\n",
       "    <tr>\n",
       "      <td>0</td>\n",
       "      <td>1000</td>\n",
       "      <td>Anamaria</td>\n",
       "      <td>Bauer</td>\n",
       "      <td>45</td>\n",
       "      <td>Atlanta-Sandy Springs-Roswell, GA MSA</td>\n",
       "      <td>2018-12-24</td>\n",
       "      <td>ultimate</td>\n",
       "      <td>NaN</td>\n",
       "    </tr>\n",
       "    <tr>\n",
       "      <td>1</td>\n",
       "      <td>1001</td>\n",
       "      <td>Mickey</td>\n",
       "      <td>Wilkerson</td>\n",
       "      <td>28</td>\n",
       "      <td>Seattle-Tacoma-Bellevue, WA MSA</td>\n",
       "      <td>2018-08-13</td>\n",
       "      <td>surf</td>\n",
       "      <td>NaN</td>\n",
       "    </tr>\n",
       "    <tr>\n",
       "      <td>2</td>\n",
       "      <td>1002</td>\n",
       "      <td>Carlee</td>\n",
       "      <td>Hoffman</td>\n",
       "      <td>36</td>\n",
       "      <td>Las Vegas-Henderson-Paradise, NV MSA</td>\n",
       "      <td>2018-10-21</td>\n",
       "      <td>surf</td>\n",
       "      <td>NaN</td>\n",
       "    </tr>\n",
       "    <tr>\n",
       "      <td>3</td>\n",
       "      <td>1003</td>\n",
       "      <td>Reynaldo</td>\n",
       "      <td>Jenkins</td>\n",
       "      <td>52</td>\n",
       "      <td>Tulsa, OK MSA</td>\n",
       "      <td>2018-01-28</td>\n",
       "      <td>surf</td>\n",
       "      <td>NaN</td>\n",
       "    </tr>\n",
       "    <tr>\n",
       "      <td>4</td>\n",
       "      <td>1004</td>\n",
       "      <td>Leonila</td>\n",
       "      <td>Thompson</td>\n",
       "      <td>40</td>\n",
       "      <td>Seattle-Tacoma-Bellevue, WA MSA</td>\n",
       "      <td>2018-05-23</td>\n",
       "      <td>surf</td>\n",
       "      <td>NaN</td>\n",
       "    </tr>\n",
       "    <tr>\n",
       "      <td>...</td>\n",
       "      <td>...</td>\n",
       "      <td>...</td>\n",
       "      <td>...</td>\n",
       "      <td>...</td>\n",
       "      <td>...</td>\n",
       "      <td>...</td>\n",
       "      <td>...</td>\n",
       "      <td>...</td>\n",
       "    </tr>\n",
       "    <tr>\n",
       "      <td>495</td>\n",
       "      <td>1495</td>\n",
       "      <td>Fidel</td>\n",
       "      <td>Sharpe</td>\n",
       "      <td>67</td>\n",
       "      <td>New York-Newark-Jersey City, NY-NJ-PA MSA</td>\n",
       "      <td>2018-09-04</td>\n",
       "      <td>surf</td>\n",
       "      <td>NaN</td>\n",
       "    </tr>\n",
       "    <tr>\n",
       "      <td>496</td>\n",
       "      <td>1496</td>\n",
       "      <td>Ariel</td>\n",
       "      <td>Shepherd</td>\n",
       "      <td>49</td>\n",
       "      <td>New Orleans-Metairie, LA MSA</td>\n",
       "      <td>2018-02-20</td>\n",
       "      <td>surf</td>\n",
       "      <td>NaN</td>\n",
       "    </tr>\n",
       "    <tr>\n",
       "      <td>497</td>\n",
       "      <td>1497</td>\n",
       "      <td>Donte</td>\n",
       "      <td>Barrera</td>\n",
       "      <td>49</td>\n",
       "      <td>Los Angeles-Long Beach-Anaheim, CA MSA</td>\n",
       "      <td>2018-12-10</td>\n",
       "      <td>ultimate</td>\n",
       "      <td>NaN</td>\n",
       "    </tr>\n",
       "    <tr>\n",
       "      <td>498</td>\n",
       "      <td>1498</td>\n",
       "      <td>Scot</td>\n",
       "      <td>Williamson</td>\n",
       "      <td>51</td>\n",
       "      <td>New York-Newark-Jersey City, NY-NJ-PA MSA</td>\n",
       "      <td>2018-02-04</td>\n",
       "      <td>surf</td>\n",
       "      <td>NaN</td>\n",
       "    </tr>\n",
       "    <tr>\n",
       "      <td>499</td>\n",
       "      <td>1499</td>\n",
       "      <td>Shena</td>\n",
       "      <td>Dickson</td>\n",
       "      <td>37</td>\n",
       "      <td>Orlando-Kissimmee-Sanford, FL MSA</td>\n",
       "      <td>2018-05-06</td>\n",
       "      <td>surf</td>\n",
       "      <td>NaN</td>\n",
       "    </tr>\n",
       "  </tbody>\n",
       "</table>\n",
       "<p>500 rows × 8 columns</p>\n",
       "</div>"
      ],
      "text/plain": [
       "     user_id first_name   last_name  age  \\\n",
       "0       1000   Anamaria       Bauer   45   \n",
       "1       1001     Mickey   Wilkerson   28   \n",
       "2       1002     Carlee     Hoffman   36   \n",
       "3       1003   Reynaldo     Jenkins   52   \n",
       "4       1004    Leonila    Thompson   40   \n",
       "..       ...        ...         ...  ...   \n",
       "495     1495      Fidel      Sharpe   67   \n",
       "496     1496      Ariel    Shepherd   49   \n",
       "497     1497      Donte     Barrera   49   \n",
       "498     1498       Scot  Williamson   51   \n",
       "499     1499      Shena     Dickson   37   \n",
       "\n",
       "                                          city    reg_date    tariff  \\\n",
       "0        Atlanta-Sandy Springs-Roswell, GA MSA  2018-12-24  ultimate   \n",
       "1              Seattle-Tacoma-Bellevue, WA MSA  2018-08-13      surf   \n",
       "2         Las Vegas-Henderson-Paradise, NV MSA  2018-10-21      surf   \n",
       "3                                Tulsa, OK MSA  2018-01-28      surf   \n",
       "4              Seattle-Tacoma-Bellevue, WA MSA  2018-05-23      surf   \n",
       "..                                         ...         ...       ...   \n",
       "495  New York-Newark-Jersey City, NY-NJ-PA MSA  2018-09-04      surf   \n",
       "496               New Orleans-Metairie, LA MSA  2018-02-20      surf   \n",
       "497     Los Angeles-Long Beach-Anaheim, CA MSA  2018-12-10  ultimate   \n",
       "498  New York-Newark-Jersey City, NY-NJ-PA MSA  2018-02-04      surf   \n",
       "499          Orlando-Kissimmee-Sanford, FL MSA  2018-05-06      surf   \n",
       "\n",
       "    churn_date  \n",
       "0          NaN  \n",
       "1          NaN  \n",
       "2          NaN  \n",
       "3          NaN  \n",
       "4          NaN  \n",
       "..         ...  \n",
       "495        NaN  \n",
       "496        NaN  \n",
       "497        NaN  \n",
       "498        NaN  \n",
       "499        NaN  \n",
       "\n",
       "[500 rows x 8 columns]"
      ]
     },
     "execution_count": 2,
     "metadata": {},
     "output_type": "execute_result"
    }
   ],
   "source": [
    "try:\n",
    "    meg_user = pd.read_csv('.../megaline_users1.csv')\n",
    "except:\n",
    "    meg_user = pd.read_csv('/datasets/megaline_users1.csv')\n",
    "meg_user"
   ]
  },
  {
   "cell_type": "code",
   "execution_count": 3,
   "metadata": {},
   "outputs": [
    {
     "name": "stdout",
     "output_type": "stream",
     "text": [
      "<class 'pandas.core.frame.DataFrame'>\n",
      "RangeIndex: 500 entries, 0 to 499\n",
      "Data columns (total 8 columns):\n",
      "user_id       500 non-null int64\n",
      "first_name    500 non-null object\n",
      "last_name     500 non-null object\n",
      "age           500 non-null int64\n",
      "city          500 non-null object\n",
      "reg_date      500 non-null object\n",
      "tariff        500 non-null object\n",
      "churn_date    34 non-null object\n",
      "dtypes: int64(2), object(6)\n",
      "memory usage: 31.4+ KB\n"
     ]
    }
   ],
   "source": [
    "meg_user.info()"
   ]
  },
  {
   "cell_type": "code",
   "execution_count": 4,
   "metadata": {},
   "outputs": [
    {
     "data": {
      "text/html": [
       "<div>\n",
       "<style scoped>\n",
       "    .dataframe tbody tr th:only-of-type {\n",
       "        vertical-align: middle;\n",
       "    }\n",
       "\n",
       "    .dataframe tbody tr th {\n",
       "        vertical-align: top;\n",
       "    }\n",
       "\n",
       "    .dataframe thead th {\n",
       "        text-align: right;\n",
       "    }\n",
       "</style>\n",
       "<table border=\"1\" class=\"dataframe\">\n",
       "  <thead>\n",
       "    <tr style=\"text-align: right;\">\n",
       "      <th></th>\n",
       "      <th>id</th>\n",
       "      <th>user_id</th>\n",
       "      <th>session_date</th>\n",
       "      <th>mb_used</th>\n",
       "    </tr>\n",
       "  </thead>\n",
       "  <tbody>\n",
       "    <tr>\n",
       "      <td>0</td>\n",
       "      <td>1000_13</td>\n",
       "      <td>1000</td>\n",
       "      <td>2018-12-29</td>\n",
       "      <td>89.86</td>\n",
       "    </tr>\n",
       "    <tr>\n",
       "      <td>1</td>\n",
       "      <td>1000_204</td>\n",
       "      <td>1000</td>\n",
       "      <td>2018-12-31</td>\n",
       "      <td>0.00</td>\n",
       "    </tr>\n",
       "    <tr>\n",
       "      <td>2</td>\n",
       "      <td>1000_379</td>\n",
       "      <td>1000</td>\n",
       "      <td>2018-12-28</td>\n",
       "      <td>660.40</td>\n",
       "    </tr>\n",
       "    <tr>\n",
       "      <td>3</td>\n",
       "      <td>1000_413</td>\n",
       "      <td>1000</td>\n",
       "      <td>2018-12-26</td>\n",
       "      <td>270.99</td>\n",
       "    </tr>\n",
       "    <tr>\n",
       "      <td>4</td>\n",
       "      <td>1000_442</td>\n",
       "      <td>1000</td>\n",
       "      <td>2018-12-27</td>\n",
       "      <td>880.22</td>\n",
       "    </tr>\n",
       "  </tbody>\n",
       "</table>\n",
       "</div>"
      ],
      "text/plain": [
       "         id  user_id session_date  mb_used\n",
       "0   1000_13     1000   2018-12-29    89.86\n",
       "1  1000_204     1000   2018-12-31     0.00\n",
       "2  1000_379     1000   2018-12-28   660.40\n",
       "3  1000_413     1000   2018-12-26   270.99\n",
       "4  1000_442     1000   2018-12-27   880.22"
      ]
     },
     "execution_count": 4,
     "metadata": {},
     "output_type": "execute_result"
    }
   ],
   "source": [
    "try:\n",
    "    meg_int = pd.read_csv('/.../megaline_internet.csv')\n",
    "except:\n",
    "    meg_int = pd.read_csv('/datasets/megaline_internet.csv')\n",
    "meg_int.head()   "
   ]
  },
  {
   "cell_type": "code",
   "execution_count": 5,
   "metadata": {},
   "outputs": [
    {
     "name": "stdout",
     "output_type": "stream",
     "text": [
      "<class 'pandas.core.frame.DataFrame'>\n",
      "RangeIndex: 104825 entries, 0 to 104824\n",
      "Data columns (total 4 columns):\n",
      "id              104825 non-null object\n",
      "user_id         104825 non-null int64\n",
      "session_date    104825 non-null object\n",
      "mb_used         104825 non-null float64\n",
      "dtypes: float64(1), int64(1), object(2)\n",
      "memory usage: 3.2+ MB\n"
     ]
    }
   ],
   "source": [
    "meg_int.info()"
   ]
  },
  {
   "cell_type": "code",
   "execution_count": 6,
   "metadata": {},
   "outputs": [
    {
     "data": {
      "text/html": [
       "<div>\n",
       "<style scoped>\n",
       "    .dataframe tbody tr th:only-of-type {\n",
       "        vertical-align: middle;\n",
       "    }\n",
       "\n",
       "    .dataframe tbody tr th {\n",
       "        vertical-align: top;\n",
       "    }\n",
       "\n",
       "    .dataframe thead th {\n",
       "        text-align: right;\n",
       "    }\n",
       "</style>\n",
       "<table border=\"1\" class=\"dataframe\">\n",
       "  <thead>\n",
       "    <tr style=\"text-align: right;\">\n",
       "      <th></th>\n",
       "      <th>id</th>\n",
       "      <th>user_id</th>\n",
       "      <th>message_date</th>\n",
       "    </tr>\n",
       "  </thead>\n",
       "  <tbody>\n",
       "    <tr>\n",
       "      <td>0</td>\n",
       "      <td>1000_125</td>\n",
       "      <td>1000</td>\n",
       "      <td>2018-12-27</td>\n",
       "    </tr>\n",
       "    <tr>\n",
       "      <td>1</td>\n",
       "      <td>1000_160</td>\n",
       "      <td>1000</td>\n",
       "      <td>2018-12-31</td>\n",
       "    </tr>\n",
       "    <tr>\n",
       "      <td>2</td>\n",
       "      <td>1000_223</td>\n",
       "      <td>1000</td>\n",
       "      <td>2018-12-31</td>\n",
       "    </tr>\n",
       "    <tr>\n",
       "      <td>3</td>\n",
       "      <td>1000_251</td>\n",
       "      <td>1000</td>\n",
       "      <td>2018-12-27</td>\n",
       "    </tr>\n",
       "    <tr>\n",
       "      <td>4</td>\n",
       "      <td>1000_255</td>\n",
       "      <td>1000</td>\n",
       "      <td>2018-12-26</td>\n",
       "    </tr>\n",
       "  </tbody>\n",
       "</table>\n",
       "</div>"
      ],
      "text/plain": [
       "         id  user_id message_date\n",
       "0  1000_125     1000   2018-12-27\n",
       "1  1000_160     1000   2018-12-31\n",
       "2  1000_223     1000   2018-12-31\n",
       "3  1000_251     1000   2018-12-27\n",
       "4  1000_255     1000   2018-12-26"
      ]
     },
     "execution_count": 6,
     "metadata": {},
     "output_type": "execute_result"
    }
   ],
   "source": [
    "try:\n",
    "    meg_message = pd.read_csv('/.../megaline_messages.csv')\n",
    "except:\n",
    "    meg_message = pd.read_csv('/datasets/megaline_messages.csv')\n",
    "meg_message.head()"
   ]
  },
  {
   "cell_type": "code",
   "execution_count": 7,
   "metadata": {},
   "outputs": [
    {
     "name": "stdout",
     "output_type": "stream",
     "text": [
      "<class 'pandas.core.frame.DataFrame'>\n",
      "RangeIndex: 76051 entries, 0 to 76050\n",
      "Data columns (total 3 columns):\n",
      "id              76051 non-null object\n",
      "user_id         76051 non-null int64\n",
      "message_date    76051 non-null object\n",
      "dtypes: int64(1), object(2)\n",
      "memory usage: 1.7+ MB\n"
     ]
    }
   ],
   "source": [
    "meg_message.info()"
   ]
  },
  {
   "cell_type": "code",
   "execution_count": 8,
   "metadata": {},
   "outputs": [
    {
     "data": {
      "text/html": [
       "<div>\n",
       "<style scoped>\n",
       "    .dataframe tbody tr th:only-of-type {\n",
       "        vertical-align: middle;\n",
       "    }\n",
       "\n",
       "    .dataframe tbody tr th {\n",
       "        vertical-align: top;\n",
       "    }\n",
       "\n",
       "    .dataframe thead th {\n",
       "        text-align: right;\n",
       "    }\n",
       "</style>\n",
       "<table border=\"1\" class=\"dataframe\">\n",
       "  <thead>\n",
       "    <tr style=\"text-align: right;\">\n",
       "      <th></th>\n",
       "      <th>id</th>\n",
       "      <th>user_id</th>\n",
       "      <th>call_date</th>\n",
       "      <th>duration</th>\n",
       "    </tr>\n",
       "  </thead>\n",
       "  <tbody>\n",
       "    <tr>\n",
       "      <td>0</td>\n",
       "      <td>1000_93</td>\n",
       "      <td>1000</td>\n",
       "      <td>2018-12-27</td>\n",
       "      <td>8.52</td>\n",
       "    </tr>\n",
       "    <tr>\n",
       "      <td>1</td>\n",
       "      <td>1000_145</td>\n",
       "      <td>1000</td>\n",
       "      <td>2018-12-27</td>\n",
       "      <td>13.66</td>\n",
       "    </tr>\n",
       "    <tr>\n",
       "      <td>2</td>\n",
       "      <td>1000_247</td>\n",
       "      <td>1000</td>\n",
       "      <td>2018-12-27</td>\n",
       "      <td>14.48</td>\n",
       "    </tr>\n",
       "    <tr>\n",
       "      <td>3</td>\n",
       "      <td>1000_309</td>\n",
       "      <td>1000</td>\n",
       "      <td>2018-12-28</td>\n",
       "      <td>5.76</td>\n",
       "    </tr>\n",
       "    <tr>\n",
       "      <td>4</td>\n",
       "      <td>1000_380</td>\n",
       "      <td>1000</td>\n",
       "      <td>2018-12-30</td>\n",
       "      <td>4.22</td>\n",
       "    </tr>\n",
       "  </tbody>\n",
       "</table>\n",
       "</div>"
      ],
      "text/plain": [
       "         id  user_id   call_date  duration\n",
       "0   1000_93     1000  2018-12-27      8.52\n",
       "1  1000_145     1000  2018-12-27     13.66\n",
       "2  1000_247     1000  2018-12-27     14.48\n",
       "3  1000_309     1000  2018-12-28      5.76\n",
       "4  1000_380     1000  2018-12-30      4.22"
      ]
     },
     "execution_count": 8,
     "metadata": {},
     "output_type": "execute_result"
    }
   ],
   "source": [
    "try:\n",
    "    meg_calls = pd.read_csv('/.../megaline_calls.csv')\n",
    "except:\n",
    "    meg_calls = pd.read_csv('/datasets/megaline_calls.csv')\n",
    "meg_calls.head()"
   ]
  },
  {
   "cell_type": "code",
   "execution_count": 9,
   "metadata": {},
   "outputs": [
    {
     "name": "stdout",
     "output_type": "stream",
     "text": [
      "<class 'pandas.core.frame.DataFrame'>\n",
      "RangeIndex: 137735 entries, 0 to 137734\n",
      "Data columns (total 4 columns):\n",
      "id           137735 non-null object\n",
      "user_id      137735 non-null int64\n",
      "call_date    137735 non-null object\n",
      "duration     137735 non-null float64\n",
      "dtypes: float64(1), int64(1), object(2)\n",
      "memory usage: 4.2+ MB\n"
     ]
    }
   ],
   "source": [
    "meg_calls.info()"
   ]
  },
  {
   "cell_type": "code",
   "execution_count": 10,
   "metadata": {},
   "outputs": [
    {
     "data": {
      "text/html": [
       "<div>\n",
       "<style scoped>\n",
       "    .dataframe tbody tr th:only-of-type {\n",
       "        vertical-align: middle;\n",
       "    }\n",
       "\n",
       "    .dataframe tbody tr th {\n",
       "        vertical-align: top;\n",
       "    }\n",
       "\n",
       "    .dataframe thead th {\n",
       "        text-align: right;\n",
       "    }\n",
       "</style>\n",
       "<table border=\"1\" class=\"dataframe\">\n",
       "  <thead>\n",
       "    <tr style=\"text-align: right;\">\n",
       "      <th></th>\n",
       "      <th>messages_included</th>\n",
       "      <th>mb_per_month_included</th>\n",
       "      <th>minutes_included</th>\n",
       "      <th>usd_monthly_pay</th>\n",
       "      <th>usd_per_gb</th>\n",
       "      <th>usd_per_message</th>\n",
       "      <th>usd_per_minute</th>\n",
       "      <th>plan_name</th>\n",
       "    </tr>\n",
       "  </thead>\n",
       "  <tbody>\n",
       "    <tr>\n",
       "      <td>0</td>\n",
       "      <td>50</td>\n",
       "      <td>15360</td>\n",
       "      <td>500</td>\n",
       "      <td>20</td>\n",
       "      <td>10</td>\n",
       "      <td>0.03</td>\n",
       "      <td>0.03</td>\n",
       "      <td>surf</td>\n",
       "    </tr>\n",
       "    <tr>\n",
       "      <td>1</td>\n",
       "      <td>1000</td>\n",
       "      <td>30720</td>\n",
       "      <td>3000</td>\n",
       "      <td>70</td>\n",
       "      <td>7</td>\n",
       "      <td>0.01</td>\n",
       "      <td>0.01</td>\n",
       "      <td>ultimate</td>\n",
       "    </tr>\n",
       "  </tbody>\n",
       "</table>\n",
       "</div>"
      ],
      "text/plain": [
       "   messages_included  mb_per_month_included  minutes_included  \\\n",
       "0                 50                  15360               500   \n",
       "1               1000                  30720              3000   \n",
       "\n",
       "   usd_monthly_pay  usd_per_gb  usd_per_message  usd_per_minute plan_name  \n",
       "0               20          10             0.03            0.03      surf  \n",
       "1               70           7             0.01            0.01  ultimate  "
      ]
     },
     "execution_count": 10,
     "metadata": {},
     "output_type": "execute_result"
    }
   ],
   "source": [
    "try:\n",
    "    meg_plan = pd.read_csv('/.../megaline_plans.csv')\n",
    "except:\n",
    "    meg_plan = pd.read_csv('/datasets/megaline_plans.csv')\n",
    "meg_plan.head()"
   ]
  },
  {
   "cell_type": "code",
   "execution_count": 11,
   "metadata": {},
   "outputs": [
    {
     "name": "stdout",
     "output_type": "stream",
     "text": [
      "<class 'pandas.core.frame.DataFrame'>\n",
      "RangeIndex: 2 entries, 0 to 1\n",
      "Data columns (total 8 columns):\n",
      "messages_included        2 non-null int64\n",
      "mb_per_month_included    2 non-null int64\n",
      "minutes_included         2 non-null int64\n",
      "usd_monthly_pay          2 non-null int64\n",
      "usd_per_gb               2 non-null int64\n",
      "usd_per_message          2 non-null float64\n",
      "usd_per_minute           2 non-null float64\n",
      "plan_name                2 non-null object\n",
      "dtypes: float64(2), int64(5), object(1)\n",
      "memory usage: 256.0+ bytes\n"
     ]
    }
   ],
   "source": [
    "meg_plan.info()"
   ]
  },
  {
   "cell_type": "markdown",
   "metadata": {},
   "source": [
    "### Conclusion\n",
    "There are five datasets in all. One covering user details and phone plan. The second covers user_ids and internet/data used. This is followed by user_id and message dates. Late but not least, there is the user_id and call duration and then the details of the two type of plans being offered to customers. The date covers 500 user details."
   ]
  },
  {
   "cell_type": "markdown",
   "metadata": {},
   "source": [
    "## Data processing"
   ]
  },
  {
   "cell_type": "code",
   "execution_count": 12,
   "metadata": {},
   "outputs": [
    {
     "data": {
      "text/plain": [
       "user_id       0.000\n",
       "first_name    0.000\n",
       "last_name     0.000\n",
       "age           0.000\n",
       "city          0.000\n",
       "reg_date      0.000\n",
       "tariff        0.000\n",
       "churn_date    0.932\n",
       "dtype: float64"
      ]
     },
     "execution_count": 12,
     "metadata": {},
     "output_type": "execute_result"
    }
   ],
   "source": [
    "meg_user.isnull().sum()/meg_user.shape[0]"
   ]
  },
  {
   "cell_type": "code",
   "execution_count": 13,
   "metadata": {},
   "outputs": [
    {
     "data": {
      "text/plain": [
       "id              0.0\n",
       "user_id         0.0\n",
       "session_date    0.0\n",
       "mb_used         0.0\n",
       "dtype: float64"
      ]
     },
     "execution_count": 13,
     "metadata": {},
     "output_type": "execute_result"
    }
   ],
   "source": [
    "meg_int.isnull().sum()/meg_int.shape[0]"
   ]
  },
  {
   "cell_type": "code",
   "execution_count": 14,
   "metadata": {},
   "outputs": [
    {
     "data": {
      "text/plain": [
       "id              0.0\n",
       "user_id         0.0\n",
       "message_date    0.0\n",
       "dtype: float64"
      ]
     },
     "execution_count": 14,
     "metadata": {},
     "output_type": "execute_result"
    }
   ],
   "source": [
    "meg_message.isnull().sum()/meg_message.shape[0]"
   ]
  },
  {
   "cell_type": "code",
   "execution_count": 15,
   "metadata": {},
   "outputs": [
    {
     "data": {
      "text/plain": [
       "id           0.0\n",
       "user_id      0.0\n",
       "call_date    0.0\n",
       "duration     0.0\n",
       "dtype: float64"
      ]
     },
     "execution_count": 15,
     "metadata": {},
     "output_type": "execute_result"
    }
   ],
   "source": [
    "meg_calls.isnull().sum()/meg_calls.shape[0]"
   ]
  },
  {
   "cell_type": "markdown",
   "metadata": {},
   "source": [
    "For each of the dataframe, test check for null values. Except for the meg_user dataframe, there are no recorded null values in the dataframe. Churn-date which represents, date the customer stopped using the service indicates that, about 93.2% of the listed customers are still using our services as of the date of extrating data. "
   ]
  },
  {
   "cell_type": "code",
   "execution_count": 16,
   "metadata": {},
   "outputs": [],
   "source": [
    "meg_user['reg_date']=pd.to_datetime(meg_user['reg_date'])"
   ]
  },
  {
   "cell_type": "code",
   "execution_count": 17,
   "metadata": {},
   "outputs": [],
   "source": [
    "meg_user = meg_user.rename(columns={'tariff': 'plan'})"
   ]
  },
  {
   "cell_type": "code",
   "execution_count": 18,
   "metadata": {},
   "outputs": [],
   "source": [
    "meg_user['churn_date'] = pd.to_datetime(meg_user['churn_date'])"
   ]
  },
  {
   "cell_type": "code",
   "execution_count": 19,
   "metadata": {},
   "outputs": [],
   "source": [
    "meg_user.loc[meg_user['churn_date'].isna(),'churn_date']=pd.to_datetime('today').date()"
   ]
  },
  {
   "cell_type": "code",
   "execution_count": 20,
   "metadata": {},
   "outputs": [],
   "source": [
    "plan = {'ultimate': 1,'surf':0}"
   ]
  },
  {
   "cell_type": "code",
   "execution_count": 21,
   "metadata": {},
   "outputs": [],
   "source": [
    "meg_user.plan = [plan[item] for item in meg_user.plan]"
   ]
  },
  {
   "cell_type": "code",
   "execution_count": 22,
   "metadata": {},
   "outputs": [],
   "source": [
    "meg_user_int = meg_user.merge(meg_int).rename({'session_id':'id'},axis=1)"
   ]
  },
  {
   "cell_type": "code",
   "execution_count": 23,
   "metadata": {},
   "outputs": [],
   "source": [
    "meg_user_int['session_date'] = pd.to_datetime(meg_user_int['session_date'])"
   ]
  },
  {
   "cell_type": "code",
   "execution_count": 24,
   "metadata": {},
   "outputs": [],
   "source": [
    "meg_user_int['int_month'] = meg_user_int['session_date'].dt.month"
   ]
  },
  {
   "cell_type": "code",
   "execution_count": 25,
   "metadata": {},
   "outputs": [],
   "source": [
    "meg_user_int['mb_used'] = meg_user_int['mb_used'].apply(np.ceil)"
   ]
  },
  {
   "cell_type": "code",
   "execution_count": 26,
   "metadata": {},
   "outputs": [],
   "source": [
    "meg_user_meg = meg_user.merge(meg_message).rename({'message_id':'id'},axis=1)"
   ]
  },
  {
   "cell_type": "code",
   "execution_count": 27,
   "metadata": {},
   "outputs": [],
   "source": [
    "meg_user_meg['message_date'] = pd.to_datetime(meg_user_meg['message_date'])"
   ]
  },
  {
   "cell_type": "code",
   "execution_count": 28,
   "metadata": {},
   "outputs": [],
   "source": [
    "meg_user_meg['mess_month'] = meg_user_meg['message_date'].dt.month"
   ]
  },
  {
   "cell_type": "code",
   "execution_count": 29,
   "metadata": {},
   "outputs": [],
   "source": [
    "meg_user_calls=meg_user.merge(meg_calls).rename({'call_id':'id'},axis=1)"
   ]
  },
  {
   "cell_type": "code",
   "execution_count": 30,
   "metadata": {},
   "outputs": [],
   "source": [
    "meg_user_calls['call_date']=pd.to_datetime(meg_user_calls['call_date'])"
   ]
  },
  {
   "cell_type": "code",
   "execution_count": 31,
   "metadata": {},
   "outputs": [],
   "source": [
    "meg_user_calls['call_month']=meg_user_calls['call_date'].dt.month"
   ]
  },
  {
   "cell_type": "code",
   "execution_count": 32,
   "metadata": {},
   "outputs": [],
   "source": [
    "meg_user_calls['duration'] = meg_user_calls['duration'].apply(np.ceil)"
   ]
  },
  {
   "cell_type": "code",
   "execution_count": 33,
   "metadata": {},
   "outputs": [],
   "source": [
    "meg_user_meg['id']=meg_user_meg['id'].str.replace('_','').astype('int')"
   ]
  },
  {
   "cell_type": "code",
   "execution_count": 34,
   "metadata": {},
   "outputs": [],
   "source": [
    "meg_user_int['id']=meg_user_int['id'].str.replace('_','').astype('int')"
   ]
  },
  {
   "cell_type": "code",
   "execution_count": 35,
   "metadata": {},
   "outputs": [
    {
     "data": {
      "text/plain": [
       "0"
      ]
     },
     "execution_count": 35,
     "metadata": {},
     "output_type": "execute_result"
    }
   ],
   "source": [
    "meg_user_calls.duplicated().sum()"
   ]
  },
  {
   "cell_type": "code",
   "execution_count": 36,
   "metadata": {},
   "outputs": [
    {
     "data": {
      "text/plain": [
       "0"
      ]
     },
     "execution_count": 36,
     "metadata": {},
     "output_type": "execute_result"
    }
   ],
   "source": [
    "meg_user_meg.duplicated().sum()"
   ]
  },
  {
   "cell_type": "code",
   "execution_count": 37,
   "metadata": {},
   "outputs": [
    {
     "data": {
      "text/plain": [
       "0"
      ]
     },
     "execution_count": 37,
     "metadata": {},
     "output_type": "execute_result"
    }
   ],
   "source": [
    "meg_user_int.duplicated().sum()"
   ]
  },
  {
   "cell_type": "markdown",
   "metadata": {},
   "source": [
    "### Conclusion \n",
    "As part of the data preparation process, the date columns have all been coverted to datetime format with the month extracted for some of the dataframe for use later. \n",
    "Considering the task at hand, the various dataframes have also been merged with the user details and mb_used for internet usage and duration for calls rounded up as part of company policy. \n",
    "The plan column has also been recoded to make it handy when using for analysis later. Also, there are no duplicates in the dataset."
   ]
  },
  {
   "cell_type": "markdown",
   "metadata": {},
   "source": [
    "## Exploratory Analysis"
   ]
  },
  {
   "cell_type": "code",
   "execution_count": 38,
   "metadata": {},
   "outputs": [
    {
     "data": {
      "text/html": [
       "<div>\n",
       "<style scoped>\n",
       "    .dataframe tbody tr th:only-of-type {\n",
       "        vertical-align: middle;\n",
       "    }\n",
       "\n",
       "    .dataframe tbody tr th {\n",
       "        vertical-align: top;\n",
       "    }\n",
       "\n",
       "    .dataframe thead th {\n",
       "        text-align: right;\n",
       "    }\n",
       "</style>\n",
       "<table border=\"1\" class=\"dataframe\">\n",
       "  <thead>\n",
       "    <tr style=\"text-align: right;\">\n",
       "      <th></th>\n",
       "      <th>user_id</th>\n",
       "      <th>age</th>\n",
       "      <th>plan</th>\n",
       "      <th>id</th>\n",
       "      <th>mb_used</th>\n",
       "      <th>int_month</th>\n",
       "    </tr>\n",
       "  </thead>\n",
       "  <tbody>\n",
       "    <tr>\n",
       "      <td>count</td>\n",
       "      <td>104825.000000</td>\n",
       "      <td>104825.000000</td>\n",
       "      <td>104825.000000</td>\n",
       "      <td>1.048250e+05</td>\n",
       "      <td>104825.000000</td>\n",
       "      <td>104825.000000</td>\n",
       "    </tr>\n",
       "    <tr>\n",
       "      <td>mean</td>\n",
       "      <td>1242.496361</td>\n",
       "      <td>45.623926</td>\n",
       "      <td>0.317090</td>\n",
       "      <td>8.700316e+05</td>\n",
       "      <td>367.142876</td>\n",
       "      <td>9.342552</td>\n",
       "    </tr>\n",
       "    <tr>\n",
       "      <td>std</td>\n",
       "      <td>142.053913</td>\n",
       "      <td>16.666432</td>\n",
       "      <td>0.465345</td>\n",
       "      <td>5.403356e+05</td>\n",
       "      <td>277.256974</td>\n",
       "      <td>2.400404</td>\n",
       "    </tr>\n",
       "    <tr>\n",
       "      <td>min</td>\n",
       "      <td>1000.000000</td>\n",
       "      <td>18.000000</td>\n",
       "      <td>0.000000</td>\n",
       "      <td>1.001000e+04</td>\n",
       "      <td>0.000000</td>\n",
       "      <td>1.000000</td>\n",
       "    </tr>\n",
       "    <tr>\n",
       "      <td>25%</td>\n",
       "      <td>1122.000000</td>\n",
       "      <td>31.000000</td>\n",
       "      <td>0.000000</td>\n",
       "      <td>1.373880e+05</td>\n",
       "      <td>137.000000</td>\n",
       "      <td>8.000000</td>\n",
       "    </tr>\n",
       "    <tr>\n",
       "      <td>50%</td>\n",
       "      <td>1236.000000</td>\n",
       "      <td>46.000000</td>\n",
       "      <td>0.000000</td>\n",
       "      <td>1.122233e+06</td>\n",
       "      <td>344.000000</td>\n",
       "      <td>10.000000</td>\n",
       "    </tr>\n",
       "    <tr>\n",
       "      <td>75%</td>\n",
       "      <td>1367.000000</td>\n",
       "      <td>61.000000</td>\n",
       "      <td>1.000000</td>\n",
       "      <td>1.293618e+06</td>\n",
       "      <td>555.000000</td>\n",
       "      <td>11.000000</td>\n",
       "    </tr>\n",
       "    <tr>\n",
       "      <td>max</td>\n",
       "      <td>1499.000000</td>\n",
       "      <td>75.000000</td>\n",
       "      <td>1.000000</td>\n",
       "      <td>1.499219e+06</td>\n",
       "      <td>1694.000000</td>\n",
       "      <td>12.000000</td>\n",
       "    </tr>\n",
       "  </tbody>\n",
       "</table>\n",
       "</div>"
      ],
      "text/plain": [
       "             user_id            age           plan            id  \\\n",
       "count  104825.000000  104825.000000  104825.000000  1.048250e+05   \n",
       "mean     1242.496361      45.623926       0.317090  8.700316e+05   \n",
       "std       142.053913      16.666432       0.465345  5.403356e+05   \n",
       "min      1000.000000      18.000000       0.000000  1.001000e+04   \n",
       "25%      1122.000000      31.000000       0.000000  1.373880e+05   \n",
       "50%      1236.000000      46.000000       0.000000  1.122233e+06   \n",
       "75%      1367.000000      61.000000       1.000000  1.293618e+06   \n",
       "max      1499.000000      75.000000       1.000000  1.499219e+06   \n",
       "\n",
       "             mb_used      int_month  \n",
       "count  104825.000000  104825.000000  \n",
       "mean      367.142876       9.342552  \n",
       "std       277.256974       2.400404  \n",
       "min         0.000000       1.000000  \n",
       "25%       137.000000       8.000000  \n",
       "50%       344.000000      10.000000  \n",
       "75%       555.000000      11.000000  \n",
       "max      1694.000000      12.000000  "
      ]
     },
     "execution_count": 38,
     "metadata": {},
     "output_type": "execute_result"
    }
   ],
   "source": [
    "meg_user_int.describe()"
   ]
  },
  {
   "cell_type": "code",
   "execution_count": 39,
   "metadata": {},
   "outputs": [],
   "source": [
    "Q1=meg_user_int['mb_used'].quantile(0.25)\n",
    "Q3=meg_user_int['mb_used'].quantile(0.75)\n",
    "IQR = Q3-Q1"
   ]
  },
  {
   "cell_type": "code",
   "execution_count": 40,
   "metadata": {},
   "outputs": [
    {
     "data": {
      "image/png": "[encoded data removed]",
      "text/plain": [
       "<Figure size 432x288 with 1 Axes>"
      ]
     },
     "metadata": {
      "needs_background": "light"
     },
     "output_type": "display_data"
    }
   ],
   "source": [
    "meg_user_int.boxplot('mb_used')\n",
    "plt.hlines(y=[Q1-1.5*IQR],xmin= 0.9,xmax=1.1,color='red')\n",
    "plt.hlines(y=[Q3+1.5*IQR],xmin= 0.9,xmax=1.1,color='red')\n",
    "plt.ylabel('Data Usage')\n",
    "plt.title('Boxplot of data used');"
   ]
  },
  {
   "cell_type": "code",
   "execution_count": 41,
   "metadata": {},
   "outputs": [
    {
     "data": {
      "image/png": "[encoded data removed]",
      "text/plain": [
       "<Figure size 360x360 with 1 Axes>"
      ]
     },
     "metadata": {
      "needs_background": "light"
     },
     "output_type": "display_data"
    }
   ],
   "source": [
    "sns.catplot(x='plan',y='mb_used',kind='box',data= meg_user_int)\n",
    "plt.ylabel('Data used')\n",
    "plt.xlabel('Plan')\n",
    "plt.title('Boxplot: Plot of the different plans against data usaged');"
   ]
  },
  {
   "cell_type": "code",
   "execution_count": 42,
   "metadata": {},
   "outputs": [],
   "source": [
    "meg_user_int= meg_user_int.query('mb_used <=1200')"
   ]
  },
  {
   "cell_type": "code",
   "execution_count": 43,
   "metadata": {},
   "outputs": [
    {
     "data": {
      "text/html": [
       "<div>\n",
       "<style scoped>\n",
       "    .dataframe tbody tr th:only-of-type {\n",
       "        vertical-align: middle;\n",
       "    }\n",
       "\n",
       "    .dataframe tbody tr th {\n",
       "        vertical-align: top;\n",
       "    }\n",
       "\n",
       "    .dataframe thead th {\n",
       "        text-align: right;\n",
       "    }\n",
       "</style>\n",
       "<table border=\"1\" class=\"dataframe\">\n",
       "  <thead>\n",
       "    <tr style=\"text-align: right;\">\n",
       "      <th></th>\n",
       "      <th>user_id</th>\n",
       "      <th>age</th>\n",
       "      <th>plan</th>\n",
       "      <th>id</th>\n",
       "      <th>mess_month</th>\n",
       "    </tr>\n",
       "  </thead>\n",
       "  <tbody>\n",
       "    <tr>\n",
       "      <td>count</td>\n",
       "      <td>76051.000000</td>\n",
       "      <td>76051.000000</td>\n",
       "      <td>76051.000000</td>\n",
       "      <td>7.605100e+04</td>\n",
       "      <td>76051.000000</td>\n",
       "    </tr>\n",
       "    <tr>\n",
       "      <td>mean</td>\n",
       "      <td>1245.972768</td>\n",
       "      <td>45.386675</td>\n",
       "      <td>0.355511</td>\n",
       "      <td>1.087230e+06</td>\n",
       "      <td>9.584016</td>\n",
       "    </tr>\n",
       "    <tr>\n",
       "      <td>std</td>\n",
       "      <td>139.843635</td>\n",
       "      <td>16.969650</td>\n",
       "      <td>0.478671</td>\n",
       "      <td>1.685300e+06</td>\n",
       "      <td>2.276392</td>\n",
       "    </tr>\n",
       "    <tr>\n",
       "      <td>min</td>\n",
       "      <td>1000.000000</td>\n",
       "      <td>18.000000</td>\n",
       "      <td>0.000000</td>\n",
       "      <td>1.001100e+04</td>\n",
       "      <td>1.000000</td>\n",
       "    </tr>\n",
       "    <tr>\n",
       "      <td>25%</td>\n",
       "      <td>1123.000000</td>\n",
       "      <td>31.000000</td>\n",
       "      <td>0.000000</td>\n",
       "      <td>1.347735e+05</td>\n",
       "      <td>8.000000</td>\n",
       "    </tr>\n",
       "    <tr>\n",
       "      <td>50%</td>\n",
       "      <td>1251.000000</td>\n",
       "      <td>45.000000</td>\n",
       "      <td>0.000000</td>\n",
       "      <td>1.120507e+06</td>\n",
       "      <td>10.000000</td>\n",
       "    </tr>\n",
       "    <tr>\n",
       "      <td>75%</td>\n",
       "      <td>1362.000000</td>\n",
       "      <td>61.000000</td>\n",
       "      <td>1.000000</td>\n",
       "      <td>1.328548e+06</td>\n",
       "      <td>12.000000</td>\n",
       "    </tr>\n",
       "    <tr>\n",
       "      <td>max</td>\n",
       "      <td>1497.000000</td>\n",
       "      <td>75.000000</td>\n",
       "      <td>1.000000</td>\n",
       "      <td>1.470106e+07</td>\n",
       "      <td>12.000000</td>\n",
       "    </tr>\n",
       "  </tbody>\n",
       "</table>\n",
       "</div>"
      ],
      "text/plain": [
       "            user_id           age          plan            id    mess_month\n",
       "count  76051.000000  76051.000000  76051.000000  7.605100e+04  76051.000000\n",
       "mean    1245.972768     45.386675      0.355511  1.087230e+06      9.584016\n",
       "std      139.843635     16.969650      0.478671  1.685300e+06      2.276392\n",
       "min     1000.000000     18.000000      0.000000  1.001100e+04      1.000000\n",
       "25%     1123.000000     31.000000      0.000000  1.347735e+05      8.000000\n",
       "50%     1251.000000     45.000000      0.000000  1.120507e+06     10.000000\n",
       "75%     1362.000000     61.000000      1.000000  1.328548e+06     12.000000\n",
       "max     1497.000000     75.000000      1.000000  1.470106e+07     12.000000"
      ]
     },
     "execution_count": 43,
     "metadata": {},
     "output_type": "execute_result"
    }
   ],
   "source": [
    "meg_user_meg.describe()"
   ]
  },
  {
   "cell_type": "code",
   "execution_count": 44,
   "metadata": {},
   "outputs": [
    {
     "data": {
      "text/html": [
       "<div>\n",
       "<style scoped>\n",
       "    .dataframe tbody tr th:only-of-type {\n",
       "        vertical-align: middle;\n",
       "    }\n",
       "\n",
       "    .dataframe tbody tr th {\n",
       "        vertical-align: top;\n",
       "    }\n",
       "\n",
       "    .dataframe thead th {\n",
       "        text-align: right;\n",
       "    }\n",
       "</style>\n",
       "<table border=\"1\" class=\"dataframe\">\n",
       "  <thead>\n",
       "    <tr style=\"text-align: right;\">\n",
       "      <th></th>\n",
       "      <th>user_id</th>\n",
       "      <th>age</th>\n",
       "      <th>plan</th>\n",
       "      <th>duration</th>\n",
       "      <th>call_month</th>\n",
       "    </tr>\n",
       "  </thead>\n",
       "  <tbody>\n",
       "    <tr>\n",
       "      <td>count</td>\n",
       "      <td>137735.000000</td>\n",
       "      <td>137735.000000</td>\n",
       "      <td>137735.000000</td>\n",
       "      <td>137735.000000</td>\n",
       "      <td>137735.000000</td>\n",
       "    </tr>\n",
       "    <tr>\n",
       "      <td>mean</td>\n",
       "      <td>1247.658046</td>\n",
       "      <td>45.459847</td>\n",
       "      <td>0.316920</td>\n",
       "      <td>7.146673</td>\n",
       "      <td>9.320797</td>\n",
       "    </tr>\n",
       "    <tr>\n",
       "      <td>std</td>\n",
       "      <td>139.416268</td>\n",
       "      <td>17.087669</td>\n",
       "      <td>0.465278</td>\n",
       "      <td>5.953919</td>\n",
       "      <td>2.412550</td>\n",
       "    </tr>\n",
       "    <tr>\n",
       "      <td>min</td>\n",
       "      <td>1000.000000</td>\n",
       "      <td>18.000000</td>\n",
       "      <td>0.000000</td>\n",
       "      <td>0.000000</td>\n",
       "      <td>1.000000</td>\n",
       "    </tr>\n",
       "    <tr>\n",
       "      <td>25%</td>\n",
       "      <td>1128.000000</td>\n",
       "      <td>30.000000</td>\n",
       "      <td>0.000000</td>\n",
       "      <td>2.000000</td>\n",
       "      <td>8.000000</td>\n",
       "    </tr>\n",
       "    <tr>\n",
       "      <td>50%</td>\n",
       "      <td>1247.000000</td>\n",
       "      <td>47.000000</td>\n",
       "      <td>0.000000</td>\n",
       "      <td>6.000000</td>\n",
       "      <td>10.000000</td>\n",
       "    </tr>\n",
       "    <tr>\n",
       "      <td>75%</td>\n",
       "      <td>1365.000000</td>\n",
       "      <td>61.000000</td>\n",
       "      <td>1.000000</td>\n",
       "      <td>11.000000</td>\n",
       "      <td>11.000000</td>\n",
       "    </tr>\n",
       "    <tr>\n",
       "      <td>max</td>\n",
       "      <td>1499.000000</td>\n",
       "      <td>75.000000</td>\n",
       "      <td>1.000000</td>\n",
       "      <td>38.000000</td>\n",
       "      <td>12.000000</td>\n",
       "    </tr>\n",
       "  </tbody>\n",
       "</table>\n",
       "</div>"
      ],
      "text/plain": [
       "             user_id            age           plan       duration  \\\n",
       "count  137735.000000  137735.000000  137735.000000  137735.000000   \n",
       "mean     1247.658046      45.459847       0.316920       7.146673   \n",
       "std       139.416268      17.087669       0.465278       5.953919   \n",
       "min      1000.000000      18.000000       0.000000       0.000000   \n",
       "25%      1128.000000      30.000000       0.000000       2.000000   \n",
       "50%      1247.000000      47.000000       0.000000       6.000000   \n",
       "75%      1365.000000      61.000000       1.000000      11.000000   \n",
       "max      1499.000000      75.000000       1.000000      38.000000   \n",
       "\n",
       "          call_month  \n",
       "count  137735.000000  \n",
       "mean        9.320797  \n",
       "std         2.412550  \n",
       "min         1.000000  \n",
       "25%         8.000000  \n",
       "50%        10.000000  \n",
       "75%        11.000000  \n",
       "max        12.000000  "
      ]
     },
     "execution_count": 44,
     "metadata": {},
     "output_type": "execute_result"
    }
   ],
   "source": [
    "meg_user_calls.describe()"
   ]
  },
  {
   "cell_type": "markdown",
   "metadata": {},
   "source": [
    "### Conclusion\n",
    "The age ranges cuts across different age groups from 18 - 75 years with maximum call time being 38 minutes per call recorded as against 0 being the minimum. Where the call either might not have gone through or for some other reason. \n",
    "The data covers from january to december for the year in question and has 1694 as the maximum internet usage.\n",
    "The boxplot above on data usage shows signicant outliers on the upper whiskers with values arround 1200 for both plans. Results beyond 1200 have been removed from the dataset."
   ]
  },
  {
   "cell_type": "markdown",
   "metadata": {},
   "source": [
    "## Other Analysis"
   ]
  },
  {
   "cell_type": "code",
   "execution_count": 45,
   "metadata": {},
   "outputs": [],
   "source": [
    "meg_user_meg_pivoted=pd.DataFrame(meg_user_meg\n",
    "                                  .pivot_table(index=['user_id','mess_month'],\n",
    "                                                           values='id',aggfunc='count')).reset_index(drop=False)"
   ]
  },
  {
   "cell_type": "code",
   "execution_count": 46,
   "metadata": {},
   "outputs": [
    {
     "data": {
      "text/html": [
       "<div>\n",
       "<style scoped>\n",
       "    .dataframe tbody tr th:only-of-type {\n",
       "        vertical-align: middle;\n",
       "    }\n",
       "\n",
       "    .dataframe tbody tr th {\n",
       "        vertical-align: top;\n",
       "    }\n",
       "\n",
       "    .dataframe thead th {\n",
       "        text-align: right;\n",
       "    }\n",
       "</style>\n",
       "<table border=\"1\" class=\"dataframe\">\n",
       "  <thead>\n",
       "    <tr style=\"text-align: right;\">\n",
       "      <th></th>\n",
       "      <th>user_id</th>\n",
       "      <th>mess_month</th>\n",
       "      <th>mess_count</th>\n",
       "    </tr>\n",
       "  </thead>\n",
       "  <tbody>\n",
       "    <tr>\n",
       "      <td>0</td>\n",
       "      <td>1000</td>\n",
       "      <td>12</td>\n",
       "      <td>11</td>\n",
       "    </tr>\n",
       "    <tr>\n",
       "      <td>1</td>\n",
       "      <td>1001</td>\n",
       "      <td>8</td>\n",
       "      <td>30</td>\n",
       "    </tr>\n",
       "    <tr>\n",
       "      <td>2</td>\n",
       "      <td>1001</td>\n",
       "      <td>9</td>\n",
       "      <td>44</td>\n",
       "    </tr>\n",
       "    <tr>\n",
       "      <td>3</td>\n",
       "      <td>1001</td>\n",
       "      <td>10</td>\n",
       "      <td>53</td>\n",
       "    </tr>\n",
       "    <tr>\n",
       "      <td>4</td>\n",
       "      <td>1001</td>\n",
       "      <td>11</td>\n",
       "      <td>36</td>\n",
       "    </tr>\n",
       "  </tbody>\n",
       "</table>\n",
       "</div>"
      ],
      "text/plain": [
       "   user_id  mess_month  mess_count\n",
       "0     1000          12          11\n",
       "1     1001           8          30\n",
       "2     1001           9          44\n",
       "3     1001          10          53\n",
       "4     1001          11          36"
      ]
     },
     "execution_count": 46,
     "metadata": {},
     "output_type": "execute_result"
    }
   ],
   "source": [
    "meg_user_meg_pivoted.columns=['user_id','mess_month','mess_count']\n",
    "meg_user_meg_pivoted.head()"
   ]
  },
  {
   "cell_type": "code",
   "execution_count": 47,
   "metadata": {},
   "outputs": [],
   "source": [
    "meg_user_int_pivoted = pd.DataFrame(meg_user_int\n",
    "                                    .pivot_table(index=['user_id','int_month'], \n",
    "                                                 values='mb_used',aggfunc='sum')).reset_index(drop=False)"
   ]
  },
  {
   "cell_type": "code",
   "execution_count": 48,
   "metadata": {},
   "outputs": [
    {
     "data": {
      "text/html": [
       "<div>\n",
       "<style scoped>\n",
       "    .dataframe tbody tr th:only-of-type {\n",
       "        vertical-align: middle;\n",
       "    }\n",
       "\n",
       "    .dataframe tbody tr th {\n",
       "        vertical-align: top;\n",
       "    }\n",
       "\n",
       "    .dataframe thead th {\n",
       "        text-align: right;\n",
       "    }\n",
       "</style>\n",
       "<table border=\"1\" class=\"dataframe\">\n",
       "  <thead>\n",
       "    <tr style=\"text-align: right;\">\n",
       "      <th></th>\n",
       "      <th>user_id</th>\n",
       "      <th>int_month</th>\n",
       "      <th>total_mb</th>\n",
       "    </tr>\n",
       "  </thead>\n",
       "  <tbody>\n",
       "    <tr>\n",
       "      <td>0</td>\n",
       "      <td>1000</td>\n",
       "      <td>12</td>\n",
       "      <td>1903.0</td>\n",
       "    </tr>\n",
       "    <tr>\n",
       "      <td>1</td>\n",
       "      <td>1001</td>\n",
       "      <td>8</td>\n",
       "      <td>6929.0</td>\n",
       "    </tr>\n",
       "    <tr>\n",
       "      <td>2</td>\n",
       "      <td>1001</td>\n",
       "      <td>9</td>\n",
       "      <td>13333.0</td>\n",
       "    </tr>\n",
       "    <tr>\n",
       "      <td>3</td>\n",
       "      <td>1001</td>\n",
       "      <td>10</td>\n",
       "      <td>22356.0</td>\n",
       "    </tr>\n",
       "    <tr>\n",
       "      <td>4</td>\n",
       "      <td>1001</td>\n",
       "      <td>11</td>\n",
       "      <td>18524.0</td>\n",
       "    </tr>\n",
       "    <tr>\n",
       "      <td>...</td>\n",
       "      <td>...</td>\n",
       "      <td>...</td>\n",
       "      <td>...</td>\n",
       "    </tr>\n",
       "    <tr>\n",
       "      <td>2272</td>\n",
       "      <td>1498</td>\n",
       "      <td>12</td>\n",
       "      <td>23160.0</td>\n",
       "    </tr>\n",
       "    <tr>\n",
       "      <td>2273</td>\n",
       "      <td>1499</td>\n",
       "      <td>9</td>\n",
       "      <td>13004.0</td>\n",
       "    </tr>\n",
       "    <tr>\n",
       "      <td>2274</td>\n",
       "      <td>1499</td>\n",
       "      <td>10</td>\n",
       "      <td>19515.0</td>\n",
       "    </tr>\n",
       "    <tr>\n",
       "      <td>2275</td>\n",
       "      <td>1499</td>\n",
       "      <td>11</td>\n",
       "      <td>15601.0</td>\n",
       "    </tr>\n",
       "    <tr>\n",
       "      <td>2276</td>\n",
       "      <td>1499</td>\n",
       "      <td>12</td>\n",
       "      <td>20646.0</td>\n",
       "    </tr>\n",
       "  </tbody>\n",
       "</table>\n",
       "<p>2277 rows × 3 columns</p>\n",
       "</div>"
      ],
      "text/plain": [
       "      user_id  int_month  total_mb\n",
       "0        1000         12    1903.0\n",
       "1        1001          8    6929.0\n",
       "2        1001          9   13333.0\n",
       "3        1001         10   22356.0\n",
       "4        1001         11   18524.0\n",
       "...       ...        ...       ...\n",
       "2272     1498         12   23160.0\n",
       "2273     1499          9   13004.0\n",
       "2274     1499         10   19515.0\n",
       "2275     1499         11   15601.0\n",
       "2276     1499         12   20646.0\n",
       "\n",
       "[2277 rows x 3 columns]"
      ]
     },
     "execution_count": 48,
     "metadata": {},
     "output_type": "execute_result"
    }
   ],
   "source": [
    "meg_user_int_pivoted.columns=['user_id','int_month','total_mb']\n",
    "meg_user_int_pivoted"
   ]
  },
  {
   "cell_type": "code",
   "execution_count": 49,
   "metadata": {},
   "outputs": [],
   "source": [
    "meg_user_calls_pivoted = pd.DataFrame(meg_user_calls\n",
    "                                      .pivot_table(index=['user_id','call_month'], \n",
    "                                                   values='duration',aggfunc=['count','sum'])).reset_index(drop=False)\n"
   ]
  },
  {
   "cell_type": "code",
   "execution_count": 50,
   "metadata": {},
   "outputs": [
    {
     "data": {
      "text/html": [
       "<div>\n",
       "<style scoped>\n",
       "    .dataframe tbody tr th:only-of-type {\n",
       "        vertical-align: middle;\n",
       "    }\n",
       "\n",
       "    .dataframe tbody tr th {\n",
       "        vertical-align: top;\n",
       "    }\n",
       "\n",
       "    .dataframe thead th {\n",
       "        text-align: right;\n",
       "    }\n",
       "</style>\n",
       "<table border=\"1\" class=\"dataframe\">\n",
       "  <thead>\n",
       "    <tr style=\"text-align: right;\">\n",
       "      <th></th>\n",
       "      <th>user_id</th>\n",
       "      <th>call_month</th>\n",
       "      <th>call_count</th>\n",
       "      <th>total_duration</th>\n",
       "    </tr>\n",
       "  </thead>\n",
       "  <tbody>\n",
       "    <tr>\n",
       "      <td>0</td>\n",
       "      <td>1000</td>\n",
       "      <td>12</td>\n",
       "      <td>16</td>\n",
       "      <td>124.0</td>\n",
       "    </tr>\n",
       "    <tr>\n",
       "      <td>1</td>\n",
       "      <td>1001</td>\n",
       "      <td>8</td>\n",
       "      <td>27</td>\n",
       "      <td>182.0</td>\n",
       "    </tr>\n",
       "    <tr>\n",
       "      <td>2</td>\n",
       "      <td>1001</td>\n",
       "      <td>9</td>\n",
       "      <td>49</td>\n",
       "      <td>315.0</td>\n",
       "    </tr>\n",
       "    <tr>\n",
       "      <td>3</td>\n",
       "      <td>1001</td>\n",
       "      <td>10</td>\n",
       "      <td>65</td>\n",
       "      <td>393.0</td>\n",
       "    </tr>\n",
       "    <tr>\n",
       "      <td>4</td>\n",
       "      <td>1001</td>\n",
       "      <td>11</td>\n",
       "      <td>64</td>\n",
       "      <td>426.0</td>\n",
       "    </tr>\n",
       "    <tr>\n",
       "      <td>...</td>\n",
       "      <td>...</td>\n",
       "      <td>...</td>\n",
       "      <td>...</td>\n",
       "      <td>...</td>\n",
       "    </tr>\n",
       "    <tr>\n",
       "      <td>2253</td>\n",
       "      <td>1498</td>\n",
       "      <td>12</td>\n",
       "      <td>39</td>\n",
       "      <td>339.0</td>\n",
       "    </tr>\n",
       "    <tr>\n",
       "      <td>2254</td>\n",
       "      <td>1499</td>\n",
       "      <td>9</td>\n",
       "      <td>41</td>\n",
       "      <td>346.0</td>\n",
       "    </tr>\n",
       "    <tr>\n",
       "      <td>2255</td>\n",
       "      <td>1499</td>\n",
       "      <td>10</td>\n",
       "      <td>53</td>\n",
       "      <td>385.0</td>\n",
       "    </tr>\n",
       "    <tr>\n",
       "      <td>2256</td>\n",
       "      <td>1499</td>\n",
       "      <td>11</td>\n",
       "      <td>45</td>\n",
       "      <td>308.0</td>\n",
       "    </tr>\n",
       "    <tr>\n",
       "      <td>2257</td>\n",
       "      <td>1499</td>\n",
       "      <td>12</td>\n",
       "      <td>65</td>\n",
       "      <td>496.0</td>\n",
       "    </tr>\n",
       "  </tbody>\n",
       "</table>\n",
       "<p>2258 rows × 4 columns</p>\n",
       "</div>"
      ],
      "text/plain": [
       "      user_id  call_month  call_count  total_duration\n",
       "0        1000          12          16           124.0\n",
       "1        1001           8          27           182.0\n",
       "2        1001           9          49           315.0\n",
       "3        1001          10          65           393.0\n",
       "4        1001          11          64           426.0\n",
       "...       ...         ...         ...             ...\n",
       "2253     1498          12          39           339.0\n",
       "2254     1499           9          41           346.0\n",
       "2255     1499          10          53           385.0\n",
       "2256     1499          11          45           308.0\n",
       "2257     1499          12          65           496.0\n",
       "\n",
       "[2258 rows x 4 columns]"
      ]
     },
     "execution_count": 50,
     "metadata": {},
     "output_type": "execute_result"
    }
   ],
   "source": [
    "meg_user_calls_pivoted.columns=['user_id','call_month','call_count','total_duration']\n",
    "meg_user_calls_pivoted"
   ]
  },
  {
   "cell_type": "code",
   "execution_count": 51,
   "metadata": {},
   "outputs": [],
   "source": [
    "meg_user_agg= (meg_user\n",
    ".join(meg_user_calls_pivoted.groupby('user_id')[['total_duration','call_count']].sum(),on='user_id')\n",
    ".join(meg_user_int_pivoted.groupby('user_id')['total_mb'].sum(),on='user_id')\n",
    ".join(meg_user_meg_pivoted.groupby('user_id')['mess_count'].sum(),on='user_id'))"
   ]
  },
  {
   "cell_type": "code",
   "execution_count": 52,
   "metadata": {},
   "outputs": [
    {
     "data": {
      "text/html": [
       "<div>\n",
       "<style scoped>\n",
       "    .dataframe tbody tr th:only-of-type {\n",
       "        vertical-align: middle;\n",
       "    }\n",
       "\n",
       "    .dataframe tbody tr th {\n",
       "        vertical-align: top;\n",
       "    }\n",
       "\n",
       "    .dataframe thead th {\n",
       "        text-align: right;\n",
       "    }\n",
       "</style>\n",
       "<table border=\"1\" class=\"dataframe\">\n",
       "  <thead>\n",
       "    <tr style=\"text-align: right;\">\n",
       "      <th></th>\n",
       "      <th>user_id</th>\n",
       "      <th>first_name</th>\n",
       "      <th>last_name</th>\n",
       "      <th>age</th>\n",
       "      <th>city</th>\n",
       "      <th>reg_date</th>\n",
       "      <th>plan</th>\n",
       "      <th>churn_date</th>\n",
       "      <th>total_duration</th>\n",
       "      <th>call_count</th>\n",
       "      <th>total_mb</th>\n",
       "      <th>mess_count</th>\n",
       "    </tr>\n",
       "  </thead>\n",
       "  <tbody>\n",
       "    <tr>\n",
       "      <td>0</td>\n",
       "      <td>1000</td>\n",
       "      <td>Anamaria</td>\n",
       "      <td>Bauer</td>\n",
       "      <td>45</td>\n",
       "      <td>Atlanta-Sandy Springs-Roswell, GA MSA</td>\n",
       "      <td>2018-12-24</td>\n",
       "      <td>1</td>\n",
       "      <td>2021-07-27</td>\n",
       "      <td>124.0</td>\n",
       "      <td>16.0</td>\n",
       "      <td>1903.0</td>\n",
       "      <td>11.0</td>\n",
       "    </tr>\n",
       "    <tr>\n",
       "      <td>1</td>\n",
       "      <td>1001</td>\n",
       "      <td>Mickey</td>\n",
       "      <td>Wilkerson</td>\n",
       "      <td>28</td>\n",
       "      <td>Seattle-Tacoma-Bellevue, WA MSA</td>\n",
       "      <td>2018-08-13</td>\n",
       "      <td>0</td>\n",
       "      <td>2021-07-27</td>\n",
       "      <td>1728.0</td>\n",
       "      <td>261.0</td>\n",
       "      <td>80540.0</td>\n",
       "      <td>207.0</td>\n",
       "    </tr>\n",
       "    <tr>\n",
       "      <td>2</td>\n",
       "      <td>1002</td>\n",
       "      <td>Carlee</td>\n",
       "      <td>Hoffman</td>\n",
       "      <td>36</td>\n",
       "      <td>Las Vegas-Henderson-Paradise, NV MSA</td>\n",
       "      <td>2018-10-21</td>\n",
       "      <td>0</td>\n",
       "      <td>2021-07-27</td>\n",
       "      <td>829.0</td>\n",
       "      <td>113.0</td>\n",
       "      <td>40339.0</td>\n",
       "      <td>88.0</td>\n",
       "    </tr>\n",
       "    <tr>\n",
       "      <td>3</td>\n",
       "      <td>1003</td>\n",
       "      <td>Reynaldo</td>\n",
       "      <td>Jenkins</td>\n",
       "      <td>52</td>\n",
       "      <td>Tulsa, OK MSA</td>\n",
       "      <td>2018-01-28</td>\n",
       "      <td>0</td>\n",
       "      <td>2021-07-27</td>\n",
       "      <td>1104.0</td>\n",
       "      <td>149.0</td>\n",
       "      <td>24625.0</td>\n",
       "      <td>50.0</td>\n",
       "    </tr>\n",
       "    <tr>\n",
       "      <td>4</td>\n",
       "      <td>1004</td>\n",
       "      <td>Leonila</td>\n",
       "      <td>Thompson</td>\n",
       "      <td>40</td>\n",
       "      <td>Seattle-Tacoma-Bellevue, WA MSA</td>\n",
       "      <td>2018-05-23</td>\n",
       "      <td>0</td>\n",
       "      <td>2021-07-27</td>\n",
       "      <td>2772.0</td>\n",
       "      <td>370.0</td>\n",
       "      <td>156548.0</td>\n",
       "      <td>177.0</td>\n",
       "    </tr>\n",
       "  </tbody>\n",
       "</table>\n",
       "</div>"
      ],
      "text/plain": [
       "   user_id first_name  last_name  age                                   city  \\\n",
       "0     1000   Anamaria      Bauer   45  Atlanta-Sandy Springs-Roswell, GA MSA   \n",
       "1     1001     Mickey  Wilkerson   28        Seattle-Tacoma-Bellevue, WA MSA   \n",
       "2     1002     Carlee    Hoffman   36   Las Vegas-Henderson-Paradise, NV MSA   \n",
       "3     1003   Reynaldo    Jenkins   52                          Tulsa, OK MSA   \n",
       "4     1004    Leonila   Thompson   40        Seattle-Tacoma-Bellevue, WA MSA   \n",
       "\n",
       "    reg_date  plan churn_date  total_duration  call_count  total_mb  \\\n",
       "0 2018-12-24     1 2021-07-27           124.0        16.0    1903.0   \n",
       "1 2018-08-13     0 2021-07-27          1728.0       261.0   80540.0   \n",
       "2 2018-10-21     0 2021-07-27           829.0       113.0   40339.0   \n",
       "3 2018-01-28     0 2021-07-27          1104.0       149.0   24625.0   \n",
       "4 2018-05-23     0 2021-07-27          2772.0       370.0  156548.0   \n",
       "\n",
       "   mess_count  \n",
       "0        11.0  \n",
       "1       207.0  \n",
       "2        88.0  \n",
       "3        50.0  \n",
       "4       177.0  "
      ]
     },
     "execution_count": 52,
     "metadata": {},
     "output_type": "execute_result"
    }
   ],
   "source": [
    "meg_user_agg.head()"
   ]
  },
  {
   "cell_type": "code",
   "execution_count": 53,
   "metadata": {},
   "outputs": [],
   "source": [
    "def cal_extra_minute(row):\n",
    "    plan=row['plan']\n",
    "    total_duration=row['total_duration']\n",
    "    if plan==1 and total_duration >3000:\n",
    "        return (total_duration-3000)*0.01\n",
    "    elif plan==0 and total_duration >500:\n",
    "        return (total_duration-500)*0.03\n",
    "    else:\n",
    "        return 0\n",
    "meg_user_agg['extra_minute'] =meg_user_agg.apply(cal_extra_minute,axis=1)"
   ]
  },
  {
   "cell_type": "code",
   "execution_count": 54,
   "metadata": {},
   "outputs": [],
   "source": [
    "def cal_extra_meg(row):\n",
    "    plan=row['plan']\n",
    "    mess_count=row['mess_count']\n",
    "    if plan==1 and mess_count > 1000:\n",
    "        return (mess_count-1000)*0.01\n",
    "    elif plan==0 and mess_count >50:\n",
    "        return (mess_count-50)*0.03\n",
    "    else:\n",
    "        return 0\n",
    "meg_user_agg['extra_meg'] =meg_user_agg.apply(cal_extra_minute,axis=1)"
   ]
  },
  {
   "cell_type": "code",
   "execution_count": 55,
   "metadata": {},
   "outputs": [],
   "source": [
    "def cal_extra_data(row):\n",
    "    plan=row['plan']\n",
    "    total_mb=row['total_mb']/1025\n",
    "    if plan==1 and total_mb > 30:\n",
    "        return (total_mb-30)*0.07\n",
    "    elif plan==0 and total_mb > 15:\n",
    "        return (total_mb-15)*0.1\n",
    "    else:\n",
    "        return 0\n",
    "meg_user_agg['extra_data'] =meg_user_agg.apply(cal_extra_minute,axis=1)"
   ]
  },
  {
   "cell_type": "code",
   "execution_count": 56,
   "metadata": {},
   "outputs": [
    {
     "data": {
      "text/html": [
       "<div>\n",
       "<style scoped>\n",
       "    .dataframe tbody tr th:only-of-type {\n",
       "        vertical-align: middle;\n",
       "    }\n",
       "\n",
       "    .dataframe tbody tr th {\n",
       "        vertical-align: top;\n",
       "    }\n",
       "\n",
       "    .dataframe thead th {\n",
       "        text-align: right;\n",
       "    }\n",
       "</style>\n",
       "<table border=\"1\" class=\"dataframe\">\n",
       "  <thead>\n",
       "    <tr style=\"text-align: right;\">\n",
       "      <th></th>\n",
       "      <th>user_id</th>\n",
       "      <th>first_name</th>\n",
       "      <th>last_name</th>\n",
       "      <th>age</th>\n",
       "      <th>city</th>\n",
       "      <th>reg_date</th>\n",
       "      <th>plan</th>\n",
       "      <th>churn_date</th>\n",
       "      <th>total_duration</th>\n",
       "      <th>call_count</th>\n",
       "      <th>total_mb</th>\n",
       "      <th>mess_count</th>\n",
       "      <th>extra_minute</th>\n",
       "      <th>extra_meg</th>\n",
       "      <th>extra_data</th>\n",
       "    </tr>\n",
       "  </thead>\n",
       "  <tbody>\n",
       "    <tr>\n",
       "      <td>495</td>\n",
       "      <td>1495</td>\n",
       "      <td>Fidel</td>\n",
       "      <td>Sharpe</td>\n",
       "      <td>67</td>\n",
       "      <td>New York-Newark-Jersey City, NY-NJ-PA MSA</td>\n",
       "      <td>2018-09-04</td>\n",
       "      <td>0</td>\n",
       "      <td>2021-07-27</td>\n",
       "      <td>1765.0</td>\n",
       "      <td>253.0</td>\n",
       "      <td>99010.0</td>\n",
       "      <td>NaN</td>\n",
       "      <td>37.95</td>\n",
       "      <td>37.95</td>\n",
       "      <td>37.95</td>\n",
       "    </tr>\n",
       "    <tr>\n",
       "      <td>496</td>\n",
       "      <td>1496</td>\n",
       "      <td>Ariel</td>\n",
       "      <td>Shepherd</td>\n",
       "      <td>49</td>\n",
       "      <td>New Orleans-Metairie, LA MSA</td>\n",
       "      <td>2018-02-20</td>\n",
       "      <td>0</td>\n",
       "      <td>2021-07-27</td>\n",
       "      <td>1455.0</td>\n",
       "      <td>195.0</td>\n",
       "      <td>64357.0</td>\n",
       "      <td>65.0</td>\n",
       "      <td>28.65</td>\n",
       "      <td>28.65</td>\n",
       "      <td>28.65</td>\n",
       "    </tr>\n",
       "    <tr>\n",
       "      <td>497</td>\n",
       "      <td>1497</td>\n",
       "      <td>Donte</td>\n",
       "      <td>Barrera</td>\n",
       "      <td>49</td>\n",
       "      <td>Los Angeles-Long Beach-Anaheim, CA MSA</td>\n",
       "      <td>2018-12-10</td>\n",
       "      <td>1</td>\n",
       "      <td>2021-07-27</td>\n",
       "      <td>300.0</td>\n",
       "      <td>54.0</td>\n",
       "      <td>9898.0</td>\n",
       "      <td>50.0</td>\n",
       "      <td>0.00</td>\n",
       "      <td>0.00</td>\n",
       "      <td>0.00</td>\n",
       "    </tr>\n",
       "    <tr>\n",
       "      <td>498</td>\n",
       "      <td>1498</td>\n",
       "      <td>Scot</td>\n",
       "      <td>Williamson</td>\n",
       "      <td>51</td>\n",
       "      <td>New York-Newark-Jersey City, NY-NJ-PA MSA</td>\n",
       "      <td>2018-02-04</td>\n",
       "      <td>0</td>\n",
       "      <td>2021-07-27</td>\n",
       "      <td>3211.0</td>\n",
       "      <td>451.0</td>\n",
       "      <td>227798.0</td>\n",
       "      <td>NaN</td>\n",
       "      <td>81.33</td>\n",
       "      <td>81.33</td>\n",
       "      <td>81.33</td>\n",
       "    </tr>\n",
       "    <tr>\n",
       "      <td>499</td>\n",
       "      <td>1499</td>\n",
       "      <td>Shena</td>\n",
       "      <td>Dickson</td>\n",
       "      <td>37</td>\n",
       "      <td>Orlando-Kissimmee-Sanford, FL MSA</td>\n",
       "      <td>2018-05-06</td>\n",
       "      <td>0</td>\n",
       "      <td>2021-07-27</td>\n",
       "      <td>1535.0</td>\n",
       "      <td>204.0</td>\n",
       "      <td>68766.0</td>\n",
       "      <td>NaN</td>\n",
       "      <td>31.05</td>\n",
       "      <td>31.05</td>\n",
       "      <td>31.05</td>\n",
       "    </tr>\n",
       "  </tbody>\n",
       "</table>\n",
       "</div>"
      ],
      "text/plain": [
       "     user_id first_name   last_name  age  \\\n",
       "495     1495      Fidel      Sharpe   67   \n",
       "496     1496      Ariel    Shepherd   49   \n",
       "497     1497      Donte     Barrera   49   \n",
       "498     1498       Scot  Williamson   51   \n",
       "499     1499      Shena     Dickson   37   \n",
       "\n",
       "                                          city   reg_date  plan churn_date  \\\n",
       "495  New York-Newark-Jersey City, NY-NJ-PA MSA 2018-09-04     0 2021-07-27   \n",
       "496               New Orleans-Metairie, LA MSA 2018-02-20     0 2021-07-27   \n",
       "497     Los Angeles-Long Beach-Anaheim, CA MSA 2018-12-10     1 2021-07-27   \n",
       "498  New York-Newark-Jersey City, NY-NJ-PA MSA 2018-02-04     0 2021-07-27   \n",
       "499          Orlando-Kissimmee-Sanford, FL MSA 2018-05-06     0 2021-07-27   \n",
       "\n",
       "     total_duration  call_count  total_mb  mess_count  extra_minute  \\\n",
       "495          1765.0       253.0   99010.0         NaN         37.95   \n",
       "496          1455.0       195.0   64357.0        65.0         28.65   \n",
       "497           300.0        54.0    9898.0        50.0          0.00   \n",
       "498          3211.0       451.0  227798.0         NaN         81.33   \n",
       "499          1535.0       204.0   68766.0         NaN         31.05   \n",
       "\n",
       "     extra_meg  extra_data  \n",
       "495      37.95       37.95  \n",
       "496      28.65       28.65  \n",
       "497       0.00        0.00  \n",
       "498      81.33       81.33  \n",
       "499      31.05       31.05  "
      ]
     },
     "execution_count": 56,
     "metadata": {},
     "output_type": "execute_result"
    }
   ],
   "source": [
    "meg_user_agg.tail()"
   ]
  },
  {
   "cell_type": "code",
   "execution_count": 57,
   "metadata": {},
   "outputs": [
    {
     "data": {
      "text/plain": [
       "0    339\n",
       "1    161\n",
       "Name: plan, dtype: int64"
      ]
     },
     "execution_count": 57,
     "metadata": {},
     "output_type": "execute_result"
    }
   ],
   "source": [
    "meg_user_agg.plan.value_counts()"
   ]
  },
  {
   "cell_type": "code",
   "execution_count": 58,
   "metadata": {},
   "outputs": [],
   "source": [
    "meg_user_agg['total_profit']= (meg_user_agg['extra_data']+meg_user_agg['extra_minute']+meg_user_agg['extra_meg'])+ (161*70 +339*50)"
   ]
  },
  {
   "cell_type": "code",
   "execution_count": 59,
   "metadata": {},
   "outputs": [],
   "source": [
    "month =12"
   ]
  },
  {
   "cell_type": "code",
   "execution_count": 60,
   "metadata": {},
   "outputs": [],
   "source": [
    "meg_user_agg['minute_per_month'] =meg_user_agg['total_duration']/month\n",
    "meg_user_agg['text_per_month'] = meg_user_agg['mess_count']/month\n",
    "meg_user_agg['data_per_month']= meg_user_agg['total_mb']/month\n",
    "meg_user_agg['profit_per_month'] = meg_user_agg['total_profit']/month"
   ]
  },
  {
   "cell_type": "code",
   "execution_count": 61,
   "metadata": {},
   "outputs": [
    {
     "data": {
      "text/html": [
       "<div>\n",
       "<style scoped>\n",
       "    .dataframe tbody tr th:only-of-type {\n",
       "        vertical-align: middle;\n",
       "    }\n",
       "\n",
       "    .dataframe tbody tr th {\n",
       "        vertical-align: top;\n",
       "    }\n",
       "\n",
       "    .dataframe thead th {\n",
       "        text-align: right;\n",
       "    }\n",
       "</style>\n",
       "<table border=\"1\" class=\"dataframe\">\n",
       "  <thead>\n",
       "    <tr style=\"text-align: right;\">\n",
       "      <th></th>\n",
       "      <th>user_id</th>\n",
       "      <th>first_name</th>\n",
       "      <th>last_name</th>\n",
       "      <th>age</th>\n",
       "      <th>city</th>\n",
       "      <th>reg_date</th>\n",
       "      <th>plan</th>\n",
       "      <th>churn_date</th>\n",
       "      <th>total_duration</th>\n",
       "      <th>call_count</th>\n",
       "      <th>total_mb</th>\n",
       "      <th>mess_count</th>\n",
       "      <th>extra_minute</th>\n",
       "      <th>extra_meg</th>\n",
       "      <th>extra_data</th>\n",
       "      <th>total_profit</th>\n",
       "      <th>minute_per_month</th>\n",
       "      <th>text_per_month</th>\n",
       "      <th>data_per_month</th>\n",
       "      <th>profit_per_month</th>\n",
       "    </tr>\n",
       "  </thead>\n",
       "  <tbody>\n",
       "    <tr>\n",
       "      <td>0</td>\n",
       "      <td>1000</td>\n",
       "      <td>Anamaria</td>\n",
       "      <td>Bauer</td>\n",
       "      <td>45</td>\n",
       "      <td>Atlanta-Sandy Springs-Roswell, GA MSA</td>\n",
       "      <td>2018-12-24</td>\n",
       "      <td>1</td>\n",
       "      <td>2021-07-27</td>\n",
       "      <td>124.0</td>\n",
       "      <td>16.0</td>\n",
       "      <td>1903.0</td>\n",
       "      <td>11.0</td>\n",
       "      <td>0.00</td>\n",
       "      <td>0.00</td>\n",
       "      <td>0.00</td>\n",
       "      <td>28220.00</td>\n",
       "      <td>10.333333</td>\n",
       "      <td>0.916667</td>\n",
       "      <td>158.583333</td>\n",
       "      <td>2351.666667</td>\n",
       "    </tr>\n",
       "    <tr>\n",
       "      <td>1</td>\n",
       "      <td>1001</td>\n",
       "      <td>Mickey</td>\n",
       "      <td>Wilkerson</td>\n",
       "      <td>28</td>\n",
       "      <td>Seattle-Tacoma-Bellevue, WA MSA</td>\n",
       "      <td>2018-08-13</td>\n",
       "      <td>0</td>\n",
       "      <td>2021-07-27</td>\n",
       "      <td>1728.0</td>\n",
       "      <td>261.0</td>\n",
       "      <td>80540.0</td>\n",
       "      <td>207.0</td>\n",
       "      <td>36.84</td>\n",
       "      <td>36.84</td>\n",
       "      <td>36.84</td>\n",
       "      <td>28330.52</td>\n",
       "      <td>144.000000</td>\n",
       "      <td>17.250000</td>\n",
       "      <td>6711.666667</td>\n",
       "      <td>2360.876667</td>\n",
       "    </tr>\n",
       "    <tr>\n",
       "      <td>2</td>\n",
       "      <td>1002</td>\n",
       "      <td>Carlee</td>\n",
       "      <td>Hoffman</td>\n",
       "      <td>36</td>\n",
       "      <td>Las Vegas-Henderson-Paradise, NV MSA</td>\n",
       "      <td>2018-10-21</td>\n",
       "      <td>0</td>\n",
       "      <td>2021-07-27</td>\n",
       "      <td>829.0</td>\n",
       "      <td>113.0</td>\n",
       "      <td>40339.0</td>\n",
       "      <td>88.0</td>\n",
       "      <td>9.87</td>\n",
       "      <td>9.87</td>\n",
       "      <td>9.87</td>\n",
       "      <td>28249.61</td>\n",
       "      <td>69.083333</td>\n",
       "      <td>7.333333</td>\n",
       "      <td>3361.583333</td>\n",
       "      <td>2354.134167</td>\n",
       "    </tr>\n",
       "    <tr>\n",
       "      <td>3</td>\n",
       "      <td>1003</td>\n",
       "      <td>Reynaldo</td>\n",
       "      <td>Jenkins</td>\n",
       "      <td>52</td>\n",
       "      <td>Tulsa, OK MSA</td>\n",
       "      <td>2018-01-28</td>\n",
       "      <td>0</td>\n",
       "      <td>2021-07-27</td>\n",
       "      <td>1104.0</td>\n",
       "      <td>149.0</td>\n",
       "      <td>24625.0</td>\n",
       "      <td>50.0</td>\n",
       "      <td>18.12</td>\n",
       "      <td>18.12</td>\n",
       "      <td>18.12</td>\n",
       "      <td>28274.36</td>\n",
       "      <td>92.000000</td>\n",
       "      <td>4.166667</td>\n",
       "      <td>2052.083333</td>\n",
       "      <td>2356.196667</td>\n",
       "    </tr>\n",
       "    <tr>\n",
       "      <td>4</td>\n",
       "      <td>1004</td>\n",
       "      <td>Leonila</td>\n",
       "      <td>Thompson</td>\n",
       "      <td>40</td>\n",
       "      <td>Seattle-Tacoma-Bellevue, WA MSA</td>\n",
       "      <td>2018-05-23</td>\n",
       "      <td>0</td>\n",
       "      <td>2021-07-27</td>\n",
       "      <td>2772.0</td>\n",
       "      <td>370.0</td>\n",
       "      <td>156548.0</td>\n",
       "      <td>177.0</td>\n",
       "      <td>68.16</td>\n",
       "      <td>68.16</td>\n",
       "      <td>68.16</td>\n",
       "      <td>28424.48</td>\n",
       "      <td>231.000000</td>\n",
       "      <td>14.750000</td>\n",
       "      <td>13045.666667</td>\n",
       "      <td>2368.706667</td>\n",
       "    </tr>\n",
       "  </tbody>\n",
       "</table>\n",
       "</div>"
      ],
      "text/plain": [
       "   user_id first_name  last_name  age                                   city  \\\n",
       "0     1000   Anamaria      Bauer   45  Atlanta-Sandy Springs-Roswell, GA MSA   \n",
       "1     1001     Mickey  Wilkerson   28        Seattle-Tacoma-Bellevue, WA MSA   \n",
       "2     1002     Carlee    Hoffman   36   Las Vegas-Henderson-Paradise, NV MSA   \n",
       "3     1003   Reynaldo    Jenkins   52                          Tulsa, OK MSA   \n",
       "4     1004    Leonila   Thompson   40        Seattle-Tacoma-Bellevue, WA MSA   \n",
       "\n",
       "    reg_date  plan churn_date  total_duration  call_count  total_mb  \\\n",
       "0 2018-12-24     1 2021-07-27           124.0        16.0    1903.0   \n",
       "1 2018-08-13     0 2021-07-27          1728.0       261.0   80540.0   \n",
       "2 2018-10-21     0 2021-07-27           829.0       113.0   40339.0   \n",
       "3 2018-01-28     0 2021-07-27          1104.0       149.0   24625.0   \n",
       "4 2018-05-23     0 2021-07-27          2772.0       370.0  156548.0   \n",
       "\n",
       "   mess_count  extra_minute  extra_meg  extra_data  total_profit  \\\n",
       "0        11.0          0.00       0.00        0.00      28220.00   \n",
       "1       207.0         36.84      36.84       36.84      28330.52   \n",
       "2        88.0          9.87       9.87        9.87      28249.61   \n",
       "3        50.0         18.12      18.12       18.12      28274.36   \n",
       "4       177.0         68.16      68.16       68.16      28424.48   \n",
       "\n",
       "   minute_per_month  text_per_month  data_per_month  profit_per_month  \n",
       "0         10.333333        0.916667      158.583333       2351.666667  \n",
       "1        144.000000       17.250000     6711.666667       2360.876667  \n",
       "2         69.083333        7.333333     3361.583333       2354.134167  \n",
       "3         92.000000        4.166667     2052.083333       2356.196667  \n",
       "4        231.000000       14.750000    13045.666667       2368.706667  "
      ]
     },
     "execution_count": 61,
     "metadata": {},
     "output_type": "execute_result"
    }
   ],
   "source": [
    "meg_user_agg.head()"
   ]
  },
  {
   "cell_type": "markdown",
   "metadata": {},
   "source": [
    "### Conclusion\n",
    "With the use of the pivot table, we are able to group the data to aggregate to true number of messages sent per user, actual minutes used per user and number of messages sent per user for their respective months. \n",
    "The pivot tables were finally merged to give a complete overview of user details to enable us determine:\n",
    "    * whether a user exceeded their allocated minutes,data and text messages, and also\n",
    "    * help us calculate the extra charge and expected profit per plan.\n",
    "By the analysis, It's eveident that, some customers did indeed exceed their allocated package per plan ad there are more surf users in the dataset than ultimate users. "
   ]
  },
  {
   "cell_type": "code",
   "execution_count": 62,
   "metadata": {},
   "outputs": [],
   "source": [
    "meg_user_agg_sub = {'minute_per_month':'minute_per_month','text_per_month':'text_per_month','data_per_month':'data_per_month','profit_per_month':'profit_per_month'}"
   ]
  },
  {
   "cell_type": "code",
   "execution_count": 63,
   "metadata": {},
   "outputs": [],
   "source": [
    "def plot_graph(meg_user_agg,meg_user_agg_sub=meg_user_agg_sub):\n",
    "    \"\"\" Takes two parameters and returns a graph comparing both \n",
    "        plans (ultimate and surf) for all parameters set in meg_user_sub.\n",
    "    \"\"\"\n",
    "    ultimate=meg_user_agg[meg_user_agg['plan']==1]\n",
    "    surf=meg_user_agg[meg_user_agg['plan']==0]\n",
    "    for col, title in meg_user_agg_sub.items():\n",
    "        plt.hist(surf[col],alpha=0.5,label=f' surf {col}')\n",
    "        plt.hist(ultimate[col],alpha=0.5,label=f' ultimate {col}')\n",
    "        plt.xlabel(f'{col}')\n",
    "        plt.ylabel('Count') \n",
    "        plt.title(f'Distribution of {col} per plan')\n",
    "        plt.legend()\n",
    "        plt.show()"
   ]
  },
  {
   "cell_type": "code",
   "execution_count": 64,
   "metadata": {
    "scrolled": false
   },
   "outputs": [
    {
     "data": {
      "image/png": "[encoded data removed]",
      "text/plain": [
       "<Figure size 432x288 with 1 Axes>"
      ]
     },
     "metadata": {
      "needs_background": "light"
     },
     "output_type": "display_data"
    },
    {
     "data": {
      "image/png": "[encoded data removed]",
      "text/plain": [
       "<Figure size 432x288 with 1 Axes>"
      ]
     },
     "metadata": {
      "needs_background": "light"
     },
     "output_type": "display_data"
    },
    {
     "data": {
      "image/png": "[encoded data removed]",
      "text/plain": [
       "<Figure size 432x288 with 1 Axes>"
      ]
     },
     "metadata": {
      "needs_background": "light"
     },
     "output_type": "display_data"
    },
    {
     "data": {
      "image/png": "[encoded data removed]",
      "text/plain": [
       "<Figure size 432x288 with 1 Axes>"
      ]
     },
     "metadata": {
      "needs_background": "light"
     },
     "output_type": "display_data"
    }
   ],
   "source": [
    "plot_graph(meg_user_agg)"
   ]
  },
  {
   "cell_type": "code",
   "execution_count": 65,
   "metadata": {},
   "outputs": [],
   "source": [
    "stat= meg_user_agg[['minute_per_month','text_per_month','data_per_month','plan','profit_per_month']]"
   ]
  },
  {
   "cell_type": "code",
   "execution_count": 66,
   "metadata": {},
   "outputs": [
    {
     "data": {
      "text/html": [
       "<div>\n",
       "<style scoped>\n",
       "    .dataframe tbody tr th:only-of-type {\n",
       "        vertical-align: middle;\n",
       "    }\n",
       "\n",
       "    .dataframe tbody tr th {\n",
       "        vertical-align: top;\n",
       "    }\n",
       "\n",
       "    .dataframe thead tr th {\n",
       "        text-align: left;\n",
       "    }\n",
       "\n",
       "    .dataframe thead tr:last-of-type th {\n",
       "        text-align: right;\n",
       "    }\n",
       "</style>\n",
       "<table border=\"1\" class=\"dataframe\">\n",
       "  <thead>\n",
       "    <tr>\n",
       "      <th></th>\n",
       "      <th colspan=\"3\" halign=\"left\">minute_per_month</th>\n",
       "      <th colspan=\"3\" halign=\"left\">text_per_month</th>\n",
       "      <th colspan=\"3\" halign=\"left\">data_per_month</th>\n",
       "      <th colspan=\"3\" halign=\"left\">profit_per_month</th>\n",
       "    </tr>\n",
       "    <tr>\n",
       "      <th></th>\n",
       "      <th>mean</th>\n",
       "      <th>var</th>\n",
       "      <th>std</th>\n",
       "      <th>mean</th>\n",
       "      <th>var</th>\n",
       "      <th>std</th>\n",
       "      <th>mean</th>\n",
       "      <th>var</th>\n",
       "      <th>std</th>\n",
       "      <th>mean</th>\n",
       "      <th>var</th>\n",
       "      <th>std</th>\n",
       "    </tr>\n",
       "    <tr>\n",
       "      <th>plan</th>\n",
       "      <th></th>\n",
       "      <th></th>\n",
       "      <th></th>\n",
       "      <th></th>\n",
       "      <th></th>\n",
       "      <th></th>\n",
       "      <th></th>\n",
       "      <th></th>\n",
       "      <th></th>\n",
       "      <th></th>\n",
       "      <th></th>\n",
       "      <th></th>\n",
       "    </tr>\n",
       "  </thead>\n",
       "  <tbody>\n",
       "    <tr>\n",
       "      <td>0</td>\n",
       "      <td>172.40</td>\n",
       "      <td>20359.61</td>\n",
       "      <td>142.69</td>\n",
       "      <td>15.13</td>\n",
       "      <td>244.17</td>\n",
       "      <td>15.63</td>\n",
       "      <td>6470.04</td>\n",
       "      <td>24178662.83</td>\n",
       "      <td>4917.18</td>\n",
       "      <td>2363.24</td>\n",
       "      <td>157.13</td>\n",
       "      <td>12.54</td>\n",
       "    </tr>\n",
       "    <tr>\n",
       "      <td>1</td>\n",
       "      <td>166.63</td>\n",
       "      <td>19969.30</td>\n",
       "      <td>141.31</td>\n",
       "      <td>17.07</td>\n",
       "      <td>281.40</td>\n",
       "      <td>16.77</td>\n",
       "      <td>6494.70</td>\n",
       "      <td>29576630.61</td>\n",
       "      <td>5438.44</td>\n",
       "      <td>2352.51</td>\n",
       "      <td>5.15</td>\n",
       "      <td>2.27</td>\n",
       "    </tr>\n",
       "  </tbody>\n",
       "</table>\n",
       "</div>"
      ],
      "text/plain": [
       "     minute_per_month                   text_per_month                 \\\n",
       "                 mean       var     std           mean     var    std   \n",
       "plan                                                                    \n",
       "0              172.40  20359.61  142.69          15.13  244.17  15.63   \n",
       "1              166.63  19969.30  141.31          17.07  281.40  16.77   \n",
       "\n",
       "     data_per_month                       profit_per_month                 \n",
       "               mean          var      std             mean     var    std  \n",
       "plan                                                                       \n",
       "0           6470.04  24178662.83  4917.18          2363.24  157.13  12.54  \n",
       "1           6494.70  29576630.61  5438.44          2352.51    5.15   2.27  "
      ]
     },
     "execution_count": 66,
     "metadata": {},
     "output_type": "execute_result"
    }
   ],
   "source": [
    "pd.DataFrame(stat.groupby('plan')[['minute_per_month','text_per_month','data_per_month','profit_per_month']].agg(['mean','var','std']).round(2))"
   ]
  },
  {
   "cell_type": "markdown",
   "metadata": {},
   "source": [
    "### Conclusion\n",
    "The histograms for call/minutes, text and data usage per month are right skewed with significant outliers for text for both plans. Surf plan has the highest peak in all three graphs.\n",
    "\n",
    "Despite the proportion of the different plans in this dataset, it is evident that, ultimate is much more profitable and with less variability in profit than surf. \n",
    "\n",
    "The calculation of mean, variance and standard deviation for both plan show little difference  in customers call time spent. They have a mean of 172 and 166 for ultimate(1) and surf(0). This closed difference is evident in the variance and standard deviation on the spread of the data. Something which is not so clear when viewing the histogram. The significant variation is clear with the data usage as those on ultimate turn to use more data relative to their plan despite having almost the same mean value as surf users. "
   ]
  },
  {
   "cell_type": "markdown",
   "metadata": {},
   "source": [
    "## Hypothesis Testing"
   ]
  },
  {
   "cell_type": "markdown",
   "metadata": {},
   "source": [
    "**Null hypothesis:** That the average profit from the two plans are the same.\n",
    "\n",
    "**Altenative hypothesis:** That the average profit from the two plans are different."
   ]
  },
  {
   "cell_type": "code",
   "execution_count": 67,
   "metadata": {},
   "outputs": [],
   "source": [
    "ultimate = meg_user_agg[meg_user_agg['plan']==1]['profit_per_month']\n",
    "surf = meg_user_agg[meg_user_agg['plan']==0]['profit_per_month']"
   ]
  },
  {
   "cell_type": "code",
   "execution_count": 68,
   "metadata": {},
   "outputs": [
    {
     "name": "stdout",
     "output_type": "stream",
     "text": [
      "pvalue: 1.7874457293455437e-24\n",
      "We reject the null hypothesis: Average profit is different for the two plans.\n"
     ]
    }
   ],
   "source": [
    "alpha=0.5\n",
    "results = st.ttest_ind(ultimate,surf,equal_var=True)\n",
    "print('pvalue:', results.pvalue)\n",
    "\n",
    "if results.pvalue < alpha:\n",
    "    print(\"We reject the null hypothesis: Average profit is different for the two plans.\")\n",
    "else:\n",
    "    print(\"We can't reject the null hypothesis: Average profit is the same for the two plans.\")"
   ]
  },
  {
   "cell_type": "markdown",
   "metadata": {},
   "source": [
    "**Null hypothesis:** That the average profit from NY-NJ are the same relative to the entire population sample.\n",
    "\n",
    "**Altenative hypothesis:** That the average profit from NY-NJ are different relative to the entire population sample."
   ]
  },
  {
   "cell_type": "code",
   "execution_count": 69,
   "metadata": {
    "scrolled": true
   },
   "outputs": [
    {
     "data": {
      "text/plain": [
       "array(['Atlanta-Sandy Springs-Roswell, GA MSA',\n",
       "       'Seattle-Tacoma-Bellevue, WA MSA',\n",
       "       'Las Vegas-Henderson-Paradise, NV MSA', 'Tulsa, OK MSA',\n",
       "       'Dallas-Fort Worth-Arlington, TX MSA',\n",
       "       'San Francisco-Oakland-Berkeley, CA MSA',\n",
       "       'Grand Rapids-Kentwood, MI MSA',\n",
       "       'Orlando-Kissimmee-Sanford, FL MSA',\n",
       "       'San Jose-Sunnyvale-Santa Clara, CA MSA',\n",
       "       'Cleveland-Elyria, OH MSA',\n",
       "       'Chicago-Naperville-Elgin, IL-IN-WI MSA', 'Knoxville, TN MSA',\n",
       "       'New York-Newark-Jersey City, NY-NJ-PA MSA', 'Pittsburgh, PA MSA',\n",
       "       'Fresno, CA MSA',\n",
       "       'Washington-Arlington-Alexandria, DC-VA-MD-WV MSA',\n",
       "       'Indianapolis-Carmel-Anderson, IN MSA', 'Jacksonville, FL MSA',\n",
       "       'Los Angeles-Long Beach-Anaheim, CA MSA',\n",
       "       'Omaha-Council Bluffs, NE-IA MSA',\n",
       "       'Houston-The Woodlands-Sugar Land, TX MSA',\n",
       "       'Philadelphia-Camden-Wilmington, PA-NJ-DE-MD MSA',\n",
       "       'Tampa-St. Petersburg-Clearwater, FL MSA',\n",
       "       'Birmingham-Hoover, AL MSA', 'Oklahoma City, OK MSA',\n",
       "       'Charlotte-Concord-Gastonia, NC-SC MSA',\n",
       "       'Denver-Aurora-Lakewood, CO MSA',\n",
       "       'Nashville-Davidson–Murfreesboro–Franklin, TN MSA',\n",
       "       'Columbus, OH MSA', 'Albuquerque, NM MSA',\n",
       "       'Boston-Cambridge-Newton, MA-NH MSA',\n",
       "       'Miami-Fort Lauderdale-West Palm Beach, FL MSA',\n",
       "       'San Diego-Chula Vista-Carlsbad, CA MSA',\n",
       "       'Phoenix-Mesa-Chandler, AZ MSA',\n",
       "       'Portland-Vancouver-Hillsboro, OR-WA MSA',\n",
       "       'Cincinnati, OH-KY-IN MSA', 'Columbia, SC MSA',\n",
       "       'San Antonio-New Braunfels, TX MSA', 'Buffalo-Cheektowaga, NY MSA',\n",
       "       'Memphis, TN-MS-AR MSA',\n",
       "       'Riverside-San Bernardino-Ontario, CA MSA',\n",
       "       'Louisville/Jefferson County, KY-IN MSA',\n",
       "       'Albany-Schenectady-Troy, NY MSA', 'Providence-Warwick, RI-MA MSA',\n",
       "       'Salt Lake City, UT MSA', 'Urban Honolulu, HI MSA',\n",
       "       'El Paso, TX MSA', 'New Haven-Milford, CT MSA',\n",
       "       'North Port-Sarasota-Bradenton, FL MSA', 'Baton Rouge, LA MSA',\n",
       "       'New Orleans-Metairie, LA MSA',\n",
       "       'Bridgeport-Stamford-Norwalk, CT MSA',\n",
       "       'Virginia Beach-Norfolk-Newport News, VA-NC MSA',\n",
       "       'Baltimore-Columbia-Towson, MD MSA', 'Milwaukee-Waukesha, WI MSA',\n",
       "       'Oxnard-Thousand Oaks-Ventura, CA MSA',\n",
       "       'Sacramento–Roseville–Folsom, CA MSA',\n",
       "       'Austin-Round Rock-Georgetown, TX MSA', 'Richmond, VA MSA',\n",
       "       'St. Louis, MO-IL MSA',\n",
       "       'Minneapolis-St. Paul-Bloomington, MN-WI MSA',\n",
       "       'Dayton-Kettering, OH MSA', 'Bakersfield, CA MSA',\n",
       "       'Detroit-Warren-Dearborn, MI MSA', 'Kansas City, MO-KS MSA',\n",
       "       'Charleston-North Charleston, SC MSA', 'Rochester, NY MSA',\n",
       "       'Raleigh-Cary, NC MSA', 'Colorado Springs, CO MSA',\n",
       "       'Greensboro-High Point, NC MSA', 'Tucson, AZ MSA',\n",
       "       'Stockton, CA MSA', 'Cape Coral-Fort Myers, FL MSA'], dtype=object)"
      ]
     },
     "execution_count": 69,
     "metadata": {},
     "output_type": "execute_result"
    }
   ],
   "source": [
    "meg_user_agg['city'].unique()"
   ]
  },
  {
   "cell_type": "code",
   "execution_count": 70,
   "metadata": {},
   "outputs": [],
   "source": [
    "NY = meg_user_agg[meg_user_agg['city'].str.contains('NY-NJ')]['profit_per_month'].dropna()\n",
    "not_NY =  meg_user_agg[~meg_user_agg['city'].str.contains('NY-NJ')]['profit_per_month'].dropna()"
   ]
  },
  {
   "cell_type": "code",
   "execution_count": 71,
   "metadata": {},
   "outputs": [
    {
     "name": "stdout",
     "output_type": "stream",
     "text": [
      "pvalue: 0.05777756938476883\n",
      "We reject the null hypothesis: Average profit from users in NY_NJ are different\n"
     ]
    }
   ],
   "source": [
    "alpha=0.5\n",
    "results = st.ttest_ind(NY,not_NY,equal_var=True)\n",
    "print('pvalue:', results.pvalue)\n",
    "\n",
    "if results.pvalue < alpha:\n",
    "    print(\"We reject the null hypothesis: Average profit from users in NY_NJ are different\")\n",
    "else:\n",
    "    print(\"We can't reject the null hypothesis: Average profit users in NY_NJ are the same\")"
   ]
  },
  {
   "cell_type": "markdown",
   "metadata": {},
   "source": [
    "### Conclusion\n",
    "The Results indicate that, the profit from the two plans and that from NY-NJ are indeed different. \n",
    "Considering the hypothesis being carried out are for the means of different sample populations, the st.ttest_ind was used from the scipy package. "
   ]
  },
  {
   "cell_type": "markdown",
   "metadata": {},
   "source": [
    "##  Final Conclusion\n",
    "**Data Analysis:**\n",
    "The data used in for the project are from five different datasets covering the same number of users but with different contents. \n",
    "To help with the analysis, The date columns were formated and month extracted to aid in analysis. Finally, The datasets were merged to help compute summary user details namely: Total call durations, total text sent and total data usage per user per plan. \n",
    "\n",
    "**Exploratory Analysis**\n",
    "This gave insight on the general structure of the merged datasets. The data covers all age ranges making it very representative despite having some extreme values in data usage for ultimate plan users. \n",
    "\n",
    "**Main Findings**\n",
    "* The ultimate plan is more profitable than the surf plan as most of the values are closer to the mean compared to surf plan.\n",
    "* The average profit from both plans are different though the percentage ratio of the two plans are significantly different, 67.8% : 32.2% for surf and ultimate respectively. \n",
    "* The results from the graph show some level of skewness in the data for call munites, text and data usage per month. \n",
    "* Though the mean data usage are approximately the same for both plans, the varaince show significant difference with ultimate having the highest value. This shows that, on average data usage are almost the same though users on ultimate plan turn to use more justifying the need for the package. \n",
    "* Significant number of users exceeded their allocated package for both plans. \n",
    "* About 93% of users were still signed up for the plan at the time of data extraction."
   ]
  },
  {
   "cell_type": "code",
   "execution_count": null,
   "metadata": {},
   "outputs": [],
   "source": []
  }
 ],
 "metadata": {
  "ExecuteTimeLog": [
   {
    "duration": 1372,
    "start_time": "2021-07-24T15:45:41.884Z"
   },
   {
    "duration": 5481,
    "start_time": "2021-07-24T15:46:57.652Z"
   },
   {
    "duration": 146,
    "start_time": "2021-07-24T15:47:19.668Z"
   },
   {
    "duration": 11,
    "start_time": "2021-07-24T15:47:43.986Z"
   },
   {
    "duration": 128,
    "start_time": "2021-07-24T17:35:02.020Z"
   },
   {
    "duration": 20,
    "start_time": "2021-07-24T17:35:20.702Z"
   },
   {
    "duration": 81,
    "start_time": "2021-07-24T17:36:25.622Z"
   },
   {
    "duration": 15,
    "start_time": "2021-07-24T17:36:35.676Z"
   },
   {
    "duration": 162,
    "start_time": "2021-07-24T17:37:18.771Z"
   },
   {
    "duration": 21,
    "start_time": "2021-07-24T17:37:28.308Z"
   },
   {
    "duration": 29,
    "start_time": "2021-07-24T17:38:14.639Z"
   },
   {
    "duration": 8,
    "start_time": "2021-07-24T17:38:23.503Z"
   },
   {
    "duration": 14,
    "start_time": "2021-07-24T17:49:07.865Z"
   },
   {
    "duration": 357,
    "start_time": "2021-07-24T17:50:00.974Z"
   },
   {
    "duration": 22,
    "start_time": "2021-07-24T17:50:11.575Z"
   },
   {
    "duration": 15,
    "start_time": "2021-07-24T17:51:00.160Z"
   },
   {
    "duration": 20,
    "start_time": "2021-07-24T17:51:34.355Z"
   },
   {
    "duration": 6,
    "start_time": "2021-07-24T17:55:14.978Z"
   },
   {
    "duration": 5,
    "start_time": "2021-07-24T17:55:38.574Z"
   },
   {
    "duration": 8,
    "start_time": "2021-07-24T17:55:54.929Z"
   },
   {
    "duration": 8,
    "start_time": "2021-07-24T17:56:09.597Z"
   },
   {
    "duration": 3,
    "start_time": "2021-07-24T17:56:32.945Z"
   },
   {
    "duration": 6,
    "start_time": "2021-07-24T17:56:41.355Z"
   },
   {
    "duration": 90,
    "start_time": "2021-07-24T17:58:22.672Z"
   },
   {
    "duration": 24,
    "start_time": "2021-07-24T17:58:37.245Z"
   },
   {
    "duration": 18,
    "start_time": "2021-07-24T17:58:46.402Z"
   },
   {
    "duration": 6,
    "start_time": "2021-07-24T17:58:55.351Z"
   },
   {
    "duration": 60,
    "start_time": "2021-07-24T17:59:19.427Z"
   },
   {
    "duration": 31,
    "start_time": "2021-07-24T17:59:30.743Z"
   },
   {
    "duration": 15,
    "start_time": "2021-07-24T17:59:40.052Z"
   },
   {
    "duration": 125,
    "start_time": "2021-07-24T17:59:51.439Z"
   },
   {
    "duration": 34,
    "start_time": "2021-07-24T18:00:00.023Z"
   },
   {
    "duration": 22,
    "start_time": "2021-07-24T18:00:08.454Z"
   },
   {
    "duration": 6,
    "start_time": "2021-07-24T18:00:17.993Z"
   },
   {
    "duration": 59,
    "start_time": "2021-07-24T18:00:54.333Z"
   },
   {
    "duration": 79,
    "start_time": "2021-07-24T18:01:21.877Z"
   },
   {
    "duration": 55,
    "start_time": "2021-07-24T18:07:45.777Z"
   },
   {
    "duration": 42,
    "start_time": "2021-07-24T18:08:10.326Z"
   },
   {
    "duration": 19,
    "start_time": "2021-07-24T18:08:42.031Z"
   },
   {
    "duration": 54,
    "start_time": "2021-07-24T18:08:51.286Z"
   },
   {
    "duration": 16,
    "start_time": "2021-07-24T18:09:15.145Z"
   },
   {
    "duration": 48,
    "start_time": "2021-07-24T18:09:21.868Z"
   },
   {
    "duration": 56,
    "start_time": "2021-07-24T18:09:38.976Z"
   },
   {
    "duration": 22,
    "start_time": "2021-07-24T18:20:36.308Z"
   },
   {
    "duration": 11,
    "start_time": "2021-07-24T18:20:46.111Z"
   },
   {
    "duration": 24,
    "start_time": "2021-07-24T18:21:47.461Z"
   },
   {
    "duration": 11,
    "start_time": "2021-07-24T18:21:49.825Z"
   },
   {
    "duration": 24,
    "start_time": "2021-07-24T18:22:23.010Z"
   },
   {
    "duration": 17,
    "start_time": "2021-07-24T18:22:37.448Z"
   },
   {
    "duration": 43,
    "start_time": "2021-07-24T18:23:52.093Z"
   },
   {
    "duration": 16,
    "start_time": "2021-07-24T18:24:15.681Z"
   },
   {
    "duration": 34,
    "start_time": "2021-07-24T18:24:51.026Z"
   },
   {
    "duration": 20,
    "start_time": "2021-07-24T18:25:06.006Z"
   },
   {
    "duration": 27,
    "start_time": "2021-07-24T18:25:30.733Z"
   },
   {
    "duration": 26,
    "start_time": "2021-07-24T18:25:50.020Z"
   },
   {
    "duration": 26,
    "start_time": "2021-07-24T18:26:07.681Z"
   },
   {
    "duration": 23,
    "start_time": "2021-07-24T18:26:24.469Z"
   },
   {
    "duration": 9,
    "start_time": "2021-07-24T18:26:41.667Z"
   },
   {
    "duration": 6,
    "start_time": "2021-07-24T18:26:58.215Z"
   },
   {
    "duration": 4,
    "start_time": "2021-07-24T18:27:09.977Z"
   },
   {
    "duration": 12,
    "start_time": "2021-07-24T18:27:33.881Z"
   },
   {
    "duration": 30,
    "start_time": "2021-07-24T18:27:44.089Z"
   },
   {
    "duration": 4,
    "start_time": "2021-07-24T18:44:06.918Z"
   },
   {
    "duration": 5,
    "start_time": "2021-07-24T18:44:27.811Z"
   },
   {
    "duration": 1004,
    "start_time": "2021-07-24T18:44:41.782Z"
   },
   {
    "duration": 369,
    "start_time": "2021-07-24T18:45:04.450Z"
   },
   {
    "duration": 5,
    "start_time": "2021-07-24T18:46:16.698Z"
   },
   {
    "duration": 44,
    "start_time": "2021-07-24T18:46:18.528Z"
   },
   {
    "duration": 8,
    "start_time": "2021-07-24T19:05:21.115Z"
   },
   {
    "duration": 7,
    "start_time": "2021-07-24T19:05:32.962Z"
   },
   {
    "duration": 7,
    "start_time": "2021-07-24T19:08:02.311Z"
   },
   {
    "duration": 11,
    "start_time": "2021-07-24T19:08:20.058Z"
   },
   {
    "duration": 7,
    "start_time": "2021-07-24T19:08:35.559Z"
   },
   {
    "duration": 44,
    "start_time": "2021-07-24T19:11:45.330Z"
   },
   {
    "duration": 1306,
    "start_time": "2021-07-24T19:38:04.438Z"
   },
   {
    "duration": 106,
    "start_time": "2021-07-24T19:38:06.083Z"
   },
   {
    "duration": 11,
    "start_time": "2021-07-24T19:38:11.939Z"
   },
   {
    "duration": 132,
    "start_time": "2021-07-24T19:38:14.723Z"
   },
   {
    "duration": 19,
    "start_time": "2021-07-24T19:38:15.845Z"
   },
   {
    "duration": 81,
    "start_time": "2021-07-24T19:38:16.942Z"
   },
   {
    "duration": 17,
    "start_time": "2021-07-24T19:38:19.590Z"
   },
   {
    "duration": 156,
    "start_time": "2021-07-24T19:38:20.702Z"
   },
   {
    "duration": 21,
    "start_time": "2021-07-24T19:38:21.998Z"
   },
   {
    "duration": 27,
    "start_time": "2021-07-24T19:38:24.346Z"
   },
   {
    "duration": 9,
    "start_time": "2021-07-24T19:38:29.145Z"
   },
   {
    "duration": 14,
    "start_time": "2021-07-24T19:38:34.074Z"
   },
   {
    "duration": 18,
    "start_time": "2021-07-24T19:38:36.524Z"
   },
   {
    "duration": 15,
    "start_time": "2021-07-24T19:38:37.366Z"
   },
   {
    "duration": 21,
    "start_time": "2021-07-24T19:38:38.067Z"
   },
   {
    "duration": 7,
    "start_time": "2021-07-24T19:38:44.896Z"
   },
   {
    "duration": 12,
    "start_time": "2021-07-24T19:38:44.906Z"
   },
   {
    "duration": 7,
    "start_time": "2021-07-24T19:38:46.239Z"
   },
   {
    "duration": 12,
    "start_time": "2021-07-24T19:38:47.960Z"
   },
   {
    "duration": 4,
    "start_time": "2021-07-24T19:38:51.293Z"
   },
   {
    "duration": 5,
    "start_time": "2021-07-24T19:38:51.950Z"
   },
   {
    "duration": 91,
    "start_time": "2021-07-24T19:38:52.589Z"
   },
   {
    "duration": 24,
    "start_time": "2021-07-24T19:38:53.180Z"
   },
   {
    "duration": 18,
    "start_time": "2021-07-24T19:38:53.806Z"
   },
   {
    "duration": 6,
    "start_time": "2021-07-24T19:38:54.385Z"
   },
   {
    "duration": 55,
    "start_time": "2021-07-24T19:38:55.029Z"
   },
   {
    "duration": 20,
    "start_time": "2021-07-24T19:38:55.588Z"
   },
   {
    "duration": 14,
    "start_time": "2021-07-24T19:38:56.226Z"
   },
   {
    "duration": 117,
    "start_time": "2021-07-24T19:38:56.785Z"
   },
   {
    "duration": 30,
    "start_time": "2021-07-24T19:38:57.465Z"
   },
   {
    "duration": 24,
    "start_time": "2021-07-24T19:38:58.150Z"
   },
   {
    "duration": 5,
    "start_time": "2021-07-24T19:39:00.585Z"
   },
   {
    "duration": 63,
    "start_time": "2021-07-24T19:39:01.264Z"
   },
   {
    "duration": 87,
    "start_time": "2021-07-24T19:39:02.066Z"
   },
   {
    "duration": 60,
    "start_time": "2021-07-24T19:39:06.568Z"
   },
   {
    "duration": 43,
    "start_time": "2021-07-24T19:39:07.925Z"
   },
   {
    "duration": 77,
    "start_time": "2021-07-24T19:39:12.176Z"
   },
   {
    "duration": 20,
    "start_time": "2021-07-24T19:39:20.662Z"
   },
   {
    "duration": 10,
    "start_time": "2021-07-24T19:39:22.405Z"
   },
   {
    "duration": 25,
    "start_time": "2021-07-24T19:39:25.691Z"
   },
   {
    "duration": 16,
    "start_time": "2021-07-24T19:39:26.649Z"
   },
   {
    "duration": 44,
    "start_time": "2021-07-24T19:39:29.891Z"
   },
   {
    "duration": 17,
    "start_time": "2021-07-24T19:39:30.973Z"
   },
   {
    "duration": 23,
    "start_time": "2021-07-24T19:39:34.630Z"
   },
   {
    "duration": 21,
    "start_time": "2021-07-24T19:39:37.113Z"
   },
   {
    "duration": 30,
    "start_time": "2021-07-24T19:39:40.265Z"
   },
   {
    "duration": 27,
    "start_time": "2021-07-24T19:39:41.170Z"
   },
   {
    "duration": 26,
    "start_time": "2021-07-24T19:39:43.628Z"
   },
   {
    "duration": 22,
    "start_time": "2021-07-24T19:39:44.751Z"
   },
   {
    "duration": 8,
    "start_time": "2021-07-24T19:39:48.249Z"
   },
   {
    "duration": 6,
    "start_time": "2021-07-24T19:39:50.239Z"
   },
   {
    "duration": 4,
    "start_time": "2021-07-24T19:39:51.082Z"
   },
   {
    "duration": 9,
    "start_time": "2021-07-24T19:39:52.995Z"
   },
   {
    "duration": 28,
    "start_time": "2021-07-24T19:39:56.472Z"
   },
   {
    "duration": 4,
    "start_time": "2021-07-24T19:40:04.371Z"
   },
   {
    "duration": 5,
    "start_time": "2021-07-24T19:40:05.750Z"
   },
   {
    "duration": 1009,
    "start_time": "2021-07-24T19:40:08.163Z"
   },
   {
    "duration": 6,
    "start_time": "2021-07-24T19:40:12.865Z"
   },
   {
    "duration": 41,
    "start_time": "2021-07-24T19:40:13.992Z"
   },
   {
    "duration": 10,
    "start_time": "2021-07-24T19:40:19.663Z"
   },
   {
    "duration": 7,
    "start_time": "2021-07-24T19:40:20.610Z"
   },
   {
    "duration": 7,
    "start_time": "2021-07-24T19:40:25.658Z"
   },
   {
    "duration": 10,
    "start_time": "2021-07-24T19:40:29.223Z"
   },
   {
    "duration": 6,
    "start_time": "2021-07-24T19:40:30.472Z"
   },
   {
    "duration": 1472,
    "start_time": "2021-07-25T10:19:46.351Z"
   },
   {
    "duration": 65,
    "start_time": "2021-07-25T10:19:47.825Z"
   },
   {
    "duration": 11,
    "start_time": "2021-07-25T10:19:47.895Z"
   },
   {
    "duration": 152,
    "start_time": "2021-07-25T10:19:47.909Z"
   },
   {
    "duration": 24,
    "start_time": "2021-07-25T10:19:48.064Z"
   },
   {
    "duration": 103,
    "start_time": "2021-07-25T10:19:48.091Z"
   },
   {
    "duration": 15,
    "start_time": "2021-07-25T10:19:48.196Z"
   },
   {
    "duration": 185,
    "start_time": "2021-07-25T10:19:48.214Z"
   },
   {
    "duration": 25,
    "start_time": "2021-07-25T10:19:48.402Z"
   },
   {
    "duration": 39,
    "start_time": "2021-07-25T10:19:48.429Z"
   },
   {
    "duration": 8,
    "start_time": "2021-07-25T10:19:48.471Z"
   },
   {
    "duration": 16,
    "start_time": "2021-07-25T10:19:48.481Z"
   },
   {
    "duration": 19,
    "start_time": "2021-07-25T10:19:48.499Z"
   },
   {
    "duration": 54,
    "start_time": "2021-07-25T10:19:48.520Z"
   },
   {
    "duration": 25,
    "start_time": "2021-07-25T10:19:48.577Z"
   },
   {
    "duration": 5,
    "start_time": "2021-07-25T10:19:48.605Z"
   },
   {
    "duration": 6,
    "start_time": "2021-07-25T10:19:48.613Z"
   },
   {
    "duration": 7,
    "start_time": "2021-07-25T10:19:48.672Z"
   },
   {
    "duration": 10,
    "start_time": "2021-07-25T10:19:48.681Z"
   },
   {
    "duration": 7,
    "start_time": "2021-07-25T10:19:48.693Z"
   },
   {
    "duration": 9,
    "start_time": "2021-07-25T10:19:48.702Z"
   },
   {
    "duration": 127,
    "start_time": "2021-07-25T10:19:48.713Z"
   },
   {
    "duration": 33,
    "start_time": "2021-07-25T10:19:48.846Z"
   },
   {
    "duration": 19,
    "start_time": "2021-07-25T10:19:48.884Z"
   },
   {
    "duration": 5,
    "start_time": "2021-07-25T10:19:48.905Z"
   },
   {
    "duration": 126,
    "start_time": "2021-07-25T10:19:48.912Z"
   },
   {
    "duration": 23,
    "start_time": "2021-07-25T10:19:49.040Z"
   },
   {
    "duration": 19,
    "start_time": "2021-07-25T10:19:49.066Z"
   },
   {
    "duration": 140,
    "start_time": "2021-07-25T10:19:49.088Z"
   },
   {
    "duration": 52,
    "start_time": "2021-07-25T10:19:49.231Z"
   },
   {
    "duration": 23,
    "start_time": "2021-07-25T10:19:49.285Z"
   },
   {
    "duration": 4,
    "start_time": "2021-07-25T10:19:49.310Z"
   },
   {
    "duration": 93,
    "start_time": "2021-07-25T10:19:49.316Z"
   },
   {
    "duration": 105,
    "start_time": "2021-07-25T10:19:49.411Z"
   },
   {
    "duration": 67,
    "start_time": "2021-07-25T10:19:49.518Z"
   },
   {
    "duration": 44,
    "start_time": "2021-07-25T10:19:49.588Z"
   },
   {
    "duration": 85,
    "start_time": "2021-07-25T10:19:49.635Z"
   },
   {
    "duration": 54,
    "start_time": "2021-07-25T10:19:49.724Z"
   },
   {
    "duration": 14,
    "start_time": "2021-07-25T10:19:49.780Z"
   },
   {
    "duration": 29,
    "start_time": "2021-07-25T10:19:49.796Z"
   },
   {
    "duration": 14,
    "start_time": "2021-07-25T10:19:49.827Z"
   },
   {
    "duration": 53,
    "start_time": "2021-07-25T10:19:49.872Z"
   },
   {
    "duration": 15,
    "start_time": "2021-07-25T10:19:49.927Z"
   },
   {
    "duration": 51,
    "start_time": "2021-07-25T10:19:49.944Z"
   },
   {
    "duration": 21,
    "start_time": "2021-07-25T10:19:49.998Z"
   },
   {
    "duration": 56,
    "start_time": "2021-07-25T10:19:50.021Z"
   },
   {
    "duration": 29,
    "start_time": "2021-07-25T10:19:50.081Z"
   },
   {
    "duration": 27,
    "start_time": "2021-07-25T10:19:50.113Z"
   },
   {
    "duration": 53,
    "start_time": "2021-07-25T10:19:50.143Z"
   },
   {
    "duration": 10,
    "start_time": "2021-07-25T10:19:50.198Z"
   },
   {
    "duration": 10,
    "start_time": "2021-07-25T10:19:50.211Z"
   },
   {
    "duration": 6,
    "start_time": "2021-07-25T10:19:50.223Z"
   },
   {
    "duration": 9,
    "start_time": "2021-07-25T10:19:50.273Z"
   },
   {
    "duration": 30,
    "start_time": "2021-07-25T10:19:50.285Z"
   },
   {
    "duration": 4,
    "start_time": "2021-07-25T10:19:50.318Z"
   },
   {
    "duration": 8,
    "start_time": "2021-07-25T10:19:50.325Z"
   },
   {
    "duration": 1213,
    "start_time": "2021-07-25T10:19:50.335Z"
   },
   {
    "duration": 5,
    "start_time": "2021-07-25T10:19:51.551Z"
   },
   {
    "duration": 51,
    "start_time": "2021-07-25T10:19:51.568Z"
   },
   {
    "duration": 7,
    "start_time": "2021-07-25T10:19:51.621Z"
   },
   {
    "duration": 41,
    "start_time": "2021-07-25T10:19:51.631Z"
   },
   {
    "duration": 14,
    "start_time": "2021-07-25T10:19:51.675Z"
   },
   {
    "duration": 14,
    "start_time": "2021-07-25T10:19:51.692Z"
   },
   {
    "duration": 25,
    "start_time": "2021-07-25T10:19:51.709Z"
   },
   {
    "duration": 1466,
    "start_time": "2021-07-25T19:24:03.859Z"
   },
   {
    "duration": 52,
    "start_time": "2021-07-25T19:24:05.328Z"
   },
   {
    "duration": 9,
    "start_time": "2021-07-25T19:24:05.383Z"
   },
   {
    "duration": 132,
    "start_time": "2021-07-25T19:24:05.395Z"
   },
   {
    "duration": 18,
    "start_time": "2021-07-25T19:24:05.530Z"
   },
   {
    "duration": 81,
    "start_time": "2021-07-25T19:24:05.567Z"
   },
   {
    "duration": 19,
    "start_time": "2021-07-25T19:24:05.651Z"
   },
   {
    "duration": 168,
    "start_time": "2021-07-25T19:24:05.675Z"
   },
   {
    "duration": 29,
    "start_time": "2021-07-25T19:24:05.847Z"
   },
   {
    "duration": 27,
    "start_time": "2021-07-25T19:24:05.879Z"
   },
   {
    "duration": 9,
    "start_time": "2021-07-25T19:24:05.908Z"
   },
   {
    "duration": 21,
    "start_time": "2021-07-25T19:24:05.920Z"
   },
   {
    "duration": 39,
    "start_time": "2021-07-25T19:24:05.944Z"
   },
   {
    "duration": 14,
    "start_time": "2021-07-25T19:24:05.986Z"
   },
   {
    "duration": 22,
    "start_time": "2021-07-25T19:24:06.002Z"
   },
   {
    "duration": 40,
    "start_time": "2021-07-25T19:24:06.027Z"
   },
   {
    "duration": 6,
    "start_time": "2021-07-25T19:24:06.069Z"
   },
   {
    "duration": 15,
    "start_time": "2021-07-25T19:24:06.077Z"
   },
   {
    "duration": 12,
    "start_time": "2021-07-25T19:24:06.094Z"
   },
   {
    "duration": 12,
    "start_time": "2021-07-25T19:24:06.108Z"
   },
   {
    "duration": 9,
    "start_time": "2021-07-25T19:24:06.122Z"
   },
   {
    "duration": 115,
    "start_time": "2021-07-25T19:24:06.134Z"
   },
   {
    "duration": 29,
    "start_time": "2021-07-25T19:24:06.255Z"
   },
   {
    "duration": 18,
    "start_time": "2021-07-25T19:24:06.288Z"
   },
   {
    "duration": 5,
    "start_time": "2021-07-25T19:24:06.309Z"
   },
   {
    "duration": 84,
    "start_time": "2021-07-25T19:24:06.316Z"
   },
   {
    "duration": 20,
    "start_time": "2021-07-25T19:24:06.403Z"
   },
   {
    "duration": 15,
    "start_time": "2021-07-25T19:24:06.425Z"
   },
   {
    "duration": 138,
    "start_time": "2021-07-25T19:24:06.442Z"
   },
   {
    "duration": 31,
    "start_time": "2021-07-25T19:24:06.582Z"
   },
   {
    "duration": 24,
    "start_time": "2021-07-25T19:24:06.615Z"
   },
   {
    "duration": 27,
    "start_time": "2021-07-25T19:24:06.641Z"
   },
   {
    "duration": 65,
    "start_time": "2021-07-25T19:24:06.670Z"
   },
   {
    "duration": 99,
    "start_time": "2021-07-25T19:24:06.737Z"
   },
   {
    "duration": 64,
    "start_time": "2021-07-25T19:24:06.838Z"
   },
   {
    "duration": 42,
    "start_time": "2021-07-25T19:24:06.905Z"
   },
   {
    "duration": 75,
    "start_time": "2021-07-25T19:24:06.949Z"
   },
   {
    "duration": 44,
    "start_time": "2021-07-25T19:24:07.026Z"
   },
   {
    "duration": 9,
    "start_time": "2021-07-25T19:24:07.073Z"
   },
   {
    "duration": 25,
    "start_time": "2021-07-25T19:24:07.084Z"
   },
   {
    "duration": 15,
    "start_time": "2021-07-25T19:24:07.111Z"
   },
   {
    "duration": 77,
    "start_time": "2021-07-25T19:24:07.128Z"
   },
   {
    "duration": 15,
    "start_time": "2021-07-25T19:24:07.207Z"
   },
   {
    "duration": 43,
    "start_time": "2021-07-25T19:24:07.224Z"
   },
   {
    "duration": 21,
    "start_time": "2021-07-25T19:24:07.270Z"
   },
   {
    "duration": 29,
    "start_time": "2021-07-25T19:24:07.294Z"
   },
   {
    "duration": 58,
    "start_time": "2021-07-25T19:24:07.325Z"
   },
   {
    "duration": 31,
    "start_time": "2021-07-25T19:24:07.385Z"
   },
   {
    "duration": 22,
    "start_time": "2021-07-25T19:24:07.419Z"
   },
   {
    "duration": 8,
    "start_time": "2021-07-25T19:24:07.468Z"
   },
   {
    "duration": 8,
    "start_time": "2021-07-25T19:24:07.479Z"
   },
   {
    "duration": 8,
    "start_time": "2021-07-25T19:24:07.490Z"
   },
   {
    "duration": 13,
    "start_time": "2021-07-25T19:24:07.501Z"
   },
   {
    "duration": 57,
    "start_time": "2021-07-25T19:24:07.516Z"
   },
   {
    "duration": 3,
    "start_time": "2021-07-25T19:24:07.575Z"
   },
   {
    "duration": 6,
    "start_time": "2021-07-25T19:24:07.581Z"
   },
   {
    "duration": 818,
    "start_time": "2021-07-25T19:24:07.589Z"
   },
   {
    "duration": 5,
    "start_time": "2021-07-25T19:24:08.409Z"
   },
   {
    "duration": 61,
    "start_time": "2021-07-25T19:24:08.416Z"
   },
   {
    "duration": 7,
    "start_time": "2021-07-25T19:24:08.479Z"
   },
   {
    "duration": 9,
    "start_time": "2021-07-25T19:24:08.488Z"
   },
   {
    "duration": 8,
    "start_time": "2021-07-25T19:24:08.499Z"
   },
   {
    "duration": 11,
    "start_time": "2021-07-25T19:24:08.509Z"
   },
   {
    "duration": 45,
    "start_time": "2021-07-25T19:24:08.523Z"
   },
   {
    "duration": 474,
    "start_time": "2021-07-26T12:36:17.120Z"
   },
   {
    "duration": 1316,
    "start_time": "2021-07-26T12:36:31.545Z"
   },
   {
    "duration": 84,
    "start_time": "2021-07-26T12:36:32.897Z"
   },
   {
    "duration": 12,
    "start_time": "2021-07-26T12:36:35.991Z"
   },
   {
    "duration": 533,
    "start_time": "2021-07-26T12:36:37.212Z"
   },
   {
    "duration": 19,
    "start_time": "2021-07-26T12:36:41.227Z"
   },
   {
    "duration": 263,
    "start_time": "2021-07-26T12:36:44.156Z"
   },
   {
    "duration": 14,
    "start_time": "2021-07-26T12:36:50.231Z"
   },
   {
    "duration": 173,
    "start_time": "2021-07-26T12:36:53.122Z"
   },
   {
    "duration": 21,
    "start_time": "2021-07-26T12:36:56.519Z"
   },
   {
    "duration": 56,
    "start_time": "2021-07-26T12:36:57.496Z"
   },
   {
    "duration": 9,
    "start_time": "2021-07-26T12:36:59.973Z"
   },
   {
    "duration": 15,
    "start_time": "2021-07-26T12:37:03.609Z"
   },
   {
    "duration": 24,
    "start_time": "2021-07-26T12:37:06.590Z"
   },
   {
    "duration": 21,
    "start_time": "2021-07-26T12:37:07.896Z"
   },
   {
    "duration": 21,
    "start_time": "2021-07-26T12:37:08.920Z"
   },
   {
    "duration": 6,
    "start_time": "2021-07-26T12:37:21.088Z"
   },
   {
    "duration": 7,
    "start_time": "2021-07-26T12:37:22.905Z"
   },
   {
    "duration": 7,
    "start_time": "2021-07-26T12:37:25.412Z"
   },
   {
    "duration": 8,
    "start_time": "2021-07-26T12:37:26.113Z"
   },
   {
    "duration": 8,
    "start_time": "2021-07-26T12:37:29.303Z"
   },
   {
    "duration": 5,
    "start_time": "2021-07-26T12:37:30.159Z"
   },
   {
    "duration": 99,
    "start_time": "2021-07-26T12:37:30.824Z"
   },
   {
    "duration": 26,
    "start_time": "2021-07-26T12:37:31.508Z"
   },
   {
    "duration": 21,
    "start_time": "2021-07-26T12:37:32.083Z"
   },
   {
    "duration": 6,
    "start_time": "2021-07-26T12:37:32.666Z"
   },
   {
    "duration": 59,
    "start_time": "2021-07-26T12:37:33.217Z"
   },
   {
    "duration": 23,
    "start_time": "2021-07-26T12:37:34.176Z"
   },
   {
    "duration": 15,
    "start_time": "2021-07-26T12:37:34.842Z"
   },
   {
    "duration": 117,
    "start_time": "2021-07-26T12:37:37.119Z"
   },
   {
    "duration": 34,
    "start_time": "2021-07-26T12:37:37.802Z"
   },
   {
    "duration": 22,
    "start_time": "2021-07-26T12:37:38.754Z"
   },
   {
    "duration": 6,
    "start_time": "2021-07-26T12:37:40.020Z"
   },
   {
    "duration": 59,
    "start_time": "2021-07-26T12:37:45.223Z"
   },
   {
    "duration": 86,
    "start_time": "2021-07-26T12:37:46.670Z"
   },
   {
    "duration": 94,
    "start_time": "2021-07-26T12:37:47.782Z"
   },
   {
    "duration": 43,
    "start_time": "2021-07-26T12:38:11.036Z"
   },
   {
    "duration": 67,
    "start_time": "2021-07-26T12:38:28.170Z"
   },
   {
    "duration": 63,
    "start_time": "2021-07-26T12:38:44.850Z"
   },
   {
    "duration": 10,
    "start_time": "2021-07-26T12:43:09.989Z"
   },
   {
    "duration": 209,
    "start_time": "2021-07-26T12:43:39.539Z"
   },
   {
    "duration": 660,
    "start_time": "2021-07-26T12:49:32.501Z"
   },
   {
    "duration": 137,
    "start_time": "2021-07-26T12:50:04.949Z"
   },
   {
    "duration": 392,
    "start_time": "2021-07-26T12:50:14.733Z"
   },
   {
    "duration": 116440,
    "start_time": "2021-07-26T12:50:28.669Z"
   },
   {
    "duration": 2705,
    "start_time": "2021-07-26T12:53:07.060Z"
   },
   {
    "duration": 2448,
    "start_time": "2021-07-26T13:02:43.128Z"
   },
   {
    "duration": 2390,
    "start_time": "2021-07-26T13:03:02.669Z"
   },
   {
    "duration": 2372,
    "start_time": "2021-07-26T13:05:25.104Z"
   },
   {
    "duration": 2364,
    "start_time": "2021-07-26T13:07:43.412Z"
   },
   {
    "duration": 13,
    "start_time": "2021-07-26T13:08:23.590Z"
   },
   {
    "duration": 45,
    "start_time": "2021-07-26T13:08:45.729Z"
   },
   {
    "duration": 65,
    "start_time": "2021-07-26T13:08:48.450Z"
   },
   {
    "duration": 16,
    "start_time": "2021-07-26T13:09:52.166Z"
   },
   {
    "duration": 20,
    "start_time": "2021-07-26T13:10:08.860Z"
   },
   {
    "duration": 12,
    "start_time": "2021-07-26T13:10:11.345Z"
   },
   {
    "duration": 23,
    "start_time": "2021-07-26T13:10:22.831Z"
   },
   {
    "duration": 16,
    "start_time": "2021-07-26T13:10:25.564Z"
   },
   {
    "duration": 49,
    "start_time": "2021-07-26T13:10:40.247Z"
   },
   {
    "duration": 16,
    "start_time": "2021-07-26T13:10:42.815Z"
   },
   {
    "duration": 25,
    "start_time": "2021-07-26T13:10:46.206Z"
   },
   {
    "duration": 23,
    "start_time": "2021-07-26T13:10:48.095Z"
   },
   {
    "duration": 28,
    "start_time": "2021-07-26T13:10:51.817Z"
   },
   {
    "duration": 33,
    "start_time": "2021-07-26T13:10:53.196Z"
   },
   {
    "duration": 27,
    "start_time": "2021-07-26T13:10:54.672Z"
   },
   {
    "duration": 25,
    "start_time": "2021-07-26T13:10:56.834Z"
   },
   {
    "duration": 10,
    "start_time": "2021-07-26T13:11:02.210Z"
   },
   {
    "duration": 6,
    "start_time": "2021-07-26T13:11:18.149Z"
   },
   {
    "duration": 3,
    "start_time": "2021-07-26T13:12:47.780Z"
   },
   {
    "duration": 9,
    "start_time": "2021-07-26T13:12:49.533Z"
   },
   {
    "duration": 29,
    "start_time": "2021-07-26T13:12:51.105Z"
   },
   {
    "duration": 4,
    "start_time": "2021-07-26T13:12:59.210Z"
   },
   {
    "duration": 6,
    "start_time": "2021-07-26T13:13:01.851Z"
   },
   {
    "duration": 4,
    "start_time": "2021-07-26T13:24:44.498Z"
   },
   {
    "duration": 7,
    "start_time": "2021-07-26T13:34:42.474Z"
   },
   {
    "duration": 1541,
    "start_time": "2021-07-26T13:34:48.940Z"
   },
   {
    "duration": 5,
    "start_time": "2021-07-26T13:35:56.053Z"
   },
   {
    "duration": 46,
    "start_time": "2021-07-26T13:35:57.317Z"
   },
   {
    "duration": 6,
    "start_time": "2021-07-26T13:39:36.033Z"
   },
   {
    "duration": 55,
    "start_time": "2021-07-26T13:40:07.475Z"
   },
   {
    "duration": 8,
    "start_time": "2021-07-26T13:40:52.143Z"
   },
   {
    "duration": 6,
    "start_time": "2021-07-26T13:40:53.261Z"
   },
   {
    "duration": 7,
    "start_time": "2021-07-26T13:40:58.987Z"
   },
   {
    "duration": 10,
    "start_time": "2021-07-26T13:41:02.473Z"
   },
   {
    "duration": 7,
    "start_time": "2021-07-26T13:41:03.278Z"
   },
   {
    "duration": 12,
    "start_time": "2021-07-26T13:53:06.672Z"
   },
   {
    "duration": 250,
    "start_time": "2021-07-26T13:53:35.724Z"
   },
   {
    "duration": 634,
    "start_time": "2021-07-26T13:55:44.020Z"
   },
   {
    "duration": 255,
    "start_time": "2021-07-26T13:56:16.868Z"
   },
   {
    "duration": 17,
    "start_time": "2021-07-26T13:58:52.012Z"
   },
   {
    "duration": 54,
    "start_time": "2021-07-26T13:58:53.183Z"
   },
   {
    "duration": 64,
    "start_time": "2021-07-26T13:58:57.081Z"
   },
   {
    "duration": 262,
    "start_time": "2021-07-26T13:59:26.365Z"
   },
   {
    "duration": 21,
    "start_time": "2021-07-26T14:02:41.342Z"
   },
   {
    "duration": 10,
    "start_time": "2021-07-26T14:02:42.120Z"
   },
   {
    "duration": 24,
    "start_time": "2021-07-26T14:02:45.246Z"
   },
   {
    "duration": 17,
    "start_time": "2021-07-26T14:02:46.242Z"
   },
   {
    "duration": 72,
    "start_time": "2021-07-26T14:02:51.848Z"
   },
   {
    "duration": 21,
    "start_time": "2021-07-26T14:02:55.801Z"
   },
   {
    "duration": 26,
    "start_time": "2021-07-26T14:03:01.888Z"
   },
   {
    "duration": 29,
    "start_time": "2021-07-26T14:03:03.296Z"
   },
   {
    "duration": 36,
    "start_time": "2021-07-26T14:03:06.805Z"
   },
   {
    "duration": 27,
    "start_time": "2021-07-26T14:03:06.844Z"
   },
   {
    "duration": 29,
    "start_time": "2021-07-26T14:03:07.338Z"
   },
   {
    "duration": 32,
    "start_time": "2021-07-26T14:03:09.360Z"
   },
   {
    "duration": 11,
    "start_time": "2021-07-26T14:03:13.757Z"
   },
   {
    "duration": 6,
    "start_time": "2021-07-26T14:03:22.070Z"
   },
   {
    "duration": 3,
    "start_time": "2021-07-26T14:03:23.058Z"
   },
   {
    "duration": 9,
    "start_time": "2021-07-26T14:03:23.748Z"
   },
   {
    "duration": 27,
    "start_time": "2021-07-26T14:03:28.935Z"
   },
   {
    "duration": 4,
    "start_time": "2021-07-26T14:03:38.197Z"
   },
   {
    "duration": 7,
    "start_time": "2021-07-26T14:03:39.124Z"
   },
   {
    "duration": 1672,
    "start_time": "2021-07-26T14:03:44.219Z"
   },
   {
    "duration": 6,
    "start_time": "2021-07-26T14:04:01.812Z"
   },
   {
    "duration": 54,
    "start_time": "2021-07-26T14:04:02.639Z"
   },
   {
    "duration": 1587,
    "start_time": "2021-07-26T14:22:18.860Z"
   },
   {
    "duration": 59,
    "start_time": "2021-07-26T14:22:20.450Z"
   },
   {
    "duration": 13,
    "start_time": "2021-07-26T14:22:22.210Z"
   },
   {
    "duration": 131,
    "start_time": "2021-07-26T14:22:24.820Z"
   },
   {
    "duration": 19,
    "start_time": "2021-07-26T14:22:26.353Z"
   },
   {
    "duration": 82,
    "start_time": "2021-07-26T14:22:28.820Z"
   },
   {
    "duration": 16,
    "start_time": "2021-07-26T14:22:32.927Z"
   },
   {
    "duration": 174,
    "start_time": "2021-07-26T14:22:34.074Z"
   },
   {
    "duration": 29,
    "start_time": "2021-07-26T14:22:35.601Z"
   },
   {
    "duration": 31,
    "start_time": "2021-07-26T14:22:38.058Z"
   },
   {
    "duration": 9,
    "start_time": "2021-07-26T14:22:39.664Z"
   },
   {
    "duration": 17,
    "start_time": "2021-07-26T14:22:43.901Z"
   },
   {
    "duration": 27,
    "start_time": "2021-07-26T14:22:46.450Z"
   },
   {
    "duration": 25,
    "start_time": "2021-07-26T14:22:47.711Z"
   },
   {
    "duration": 29,
    "start_time": "2021-07-26T14:22:48.706Z"
   },
   {
    "duration": 8,
    "start_time": "2021-07-26T14:22:52.899Z"
   },
   {
    "duration": 10,
    "start_time": "2021-07-26T14:22:53.902Z"
   },
   {
    "duration": 8,
    "start_time": "2021-07-26T14:22:54.610Z"
   },
   {
    "duration": 11,
    "start_time": "2021-07-26T14:22:55.579Z"
   },
   {
    "duration": 5,
    "start_time": "2021-07-26T14:22:58.636Z"
   },
   {
    "duration": 5,
    "start_time": "2021-07-26T14:23:01.701Z"
   },
   {
    "duration": 102,
    "start_time": "2021-07-26T14:23:02.475Z"
   },
   {
    "duration": 26,
    "start_time": "2021-07-26T14:23:03.084Z"
   },
   {
    "duration": 20,
    "start_time": "2021-07-26T14:23:03.834Z"
   },
   {
    "duration": 5,
    "start_time": "2021-07-26T14:23:04.734Z"
   },
   {
    "duration": 62,
    "start_time": "2021-07-26T14:23:06.691Z"
   },
   {
    "duration": 21,
    "start_time": "2021-07-26T14:23:07.549Z"
   },
   {
    "duration": 15,
    "start_time": "2021-07-26T14:23:08.368Z"
   },
   {
    "duration": 121,
    "start_time": "2021-07-26T14:23:09.235Z"
   },
   {
    "duration": 29,
    "start_time": "2021-07-26T14:23:10.232Z"
   },
   {
    "duration": 23,
    "start_time": "2021-07-26T14:23:10.937Z"
   },
   {
    "duration": 7,
    "start_time": "2021-07-26T14:23:11.522Z"
   },
   {
    "duration": 64,
    "start_time": "2021-07-26T14:23:16.542Z"
   },
   {
    "duration": 88,
    "start_time": "2021-07-26T14:23:17.450Z"
   },
   {
    "duration": 97,
    "start_time": "2021-07-26T14:23:18.878Z"
   },
   {
    "duration": 64,
    "start_time": "2021-07-26T14:23:20.056Z"
   },
   {
    "duration": 64,
    "start_time": "2021-07-26T14:23:55.096Z"
   },
   {
    "duration": 11,
    "start_time": "2021-07-26T14:23:58.135Z"
   },
   {
    "duration": 230,
    "start_time": "2021-07-26T14:23:59.503Z"
   },
   {
    "duration": 2284,
    "start_time": "2021-07-26T14:24:03.030Z"
   },
   {
    "duration": 17,
    "start_time": "2021-07-26T14:24:23.537Z"
   },
   {
    "duration": 59,
    "start_time": "2021-07-26T14:24:28.218Z"
   },
   {
    "duration": 81,
    "start_time": "2021-07-26T14:24:32.482Z"
   },
   {
    "duration": 22,
    "start_time": "2021-07-26T14:26:17.032Z"
   },
   {
    "duration": 12,
    "start_time": "2021-07-26T14:26:18.298Z"
   },
   {
    "duration": 30,
    "start_time": "2021-07-26T14:26:21.294Z"
   },
   {
    "duration": 15,
    "start_time": "2021-07-26T14:26:22.567Z"
   },
   {
    "duration": 43,
    "start_time": "2021-07-26T14:26:25.717Z"
   },
   {
    "duration": 17,
    "start_time": "2021-07-26T14:26:27.078Z"
   },
   {
    "duration": 26,
    "start_time": "2021-07-26T14:26:30.037Z"
   },
   {
    "duration": 29,
    "start_time": "2021-07-26T14:26:32.049Z"
   },
   {
    "duration": 29,
    "start_time": "2021-07-26T14:26:34.617Z"
   },
   {
    "duration": 27,
    "start_time": "2021-07-26T14:26:35.755Z"
   },
   {
    "duration": 27,
    "start_time": "2021-07-26T14:26:37.456Z"
   },
   {
    "duration": 24,
    "start_time": "2021-07-26T14:26:38.863Z"
   },
   {
    "duration": 9,
    "start_time": "2021-07-26T14:26:41.582Z"
   },
   {
    "duration": 7,
    "start_time": "2021-07-26T14:26:44.205Z"
   },
   {
    "duration": 4,
    "start_time": "2021-07-26T14:26:44.949Z"
   },
   {
    "duration": 12,
    "start_time": "2021-07-26T14:26:45.700Z"
   },
   {
    "duration": 30,
    "start_time": "2021-07-26T14:26:47.136Z"
   },
   {
    "duration": 4,
    "start_time": "2021-07-26T14:26:51.927Z"
   },
   {
    "duration": 7,
    "start_time": "2021-07-26T14:26:53.167Z"
   },
   {
    "duration": 1608,
    "start_time": "2021-07-26T14:26:57.610Z"
   },
   {
    "duration": 8,
    "start_time": "2021-07-26T14:27:12.298Z"
   },
   {
    "duration": 55,
    "start_time": "2021-07-26T14:27:13.599Z"
   },
   {
    "duration": 8,
    "start_time": "2021-07-26T14:27:33.636Z"
   },
   {
    "duration": 9,
    "start_time": "2021-07-26T14:27:34.667Z"
   },
   {
    "duration": 6,
    "start_time": "2021-07-26T14:27:38.844Z"
   },
   {
    "duration": 10,
    "start_time": "2021-07-26T14:27:43.456Z"
   },
   {
    "duration": 6,
    "start_time": "2021-07-26T14:27:44.988Z"
   },
   {
    "duration": 1277,
    "start_time": "2021-07-27T13:10:13.096Z"
   },
   {
    "duration": 50,
    "start_time": "2021-07-27T13:10:14.375Z"
   },
   {
    "duration": 5,
    "start_time": "2021-07-27T13:10:14.427Z"
   },
   {
    "duration": 224,
    "start_time": "2021-07-27T13:10:14.434Z"
   },
   {
    "duration": 11,
    "start_time": "2021-07-27T13:10:14.659Z"
   },
   {
    "duration": 133,
    "start_time": "2021-07-27T13:10:14.672Z"
   },
   {
    "duration": 11,
    "start_time": "2021-07-27T13:10:14.807Z"
   },
   {
    "duration": 106,
    "start_time": "2021-07-27T13:10:14.820Z"
   },
   {
    "duration": 15,
    "start_time": "2021-07-27T13:10:14.930Z"
   },
   {
    "duration": 22,
    "start_time": "2021-07-27T13:10:14.947Z"
   },
   {
    "duration": 5,
    "start_time": "2021-07-27T13:10:14.970Z"
   },
   {
    "duration": 17,
    "start_time": "2021-07-27T13:10:14.977Z"
   },
   {
    "duration": 12,
    "start_time": "2021-07-27T13:10:14.995Z"
   },
   {
    "duration": 14,
    "start_time": "2021-07-27T13:10:15.009Z"
   },
   {
    "duration": 19,
    "start_time": "2021-07-27T13:10:15.024Z"
   },
   {
    "duration": 5,
    "start_time": "2021-07-27T13:10:15.044Z"
   },
   {
    "duration": 5,
    "start_time": "2021-07-27T13:10:15.051Z"
   },
   {
    "duration": 6,
    "start_time": "2021-07-27T13:10:15.058Z"
   },
   {
    "duration": 25,
    "start_time": "2021-07-27T13:10:15.066Z"
   },
   {
    "duration": 5,
    "start_time": "2021-07-27T13:10:15.093Z"
   },
   {
    "duration": 7,
    "start_time": "2021-07-27T13:10:15.100Z"
   },
   {
    "duration": 62,
    "start_time": "2021-07-27T13:10:15.109Z"
   },
   {
    "duration": 24,
    "start_time": "2021-07-27T13:10:15.173Z"
   },
   {
    "duration": 11,
    "start_time": "2021-07-27T13:10:15.199Z"
   },
   {
    "duration": 3,
    "start_time": "2021-07-27T13:10:15.212Z"
   },
   {
    "duration": 45,
    "start_time": "2021-07-27T13:10:15.216Z"
   },
   {
    "duration": 26,
    "start_time": "2021-07-27T13:10:15.265Z"
   },
   {
    "duration": 10,
    "start_time": "2021-07-27T13:10:15.293Z"
   },
   {
    "duration": 77,
    "start_time": "2021-07-27T13:10:15.304Z"
   },
   {
    "duration": 25,
    "start_time": "2021-07-27T13:10:15.383Z"
   },
   {
    "duration": 15,
    "start_time": "2021-07-27T13:10:15.409Z"
   },
   {
    "duration": 3,
    "start_time": "2021-07-27T13:10:15.426Z"
   },
   {
    "duration": 38,
    "start_time": "2021-07-27T13:10:15.430Z"
   },
   {
    "duration": 64,
    "start_time": "2021-07-27T13:10:15.469Z"
   },
   {
    "duration": 72,
    "start_time": "2021-07-27T13:10:15.535Z"
   },
   {
    "duration": 26,
    "start_time": "2021-07-27T13:10:15.609Z"
   },
   {
    "duration": 55,
    "start_time": "2021-07-27T13:10:15.637Z"
   },
   {
    "duration": 38,
    "start_time": "2021-07-27T13:10:15.694Z"
   },
   {
    "duration": 7,
    "start_time": "2021-07-27T13:10:15.733Z"
   },
   {
    "duration": 141,
    "start_time": "2021-07-27T13:10:15.742Z"
   },
   {
    "duration": 1272,
    "start_time": "2021-07-27T13:10:15.885Z"
   },
   {
    "duration": 11,
    "start_time": "2021-07-27T13:10:17.159Z"
   },
   {
    "duration": 43,
    "start_time": "2021-07-27T13:10:17.172Z"
   },
   {
    "duration": 38,
    "start_time": "2021-07-27T13:10:17.217Z"
   },
   {
    "duration": 12,
    "start_time": "2021-07-27T13:10:17.257Z"
   },
   {
    "duration": 22,
    "start_time": "2021-07-27T13:10:17.271Z"
   },
   {
    "duration": 16,
    "start_time": "2021-07-27T13:10:17.295Z"
   },
   {
    "duration": 8,
    "start_time": "2021-07-27T13:10:17.312Z"
   },
   {
    "duration": 27,
    "start_time": "2021-07-27T13:10:17.322Z"
   },
   {
    "duration": 9,
    "start_time": "2021-07-27T13:10:17.351Z"
   },
   {
    "duration": 37,
    "start_time": "2021-07-27T13:10:17.361Z"
   },
   {
    "duration": 11,
    "start_time": "2021-07-27T13:10:17.400Z"
   },
   {
    "duration": 16,
    "start_time": "2021-07-27T13:10:17.412Z"
   },
   {
    "duration": 17,
    "start_time": "2021-07-27T13:10:17.429Z"
   },
   {
    "duration": 17,
    "start_time": "2021-07-27T13:10:17.447Z"
   },
   {
    "duration": 33,
    "start_time": "2021-07-27T13:10:17.465Z"
   },
   {
    "duration": 6,
    "start_time": "2021-07-27T13:10:17.500Z"
   },
   {
    "duration": 5,
    "start_time": "2021-07-27T13:10:17.507Z"
   },
   {
    "duration": 7,
    "start_time": "2021-07-27T13:10:17.514Z"
   },
   {
    "duration": 11,
    "start_time": "2021-07-27T13:10:17.522Z"
   },
   {
    "duration": 24,
    "start_time": "2021-07-27T13:10:17.534Z"
   },
   {
    "duration": 2,
    "start_time": "2021-07-27T13:10:17.559Z"
   },
   {
    "duration": 10,
    "start_time": "2021-07-27T13:10:17.563Z"
   },
   {
    "duration": 839,
    "start_time": "2021-07-27T13:10:17.574Z"
   },
   {
    "duration": 3,
    "start_time": "2021-07-27T13:10:18.414Z"
   },
   {
    "duration": 29,
    "start_time": "2021-07-27T13:10:18.419Z"
   },
   {
    "duration": 4,
    "start_time": "2021-07-27T13:10:18.449Z"
   },
   {
    "duration": 6,
    "start_time": "2021-07-27T13:10:18.454Z"
   },
   {
    "duration": 5,
    "start_time": "2021-07-27T13:10:18.462Z"
   },
   {
    "duration": 27,
    "start_time": "2021-07-27T13:10:18.468Z"
   },
   {
    "duration": 6,
    "start_time": "2021-07-27T13:10:18.497Z"
   }
  ],
  "kernelspec": {
   "display_name": "Python 3 (ipykernel)",
   "language": "python",
   "name": "python3"
  },
  "language_info": {
   "codemirror_mode": {
    "name": "ipython",
    "version": 3
   },
   "file_extension": ".py",
   "mimetype": "text/x-python",
   "name": "python",
   "nbconvert_exporter": "python",
   "pygments_lexer": "ipython3",
   "version": "3.9.7"
  },
  "toc": {
   "base_numbering": 1,
   "nav_menu": {},
   "number_sections": true,
   "sideBar": true,
   "skip_h1_title": true,
   "title_cell": "Table of Contents",
   "title_sidebar": "Contents",
   "toc_cell": false,
   "toc_position": {},
   "toc_section_display": true,
   "toc_window_display": true
  }
 },
 "nbformat": 4,
 "nbformat_minor": 2
}
