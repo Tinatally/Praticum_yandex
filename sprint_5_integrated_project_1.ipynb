{
 "cells": [
  {
   "cell_type": "markdown",
   "metadata": {},
   "source": [
    "Hello, Valentina!\n",
    "My name is Olga. I'm happy to reviewing your project today.\n",
    "\n",
    "You can find my comments in green, yellow or red boxes like this:\n",
    "\n",
    "\n",
    "<div class=\"alert alert-block alert-success\">\n",
    "<b>Reviewer's comment</b> <a class=\"tocSkip\"></a>\n",
    "    \n",
    "Success. Everything is done succesfully.\n",
    "</div>\n",
    "\n",
    "\n",
    "<div class=\"alert alert-block alert-warning\">\n",
    "<b>Reviewer's comment</b> <a class=\"tocSkip\"></a>\n",
    "    \n",
    "Remarks. Some recommendations.\n",
    "</div>\n",
    "\n",
    "\n",
    "<div class=\"alert alert-block alert-danger\">\n",
    "    \n",
    "<b>Reviewer's comment</b> <a class=\"tocSkip\"></a>\n",
    "    \n",
    "    \n",
    "Needs fixing. The block requires some corrections. Work can't be accepted with the red comments.\n",
    "</div>\n",
    "\n",
    "<b>Please don't remove my comments :)</b>\n",
    "\n",
    "You can answer me by using this: \n",
    "\n",
    "<div class=\"alert alert-block alert-info\">\n",
    "<b>Student answer.</b> <a class=\"tocSkip\"></a>\n",
    "</div>"
   ]
  },
  {
   "cell_type": "markdown",
   "metadata": {},
   "source": [
    "<div class=\"alert alert-block alert-success\">\n",
    "<b>Overallv reviewer's comment</b> <a class=\"tocSkip\"></a>\n",
    "    \n",
    "Hello Valentina! your project is a true \"A\". Congratulations!\n",
    "    \n",
    "Your project has been accepted and you can go to the next sprint!\n",
    "    \n",
    " Keep at it. You're improving every day! :)\n",
    "</div>"
   ]
  },
  {
   "cell_type": "markdown",
   "metadata": {},
   "source": [
    "# Project Description\n",
    "As an analyst for an online store Ice dealing in video games over the world. Management wants to identify patterns in user, expert, genre,platform etc to determine if a game would succeed or not in planning for potential advertising. "
   ]
  },
  {
   "cell_type": "markdown",
   "metadata": {},
   "source": [
    "# Business Goal\n",
    "I am required as part of this project to make recommedations on potentail games that would be profitable by addressing the following issues:\n",
    "1. Identify the number games released in a year.\n",
    "2. How sales varied accross platforms and identify the platforms with the highest sales.\n",
    "3. Identify and eliminate potential outliers.\n",
    "4. Identify the most profitable game by genre.\n",
    "5. Analyse sales by region  and determine the most profitable platorms by market share.\n",
    "6. Draw a null and alternative hypothesis to compare the ratings of two platforms and game types. "
   ]
  },
  {
   "cell_type": "markdown",
   "metadata": {},
   "source": [
    "<div class=\"alert alert-block alert-success\">\n",
    "<b>Reviewer's comment</b> <a class=\"tocSkip\"></a>\n",
    "    \n",
    "Great! We have description and goals of our project!\n",
    "</div>"
   ]
  },
  {
   "cell_type": "code",
   "execution_count": 1,
   "metadata": {},
   "outputs": [],
   "source": [
    "import pandas as pd\n",
    "import matplotlib.pyplot as plt\n",
    "import numpy as np\n",
    "import seaborn as sns\n",
    "from scipy import stats as st\n",
    "from matplotlib import rcParams\n",
    "import sys\n",
    "import warnings\n",
    "\n",
    "if not sys.warnoptions:\n",
    "    warnings.simplefilter(\"ignore\")"
   ]
  },
  {
   "cell_type": "code",
   "execution_count": 2,
   "metadata": {
    "scrolled": true
   },
   "outputs": [
    {
     "data": {
      "text/html": [
       "<div>\n",
       "<style scoped>\n",
       "    .dataframe tbody tr th:only-of-type {\n",
       "        vertical-align: middle;\n",
       "    }\n",
       "\n",
       "    .dataframe tbody tr th {\n",
       "        vertical-align: top;\n",
       "    }\n",
       "\n",
       "    .dataframe thead th {\n",
       "        text-align: right;\n",
       "    }\n",
       "</style>\n",
       "<table border=\"1\" class=\"dataframe\">\n",
       "  <thead>\n",
       "    <tr style=\"text-align: right;\">\n",
       "      <th></th>\n",
       "      <th>Name</th>\n",
       "      <th>Platform</th>\n",
       "      <th>Year_of_Release</th>\n",
       "      <th>Genre</th>\n",
       "      <th>NA_sales</th>\n",
       "      <th>EU_sales</th>\n",
       "      <th>JP_sales</th>\n",
       "      <th>Other_sales</th>\n",
       "      <th>Critic_Score</th>\n",
       "      <th>User_Score</th>\n",
       "      <th>Rating</th>\n",
       "    </tr>\n",
       "  </thead>\n",
       "  <tbody>\n",
       "    <tr>\n",
       "      <td>0</td>\n",
       "      <td>Wii Sports</td>\n",
       "      <td>Wii</td>\n",
       "      <td>2006.0</td>\n",
       "      <td>Sports</td>\n",
       "      <td>41.36</td>\n",
       "      <td>28.96</td>\n",
       "      <td>3.77</td>\n",
       "      <td>8.45</td>\n",
       "      <td>76.0</td>\n",
       "      <td>8</td>\n",
       "      <td>E</td>\n",
       "    </tr>\n",
       "    <tr>\n",
       "      <td>1</td>\n",
       "      <td>Super Mario Bros.</td>\n",
       "      <td>NES</td>\n",
       "      <td>1985.0</td>\n",
       "      <td>Platform</td>\n",
       "      <td>29.08</td>\n",
       "      <td>3.58</td>\n",
       "      <td>6.81</td>\n",
       "      <td>0.77</td>\n",
       "      <td>NaN</td>\n",
       "      <td>NaN</td>\n",
       "      <td>NaN</td>\n",
       "    </tr>\n",
       "    <tr>\n",
       "      <td>2</td>\n",
       "      <td>Mario Kart Wii</td>\n",
       "      <td>Wii</td>\n",
       "      <td>2008.0</td>\n",
       "      <td>Racing</td>\n",
       "      <td>15.68</td>\n",
       "      <td>12.76</td>\n",
       "      <td>3.79</td>\n",
       "      <td>3.29</td>\n",
       "      <td>82.0</td>\n",
       "      <td>8.3</td>\n",
       "      <td>E</td>\n",
       "    </tr>\n",
       "    <tr>\n",
       "      <td>3</td>\n",
       "      <td>Wii Sports Resort</td>\n",
       "      <td>Wii</td>\n",
       "      <td>2009.0</td>\n",
       "      <td>Sports</td>\n",
       "      <td>15.61</td>\n",
       "      <td>10.93</td>\n",
       "      <td>3.28</td>\n",
       "      <td>2.95</td>\n",
       "      <td>80.0</td>\n",
       "      <td>8</td>\n",
       "      <td>E</td>\n",
       "    </tr>\n",
       "    <tr>\n",
       "      <td>4</td>\n",
       "      <td>Pokemon Red/Pokemon Blue</td>\n",
       "      <td>GB</td>\n",
       "      <td>1996.0</td>\n",
       "      <td>Role-Playing</td>\n",
       "      <td>11.27</td>\n",
       "      <td>8.89</td>\n",
       "      <td>10.22</td>\n",
       "      <td>1.00</td>\n",
       "      <td>NaN</td>\n",
       "      <td>NaN</td>\n",
       "      <td>NaN</td>\n",
       "    </tr>\n",
       "  </tbody>\n",
       "</table>\n",
       "</div>"
      ],
      "text/plain": [
       "                       Name Platform  Year_of_Release         Genre  NA_sales  \\\n",
       "0                Wii Sports      Wii           2006.0        Sports     41.36   \n",
       "1         Super Mario Bros.      NES           1985.0      Platform     29.08   \n",
       "2            Mario Kart Wii      Wii           2008.0        Racing     15.68   \n",
       "3         Wii Sports Resort      Wii           2009.0        Sports     15.61   \n",
       "4  Pokemon Red/Pokemon Blue       GB           1996.0  Role-Playing     11.27   \n",
       "\n",
       "   EU_sales  JP_sales  Other_sales  Critic_Score User_Score Rating  \n",
       "0     28.96      3.77         8.45          76.0          8      E  \n",
       "1      3.58      6.81         0.77           NaN        NaN    NaN  \n",
       "2     12.76      3.79         3.29          82.0        8.3      E  \n",
       "3     10.93      3.28         2.95          80.0          8      E  \n",
       "4      8.89     10.22         1.00           NaN        NaN    NaN  "
      ]
     },
     "execution_count": 2,
     "metadata": {},
     "output_type": "execute_result"
    }
   ],
   "source": [
    "try:\n",
    "    games_df = pd.read_csv('/Users/eseyram/Downloads/games.csv')\n",
    "except:\n",
    "    games_df = pd.read_csv('/datasets/games.csv')\n",
    "games_df.head()   "
   ]
  },
  {
   "cell_type": "markdown",
   "metadata": {},
   "source": [
    "<div class=\"alert alert-block alert-success\">\n",
    "<b>Reviewer's comment</b> <a class=\"tocSkip\"></a>\n",
    "    \n",
    "    \n",
    "Thank you for try/except. It help us to download datasets from dindifferent places. It is great! \n",
    "    \n",
    "</div>"
   ]
  },
  {
   "cell_type": "code",
   "execution_count": 3,
   "metadata": {},
   "outputs": [],
   "source": [
    "games_df.columns=games_df.columns.str.lower()"
   ]
  },
  {
   "cell_type": "code",
   "execution_count": 4,
   "metadata": {},
   "outputs": [
    {
     "name": "stdout",
     "output_type": "stream",
     "text": [
      "<class 'pandas.core.frame.DataFrame'>\n",
      "RangeIndex: 16715 entries, 0 to 16714\n",
      "Data columns (total 11 columns):\n",
      "name               16713 non-null object\n",
      "platform           16715 non-null object\n",
      "year_of_release    16446 non-null float64\n",
      "genre              16713 non-null object\n",
      "na_sales           16715 non-null float64\n",
      "eu_sales           16715 non-null float64\n",
      "jp_sales           16715 non-null float64\n",
      "other_sales        16715 non-null float64\n",
      "critic_score       8137 non-null float64\n",
      "user_score         10014 non-null object\n",
      "rating             9949 non-null object\n",
      "dtypes: float64(6), object(5)\n",
      "memory usage: 1.4+ MB\n"
     ]
    }
   ],
   "source": [
    "games_df.info()"
   ]
  },
  {
   "cell_type": "markdown",
   "metadata": {},
   "source": [
    "##  Conclusion\n",
    "The video games dataset is made up of 16715 entries in all with 11 columns five of which are object types and six float types. Some columns like critic score, rating etc have some missing values which would be explored later. Reasons for missing values like user_score or critic_score might be as a result of missing info or results just not being available."
   ]
  },
  {
   "cell_type": "code",
   "execution_count": 5,
   "metadata": {},
   "outputs": [
    {
     "data": {
      "text/plain": [
       "name               0.000120\n",
       "platform           0.000000\n",
       "year_of_release    0.016093\n",
       "genre              0.000120\n",
       "na_sales           0.000000\n",
       "eu_sales           0.000000\n",
       "jp_sales           0.000000\n",
       "other_sales        0.000000\n",
       "critic_score       0.513192\n",
       "user_score         0.400897\n",
       "rating             0.404786\n",
       "dtype: float64"
      ]
     },
     "execution_count": 5,
     "metadata": {},
     "output_type": "execute_result"
    }
   ],
   "source": [
    "games_df.isnull().sum()/games_df.shape[0]"
   ]
  },
  {
   "cell_type": "markdown",
   "metadata": {},
   "source": [
    "## Conclusion\n",
    "The calculation of null values show significant missing ones for critic_score, user_score and rating with 51%, 40% and 40% respectively. Others like name, year_of_release and genre are below 1% of the column values. These missing values would be handled in the next stage of the analysis."
   ]
  },
  {
   "cell_type": "markdown",
   "metadata": {},
   "source": [
    "<div class=\"alert alert-block alert-success\">\n",
    "<b>Reviewer's comment</b> <a class=\"tocSkip\"></a>\n",
    "    \n",
    "We have basic information about our data and some problems with nulls. Let's go!\n",
    "\n",
    "</div>\n",
    "    "
   ]
  },
  {
   "cell_type": "code",
   "execution_count": 6,
   "metadata": {},
   "outputs": [
    {
     "data": {
      "text/html": [
       "<div>\n",
       "<style scoped>\n",
       "    .dataframe tbody tr th:only-of-type {\n",
       "        vertical-align: middle;\n",
       "    }\n",
       "\n",
       "    .dataframe tbody tr th {\n",
       "        vertical-align: top;\n",
       "    }\n",
       "\n",
       "    .dataframe thead th {\n",
       "        text-align: right;\n",
       "    }\n",
       "</style>\n",
       "<table border=\"1\" class=\"dataframe\">\n",
       "  <thead>\n",
       "    <tr style=\"text-align: right;\">\n",
       "      <th></th>\n",
       "      <th>year_of_release</th>\n",
       "      <th>na_sales</th>\n",
       "      <th>eu_sales</th>\n",
       "      <th>jp_sales</th>\n",
       "      <th>other_sales</th>\n",
       "      <th>critic_score</th>\n",
       "    </tr>\n",
       "  </thead>\n",
       "  <tbody>\n",
       "    <tr>\n",
       "      <td>count</td>\n",
       "      <td>16446.000000</td>\n",
       "      <td>16715.000000</td>\n",
       "      <td>16715.000000</td>\n",
       "      <td>16715.000000</td>\n",
       "      <td>16715.000000</td>\n",
       "      <td>8137.000000</td>\n",
       "    </tr>\n",
       "    <tr>\n",
       "      <td>mean</td>\n",
       "      <td>2006.484616</td>\n",
       "      <td>0.263377</td>\n",
       "      <td>0.145060</td>\n",
       "      <td>0.077617</td>\n",
       "      <td>0.047342</td>\n",
       "      <td>68.967679</td>\n",
       "    </tr>\n",
       "    <tr>\n",
       "      <td>std</td>\n",
       "      <td>5.877050</td>\n",
       "      <td>0.813604</td>\n",
       "      <td>0.503339</td>\n",
       "      <td>0.308853</td>\n",
       "      <td>0.186731</td>\n",
       "      <td>13.938165</td>\n",
       "    </tr>\n",
       "    <tr>\n",
       "      <td>min</td>\n",
       "      <td>1980.000000</td>\n",
       "      <td>0.000000</td>\n",
       "      <td>0.000000</td>\n",
       "      <td>0.000000</td>\n",
       "      <td>0.000000</td>\n",
       "      <td>13.000000</td>\n",
       "    </tr>\n",
       "    <tr>\n",
       "      <td>25%</td>\n",
       "      <td>2003.000000</td>\n",
       "      <td>0.000000</td>\n",
       "      <td>0.000000</td>\n",
       "      <td>0.000000</td>\n",
       "      <td>0.000000</td>\n",
       "      <td>60.000000</td>\n",
       "    </tr>\n",
       "    <tr>\n",
       "      <td>50%</td>\n",
       "      <td>2007.000000</td>\n",
       "      <td>0.080000</td>\n",
       "      <td>0.020000</td>\n",
       "      <td>0.000000</td>\n",
       "      <td>0.010000</td>\n",
       "      <td>71.000000</td>\n",
       "    </tr>\n",
       "    <tr>\n",
       "      <td>75%</td>\n",
       "      <td>2010.000000</td>\n",
       "      <td>0.240000</td>\n",
       "      <td>0.110000</td>\n",
       "      <td>0.040000</td>\n",
       "      <td>0.030000</td>\n",
       "      <td>79.000000</td>\n",
       "    </tr>\n",
       "    <tr>\n",
       "      <td>max</td>\n",
       "      <td>2016.000000</td>\n",
       "      <td>41.360000</td>\n",
       "      <td>28.960000</td>\n",
       "      <td>10.220000</td>\n",
       "      <td>10.570000</td>\n",
       "      <td>98.000000</td>\n",
       "    </tr>\n",
       "  </tbody>\n",
       "</table>\n",
       "</div>"
      ],
      "text/plain": [
       "       year_of_release      na_sales      eu_sales      jp_sales  \\\n",
       "count     16446.000000  16715.000000  16715.000000  16715.000000   \n",
       "mean       2006.484616      0.263377      0.145060      0.077617   \n",
       "std           5.877050      0.813604      0.503339      0.308853   \n",
       "min        1980.000000      0.000000      0.000000      0.000000   \n",
       "25%        2003.000000      0.000000      0.000000      0.000000   \n",
       "50%        2007.000000      0.080000      0.020000      0.000000   \n",
       "75%        2010.000000      0.240000      0.110000      0.040000   \n",
       "max        2016.000000     41.360000     28.960000     10.220000   \n",
       "\n",
       "        other_sales  critic_score  \n",
       "count  16715.000000   8137.000000  \n",
       "mean       0.047342     68.967679  \n",
       "std        0.186731     13.938165  \n",
       "min        0.000000     13.000000  \n",
       "25%        0.000000     60.000000  \n",
       "50%        0.010000     71.000000  \n",
       "75%        0.030000     79.000000  \n",
       "max       10.570000     98.000000  "
      ]
     },
     "execution_count": 6,
     "metadata": {},
     "output_type": "execute_result"
    }
   ],
   "source": [
    "games_df.describe()"
   ]
  },
  {
   "cell_type": "code",
   "execution_count": 7,
   "metadata": {},
   "outputs": [
    {
     "data": {
      "image/png": "[encoded data removed]",
      "text/plain": [
       "<Figure size 648x648 with 6 Axes>"
      ]
     },
     "metadata": {
      "needs_background": "light"
     },
     "output_type": "display_data"
    }
   ],
   "source": [
    "games_df[['na_sales','eu_sales','jp_sales','other_sales','critic_score']].hist(bins=100,figsize=(9,9));"
   ]
  },
  {
   "cell_type": "code",
   "execution_count": 8,
   "metadata": {},
   "outputs": [],
   "source": [
    "games_df['total_sales']= games_df[['na_sales','eu_sales','jp_sales','other_sales']].sum(axis=1)"
   ]
  },
  {
   "cell_type": "code",
   "execution_count": 9,
   "metadata": {},
   "outputs": [],
   "source": [
    "games_df['name']=games_df.drop(games_df[games_df['name'].isna()].index)"
   ]
  },
  {
   "cell_type": "code",
   "execution_count": 10,
   "metadata": {},
   "outputs": [],
   "source": [
    "games_df['year_of_release']= games_df['year_of_release'].fillna(games_df['year_of_release'].min()).astype('int')"
   ]
  },
  {
   "cell_type": "code",
   "execution_count": 11,
   "metadata": {},
   "outputs": [
    {
     "data": {
      "text/html": [
       "<div>\n",
       "<style scoped>\n",
       "    .dataframe tbody tr th:only-of-type {\n",
       "        vertical-align: middle;\n",
       "    }\n",
       "\n",
       "    .dataframe tbody tr th {\n",
       "        vertical-align: top;\n",
       "    }\n",
       "\n",
       "    .dataframe thead th {\n",
       "        text-align: right;\n",
       "    }\n",
       "</style>\n",
       "<table border=\"1\" class=\"dataframe\">\n",
       "  <thead>\n",
       "    <tr style=\"text-align: right;\">\n",
       "      <th></th>\n",
       "      <th>name</th>\n",
       "      <th>platform</th>\n",
       "      <th>year_of_release</th>\n",
       "      <th>genre</th>\n",
       "      <th>na_sales</th>\n",
       "      <th>eu_sales</th>\n",
       "      <th>jp_sales</th>\n",
       "      <th>other_sales</th>\n",
       "      <th>critic_score</th>\n",
       "      <th>user_score</th>\n",
       "      <th>rating</th>\n",
       "      <th>total_sales</th>\n",
       "    </tr>\n",
       "  </thead>\n",
       "  <tbody>\n",
       "    <tr>\n",
       "      <td>659</td>\n",
       "      <td>NaN</td>\n",
       "      <td>GEN</td>\n",
       "      <td>1993</td>\n",
       "      <td>NaN</td>\n",
       "      <td>1.78</td>\n",
       "      <td>0.53</td>\n",
       "      <td>0.00</td>\n",
       "      <td>0.08</td>\n",
       "      <td>NaN</td>\n",
       "      <td>NaN</td>\n",
       "      <td>NaN</td>\n",
       "      <td>2.39</td>\n",
       "    </tr>\n",
       "    <tr>\n",
       "      <td>14244</td>\n",
       "      <td>NaN</td>\n",
       "      <td>GEN</td>\n",
       "      <td>1993</td>\n",
       "      <td>NaN</td>\n",
       "      <td>0.00</td>\n",
       "      <td>0.00</td>\n",
       "      <td>0.03</td>\n",
       "      <td>0.00</td>\n",
       "      <td>NaN</td>\n",
       "      <td>NaN</td>\n",
       "      <td>NaN</td>\n",
       "      <td>0.03</td>\n",
       "    </tr>\n",
       "  </tbody>\n",
       "</table>\n",
       "</div>"
      ],
      "text/plain": [
       "      name platform  year_of_release genre  na_sales  eu_sales  jp_sales  \\\n",
       "659    NaN      GEN             1993   NaN      1.78      0.53      0.00   \n",
       "14244  NaN      GEN             1993   NaN      0.00      0.00      0.03   \n",
       "\n",
       "       other_sales  critic_score user_score rating  total_sales  \n",
       "659           0.08           NaN        NaN    NaN         2.39  \n",
       "14244         0.00           NaN        NaN    NaN         0.03  "
      ]
     },
     "execution_count": 11,
     "metadata": {},
     "output_type": "execute_result"
    }
   ],
   "source": [
    "games_df[games_df['genre'].isna()]"
   ]
  },
  {
   "cell_type": "code",
   "execution_count": 12,
   "metadata": {},
   "outputs": [],
   "source": [
    "games_df=games_df.drop(games_df[games_df['genre'].isnull()].index)"
   ]
  },
  {
   "cell_type": "markdown",
   "metadata": {},
   "source": [
    "<div class=\"alert alert-block alert-success\">\n",
    "<b>Reviewer's comment</b> <a class=\"tocSkip\"></a>\n",
    "    \n",
    "Well done! у have a new column with total sales and found 2 same missing values ans delete them.Great!\n",
    "\n",
    "</div>"
   ]
  },
  {
   "cell_type": "code",
   "execution_count": 13,
   "metadata": {},
   "outputs": [],
   "source": [
    "games_df['critic_score']=games_df['critic_score'].fillna(-1)"
   ]
  },
  {
   "cell_type": "code",
   "execution_count": 14,
   "metadata": {},
   "outputs": [
    {
     "data": {
      "text/html": [
       "<div>\n",
       "<style scoped>\n",
       "    .dataframe tbody tr th:only-of-type {\n",
       "        vertical-align: middle;\n",
       "    }\n",
       "\n",
       "    .dataframe tbody tr th {\n",
       "        vertical-align: top;\n",
       "    }\n",
       "\n",
       "    .dataframe thead th {\n",
       "        text-align: right;\n",
       "    }\n",
       "</style>\n",
       "<table border=\"1\" class=\"dataframe\">\n",
       "  <thead>\n",
       "    <tr style=\"text-align: right;\">\n",
       "      <th></th>\n",
       "      <th>name</th>\n",
       "      <th>platform</th>\n",
       "      <th>year_of_release</th>\n",
       "      <th>genre</th>\n",
       "      <th>na_sales</th>\n",
       "      <th>eu_sales</th>\n",
       "      <th>jp_sales</th>\n",
       "      <th>other_sales</th>\n",
       "      <th>critic_score</th>\n",
       "      <th>user_score</th>\n",
       "      <th>rating</th>\n",
       "      <th>total_sales</th>\n",
       "    </tr>\n",
       "  </thead>\n",
       "  <tbody>\n",
       "    <tr>\n",
       "      <td>119</td>\n",
       "      <td>Zumba Fitness</td>\n",
       "      <td>Wii</td>\n",
       "      <td>2010</td>\n",
       "      <td>Sports</td>\n",
       "      <td>3.45</td>\n",
       "      <td>2.59</td>\n",
       "      <td>0.0</td>\n",
       "      <td>0.66</td>\n",
       "      <td>-1.0</td>\n",
       "      <td>tbd</td>\n",
       "      <td>E</td>\n",
       "      <td>6.70</td>\n",
       "    </tr>\n",
       "    <tr>\n",
       "      <td>301</td>\n",
       "      <td>Namco Museum: 50th Anniversary</td>\n",
       "      <td>PS2</td>\n",
       "      <td>2005</td>\n",
       "      <td>Misc</td>\n",
       "      <td>2.08</td>\n",
       "      <td>1.35</td>\n",
       "      <td>0.0</td>\n",
       "      <td>0.54</td>\n",
       "      <td>61.0</td>\n",
       "      <td>tbd</td>\n",
       "      <td>E10+</td>\n",
       "      <td>3.97</td>\n",
       "    </tr>\n",
       "    <tr>\n",
       "      <td>520</td>\n",
       "      <td>Zumba Fitness 2</td>\n",
       "      <td>Wii</td>\n",
       "      <td>2011</td>\n",
       "      <td>Sports</td>\n",
       "      <td>1.51</td>\n",
       "      <td>1.03</td>\n",
       "      <td>0.0</td>\n",
       "      <td>0.27</td>\n",
       "      <td>-1.0</td>\n",
       "      <td>tbd</td>\n",
       "      <td>T</td>\n",
       "      <td>2.81</td>\n",
       "    </tr>\n",
       "    <tr>\n",
       "      <td>645</td>\n",
       "      <td>uDraw Studio</td>\n",
       "      <td>Wii</td>\n",
       "      <td>2010</td>\n",
       "      <td>Misc</td>\n",
       "      <td>1.65</td>\n",
       "      <td>0.57</td>\n",
       "      <td>0.0</td>\n",
       "      <td>0.20</td>\n",
       "      <td>71.0</td>\n",
       "      <td>tbd</td>\n",
       "      <td>E</td>\n",
       "      <td>2.42</td>\n",
       "    </tr>\n",
       "    <tr>\n",
       "      <td>657</td>\n",
       "      <td>Frogger's Adventures: Temple of the Frog</td>\n",
       "      <td>GBA</td>\n",
       "      <td>1980</td>\n",
       "      <td>Adventure</td>\n",
       "      <td>2.15</td>\n",
       "      <td>0.18</td>\n",
       "      <td>0.0</td>\n",
       "      <td>0.07</td>\n",
       "      <td>73.0</td>\n",
       "      <td>tbd</td>\n",
       "      <td>E</td>\n",
       "      <td>2.40</td>\n",
       "    </tr>\n",
       "    <tr>\n",
       "      <td>...</td>\n",
       "      <td>...</td>\n",
       "      <td>...</td>\n",
       "      <td>...</td>\n",
       "      <td>...</td>\n",
       "      <td>...</td>\n",
       "      <td>...</td>\n",
       "      <td>...</td>\n",
       "      <td>...</td>\n",
       "      <td>...</td>\n",
       "      <td>...</td>\n",
       "      <td>...</td>\n",
       "      <td>...</td>\n",
       "    </tr>\n",
       "    <tr>\n",
       "      <td>16695</td>\n",
       "      <td>Planet Monsters</td>\n",
       "      <td>GBA</td>\n",
       "      <td>2001</td>\n",
       "      <td>Action</td>\n",
       "      <td>0.01</td>\n",
       "      <td>0.00</td>\n",
       "      <td>0.0</td>\n",
       "      <td>0.00</td>\n",
       "      <td>67.0</td>\n",
       "      <td>tbd</td>\n",
       "      <td>E</td>\n",
       "      <td>0.01</td>\n",
       "    </tr>\n",
       "    <tr>\n",
       "      <td>16697</td>\n",
       "      <td>Bust-A-Move 3000</td>\n",
       "      <td>GC</td>\n",
       "      <td>2003</td>\n",
       "      <td>Puzzle</td>\n",
       "      <td>0.01</td>\n",
       "      <td>0.00</td>\n",
       "      <td>0.0</td>\n",
       "      <td>0.00</td>\n",
       "      <td>53.0</td>\n",
       "      <td>tbd</td>\n",
       "      <td>E</td>\n",
       "      <td>0.01</td>\n",
       "    </tr>\n",
       "    <tr>\n",
       "      <td>16698</td>\n",
       "      <td>Mega Brain Boost</td>\n",
       "      <td>DS</td>\n",
       "      <td>2008</td>\n",
       "      <td>Puzzle</td>\n",
       "      <td>0.01</td>\n",
       "      <td>0.00</td>\n",
       "      <td>0.0</td>\n",
       "      <td>0.00</td>\n",
       "      <td>48.0</td>\n",
       "      <td>tbd</td>\n",
       "      <td>E</td>\n",
       "      <td>0.01</td>\n",
       "    </tr>\n",
       "    <tr>\n",
       "      <td>16704</td>\n",
       "      <td>Plushees</td>\n",
       "      <td>DS</td>\n",
       "      <td>2008</td>\n",
       "      <td>Simulation</td>\n",
       "      <td>0.01</td>\n",
       "      <td>0.00</td>\n",
       "      <td>0.0</td>\n",
       "      <td>0.00</td>\n",
       "      <td>-1.0</td>\n",
       "      <td>tbd</td>\n",
       "      <td>E</td>\n",
       "      <td>0.01</td>\n",
       "    </tr>\n",
       "    <tr>\n",
       "      <td>16706</td>\n",
       "      <td>Men in Black II: Alien Escape</td>\n",
       "      <td>GC</td>\n",
       "      <td>2003</td>\n",
       "      <td>Shooter</td>\n",
       "      <td>0.01</td>\n",
       "      <td>0.00</td>\n",
       "      <td>0.0</td>\n",
       "      <td>0.00</td>\n",
       "      <td>-1.0</td>\n",
       "      <td>tbd</td>\n",
       "      <td>T</td>\n",
       "      <td>0.01</td>\n",
       "    </tr>\n",
       "  </tbody>\n",
       "</table>\n",
       "<p>2424 rows × 12 columns</p>\n",
       "</div>"
      ],
      "text/plain": [
       "                                           name platform  year_of_release  \\\n",
       "119                               Zumba Fitness      Wii             2010   \n",
       "301              Namco Museum: 50th Anniversary      PS2             2005   \n",
       "520                             Zumba Fitness 2      Wii             2011   \n",
       "645                                uDraw Studio      Wii             2010   \n",
       "657    Frogger's Adventures: Temple of the Frog      GBA             1980   \n",
       "...                                         ...      ...              ...   \n",
       "16695                           Planet Monsters      GBA             2001   \n",
       "16697                          Bust-A-Move 3000       GC             2003   \n",
       "16698                          Mega Brain Boost       DS             2008   \n",
       "16704                                  Plushees       DS             2008   \n",
       "16706             Men in Black II: Alien Escape       GC             2003   \n",
       "\n",
       "            genre  na_sales  eu_sales  jp_sales  other_sales  critic_score  \\\n",
       "119        Sports      3.45      2.59       0.0         0.66          -1.0   \n",
       "301          Misc      2.08      1.35       0.0         0.54          61.0   \n",
       "520        Sports      1.51      1.03       0.0         0.27          -1.0   \n",
       "645          Misc      1.65      0.57       0.0         0.20          71.0   \n",
       "657     Adventure      2.15      0.18       0.0         0.07          73.0   \n",
       "...           ...       ...       ...       ...          ...           ...   \n",
       "16695      Action      0.01      0.00       0.0         0.00          67.0   \n",
       "16697      Puzzle      0.01      0.00       0.0         0.00          53.0   \n",
       "16698      Puzzle      0.01      0.00       0.0         0.00          48.0   \n",
       "16704  Simulation      0.01      0.00       0.0         0.00          -1.0   \n",
       "16706     Shooter      0.01      0.00       0.0         0.00          -1.0   \n",
       "\n",
       "      user_score rating  total_sales  \n",
       "119          tbd      E         6.70  \n",
       "301          tbd   E10+         3.97  \n",
       "520          tbd      T         2.81  \n",
       "645          tbd      E         2.42  \n",
       "657          tbd      E         2.40  \n",
       "...          ...    ...          ...  \n",
       "16695        tbd      E         0.01  \n",
       "16697        tbd      E         0.01  \n",
       "16698        tbd      E         0.01  \n",
       "16704        tbd      E         0.01  \n",
       "16706        tbd      T         0.01  \n",
       "\n",
       "[2424 rows x 12 columns]"
      ]
     },
     "execution_count": 14,
     "metadata": {},
     "output_type": "execute_result"
    }
   ],
   "source": [
    "games_df[games_df['user_score']=='tbd']"
   ]
  },
  {
   "cell_type": "code",
   "execution_count": 15,
   "metadata": {},
   "outputs": [],
   "source": [
    "games_df['user_score'] = games_df['user_score'].replace('tbd',0)"
   ]
  },
  {
   "cell_type": "markdown",
   "metadata": {},
   "source": [
    "<div class=\"alert alert-block alert-success\">\n",
    "<b>Reviewer's comment</b> <a class=\"tocSkip\"></a>\n",
    "    \n",
    "Great idea! :) \n",
    "\n",
    "</div>"
   ]
  },
  {
   "cell_type": "code",
   "execution_count": 16,
   "metadata": {},
   "outputs": [],
   "source": [
    "games_df['user_score']= games_df['user_score'].astype('float')"
   ]
  },
  {
   "cell_type": "code",
   "execution_count": 17,
   "metadata": {},
   "outputs": [],
   "source": [
    "games_df['user_score'] = games_df['user_score'].fillna(-1)"
   ]
  },
  {
   "cell_type": "code",
   "execution_count": 18,
   "metadata": {},
   "outputs": [
    {
     "data": {
      "text/plain": [
       "-1.0    6699\n",
       " 0.0    2425\n",
       " 7.8     324\n",
       " 8.0     290\n",
       " 8.2     282\n",
       "        ... \n",
       " 2.3       2\n",
       " 1.3       2\n",
       " 1.9       2\n",
       " 9.6       2\n",
       " 9.7       1\n",
       "Name: user_score, Length: 96, dtype: int64"
      ]
     },
     "execution_count": 18,
     "metadata": {},
     "output_type": "execute_result"
    }
   ],
   "source": [
    "games_df['user_score'].value_counts()"
   ]
  },
  {
   "cell_type": "markdown",
   "metadata": {},
   "source": [
    "<div class=\"alert alert-block alert-success\">\n",
    "<b>Reviewer's comment</b> <a class=\"tocSkip\"></a>\n",
    "\n",
    "Well done! :) \n",
    "</div>"
   ]
  },
  {
   "cell_type": "code",
   "execution_count": 19,
   "metadata": {},
   "outputs": [],
   "source": [
    "games_df['genre']= games_df['genre'].str.lower()"
   ]
  },
  {
   "cell_type": "code",
   "execution_count": 20,
   "metadata": {},
   "outputs": [
    {
     "data": {
      "text/plain": [
       "E       3990\n",
       "T       2961\n",
       "M       1563\n",
       "E10+    1420\n",
       "EC         8\n",
       "RP         3\n",
       "K-A        3\n",
       "AO         1\n",
       "Name: rating, dtype: int64"
      ]
     },
     "execution_count": 20,
     "metadata": {},
     "output_type": "execute_result"
    }
   ],
   "source": [
    "games_df['rating'].value_counts()"
   ]
  },
  {
   "cell_type": "code",
   "execution_count": 21,
   "metadata": {},
   "outputs": [],
   "source": [
    "games_df.loc[(games_df.rating.isnull()),'rating']='NA'"
   ]
  },
  {
   "cell_type": "markdown",
   "metadata": {},
   "source": [
    "<div class=\"alert alert-block alert-success\">\n",
    "<b>Reviewer's comment</b> <a class=\"tocSkip\"></a>\n",
    "    \n",
    "Excellent variant!\n",
    "\n",
    "</div>"
   ]
  },
  {
   "cell_type": "code",
   "execution_count": 22,
   "metadata": {},
   "outputs": [
    {
     "data": {
      "text/plain": [
       "0"
      ]
     },
     "execution_count": 22,
     "metadata": {},
     "output_type": "execute_result"
    }
   ],
   "source": [
    "games_df.duplicated().sum()"
   ]
  },
  {
   "cell_type": "markdown",
   "metadata": {},
   "source": [
    "## Conclusion\n",
    "\n",
    "By the description of the data, it's evident that, the least year is 1980 with 2016 being the later year. NA_sales seem to have some extreme sales values relative to their mean and median values. With the exception of critic score which seems to symmetrical arround the mean, the rest of the columns are right skewed. \n",
    "\n",
    "The missing values for names were droped as its difficult to fill them in without appropriate reference guide.\n",
    "That for year of release was filled in with the min year of the column with missing genre columns also being dropped.\n",
    "\n",
    "TBD user_score ratings were filled with zero as there is actually no score for it or yet to be determined.\n",
    "\n",
    "Critic_score and user_score missing values were filled with -1.\n",
    "\n",
    "Missing rating values were filled with NA as again, there is actually no rating given."
   ]
  },
  {
   "cell_type": "markdown",
   "metadata": {},
   "source": [
    "<div class=\"alert alert-block alert-success\">\n",
    "<b>Reviewer's comment</b> <a class=\"tocSkip\"></a>\n",
    "    \n",
    "Well done! Thank you for the conclusion after step. It makes our research more informable and detailed.\n",
    "</div>"
   ]
  },
  {
   "cell_type": "markdown",
   "metadata": {},
   "source": [
    "### Review of games released accross the years"
   ]
  },
  {
   "cell_type": "code",
   "execution_count": 23,
   "metadata": {},
   "outputs": [
    {
     "data": {
      "image/png": "[encoded data removed]",
      "text/plain": [
       "<Figure size 648x360 with 1 Axes>"
      ]
     },
     "metadata": {
      "needs_background": "light"
     },
     "output_type": "display_data"
    }
   ],
   "source": [
    "(games_df\n",
    " .pivot_table(index='year_of_release',values='name',aggfunc='count')\n",
    " .sort_values('year_of_release',ascending=False)\n",
    " .plot(figsize=(9,5),legend=False,title='Total games release by year',grid=True))\n",
    "plt.ylabel('Count')\n",
    "plt.xlabel('Year of release');"
   ]
  },
  {
   "cell_type": "markdown",
   "metadata": {},
   "source": [
    "### Conclusion\n",
    "\n",
    "The graph above of games released by year show significant increase from 1995 with a peak at 2009 before having a stip decline to 2016.Those from 1980 to 1995 were very minimal.\n",
    "By this, its clear most of the relevant data worthy of use in the analysis would have to be after 1995."
   ]
  },
  {
   "cell_type": "markdown",
   "metadata": {},
   "source": [
    "<div class=\"alert alert-block alert-success\">\n",
    "<b>Reviewer's comment</b> <a class=\"tocSkip\"></a>\n",
    "    \n",
    "Excellent type of graph! We can see years and numbers of games of each platform!\n",
    "\n",
    "\n",
    "How do you think, why we have increse after 2000 and decrease after 2010?</div>"
   ]
  },
  {
   "cell_type": "markdown",
   "metadata": {},
   "source": [
    "### Review of sales by platform for high performing one and those with zero sales\n"
   ]
  },
  {
   "cell_type": "code",
   "execution_count": 24,
   "metadata": {
    "scrolled": false
   },
   "outputs": [
    {
     "data": {
      "image/png": "[encoded data removed]",
      "text/plain": [
       "<Figure size 648x432 with 1 Axes>"
      ]
     },
     "metadata": {
      "needs_background": "light"
     },
     "output_type": "display_data"
    }
   ],
   "source": [
    "games_df_pivoted = (games_df\n",
    " .pivot_table(index='platform',values='total_sales',aggfunc='sum').sort_values('total_sales',ascending =False))\n",
    "games_df_pivoted.plot(kind='bar',grid=True,figsize=(9,6))\n",
    "plt.title('Total Sales by platform')\n",
    "plt.xlabel('Platforms')\n",
    "plt.ylabel('Total sales');"
   ]
  },
  {
   "cell_type": "code",
   "execution_count": 25,
   "metadata": {
    "scrolled": false
   },
   "outputs": [
    {
     "data": {
      "text/html": [
       "<div>\n",
       "<style scoped>\n",
       "    .dataframe tbody tr th:only-of-type {\n",
       "        vertical-align: middle;\n",
       "    }\n",
       "\n",
       "    .dataframe tbody tr th {\n",
       "        vertical-align: top;\n",
       "    }\n",
       "\n",
       "    .dataframe thead th {\n",
       "        text-align: right;\n",
       "    }\n",
       "</style>\n",
       "<table border=\"1\" class=\"dataframe\">\n",
       "  <thead>\n",
       "    <tr style=\"text-align: right;\">\n",
       "      <th></th>\n",
       "      <th>total_sales</th>\n",
       "    </tr>\n",
       "    <tr>\n",
       "      <th>platform</th>\n",
       "      <th></th>\n",
       "    </tr>\n",
       "  </thead>\n",
       "  <tbody>\n",
       "    <tr>\n",
       "      <td>PS2</td>\n",
       "      <td>1255.77</td>\n",
       "    </tr>\n",
       "    <tr>\n",
       "      <td>X360</td>\n",
       "      <td>971.42</td>\n",
       "    </tr>\n",
       "    <tr>\n",
       "      <td>PS3</td>\n",
       "      <td>939.65</td>\n",
       "    </tr>\n",
       "    <tr>\n",
       "      <td>Wii</td>\n",
       "      <td>907.51</td>\n",
       "    </tr>\n",
       "    <tr>\n",
       "      <td>DS</td>\n",
       "      <td>806.12</td>\n",
       "    </tr>\n",
       "    <tr>\n",
       "      <td>PS</td>\n",
       "      <td>730.86</td>\n",
       "    </tr>\n",
       "    <tr>\n",
       "      <td>GBA</td>\n",
       "      <td>317.85</td>\n",
       "    </tr>\n",
       "    <tr>\n",
       "      <td>PS4</td>\n",
       "      <td>314.14</td>\n",
       "    </tr>\n",
       "    <tr>\n",
       "      <td>PSP</td>\n",
       "      <td>294.05</td>\n",
       "    </tr>\n",
       "    <tr>\n",
       "      <td>PC</td>\n",
       "      <td>259.52</td>\n",
       "    </tr>\n",
       "  </tbody>\n",
       "</table>\n",
       "</div>"
      ],
      "text/plain": [
       "          total_sales\n",
       "platform             \n",
       "PS2           1255.77\n",
       "X360           971.42\n",
       "PS3            939.65\n",
       "Wii            907.51\n",
       "DS             806.12\n",
       "PS             730.86\n",
       "GBA            317.85\n",
       "PS4            314.14\n",
       "PSP            294.05\n",
       "PC             259.52"
      ]
     },
     "execution_count": 25,
     "metadata": {},
     "output_type": "execute_result"
    }
   ],
   "source": [
    "games_df_platform =pd.DataFrame(games_df_pivoted.head(10))\n",
    "games_df_platform"
   ]
  },
  {
   "cell_type": "markdown",
   "metadata": {},
   "source": [
    "### Conclusion\n",
    "\n",
    "The top 10 most profitable patforms selected from the pivot table shows PS2, X360, PS3 etc among the leading platforms with 3DO, GG and PCFX being the least profitable."
   ]
  },
  {
   "cell_type": "code",
   "execution_count": 26,
   "metadata": {},
   "outputs": [
    {
     "data": {
      "image/png": "[encoded data removed]",
      "text/plain": [
       "<Figure size 792x504 with 1 Axes>"
      ]
     },
     "metadata": {
      "needs_background": "light"
     },
     "output_type": "display_data"
    }
   ],
   "source": [
    "(games_df.query('platform in @games_df_platform.index')\n",
    " .groupby('platform')['year_of_release'].plot(kind='kde',legend=True,figsize=(11,7)))\n",
    "plt.xlabel('year of release')\n",
    "plt.ylabel('kde')\n",
    "plt.title('Distribution of platform with greatest sales')\n",
    "\n",
    "plt.show();"
   ]
  },
  {
   "cell_type": "markdown",
   "metadata": {},
   "source": [
    "### Conclusion\n",
    "A plot of the top 10 most performing platforms show their popularity started after 1995. PS which was first introduced in 1997 was the gainer until GBA was introduced in 2002. Wii and PC which were both introducd in 2006 also gained popularity until PS4 in 2013."
   ]
  },
  {
   "cell_type": "code",
   "execution_count": 27,
   "metadata": {},
   "outputs": [
    {
     "data": {
      "text/html": [
       "<div>\n",
       "<style scoped>\n",
       "    .dataframe tbody tr th:only-of-type {\n",
       "        vertical-align: middle;\n",
       "    }\n",
       "\n",
       "    .dataframe tbody tr th {\n",
       "        vertical-align: top;\n",
       "    }\n",
       "\n",
       "    .dataframe thead th {\n",
       "        text-align: right;\n",
       "    }\n",
       "</style>\n",
       "<table border=\"1\" class=\"dataframe\">\n",
       "  <thead>\n",
       "    <tr style=\"text-align: right;\">\n",
       "      <th></th>\n",
       "      <th>platform</th>\n",
       "      <th>year_of_release</th>\n",
       "      <th>total_sales</th>\n",
       "    </tr>\n",
       "  </thead>\n",
       "  <tbody>\n",
       "    <tr>\n",
       "      <td>0</td>\n",
       "      <td>2600</td>\n",
       "      <td>1980</td>\n",
       "      <td>21.88</td>\n",
       "    </tr>\n",
       "    <tr>\n",
       "      <td>1</td>\n",
       "      <td>2600</td>\n",
       "      <td>1981</td>\n",
       "      <td>35.68</td>\n",
       "    </tr>\n",
       "    <tr>\n",
       "      <td>2</td>\n",
       "      <td>2600</td>\n",
       "      <td>1982</td>\n",
       "      <td>28.88</td>\n",
       "    </tr>\n",
       "    <tr>\n",
       "      <td>3</td>\n",
       "      <td>2600</td>\n",
       "      <td>1983</td>\n",
       "      <td>5.84</td>\n",
       "    </tr>\n",
       "    <tr>\n",
       "      <td>4</td>\n",
       "      <td>2600</td>\n",
       "      <td>1984</td>\n",
       "      <td>0.27</td>\n",
       "    </tr>\n",
       "    <tr>\n",
       "      <td>...</td>\n",
       "      <td>...</td>\n",
       "      <td>...</td>\n",
       "      <td>...</td>\n",
       "    </tr>\n",
       "    <tr>\n",
       "      <td>248</td>\n",
       "      <td>XB</td>\n",
       "      <td>2008</td>\n",
       "      <td>0.18</td>\n",
       "    </tr>\n",
       "    <tr>\n",
       "      <td>249</td>\n",
       "      <td>XOne</td>\n",
       "      <td>2013</td>\n",
       "      <td>18.96</td>\n",
       "    </tr>\n",
       "    <tr>\n",
       "      <td>250</td>\n",
       "      <td>XOne</td>\n",
       "      <td>2014</td>\n",
       "      <td>54.07</td>\n",
       "    </tr>\n",
       "    <tr>\n",
       "      <td>251</td>\n",
       "      <td>XOne</td>\n",
       "      <td>2015</td>\n",
       "      <td>60.14</td>\n",
       "    </tr>\n",
       "    <tr>\n",
       "      <td>252</td>\n",
       "      <td>XOne</td>\n",
       "      <td>2016</td>\n",
       "      <td>26.15</td>\n",
       "    </tr>\n",
       "  </tbody>\n",
       "</table>\n",
       "<p>253 rows × 3 columns</p>\n",
       "</div>"
      ],
      "text/plain": [
       "    platform  year_of_release  total_sales\n",
       "0       2600             1980        21.88\n",
       "1       2600             1981        35.68\n",
       "2       2600             1982        28.88\n",
       "3       2600             1983         5.84\n",
       "4       2600             1984         0.27\n",
       "..       ...              ...          ...\n",
       "248       XB             2008         0.18\n",
       "249     XOne             2013        18.96\n",
       "250     XOne             2014        54.07\n",
       "251     XOne             2015        60.14\n",
       "252     XOne             2016        26.15\n",
       "\n",
       "[253 rows x 3 columns]"
      ]
     },
     "execution_count": 27,
     "metadata": {},
     "output_type": "execute_result"
    }
   ],
   "source": [
    "games_df_02 = games_df.groupby(['platform','year_of_release'])['total_sales'].sum().reset_index()\n",
    "games_df_02"
   ]
  },
  {
   "cell_type": "code",
   "execution_count": 28,
   "metadata": {},
   "outputs": [
    {
     "data": {
      "text/html": [
       "<div>\n",
       "<style scoped>\n",
       "    .dataframe tbody tr th:only-of-type {\n",
       "        vertical-align: middle;\n",
       "    }\n",
       "\n",
       "    .dataframe tbody tr th {\n",
       "        vertical-align: top;\n",
       "    }\n",
       "\n",
       "    .dataframe thead th {\n",
       "        text-align: right;\n",
       "    }\n",
       "</style>\n",
       "<table border=\"1\" class=\"dataframe\">\n",
       "  <thead>\n",
       "    <tr style=\"text-align: right;\">\n",
       "      <th></th>\n",
       "      <th>platform</th>\n",
       "      <th>year_of_release</th>\n",
       "      <th>total_sales</th>\n",
       "    </tr>\n",
       "  </thead>\n",
       "  <tbody>\n",
       "    <tr>\n",
       "      <td>10</td>\n",
       "      <td>3DO</td>\n",
       "      <td>1994</td>\n",
       "      <td>0.02</td>\n",
       "    </tr>\n",
       "    <tr>\n",
       "      <td>11</td>\n",
       "      <td>3DO</td>\n",
       "      <td>1995</td>\n",
       "      <td>0.08</td>\n",
       "    </tr>\n",
       "    <tr>\n",
       "      <td>24</td>\n",
       "      <td>DC</td>\n",
       "      <td>2007</td>\n",
       "      <td>0.02</td>\n",
       "    </tr>\n",
       "    <tr>\n",
       "      <td>25</td>\n",
       "      <td>DC</td>\n",
       "      <td>2008</td>\n",
       "      <td>0.04</td>\n",
       "    </tr>\n",
       "    <tr>\n",
       "      <td>27</td>\n",
       "      <td>DS</td>\n",
       "      <td>1985</td>\n",
       "      <td>0.02</td>\n",
       "    </tr>\n",
       "    <tr>\n",
       "      <td>53</td>\n",
       "      <td>GBA</td>\n",
       "      <td>2000</td>\n",
       "      <td>0.07</td>\n",
       "    </tr>\n",
       "    <tr>\n",
       "      <td>74</td>\n",
       "      <td>GG</td>\n",
       "      <td>1992</td>\n",
       "      <td>0.04</td>\n",
       "    </tr>\n",
       "    <tr>\n",
       "      <td>82</td>\n",
       "      <td>N64</td>\n",
       "      <td>2002</td>\n",
       "      <td>0.08</td>\n",
       "    </tr>\n",
       "    <tr>\n",
       "      <td>100</td>\n",
       "      <td>PC</td>\n",
       "      <td>1985</td>\n",
       "      <td>0.04</td>\n",
       "    </tr>\n",
       "    <tr>\n",
       "      <td>101</td>\n",
       "      <td>PC</td>\n",
       "      <td>1988</td>\n",
       "      <td>0.03</td>\n",
       "    </tr>\n",
       "    <tr>\n",
       "      <td>126</td>\n",
       "      <td>PCFX</td>\n",
       "      <td>1996</td>\n",
       "      <td>0.03</td>\n",
       "    </tr>\n",
       "    <tr>\n",
       "      <td>192</td>\n",
       "      <td>SAT</td>\n",
       "      <td>1999</td>\n",
       "      <td>0.09</td>\n",
       "    </tr>\n",
       "  </tbody>\n",
       "</table>\n",
       "</div>"
      ],
      "text/plain": [
       "    platform  year_of_release  total_sales\n",
       "10       3DO             1994         0.02\n",
       "11       3DO             1995         0.08\n",
       "24        DC             2007         0.02\n",
       "25        DC             2008         0.04\n",
       "27        DS             1985         0.02\n",
       "53       GBA             2000         0.07\n",
       "74        GG             1992         0.04\n",
       "82       N64             2002         0.08\n",
       "100       PC             1985         0.04\n",
       "101       PC             1988         0.03\n",
       "126     PCFX             1996         0.03\n",
       "192      SAT             1999         0.09"
      ]
     },
     "execution_count": 28,
     "metadata": {},
     "output_type": "execute_result"
    }
   ],
   "source": [
    "games_df_02[games_df_02['total_sales']<0.1]"
   ]
  },
  {
   "cell_type": "markdown",
   "metadata": {},
   "source": [
    "This shows platforms that currently have profits approximately zero "
   ]
  },
  {
   "cell_type": "markdown",
   "metadata": {},
   "source": [
    "The initail graph depicted the performance of the platforms over the years. I have deleted it since the graphics are not showing propering as it is in my notebook especially with the labels."
   ]
  },
  {
   "cell_type": "code",
   "execution_count": 29,
   "metadata": {},
   "outputs": [
    {
     "data": {
      "text/html": [
       "<div>\n",
       "<style scoped>\n",
       "    .dataframe tbody tr th:only-of-type {\n",
       "        vertical-align: middle;\n",
       "    }\n",
       "\n",
       "    .dataframe tbody tr th {\n",
       "        vertical-align: top;\n",
       "    }\n",
       "\n",
       "    .dataframe thead th {\n",
       "        text-align: right;\n",
       "    }\n",
       "</style>\n",
       "<table border=\"1\" class=\"dataframe\">\n",
       "  <thead>\n",
       "    <tr style=\"text-align: right;\">\n",
       "      <th></th>\n",
       "      <th>name</th>\n",
       "      <th>year_of_release</th>\n",
       "      <th>genre</th>\n",
       "      <th>na_sales</th>\n",
       "      <th>eu_sales</th>\n",
       "      <th>jp_sales</th>\n",
       "      <th>other_sales</th>\n",
       "      <th>critic_score</th>\n",
       "      <th>user_score</th>\n",
       "      <th>rating</th>\n",
       "      <th>total_sales</th>\n",
       "    </tr>\n",
       "    <tr>\n",
       "      <th>platform</th>\n",
       "      <th></th>\n",
       "      <th></th>\n",
       "      <th></th>\n",
       "      <th></th>\n",
       "      <th></th>\n",
       "      <th></th>\n",
       "      <th></th>\n",
       "      <th></th>\n",
       "      <th></th>\n",
       "      <th></th>\n",
       "      <th></th>\n",
       "    </tr>\n",
       "  </thead>\n",
       "  <tbody>\n",
       "    <tr>\n",
       "      <td>XOne</td>\n",
       "      <td>Call of Duty: Black Ops 3</td>\n",
       "      <td>2015</td>\n",
       "      <td>shooter</td>\n",
       "      <td>4.59</td>\n",
       "      <td>2.11</td>\n",
       "      <td>0.01</td>\n",
       "      <td>0.68</td>\n",
       "      <td>-1.0</td>\n",
       "      <td>-1.0</td>\n",
       "      <td>NA</td>\n",
       "      <td>7.39</td>\n",
       "    </tr>\n",
       "    <tr>\n",
       "      <td>PS4</td>\n",
       "      <td>Call of Duty: Black Ops 3</td>\n",
       "      <td>2015</td>\n",
       "      <td>shooter</td>\n",
       "      <td>6.03</td>\n",
       "      <td>5.86</td>\n",
       "      <td>0.36</td>\n",
       "      <td>2.38</td>\n",
       "      <td>-1.0</td>\n",
       "      <td>-1.0</td>\n",
       "      <td>NA</td>\n",
       "      <td>14.63</td>\n",
       "    </tr>\n",
       "    <tr>\n",
       "      <td>PSV</td>\n",
       "      <td>Minecraft</td>\n",
       "      <td>2014</td>\n",
       "      <td>misc</td>\n",
       "      <td>0.18</td>\n",
       "      <td>0.64</td>\n",
       "      <td>0.90</td>\n",
       "      <td>0.24</td>\n",
       "      <td>-1.0</td>\n",
       "      <td>-1.0</td>\n",
       "      <td>NA</td>\n",
       "      <td>1.96</td>\n",
       "    </tr>\n",
       "    <tr>\n",
       "      <td>WiiU</td>\n",
       "      <td>Mario Kart 8</td>\n",
       "      <td>2014</td>\n",
       "      <td>racing</td>\n",
       "      <td>3.15</td>\n",
       "      <td>2.15</td>\n",
       "      <td>1.28</td>\n",
       "      <td>0.51</td>\n",
       "      <td>88.0</td>\n",
       "      <td>9.1</td>\n",
       "      <td>E</td>\n",
       "      <td>7.09</td>\n",
       "    </tr>\n",
       "    <tr>\n",
       "      <td>PS3</td>\n",
       "      <td>Grand Theft Auto V</td>\n",
       "      <td>2013</td>\n",
       "      <td>action</td>\n",
       "      <td>7.02</td>\n",
       "      <td>9.09</td>\n",
       "      <td>0.98</td>\n",
       "      <td>3.96</td>\n",
       "      <td>97.0</td>\n",
       "      <td>8.2</td>\n",
       "      <td>M</td>\n",
       "      <td>21.05</td>\n",
       "    </tr>\n",
       "    <tr>\n",
       "      <td>3DS</td>\n",
       "      <td>Pokemon X/Pokemon Y</td>\n",
       "      <td>2013</td>\n",
       "      <td>role-playing</td>\n",
       "      <td>5.28</td>\n",
       "      <td>4.19</td>\n",
       "      <td>4.35</td>\n",
       "      <td>0.78</td>\n",
       "      <td>-1.0</td>\n",
       "      <td>-1.0</td>\n",
       "      <td>NA</td>\n",
       "      <td>14.60</td>\n",
       "    </tr>\n",
       "    <tr>\n",
       "      <td>X360</td>\n",
       "      <td>Kinect Adventures!</td>\n",
       "      <td>2010</td>\n",
       "      <td>misc</td>\n",
       "      <td>15.00</td>\n",
       "      <td>4.89</td>\n",
       "      <td>0.24</td>\n",
       "      <td>1.69</td>\n",
       "      <td>61.0</td>\n",
       "      <td>6.3</td>\n",
       "      <td>E</td>\n",
       "      <td>21.82</td>\n",
       "    </tr>\n",
       "    <tr>\n",
       "      <td>PC</td>\n",
       "      <td>The Sims 3</td>\n",
       "      <td>2009</td>\n",
       "      <td>simulation</td>\n",
       "      <td>0.99</td>\n",
       "      <td>6.42</td>\n",
       "      <td>0.00</td>\n",
       "      <td>0.60</td>\n",
       "      <td>86.0</td>\n",
       "      <td>7.6</td>\n",
       "      <td>T</td>\n",
       "      <td>8.01</td>\n",
       "    </tr>\n",
       "    <tr>\n",
       "      <td>Wii</td>\n",
       "      <td>Wii Sports</td>\n",
       "      <td>2006</td>\n",
       "      <td>sports</td>\n",
       "      <td>41.36</td>\n",
       "      <td>28.96</td>\n",
       "      <td>3.77</td>\n",
       "      <td>8.45</td>\n",
       "      <td>76.0</td>\n",
       "      <td>8.0</td>\n",
       "      <td>E</td>\n",
       "      <td>82.54</td>\n",
       "    </tr>\n",
       "    <tr>\n",
       "      <td>DS</td>\n",
       "      <td>New Super Mario Bros.</td>\n",
       "      <td>2006</td>\n",
       "      <td>platform</td>\n",
       "      <td>11.28</td>\n",
       "      <td>9.14</td>\n",
       "      <td>6.50</td>\n",
       "      <td>2.88</td>\n",
       "      <td>89.0</td>\n",
       "      <td>8.5</td>\n",
       "      <td>E</td>\n",
       "      <td>29.80</td>\n",
       "    </tr>\n",
       "  </tbody>\n",
       "</table>\n",
       "</div>"
      ],
      "text/plain": [
       "                               name  year_of_release         genre  na_sales  \\\n",
       "platform                                                                       \n",
       "XOne      Call of Duty: Black Ops 3             2015       shooter      4.59   \n",
       "PS4       Call of Duty: Black Ops 3             2015       shooter      6.03   \n",
       "PSV                       Minecraft             2014          misc      0.18   \n",
       "WiiU                   Mario Kart 8             2014        racing      3.15   \n",
       "PS3              Grand Theft Auto V             2013        action      7.02   \n",
       "3DS             Pokemon X/Pokemon Y             2013  role-playing      5.28   \n",
       "X360             Kinect Adventures!             2010          misc     15.00   \n",
       "PC                       The Sims 3             2009    simulation      0.99   \n",
       "Wii                      Wii Sports             2006        sports     41.36   \n",
       "DS            New Super Mario Bros.             2006      platform     11.28   \n",
       "\n",
       "          eu_sales  jp_sales  other_sales  critic_score  user_score rating  \\\n",
       "platform                                                                     \n",
       "XOne          2.11      0.01         0.68          -1.0        -1.0     NA   \n",
       "PS4           5.86      0.36         2.38          -1.0        -1.0     NA   \n",
       "PSV           0.64      0.90         0.24          -1.0        -1.0     NA   \n",
       "WiiU          2.15      1.28         0.51          88.0         9.1      E   \n",
       "PS3           9.09      0.98         3.96          97.0         8.2      M   \n",
       "3DS           4.19      4.35         0.78          -1.0        -1.0     NA   \n",
       "X360          4.89      0.24         1.69          61.0         6.3      E   \n",
       "PC            6.42      0.00         0.60          86.0         7.6      T   \n",
       "Wii          28.96      3.77         8.45          76.0         8.0      E   \n",
       "DS            9.14      6.50         2.88          89.0         8.5      E   \n",
       "\n",
       "          total_sales  \n",
       "platform               \n",
       "XOne             7.39  \n",
       "PS4             14.63  \n",
       "PSV              1.96  \n",
       "WiiU             7.09  \n",
       "PS3             21.05  \n",
       "3DS             14.60  \n",
       "X360            21.82  \n",
       "PC               8.01  \n",
       "Wii             82.54  \n",
       "DS              29.80  "
      ]
     },
     "execution_count": 29,
     "metadata": {},
     "output_type": "execute_result"
    }
   ],
   "source": [
    "grouped_first = games_df.groupby('platform').first()\n",
    "grouped_first.sort_values('year_of_release',ascending=False).head(10)"
   ]
  },
  {
   "cell_type": "code",
   "execution_count": 30,
   "metadata": {},
   "outputs": [
    {
     "data": {
      "text/html": [
       "<div>\n",
       "<style scoped>\n",
       "    .dataframe tbody tr th:only-of-type {\n",
       "        vertical-align: middle;\n",
       "    }\n",
       "\n",
       "    .dataframe tbody tr th {\n",
       "        vertical-align: top;\n",
       "    }\n",
       "\n",
       "    .dataframe thead th {\n",
       "        text-align: right;\n",
       "    }\n",
       "</style>\n",
       "<table border=\"1\" class=\"dataframe\">\n",
       "  <thead>\n",
       "    <tr style=\"text-align: right;\">\n",
       "      <th></th>\n",
       "      <th>name</th>\n",
       "      <th>year_of_release</th>\n",
       "      <th>genre</th>\n",
       "      <th>na_sales</th>\n",
       "      <th>eu_sales</th>\n",
       "      <th>jp_sales</th>\n",
       "      <th>other_sales</th>\n",
       "      <th>critic_score</th>\n",
       "      <th>user_score</th>\n",
       "      <th>rating</th>\n",
       "      <th>total_sales</th>\n",
       "    </tr>\n",
       "    <tr>\n",
       "      <th>platform</th>\n",
       "      <th></th>\n",
       "      <th></th>\n",
       "      <th></th>\n",
       "      <th></th>\n",
       "      <th></th>\n",
       "      <th></th>\n",
       "      <th></th>\n",
       "      <th></th>\n",
       "      <th></th>\n",
       "      <th></th>\n",
       "      <th></th>\n",
       "    </tr>\n",
       "  </thead>\n",
       "  <tbody>\n",
       "    <tr>\n",
       "      <td>2600</td>\n",
       "      <td>Super Baseball</td>\n",
       "      <td>1987</td>\n",
       "      <td>sports</td>\n",
       "      <td>0.07</td>\n",
       "      <td>0.0</td>\n",
       "      <td>0.00</td>\n",
       "      <td>0.0</td>\n",
       "      <td>-1.0</td>\n",
       "      <td>-1.0</td>\n",
       "      <td>NA</td>\n",
       "      <td>0.07</td>\n",
       "    </tr>\n",
       "    <tr>\n",
       "      <td>NES</td>\n",
       "      <td>Adventures of Lolo</td>\n",
       "      <td>1989</td>\n",
       "      <td>puzzle</td>\n",
       "      <td>0.06</td>\n",
       "      <td>0.0</td>\n",
       "      <td>0.00</td>\n",
       "      <td>0.0</td>\n",
       "      <td>-1.0</td>\n",
       "      <td>-1.0</td>\n",
       "      <td>NA</td>\n",
       "      <td>0.06</td>\n",
       "    </tr>\n",
       "    <tr>\n",
       "      <td>GB</td>\n",
       "      <td>Teenage Mutant Ninja Turtles II: Back from the...</td>\n",
       "      <td>1991</td>\n",
       "      <td>action</td>\n",
       "      <td>0.00</td>\n",
       "      <td>0.0</td>\n",
       "      <td>0.06</td>\n",
       "      <td>0.0</td>\n",
       "      <td>-1.0</td>\n",
       "      <td>-1.0</td>\n",
       "      <td>NA</td>\n",
       "      <td>0.06</td>\n",
       "    </tr>\n",
       "    <tr>\n",
       "      <td>GG</td>\n",
       "      <td>Sonic the Hedgehog 2 (8-bit)</td>\n",
       "      <td>1992</td>\n",
       "      <td>platform</td>\n",
       "      <td>0.00</td>\n",
       "      <td>0.0</td>\n",
       "      <td>0.04</td>\n",
       "      <td>0.0</td>\n",
       "      <td>-1.0</td>\n",
       "      <td>-1.0</td>\n",
       "      <td>NA</td>\n",
       "      <td>0.04</td>\n",
       "    </tr>\n",
       "    <tr>\n",
       "      <td>SNES</td>\n",
       "      <td>Rock N' Roll Racing</td>\n",
       "      <td>1993</td>\n",
       "      <td>racing</td>\n",
       "      <td>0.00</td>\n",
       "      <td>0.0</td>\n",
       "      <td>0.01</td>\n",
       "      <td>0.0</td>\n",
       "      <td>-1.0</td>\n",
       "      <td>-1.0</td>\n",
       "      <td>NA</td>\n",
       "      <td>0.01</td>\n",
       "    </tr>\n",
       "    <tr>\n",
       "      <td>SCD</td>\n",
       "      <td>Game no Kanzume Vol 1</td>\n",
       "      <td>1994</td>\n",
       "      <td>misc</td>\n",
       "      <td>0.00</td>\n",
       "      <td>0.0</td>\n",
       "      <td>0.04</td>\n",
       "      <td>0.0</td>\n",
       "      <td>-1.0</td>\n",
       "      <td>-1.0</td>\n",
       "      <td>NA</td>\n",
       "      <td>0.04</td>\n",
       "    </tr>\n",
       "    <tr>\n",
       "      <td>GEN</td>\n",
       "      <td>Puzzle &amp; Action: Tant-R</td>\n",
       "      <td>1994</td>\n",
       "      <td>misc</td>\n",
       "      <td>0.00</td>\n",
       "      <td>0.0</td>\n",
       "      <td>0.03</td>\n",
       "      <td>0.0</td>\n",
       "      <td>-1.0</td>\n",
       "      <td>-1.0</td>\n",
       "      <td>NA</td>\n",
       "      <td>0.03</td>\n",
       "    </tr>\n",
       "    <tr>\n",
       "      <td>TG16</td>\n",
       "      <td>Ginga Fukei Densetsu: Sapphire</td>\n",
       "      <td>1995</td>\n",
       "      <td>shooter</td>\n",
       "      <td>0.00</td>\n",
       "      <td>0.0</td>\n",
       "      <td>0.02</td>\n",
       "      <td>0.0</td>\n",
       "      <td>-1.0</td>\n",
       "      <td>-1.0</td>\n",
       "      <td>NA</td>\n",
       "      <td>0.02</td>\n",
       "    </tr>\n",
       "    <tr>\n",
       "      <td>NG</td>\n",
       "      <td>Super Dodge Ball</td>\n",
       "      <td>1995</td>\n",
       "      <td>sports</td>\n",
       "      <td>0.00</td>\n",
       "      <td>0.0</td>\n",
       "      <td>0.02</td>\n",
       "      <td>0.0</td>\n",
       "      <td>-1.0</td>\n",
       "      <td>-1.0</td>\n",
       "      <td>NA</td>\n",
       "      <td>0.02</td>\n",
       "    </tr>\n",
       "    <tr>\n",
       "      <td>PS</td>\n",
       "      <td>Psychic Detective</td>\n",
       "      <td>1995</td>\n",
       "      <td>adventure</td>\n",
       "      <td>0.01</td>\n",
       "      <td>0.0</td>\n",
       "      <td>0.00</td>\n",
       "      <td>0.0</td>\n",
       "      <td>-1.0</td>\n",
       "      <td>-1.0</td>\n",
       "      <td>NA</td>\n",
       "      <td>0.01</td>\n",
       "    </tr>\n",
       "  </tbody>\n",
       "</table>\n",
       "</div>"
      ],
      "text/plain": [
       "                                                       name  year_of_release  \\\n",
       "platform                                                                       \n",
       "2600                                         Super Baseball             1987   \n",
       "NES                                      Adventures of Lolo             1989   \n",
       "GB        Teenage Mutant Ninja Turtles II: Back from the...             1991   \n",
       "GG                             Sonic the Hedgehog 2 (8-bit)             1992   \n",
       "SNES                                    Rock N' Roll Racing             1993   \n",
       "SCD                                   Game no Kanzume Vol 1             1994   \n",
       "GEN                                 Puzzle & Action: Tant-R             1994   \n",
       "TG16                         Ginga Fukei Densetsu: Sapphire             1995   \n",
       "NG                                         Super Dodge Ball             1995   \n",
       "PS                                        Psychic Detective             1995   \n",
       "\n",
       "              genre  na_sales  eu_sales  jp_sales  other_sales  critic_score  \\\n",
       "platform                                                                       \n",
       "2600         sports      0.07       0.0      0.00          0.0          -1.0   \n",
       "NES          puzzle      0.06       0.0      0.00          0.0          -1.0   \n",
       "GB           action      0.00       0.0      0.06          0.0          -1.0   \n",
       "GG         platform      0.00       0.0      0.04          0.0          -1.0   \n",
       "SNES         racing      0.00       0.0      0.01          0.0          -1.0   \n",
       "SCD            misc      0.00       0.0      0.04          0.0          -1.0   \n",
       "GEN            misc      0.00       0.0      0.03          0.0          -1.0   \n",
       "TG16        shooter      0.00       0.0      0.02          0.0          -1.0   \n",
       "NG           sports      0.00       0.0      0.02          0.0          -1.0   \n",
       "PS        adventure      0.01       0.0      0.00          0.0          -1.0   \n",
       "\n",
       "          user_score rating  total_sales  \n",
       "platform                                  \n",
       "2600            -1.0     NA         0.07  \n",
       "NES             -1.0     NA         0.06  \n",
       "GB              -1.0     NA         0.06  \n",
       "GG              -1.0     NA         0.04  \n",
       "SNES            -1.0     NA         0.01  \n",
       "SCD             -1.0     NA         0.04  \n",
       "GEN             -1.0     NA         0.03  \n",
       "TG16            -1.0     NA         0.02  \n",
       "NG              -1.0     NA         0.02  \n",
       "PS              -1.0     NA         0.01  "
      ]
     },
     "execution_count": 30,
     "metadata": {},
     "output_type": "execute_result"
    }
   ],
   "source": [
    "grouped_last = games_df.groupby('platform').last()\n",
    "grouped_last.sort_values('year_of_release',ascending=True).head(10)"
   ]
  },
  {
   "cell_type": "markdown",
   "metadata": {},
   "source": [
    "### Conclusion\n",
    "\n",
    "The top 5 popular platforms were PS2, X360, PS3, Wii and DS with the least 5 being WS, TG16, 3DO, GG and PCFX. Though PS2 recoded the most sales, they did not record sales any significant sales after 2009 with 2600 platform  which was popular in 1981 disappeared by 1987. PS4 on the other hand made its entry sometime in 2013.\n",
    "Xone, PS4 are the most recent to have added to the platforms with the old PS facing out by 1995.\n"
   ]
  },
  {
   "cell_type": "markdown",
   "metadata": {},
   "source": [
    "<div class=\"alert alert-block alert-success\">\n",
    "<b>Reviewer's comment</b> <a class=\"tocSkip\"></a>\n",
    " \n",
    "Yes, you are right about top and least platforms! This conclusion can help you with current period. :)\n",
    "</div>"
   ]
  },
  {
   "cell_type": "code",
   "execution_count": 31,
   "metadata": {},
   "outputs": [
    {
     "data": {
      "text/html": [
       "<div>\n",
       "<style scoped>\n",
       "    .dataframe tbody tr th:only-of-type {\n",
       "        vertical-align: middle;\n",
       "    }\n",
       "\n",
       "    .dataframe tbody tr th {\n",
       "        vertical-align: top;\n",
       "    }\n",
       "\n",
       "    .dataframe thead th {\n",
       "        text-align: right;\n",
       "    }\n",
       "</style>\n",
       "<table border=\"1\" class=\"dataframe\">\n",
       "  <thead>\n",
       "    <tr style=\"text-align: right;\">\n",
       "      <th></th>\n",
       "      <th>total_sales</th>\n",
       "    </tr>\n",
       "    <tr>\n",
       "      <th>platform</th>\n",
       "      <th></th>\n",
       "    </tr>\n",
       "  </thead>\n",
       "  <tbody>\n",
       "    <tr>\n",
       "      <td>PS4</td>\n",
       "      <td>69.25</td>\n",
       "    </tr>\n",
       "    <tr>\n",
       "      <td>XOne</td>\n",
       "      <td>26.15</td>\n",
       "    </tr>\n",
       "    <tr>\n",
       "      <td>3DS</td>\n",
       "      <td>15.14</td>\n",
       "    </tr>\n",
       "    <tr>\n",
       "      <td>PC</td>\n",
       "      <td>5.25</td>\n",
       "    </tr>\n",
       "    <tr>\n",
       "      <td>WiiU</td>\n",
       "      <td>4.60</td>\n",
       "    </tr>\n",
       "    <tr>\n",
       "      <td>PSV</td>\n",
       "      <td>4.25</td>\n",
       "    </tr>\n",
       "    <tr>\n",
       "      <td>PS3</td>\n",
       "      <td>3.60</td>\n",
       "    </tr>\n",
       "    <tr>\n",
       "      <td>X360</td>\n",
       "      <td>1.52</td>\n",
       "    </tr>\n",
       "    <tr>\n",
       "      <td>Wii</td>\n",
       "      <td>0.18</td>\n",
       "    </tr>\n",
       "  </tbody>\n",
       "</table>\n",
       "</div>"
      ],
      "text/plain": [
       "          total_sales\n",
       "platform             \n",
       "PS4             69.25\n",
       "XOne            26.15\n",
       "3DS             15.14\n",
       "PC               5.25\n",
       "WiiU             4.60\n",
       "PSV              4.25\n",
       "PS3              3.60\n",
       "X360             1.52\n",
       "Wii              0.18"
      ]
     },
     "execution_count": 31,
     "metadata": {},
     "output_type": "execute_result"
    }
   ],
   "source": [
    "games_filter=games_df.query('year_of_release ==2016').groupby('platform').agg({'total_sales': 'sum'}).sort_values(by = 'total_sales', ascending=False)\n",
    "games_filter"
   ]
  },
  {
   "cell_type": "code",
   "execution_count": 32,
   "metadata": {},
   "outputs": [
    {
     "data": {
      "text/html": [
       "<div>\n",
       "<style scoped>\n",
       "    .dataframe tbody tr th:only-of-type {\n",
       "        vertical-align: middle;\n",
       "    }\n",
       "\n",
       "    .dataframe tbody tr th {\n",
       "        vertical-align: top;\n",
       "    }\n",
       "\n",
       "    .dataframe thead th {\n",
       "        text-align: right;\n",
       "    }\n",
       "</style>\n",
       "<table border=\"1\" class=\"dataframe\">\n",
       "  <thead>\n",
       "    <tr style=\"text-align: right;\">\n",
       "      <th></th>\n",
       "      <th>name</th>\n",
       "      <th>platform</th>\n",
       "      <th>year_of_release</th>\n",
       "      <th>genre</th>\n",
       "      <th>na_sales</th>\n",
       "      <th>eu_sales</th>\n",
       "      <th>jp_sales</th>\n",
       "      <th>other_sales</th>\n",
       "      <th>critic_score</th>\n",
       "      <th>user_score</th>\n",
       "      <th>rating</th>\n",
       "      <th>total_sales</th>\n",
       "    </tr>\n",
       "  </thead>\n",
       "  <tbody>\n",
       "    <tr>\n",
       "      <td>2271</td>\n",
       "      <td>Injustice: Gods Among Us</td>\n",
       "      <td>PS4</td>\n",
       "      <td>2013</td>\n",
       "      <td>fighting</td>\n",
       "      <td>0.46</td>\n",
       "      <td>0.30</td>\n",
       "      <td>0.00</td>\n",
       "      <td>0.16</td>\n",
       "      <td>-1.0</td>\n",
       "      <td>-1.0</td>\n",
       "      <td>NA</td>\n",
       "      <td>0.92</td>\n",
       "    </tr>\n",
       "    <tr>\n",
       "      <td>4656</td>\n",
       "      <td>Just Dance 2014</td>\n",
       "      <td>PS4</td>\n",
       "      <td>2013</td>\n",
       "      <td>misc</td>\n",
       "      <td>0.19</td>\n",
       "      <td>0.16</td>\n",
       "      <td>0.00</td>\n",
       "      <td>0.07</td>\n",
       "      <td>75.0</td>\n",
       "      <td>5.5</td>\n",
       "      <td>E10+</td>\n",
       "      <td>0.42</td>\n",
       "    </tr>\n",
       "    <tr>\n",
       "      <td>357</td>\n",
       "      <td>Battlefield 4</td>\n",
       "      <td>PS4</td>\n",
       "      <td>2013</td>\n",
       "      <td>shooter</td>\n",
       "      <td>1.35</td>\n",
       "      <td>1.55</td>\n",
       "      <td>0.17</td>\n",
       "      <td>0.51</td>\n",
       "      <td>85.0</td>\n",
       "      <td>6.9</td>\n",
       "      <td>M</td>\n",
       "      <td>3.58</td>\n",
       "    </tr>\n",
       "    <tr>\n",
       "      <td>560</td>\n",
       "      <td>Killzone: Shadow Fall</td>\n",
       "      <td>PS4</td>\n",
       "      <td>2013</td>\n",
       "      <td>shooter</td>\n",
       "      <td>0.89</td>\n",
       "      <td>1.33</td>\n",
       "      <td>0.08</td>\n",
       "      <td>0.39</td>\n",
       "      <td>73.0</td>\n",
       "      <td>6.8</td>\n",
       "      <td>M</td>\n",
       "      <td>2.69</td>\n",
       "    </tr>\n",
       "    <tr>\n",
       "      <td>323</td>\n",
       "      <td>Call of Duty: Ghosts</td>\n",
       "      <td>PS4</td>\n",
       "      <td>2013</td>\n",
       "      <td>shooter</td>\n",
       "      <td>1.78</td>\n",
       "      <td>1.43</td>\n",
       "      <td>0.05</td>\n",
       "      <td>0.57</td>\n",
       "      <td>78.0</td>\n",
       "      <td>3.7</td>\n",
       "      <td>M</td>\n",
       "      <td>3.83</td>\n",
       "    </tr>\n",
       "    <tr>\n",
       "      <td>...</td>\n",
       "      <td>...</td>\n",
       "      <td>...</td>\n",
       "      <td>...</td>\n",
       "      <td>...</td>\n",
       "      <td>...</td>\n",
       "      <td>...</td>\n",
       "      <td>...</td>\n",
       "      <td>...</td>\n",
       "      <td>...</td>\n",
       "      <td>...</td>\n",
       "      <td>...</td>\n",
       "      <td>...</td>\n",
       "    </tr>\n",
       "    <tr>\n",
       "      <td>11297</td>\n",
       "      <td>SD Gundam G Generation Genesis</td>\n",
       "      <td>PS4</td>\n",
       "      <td>2016</td>\n",
       "      <td>strategy</td>\n",
       "      <td>0.00</td>\n",
       "      <td>0.00</td>\n",
       "      <td>0.08</td>\n",
       "      <td>0.00</td>\n",
       "      <td>-1.0</td>\n",
       "      <td>-1.0</td>\n",
       "      <td>NA</td>\n",
       "      <td>0.08</td>\n",
       "    </tr>\n",
       "    <tr>\n",
       "      <td>11301</td>\n",
       "      <td>BlazBlue Central Fiction</td>\n",
       "      <td>PS4</td>\n",
       "      <td>2016</td>\n",
       "      <td>fighting</td>\n",
       "      <td>0.04</td>\n",
       "      <td>0.00</td>\n",
       "      <td>0.03</td>\n",
       "      <td>0.01</td>\n",
       "      <td>85.0</td>\n",
       "      <td>7.6</td>\n",
       "      <td>T</td>\n",
       "      <td>0.08</td>\n",
       "    </tr>\n",
       "    <tr>\n",
       "      <td>2332</td>\n",
       "      <td>MLB 16: The Show</td>\n",
       "      <td>PS4</td>\n",
       "      <td>2016</td>\n",
       "      <td>action</td>\n",
       "      <td>0.72</td>\n",
       "      <td>0.00</td>\n",
       "      <td>0.00</td>\n",
       "      <td>0.17</td>\n",
       "      <td>-1.0</td>\n",
       "      <td>-1.0</td>\n",
       "      <td>NA</td>\n",
       "      <td>0.89</td>\n",
       "    </tr>\n",
       "    <tr>\n",
       "      <td>11419</td>\n",
       "      <td>Mega Man Legacy Collection</td>\n",
       "      <td>PS4</td>\n",
       "      <td>2016</td>\n",
       "      <td>platform</td>\n",
       "      <td>0.07</td>\n",
       "      <td>0.00</td>\n",
       "      <td>0.00</td>\n",
       "      <td>0.02</td>\n",
       "      <td>77.0</td>\n",
       "      <td>6.1</td>\n",
       "      <td>E</td>\n",
       "      <td>0.09</td>\n",
       "    </tr>\n",
       "    <tr>\n",
       "      <td>16585</td>\n",
       "      <td>Farming 2017 - The Simulation</td>\n",
       "      <td>PS4</td>\n",
       "      <td>2016</td>\n",
       "      <td>simulation</td>\n",
       "      <td>0.00</td>\n",
       "      <td>0.01</td>\n",
       "      <td>0.00</td>\n",
       "      <td>0.00</td>\n",
       "      <td>-1.0</td>\n",
       "      <td>-1.0</td>\n",
       "      <td>NA</td>\n",
       "      <td>0.01</td>\n",
       "    </tr>\n",
       "  </tbody>\n",
       "</table>\n",
       "<p>392 rows × 12 columns</p>\n",
       "</div>"
      ],
      "text/plain": [
       "                                 name platform  year_of_release       genre  \\\n",
       "2271         Injustice: Gods Among Us      PS4             2013    fighting   \n",
       "4656                  Just Dance 2014      PS4             2013        misc   \n",
       "357                     Battlefield 4      PS4             2013     shooter   \n",
       "560             Killzone: Shadow Fall      PS4             2013     shooter   \n",
       "323              Call of Duty: Ghosts      PS4             2013     shooter   \n",
       "...                               ...      ...              ...         ...   \n",
       "11297  SD Gundam G Generation Genesis      PS4             2016    strategy   \n",
       "11301        BlazBlue Central Fiction      PS4             2016    fighting   \n",
       "2332                 MLB 16: The Show      PS4             2016      action   \n",
       "11419      Mega Man Legacy Collection      PS4             2016    platform   \n",
       "16585   Farming 2017 - The Simulation      PS4             2016  simulation   \n",
       "\n",
       "       na_sales  eu_sales  jp_sales  other_sales  critic_score  user_score  \\\n",
       "2271       0.46      0.30      0.00         0.16          -1.0        -1.0   \n",
       "4656       0.19      0.16      0.00         0.07          75.0         5.5   \n",
       "357        1.35      1.55      0.17         0.51          85.0         6.9   \n",
       "560        0.89      1.33      0.08         0.39          73.0         6.8   \n",
       "323        1.78      1.43      0.05         0.57          78.0         3.7   \n",
       "...         ...       ...       ...          ...           ...         ...   \n",
       "11297      0.00      0.00      0.08         0.00          -1.0        -1.0   \n",
       "11301      0.04      0.00      0.03         0.01          85.0         7.6   \n",
       "2332       0.72      0.00      0.00         0.17          -1.0        -1.0   \n",
       "11419      0.07      0.00      0.00         0.02          77.0         6.1   \n",
       "16585      0.00      0.01      0.00         0.00          -1.0        -1.0   \n",
       "\n",
       "      rating  total_sales  \n",
       "2271      NA         0.92  \n",
       "4656    E10+         0.42  \n",
       "357        M         3.58  \n",
       "560        M         2.69  \n",
       "323        M         3.83  \n",
       "...      ...          ...  \n",
       "11297     NA         0.08  \n",
       "11301      T         0.08  \n",
       "2332      NA         0.89  \n",
       "11419      E         0.09  \n",
       "16585     NA         0.01  \n",
       "\n",
       "[392 rows x 12 columns]"
      ]
     },
     "execution_count": 32,
     "metadata": {},
     "output_type": "execute_result"
    }
   ],
   "source": [
    "ps_4 = games_df[games_df['platform']=='PS4']\n",
    "ps_4.sort_values('year_of_release',ascending=True)"
   ]
  },
  {
   "cell_type": "markdown",
   "metadata": {},
   "source": [
    "## Data filtering"
   ]
  },
  {
   "cell_type": "code",
   "execution_count": 33,
   "metadata": {},
   "outputs": [],
   "source": [
    "games_df_final_filter = games_df.query('year_of_release >=2013 and year_of_release <=2016')"
   ]
  },
  {
   "cell_type": "markdown",
   "metadata": {},
   "source": [
    "<div class=\"alert alert-block alert-success\">\n",
    "<b>Reviewer's comment.</b> <a class=\"tocSkip\"></a>\n",
    "    \n",
    "Great! Now we have actual 3 years for forecast! Let's start!\n",
    "</div>"
   ]
  },
  {
   "cell_type": "code",
   "execution_count": 34,
   "metadata": {},
   "outputs": [
    {
     "data": {
      "text/plain": [
       "(2233, 12)"
      ]
     },
     "execution_count": 34,
     "metadata": {},
     "output_type": "execute_result"
    }
   ],
   "source": [
    "games_df_final_filter.shape"
   ]
  },
  {
   "cell_type": "code",
   "execution_count": 35,
   "metadata": {},
   "outputs": [
    {
     "data": {
      "text/html": [
       "<div>\n",
       "<style scoped>\n",
       "    .dataframe tbody tr th:only-of-type {\n",
       "        vertical-align: middle;\n",
       "    }\n",
       "\n",
       "    .dataframe tbody tr th {\n",
       "        vertical-align: top;\n",
       "    }\n",
       "\n",
       "    .dataframe thead th {\n",
       "        text-align: right;\n",
       "    }\n",
       "</style>\n",
       "<table border=\"1\" class=\"dataframe\">\n",
       "  <thead>\n",
       "    <tr style=\"text-align: right;\">\n",
       "      <th></th>\n",
       "      <th>year_of_release</th>\n",
       "      <th>na_sales</th>\n",
       "      <th>eu_sales</th>\n",
       "      <th>jp_sales</th>\n",
       "      <th>other_sales</th>\n",
       "      <th>critic_score</th>\n",
       "      <th>user_score</th>\n",
       "      <th>total_sales</th>\n",
       "    </tr>\n",
       "  </thead>\n",
       "  <tbody>\n",
       "    <tr>\n",
       "      <td>count</td>\n",
       "      <td>2233.000000</td>\n",
       "      <td>2233.000000</td>\n",
       "      <td>2233.000000</td>\n",
       "      <td>2233.000000</td>\n",
       "      <td>2233.000000</td>\n",
       "      <td>2233.000000</td>\n",
       "      <td>2233.000000</td>\n",
       "      <td>2233.000000</td>\n",
       "    </tr>\n",
       "    <tr>\n",
       "      <td>mean</td>\n",
       "      <td>2014.477385</td>\n",
       "      <td>0.196019</td>\n",
       "      <td>0.175652</td>\n",
       "      <td>0.063045</td>\n",
       "      <td>0.053726</td>\n",
       "      <td>31.407524</td>\n",
       "      <td>3.097089</td>\n",
       "      <td>0.488442</td>\n",
       "    </tr>\n",
       "    <tr>\n",
       "      <td>std</td>\n",
       "      <td>1.089439</td>\n",
       "      <td>0.547730</td>\n",
       "      <td>0.512451</td>\n",
       "      <td>0.233997</td>\n",
       "      <td>0.165693</td>\n",
       "      <td>37.282494</td>\n",
       "      <td>3.919203</td>\n",
       "      <td>1.235226</td>\n",
       "    </tr>\n",
       "    <tr>\n",
       "      <td>min</td>\n",
       "      <td>2013.000000</td>\n",
       "      <td>0.000000</td>\n",
       "      <td>0.000000</td>\n",
       "      <td>0.000000</td>\n",
       "      <td>0.000000</td>\n",
       "      <td>-1.000000</td>\n",
       "      <td>-1.000000</td>\n",
       "      <td>0.010000</td>\n",
       "    </tr>\n",
       "    <tr>\n",
       "      <td>25%</td>\n",
       "      <td>2014.000000</td>\n",
       "      <td>0.000000</td>\n",
       "      <td>0.000000</td>\n",
       "      <td>0.000000</td>\n",
       "      <td>0.000000</td>\n",
       "      <td>-1.000000</td>\n",
       "      <td>-1.000000</td>\n",
       "      <td>0.030000</td>\n",
       "    </tr>\n",
       "    <tr>\n",
       "      <td>50%</td>\n",
       "      <td>2014.000000</td>\n",
       "      <td>0.020000</td>\n",
       "      <td>0.030000</td>\n",
       "      <td>0.010000</td>\n",
       "      <td>0.010000</td>\n",
       "      <td>-1.000000</td>\n",
       "      <td>3.500000</td>\n",
       "      <td>0.110000</td>\n",
       "    </tr>\n",
       "    <tr>\n",
       "      <td>75%</td>\n",
       "      <td>2015.000000</td>\n",
       "      <td>0.150000</td>\n",
       "      <td>0.130000</td>\n",
       "      <td>0.050000</td>\n",
       "      <td>0.040000</td>\n",
       "      <td>72.000000</td>\n",
       "      <td>7.100000</td>\n",
       "      <td>0.400000</td>\n",
       "    </tr>\n",
       "    <tr>\n",
       "      <td>max</td>\n",
       "      <td>2016.000000</td>\n",
       "      <td>9.660000</td>\n",
       "      <td>9.090000</td>\n",
       "      <td>4.350000</td>\n",
       "      <td>3.960000</td>\n",
       "      <td>97.000000</td>\n",
       "      <td>9.300000</td>\n",
       "      <td>21.050000</td>\n",
       "    </tr>\n",
       "  </tbody>\n",
       "</table>\n",
       "</div>"
      ],
      "text/plain": [
       "       year_of_release     na_sales     eu_sales     jp_sales  other_sales  \\\n",
       "count      2233.000000  2233.000000  2233.000000  2233.000000  2233.000000   \n",
       "mean       2014.477385     0.196019     0.175652     0.063045     0.053726   \n",
       "std           1.089439     0.547730     0.512451     0.233997     0.165693   \n",
       "min        2013.000000     0.000000     0.000000     0.000000     0.000000   \n",
       "25%        2014.000000     0.000000     0.000000     0.000000     0.000000   \n",
       "50%        2014.000000     0.020000     0.030000     0.010000     0.010000   \n",
       "75%        2015.000000     0.150000     0.130000     0.050000     0.040000   \n",
       "max        2016.000000     9.660000     9.090000     4.350000     3.960000   \n",
       "\n",
       "       critic_score   user_score  total_sales  \n",
       "count   2233.000000  2233.000000  2233.000000  \n",
       "mean      31.407524     3.097089     0.488442  \n",
       "std       37.282494     3.919203     1.235226  \n",
       "min       -1.000000    -1.000000     0.010000  \n",
       "25%       -1.000000    -1.000000     0.030000  \n",
       "50%       -1.000000     3.500000     0.110000  \n",
       "75%       72.000000     7.100000     0.400000  \n",
       "max       97.000000     9.300000    21.050000  "
      ]
     },
     "execution_count": 35,
     "metadata": {},
     "output_type": "execute_result"
    }
   ],
   "source": [
    "games_df_final_filter.describe()"
   ]
  },
  {
   "cell_type": "markdown",
   "metadata": {},
   "source": [
    "### Conclusion\n",
    "\n",
    "Considering that, most platforms were no longer active by 2016, the filtered data only capturs those active between 2013 to 2016."
   ]
  },
  {
   "cell_type": "markdown",
   "metadata": {},
   "source": [
    "## Comparing platforms from old and filtered data\n"
   ]
  },
  {
   "cell_type": "code",
   "execution_count": 36,
   "metadata": {},
   "outputs": [
    {
     "data": {
      "text/html": [
       "<div>\n",
       "<style scoped>\n",
       "    .dataframe tbody tr th:only-of-type {\n",
       "        vertical-align: middle;\n",
       "    }\n",
       "\n",
       "    .dataframe tbody tr th {\n",
       "        vertical-align: top;\n",
       "    }\n",
       "\n",
       "    .dataframe thead th {\n",
       "        text-align: right;\n",
       "    }\n",
       "</style>\n",
       "<table border=\"1\" class=\"dataframe\">\n",
       "  <thead>\n",
       "    <tr style=\"text-align: right;\">\n",
       "      <th>platform</th>\n",
       "      <th>3DS</th>\n",
       "      <th>DS</th>\n",
       "      <th>PC</th>\n",
       "      <th>PS3</th>\n",
       "      <th>PS4</th>\n",
       "      <th>PSP</th>\n",
       "      <th>PSV</th>\n",
       "      <th>Wii</th>\n",
       "      <th>WiiU</th>\n",
       "      <th>X360</th>\n",
       "      <th>XOne</th>\n",
       "    </tr>\n",
       "    <tr>\n",
       "      <th>year_of_release</th>\n",
       "      <th></th>\n",
       "      <th></th>\n",
       "      <th></th>\n",
       "      <th></th>\n",
       "      <th></th>\n",
       "      <th></th>\n",
       "      <th></th>\n",
       "      <th></th>\n",
       "      <th></th>\n",
       "      <th></th>\n",
       "      <th></th>\n",
       "    </tr>\n",
       "  </thead>\n",
       "  <tbody>\n",
       "    <tr>\n",
       "      <td>2013</td>\n",
       "      <td>56.57</td>\n",
       "      <td>1.54</td>\n",
       "      <td>12.38</td>\n",
       "      <td>113.25</td>\n",
       "      <td>25.99</td>\n",
       "      <td>3.14</td>\n",
       "      <td>10.59</td>\n",
       "      <td>8.59</td>\n",
       "      <td>21.65</td>\n",
       "      <td>88.58</td>\n",
       "      <td>18.96</td>\n",
       "    </tr>\n",
       "    <tr>\n",
       "      <td>2014</td>\n",
       "      <td>43.76</td>\n",
       "      <td>0.00</td>\n",
       "      <td>13.28</td>\n",
       "      <td>47.76</td>\n",
       "      <td>100.00</td>\n",
       "      <td>0.24</td>\n",
       "      <td>11.90</td>\n",
       "      <td>3.75</td>\n",
       "      <td>22.03</td>\n",
       "      <td>34.74</td>\n",
       "      <td>54.07</td>\n",
       "    </tr>\n",
       "    <tr>\n",
       "      <td>2015</td>\n",
       "      <td>27.78</td>\n",
       "      <td>0.00</td>\n",
       "      <td>8.52</td>\n",
       "      <td>16.82</td>\n",
       "      <td>118.90</td>\n",
       "      <td>0.12</td>\n",
       "      <td>6.25</td>\n",
       "      <td>1.14</td>\n",
       "      <td>16.35</td>\n",
       "      <td>11.96</td>\n",
       "      <td>60.14</td>\n",
       "    </tr>\n",
       "    <tr>\n",
       "      <td>2016</td>\n",
       "      <td>15.14</td>\n",
       "      <td>0.00</td>\n",
       "      <td>5.25</td>\n",
       "      <td>3.60</td>\n",
       "      <td>69.25</td>\n",
       "      <td>0.00</td>\n",
       "      <td>4.25</td>\n",
       "      <td>0.18</td>\n",
       "      <td>4.60</td>\n",
       "      <td>1.52</td>\n",
       "      <td>26.15</td>\n",
       "    </tr>\n",
       "  </tbody>\n",
       "</table>\n",
       "</div>"
      ],
      "text/plain": [
       "platform           3DS    DS     PC     PS3     PS4   PSP    PSV   Wii   WiiU  \\\n",
       "year_of_release                                                                 \n",
       "2013             56.57  1.54  12.38  113.25   25.99  3.14  10.59  8.59  21.65   \n",
       "2014             43.76  0.00  13.28   47.76  100.00  0.24  11.90  3.75  22.03   \n",
       "2015             27.78  0.00   8.52   16.82  118.90  0.12   6.25  1.14  16.35   \n",
       "2016             15.14  0.00   5.25    3.60   69.25  0.00   4.25  0.18   4.60   \n",
       "\n",
       "platform          X360   XOne  \n",
       "year_of_release                \n",
       "2013             88.58  18.96  \n",
       "2014             34.74  54.07  \n",
       "2015             11.96  60.14  \n",
       "2016              1.52  26.15  "
      ]
     },
     "execution_count": 36,
     "metadata": {},
     "output_type": "execute_result"
    }
   ],
   "source": [
    "game_new = pd.DataFrame(games_df_final_filter\n",
    "                     .pivot_table(index='year_of_release',columns='platform',values='total_sales',aggfunc='sum',fill_value=0))\n",
    "\n",
    "game_new.head()"
   ]
  },
  {
   "cell_type": "code",
   "execution_count": 37,
   "metadata": {},
   "outputs": [
    {
     "data": {
      "text/plain": [
       "[2013, 2014, 2015, 2016]"
      ]
     },
     "execution_count": 37,
     "metadata": {},
     "output_type": "execute_result"
    }
   ],
   "source": [
    "game_new.columns.tolist()\n",
    "game_new.index.tolist()"
   ]
  },
  {
   "cell_type": "code",
   "execution_count": 38,
   "metadata": {},
   "outputs": [
    {
     "data": {
      "image/png": "[encoded data removed]",
      "text/plain": [
       "<Figure size 720x720 with 11 Axes>"
      ]
     },
     "metadata": {
      "needs_background": "light"
     },
     "output_type": "display_data"
    }
   ],
   "source": [
    "fig = plt.figure(1,figsize=(10,10))\n",
    "\n",
    "for i,col in enumerate(game_new,1):\n",
    "    fig.add_subplot(4,3,i,)\n",
    "    game_new[col].plot(kind='line',ax=plt.gca())\n",
    "    plt.title(col)\n",
    "    plt.xticks(rotation=45)\n",
    "plt.tight_layout()\n",
    "plt.show()"
   ]
  },
  {
   "cell_type": "markdown",
   "metadata": {},
   "source": [
    "There is a general decline in performance by all platforms by 2016."
   ]
  },
  {
   "cell_type": "code",
   "execution_count": 39,
   "metadata": {},
   "outputs": [
    {
     "data": {
      "image/png": "[encoded data removed]",
      "text/plain": [
       "<Figure size 648x432 with 1 Axes>"
      ]
     },
     "metadata": {
      "needs_background": "light"
     },
     "output_type": "display_data"
    }
   ],
   "source": [
    "ax= games_df_platform.plot(figsize=(9,6))\n",
    "(games_df_final_filter\n",
    " .pivot_table(index='platform',values='total_sales',aggfunc='sum')\n",
    " .sort_values('total_sales',ascending =False)).head(10).plot(ax=ax)\n",
    "plt.title('Comparing the filtered and unfiltered data by platform')\n",
    "plt.ylabel('Total_sales')\n",
    "L=plt.legend()\n",
    "L.get_texts()[0].set_text('unfiltered - total_sales')\n",
    "L.get_texts()[1].set_text('filtered - total_sales');"
   ]
  },
  {
   "cell_type": "code",
   "execution_count": 40,
   "metadata": {
    "scrolled": true
   },
   "outputs": [
    {
     "data": {
      "text/html": [
       "<div>\n",
       "<style scoped>\n",
       "    .dataframe tbody tr th:only-of-type {\n",
       "        vertical-align: middle;\n",
       "    }\n",
       "\n",
       "    .dataframe tbody tr th {\n",
       "        vertical-align: top;\n",
       "    }\n",
       "\n",
       "    .dataframe thead th {\n",
       "        text-align: right;\n",
       "    }\n",
       "</style>\n",
       "<table border=\"1\" class=\"dataframe\">\n",
       "  <thead>\n",
       "    <tr style=\"text-align: right;\">\n",
       "      <th></th>\n",
       "      <th>total_sales</th>\n",
       "    </tr>\n",
       "    <tr>\n",
       "      <th>platform</th>\n",
       "      <th></th>\n",
       "    </tr>\n",
       "  </thead>\n",
       "  <tbody>\n",
       "    <tr>\n",
       "      <td>PS4</td>\n",
       "      <td>314.14</td>\n",
       "    </tr>\n",
       "    <tr>\n",
       "      <td>PS3</td>\n",
       "      <td>181.43</td>\n",
       "    </tr>\n",
       "    <tr>\n",
       "      <td>XOne</td>\n",
       "      <td>159.32</td>\n",
       "    </tr>\n",
       "    <tr>\n",
       "      <td>3DS</td>\n",
       "      <td>143.25</td>\n",
       "    </tr>\n",
       "    <tr>\n",
       "      <td>X360</td>\n",
       "      <td>136.80</td>\n",
       "    </tr>\n",
       "    <tr>\n",
       "      <td>WiiU</td>\n",
       "      <td>64.63</td>\n",
       "    </tr>\n",
       "    <tr>\n",
       "      <td>PC</td>\n",
       "      <td>39.43</td>\n",
       "    </tr>\n",
       "    <tr>\n",
       "      <td>PSV</td>\n",
       "      <td>32.99</td>\n",
       "    </tr>\n",
       "    <tr>\n",
       "      <td>Wii</td>\n",
       "      <td>13.66</td>\n",
       "    </tr>\n",
       "    <tr>\n",
       "      <td>PSP</td>\n",
       "      <td>3.50</td>\n",
       "    </tr>\n",
       "  </tbody>\n",
       "</table>\n",
       "</div>"
      ],
      "text/plain": [
       "          total_sales\n",
       "platform             \n",
       "PS4            314.14\n",
       "PS3            181.43\n",
       "XOne           159.32\n",
       "3DS            143.25\n",
       "X360           136.80\n",
       "WiiU            64.63\n",
       "PC              39.43\n",
       "PSV             32.99\n",
       "Wii             13.66\n",
       "PSP              3.50"
      ]
     },
     "execution_count": 40,
     "metadata": {},
     "output_type": "execute_result"
    }
   ],
   "source": [
    "(games_df_final_filter\n",
    " .pivot_table(index='platform',values='total_sales',aggfunc='sum')\n",
    " .sort_values('total_sales',ascending =False)).head(10)"
   ]
  },
  {
   "cell_type": "markdown",
   "metadata": {},
   "source": [
    "<div class=\"alert alert-block alert-success\">\n",
    "<b>Reviewer's comment.</b> <a class=\"tocSkip\"></a>\n",
    "    \n",
    "Good comparison for filtered and unfiltered data!\n",
    "</div>"
   ]
  },
  {
   "cell_type": "markdown",
   "metadata": {},
   "source": [
    "### Conclusion\n",
    "By the filtered data, PS2 and X360 are among the leading platforms with TG16 and 3DO completely out of the data set. There is a general decline in total sales across all platforms in the filtered data as against those in the unfiltered one."
   ]
  },
  {
   "cell_type": "markdown",
   "metadata": {},
   "source": [
    "## Boxblot by platform"
   ]
  },
  {
   "cell_type": "code",
   "execution_count": 41,
   "metadata": {},
   "outputs": [
    {
     "data": {
      "image/png": "[encoded data removed]",
      "text/plain": [
       "<Figure size 432x288 with 1 Axes>"
      ]
     },
     "metadata": {
      "needs_background": "light"
     },
     "output_type": "display_data"
    },
    {
     "data": {
      "image/png": "[encoded data removed]",
      "text/plain": [
       "<Figure size 432x288 with 1 Axes>"
      ]
     },
     "metadata": {
      "needs_background": "light"
     },
     "output_type": "display_data"
    },
    {
     "data": {
      "image/png": "[encoded data removed]",
      "text/plain": [
       "<Figure size 432x288 with 1 Axes>"
      ]
     },
     "metadata": {
      "needs_background": "light"
     },
     "output_type": "display_data"
    },
    {
     "data": {
      "image/png": "[encoded data removed]",
      "text/plain": [
       "<Figure size 432x288 with 1 Axes>"
      ]
     },
     "metadata": {
      "needs_background": "light"
     },
     "output_type": "display_data"
    },
    {
     "data": {
      "image/png": "[encoded data removed]",
      "text/plain": [
       "<Figure size 432x288 with 1 Axes>"
      ]
     },
     "metadata": {
      "needs_background": "light"
     },
     "output_type": "display_data"
    },
    {
     "data": {
      "image/png": "[encoded data removed]",
      "text/plain": [
       "<Figure size 432x288 with 1 Axes>"
      ]
     },
     "metadata": {
      "needs_background": "light"
     },
     "output_type": "display_data"
    },
    {
     "data": {
      "image/png": "[encoded data removed]",
      "text/plain": [
       "<Figure size 432x288 with 1 Axes>"
      ]
     },
     "metadata": {
      "needs_background": "light"
     },
     "output_type": "display_data"
    },
    {
     "data": {
      "image/png": "[encoded data removed]",
      "text/plain": [
       "<Figure size 432x288 with 1 Axes>"
      ]
     },
     "metadata": {
      "needs_background": "light"
     },
     "output_type": "display_data"
    },
    {
     "data": {
      "image/png": "[encoded data removed]",
      "text/plain": [
       "<Figure size 432x288 with 1 Axes>"
      ]
     },
     "metadata": {
      "needs_background": "light"
     },
     "output_type": "display_data"
    },
    {
     "data": {
      "image/png": "[encoded data removed]",
      "text/plain": [
       "<Figure size 432x288 with 1 Axes>"
      ]
     },
     "metadata": {
      "needs_background": "light"
     },
     "output_type": "display_data"
    },
    {
     "data": {
      "image/png": "[encoded data removed]",
      "text/plain": [
       "<Figure size 432x288 with 1 Axes>"
      ]
     },
     "metadata": {
      "needs_background": "light"
     },
     "output_type": "display_data"
    }
   ],
   "source": [
    "for platform, group_data in games_df_final_filter.groupby('platform'):\n",
    "    group_data.plot(x='platform',y='total_sales',kind='box',title=platform);"
   ]
  },
  {
   "cell_type": "code",
   "execution_count": 43,
   "metadata": {},
   "outputs": [
    {
     "data": {
      "image/png": "[encoded data removed]",
      "text/plain": [
       "<Figure size 432x288 with 1 Axes>"
      ]
     },
     "metadata": {
      "needs_background": "light"
     },
     "output_type": "display_data"
    }
   ],
   "source": [
    "sns.boxplot(x='total_sales',\n",
    "              y='platform',showmeans=True,palette=\"Set3\",\n",
    "              data=games_df_final_filter)\n",
    "plt.rcParams[\"figure.figsize\"] = (10,6)\n",
    "plt.xlim([0,10]);\n",
    "\n",
    "plt.show()"
   ]
  },
  {
   "cell_type": "code",
   "execution_count": 44,
   "metadata": {},
   "outputs": [
    {
     "data": {
      "text/plain": [
       "platform\n",
       "3DS     0.47\n",
       "DS      0.19\n",
       "PC      0.21\n",
       "PS3     0.53\n",
       "PS4     0.80\n",
       "PSP     0.05\n",
       "PSV     0.09\n",
       "Wii     0.59\n",
       "WiiU    0.56\n",
       "X360    0.74\n",
       "XOne    0.65\n",
       "Name: total_sales, dtype: float64"
      ]
     },
     "execution_count": 44,
     "metadata": {},
     "output_type": "execute_result"
    }
   ],
   "source": [
    "games_df_final_filter.groupby('platform')['total_sales'].mean().round(2)"
   ]
  },
  {
   "cell_type": "markdown",
   "metadata": {},
   "source": [
    "### Conclusion\n",
    "From the boxplot of the top 10 platforms, almost the platforms are right skewed with their means above their median values."
   ]
  },
  {
   "cell_type": "markdown",
   "metadata": {},
   "source": [
    "<div class=\"alert alert-block alert-success\">\n",
    "<b>Reviewer's comment. </b> <a class=\"tocSkip\"></a>\n",
    "    \n",
    "Well done! Yes, most platforms have mean upper.\n",
    "</div>"
   ]
  },
  {
   "cell_type": "markdown",
   "metadata": {},
   "source": [
    "## User and profession reviews impact on sales"
   ]
  },
  {
   "cell_type": "code",
   "execution_count": 45,
   "metadata": {},
   "outputs": [
    {
     "data": {
      "text/html": [
       "<div>\n",
       "<style scoped>\n",
       "    .dataframe tbody tr th:only-of-type {\n",
       "        vertical-align: middle;\n",
       "    }\n",
       "\n",
       "    .dataframe tbody tr th {\n",
       "        vertical-align: top;\n",
       "    }\n",
       "\n",
       "    .dataframe thead th {\n",
       "        text-align: right;\n",
       "    }\n",
       "</style>\n",
       "<table border=\"1\" class=\"dataframe\">\n",
       "  <thead>\n",
       "    <tr style=\"text-align: right;\">\n",
       "      <th></th>\n",
       "      <th>name</th>\n",
       "      <th>platform</th>\n",
       "      <th>year_of_release</th>\n",
       "      <th>genre</th>\n",
       "      <th>na_sales</th>\n",
       "      <th>eu_sales</th>\n",
       "      <th>jp_sales</th>\n",
       "      <th>other_sales</th>\n",
       "      <th>critic_score</th>\n",
       "      <th>user_score</th>\n",
       "      <th>rating</th>\n",
       "      <th>total_sales</th>\n",
       "    </tr>\n",
       "  </thead>\n",
       "  <tbody>\n",
       "    <tr>\n",
       "      <td>31</td>\n",
       "      <td>Call of Duty: Black Ops 3</td>\n",
       "      <td>PS4</td>\n",
       "      <td>2015</td>\n",
       "      <td>shooter</td>\n",
       "      <td>6.03</td>\n",
       "      <td>5.86</td>\n",
       "      <td>0.36</td>\n",
       "      <td>2.38</td>\n",
       "      <td>-1.0</td>\n",
       "      <td>-1.0</td>\n",
       "      <td>NA</td>\n",
       "      <td>14.63</td>\n",
       "    </tr>\n",
       "    <tr>\n",
       "      <td>42</td>\n",
       "      <td>Grand Theft Auto V</td>\n",
       "      <td>PS4</td>\n",
       "      <td>2014</td>\n",
       "      <td>action</td>\n",
       "      <td>3.96</td>\n",
       "      <td>6.31</td>\n",
       "      <td>0.38</td>\n",
       "      <td>1.97</td>\n",
       "      <td>97.0</td>\n",
       "      <td>8.3</td>\n",
       "      <td>M</td>\n",
       "      <td>12.62</td>\n",
       "    </tr>\n",
       "    <tr>\n",
       "      <td>77</td>\n",
       "      <td>FIFA 16</td>\n",
       "      <td>PS4</td>\n",
       "      <td>2015</td>\n",
       "      <td>sports</td>\n",
       "      <td>1.12</td>\n",
       "      <td>6.12</td>\n",
       "      <td>0.06</td>\n",
       "      <td>1.28</td>\n",
       "      <td>82.0</td>\n",
       "      <td>4.3</td>\n",
       "      <td>E</td>\n",
       "      <td>8.58</td>\n",
       "    </tr>\n",
       "    <tr>\n",
       "      <td>87</td>\n",
       "      <td>Star Wars Battlefront (2015)</td>\n",
       "      <td>PS4</td>\n",
       "      <td>2015</td>\n",
       "      <td>shooter</td>\n",
       "      <td>2.99</td>\n",
       "      <td>3.49</td>\n",
       "      <td>0.22</td>\n",
       "      <td>1.28</td>\n",
       "      <td>-1.0</td>\n",
       "      <td>-1.0</td>\n",
       "      <td>NA</td>\n",
       "      <td>7.98</td>\n",
       "    </tr>\n",
       "    <tr>\n",
       "      <td>92</td>\n",
       "      <td>Call of Duty: Advanced Warfare</td>\n",
       "      <td>PS4</td>\n",
       "      <td>2014</td>\n",
       "      <td>shooter</td>\n",
       "      <td>2.81</td>\n",
       "      <td>3.48</td>\n",
       "      <td>0.14</td>\n",
       "      <td>1.23</td>\n",
       "      <td>83.0</td>\n",
       "      <td>5.7</td>\n",
       "      <td>M</td>\n",
       "      <td>7.66</td>\n",
       "    </tr>\n",
       "    <tr>\n",
       "      <td>...</td>\n",
       "      <td>...</td>\n",
       "      <td>...</td>\n",
       "      <td>...</td>\n",
       "      <td>...</td>\n",
       "      <td>...</td>\n",
       "      <td>...</td>\n",
       "      <td>...</td>\n",
       "      <td>...</td>\n",
       "      <td>...</td>\n",
       "      <td>...</td>\n",
       "      <td>...</td>\n",
       "      <td>...</td>\n",
       "    </tr>\n",
       "    <tr>\n",
       "      <td>16500</td>\n",
       "      <td>Root Letter</td>\n",
       "      <td>PS4</td>\n",
       "      <td>2016</td>\n",
       "      <td>adventure</td>\n",
       "      <td>0.00</td>\n",
       "      <td>0.00</td>\n",
       "      <td>0.01</td>\n",
       "      <td>0.00</td>\n",
       "      <td>69.0</td>\n",
       "      <td>7.5</td>\n",
       "      <td>NA</td>\n",
       "      <td>0.01</td>\n",
       "    </tr>\n",
       "    <tr>\n",
       "      <td>16503</td>\n",
       "      <td>Shin Hayarigami 2</td>\n",
       "      <td>PS4</td>\n",
       "      <td>2016</td>\n",
       "      <td>adventure</td>\n",
       "      <td>0.00</td>\n",
       "      <td>0.00</td>\n",
       "      <td>0.01</td>\n",
       "      <td>0.00</td>\n",
       "      <td>-1.0</td>\n",
       "      <td>-1.0</td>\n",
       "      <td>NA</td>\n",
       "      <td>0.01</td>\n",
       "    </tr>\n",
       "    <tr>\n",
       "      <td>16526</td>\n",
       "      <td>Dungeons 2</td>\n",
       "      <td>PS4</td>\n",
       "      <td>2016</td>\n",
       "      <td>role-playing</td>\n",
       "      <td>0.01</td>\n",
       "      <td>0.00</td>\n",
       "      <td>0.00</td>\n",
       "      <td>0.00</td>\n",
       "      <td>61.0</td>\n",
       "      <td>7.9</td>\n",
       "      <td>T</td>\n",
       "      <td>0.01</td>\n",
       "    </tr>\n",
       "    <tr>\n",
       "      <td>16530</td>\n",
       "      <td>Carmageddon: Max Damage</td>\n",
       "      <td>PS4</td>\n",
       "      <td>2016</td>\n",
       "      <td>action</td>\n",
       "      <td>0.01</td>\n",
       "      <td>0.00</td>\n",
       "      <td>0.00</td>\n",
       "      <td>0.00</td>\n",
       "      <td>51.0</td>\n",
       "      <td>5.5</td>\n",
       "      <td>M</td>\n",
       "      <td>0.01</td>\n",
       "    </tr>\n",
       "    <tr>\n",
       "      <td>16585</td>\n",
       "      <td>Farming 2017 - The Simulation</td>\n",
       "      <td>PS4</td>\n",
       "      <td>2016</td>\n",
       "      <td>simulation</td>\n",
       "      <td>0.00</td>\n",
       "      <td>0.01</td>\n",
       "      <td>0.00</td>\n",
       "      <td>0.00</td>\n",
       "      <td>-1.0</td>\n",
       "      <td>-1.0</td>\n",
       "      <td>NA</td>\n",
       "      <td>0.01</td>\n",
       "    </tr>\n",
       "  </tbody>\n",
       "</table>\n",
       "<p>392 rows × 12 columns</p>\n",
       "</div>"
      ],
      "text/plain": [
       "                                 name platform  year_of_release         genre  \\\n",
       "31          Call of Duty: Black Ops 3      PS4             2015       shooter   \n",
       "42                 Grand Theft Auto V      PS4             2014        action   \n",
       "77                            FIFA 16      PS4             2015        sports   \n",
       "87       Star Wars Battlefront (2015)      PS4             2015       shooter   \n",
       "92     Call of Duty: Advanced Warfare      PS4             2014       shooter   \n",
       "...                               ...      ...              ...           ...   \n",
       "16500                     Root Letter      PS4             2016     adventure   \n",
       "16503               Shin Hayarigami 2      PS4             2016     adventure   \n",
       "16526                      Dungeons 2      PS4             2016  role-playing   \n",
       "16530         Carmageddon: Max Damage      PS4             2016        action   \n",
       "16585   Farming 2017 - The Simulation      PS4             2016    simulation   \n",
       "\n",
       "       na_sales  eu_sales  jp_sales  other_sales  critic_score  user_score  \\\n",
       "31         6.03      5.86      0.36         2.38          -1.0        -1.0   \n",
       "42         3.96      6.31      0.38         1.97          97.0         8.3   \n",
       "77         1.12      6.12      0.06         1.28          82.0         4.3   \n",
       "87         2.99      3.49      0.22         1.28          -1.0        -1.0   \n",
       "92         2.81      3.48      0.14         1.23          83.0         5.7   \n",
       "...         ...       ...       ...          ...           ...         ...   \n",
       "16500      0.00      0.00      0.01         0.00          69.0         7.5   \n",
       "16503      0.00      0.00      0.01         0.00          -1.0        -1.0   \n",
       "16526      0.01      0.00      0.00         0.00          61.0         7.9   \n",
       "16530      0.01      0.00      0.00         0.00          51.0         5.5   \n",
       "16585      0.00      0.01      0.00         0.00          -1.0        -1.0   \n",
       "\n",
       "      rating  total_sales  \n",
       "31        NA        14.63  \n",
       "42         M        12.62  \n",
       "77         E         8.58  \n",
       "87        NA         7.98  \n",
       "92         M         7.66  \n",
       "...      ...          ...  \n",
       "16500     NA         0.01  \n",
       "16503     NA         0.01  \n",
       "16526      T         0.01  \n",
       "16530      M         0.01  \n",
       "16585     NA         0.01  \n",
       "\n",
       "[392 rows x 12 columns]"
      ]
     },
     "execution_count": 45,
     "metadata": {},
     "output_type": "execute_result"
    }
   ],
   "source": [
    "ps_4= games_df_final_filter.query('platform in \"PS4\"')\n",
    "ps_4"
   ]
  },
  {
   "cell_type": "code",
   "execution_count": 46,
   "metadata": {},
   "outputs": [
    {
     "data": {
      "image/png": "[encoded data removed]",
      "text/plain": [
       "<Figure size 360x360 with 1 Axes>"
      ]
     },
     "metadata": {
      "needs_background": "light"
     },
     "output_type": "display_data"
    },
    {
     "data": {
      "image/png": "[encoded data removed]",
      "text/plain": [
       "<Figure size 432x432 with 3 Axes>"
      ]
     },
     "metadata": {
      "needs_background": "light"
     },
     "output_type": "display_data"
    }
   ],
   "source": [
    "sns.lmplot(data=ps_4,x='user_score',y='total_sales')\n",
    "plt.title('PS_4 User score vs Total_sales')\n",
    "sns.jointplot(data=ps_4,x='user_score',y='total_sales');"
   ]
  },
  {
   "cell_type": "code",
   "execution_count": 47,
   "metadata": {},
   "outputs": [
    {
     "data": {
      "image/png": "[encoded data removed]",
      "text/plain": [
       "<Figure size 360x360 with 1 Axes>"
      ]
     },
     "metadata": {
      "needs_background": "light"
     },
     "output_type": "display_data"
    },
    {
     "data": {
      "image/png": "[encoded data removed]",
      "text/plain": [
       "<Figure size 432x432 with 3 Axes>"
      ]
     },
     "metadata": {
      "needs_background": "light"
     },
     "output_type": "display_data"
    }
   ],
   "source": [
    "sns.lmplot(data=ps_4,x='critic_score',y='total_sales')\n",
    "plt.title('PS_4 Critic score vs Total_sales')\n",
    "sns.jointplot(data=ps_4,x='critic_score',y='total_sales');"
   ]
  },
  {
   "cell_type": "code",
   "execution_count": 48,
   "metadata": {},
   "outputs": [
    {
     "data": {
      "text/html": [
       "<div>\n",
       "<style scoped>\n",
       "    .dataframe tbody tr th:only-of-type {\n",
       "        vertical-align: middle;\n",
       "    }\n",
       "\n",
       "    .dataframe tbody tr th {\n",
       "        vertical-align: top;\n",
       "    }\n",
       "\n",
       "    .dataframe thead th {\n",
       "        text-align: right;\n",
       "    }\n",
       "</style>\n",
       "<table border=\"1\" class=\"dataframe\">\n",
       "  <thead>\n",
       "    <tr style=\"text-align: right;\">\n",
       "      <th></th>\n",
       "      <th>user_score</th>\n",
       "      <th>critic_score</th>\n",
       "      <th>total_sales</th>\n",
       "    </tr>\n",
       "  </thead>\n",
       "  <tbody>\n",
       "    <tr>\n",
       "      <td>user_score</td>\n",
       "      <td>1.000000</td>\n",
       "      <td>0.909195</td>\n",
       "      <td>0.114585</td>\n",
       "    </tr>\n",
       "    <tr>\n",
       "      <td>critic_score</td>\n",
       "      <td>0.909195</td>\n",
       "      <td>1.000000</td>\n",
       "      <td>0.226526</td>\n",
       "    </tr>\n",
       "    <tr>\n",
       "      <td>total_sales</td>\n",
       "      <td>0.114585</td>\n",
       "      <td>0.226526</td>\n",
       "      <td>1.000000</td>\n",
       "    </tr>\n",
       "  </tbody>\n",
       "</table>\n",
       "</div>"
      ],
      "text/plain": [
       "              user_score  critic_score  total_sales\n",
       "user_score      1.000000      0.909195     0.114585\n",
       "critic_score    0.909195      1.000000     0.226526\n",
       "total_sales     0.114585      0.226526     1.000000"
      ]
     },
     "execution_count": 48,
     "metadata": {},
     "output_type": "execute_result"
    }
   ],
   "source": [
    "ps_4[['user_score','critic_score','total_sales','rating']].corr()"
   ]
  },
  {
   "cell_type": "markdown",
   "metadata": {},
   "source": [
    "### Conclusion\n",
    "There is a weak linear relationship between user_score, critic_score to PS4 games sold. Though this result is negatively afftected by the negative value imputed in replacing the null values.\n",
    "\n",
    "There is a strong positive relationship between critic and user score. The most sales recorded by critic score was between zero and two with the most critic score being between 60 and 80."
   ]
  },
  {
   "cell_type": "markdown",
   "metadata": {},
   "source": [
    "<div class=\"alert alert-block alert-success\">\n",
    "<b>Reviewer's comment.</b> <a class=\"tocSkip\"></a>\n",
    "    \n",
    "Great! Critics have positiverelationship here, but users no. Strange for SONY, but it is ok. \n",
    "</div>"
   ]
  },
  {
   "cell_type": "markdown",
   "metadata": {},
   "source": [
    "## Compare sales of same game on other platforms"
   ]
  },
  {
   "cell_type": "code",
   "execution_count": 49,
   "metadata": {},
   "outputs": [
    {
     "data": {
      "text/html": [
       "<div>\n",
       "<style scoped>\n",
       "    .dataframe tbody tr th:only-of-type {\n",
       "        vertical-align: middle;\n",
       "    }\n",
       "\n",
       "    .dataframe tbody tr th {\n",
       "        vertical-align: top;\n",
       "    }\n",
       "\n",
       "    .dataframe thead th {\n",
       "        text-align: right;\n",
       "    }\n",
       "</style>\n",
       "<table border=\"1\" class=\"dataframe\">\n",
       "  <thead>\n",
       "    <tr style=\"text-align: right;\">\n",
       "      <th></th>\n",
       "      <th>name</th>\n",
       "      <th>platform</th>\n",
       "      <th>year_of_release</th>\n",
       "      <th>genre</th>\n",
       "      <th>na_sales</th>\n",
       "      <th>eu_sales</th>\n",
       "      <th>jp_sales</th>\n",
       "      <th>other_sales</th>\n",
       "      <th>critic_score</th>\n",
       "      <th>user_score</th>\n",
       "      <th>rating</th>\n",
       "      <th>total_sales</th>\n",
       "    </tr>\n",
       "  </thead>\n",
       "  <tbody>\n",
       "  </tbody>\n",
       "</table>\n",
       "</div>"
      ],
      "text/plain": [
       "Empty DataFrame\n",
       "Columns: [name, platform, year_of_release, genre, na_sales, eu_sales, jp_sales, other_sales, critic_score, user_score, rating, total_sales]\n",
       "Index: []"
      ]
     },
     "execution_count": 49,
     "metadata": {},
     "output_type": "execute_result"
    }
   ],
   "source": [
    "games_fill = games_df_final_filter[games_df_final_filter['name'].isin(ps_4.index)]\n",
    "games_fill"
   ]
  },
  {
   "cell_type": "code",
   "execution_count": 50,
   "metadata": {},
   "outputs": [
    {
     "data": {
      "text/html": [
       "<div>\n",
       "<style scoped>\n",
       "    .dataframe tbody tr th:only-of-type {\n",
       "        vertical-align: middle;\n",
       "    }\n",
       "\n",
       "    .dataframe tbody tr th {\n",
       "        vertical-align: top;\n",
       "    }\n",
       "\n",
       "    .dataframe thead th {\n",
       "        text-align: right;\n",
       "    }\n",
       "</style>\n",
       "<table border=\"1\" class=\"dataframe\">\n",
       "  <thead>\n",
       "    <tr style=\"text-align: right;\">\n",
       "      <th></th>\n",
       "      <th>name</th>\n",
       "      <th>platform</th>\n",
       "      <th>year_of_release</th>\n",
       "      <th>genre</th>\n",
       "      <th>na_sales</th>\n",
       "      <th>eu_sales</th>\n",
       "      <th>jp_sales</th>\n",
       "      <th>other_sales</th>\n",
       "      <th>critic_score</th>\n",
       "      <th>user_score</th>\n",
       "      <th>rating</th>\n",
       "      <th>total_sales</th>\n",
       "    </tr>\n",
       "  </thead>\n",
       "  <tbody>\n",
       "  </tbody>\n",
       "</table>\n",
       "</div>"
      ],
      "text/plain": [
       "Empty DataFrame\n",
       "Columns: [name, platform, year_of_release, genre, na_sales, eu_sales, jp_sales, other_sales, critic_score, user_score, rating, total_sales]\n",
       "Index: []"
      ]
     },
     "execution_count": 50,
     "metadata": {},
     "output_type": "execute_result"
    }
   ],
   "source": [
    "other_filtered_games= games_df_final_filter.query('name in @ps_4')\n",
    "other_filtered_games"
   ]
  },
  {
   "cell_type": "markdown",
   "metadata": {},
   "source": [
    "### Conclusion\n",
    "The games on PS4 platform are unique to their platform."
   ]
  },
  {
   "cell_type": "markdown",
   "metadata": {},
   "source": [
    "<div class=\"alert alert-block alert-success\">\n",
    "<b>Reviewer's comment. </b> <a class=\"tocSkip\"></a>\n",
    "    \n",
    "OK\n",
    "</div>"
   ]
  },
  {
   "cell_type": "markdown",
   "metadata": {},
   "source": [
    "## Distribution of game by genre"
   ]
  },
  {
   "cell_type": "code",
   "execution_count": 51,
   "metadata": {},
   "outputs": [
    {
     "data": {
      "image/png": "[encoded data removed]",
      "text/plain": [
       "<Figure size 576x432 with 1 Axes>"
      ]
     },
     "metadata": {
      "needs_background": "light"
     },
     "output_type": "display_data"
    }
   ],
   "source": [
    "games_by_genre=(games_df_final_filter\n",
    "                .pivot_table(index='genre',values='total_sales',aggfunc='sum',\n",
    "                             fill_value=0)).sort_values('total_sales',ascending =False).plot(kind='bar',figsize=(8,6),grid=True)\n",
    "plt.ylabel('Total_sales')\n",
    "plt.title('Total_sales by Genre');"
   ]
  },
  {
   "cell_type": "code",
   "execution_count": 52,
   "metadata": {},
   "outputs": [
    {
     "data": {
      "text/html": [
       "<div>\n",
       "<style scoped>\n",
       "    .dataframe tbody tr th:only-of-type {\n",
       "        vertical-align: middle;\n",
       "    }\n",
       "\n",
       "    .dataframe tbody tr th {\n",
       "        vertical-align: top;\n",
       "    }\n",
       "\n",
       "    .dataframe thead th {\n",
       "        text-align: right;\n",
       "    }\n",
       "</style>\n",
       "<table border=\"1\" class=\"dataframe\">\n",
       "  <thead>\n",
       "    <tr style=\"text-align: right;\">\n",
       "      <th></th>\n",
       "      <th>genre</th>\n",
       "      <th>year_of_release</th>\n",
       "      <th>total_sales</th>\n",
       "    </tr>\n",
       "  </thead>\n",
       "  <tbody>\n",
       "    <tr>\n",
       "      <td>0</td>\n",
       "      <td>action</td>\n",
       "      <td>2013</td>\n",
       "      <td>122.51</td>\n",
       "    </tr>\n",
       "    <tr>\n",
       "      <td>1</td>\n",
       "      <td>action</td>\n",
       "      <td>2014</td>\n",
       "      <td>97.23</td>\n",
       "    </tr>\n",
       "    <tr>\n",
       "      <td>2</td>\n",
       "      <td>action</td>\n",
       "      <td>2015</td>\n",
       "      <td>72.02</td>\n",
       "    </tr>\n",
       "    <tr>\n",
       "      <td>3</td>\n",
       "      <td>action</td>\n",
       "      <td>2016</td>\n",
       "      <td>30.11</td>\n",
       "    </tr>\n",
       "    <tr>\n",
       "      <td>4</td>\n",
       "      <td>adventure</td>\n",
       "      <td>2013</td>\n",
       "      <td>6.09</td>\n",
       "    </tr>\n",
       "  </tbody>\n",
       "</table>\n",
       "</div>"
      ],
      "text/plain": [
       "       genre  year_of_release  total_sales\n",
       "0     action             2013       122.51\n",
       "1     action             2014        97.23\n",
       "2     action             2015        72.02\n",
       "3     action             2016        30.11\n",
       "4  adventure             2013         6.09"
      ]
     },
     "execution_count": 52,
     "metadata": {},
     "output_type": "execute_result"
    }
   ],
   "source": [
    "games_by_genre_stat= pd.DataFrame(games_df_final_filter.groupby(['genre','year_of_release'])['total_sales'].sum().reset_index())\n",
    "games_by_genre_stat.sort_values('total_sales',ascending=False)\n",
    "games_by_genre_stat.head()"
   ]
  },
  {
   "cell_type": "code",
   "execution_count": 53,
   "metadata": {},
   "outputs": [
    {
     "data": {
      "image/png": "[encoded data removed]",
      "text/plain": [
       "<Figure size 720x432 with 1 Axes>"
      ]
     },
     "metadata": {
      "needs_background": "light"
     },
     "output_type": "display_data"
    }
   ],
   "source": [
    "sns.barplot(x='genre', y='total_sales', hue='year_of_release', data=games_by_genre_stat, saturation=0.8)\n",
    "plt.xticks(rotation=90)\n",
    "plt.legend(loc='best')\n",
    "plt.title('Genre sales by year')\n",
    "plt.rcParams['figure.figsize'] = 9,9;\n",
    "\n",
    "plt.show()"
   ]
  },
  {
   "cell_type": "markdown",
   "metadata": {},
   "source": [
    "### Conclusion\n",
    "2013 was the most profitable across all genres. Puzzle and strategy are the least performing genres for all years with action being the second profitable genre in 2016 after shooter."
   ]
  },
  {
   "cell_type": "markdown",
   "metadata": {},
   "source": [
    "<div class=\"alert alert-block alert-success\">\n",
    "<b>Reviewer's comment. </b> <a class=\"tocSkip\"></a>\n",
    "    \n",
    "Our graphs looking better now!\n",
    "\n",
    "Action and shooter are in top. It was expected. :) </div>"
   ]
  },
  {
   "cell_type": "markdown",
   "metadata": {},
   "source": [
    "## Top platforms by region"
   ]
  },
  {
   "cell_type": "markdown",
   "metadata": {},
   "source": [
    "#### NA Sales summary"
   ]
  },
  {
   "cell_type": "code",
   "execution_count": 54,
   "metadata": {},
   "outputs": [
    {
     "data": {
      "text/html": [
       "<div>\n",
       "<style scoped>\n",
       "    .dataframe tbody tr th:only-of-type {\n",
       "        vertical-align: middle;\n",
       "    }\n",
       "\n",
       "    .dataframe tbody tr th {\n",
       "        vertical-align: top;\n",
       "    }\n",
       "\n",
       "    .dataframe thead th {\n",
       "        text-align: right;\n",
       "    }\n",
       "</style>\n",
       "<table border=\"1\" class=\"dataframe\">\n",
       "  <thead>\n",
       "    <tr style=\"text-align: right;\">\n",
       "      <th></th>\n",
       "      <th>platform</th>\n",
       "      <th>na_sales</th>\n",
       "    </tr>\n",
       "  </thead>\n",
       "  <tbody>\n",
       "    <tr>\n",
       "      <td>4</td>\n",
       "      <td>PS4</td>\n",
       "      <td>108.74</td>\n",
       "    </tr>\n",
       "    <tr>\n",
       "      <td>10</td>\n",
       "      <td>XOne</td>\n",
       "      <td>93.12</td>\n",
       "    </tr>\n",
       "    <tr>\n",
       "      <td>9</td>\n",
       "      <td>X360</td>\n",
       "      <td>81.66</td>\n",
       "    </tr>\n",
       "    <tr>\n",
       "      <td>3</td>\n",
       "      <td>PS3</td>\n",
       "      <td>63.50</td>\n",
       "    </tr>\n",
       "    <tr>\n",
       "      <td>0</td>\n",
       "      <td>3DS</td>\n",
       "      <td>38.20</td>\n",
       "    </tr>\n",
       "  </tbody>\n",
       "</table>\n",
       "</div>"
      ],
      "text/plain": [
       "   platform  na_sales\n",
       "4       PS4    108.74\n",
       "10     XOne     93.12\n",
       "9      X360     81.66\n",
       "3       PS3     63.50\n",
       "0       3DS     38.20"
      ]
     },
     "execution_count": 54,
     "metadata": {},
     "output_type": "execute_result"
    }
   ],
   "source": [
    "na_sales_top_5 = games_df_final_filter.groupby('platform')['na_sales'].sum().reset_index()\n",
    "na_sales_sorted = na_sales_top_5.sort_values('na_sales',ascending=False).head(5)\n",
    "na_sales_sorted"
   ]
  },
  {
   "cell_type": "code",
   "execution_count": 55,
   "metadata": {},
   "outputs": [
    {
     "data": {
      "image/png": "[encoded data removed]",
      "text/plain": [
       "<Figure size 432x360 with 1 Axes>"
      ]
     },
     "metadata": {
      "needs_background": "light"
     },
     "output_type": "display_data"
    }
   ],
   "source": [
    "plt.rcParams['figure.figsize'] = [6, 5]\n",
    "sns.set_color_codes(\"colorblind\")\n",
    "sns.barplot(x=\"na_sales\", y=\"platform\", data= na_sales_sorted, label=\"Sales\")\n",
    "sns.color_palette(\"hls\", 5)\n",
    "plt.title('Top 5 NA sales by platform')\n",
    "plt.show()"
   ]
  },
  {
   "cell_type": "code",
   "execution_count": 56,
   "metadata": {},
   "outputs": [],
   "source": [
    "explode_list = [0.09, 0, 0,0, 0.07]\n",
    "def plot_top_sales_region(df, column, region, n=5):\n",
    "    data = (df\n",
    "            .pivot_table(index=column, values=region, aggfunc='sum')\n",
    "            .sort_values(region, ascending=False)\n",
    "            .head(n))\n",
    "    data.plot(kind='pie', y=region,autopct='%1.0f%%', figsize=(10, 5),\n",
    "              legend=True,explode = explode_list).set(label=data.index)\n",
    "    plt.legend(bbox_to_anchor=(1.5,0.5), loc=\"upper right\")\n",
    "    plt.show()"
   ]
  },
  {
   "cell_type": "code",
   "execution_count": 57,
   "metadata": {},
   "outputs": [
    {
     "data": {
      "image/png": "[encoded data removed]",
      "text/plain": [
       "<Figure size 720x360 with 1 Axes>"
      ]
     },
     "metadata": {},
     "output_type": "display_data"
    }
   ],
   "source": [
    "plot_top_sales_region(games_df_final_filter, 'genre', region = 'na_sales')"
   ]
  },
  {
   "cell_type": "code",
   "execution_count": 58,
   "metadata": {},
   "outputs": [
    {
     "data": {
      "image/png": "[encoded data removed]",
      "text/plain": [
       "<Figure size 720x360 with 1 Axes>"
      ]
     },
     "metadata": {},
     "output_type": "display_data"
    }
   ],
   "source": [
    "plot_top_sales_region(games_df_final_filter, 'rating', region = 'na_sales')"
   ]
  },
  {
   "cell_type": "markdown",
   "metadata": {},
   "source": [
    "### Conclusion\n",
    "PS4 followed by Xone were the most profitable platforms in na_region with action being the most bought genre. About 38% of games in the region  are rated M followed by 18% for E. NA which makes up 20% of results, represent yet to be rated games."
   ]
  },
  {
   "cell_type": "markdown",
   "metadata": {},
   "source": [
    "<div class=\"alert alert-block alert-success\">\n",
    "<b>Reviewer's comment. </b> <a class=\"tocSkip\"></a>\n",
    "    \n",
    "Great! Now we have more infromation about NA popular platforms and genres.</div>"
   ]
  },
  {
   "cell_type": "markdown",
   "metadata": {},
   "source": [
    "## EU Sales summary"
   ]
  },
  {
   "cell_type": "code",
   "execution_count": 59,
   "metadata": {},
   "outputs": [
    {
     "data": {
      "text/html": [
       "<div>\n",
       "<style scoped>\n",
       "    .dataframe tbody tr th:only-of-type {\n",
       "        vertical-align: middle;\n",
       "    }\n",
       "\n",
       "    .dataframe tbody tr th {\n",
       "        vertical-align: top;\n",
       "    }\n",
       "\n",
       "    .dataframe thead th {\n",
       "        text-align: right;\n",
       "    }\n",
       "</style>\n",
       "<table border=\"1\" class=\"dataframe\">\n",
       "  <thead>\n",
       "    <tr style=\"text-align: right;\">\n",
       "      <th></th>\n",
       "      <th>platform</th>\n",
       "      <th>eu_sales</th>\n",
       "    </tr>\n",
       "  </thead>\n",
       "  <tbody>\n",
       "    <tr>\n",
       "      <td>4</td>\n",
       "      <td>PS4</td>\n",
       "      <td>141.09</td>\n",
       "    </tr>\n",
       "    <tr>\n",
       "      <td>3</td>\n",
       "      <td>PS3</td>\n",
       "      <td>67.81</td>\n",
       "    </tr>\n",
       "    <tr>\n",
       "      <td>10</td>\n",
       "      <td>XOne</td>\n",
       "      <td>51.59</td>\n",
       "    </tr>\n",
       "    <tr>\n",
       "      <td>9</td>\n",
       "      <td>X360</td>\n",
       "      <td>42.52</td>\n",
       "    </tr>\n",
       "    <tr>\n",
       "      <td>0</td>\n",
       "      <td>3DS</td>\n",
       "      <td>30.96</td>\n",
       "    </tr>\n",
       "  </tbody>\n",
       "</table>\n",
       "</div>"
      ],
      "text/plain": [
       "   platform  eu_sales\n",
       "4       PS4    141.09\n",
       "3       PS3     67.81\n",
       "10     XOne     51.59\n",
       "9      X360     42.52\n",
       "0       3DS     30.96"
      ]
     },
     "execution_count": 59,
     "metadata": {},
     "output_type": "execute_result"
    }
   ],
   "source": [
    "eu_sales_top_5 = games_df_final_filter.groupby('platform')['eu_sales'].sum().reset_index()\n",
    "eu_sales_sorted = eu_sales_top_5.sort_values('eu_sales',ascending=False).head(5)\n",
    "eu_sales_sorted"
   ]
  },
  {
   "cell_type": "code",
   "execution_count": 60,
   "metadata": {},
   "outputs": [
    {
     "data": {
      "image/png": "[encoded data removed]",
      "text/plain": [
       "<Figure size 432x360 with 1 Axes>"
      ]
     },
     "metadata": {
      "needs_background": "light"
     },
     "output_type": "display_data"
    }
   ],
   "source": [
    "plt.rcParams['figure.figsize'] = [6, 5]\n",
    "sns.set_color_codes(\"colorblind\")\n",
    "sns.barplot(x=\"eu_sales\", y=\"platform\", data= eu_sales_sorted, label=\"Sales\")\n",
    "sns.color_palette(\"hls\", 5)\n",
    "plt.title('Top 5 EU sales by platform')\n",
    "plt.show()"
   ]
  },
  {
   "cell_type": "code",
   "execution_count": 61,
   "metadata": {},
   "outputs": [
    {
     "data": {
      "image/png": "[encoded data removed]",
      "text/plain": [
       "<Figure size 720x360 with 1 Axes>"
      ]
     },
     "metadata": {},
     "output_type": "display_data"
    }
   ],
   "source": [
    "plot_top_sales_region(games_df_final_filter, 'genre', region = 'eu_sales')"
   ]
  },
  {
   "cell_type": "code",
   "execution_count": 62,
   "metadata": {},
   "outputs": [
    {
     "data": {
      "image/png": "[encoded data removed]",
      "text/plain": [
       "<Figure size 720x360 with 1 Axes>"
      ]
     },
     "metadata": {},
     "output_type": "display_data"
    }
   ],
   "source": [
    "plot_top_sales_region(games_df_final_filter, 'rating', region = 'eu_sales')"
   ]
  },
  {
   "cell_type": "markdown",
   "metadata": {},
   "source": [
    "### Conclusion\n",
    "PS4 is the most profitable platform in eu_region followed by PS3. 36% of the games sold are action followed by 27% for shooter genres. 37% of the games in the region are M rated seconded by 21% for E ratings."
   ]
  },
  {
   "cell_type": "markdown",
   "metadata": {},
   "source": [
    "<div class=\"alert alert-block alert-success\">\n",
    "<b>Reviewer's comment.</b> <a class=\"tocSkip\"></a>\n",
    "    \n",
    "Some resultsare the same with NA. SO, it is normal. :)\n",
    "</div>"
   ]
  },
  {
   "cell_type": "markdown",
   "metadata": {},
   "source": [
    "### JP sales summary"
   ]
  },
  {
   "cell_type": "code",
   "execution_count": 63,
   "metadata": {},
   "outputs": [
    {
     "data": {
      "text/html": [
       "<div>\n",
       "<style scoped>\n",
       "    .dataframe tbody tr th:only-of-type {\n",
       "        vertical-align: middle;\n",
       "    }\n",
       "\n",
       "    .dataframe tbody tr th {\n",
       "        vertical-align: top;\n",
       "    }\n",
       "\n",
       "    .dataframe thead th {\n",
       "        text-align: right;\n",
       "    }\n",
       "</style>\n",
       "<table border=\"1\" class=\"dataframe\">\n",
       "  <thead>\n",
       "    <tr style=\"text-align: right;\">\n",
       "      <th></th>\n",
       "      <th>platform</th>\n",
       "      <th>jp_sales</th>\n",
       "    </tr>\n",
       "  </thead>\n",
       "  <tbody>\n",
       "    <tr>\n",
       "      <td>0</td>\n",
       "      <td>3DS</td>\n",
       "      <td>67.81</td>\n",
       "    </tr>\n",
       "    <tr>\n",
       "      <td>3</td>\n",
       "      <td>PS3</td>\n",
       "      <td>23.35</td>\n",
       "    </tr>\n",
       "    <tr>\n",
       "      <td>6</td>\n",
       "      <td>PSV</td>\n",
       "      <td>18.59</td>\n",
       "    </tr>\n",
       "    <tr>\n",
       "      <td>4</td>\n",
       "      <td>PS4</td>\n",
       "      <td>15.96</td>\n",
       "    </tr>\n",
       "    <tr>\n",
       "      <td>8</td>\n",
       "      <td>WiiU</td>\n",
       "      <td>10.88</td>\n",
       "    </tr>\n",
       "  </tbody>\n",
       "</table>\n",
       "</div>"
      ],
      "text/plain": [
       "  platform  jp_sales\n",
       "0      3DS     67.81\n",
       "3      PS3     23.35\n",
       "6      PSV     18.59\n",
       "4      PS4     15.96\n",
       "8     WiiU     10.88"
      ]
     },
     "execution_count": 63,
     "metadata": {},
     "output_type": "execute_result"
    }
   ],
   "source": [
    "jp_sales_top_5 = games_df_final_filter.groupby('platform')['jp_sales'].sum().reset_index()\n",
    "jp_sales_sorted = jp_sales_top_5.sort_values('jp_sales',ascending=False).head(5)\n",
    "jp_sales_sorted"
   ]
  },
  {
   "cell_type": "code",
   "execution_count": 64,
   "metadata": {},
   "outputs": [
    {
     "data": {
      "image/png": "[encoded data removed]",
      "text/plain": [
       "<Figure size 432x360 with 1 Axes>"
      ]
     },
     "metadata": {
      "needs_background": "light"
     },
     "output_type": "display_data"
    }
   ],
   "source": [
    "plt.rcParams['figure.figsize'] = [6, 5]\n",
    "sns.set_color_codes(\"colorblind\")\n",
    "sns.barplot(x=\"jp_sales\", y=\"platform\", data= jp_sales_sorted, label=\"Sales\")\n",
    "sns.color_palette(\"hls\", 5)\n",
    "plt.title('Top 5 JP samles by platform')\n",
    "plt.show()"
   ]
  },
  {
   "cell_type": "code",
   "execution_count": 65,
   "metadata": {},
   "outputs": [
    {
     "data": {
      "image/png": "[encoded data removed]",
      "text/plain": [
       "<Figure size 720x360 with 1 Axes>"
      ]
     },
     "metadata": {},
     "output_type": "display_data"
    }
   ],
   "source": [
    "plot_top_sales_region(games_df_final_filter, 'genre', region = 'jp_sales')"
   ]
  },
  {
   "cell_type": "code",
   "execution_count": 66,
   "metadata": {},
   "outputs": [
    {
     "data": {
      "image/png": "[encoded data removed]",
      "text/plain": [
       "<Figure size 720x360 with 1 Axes>"
      ]
     },
     "metadata": {},
     "output_type": "display_data"
    }
   ],
   "source": [
    "plot_top_sales_region(games_df_final_filter, 'rating', region = 'jp_sales')"
   ]
  },
  {
   "cell_type": "markdown",
   "metadata": {},
   "source": [
    "### Conclusion\n",
    "\n",
    "3DS is the most profitable in jp_region with PS4 being the forth. Role playing genre is 44% of total games sold followed by action. About 60% of the games in the region are not rated."
   ]
  },
  {
   "cell_type": "markdown",
   "metadata": {},
   "source": [
    "<div class=\"alert alert-block alert-success\">\n",
    "<b>Reviewer's comment. </b> <a class=\"tocSkip\"></a>\n",
    "    \n",
    "Japan is other planet. It is normal too. :)</div>"
   ]
  },
  {
   "cell_type": "code",
   "execution_count": 67,
   "metadata": {},
   "outputs": [
    {
     "data": {
      "text/html": [
       "<div>\n",
       "<style scoped>\n",
       "    .dataframe tbody tr th:only-of-type {\n",
       "        vertical-align: middle;\n",
       "    }\n",
       "\n",
       "    .dataframe tbody tr th {\n",
       "        vertical-align: top;\n",
       "    }\n",
       "\n",
       "    .dataframe thead th {\n",
       "        text-align: right;\n",
       "    }\n",
       "</style>\n",
       "<table border=\"1\" class=\"dataframe\">\n",
       "  <thead>\n",
       "    <tr style=\"text-align: right;\">\n",
       "      <th></th>\n",
       "      <th>eu_sales</th>\n",
       "      <th>jp_sales</th>\n",
       "      <th>na_sales</th>\n",
       "    </tr>\n",
       "    <tr>\n",
       "      <th>platform</th>\n",
       "      <th></th>\n",
       "      <th></th>\n",
       "      <th></th>\n",
       "    </tr>\n",
       "  </thead>\n",
       "  <tbody>\n",
       "    <tr>\n",
       "      <td>PS4</td>\n",
       "      <td>141.09</td>\n",
       "      <td>15.96</td>\n",
       "      <td>108.74</td>\n",
       "    </tr>\n",
       "    <tr>\n",
       "      <td>XOne</td>\n",
       "      <td>51.59</td>\n",
       "      <td>0.34</td>\n",
       "      <td>93.12</td>\n",
       "    </tr>\n",
       "    <tr>\n",
       "      <td>X360</td>\n",
       "      <td>42.52</td>\n",
       "      <td>0.51</td>\n",
       "      <td>81.66</td>\n",
       "    </tr>\n",
       "    <tr>\n",
       "      <td>PS3</td>\n",
       "      <td>67.81</td>\n",
       "      <td>23.35</td>\n",
       "      <td>63.50</td>\n",
       "    </tr>\n",
       "    <tr>\n",
       "      <td>3DS</td>\n",
       "      <td>30.96</td>\n",
       "      <td>67.81</td>\n",
       "      <td>38.20</td>\n",
       "    </tr>\n",
       "    <tr>\n",
       "      <td>WiiU</td>\n",
       "      <td>19.85</td>\n",
       "      <td>10.88</td>\n",
       "      <td>29.21</td>\n",
       "    </tr>\n",
       "  </tbody>\n",
       "</table>\n",
       "</div>"
      ],
      "text/plain": [
       "          eu_sales  jp_sales  na_sales\n",
       "platform                              \n",
       "PS4         141.09     15.96    108.74\n",
       "XOne         51.59      0.34     93.12\n",
       "X360         42.52      0.51     81.66\n",
       "PS3          67.81     23.35     63.50\n",
       "3DS          30.96     67.81     38.20\n",
       "WiiU         19.85     10.88     29.21"
      ]
     },
     "execution_count": 67,
     "metadata": {},
     "output_type": "execute_result"
    }
   ],
   "source": [
    "share_by_market = (games_df_final_filter\n",
    "                   .pivot_table(index='platform',values=['na_sales','eu_sales','jp_sales'],aggfunc='sum')\n",
    "                   .sort_values(['na_sales','eu_sales','jp_sales'],ascending=False).head(6))\n",
    "share_by_market"
   ]
  },
  {
   "cell_type": "code",
   "execution_count": 68,
   "metadata": {},
   "outputs": [
    {
     "data": {
      "image/png": "[encoded data removed]",
      "text/plain": [
       "<Figure size 432x360 with 1 Axes>"
      ]
     },
     "metadata": {
      "needs_background": "light"
     },
     "output_type": "display_data"
    }
   ],
   "source": [
    "share_by_market2= (games_df_final_filter.groupby('platform')['na_sales','eu_sales','jp_sales']\n",
    "                   .sum().sort_values(['na_sales','eu_sales','jp_sales'],ascending=False).head(6))\n",
    "share_by_market2.transpose().plot(kind='bar')\n",
    "plt.ylabel('Sales')\n",
    "plt.title('Top five platforms sales for all regions ');"
   ]
  },
  {
   "cell_type": "code",
   "execution_count": 69,
   "metadata": {},
   "outputs": [
    {
     "data": {
      "image/png": "[encoded data removed]",
      "text/plain": [
       "<Figure size 432x360 with 1 Axes>"
      ]
     },
     "metadata": {
      "needs_background": "light"
     },
     "output_type": "display_data"
    }
   ],
   "source": [
    "share_by_genre = (games_df_final_filter.groupby('genre')['na_sales','eu_sales','jp_sales']\n",
    "                   .sum().sort_values(['na_sales','eu_sales','jp_sales'],ascending=False).head(5))\n",
    "share_by_genre.transpose().plot(kind='bar')\n",
    "plt.ylabel('Sales')\n",
    "plt.title('Top five genre for all regions');"
   ]
  },
  {
   "cell_type": "code",
   "execution_count": 70,
   "metadata": {},
   "outputs": [
    {
     "data": {
      "text/html": [
       "<div>\n",
       "<style scoped>\n",
       "    .dataframe tbody tr th:only-of-type {\n",
       "        vertical-align: middle;\n",
       "    }\n",
       "\n",
       "    .dataframe tbody tr th {\n",
       "        vertical-align: top;\n",
       "    }\n",
       "\n",
       "    .dataframe thead th {\n",
       "        text-align: right;\n",
       "    }\n",
       "</style>\n",
       "<table border=\"1\" class=\"dataframe\">\n",
       "  <thead>\n",
       "    <tr style=\"text-align: right;\">\n",
       "      <th></th>\n",
       "      <th>na_sales</th>\n",
       "      <th>eu_sales</th>\n",
       "      <th>jp_sales</th>\n",
       "    </tr>\n",
       "  </thead>\n",
       "  <tbody>\n",
       "    <tr>\n",
       "      <td>mean</td>\n",
       "      <td>2.05</td>\n",
       "      <td>1.81</td>\n",
       "      <td>0.45</td>\n",
       "    </tr>\n",
       "    <tr>\n",
       "      <td>var</td>\n",
       "      <td>4.65</td>\n",
       "      <td>3.73</td>\n",
       "      <td>0.75</td>\n",
       "    </tr>\n",
       "    <tr>\n",
       "      <td>std</td>\n",
       "      <td>2.16</td>\n",
       "      <td>1.93</td>\n",
       "      <td>0.87</td>\n",
       "    </tr>\n",
       "  </tbody>\n",
       "</table>\n",
       "</div>"
      ],
      "text/plain": [
       "      na_sales  eu_sales  jp_sales\n",
       "mean      2.05      1.81      0.45\n",
       "var       4.65      3.73      0.75\n",
       "std       2.16      1.93      0.87"
      ]
     },
     "execution_count": 70,
     "metadata": {},
     "output_type": "execute_result"
    }
   ],
   "source": [
    "stat = pd.DataFrame(games_df_final_filter\n",
    "                    .groupby('platform')[['na_sales','eu_sales','jp_sales']].head().agg(['mean','var','std']).round(2))\n",
    "stat"
   ]
  },
  {
   "cell_type": "markdown",
   "metadata": {},
   "source": [
    "## Conclusion\n",
    "\n",
    "Overall, PS4 is the most profitable platform with most sales coming from the eu_region followed by na_region. 3DS being the most profitable in jp_region has minimal preformance in the other regions.\n",
    "Despite role playing being the most profitable in jp_region, it's performance is lower relative to those in na and eu regions.\n"
   ]
  },
  {
   "cell_type": "markdown",
   "metadata": {},
   "source": [
    "<div class=\"alert alert-block alert-success\">\n",
    "<b>Reviewer's comment. </b> <a class=\"tocSkip\"></a>\n",
    "    \n",
    "Thank you for such summary! You are absolutely right!\n",
    "\n",
    "</div>"
   ]
  },
  {
   "cell_type": "markdown",
   "metadata": {},
   "source": [
    "## Hypothesis testing"
   ]
  },
  {
   "cell_type": "code",
   "execution_count": 71,
   "metadata": {},
   "outputs": [
    {
     "data": {
      "text/plain": [
       "array(['PS3', 'X360', 'PS4', '3DS', 'XOne', 'WiiU', 'Wii', 'PC', 'PSV',\n",
       "       'DS', 'PSP'], dtype=object)"
      ]
     },
     "execution_count": 71,
     "metadata": {},
     "output_type": "execute_result"
    }
   ],
   "source": [
    "games_df_final_filter['platform'].unique()"
   ]
  },
  {
   "cell_type": "code",
   "execution_count": 72,
   "metadata": {},
   "outputs": [
    {
     "data": {
      "text/html": [
       "<div>\n",
       "<style scoped>\n",
       "    .dataframe tbody tr th:only-of-type {\n",
       "        vertical-align: middle;\n",
       "    }\n",
       "\n",
       "    .dataframe tbody tr th {\n",
       "        vertical-align: top;\n",
       "    }\n",
       "\n",
       "    .dataframe thead th {\n",
       "        text-align: right;\n",
       "    }\n",
       "</style>\n",
       "<table border=\"1\" class=\"dataframe\">\n",
       "  <thead>\n",
       "    <tr style=\"text-align: right;\">\n",
       "      <th></th>\n",
       "      <th>name</th>\n",
       "      <th>platform</th>\n",
       "      <th>year_of_release</th>\n",
       "      <th>genre</th>\n",
       "      <th>na_sales</th>\n",
       "      <th>eu_sales</th>\n",
       "      <th>jp_sales</th>\n",
       "      <th>other_sales</th>\n",
       "      <th>critic_score</th>\n",
       "      <th>user_score</th>\n",
       "      <th>rating</th>\n",
       "      <th>total_sales</th>\n",
       "    </tr>\n",
       "  </thead>\n",
       "  <tbody>\n",
       "    <tr>\n",
       "      <td>99</td>\n",
       "      <td>Call of Duty: Black Ops 3</td>\n",
       "      <td>XOne</td>\n",
       "      <td>2015</td>\n",
       "      <td>shooter</td>\n",
       "      <td>4.59</td>\n",
       "      <td>2.11</td>\n",
       "      <td>0.01</td>\n",
       "      <td>0.68</td>\n",
       "      <td>-1.0</td>\n",
       "      <td>-1.0</td>\n",
       "      <td>NA</td>\n",
       "      <td>7.39</td>\n",
       "    </tr>\n",
       "    <tr>\n",
       "      <td>165</td>\n",
       "      <td>Grand Theft Auto V</td>\n",
       "      <td>XOne</td>\n",
       "      <td>2014</td>\n",
       "      <td>action</td>\n",
       "      <td>2.81</td>\n",
       "      <td>2.19</td>\n",
       "      <td>0.00</td>\n",
       "      <td>0.47</td>\n",
       "      <td>97.0</td>\n",
       "      <td>7.9</td>\n",
       "      <td>M</td>\n",
       "      <td>5.47</td>\n",
       "    </tr>\n",
       "    <tr>\n",
       "      <td>179</td>\n",
       "      <td>Call of Duty: Advanced Warfare</td>\n",
       "      <td>XOne</td>\n",
       "      <td>2014</td>\n",
       "      <td>shooter</td>\n",
       "      <td>3.22</td>\n",
       "      <td>1.55</td>\n",
       "      <td>0.01</td>\n",
       "      <td>0.48</td>\n",
       "      <td>81.0</td>\n",
       "      <td>5.4</td>\n",
       "      <td>M</td>\n",
       "      <td>5.26</td>\n",
       "    </tr>\n",
       "    <tr>\n",
       "      <td>242</td>\n",
       "      <td>Halo 5: Guardians</td>\n",
       "      <td>XOne</td>\n",
       "      <td>2015</td>\n",
       "      <td>shooter</td>\n",
       "      <td>2.78</td>\n",
       "      <td>1.27</td>\n",
       "      <td>0.03</td>\n",
       "      <td>0.41</td>\n",
       "      <td>84.0</td>\n",
       "      <td>6.4</td>\n",
       "      <td>T</td>\n",
       "      <td>4.49</td>\n",
       "    </tr>\n",
       "    <tr>\n",
       "      <td>270</td>\n",
       "      <td>Fallout 4</td>\n",
       "      <td>XOne</td>\n",
       "      <td>2015</td>\n",
       "      <td>role-playing</td>\n",
       "      <td>2.51</td>\n",
       "      <td>1.32</td>\n",
       "      <td>0.01</td>\n",
       "      <td>0.38</td>\n",
       "      <td>88.0</td>\n",
       "      <td>6.2</td>\n",
       "      <td>M</td>\n",
       "      <td>4.22</td>\n",
       "    </tr>\n",
       "  </tbody>\n",
       "</table>\n",
       "</div>"
      ],
      "text/plain": [
       "                               name platform  year_of_release         genre  \\\n",
       "99        Call of Duty: Black Ops 3     XOne             2015       shooter   \n",
       "165              Grand Theft Auto V     XOne             2014        action   \n",
       "179  Call of Duty: Advanced Warfare     XOne             2014       shooter   \n",
       "242               Halo 5: Guardians     XOne             2015       shooter   \n",
       "270                       Fallout 4     XOne             2015  role-playing   \n",
       "\n",
       "     na_sales  eu_sales  jp_sales  other_sales  critic_score  user_score  \\\n",
       "99       4.59      2.11      0.01         0.68          -1.0        -1.0   \n",
       "165      2.81      2.19      0.00         0.47          97.0         7.9   \n",
       "179      3.22      1.55      0.01         0.48          81.0         5.4   \n",
       "242      2.78      1.27      0.03         0.41          84.0         6.4   \n",
       "270      2.51      1.32      0.01         0.38          88.0         6.2   \n",
       "\n",
       "    rating  total_sales  \n",
       "99      NA         7.39  \n",
       "165      M         5.47  \n",
       "179      M         5.26  \n",
       "242      T         4.49  \n",
       "270      M         4.22  "
      ]
     },
     "execution_count": 72,
     "metadata": {},
     "output_type": "execute_result"
    }
   ],
   "source": [
    "xbox_one = games_df_final_filter.query('platform ==\"XOne\"')\n",
    "xbox_one.head()"
   ]
  },
  {
   "cell_type": "code",
   "execution_count": 73,
   "metadata": {},
   "outputs": [
    {
     "data": {
      "text/html": [
       "<div>\n",
       "<style scoped>\n",
       "    .dataframe tbody tr th:only-of-type {\n",
       "        vertical-align: middle;\n",
       "    }\n",
       "\n",
       "    .dataframe tbody tr th {\n",
       "        vertical-align: top;\n",
       "    }\n",
       "\n",
       "    .dataframe thead th {\n",
       "        text-align: right;\n",
       "    }\n",
       "</style>\n",
       "<table border=\"1\" class=\"dataframe\">\n",
       "  <thead>\n",
       "    <tr style=\"text-align: right;\">\n",
       "      <th></th>\n",
       "      <th>name</th>\n",
       "      <th>platform</th>\n",
       "      <th>year_of_release</th>\n",
       "      <th>genre</th>\n",
       "      <th>na_sales</th>\n",
       "      <th>eu_sales</th>\n",
       "      <th>jp_sales</th>\n",
       "      <th>other_sales</th>\n",
       "      <th>critic_score</th>\n",
       "      <th>user_score</th>\n",
       "      <th>rating</th>\n",
       "      <th>total_sales</th>\n",
       "    </tr>\n",
       "  </thead>\n",
       "  <tbody>\n",
       "    <tr>\n",
       "      <td>458</td>\n",
       "      <td>The Sims 4</td>\n",
       "      <td>PC</td>\n",
       "      <td>2014</td>\n",
       "      <td>simulation</td>\n",
       "      <td>1.00</td>\n",
       "      <td>1.82</td>\n",
       "      <td>0.0</td>\n",
       "      <td>0.23</td>\n",
       "      <td>70.0</td>\n",
       "      <td>3.9</td>\n",
       "      <td>T</td>\n",
       "      <td>3.05</td>\n",
       "    </tr>\n",
       "    <tr>\n",
       "      <td>1095</td>\n",
       "      <td>StarCraft II: Heart of the Swarm</td>\n",
       "      <td>PC</td>\n",
       "      <td>2013</td>\n",
       "      <td>strategy</td>\n",
       "      <td>0.83</td>\n",
       "      <td>0.66</td>\n",
       "      <td>0.0</td>\n",
       "      <td>0.18</td>\n",
       "      <td>86.0</td>\n",
       "      <td>7.9</td>\n",
       "      <td>T</td>\n",
       "      <td>1.67</td>\n",
       "    </tr>\n",
       "    <tr>\n",
       "      <td>1351</td>\n",
       "      <td>SimCity (2013)</td>\n",
       "      <td>PC</td>\n",
       "      <td>2013</td>\n",
       "      <td>simulation</td>\n",
       "      <td>0.48</td>\n",
       "      <td>0.77</td>\n",
       "      <td>0.0</td>\n",
       "      <td>0.17</td>\n",
       "      <td>64.0</td>\n",
       "      <td>2.2</td>\n",
       "      <td>E10+</td>\n",
       "      <td>1.42</td>\n",
       "    </tr>\n",
       "    <tr>\n",
       "      <td>1437</td>\n",
       "      <td>Battlefield 4</td>\n",
       "      <td>PC</td>\n",
       "      <td>2013</td>\n",
       "      <td>shooter</td>\n",
       "      <td>0.39</td>\n",
       "      <td>0.87</td>\n",
       "      <td>0.0</td>\n",
       "      <td>0.10</td>\n",
       "      <td>81.0</td>\n",
       "      <td>6.0</td>\n",
       "      <td>M</td>\n",
       "      <td>1.36</td>\n",
       "    </tr>\n",
       "    <tr>\n",
       "      <td>1530</td>\n",
       "      <td>Fallout 4</td>\n",
       "      <td>PC</td>\n",
       "      <td>2015</td>\n",
       "      <td>role-playing</td>\n",
       "      <td>0.51</td>\n",
       "      <td>0.67</td>\n",
       "      <td>0.0</td>\n",
       "      <td>0.10</td>\n",
       "      <td>84.0</td>\n",
       "      <td>5.4</td>\n",
       "      <td>M</td>\n",
       "      <td>1.28</td>\n",
       "    </tr>\n",
       "  </tbody>\n",
       "</table>\n",
       "</div>"
      ],
      "text/plain": [
       "                                  name platform  year_of_release  \\\n",
       "458                         The Sims 4       PC             2014   \n",
       "1095  StarCraft II: Heart of the Swarm       PC             2013   \n",
       "1351                    SimCity (2013)       PC             2013   \n",
       "1437                     Battlefield 4       PC             2013   \n",
       "1530                         Fallout 4       PC             2015   \n",
       "\n",
       "             genre  na_sales  eu_sales  jp_sales  other_sales  critic_score  \\\n",
       "458     simulation      1.00      1.82       0.0         0.23          70.0   \n",
       "1095      strategy      0.83      0.66       0.0         0.18          86.0   \n",
       "1351    simulation      0.48      0.77       0.0         0.17          64.0   \n",
       "1437       shooter      0.39      0.87       0.0         0.10          81.0   \n",
       "1530  role-playing      0.51      0.67       0.0         0.10          84.0   \n",
       "\n",
       "      user_score rating  total_sales  \n",
       "458          3.9      T         3.05  \n",
       "1095         7.9      T         1.67  \n",
       "1351         2.2   E10+         1.42  \n",
       "1437         6.0      M         1.36  \n",
       "1530         5.4      M         1.28  "
      ]
     },
     "execution_count": 73,
     "metadata": {},
     "output_type": "execute_result"
    }
   ],
   "source": [
    "pc = games_df_final_filter.query('platform == \"PC\"')\n",
    "pc.head()"
   ]
  },
  {
   "cell_type": "code",
   "execution_count": 74,
   "metadata": {},
   "outputs": [],
   "source": [
    "xbox = games_df_final_filter[games_df_final_filter['platform'].isin(['XOne'])].dropna()['user_score'].values"
   ]
  },
  {
   "cell_type": "code",
   "execution_count": 75,
   "metadata": {},
   "outputs": [],
   "source": [
    "pc_1 = games_df_final_filter[games_df_final_filter['platform']=='PC'].dropna()['user_score'].values"
   ]
  },
  {
   "cell_type": "markdown",
   "metadata": {},
   "source": [
    "**Null hypothesis:** That the means from Xbox one and PC platforms are the same.\n",
    "\n",
    "**Alternative Hypothesis:** That the means from Xbox one and PC are not the same."
   ]
  },
  {
   "cell_type": "code",
   "execution_count": 76,
   "metadata": {},
   "outputs": [
    {
     "name": "stdout",
     "output_type": "stream",
     "text": [
      "pvalue: 0.21340496593770697\n",
      "We can't reject the null hypothesis: Average profit for Xone and PC are the same.\n",
      "The mean values are:\n",
      " Xone mean=4.586639676113361\n",
      " PC mean = 4.988359788359788\n"
     ]
    }
   ],
   "source": [
    "alpha=0.05\n",
    "results = st.ttest_ind(xbox,pc_1,equal_var=True)\n",
    "print('pvalue:', results.pvalue)\n",
    "if results.pvalue < alpha:\n",
    "    print(\"We reject the null hypothesis: Average profit for Xone and PC are different.\")\n",
    "else:\n",
    "    print(\"We can't reject the null hypothesis: Average profit for Xone and PC are the same.\")\n",
    "print('The mean values are:')\n",
    "print(f' Xone mean={xbox.mean()}')\n",
    "print(f' PC mean = {pc_1.mean()}')    "
   ]
  },
  {
   "cell_type": "markdown",
   "metadata": {},
   "source": [
    "### Conclusion\n",
    "The results suggest that, there isn't enough evidence to reject the null hypothesis."
   ]
  },
  {
   "cell_type": "markdown",
   "metadata": {},
   "source": [
    "**Null Hypothesis:** The average user ratings for Action and Sports genre are the same.\n",
    "\n",
    "**Altenative Hypothesis:** The average user ratings for Action and Sports genre are different."
   ]
  },
  {
   "cell_type": "code",
   "execution_count": 77,
   "metadata": {},
   "outputs": [],
   "source": [
    "genre_action = games_df_final_filter[games_df_final_filter['genre']=='action'].dropna()['user_score'].values"
   ]
  },
  {
   "cell_type": "code",
   "execution_count": 78,
   "metadata": {},
   "outputs": [],
   "source": [
    "genre_sports = games_df_final_filter[games_df_final_filter['genre']=='sports'].dropna()['user_score'].values"
   ]
  },
  {
   "cell_type": "code",
   "execution_count": 79,
   "metadata": {},
   "outputs": [
    {
     "name": "stdout",
     "output_type": "stream",
     "text": [
      "pvalue: 0.006714395035840122\n",
      "We reject the null hypothesis: Average profit for Action and Sports genre are different\n",
      "The mean values are:\n",
      " Action genre mean=3.036292428198433\n",
      " Sports genre mean = 3.7247663551401864\n"
     ]
    }
   ],
   "source": [
    "alpha=0.05\n",
    "results = st.ttest_ind(genre_action,genre_sports,equal_var=False)\n",
    "print('pvalue:', results.pvalue)\n",
    "if results.pvalue < alpha:\n",
    "    print(\"We reject the null hypothesis: Average profit for Action and Sports genre are different\")\n",
    "else:\n",
    "    print(\"We can't reject the null hypothesis: Average profit for Action and sports genre are the same.\")\n",
    "print('The mean values are:')\n",
    "print(f' Action genre mean={genre_action.mean()}')\n",
    "print(f' Sports genre mean = {genre_sports.mean()}') "
   ]
  },
  {
   "cell_type": "markdown",
   "metadata": {},
   "source": [
    "### Conclusion\n",
    "Average profit from action and sport genres are different"
   ]
  },
  {
   "cell_type": "markdown",
   "metadata": {},
   "source": [
    "<div class=\"alert alert-block alert-success\">\n",
    "<b>Reviewer's comment. </b> <a class=\"tocSkip\"></a>\n",
    "    \n",
    "So, we have interesting results here! Yes, profit it depends on genres, because they are different.\n",
    "    \n",
    "Average profit for Xone and PC are the same - is a surprise \n",
    "    \n",
    "</div>"
   ]
  },
  {
   "cell_type": "markdown",
   "metadata": {},
   "source": [
    "## Final Conclusion\n",
    "\n",
    "**Data Analysis:**\n",
    "The data had some significant missing values for critic_score, user_score and ratings. These were filled using diffeent  approaches. To be determine(TBD) entires in ratings were replaced with zero as these ratings are not missing but yet to be determined.\n",
    "\n",
    "**Exploratory Analysis**\n",
    "It provided insight on extreme outliers for year_of_release which was filtered out at this stage. The results also shows that, except for critic score. most of the datas are right skewed.\n",
    "\n",
    "**Findings**\n",
    "1. PS4, PS3, Xone are among the most popular platforms between 2013 and 2016.\n",
    "2. 2600 first appeared in 1982 and faded out by 1987. PS4 first appeared in 2015 and therefore still new whiles X360 first appeared in 2010.\n",
    "3. The results from the platforms are right skewed with their means at about their 75th percentile region. \n",
    "4. There a weak linear relationship between user_score, critic_score and sales.\n",
    "5. Action, sports, shooter, role_playing and misc are the top 5 genre by sales across regions  with role_playing being the most popular genre in jp_region.\n",
    "6. There is not enough evidence to suggest average sales for Xone and PC are different.\n",
    "7. The average profit from action and sports genres are different.\n",
    "\n",
    "***\n",
    "Decision on where and what platform,genre to advertise would largely have to be based on the region as there is strong evidence to support it. Sceondly, The time span for platform performance seems short and so its' important to factor this in deciding which platforms to advertise on and time duration. \n",
    "Lastly, expert reviews on games should not be overlooked despite having a weak linear relationship on sales. \n"
   ]
  },
  {
   "cell_type": "markdown",
   "metadata": {},
   "source": [
    "\n",
    "</div>\n",
    "\n",
    "<div class=\"alert alert-block alert-success\">\n",
    "<b>Reviewer's comment.</b> <a class=\"tocSkip\"></a>\n",
    "    \n",
    "Thank you for adding actual information!\n",
    "    \n",
    "</div>"
   ]
  },
  {
   "cell_type": "code",
   "execution_count": null,
   "metadata": {},
   "outputs": [],
   "source": []
  }
 ],
 "metadata": {
  "ExecuteTimeLog": [
   {
    "duration": 1084,
    "start_time": "2021-07-30T16:29:47.248Z"
   },
   {
    "duration": 57,
    "start_time": "2021-07-30T16:30:55.653Z"
   },
   {
    "duration": 46,
    "start_time": "2021-07-30T16:31:02.886Z"
   },
   {
    "duration": 3,
    "start_time": "2021-07-30T16:32:16.894Z"
   },
   {
    "duration": 17,
    "start_time": "2021-07-30T16:32:29.246Z"
   },
   {
    "duration": 11,
    "start_time": "2021-07-30T16:37:08.033Z"
   },
   {
    "duration": 29,
    "start_time": "2021-07-30T16:37:36.157Z"
   },
   {
    "duration": 1562,
    "start_time": "2021-07-30T16:42:51.918Z"
   },
   {
    "duration": 7,
    "start_time": "2021-07-30T16:43:28.112Z"
   },
   {
    "duration": 18,
    "start_time": "2021-07-30T16:43:58.274Z"
   },
   {
    "duration": 5,
    "start_time": "2021-07-30T16:44:55.560Z"
   },
   {
    "duration": 14,
    "start_time": "2021-07-30T16:45:16.059Z"
   },
   {
    "duration": 7,
    "start_time": "2021-07-30T16:45:34.887Z"
   },
   {
    "duration": 18,
    "start_time": "2021-07-30T16:45:45.994Z"
   },
   {
    "duration": 7,
    "start_time": "2021-07-30T16:45:58.357Z"
   },
   {
    "duration": 5,
    "start_time": "2021-07-30T16:46:14.919Z"
   },
   {
    "duration": 23,
    "start_time": "2021-07-30T16:46:25.997Z"
   },
   {
    "duration": 4,
    "start_time": "2021-07-30T16:46:43.021Z"
   },
   {
    "duration": 5,
    "start_time": "2021-07-30T16:46:53.467Z"
   },
   {
    "duration": 5,
    "start_time": "2021-07-30T16:47:03.200Z"
   },
   {
    "duration": 87,
    "start_time": "2021-07-30T16:47:16.946Z"
   },
   {
    "duration": 7,
    "start_time": "2021-07-30T16:47:31.860Z"
   },
   {
    "duration": 7,
    "start_time": "2021-07-30T16:47:44.024Z"
   },
   {
    "duration": 7,
    "start_time": "2021-07-30T16:48:33.682Z"
   },
   {
    "duration": 16,
    "start_time": "2021-07-30T16:48:44.309Z"
   },
   {
    "duration": 213,
    "start_time": "2021-07-30T17:02:53.019Z"
   },
   {
    "duration": 346,
    "start_time": "2021-07-30T17:09:28.406Z"
   },
   {
    "duration": 7,
    "start_time": "2021-07-30T17:10:08.933Z"
   },
   {
    "duration": 593,
    "start_time": "2021-07-30T17:10:31.164Z"
   },
   {
    "duration": 14,
    "start_time": "2021-07-30T17:11:08.027Z"
   },
   {
    "duration": 7,
    "start_time": "2021-07-30T17:11:31.080Z"
   },
   {
    "duration": 10890,
    "start_time": "2021-07-30T17:12:37.827Z"
   },
   {
    "duration": 7,
    "start_time": "2021-07-30T17:29:58.414Z"
   },
   {
    "duration": 9,
    "start_time": "2021-07-30T17:30:06.834Z"
   },
   {
    "duration": 22,
    "start_time": "2021-07-30T17:38:18.848Z"
   },
   {
    "duration": 23,
    "start_time": "2021-07-30T17:38:49.963Z"
   },
   {
    "duration": 34,
    "start_time": "2021-07-30T17:41:03.187Z"
   },
   {
    "duration": 23,
    "start_time": "2021-07-30T17:41:40.117Z"
   },
   {
    "duration": 23,
    "start_time": "2021-07-30T17:41:45.883Z"
   },
   {
    "duration": 7,
    "start_time": "2021-07-30T17:44:55.139Z"
   },
   {
    "duration": 164,
    "start_time": "2021-07-30T17:46:25.927Z"
   },
   {
    "duration": 6,
    "start_time": "2021-07-30T17:47:53.757Z"
   },
   {
    "duration": 34,
    "start_time": "2021-07-30T17:48:08.400Z"
   },
   {
    "duration": 301,
    "start_time": "2021-07-30T17:51:11.826Z"
   },
   {
    "duration": 193,
    "start_time": "2021-07-30T17:51:27.470Z"
   },
   {
    "duration": 7,
    "start_time": "2021-07-30T17:52:04.522Z"
   },
   {
    "duration": 341,
    "start_time": "2021-07-30T17:56:13.595Z"
   },
   {
    "duration": 203,
    "start_time": "2021-07-30T17:56:31.408Z"
   },
   {
    "duration": 3259,
    "start_time": "2021-07-30T18:05:01.789Z"
   },
   {
    "duration": 348,
    "start_time": "2021-07-30T18:05:23.192Z"
   },
   {
    "duration": 524,
    "start_time": "2021-07-30T18:05:36.933Z"
   },
   {
    "duration": 298,
    "start_time": "2021-07-30T18:08:07.181Z"
   },
   {
    "duration": 544,
    "start_time": "2021-07-30T18:10:51.758Z"
   },
   {
    "duration": 21,
    "start_time": "2021-07-30T18:17:48.473Z"
   },
   {
    "duration": 530,
    "start_time": "2021-07-30T18:22:23.578Z"
   },
   {
    "duration": 316,
    "start_time": "2021-07-30T18:22:47.585Z"
   },
   {
    "duration": 9,
    "start_time": "2021-07-30T18:23:10.045Z"
   },
   {
    "duration": 14,
    "start_time": "2021-07-30T18:26:43.010Z"
   },
   {
    "duration": 63,
    "start_time": "2021-07-30T18:29:09.841Z"
   },
   {
    "duration": 58,
    "start_time": "2021-07-30T18:29:24.699Z"
   },
   {
    "duration": 261,
    "start_time": "2021-07-30T18:29:51.279Z"
   },
   {
    "duration": 263,
    "start_time": "2021-07-30T18:31:05.980Z"
   },
   {
    "duration": 16,
    "start_time": "2021-07-30T18:31:12.176Z"
   },
   {
    "duration": 1407,
    "start_time": "2021-07-30T18:31:42.851Z"
   },
   {
    "duration": 1850,
    "start_time": "2021-07-30T18:34:06.748Z"
   },
   {
    "duration": 3,
    "start_time": "2021-07-30T18:34:45.163Z"
   },
   {
    "duration": 1454,
    "start_time": "2021-07-30T18:34:55.043Z"
   },
   {
    "duration": 17,
    "start_time": "2021-07-30T18:36:24.933Z"
   },
   {
    "duration": 11,
    "start_time": "2021-07-30T18:44:23.143Z"
   },
   {
    "duration": 184,
    "start_time": "2021-07-30T18:44:35.267Z"
   },
   {
    "duration": 238,
    "start_time": "2021-07-30T18:44:53.354Z"
   },
   {
    "duration": 11,
    "start_time": "2021-07-30T18:45:10.297Z"
   },
   {
    "duration": 246,
    "start_time": "2021-07-30T18:46:10.933Z"
   },
   {
    "duration": 250,
    "start_time": "2021-07-30T18:46:42.591Z"
   },
   {
    "duration": 11,
    "start_time": "2021-07-30T18:46:56.208Z"
   },
   {
    "duration": 456,
    "start_time": "2021-07-30T18:47:32.068Z"
   },
   {
    "duration": 18,
    "start_time": "2021-07-30T18:48:03.220Z"
   },
   {
    "duration": 229,
    "start_time": "2021-07-30T18:48:46.533Z"
   },
   {
    "duration": 222,
    "start_time": "2021-07-30T18:49:33.381Z"
   },
   {
    "duration": 3,
    "start_time": "2021-07-30T18:50:46.876Z"
   },
   {
    "duration": 138,
    "start_time": "2021-07-30T18:51:05.821Z"
   },
   {
    "duration": 146,
    "start_time": "2021-07-30T18:51:23.720Z"
   },
   {
    "duration": 138,
    "start_time": "2021-07-30T18:59:56.352Z"
   },
   {
    "duration": 130,
    "start_time": "2021-07-30T19:00:11.882Z"
   },
   {
    "duration": 134,
    "start_time": "2021-07-30T19:07:48.798Z"
   },
   {
    "duration": 125,
    "start_time": "2021-07-30T19:08:02.293Z"
   },
   {
    "duration": 5,
    "start_time": "2021-07-30T19:18:17.133Z"
   },
   {
    "duration": 16,
    "start_time": "2021-07-30T19:18:32.883Z"
   },
   {
    "duration": 16,
    "start_time": "2021-07-30T19:18:59.329Z"
   },
   {
    "duration": 9,
    "start_time": "2021-07-30T19:19:42.979Z"
   },
   {
    "duration": 8,
    "start_time": "2021-07-30T19:20:01.587Z"
   },
   {
    "duration": 6,
    "start_time": "2021-07-30T19:20:51.941Z"
   },
   {
    "duration": 20,
    "start_time": "2021-07-30T19:28:46.298Z"
   },
   {
    "duration": 33,
    "start_time": "2021-07-30T19:28:56.247Z"
   },
   {
    "duration": 445,
    "start_time": "2021-07-30T19:29:15.483Z"
   },
   {
    "duration": 33,
    "start_time": "2021-07-30T19:29:38.617Z"
   },
   {
    "duration": 10,
    "start_time": "2021-07-30T19:35:15.876Z"
   },
   {
    "duration": 9,
    "start_time": "2021-07-30T19:35:25.281Z"
   },
   {
    "duration": 6,
    "start_time": "2021-07-30T19:35:36.929Z"
   },
   {
    "duration": 984,
    "start_time": "2021-07-30T20:18:31.442Z"
   },
   {
    "duration": 50,
    "start_time": "2021-07-30T20:18:35.576Z"
   },
   {
    "duration": 3,
    "start_time": "2021-07-30T20:18:38.880Z"
   },
   {
    "duration": 12,
    "start_time": "2021-07-30T20:19:11.844Z"
   },
   {
    "duration": 10,
    "start_time": "2021-07-30T20:20:41.608Z"
   },
   {
    "duration": 28,
    "start_time": "2021-07-30T20:20:51.985Z"
   },
   {
    "duration": 1530,
    "start_time": "2021-07-30T20:20:54.632Z"
   },
   {
    "duration": 9,
    "start_time": "2021-07-30T20:21:00.267Z"
   },
   {
    "duration": 20,
    "start_time": "2021-07-30T20:21:01.733Z"
   },
   {
    "duration": 6,
    "start_time": "2021-07-30T20:21:02.478Z"
   },
   {
    "duration": 14,
    "start_time": "2021-07-30T20:21:03.724Z"
   },
   {
    "duration": 7,
    "start_time": "2021-07-30T20:21:08.355Z"
   },
   {
    "duration": 17,
    "start_time": "2021-07-30T20:21:09.269Z"
   },
   {
    "duration": 8,
    "start_time": "2021-07-30T20:21:10.107Z"
   },
   {
    "duration": 5,
    "start_time": "2021-07-30T20:21:10.992Z"
   },
   {
    "duration": 106,
    "start_time": "2021-07-30T20:21:12.795Z"
   },
   {
    "duration": 5,
    "start_time": "2021-07-30T20:21:16.118Z"
   },
   {
    "duration": 5,
    "start_time": "2021-07-30T20:21:16.981Z"
   },
   {
    "duration": 5,
    "start_time": "2021-07-30T20:21:17.941Z"
   },
   {
    "duration": 7,
    "start_time": "2021-07-30T20:21:18.919Z"
   },
   {
    "duration": 8,
    "start_time": "2021-07-30T20:21:21.899Z"
   },
   {
    "duration": 8,
    "start_time": "2021-07-30T20:21:22.655Z"
   },
   {
    "duration": 8,
    "start_time": "2021-07-30T20:21:25.320Z"
   },
   {
    "duration": 16,
    "start_time": "2021-07-30T20:21:26.332Z"
   },
   {
    "duration": 220,
    "start_time": "2021-07-30T20:22:27.056Z"
   },
   {
    "duration": 351,
    "start_time": "2021-07-30T20:22:38.956Z"
   },
   {
    "duration": 8,
    "start_time": "2021-07-30T20:22:42.711Z"
   },
   {
    "duration": 606,
    "start_time": "2021-07-30T20:22:45.720Z"
   },
   {
    "duration": 14,
    "start_time": "2021-07-30T20:22:49.558Z"
   },
   {
    "duration": 10,
    "start_time": "2021-07-30T20:22:53.228Z"
   },
   {
    "duration": 11045,
    "start_time": "2021-07-30T20:22:56.575Z"
   },
   {
    "duration": 24,
    "start_time": "2021-07-30T20:23:12.848Z"
   },
   {
    "duration": 33,
    "start_time": "2021-07-30T20:23:16.302Z"
   },
   {
    "duration": 6,
    "start_time": "2021-07-30T20:23:36.542Z"
   },
   {
    "duration": 153,
    "start_time": "2021-07-30T20:23:38.613Z"
   },
   {
    "duration": 7,
    "start_time": "2021-07-30T20:23:42.245Z"
   },
   {
    "duration": 35,
    "start_time": "2021-07-30T20:23:44.190Z"
   },
   {
    "duration": 315,
    "start_time": "2021-07-30T20:24:16.686Z"
   },
   {
    "duration": 193,
    "start_time": "2021-07-30T20:24:20.238Z"
   },
   {
    "duration": 8,
    "start_time": "2021-07-30T20:24:24.417Z"
   },
   {
    "duration": 3298,
    "start_time": "2021-07-30T20:24:30.848Z"
   },
   {
    "duration": 316,
    "start_time": "2021-07-30T20:24:36.235Z"
   },
   {
    "duration": 24,
    "start_time": "2021-07-30T20:24:44.694Z"
   },
   {
    "duration": 305,
    "start_time": "2021-07-30T20:25:18.707Z"
   },
   {
    "duration": 356,
    "start_time": "2021-07-30T20:25:23.166Z"
   },
   {
    "duration": 10,
    "start_time": "2021-07-30T20:25:26.432Z"
   },
   {
    "duration": 15,
    "start_time": "2021-07-30T20:25:34.830Z"
   },
   {
    "duration": 267,
    "start_time": "2021-07-30T20:25:45.842Z"
   },
   {
    "duration": 16,
    "start_time": "2021-07-30T20:25:49.239Z"
   },
   {
    "duration": 1600,
    "start_time": "2021-07-30T20:25:53.321Z"
   },
   {
    "duration": 13,
    "start_time": "2021-07-30T20:26:43.581Z"
   },
   {
    "duration": 165,
    "start_time": "2021-07-30T20:26:46.390Z"
   },
   {
    "duration": 4,
    "start_time": "2021-07-30T20:26:49.798Z"
   },
   {
    "duration": 131,
    "start_time": "2021-07-30T20:26:53.521Z"
   },
   {
    "duration": 122,
    "start_time": "2021-07-30T20:26:56.015Z"
   },
   {
    "duration": 11,
    "start_time": "2021-07-30T20:27:04.227Z"
   },
   {
    "duration": 155,
    "start_time": "2021-07-30T20:27:08.003Z"
   },
   {
    "duration": 127,
    "start_time": "2021-07-30T20:27:11.423Z"
   },
   {
    "duration": 128,
    "start_time": "2021-07-30T20:27:14.582Z"
   },
   {
    "duration": 11,
    "start_time": "2021-07-30T20:27:23.488Z"
   },
   {
    "duration": 165,
    "start_time": "2021-07-30T20:27:26.221Z"
   },
   {
    "duration": 137,
    "start_time": "2021-07-30T20:27:29.734Z"
   },
   {
    "duration": 137,
    "start_time": "2021-07-30T20:27:33.089Z"
   },
   {
    "duration": 17,
    "start_time": "2021-07-30T20:27:40.620Z"
   },
   {
    "duration": 218,
    "start_time": "2021-07-30T20:27:43.733Z"
   },
   {
    "duration": 210,
    "start_time": "2021-07-30T20:27:49.622Z"
   },
   {
    "duration": 31,
    "start_time": "2021-07-30T20:27:57.006Z"
   },
   {
    "duration": 5,
    "start_time": "2021-07-30T20:28:08.213Z"
   },
   {
    "duration": 17,
    "start_time": "2021-07-30T20:28:09.801Z"
   },
   {
    "duration": 16,
    "start_time": "2021-07-30T20:28:12.700Z"
   },
   {
    "duration": 9,
    "start_time": "2021-07-30T20:28:15.334Z"
   },
   {
    "duration": 8,
    "start_time": "2021-07-30T20:28:16.814Z"
   },
   {
    "duration": 5,
    "start_time": "2021-07-30T20:28:20.153Z"
   },
   {
    "duration": 10,
    "start_time": "2021-07-30T20:28:25.138Z"
   },
   {
    "duration": 9,
    "start_time": "2021-07-30T20:28:25.878Z"
   },
   {
    "duration": 7,
    "start_time": "2021-07-30T20:28:27.252Z"
   },
   {
    "duration": 1475,
    "start_time": "2021-07-31T09:41:10.065Z"
   },
   {
    "duration": 66,
    "start_time": "2021-07-31T09:41:11.542Z"
   },
   {
    "duration": 4,
    "start_time": "2021-07-31T09:41:11.611Z"
   },
   {
    "duration": 15,
    "start_time": "2021-07-31T09:41:11.618Z"
   },
   {
    "duration": 33,
    "start_time": "2021-07-31T09:41:11.635Z"
   },
   {
    "duration": 42,
    "start_time": "2021-07-31T09:41:11.671Z"
   },
   {
    "duration": 2612,
    "start_time": "2021-07-31T09:41:11.715Z"
   },
   {
    "duration": 8,
    "start_time": "2021-07-31T09:41:14.330Z"
   },
   {
    "duration": 47,
    "start_time": "2021-07-31T09:41:14.341Z"
   },
   {
    "duration": 6,
    "start_time": "2021-07-31T09:41:14.391Z"
   },
   {
    "duration": 22,
    "start_time": "2021-07-31T09:41:14.399Z"
   },
   {
    "duration": 43,
    "start_time": "2021-07-31T09:41:14.424Z"
   },
   {
    "duration": 25,
    "start_time": "2021-07-31T09:41:14.470Z"
   },
   {
    "duration": 9,
    "start_time": "2021-07-31T09:41:14.498Z"
   },
   {
    "duration": 110,
    "start_time": "2021-07-31T09:41:14.509Z"
   },
   {
    "duration": 48,
    "start_time": "2021-07-31T09:41:14.621Z"
   },
   {
    "duration": 6,
    "start_time": "2021-07-31T09:41:14.671Z"
   },
   {
    "duration": 8,
    "start_time": "2021-07-31T09:41:14.680Z"
   },
   {
    "duration": 7,
    "start_time": "2021-07-31T09:41:14.690Z"
   },
   {
    "duration": 10,
    "start_time": "2021-07-31T09:41:14.699Z"
   },
   {
    "duration": 11,
    "start_time": "2021-07-31T09:41:14.711Z"
   },
   {
    "duration": 50,
    "start_time": "2021-07-31T09:41:14.725Z"
   },
   {
    "duration": 9,
    "start_time": "2021-07-31T09:41:14.781Z"
   },
   {
    "duration": 23,
    "start_time": "2021-07-31T09:41:14.794Z"
   },
   {
    "duration": 388,
    "start_time": "2021-07-31T09:41:14.819Z"
   },
   {
    "duration": 568,
    "start_time": "2021-07-31T09:41:15.210Z"
   },
   {
    "duration": 9,
    "start_time": "2021-07-31T09:41:15.781Z"
   },
   {
    "duration": 1117,
    "start_time": "2021-07-31T09:41:15.793Z"
   },
   {
    "duration": 21,
    "start_time": "2021-07-31T09:41:16.912Z"
   },
   {
    "duration": 34,
    "start_time": "2021-07-31T09:41:16.935Z"
   },
   {
    "duration": 18899,
    "start_time": "2021-07-31T09:41:16.973Z"
   },
   {
    "duration": 39,
    "start_time": "2021-07-31T09:41:35.874Z"
   },
   {
    "duration": 54,
    "start_time": "2021-07-31T09:41:35.915Z"
   },
   {
    "duration": 8,
    "start_time": "2021-07-31T09:41:35.971Z"
   },
   {
    "duration": 267,
    "start_time": "2021-07-31T09:41:35.981Z"
   },
   {
    "duration": 17,
    "start_time": "2021-07-31T09:41:36.250Z"
   },
   {
    "duration": 53,
    "start_time": "2021-07-31T09:41:36.269Z"
   },
   {
    "duration": 530,
    "start_time": "2021-07-31T09:41:36.325Z"
   },
   {
    "duration": 356,
    "start_time": "2021-07-31T09:41:36.857Z"
   },
   {
    "duration": 10,
    "start_time": "2021-07-31T09:41:37.216Z"
   },
   {
    "duration": 5411,
    "start_time": "2021-07-31T09:41:37.229Z"
   },
   {
    "duration": 525,
    "start_time": "2021-07-31T09:41:42.642Z"
   },
   {
    "duration": 34,
    "start_time": "2021-07-31T09:41:43.169Z"
   },
   {
    "duration": 452,
    "start_time": "2021-07-31T09:41:43.205Z"
   },
   {
    "duration": 425,
    "start_time": "2021-07-31T09:41:43.660Z"
   },
   {
    "duration": 14,
    "start_time": "2021-07-31T09:41:44.088Z"
   },
   {
    "duration": 21,
    "start_time": "2021-07-31T09:41:44.104Z"
   },
   {
    "duration": 433,
    "start_time": "2021-07-31T09:41:44.127Z"
   },
   {
    "duration": 22,
    "start_time": "2021-07-31T09:41:44.562Z"
   },
   {
    "duration": 2644,
    "start_time": "2021-07-31T09:41:44.586Z"
   },
   {
    "duration": 15,
    "start_time": "2021-07-31T09:41:47.233Z"
   },
   {
    "duration": 289,
    "start_time": "2021-07-31T09:41:47.250Z"
   },
   {
    "duration": 5,
    "start_time": "2021-07-31T09:41:47.542Z"
   },
   {
    "duration": 228,
    "start_time": "2021-07-31T09:41:47.549Z"
   },
   {
    "duration": 216,
    "start_time": "2021-07-31T09:41:47.779Z"
   },
   {
    "duration": 15,
    "start_time": "2021-07-31T09:41:47.997Z"
   },
   {
    "duration": 284,
    "start_time": "2021-07-31T09:41:48.014Z"
   },
   {
    "duration": 223,
    "start_time": "2021-07-31T09:41:48.300Z"
   },
   {
    "duration": 215,
    "start_time": "2021-07-31T09:41:48.525Z"
   },
   {
    "duration": 33,
    "start_time": "2021-07-31T09:41:48.742Z"
   },
   {
    "duration": 301,
    "start_time": "2021-07-31T09:41:48.777Z"
   },
   {
    "duration": 233,
    "start_time": "2021-07-31T09:41:49.081Z"
   },
   {
    "duration": 224,
    "start_time": "2021-07-31T09:41:49.317Z"
   },
   {
    "duration": 38,
    "start_time": "2021-07-31T09:41:49.543Z"
   },
   {
    "duration": 372,
    "start_time": "2021-07-31T09:41:49.584Z"
   },
   {
    "duration": 360,
    "start_time": "2021-07-31T09:41:49.958Z"
   },
   {
    "duration": 68,
    "start_time": "2021-07-31T09:41:50.321Z"
   },
   {
    "duration": 7,
    "start_time": "2021-07-31T09:41:50.396Z"
   },
   {
    "duration": 28,
    "start_time": "2021-07-31T09:41:50.406Z"
   },
   {
    "duration": 53,
    "start_time": "2021-07-31T09:41:50.437Z"
   },
   {
    "duration": 14,
    "start_time": "2021-07-31T09:41:50.493Z"
   },
   {
    "duration": 14,
    "start_time": "2021-07-31T09:41:50.509Z"
   },
   {
    "duration": 8,
    "start_time": "2021-07-31T09:41:50.525Z"
   },
   {
    "duration": 41,
    "start_time": "2021-07-31T09:41:50.535Z"
   },
   {
    "duration": 11,
    "start_time": "2021-07-31T09:41:50.579Z"
   },
   {
    "duration": 10,
    "start_time": "2021-07-31T09:41:50.592Z"
   },
   {
    "duration": 100,
    "start_time": "2021-07-31T13:54:56.096Z"
   },
   {
    "duration": 1021,
    "start_time": "2021-08-01T08:45:29.286Z"
   },
   {
    "duration": 46,
    "start_time": "2021-08-01T08:45:32.634Z"
   },
   {
    "duration": 3,
    "start_time": "2021-08-01T08:45:39.004Z"
   },
   {
    "duration": 10,
    "start_time": "2021-08-01T08:45:40.356Z"
   },
   {
    "duration": 13,
    "start_time": "2021-08-01T08:45:44.637Z"
   },
   {
    "duration": 27,
    "start_time": "2021-08-01T08:45:50.524Z"
   },
   {
    "duration": 1332,
    "start_time": "2021-08-01T08:45:52.075Z"
   },
   {
    "duration": 15,
    "start_time": "2021-08-01T08:46:37.949Z"
   },
   {
    "duration": 5,
    "start_time": "2021-08-01T08:46:55.042Z"
   },
   {
    "duration": 13,
    "start_time": "2021-08-01T08:46:56.709Z"
   },
   {
    "duration": 1229,
    "start_time": "2021-08-01T08:47:16.449Z"
   },
   {
    "duration": 48,
    "start_time": "2021-08-01T08:47:18.744Z"
   },
   {
    "duration": 3,
    "start_time": "2021-08-01T08:47:23.200Z"
   },
   {
    "duration": 10,
    "start_time": "2021-08-01T08:47:24.682Z"
   },
   {
    "duration": 14,
    "start_time": "2021-08-01T08:47:28.620Z"
   },
   {
    "duration": 27,
    "start_time": "2021-08-01T08:47:32.526Z"
   },
   {
    "duration": 1364,
    "start_time": "2021-08-01T08:47:34.896Z"
   },
   {
    "duration": 7,
    "start_time": "2021-08-01T08:47:39.829Z"
   },
   {
    "duration": 18,
    "start_time": "2021-08-01T08:47:40.791Z"
   },
   {
    "duration": 5,
    "start_time": "2021-08-01T08:47:41.702Z"
   },
   {
    "duration": 13,
    "start_time": "2021-08-01T08:47:42.603Z"
   },
   {
    "duration": 7,
    "start_time": "2021-08-01T08:47:44.267Z"
   },
   {
    "duration": 4,
    "start_time": "2021-08-01T08:49:01.440Z"
   },
   {
    "duration": 21,
    "start_time": "2021-08-01T08:49:26.765Z"
   },
   {
    "duration": 5,
    "start_time": "2021-08-01T08:49:39.153Z"
   },
   {
    "duration": 5,
    "start_time": "2021-08-01T08:49:49.057Z"
   },
   {
    "duration": 4,
    "start_time": "2021-08-01T08:49:58.849Z"
   },
   {
    "duration": 7,
    "start_time": "2021-08-01T08:50:01.523Z"
   },
   {
    "duration": 8,
    "start_time": "2021-08-01T08:50:09.226Z"
   },
   {
    "duration": 7,
    "start_time": "2021-08-01T08:50:10.943Z"
   },
   {
    "duration": 79,
    "start_time": "2021-08-01T08:50:14.888Z"
   },
   {
    "duration": 30,
    "start_time": "2021-08-01T08:50:21.180Z"
   },
   {
    "duration": 225,
    "start_time": "2021-08-01T08:50:29.139Z"
   },
   {
    "duration": 309,
    "start_time": "2021-08-01T08:50:42.294Z"
   },
   {
    "duration": 7,
    "start_time": "2021-08-01T08:50:49.528Z"
   },
   {
    "duration": 663,
    "start_time": "2021-08-01T08:53:42.659Z"
   },
   {
    "duration": 12,
    "start_time": "2021-08-01T08:57:50.278Z"
   },
   {
    "duration": 8,
    "start_time": "2021-08-01T08:57:53.608Z"
   },
   {
    "duration": 20,
    "start_time": "2021-08-01T08:59:25.986Z"
   },
   {
    "duration": 21,
    "start_time": "2021-08-01T08:59:28.905Z"
   },
   {
    "duration": 324,
    "start_time": "2021-08-01T09:01:31.251Z"
   },
   {
    "duration": 341,
    "start_time": "2021-08-01T09:02:22.778Z"
   },
   {
    "duration": 89,
    "start_time": "2021-08-01T09:03:09.607Z"
   },
   {
    "duration": 254,
    "start_time": "2021-08-01T09:03:17.935Z"
   },
   {
    "duration": 257,
    "start_time": "2021-08-01T09:03:54.212Z"
   },
   {
    "duration": 7,
    "start_time": "2021-08-01T09:07:39.997Z"
   },
   {
    "duration": 265,
    "start_time": "2021-08-01T09:08:02.356Z"
   },
   {
    "duration": 4,
    "start_time": "2021-08-01T09:08:07.785Z"
   },
   {
    "duration": 31,
    "start_time": "2021-08-01T09:08:26.009Z"
   },
   {
    "duration": 273,
    "start_time": "2021-08-01T09:09:07.528Z"
   },
   {
    "duration": 182,
    "start_time": "2021-08-01T09:09:19.026Z"
   },
   {
    "duration": 7,
    "start_time": "2021-08-01T09:09:42.863Z"
   },
   {
    "duration": 3158,
    "start_time": "2021-08-01T09:12:11.842Z"
   },
   {
    "duration": 298,
    "start_time": "2021-08-01T09:12:18.765Z"
   },
   {
    "duration": 23,
    "start_time": "2021-08-01T09:12:30.620Z"
   },
   {
    "duration": 597,
    "start_time": "2021-08-01T09:17:14.610Z"
   },
   {
    "duration": 257,
    "start_time": "2021-08-01T09:18:10.157Z"
   },
   {
    "duration": 560,
    "start_time": "2021-08-01T09:18:27.975Z"
   },
   {
    "duration": 259,
    "start_time": "2021-08-01T09:20:09.819Z"
   },
   {
    "duration": 1065,
    "start_time": "2021-08-01T09:20:18.857Z"
   },
   {
    "duration": 1564,
    "start_time": "2021-08-01T09:23:31.758Z"
   },
   {
    "duration": 1460,
    "start_time": "2021-08-01T09:24:40.374Z"
   },
   {
    "duration": 11,
    "start_time": "2021-08-01T09:25:01.652Z"
   },
   {
    "duration": 26,
    "start_time": "2021-08-01T09:25:55.523Z"
   },
   {
    "duration": 1478,
    "start_time": "2021-08-01T09:26:10.536Z"
   },
   {
    "duration": 293,
    "start_time": "2021-08-01T09:27:22.718Z"
   },
   {
    "duration": 6,
    "start_time": "2021-08-01T09:29:45.682Z"
   },
   {
    "duration": 5,
    "start_time": "2021-08-01T09:30:10.454Z"
   },
   {
    "duration": 287,
    "start_time": "2021-08-01T09:30:36.248Z"
   },
   {
    "duration": 26,
    "start_time": "2021-08-01T09:32:13.137Z"
   },
   {
    "duration": 1749,
    "start_time": "2021-08-01T09:32:23.735Z"
   },
   {
    "duration": 1752,
    "start_time": "2021-08-01T09:33:40.123Z"
   },
   {
    "duration": 9,
    "start_time": "2021-08-01T09:33:51.491Z"
   },
   {
    "duration": 14,
    "start_time": "2021-08-01T09:37:49.469Z"
   },
   {
    "duration": 234,
    "start_time": "2021-08-01T09:38:14.430Z"
   },
   {
    "duration": 14,
    "start_time": "2021-08-01T09:38:27.721Z"
   },
   {
    "duration": 1312,
    "start_time": "2021-08-01T09:40:55.790Z"
   },
   {
    "duration": 3,
    "start_time": "2021-08-01T09:44:06.140Z"
   },
   {
    "duration": 505,
    "start_time": "2021-08-01T09:44:55.545Z"
   },
   {
    "duration": 553,
    "start_time": "2021-08-01T09:45:24.523Z"
   },
   {
    "duration": 509,
    "start_time": "2021-08-01T09:46:10.289Z"
   },
   {
    "duration": 649,
    "start_time": "2021-08-01T09:46:46.780Z"
   },
   {
    "duration": 11,
    "start_time": "2021-08-01T09:52:13.662Z"
   },
   {
    "duration": 171,
    "start_time": "2021-08-01T09:52:29.410Z"
   },
   {
    "duration": 6,
    "start_time": "2021-08-01T09:52:37.353Z"
   },
   {
    "duration": 137,
    "start_time": "2021-08-01T09:52:38.921Z"
   },
   {
    "duration": 128,
    "start_time": "2021-08-01T09:52:40.327Z"
   },
   {
    "duration": 12,
    "start_time": "2021-08-01T09:52:45.860Z"
   },
   {
    "duration": 159,
    "start_time": "2021-08-01T09:52:49.068Z"
   },
   {
    "duration": 155,
    "start_time": "2021-08-01T09:52:55.927Z"
   },
   {
    "duration": 126,
    "start_time": "2021-08-01T09:52:59.689Z"
   },
   {
    "duration": 34,
    "start_time": "2021-08-01T09:54:33.225Z"
   },
   {
    "duration": 184,
    "start_time": "2021-08-01T09:54:34.621Z"
   },
   {
    "duration": 256,
    "start_time": "2021-08-01T09:54:43.427Z"
   },
   {
    "duration": 145,
    "start_time": "2021-08-01T09:54:47.384Z"
   },
   {
    "duration": 16,
    "start_time": "2021-08-01T09:54:52.589Z"
   },
   {
    "duration": 240,
    "start_time": "2021-08-01T09:55:00.395Z"
   },
   {
    "duration": 208,
    "start_time": "2021-08-01T09:55:03.873Z"
   },
   {
    "duration": 14,
    "start_time": "2021-08-01T09:55:40.999Z"
   },
   {
    "duration": 14,
    "start_time": "2021-08-01T09:56:11.303Z"
   },
   {
    "duration": 95,
    "start_time": "2021-08-01T09:57:23.853Z"
   },
   {
    "duration": 16,
    "start_time": "2021-08-01T09:57:30.657Z"
   },
   {
    "duration": 16,
    "start_time": "2021-08-01T09:57:55.326Z"
   },
   {
    "duration": 12,
    "start_time": "2021-08-01T09:59:01.570Z"
   },
   {
    "duration": 37,
    "start_time": "2021-08-01T09:59:48.733Z"
   },
   {
    "duration": 15,
    "start_time": "2021-08-01T10:00:16.263Z"
   },
   {
    "duration": 5,
    "start_time": "2021-08-01T10:00:23.814Z"
   },
   {
    "duration": 22,
    "start_time": "2021-08-01T10:00:27.231Z"
   },
   {
    "duration": 17,
    "start_time": "2021-08-01T10:00:33.876Z"
   },
   {
    "duration": 9,
    "start_time": "2021-08-01T10:00:37.161Z"
   },
   {
    "duration": 10,
    "start_time": "2021-08-01T10:00:38.038Z"
   },
   {
    "duration": 12,
    "start_time": "2021-08-01T10:00:41.649Z"
   },
   {
    "duration": 8,
    "start_time": "2021-08-01T10:00:51.914Z"
   },
   {
    "duration": 7,
    "start_time": "2021-08-01T10:00:52.721Z"
   },
   {
    "duration": 6,
    "start_time": "2021-08-01T10:00:55.631Z"
   },
   {
    "duration": 20,
    "start_time": "2021-08-01T10:02:58.301Z"
   },
   {
    "duration": 1795,
    "start_time": "2021-08-01T10:03:10.721Z"
   },
   {
    "duration": 13,
    "start_time": "2021-08-01T10:03:16.746Z"
   },
   {
    "duration": 20,
    "start_time": "2021-08-01T10:03:23.629Z"
   },
   {
    "duration": 9,
    "start_time": "2021-08-01T10:23:25.956Z"
   },
   {
    "duration": 7,
    "start_time": "2021-08-01T17:44:46.095Z"
   },
   {
    "duration": 455,
    "start_time": "2021-08-01T17:49:49.038Z"
   },
   {
    "duration": 6721,
    "start_time": "2021-08-01T17:50:39.794Z"
   },
   {
    "duration": 277,
    "start_time": "2021-08-01T17:51:09.776Z"
   },
   {
    "duration": 251,
    "start_time": "2021-08-01T17:51:56.686Z"
   },
   {
    "duration": 255,
    "start_time": "2021-08-01T17:52:05.219Z"
   },
   {
    "duration": 11,
    "start_time": "2021-08-01T17:52:11.361Z"
   },
   {
    "duration": 241,
    "start_time": "2021-08-01T17:52:18.831Z"
   },
   {
    "duration": 470,
    "start_time": "2021-08-01T17:52:44.753Z"
   },
   {
    "duration": 232,
    "start_time": "2021-08-01T17:53:50.895Z"
   },
   {
    "duration": 296,
    "start_time": "2021-08-01T17:55:14.983Z"
   },
   {
    "duration": 228,
    "start_time": "2021-08-01T17:55:23.390Z"
   },
   {
    "duration": 223,
    "start_time": "2021-08-01T17:55:38.217Z"
   },
   {
    "duration": 15,
    "start_time": "2021-08-01T17:56:14.561Z"
   },
   {
    "duration": 15,
    "start_time": "2021-08-01T17:57:02.325Z"
   },
   {
    "duration": 228,
    "start_time": "2021-08-01T17:57:25.269Z"
   },
   {
    "duration": 150,
    "start_time": "2021-08-01T17:58:31.908Z"
   },
   {
    "duration": 211,
    "start_time": "2021-08-01T18:00:50.101Z"
   },
   {
    "duration": 197,
    "start_time": "2021-08-01T18:01:17.094Z"
   },
   {
    "duration": 187,
    "start_time": "2021-08-01T18:58:40.785Z"
   },
   {
    "duration": 184,
    "start_time": "2021-08-01T19:27:16.346Z"
   },
   {
    "duration": 7,
    "start_time": "2021-08-01T19:27:21.906Z"
   },
   {
    "duration": 9,
    "start_time": "2021-08-01T19:28:40.111Z"
   },
   {
    "duration": 4,
    "start_time": "2021-08-01T19:28:52.950Z"
   },
   {
    "duration": 6231,
    "start_time": "2021-08-01T19:29:38.185Z"
   },
   {
    "duration": 6291,
    "start_time": "2021-08-01T19:32:20.387Z"
   },
   {
    "duration": 6352,
    "start_time": "2021-08-01T19:37:31.901Z"
   },
   {
    "duration": 106,
    "start_time": "2021-08-01T19:55:30.566Z"
   },
   {
    "duration": 4,
    "start_time": "2021-08-01T19:56:07.635Z"
   },
   {
    "duration": 514,
    "start_time": "2021-08-01T19:56:11.775Z"
   },
   {
    "duration": 4,
    "start_time": "2021-08-01T19:58:11.401Z"
   },
   {
    "duration": 125,
    "start_time": "2021-08-01T19:58:13.153Z"
   },
   {
    "duration": 274,
    "start_time": "2021-08-01T20:12:08.173Z"
   },
   {
    "duration": 21,
    "start_time": "2021-08-01T20:12:24.696Z"
   },
   {
    "duration": 8,
    "start_time": "2021-08-01T20:13:40.301Z"
   },
   {
    "duration": 21,
    "start_time": "2021-08-01T20:14:09.681Z"
   },
   {
    "duration": 7,
    "start_time": "2021-08-01T20:14:10.908Z"
   },
   {
    "duration": 272,
    "start_time": "2021-08-01T20:14:46.861Z"
   },
   {
    "duration": 169,
    "start_time": "2021-08-01T20:15:01.556Z"
   },
   {
    "duration": 263,
    "start_time": "2021-08-01T20:16:12.483Z"
   },
   {
    "duration": 90,
    "start_time": "2021-08-01T20:16:21.306Z"
   },
   {
    "duration": 281,
    "start_time": "2021-08-01T20:16:40.940Z"
   },
   {
    "duration": 245,
    "start_time": "2021-08-01T20:16:57.951Z"
   },
   {
    "duration": 22,
    "start_time": "2021-08-01T20:17:16.580Z"
   },
   {
    "duration": 7,
    "start_time": "2021-08-01T20:17:44.381Z"
   },
   {
    "duration": 20,
    "start_time": "2021-08-01T20:21:02.242Z"
   },
   {
    "duration": 22,
    "start_time": "2021-08-01T20:21:18.225Z"
   },
   {
    "duration": 1086,
    "start_time": "2021-08-01T20:26:02.300Z"
   },
   {
    "duration": 56,
    "start_time": "2021-08-01T20:26:04.498Z"
   },
   {
    "duration": 3,
    "start_time": "2021-08-01T20:26:09.051Z"
   },
   {
    "duration": 10,
    "start_time": "2021-08-01T20:26:09.971Z"
   },
   {
    "duration": 13,
    "start_time": "2021-08-01T20:26:13.277Z"
   },
   {
    "duration": 27,
    "start_time": "2021-08-01T20:26:17.628Z"
   },
   {
    "duration": 1438,
    "start_time": "2021-08-01T20:26:20.167Z"
   },
   {
    "duration": 6,
    "start_time": "2021-08-01T20:26:25.281Z"
   },
   {
    "duration": 20,
    "start_time": "2021-08-01T20:26:26.147Z"
   },
   {
    "duration": 6,
    "start_time": "2021-08-01T20:26:27.182Z"
   },
   {
    "duration": 18,
    "start_time": "2021-08-01T20:26:27.893Z"
   },
   {
    "duration": 8,
    "start_time": "2021-08-01T20:26:30.450Z"
   },
   {
    "duration": 4,
    "start_time": "2021-08-01T20:26:33.333Z"
   },
   {
    "duration": 22,
    "start_time": "2021-08-01T20:26:38.552Z"
   },
   {
    "duration": 4,
    "start_time": "2021-08-01T20:26:44.908Z"
   },
   {
    "duration": 5,
    "start_time": "2021-08-01T20:26:49.971Z"
   },
   {
    "duration": 4,
    "start_time": "2021-08-01T20:26:51.114Z"
   },
   {
    "duration": 6,
    "start_time": "2021-08-01T20:26:52.893Z"
   },
   {
    "duration": 8,
    "start_time": "2021-08-01T20:26:58.480Z"
   },
   {
    "duration": 7,
    "start_time": "2021-08-01T20:26:59.557Z"
   },
   {
    "duration": 86,
    "start_time": "2021-08-01T20:27:04.653Z"
   },
   {
    "duration": 15,
    "start_time": "2021-08-01T20:27:07.928Z"
   },
   {
    "duration": 194,
    "start_time": "2021-08-01T20:27:11.558Z"
   },
   {
    "duration": 316,
    "start_time": "2021-08-01T20:27:17.269Z"
   },
   {
    "duration": 8,
    "start_time": "2021-08-01T20:27:20.844Z"
   },
   {
    "duration": 676,
    "start_time": "2021-08-01T20:27:35.795Z"
   },
   {
    "duration": 13,
    "start_time": "2021-08-01T20:27:50.184Z"
   },
   {
    "duration": 8,
    "start_time": "2021-08-01T20:27:55.722Z"
   },
   {
    "duration": 22,
    "start_time": "2021-08-01T20:28:01.621Z"
   },
   {
    "duration": 22,
    "start_time": "2021-08-01T20:28:05.445Z"
   },
   {
    "duration": 8,
    "start_time": "2021-08-01T20:28:18.924Z"
   },
   {
    "duration": 4,
    "start_time": "2021-08-01T20:28:19.907Z"
   },
   {
    "duration": 33,
    "start_time": "2021-08-01T20:28:24.878Z"
   },
   {
    "duration": 11,
    "start_time": "2021-08-01T20:30:05.466Z"
   },
   {
    "duration": 2,
    "start_time": "2021-08-01T20:30:07.222Z"
   },
   {
    "duration": 4045,
    "start_time": "2021-08-01T20:30:08.945Z"
   },
   {
    "duration": 283,
    "start_time": "2021-08-01T20:30:39.963Z"
   },
   {
    "duration": 180,
    "start_time": "2021-08-01T20:30:43.808Z"
   },
   {
    "duration": 9,
    "start_time": "2021-08-01T20:30:48.974Z"
   },
   {
    "duration": 2978,
    "start_time": "2021-08-01T20:31:01.519Z"
   },
   {
    "duration": 285,
    "start_time": "2021-08-01T20:31:30.715Z"
   },
   {
    "duration": 24,
    "start_time": "2021-08-01T20:31:55.829Z"
   },
   {
    "duration": 1798,
    "start_time": "2021-08-01T20:31:58.691Z"
   },
   {
    "duration": 336,
    "start_time": "2021-08-01T20:32:05.340Z"
   },
   {
    "duration": 266,
    "start_time": "2021-08-01T20:32:20.480Z"
   },
   {
    "duration": 1665,
    "start_time": "2021-08-01T20:32:32.901Z"
   },
   {
    "duration": 9,
    "start_time": "2021-08-01T20:32:46.261Z"
   },
   {
    "duration": 11,
    "start_time": "2021-08-01T20:33:44.347Z"
   },
   {
    "duration": 14,
    "start_time": "2021-08-01T20:33:45.960Z"
   },
   {
    "duration": 236,
    "start_time": "2021-08-01T20:33:50.737Z"
   },
   {
    "duration": 15,
    "start_time": "2021-08-01T20:33:55.518Z"
   },
   {
    "duration": 11,
    "start_time": "2021-08-01T20:36:28.393Z"
   },
   {
    "duration": 151,
    "start_time": "2021-08-01T20:36:31.193Z"
   },
   {
    "duration": 4,
    "start_time": "2021-08-01T20:36:44.250Z"
   },
   {
    "duration": 120,
    "start_time": "2021-08-01T20:36:48.290Z"
   },
   {
    "duration": 116,
    "start_time": "2021-08-01T20:36:51.634Z"
   },
   {
    "duration": 11,
    "start_time": "2021-08-01T20:36:55.826Z"
   },
   {
    "duration": 145,
    "start_time": "2021-08-01T20:36:58.764Z"
   },
   {
    "duration": 124,
    "start_time": "2021-08-01T20:37:02.149Z"
   },
   {
    "duration": 117,
    "start_time": "2021-08-01T20:37:05.198Z"
   },
   {
    "duration": 11,
    "start_time": "2021-08-01T20:37:08.964Z"
   },
   {
    "duration": 151,
    "start_time": "2021-08-01T20:37:13.334Z"
   },
   {
    "duration": 230,
    "start_time": "2021-08-01T20:37:16.033Z"
   },
   {
    "duration": 119,
    "start_time": "2021-08-01T20:37:21.082Z"
   },
   {
    "duration": 17,
    "start_time": "2021-08-01T20:38:05.857Z"
   },
   {
    "duration": 200,
    "start_time": "2021-08-01T20:38:11.683Z"
   },
   {
    "duration": 209,
    "start_time": "2021-08-01T20:38:20.586Z"
   },
   {
    "duration": 15,
    "start_time": "2021-08-01T20:38:25.487Z"
   },
   {
    "duration": 6,
    "start_time": "2021-08-01T20:39:58.096Z"
   },
   {
    "duration": 22,
    "start_time": "2021-08-01T20:39:59.738Z"
   },
   {
    "duration": 22,
    "start_time": "2021-08-01T20:40:01.998Z"
   },
   {
    "duration": 12,
    "start_time": "2021-08-01T20:40:04.978Z"
   },
   {
    "duration": 10,
    "start_time": "2021-08-01T20:40:05.892Z"
   },
   {
    "duration": 7,
    "start_time": "2021-08-01T20:40:11.422Z"
   },
   {
    "duration": 12,
    "start_time": "2021-08-01T20:40:15.798Z"
   },
   {
    "duration": 12,
    "start_time": "2021-08-01T20:40:16.989Z"
   },
   {
    "duration": 5,
    "start_time": "2021-08-01T20:40:21.028Z"
   },
   {
    "duration": 307,
    "start_time": "2021-08-02T15:20:31.942Z"
   },
   {
    "duration": 1458,
    "start_time": "2021-08-02T15:20:38.087Z"
   },
   {
    "duration": 80,
    "start_time": "2021-08-02T15:20:39.548Z"
   },
   {
    "duration": 5,
    "start_time": "2021-08-02T15:20:39.633Z"
   },
   {
    "duration": 17,
    "start_time": "2021-08-02T15:20:39.654Z"
   },
   {
    "duration": 25,
    "start_time": "2021-08-02T15:20:39.674Z"
   },
   {
    "duration": 102,
    "start_time": "2021-08-02T15:20:39.702Z"
   },
   {
    "duration": 2807,
    "start_time": "2021-08-02T15:20:39.807Z"
   },
   {
    "duration": 8,
    "start_time": "2021-08-02T15:20:42.617Z"
   },
   {
    "duration": 26,
    "start_time": "2021-08-02T15:20:42.654Z"
   },
   {
    "duration": 6,
    "start_time": "2021-08-02T15:20:42.683Z"
   },
   {
    "duration": 21,
    "start_time": "2021-08-02T15:20:42.692Z"
   },
   {
    "duration": 38,
    "start_time": "2021-08-02T15:20:42.716Z"
   },
   {
    "duration": 5,
    "start_time": "2021-08-02T15:20:42.757Z"
   },
   {
    "duration": 147,
    "start_time": "2021-08-02T15:20:42.765Z"
   },
   {
    "duration": 7,
    "start_time": "2021-08-02T15:20:42.915Z"
   },
   {
    "duration": 29,
    "start_time": "2021-08-02T15:20:42.926Z"
   },
   {
    "duration": 10,
    "start_time": "2021-08-02T15:20:42.958Z"
   },
   {
    "duration": 31,
    "start_time": "2021-08-02T15:20:42.970Z"
   },
   {
    "duration": 22,
    "start_time": "2021-08-02T15:20:43.003Z"
   },
   {
    "duration": 26,
    "start_time": "2021-08-02T15:20:43.027Z"
   },
   {
    "duration": 27,
    "start_time": "2021-08-02T15:20:43.056Z"
   },
   {
    "duration": 40,
    "start_time": "2021-08-02T15:20:43.086Z"
   },
   {
    "duration": 344,
    "start_time": "2021-08-02T15:20:43.128Z"
   },
   {
    "duration": 587,
    "start_time": "2021-08-02T15:20:43.475Z"
   },
   {
    "duration": 10,
    "start_time": "2021-08-02T15:20:44.065Z"
   },
   {
    "duration": 1194,
    "start_time": "2021-08-02T15:20:44.078Z"
   },
   {
    "duration": 21,
    "start_time": "2021-08-02T15:20:45.278Z"
   },
   {
    "duration": 14,
    "start_time": "2021-08-02T15:20:45.304Z"
   },
   {
    "duration": 68,
    "start_time": "2021-08-02T15:20:45.320Z"
   },
   {
    "duration": 34,
    "start_time": "2021-08-02T15:20:45.390Z"
   },
   {
    "duration": 1235,
    "start_time": "2021-08-02T15:20:45.426Z"
   },
   {
    "duration": 116,
    "start_time": "2021-08-02T15:20:46.548Z"
   },
   {
    "duration": 114,
    "start_time": "2021-08-02T15:20:46.551Z"
   },
   {
    "duration": 113,
    "start_time": "2021-08-02T15:20:46.553Z"
   },
   {
    "duration": 112,
    "start_time": "2021-08-02T15:20:46.556Z"
   },
   {
    "duration": 111,
    "start_time": "2021-08-02T15:20:46.558Z"
   },
   {
    "duration": 110,
    "start_time": "2021-08-02T15:20:46.560Z"
   },
   {
    "duration": 108,
    "start_time": "2021-08-02T15:20:46.563Z"
   },
   {
    "duration": 107,
    "start_time": "2021-08-02T15:20:46.566Z"
   },
   {
    "duration": 106,
    "start_time": "2021-08-02T15:20:46.568Z"
   },
   {
    "duration": 100,
    "start_time": "2021-08-02T15:20:46.575Z"
   },
   {
    "duration": 99,
    "start_time": "2021-08-02T15:20:46.577Z"
   },
   {
    "duration": 99,
    "start_time": "2021-08-02T15:20:46.579Z"
   },
   {
    "duration": 98,
    "start_time": "2021-08-02T15:20:46.581Z"
   },
   {
    "duration": 98,
    "start_time": "2021-08-02T15:20:46.583Z"
   },
   {
    "duration": 61,
    "start_time": "2021-08-02T15:20:46.621Z"
   },
   {
    "duration": 59,
    "start_time": "2021-08-02T15:20:46.624Z"
   },
   {
    "duration": 59,
    "start_time": "2021-08-02T15:20:46.626Z"
   },
   {
    "duration": 58,
    "start_time": "2021-08-02T15:20:46.628Z"
   },
   {
    "duration": 58,
    "start_time": "2021-08-02T15:20:46.630Z"
   },
   {
    "duration": 56,
    "start_time": "2021-08-02T15:20:46.633Z"
   },
   {
    "duration": 56,
    "start_time": "2021-08-02T15:20:46.635Z"
   },
   {
    "duration": 54,
    "start_time": "2021-08-02T15:20:46.638Z"
   },
   {
    "duration": 50,
    "start_time": "2021-08-02T15:20:46.644Z"
   },
   {
    "duration": 49,
    "start_time": "2021-08-02T15:20:46.646Z"
   },
   {
    "duration": 49,
    "start_time": "2021-08-02T15:20:46.648Z"
   },
   {
    "duration": 48,
    "start_time": "2021-08-02T15:20:46.650Z"
   },
   {
    "duration": -40,
    "start_time": "2021-08-02T15:20:46.739Z"
   },
   {
    "duration": -40,
    "start_time": "2021-08-02T15:20:46.741Z"
   },
   {
    "duration": 12,
    "start_time": "2021-08-02T15:20:46.743Z"
   },
   {
    "duration": 11,
    "start_time": "2021-08-02T15:20:46.745Z"
   },
   {
    "duration": 9,
    "start_time": "2021-08-02T15:20:46.748Z"
   },
   {
    "duration": 8,
    "start_time": "2021-08-02T15:20:46.750Z"
   },
   {
    "duration": 8,
    "start_time": "2021-08-02T15:20:46.752Z"
   },
   {
    "duration": 6,
    "start_time": "2021-08-02T15:20:46.755Z"
   },
   {
    "duration": 5,
    "start_time": "2021-08-02T15:20:46.757Z"
   },
   {
    "duration": 4,
    "start_time": "2021-08-02T15:20:46.759Z"
   },
   {
    "duration": 2,
    "start_time": "2021-08-02T15:20:46.762Z"
   },
   {
    "duration": 2,
    "start_time": "2021-08-02T15:20:46.764Z"
   },
   {
    "duration": 0,
    "start_time": "2021-08-02T15:20:46.767Z"
   },
   {
    "duration": -29,
    "start_time": "2021-08-02T15:20:46.797Z"
   },
   {
    "duration": -44,
    "start_time": "2021-08-02T15:20:46.813Z"
   },
   {
    "duration": -45,
    "start_time": "2021-08-02T15:20:46.815Z"
   },
   {
    "duration": -46,
    "start_time": "2021-08-02T15:20:46.818Z"
   },
   {
    "duration": -48,
    "start_time": "2021-08-02T15:20:46.821Z"
   },
   {
    "duration": -49,
    "start_time": "2021-08-02T15:20:46.823Z"
   },
   {
    "duration": -50,
    "start_time": "2021-08-02T15:20:46.825Z"
   },
   {
    "duration": 32,
    "start_time": "2021-08-02T15:22:09.879Z"
   },
   {
    "duration": 17,
    "start_time": "2021-08-02T15:22:30.760Z"
   },
   {
    "duration": 257,
    "start_time": "2021-08-02T15:22:49.982Z"
   },
   {
    "duration": 86,
    "start_time": "2021-08-02T15:23:22.579Z"
   },
   {
    "duration": 85,
    "start_time": "2021-08-02T15:23:30.663Z"
   },
   {
    "duration": 18,
    "start_time": "2021-08-02T15:23:52.165Z"
   },
   {
    "duration": 2183,
    "start_time": "2021-08-02T15:27:20.757Z"
   },
   {
    "duration": 97,
    "start_time": "2021-08-02T15:27:22.943Z"
   },
   {
    "duration": 11,
    "start_time": "2021-08-02T15:27:23.044Z"
   },
   {
    "duration": 16,
    "start_time": "2021-08-02T15:27:23.059Z"
   },
   {
    "duration": 14,
    "start_time": "2021-08-02T15:27:23.078Z"
   },
   {
    "duration": 82,
    "start_time": "2021-08-02T15:27:23.095Z"
   },
   {
    "duration": 2721,
    "start_time": "2021-08-02T15:27:23.179Z"
   },
   {
    "duration": 8,
    "start_time": "2021-08-02T15:27:25.904Z"
   },
   {
    "duration": 52,
    "start_time": "2021-08-02T15:27:25.916Z"
   },
   {
    "duration": 7,
    "start_time": "2021-08-02T15:27:25.970Z"
   },
   {
    "duration": 24,
    "start_time": "2021-08-02T15:27:25.979Z"
   },
   {
    "duration": 10,
    "start_time": "2021-08-02T15:27:26.005Z"
   },
   {
    "duration": 36,
    "start_time": "2021-08-02T15:27:26.017Z"
   },
   {
    "duration": 133,
    "start_time": "2021-08-02T15:27:26.056Z"
   },
   {
    "duration": 8,
    "start_time": "2021-08-02T15:27:26.191Z"
   },
   {
    "duration": 10,
    "start_time": "2021-08-02T15:27:26.201Z"
   },
   {
    "duration": 8,
    "start_time": "2021-08-02T15:27:26.214Z"
   },
   {
    "duration": 34,
    "start_time": "2021-08-02T15:27:26.225Z"
   },
   {
    "duration": 11,
    "start_time": "2021-08-02T15:27:26.262Z"
   },
   {
    "duration": 16,
    "start_time": "2021-08-02T15:27:26.276Z"
   },
   {
    "duration": 12,
    "start_time": "2021-08-02T15:27:26.295Z"
   },
   {
    "duration": 57,
    "start_time": "2021-08-02T15:27:26.309Z"
   },
   {
    "duration": 356,
    "start_time": "2021-08-02T15:27:26.372Z"
   },
   {
    "duration": 778,
    "start_time": "2021-08-02T15:27:26.732Z"
   },
   {
    "duration": 10,
    "start_time": "2021-08-02T15:27:27.513Z"
   },
   {
    "duration": 1180,
    "start_time": "2021-08-02T15:27:27.526Z"
   },
   {
    "duration": 21,
    "start_time": "2021-08-02T15:27:28.708Z"
   },
   {
    "duration": 25,
    "start_time": "2021-08-02T15:27:28.731Z"
   },
   {
    "duration": 35,
    "start_time": "2021-08-02T15:27:28.759Z"
   },
   {
    "duration": 76,
    "start_time": "2021-08-02T15:27:28.796Z"
   },
   {
    "duration": 87,
    "start_time": "2021-08-02T15:27:28.874Z"
   },
   {
    "duration": 108,
    "start_time": "2021-08-02T15:27:28.856Z"
   },
   {
    "duration": 107,
    "start_time": "2021-08-02T15:27:28.859Z"
   },
   {
    "duration": 105,
    "start_time": "2021-08-02T15:27:28.862Z"
   },
   {
    "duration": 103,
    "start_time": "2021-08-02T15:27:28.866Z"
   },
   {
    "duration": 100,
    "start_time": "2021-08-02T15:27:28.870Z"
   },
   {
    "duration": 99,
    "start_time": "2021-08-02T15:27:28.873Z"
   },
   {
    "duration": 96,
    "start_time": "2021-08-02T15:27:28.877Z"
   },
   {
    "duration": 94,
    "start_time": "2021-08-02T15:27:28.880Z"
   },
   {
    "duration": 92,
    "start_time": "2021-08-02T15:27:28.883Z"
   },
   {
    "duration": 90,
    "start_time": "2021-08-02T15:27:28.887Z"
   },
   {
    "duration": 87,
    "start_time": "2021-08-02T15:27:28.891Z"
   },
   {
    "duration": 85,
    "start_time": "2021-08-02T15:27:28.894Z"
   },
   {
    "duration": 37,
    "start_time": "2021-08-02T15:27:28.944Z"
   },
   {
    "duration": 34,
    "start_time": "2021-08-02T15:27:28.948Z"
   },
   {
    "duration": 32,
    "start_time": "2021-08-02T15:27:28.951Z"
   },
   {
    "duration": 27,
    "start_time": "2021-08-02T15:27:28.957Z"
   },
   {
    "duration": 26,
    "start_time": "2021-08-02T15:27:28.960Z"
   },
   {
    "duration": 24,
    "start_time": "2021-08-02T15:27:28.963Z"
   },
   {
    "duration": 22,
    "start_time": "2021-08-02T15:27:28.967Z"
   },
   {
    "duration": 20,
    "start_time": "2021-08-02T15:27:28.970Z"
   },
   {
    "duration": 18,
    "start_time": "2021-08-02T15:27:28.974Z"
   },
   {
    "duration": 16,
    "start_time": "2021-08-02T15:27:28.977Z"
   },
   {
    "duration": 13,
    "start_time": "2021-08-02T15:27:28.981Z"
   },
   {
    "duration": 11,
    "start_time": "2021-08-02T15:27:28.985Z"
   },
   {
    "duration": 7,
    "start_time": "2021-08-02T15:27:28.990Z"
   },
   {
    "duration": 4,
    "start_time": "2021-08-02T15:27:28.994Z"
   },
   {
    "duration": 2,
    "start_time": "2021-08-02T15:27:28.997Z"
   },
   {
    "duration": -42,
    "start_time": "2021-08-02T15:27:29.043Z"
   },
   {
    "duration": -46,
    "start_time": "2021-08-02T15:27:29.048Z"
   },
   {
    "duration": -48,
    "start_time": "2021-08-02T15:27:29.051Z"
   },
   {
    "duration": -52,
    "start_time": "2021-08-02T15:27:29.056Z"
   },
   {
    "duration": -4,
    "start_time": "2021-08-02T15:27:29.058Z"
   },
   {
    "duration": -5,
    "start_time": "2021-08-02T15:27:29.061Z"
   },
   {
    "duration": -6,
    "start_time": "2021-08-02T15:27:29.064Z"
   },
   {
    "duration": -8,
    "start_time": "2021-08-02T15:27:29.067Z"
   },
   {
    "duration": -8,
    "start_time": "2021-08-02T15:27:29.069Z"
   },
   {
    "duration": -10,
    "start_time": "2021-08-02T15:27:29.072Z"
   },
   {
    "duration": -11,
    "start_time": "2021-08-02T15:27:29.075Z"
   },
   {
    "duration": -14,
    "start_time": "2021-08-02T15:27:29.079Z"
   },
   {
    "duration": -17,
    "start_time": "2021-08-02T15:27:29.083Z"
   },
   {
    "duration": -19,
    "start_time": "2021-08-02T15:27:29.087Z"
   },
   {
    "duration": -22,
    "start_time": "2021-08-02T15:27:29.091Z"
   },
   {
    "duration": -23,
    "start_time": "2021-08-02T15:27:29.094Z"
   },
   {
    "duration": -25,
    "start_time": "2021-08-02T15:27:29.097Z"
   },
   {
    "duration": -27,
    "start_time": "2021-08-02T15:27:29.100Z"
   },
   {
    "duration": -29,
    "start_time": "2021-08-02T15:27:29.104Z"
   },
   {
    "duration": 128,
    "start_time": "2021-08-02T15:33:37.418Z"
   },
   {
    "duration": 90,
    "start_time": "2021-08-02T15:33:45.658Z"
   },
   {
    "duration": 90,
    "start_time": "2021-08-02T15:33:49.877Z"
   },
   {
    "duration": 18,
    "start_time": "2021-08-02T15:33:56.311Z"
   },
   {
    "duration": 1479,
    "start_time": "2021-08-02T15:34:02.843Z"
   },
   {
    "duration": 73,
    "start_time": "2021-08-02T15:34:04.325Z"
   },
   {
    "duration": 5,
    "start_time": "2021-08-02T15:34:04.402Z"
   },
   {
    "duration": 21,
    "start_time": "2021-08-02T15:34:04.410Z"
   },
   {
    "duration": 35,
    "start_time": "2021-08-02T15:34:04.434Z"
   },
   {
    "duration": 84,
    "start_time": "2021-08-02T15:34:04.472Z"
   },
   {
    "duration": 2500,
    "start_time": "2021-08-02T15:34:04.560Z"
   },
   {
    "duration": 9,
    "start_time": "2021-08-02T15:34:07.064Z"
   },
   {
    "duration": 30,
    "start_time": "2021-08-02T15:34:07.076Z"
   },
   {
    "duration": 7,
    "start_time": "2021-08-02T15:34:07.108Z"
   },
   {
    "duration": 55,
    "start_time": "2021-08-02T15:34:07.117Z"
   },
   {
    "duration": 11,
    "start_time": "2021-08-02T15:34:07.174Z"
   },
   {
    "duration": 7,
    "start_time": "2021-08-02T15:34:07.187Z"
   },
   {
    "duration": 158,
    "start_time": "2021-08-02T15:34:07.196Z"
   },
   {
    "duration": 6,
    "start_time": "2021-08-02T15:34:07.357Z"
   },
   {
    "duration": 11,
    "start_time": "2021-08-02T15:34:07.365Z"
   },
   {
    "duration": 11,
    "start_time": "2021-08-02T15:34:07.378Z"
   },
   {
    "duration": 12,
    "start_time": "2021-08-02T15:34:07.391Z"
   },
   {
    "duration": 12,
    "start_time": "2021-08-02T15:34:07.405Z"
   },
   {
    "duration": 40,
    "start_time": "2021-08-02T15:34:07.419Z"
   },
   {
    "duration": 10,
    "start_time": "2021-08-02T15:34:07.462Z"
   },
   {
    "duration": 23,
    "start_time": "2021-08-02T15:34:07.475Z"
   },
   {
    "duration": 375,
    "start_time": "2021-08-02T15:34:07.504Z"
   },
   {
    "duration": 584,
    "start_time": "2021-08-02T15:34:07.883Z"
   },
   {
    "duration": 10,
    "start_time": "2021-08-02T15:34:08.469Z"
   },
   {
    "duration": 1187,
    "start_time": "2021-08-02T15:34:08.482Z"
   },
   {
    "duration": 21,
    "start_time": "2021-08-02T15:34:09.672Z"
   },
   {
    "duration": 11,
    "start_time": "2021-08-02T15:34:09.696Z"
   },
   {
    "duration": 64,
    "start_time": "2021-08-02T15:34:09.710Z"
   },
   {
    "duration": 35,
    "start_time": "2021-08-02T15:34:09.776Z"
   },
   {
    "duration": 42,
    "start_time": "2021-08-02T15:34:09.814Z"
   },
   {
    "duration": 16,
    "start_time": "2021-08-02T15:34:09.859Z"
   },
   {
    "duration": 7,
    "start_time": "2021-08-02T15:34:09.877Z"
   },
   {
    "duration": 82,
    "start_time": "2021-08-02T15:34:09.887Z"
   },
   {
    "duration": 14,
    "start_time": "2021-08-02T15:34:09.971Z"
   },
   {
    "duration": 10,
    "start_time": "2021-08-02T15:34:09.987Z"
   },
   {
    "duration": 7606,
    "start_time": "2021-08-02T15:34:09.999Z"
   },
   {
    "duration": 546,
    "start_time": "2021-08-02T15:34:17.607Z"
   },
   {
    "duration": 348,
    "start_time": "2021-08-02T15:34:18.156Z"
   },
   {
    "duration": 10,
    "start_time": "2021-08-02T15:34:18.507Z"
   },
   {
    "duration": 7084,
    "start_time": "2021-08-02T15:34:18.520Z"
   },
   {
    "duration": 614,
    "start_time": "2021-08-02T15:34:25.606Z"
   },
   {
    "duration": 48,
    "start_time": "2021-08-02T15:34:26.222Z"
   },
   {
    "duration": 2785,
    "start_time": "2021-08-02T15:34:26.272Z"
   },
   {
    "duration": 2700,
    "start_time": "2021-08-02T15:34:29.059Z"
   },
   {
    "duration": 13,
    "start_time": "2021-08-02T15:34:31.762Z"
   },
   {
    "duration": 21,
    "start_time": "2021-08-02T15:34:31.778Z"
   },
   {
    "duration": 55,
    "start_time": "2021-08-02T15:34:31.802Z"
   },
   {
    "duration": 529,
    "start_time": "2021-08-02T15:34:31.860Z"
   },
   {
    "duration": 24,
    "start_time": "2021-08-02T15:34:32.392Z"
   },
   {
    "duration": 2670,
    "start_time": "2021-08-02T15:34:32.419Z"
   },
   {
    "duration": 17,
    "start_time": "2021-08-02T15:34:35.091Z"
   },
   {
    "duration": 295,
    "start_time": "2021-08-02T15:34:35.111Z"
   },
   {
    "duration": 5,
    "start_time": "2021-08-02T15:34:35.408Z"
   },
   {
    "duration": 228,
    "start_time": "2021-08-02T15:34:35.415Z"
   },
   {
    "duration": 218,
    "start_time": "2021-08-02T15:34:35.645Z"
   },
   {
    "duration": 16,
    "start_time": "2021-08-02T15:34:35.865Z"
   },
   {
    "duration": 300,
    "start_time": "2021-08-02T15:34:35.884Z"
   },
   {
    "duration": 232,
    "start_time": "2021-08-02T15:34:36.187Z"
   },
   {
    "duration": 225,
    "start_time": "2021-08-02T15:34:36.422Z"
   },
   {
    "duration": 16,
    "start_time": "2021-08-02T15:34:36.650Z"
   },
   {
    "duration": 288,
    "start_time": "2021-08-02T15:34:36.669Z"
   },
   {
    "duration": 228,
    "start_time": "2021-08-02T15:34:36.959Z"
   },
   {
    "duration": 226,
    "start_time": "2021-08-02T15:34:37.191Z"
   },
   {
    "duration": 40,
    "start_time": "2021-08-02T15:34:37.419Z"
   },
   {
    "duration": 364,
    "start_time": "2021-08-02T15:34:37.461Z"
   },
   {
    "duration": 366,
    "start_time": "2021-08-02T15:34:37.827Z"
   },
   {
    "duration": 23,
    "start_time": "2021-08-02T15:34:38.201Z"
   },
   {
    "duration": 7,
    "start_time": "2021-08-02T15:34:38.226Z"
   },
   {
    "duration": 25,
    "start_time": "2021-08-02T15:34:38.256Z"
   },
   {
    "duration": 40,
    "start_time": "2021-08-02T15:34:38.283Z"
   },
   {
    "duration": 29,
    "start_time": "2021-08-02T15:34:38.325Z"
   },
   {
    "duration": 11,
    "start_time": "2021-08-02T15:34:38.357Z"
   },
   {
    "duration": 11,
    "start_time": "2021-08-02T15:34:38.371Z"
   },
   {
    "duration": 20,
    "start_time": "2021-08-02T15:34:38.384Z"
   },
   {
    "duration": 14,
    "start_time": "2021-08-02T15:34:38.407Z"
   },
   {
    "duration": 33,
    "start_time": "2021-08-02T15:34:38.424Z"
   },
   {
    "duration": 217,
    "start_time": "2021-08-02T18:19:29.545Z"
   },
   {
    "duration": 1382,
    "start_time": "2021-08-03T07:09:48.046Z"
   },
   {
    "duration": 62,
    "start_time": "2021-08-03T07:09:51.144Z"
   },
   {
    "duration": 4,
    "start_time": "2021-08-03T07:09:56.252Z"
   },
   {
    "duration": 14,
    "start_time": "2021-08-03T07:09:57.442Z"
   },
   {
    "duration": 17,
    "start_time": "2021-08-03T07:10:00.582Z"
   },
   {
    "duration": 45,
    "start_time": "2021-08-03T07:10:04.397Z"
   },
   {
    "duration": 2300,
    "start_time": "2021-08-03T07:10:07.367Z"
   },
   {
    "duration": 8,
    "start_time": "2021-08-03T07:10:13.393Z"
   },
   {
    "duration": 23,
    "start_time": "2021-08-03T07:10:14.204Z"
   },
   {
    "duration": 6,
    "start_time": "2021-08-03T07:10:15.144Z"
   },
   {
    "duration": 19,
    "start_time": "2021-08-03T07:10:16.152Z"
   },
   {
    "duration": 9,
    "start_time": "2021-08-03T07:10:20.478Z"
   },
   {
    "duration": 4,
    "start_time": "2021-08-03T07:10:23.148Z"
   },
   {
    "duration": 32,
    "start_time": "2021-08-03T07:10:27.581Z"
   },
   {
    "duration": 6,
    "start_time": "2021-08-03T07:10:32.021Z"
   },
   {
    "duration": 7,
    "start_time": "2021-08-03T07:10:36.064Z"
   },
   {
    "duration": 5,
    "start_time": "2021-08-03T07:10:37.135Z"
   },
   {
    "duration": 11,
    "start_time": "2021-08-03T07:10:38.588Z"
   },
   {
    "duration": 12,
    "start_time": "2021-08-03T07:10:44.724Z"
   },
   {
    "duration": 10,
    "start_time": "2021-08-03T07:10:45.612Z"
   },
   {
    "duration": 89,
    "start_time": "2021-08-03T07:10:49.113Z"
   },
   {
    "duration": 23,
    "start_time": "2021-08-03T07:10:52.062Z"
   },
   {
    "duration": 321,
    "start_time": "2021-08-03T07:11:01.028Z"
   },
   {
    "duration": 510,
    "start_time": "2021-08-03T07:11:15.331Z"
   },
   {
    "duration": 14,
    "start_time": "2021-08-03T07:11:19.239Z"
   },
   {
    "duration": 1178,
    "start_time": "2021-08-03T07:11:26.964Z"
   },
   {
    "duration": 456,
    "start_time": "2021-08-03T07:13:27.933Z"
   },
   {
    "duration": 592,
    "start_time": "2021-08-03T07:23:16.469Z"
   },
   {
    "duration": 266,
    "start_time": "2021-08-03T07:23:43.123Z"
   },
   {
    "duration": 458,
    "start_time": "2021-08-03T07:23:53.532Z"
   },
   {
    "duration": 1155,
    "start_time": "2021-08-03T07:24:00.408Z"
   },
   {
    "duration": 378,
    "start_time": "2021-08-03T07:24:30.669Z"
   },
   {
    "duration": 548,
    "start_time": "2021-08-03T07:25:13.952Z"
   },
   {
    "duration": 10,
    "start_time": "2021-08-03T07:25:22.483Z"
   },
   {
    "duration": 534,
    "start_time": "2021-08-03T07:57:02.090Z"
   },
   {
    "duration": 9,
    "start_time": "2021-08-03T07:57:07.103Z"
   },
   {
    "duration": 1074,
    "start_time": "2021-08-03T07:57:11.032Z"
   },
   {
    "duration": 22,
    "start_time": "2021-08-03T07:57:30.449Z"
   },
   {
    "duration": 15,
    "start_time": "2021-08-03T07:57:34.076Z"
   },
   {
    "duration": 32,
    "start_time": "2021-08-03T07:58:08.956Z"
   },
   {
    "duration": 33,
    "start_time": "2021-08-03T07:58:11.244Z"
   },
   {
    "duration": 16,
    "start_time": "2021-08-03T07:58:53.169Z"
   },
   {
    "duration": 23,
    "start_time": "2021-08-03T08:00:28.612Z"
   },
   {
    "duration": 285,
    "start_time": "2021-08-03T08:03:32.278Z"
   },
   {
    "duration": 34,
    "start_time": "2021-08-03T08:03:57.049Z"
   },
   {
    "duration": 6,
    "start_time": "2021-08-03T08:04:51.862Z"
   },
   {
    "duration": 39,
    "start_time": "2021-08-03T08:05:32.480Z"
   },
   {
    "duration": 34,
    "start_time": "2021-08-03T08:06:11.339Z"
   },
   {
    "duration": 10,
    "start_time": "2021-08-03T08:06:54.369Z"
   },
   {
    "duration": 6,
    "start_time": "2021-08-03T08:06:55.623Z"
   },
   {
    "duration": 52,
    "start_time": "2021-08-03T08:07:02.446Z"
   },
   {
    "duration": 14,
    "start_time": "2021-08-03T08:07:08.461Z"
   },
   {
    "duration": 4,
    "start_time": "2021-08-03T08:07:10.754Z"
   },
   {
    "duration": 2384,
    "start_time": "2021-08-03T08:07:11.901Z"
   },
   {
    "duration": 330,
    "start_time": "2021-08-03T08:10:49.222Z"
   },
   {
    "duration": 24,
    "start_time": "2021-08-03T08:11:06.511Z"
   },
   {
    "duration": 311,
    "start_time": "2021-08-03T08:12:23.891Z"
   },
   {
    "duration": 26,
    "start_time": "2021-08-03T08:13:24.131Z"
   },
   {
    "duration": 1912,
    "start_time": "2021-08-03T08:13:29.336Z"
   },
   {
    "duration": 2017,
    "start_time": "2021-08-03T08:14:15.795Z"
   },
   {
    "duration": 989,
    "start_time": "2021-08-03T08:14:25.636Z"
   },
   {
    "duration": 83,
    "start_time": "2021-08-03T08:14:55.162Z"
   },
   {
    "duration": 9,
    "start_time": "2021-08-03T08:15:04.724Z"
   },
   {
    "duration": 6,
    "start_time": "2021-08-03T08:15:07.264Z"
   },
   {
    "duration": 55,
    "start_time": "2021-08-03T08:15:10.361Z"
   },
   {
    "duration": 316,
    "start_time": "2021-08-03T08:15:26.209Z"
   },
   {
    "duration": 40,
    "start_time": "2021-08-03T08:15:37.537Z"
   },
   {
    "duration": 6,
    "start_time": "2021-08-03T08:16:06.828Z"
   },
   {
    "duration": 2750,
    "start_time": "2021-08-03T08:16:47.021Z"
   },
   {
    "duration": 3180,
    "start_time": "2021-08-03T08:18:29.282Z"
   },
   {
    "duration": 573,
    "start_time": "2021-08-03T08:21:17.448Z"
   },
   {
    "duration": 20,
    "start_time": "2021-08-03T08:21:50.219Z"
   },
   {
    "duration": 326,
    "start_time": "2021-08-03T08:22:05.960Z"
   },
   {
    "duration": 390,
    "start_time": "2021-08-03T08:27:34.645Z"
   },
   {
    "duration": 275,
    "start_time": "2021-08-03T08:35:01.740Z"
   },
   {
    "duration": 387,
    "start_time": "2021-08-03T08:35:51.738Z"
   },
   {
    "duration": 253,
    "start_time": "2021-08-03T08:36:07.026Z"
   },
   {
    "duration": 21,
    "start_time": "2021-08-03T08:40:25.260Z"
   },
   {
    "duration": 278,
    "start_time": "2021-08-03T08:40:40.699Z"
   },
   {
    "duration": 429,
    "start_time": "2021-08-03T08:41:33.312Z"
   },
   {
    "duration": 832,
    "start_time": "2021-08-03T08:42:25.589Z"
   },
   {
    "duration": 374,
    "start_time": "2021-08-03T08:42:36.589Z"
   },
   {
    "duration": 21,
    "start_time": "2021-08-03T08:43:51.735Z"
   },
   {
    "duration": 2539,
    "start_time": "2021-08-03T08:44:18.747Z"
   },
   {
    "duration": 269,
    "start_time": "2021-08-03T08:44:35.697Z"
   },
   {
    "duration": 507,
    "start_time": "2021-08-03T08:45:05.428Z"
   },
   {
    "duration": 37,
    "start_time": "2021-08-03T08:51:46.188Z"
   },
   {
    "duration": 2060,
    "start_time": "2021-08-03T08:52:26.712Z"
   },
   {
    "duration": 2107,
    "start_time": "2021-08-03T08:52:55.211Z"
   },
   {
    "duration": 17,
    "start_time": "2021-08-03T08:53:05.958Z"
   },
   {
    "duration": 20,
    "start_time": "2021-08-03T08:53:22.287Z"
   },
   {
    "duration": 328,
    "start_time": "2021-08-03T08:53:27.983Z"
   },
   {
    "duration": 19,
    "start_time": "2021-08-03T08:53:34.675Z"
   },
   {
    "duration": 492,
    "start_time": "2021-08-03T08:53:46.394Z"
   },
   {
    "duration": 23,
    "start_time": "2021-08-03T08:53:56.350Z"
   },
   {
    "duration": 19,
    "start_time": "2021-08-03T08:54:13.962Z"
   },
   {
    "duration": 643,
    "start_time": "2021-08-03T08:54:41.323Z"
   },
   {
    "duration": 814,
    "start_time": "2021-08-03T08:54:58.659Z"
   },
   {
    "duration": 876,
    "start_time": "2021-08-03T08:55:20.447Z"
   },
   {
    "duration": 972,
    "start_time": "2021-08-03T08:55:57.723Z"
   },
   {
    "duration": 5,
    "start_time": "2021-08-03T09:03:37.404Z"
   },
   {
    "duration": 5,
    "start_time": "2021-08-03T09:05:16.514Z"
   },
   {
    "duration": 273,
    "start_time": "2021-08-03T09:05:39.788Z"
   },
   {
    "duration": 306,
    "start_time": "2021-08-03T09:11:01.520Z"
   },
   {
    "duration": 319,
    "start_time": "2021-08-03T09:11:38.795Z"
   },
   {
    "duration": 20,
    "start_time": "2021-08-03T09:12:17.069Z"
   },
   {
    "duration": 747,
    "start_time": "2021-08-03T09:12:22.022Z"
   },
   {
    "duration": 5305,
    "start_time": "2021-08-03T09:13:14.582Z"
   },
   {
    "duration": 22,
    "start_time": "2021-08-03T09:14:04.239Z"
   },
   {
    "duration": 245,
    "start_time": "2021-08-03T09:14:26.413Z"
   },
   {
    "duration": 5,
    "start_time": "2021-08-03T09:14:32.569Z"
   },
   {
    "duration": 214,
    "start_time": "2021-08-03T09:14:34.951Z"
   },
   {
    "duration": 413,
    "start_time": "2021-08-03T09:14:41.076Z"
   },
   {
    "duration": 15,
    "start_time": "2021-08-03T09:14:53.367Z"
   },
   {
    "duration": 263,
    "start_time": "2021-08-03T09:14:58.063Z"
   },
   {
    "duration": 206,
    "start_time": "2021-08-03T09:15:02.244Z"
   },
   {
    "duration": 202,
    "start_time": "2021-08-03T09:15:05.296Z"
   },
   {
    "duration": 15,
    "start_time": "2021-08-03T09:15:09.349Z"
   },
   {
    "duration": 265,
    "start_time": "2021-08-03T09:15:14.293Z"
   },
   {
    "duration": 215,
    "start_time": "2021-08-03T09:15:18.395Z"
   },
   {
    "duration": 219,
    "start_time": "2021-08-03T09:15:21.490Z"
   },
   {
    "duration": 6,
    "start_time": "2021-08-03T09:16:57.455Z"
   },
   {
    "duration": 213,
    "start_time": "2021-08-03T09:16:58.914Z"
   },
   {
    "duration": 7,
    "start_time": "2021-08-03T09:20:33.397Z"
   },
   {
    "duration": 207,
    "start_time": "2021-08-03T09:20:34.472Z"
   },
   {
    "duration": 6,
    "start_time": "2021-08-03T09:21:03.340Z"
   },
   {
    "duration": 204,
    "start_time": "2021-08-03T09:21:04.878Z"
   },
   {
    "duration": 5,
    "start_time": "2021-08-03T09:21:24.738Z"
   },
   {
    "duration": 218,
    "start_time": "2021-08-03T09:21:29.196Z"
   },
   {
    "duration": 6,
    "start_time": "2021-08-03T09:22:56.199Z"
   },
   {
    "duration": 785,
    "start_time": "2021-08-03T09:22:57.122Z"
   },
   {
    "duration": 6,
    "start_time": "2021-08-03T09:23:29.619Z"
   },
   {
    "duration": 6890,
    "start_time": "2021-08-03T09:23:35.008Z"
   },
   {
    "duration": 6,
    "start_time": "2021-08-03T09:24:03.912Z"
   },
   {
    "duration": 201,
    "start_time": "2021-08-03T09:24:06.485Z"
   },
   {
    "duration": 6,
    "start_time": "2021-08-03T09:24:21.073Z"
   },
   {
    "duration": 206,
    "start_time": "2021-08-03T09:24:22.404Z"
   },
   {
    "duration": 6,
    "start_time": "2021-08-03T09:25:21.355Z"
   },
   {
    "duration": 196,
    "start_time": "2021-08-03T09:25:23.367Z"
   },
   {
    "duration": 9,
    "start_time": "2021-08-03T09:25:31.489Z"
   },
   {
    "duration": 230,
    "start_time": "2021-08-03T09:25:32.920Z"
   },
   {
    "duration": 6,
    "start_time": "2021-08-03T09:25:40.913Z"
   },
   {
    "duration": 220,
    "start_time": "2021-08-03T09:25:42.282Z"
   },
   {
    "duration": 6,
    "start_time": "2021-08-03T09:26:00.100Z"
   },
   {
    "duration": 208,
    "start_time": "2021-08-03T09:26:00.953Z"
   },
   {
    "duration": 5,
    "start_time": "2021-08-03T09:26:33.820Z"
   },
   {
    "duration": 209,
    "start_time": "2021-08-03T09:26:34.605Z"
   },
   {
    "duration": 6,
    "start_time": "2021-08-03T09:27:07.300Z"
   },
   {
    "duration": 191,
    "start_time": "2021-08-03T09:27:08.353Z"
   },
   {
    "duration": 196,
    "start_time": "2021-08-03T09:27:20.445Z"
   },
   {
    "duration": 6,
    "start_time": "2021-08-03T09:28:19.420Z"
   },
   {
    "duration": 206,
    "start_time": "2021-08-03T09:28:20.333Z"
   },
   {
    "duration": 6,
    "start_time": "2021-08-03T09:28:33.211Z"
   },
   {
    "duration": 397,
    "start_time": "2021-08-03T09:28:34.693Z"
   },
   {
    "duration": 6,
    "start_time": "2021-08-03T09:30:17.468Z"
   },
   {
    "duration": 195,
    "start_time": "2021-08-03T09:30:18.309Z"
   },
   {
    "duration": 6,
    "start_time": "2021-08-03T09:30:29.688Z"
   },
   {
    "duration": 199,
    "start_time": "2021-08-03T09:30:30.400Z"
   },
   {
    "duration": 6,
    "start_time": "2021-08-03T09:30:42.931Z"
   },
   {
    "duration": 214,
    "start_time": "2021-08-03T09:30:44.477Z"
   },
   {
    "duration": 192,
    "start_time": "2021-08-03T09:30:53.182Z"
   },
   {
    "duration": 16,
    "start_time": "2021-08-03T09:31:01.370Z"
   },
   {
    "duration": 272,
    "start_time": "2021-08-03T09:31:02.765Z"
   },
   {
    "duration": 212,
    "start_time": "2021-08-03T09:31:05.934Z"
   },
   {
    "duration": 200,
    "start_time": "2021-08-03T09:31:10.308Z"
   },
   {
    "duration": 16,
    "start_time": "2021-08-03T09:31:15.402Z"
   },
   {
    "duration": 249,
    "start_time": "2021-08-03T09:31:18.165Z"
   },
   {
    "duration": 206,
    "start_time": "2021-08-03T09:31:23.301Z"
   },
   {
    "duration": 205,
    "start_time": "2021-08-03T09:31:26.400Z"
   },
   {
    "duration": 26,
    "start_time": "2021-08-03T09:31:30.731Z"
   },
   {
    "duration": 340,
    "start_time": "2021-08-03T09:31:35.358Z"
   },
   {
    "duration": 322,
    "start_time": "2021-08-03T09:31:48.256Z"
   },
   {
    "duration": 22,
    "start_time": "2021-08-03T09:32:02.449Z"
   },
   {
    "duration": 9,
    "start_time": "2021-08-03T09:32:16.590Z"
   },
   {
    "duration": 22,
    "start_time": "2021-08-03T09:33:53.718Z"
   },
   {
    "duration": 22,
    "start_time": "2021-08-03T09:33:59.881Z"
   },
   {
    "duration": 9,
    "start_time": "2021-08-03T09:34:15.613Z"
   },
   {
    "duration": 9,
    "start_time": "2021-08-03T09:34:16.698Z"
   },
   {
    "duration": 7,
    "start_time": "2021-08-03T09:34:20.365Z"
   },
   {
    "duration": 11,
    "start_time": "2021-08-03T09:34:28.644Z"
   },
   {
    "duration": 9,
    "start_time": "2021-08-03T09:34:29.477Z"
   },
   {
    "duration": 8,
    "start_time": "2021-08-03T09:34:30.374Z"
   },
   {
    "duration": 1423,
    "start_time": "2021-08-03T09:35:14.600Z"
   },
   {
    "duration": 64,
    "start_time": "2021-08-03T09:35:17.703Z"
   },
   {
    "duration": 4,
    "start_time": "2021-08-03T09:35:21.334Z"
   },
   {
    "duration": 15,
    "start_time": "2021-08-03T09:35:22.096Z"
   },
   {
    "duration": 15,
    "start_time": "2021-08-03T09:35:25.969Z"
   },
   {
    "duration": 43,
    "start_time": "2021-08-03T09:35:29.746Z"
   },
   {
    "duration": 2301,
    "start_time": "2021-08-03T09:35:31.735Z"
   },
   {
    "duration": 9,
    "start_time": "2021-08-03T09:35:37.096Z"
   },
   {
    "duration": 24,
    "start_time": "2021-08-03T09:35:37.965Z"
   },
   {
    "duration": 7,
    "start_time": "2021-08-03T09:35:38.672Z"
   },
   {
    "duration": 19,
    "start_time": "2021-08-03T09:35:39.382Z"
   },
   {
    "duration": 9,
    "start_time": "2021-08-03T09:35:42.684Z"
   },
   {
    "duration": 5,
    "start_time": "2021-08-03T09:35:45.455Z"
   },
   {
    "duration": 32,
    "start_time": "2021-08-03T09:35:48.635Z"
   },
   {
    "duration": 6,
    "start_time": "2021-08-03T09:35:52.447Z"
   },
   {
    "duration": 7,
    "start_time": "2021-08-03T09:35:55.114Z"
   },
   {
    "duration": 5,
    "start_time": "2021-08-03T09:35:57.267Z"
   },
   {
    "duration": 9,
    "start_time": "2021-08-03T09:35:58.267Z"
   },
   {
    "duration": 11,
    "start_time": "2021-08-03T09:36:03.155Z"
   },
   {
    "duration": 85,
    "start_time": "2021-08-03T09:36:04.164Z"
   },
   {
    "duration": 9,
    "start_time": "2021-08-03T09:36:06.674Z"
   },
   {
    "duration": 22,
    "start_time": "2021-08-03T09:36:09.280Z"
   },
   {
    "duration": 321,
    "start_time": "2021-08-03T09:36:15.586Z"
   },
   {
    "duration": 528,
    "start_time": "2021-08-03T09:36:24.319Z"
   },
   {
    "duration": 9,
    "start_time": "2021-08-03T09:36:30.900Z"
   },
   {
    "duration": 1076,
    "start_time": "2021-08-03T09:39:26.601Z"
   },
   {
    "duration": 22,
    "start_time": "2021-08-03T09:47:26.839Z"
   },
   {
    "duration": 12,
    "start_time": "2021-08-03T09:47:30.689Z"
   },
   {
    "duration": 33,
    "start_time": "2021-08-03T09:47:50.500Z"
   },
   {
    "duration": 34,
    "start_time": "2021-08-03T09:47:55.332Z"
   },
   {
    "duration": 24,
    "start_time": "2021-08-03T09:48:05.044Z"
   },
   {
    "duration": 41,
    "start_time": "2021-08-03T09:48:14.004Z"
   },
   {
    "duration": 9,
    "start_time": "2021-08-03T09:48:33.474Z"
   },
   {
    "duration": 5,
    "start_time": "2021-08-03T09:48:35.172Z"
   },
   {
    "duration": 48,
    "start_time": "2021-08-03T09:48:37.174Z"
   },
   {
    "duration": 36,
    "start_time": "2021-08-03T09:50:29.563Z"
   },
   {
    "duration": 6,
    "start_time": "2021-08-03T09:50:31.010Z"
   },
   {
    "duration": 2681,
    "start_time": "2021-08-03T09:50:33.083Z"
   },
   {
    "duration": 437,
    "start_time": "2021-08-03T09:55:49.869Z"
   },
   {
    "duration": 20,
    "start_time": "2021-08-03T09:55:57.598Z"
   },
   {
    "duration": 2247,
    "start_time": "2021-08-03T09:58:13.719Z"
   },
   {
    "duration": 507,
    "start_time": "2021-08-03T09:58:18.997Z"
   },
   {
    "duration": 10,
    "start_time": "2021-08-03T10:06:29.136Z"
   },
   {
    "duration": 557,
    "start_time": "2021-08-03T10:12:46.188Z"
   },
   {
    "duration": 649,
    "start_time": "2021-08-03T10:13:01.835Z"
   },
   {
    "duration": 534,
    "start_time": "2021-08-03T10:13:21.048Z"
   },
   {
    "duration": 32,
    "start_time": "2021-08-03T10:18:34.622Z"
   },
   {
    "duration": 1901,
    "start_time": "2021-08-03T10:18:40.410Z"
   },
   {
    "duration": 1890,
    "start_time": "2021-08-03T10:18:55.864Z"
   },
   {
    "duration": 14,
    "start_time": "2021-08-03T10:19:01.704Z"
   },
   {
    "duration": 13,
    "start_time": "2021-08-03T10:20:51.578Z"
   },
   {
    "duration": 15,
    "start_time": "2021-08-03T10:20:52.515Z"
   },
   {
    "duration": 370,
    "start_time": "2021-08-03T10:21:06.396Z"
   },
   {
    "duration": 19,
    "start_time": "2021-08-03T10:21:17.455Z"
   },
   {
    "duration": 779,
    "start_time": "2021-08-03T10:21:23.868Z"
   },
   {
    "duration": 16,
    "start_time": "2021-08-03T10:33:00.491Z"
   },
   {
    "duration": 256,
    "start_time": "2021-08-03T10:33:02.562Z"
   },
   {
    "duration": 5,
    "start_time": "2021-08-03T10:33:06.411Z"
   },
   {
    "duration": 203,
    "start_time": "2021-08-03T10:33:08.259Z"
   },
   {
    "duration": 194,
    "start_time": "2021-08-03T10:33:11.522Z"
   },
   {
    "duration": 16,
    "start_time": "2021-08-03T10:37:12.153Z"
   },
   {
    "duration": 259,
    "start_time": "2021-08-03T10:37:15.988Z"
   },
   {
    "duration": 199,
    "start_time": "2021-08-03T10:37:21.316Z"
   },
   {
    "duration": 196,
    "start_time": "2021-08-03T10:37:27.631Z"
   },
   {
    "duration": 16,
    "start_time": "2021-08-03T10:40:39.366Z"
   },
   {
    "duration": 252,
    "start_time": "2021-08-03T10:40:42.190Z"
   },
   {
    "duration": 221,
    "start_time": "2021-08-03T10:40:53.198Z"
   },
   {
    "duration": 197,
    "start_time": "2021-08-03T10:40:56.019Z"
   },
   {
    "duration": 26,
    "start_time": "2021-08-03T10:43:26.526Z"
   },
   {
    "duration": 339,
    "start_time": "2021-08-03T10:43:29.191Z"
   },
   {
    "duration": 330,
    "start_time": "2021-08-03T10:43:45.575Z"
   },
   {
    "duration": 22,
    "start_time": "2021-08-03T10:46:34.621Z"
   },
   {
    "duration": 6,
    "start_time": "2021-08-03T10:52:58.476Z"
   },
   {
    "duration": 24,
    "start_time": "2021-08-03T10:53:01.363Z"
   },
   {
    "duration": 23,
    "start_time": "2021-08-03T10:53:05.781Z"
   },
   {
    "duration": 9,
    "start_time": "2021-08-03T10:53:08.645Z"
   },
   {
    "duration": 8,
    "start_time": "2021-08-03T10:53:10.177Z"
   },
   {
    "duration": 8,
    "start_time": "2021-08-03T10:53:13.296Z"
   },
   {
    "duration": 6,
    "start_time": "2021-08-03T10:57:13.501Z"
   },
   {
    "duration": 11,
    "start_time": "2021-08-03T11:01:41.765Z"
   },
   {
    "duration": 9,
    "start_time": "2021-08-03T11:01:43.514Z"
   },
   {
    "duration": 7,
    "start_time": "2021-08-03T11:02:15.862Z"
   },
   {
    "duration": 8,
    "start_time": "2021-08-03T11:11:15.222Z"
   },
   {
    "duration": 8,
    "start_time": "2021-08-03T11:12:15.551Z"
   },
   {
    "duration": 1364,
    "start_time": "2021-08-03T11:16:24.180Z"
   },
   {
    "duration": 59,
    "start_time": "2021-08-03T11:16:26.660Z"
   },
   {
    "duration": 4,
    "start_time": "2021-08-03T11:16:30.367Z"
   },
   {
    "duration": 15,
    "start_time": "2021-08-03T11:16:31.593Z"
   },
   {
    "duration": 19,
    "start_time": "2021-08-03T11:16:35.031Z"
   },
   {
    "duration": 40,
    "start_time": "2021-08-03T11:16:38.162Z"
   },
   {
    "duration": 2328,
    "start_time": "2021-08-03T11:16:40.165Z"
   },
   {
    "duration": 8,
    "start_time": "2021-08-03T11:16:45.847Z"
   },
   {
    "duration": 29,
    "start_time": "2021-08-03T11:16:46.618Z"
   },
   {
    "duration": 7,
    "start_time": "2021-08-03T11:16:47.348Z"
   },
   {
    "duration": 20,
    "start_time": "2021-08-03T11:16:49.101Z"
   },
   {
    "duration": 9,
    "start_time": "2021-08-03T11:16:51.952Z"
   },
   {
    "duration": 5,
    "start_time": "2021-08-03T11:16:54.722Z"
   },
   {
    "duration": 33,
    "start_time": "2021-08-03T11:16:57.874Z"
   },
   {
    "duration": 6,
    "start_time": "2021-08-03T11:17:00.839Z"
   },
   {
    "duration": 7,
    "start_time": "2021-08-03T11:17:04.368Z"
   },
   {
    "duration": 5,
    "start_time": "2021-08-03T11:17:05.146Z"
   },
   {
    "duration": 13,
    "start_time": "2021-08-03T11:17:05.822Z"
   },
   {
    "duration": 12,
    "start_time": "2021-08-03T11:17:08.954Z"
   },
   {
    "duration": 10,
    "start_time": "2021-08-03T11:17:09.881Z"
   },
   {
    "duration": 88,
    "start_time": "2021-08-03T11:17:13.205Z"
   },
   {
    "duration": 23,
    "start_time": "2021-08-03T11:17:15.747Z"
   },
   {
    "duration": 310,
    "start_time": "2021-08-03T11:17:19.659Z"
   },
   {
    "duration": 545,
    "start_time": "2021-08-03T11:17:23.876Z"
   },
   {
    "duration": 10,
    "start_time": "2021-08-03T11:17:27.645Z"
   },
   {
    "duration": 1252,
    "start_time": "2021-08-03T11:17:31.506Z"
   },
   {
    "duration": 20,
    "start_time": "2021-08-03T11:17:37.242Z"
   },
   {
    "duration": 12,
    "start_time": "2021-08-03T11:17:41.105Z"
   },
   {
    "duration": 32,
    "start_time": "2021-08-03T11:17:51.404Z"
   },
   {
    "duration": 34,
    "start_time": "2021-08-03T11:17:54.255Z"
   },
   {
    "duration": 19,
    "start_time": "2021-08-03T11:18:06.853Z"
   },
   {
    "duration": 34,
    "start_time": "2021-08-03T11:18:22.228Z"
   },
   {
    "duration": 9,
    "start_time": "2021-08-03T11:18:34.355Z"
   },
   {
    "duration": 5,
    "start_time": "2021-08-03T11:18:35.377Z"
   },
   {
    "duration": 50,
    "start_time": "2021-08-03T11:18:36.390Z"
   },
   {
    "duration": 41,
    "start_time": "2021-08-03T11:18:41.427Z"
   },
   {
    "duration": 6,
    "start_time": "2021-08-03T11:18:44.901Z"
   },
   {
    "duration": 2769,
    "start_time": "2021-08-03T11:18:45.709Z"
   },
   {
    "duration": 425,
    "start_time": "2021-08-03T11:18:52.867Z"
   },
   {
    "duration": 22,
    "start_time": "2021-08-03T11:18:57.428Z"
   },
   {
    "duration": 2237,
    "start_time": "2021-08-03T11:19:03.602Z"
   },
   {
    "duration": 476,
    "start_time": "2021-08-03T11:19:09.006Z"
   },
   {
    "duration": 473,
    "start_time": "2021-08-03T11:20:59.000Z"
   },
   {
    "duration": 10,
    "start_time": "2021-08-03T11:21:47.810Z"
   },
   {
    "duration": 36,
    "start_time": "2021-08-03T11:21:51.808Z"
   },
   {
    "duration": 2084,
    "start_time": "2021-08-03T11:21:54.959Z"
   },
   {
    "duration": 1891,
    "start_time": "2021-08-03T11:22:02.655Z"
   },
   {
    "duration": 15,
    "start_time": "2021-08-03T11:22:07.718Z"
   },
   {
    "duration": 13,
    "start_time": "2021-08-03T11:22:14.534Z"
   },
   {
    "duration": 17,
    "start_time": "2021-08-03T11:22:16.978Z"
   },
   {
    "duration": 369,
    "start_time": "2021-08-03T11:23:36.601Z"
   },
   {
    "duration": 19,
    "start_time": "2021-08-03T11:23:40.548Z"
   },
   {
    "duration": 662,
    "start_time": "2021-08-03T11:23:43.262Z"
   },
   {
    "duration": 15,
    "start_time": "2021-08-03T11:24:47.792Z"
   },
   {
    "duration": 248,
    "start_time": "2021-08-03T11:24:50.200Z"
   },
   {
    "duration": 6,
    "start_time": "2021-08-03T11:24:53.727Z"
   },
   {
    "duration": 198,
    "start_time": "2021-08-03T11:24:56.071Z"
   },
   {
    "duration": 197,
    "start_time": "2021-08-03T11:24:59.764Z"
   },
   {
    "duration": 16,
    "start_time": "2021-08-03T11:25:08.182Z"
   },
   {
    "duration": 367,
    "start_time": "2021-08-03T11:25:09.621Z"
   },
   {
    "duration": 203,
    "start_time": "2021-08-03T11:25:12.716Z"
   },
   {
    "duration": 196,
    "start_time": "2021-08-03T11:25:16.754Z"
   },
   {
    "duration": 16,
    "start_time": "2021-08-03T11:25:22.444Z"
   },
   {
    "duration": 245,
    "start_time": "2021-08-03T11:25:27.007Z"
   },
   {
    "duration": 201,
    "start_time": "2021-08-03T11:25:29.402Z"
   },
   {
    "duration": 198,
    "start_time": "2021-08-03T11:25:33.399Z"
   },
   {
    "duration": 26,
    "start_time": "2021-08-03T11:25:38.141Z"
   },
   {
    "duration": 334,
    "start_time": "2021-08-03T11:25:40.952Z"
   },
   {
    "duration": 320,
    "start_time": "2021-08-03T11:25:44.851Z"
   },
   {
    "duration": 22,
    "start_time": "2021-08-03T11:25:47.934Z"
   },
   {
    "duration": 6,
    "start_time": "2021-08-03T11:25:51.394Z"
   },
   {
    "duration": 24,
    "start_time": "2021-08-03T11:25:53.033Z"
   },
   {
    "duration": 22,
    "start_time": "2021-08-03T11:25:55.733Z"
   },
   {
    "duration": 9,
    "start_time": "2021-08-03T11:25:57.105Z"
   },
   {
    "duration": 9,
    "start_time": "2021-08-03T11:26:00.646Z"
   },
   {
    "duration": 7,
    "start_time": "2021-08-03T11:26:03.203Z"
   },
   {
    "duration": 11,
    "start_time": "2021-08-03T11:26:30.011Z"
   },
   {
    "duration": 8,
    "start_time": "2021-08-03T11:26:30.973Z"
   },
   {
    "duration": 7,
    "start_time": "2021-08-03T11:26:32.990Z"
   }
  ],
  "kernelspec": {
   "display_name": "Python 3 (ipykernel)",
   "language": "python",
   "name": "python3"
  },
  "language_info": {
   "codemirror_mode": {
    "name": "ipython",
    "version": 3
   },
   "file_extension": ".py",
   "mimetype": "text/x-python",
   "name": "python",
   "nbconvert_exporter": "python",
   "pygments_lexer": "ipython3",
   "version": "3.9.7"
  },
  "toc": {
   "base_numbering": 1,
   "nav_menu": {},
   "number_sections": true,
   "sideBar": true,
   "skip_h1_title": true,
   "title_cell": "Table of Contents",
   "title_sidebar": "Contents",
   "toc_cell": false,
   "toc_position": {},
   "toc_section_display": true,
   "toc_window_display": true
  }
 },
 "nbformat": 4,
 "nbformat_minor": 2
}
