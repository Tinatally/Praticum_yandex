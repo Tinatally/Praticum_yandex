{
 "cells": [
  {
   "cell_type": "markdown",
   "metadata": {},
   "source": [
    "Hello, Valentina! Nice to see you again! :) \n",
    "    \n",
    "My name is Olga. I'm happy to reviewing your project today.\n",
    "\n",
    "You can find my comments in green, yellow or red boxes like this:\n",
    "\n",
    "\n",
    "<div class=\"alert alert-block alert-success\">\n",
    "<b>Reviewer's comment</b> <a class=\"tocSkip\"></a>\n",
    "    \n",
    "Success. Everything is done succesfully.\n",
    "</div>\n",
    "\n",
    "\n",
    "<div class=\"alert alert-block alert-warning\">\n",
    "<b>Reviewer's comment</b> <a class=\"tocSkip\"></a>\n",
    "    \n",
    "Remarks. Some recommendations.\n",
    "</div>\n",
    "\n",
    "\n",
    "<div class=\"alert alert-block alert-danger\">\n",
    "    \n",
    "<b>Reviewer's comment</b> <a class=\"tocSkip\"></a>\n",
    "    \n",
    "    \n",
    "Needs fixing. The block requires some corrections. Work can't be accepted with the red comments.\n",
    "</div>\n",
    "\n",
    "<b>Please don't remove my comments :)</b>\n",
    "\n",
    "You can answer me by using this: \n",
    "\n",
    "<div class=\"alert alert-block alert-info\">\n",
    "<b>Student answer.</b> <a class=\"tocSkip\"></a>\n",
    "</div>"
   ]
  },
  {
   "cell_type": "markdown",
   "metadata": {},
   "source": [
    "<div class=\"alert alert-block alert-success\">\n",
    "<b>Overallv reviewer's comment</b> <a class=\"tocSkip\"></a>\n",
    "    \n",
    "Valentina, thank you for sending your project. Your project looks great! You did such a good job!\n",
    "       \n",
    "I especially liked the syntax and code style of your work. It was very detailed and laconic at the same time. Thank you for your conclusions. Excellent!\n",
    "    \n",
    "Glad to say that your project has been passed code review.\n",
    "       \n",
    "If you have any questions, please, send them. If not, just resend me a project and I accept it. :)\n",
    "    \n",
    "  \n",
    "</div>"
   ]
  },
  {
   "cell_type": "markdown",
   "metadata": {},
   "source": [
    "<div class=\"alert alert-block alert-success\">\n",
    "<b>Overallv reviewer's comment</b> <a class=\"tocSkip\"></a>\n",
    "    \n",
    "I'm glad to say that your project has been accepted.\n",
    "    \n",
    "Keep up the good work, and good luck on the next sprint! :)\n",
    "</div>"
   ]
  },
  {
   "cell_type": "markdown",
   "metadata": {},
   "source": [
    "# Project Description\n",
    "\n",
    "As an analyst working with Zuber a ride a new ride-sharing company that's launching in Chicago. Management wants to know if some pattern exist between the various information made available to better understand passenger preferences."
   ]
  },
  {
   "cell_type": "markdown",
   "metadata": {},
   "source": [
    "# Business Goal\n",
    "\n",
    "Analysis the data given to help management better understand passengers preference through projects recommedations. This include:\n",
    "1. Studying the file.\n",
    "2. Identify the top 10 neighborhoods in terms of drop-offs.\n",
    "3. Graphs on taxi companies and number of rides, top 10 neighborhoods by number of dropoffs.\n",
    "4. Hypothesis test on whether; The average duration of rides from the Loop to O'Hare International Airport changes on rainy Saturdays."
   ]
  },
  {
   "cell_type": "markdown",
   "metadata": {},
   "source": [
    "<div class=\"alert alert-block alert-success\">\n",
    "<b>Reviewer's comment</b> <a class=\"tocSkip\"></a>\n",
    "    \n",
    "Great start! We have an introduction and goal. It help us to understand the project.\n",
    "</div>"
   ]
  },
  {
   "cell_type": "code",
   "execution_count": 1,
   "metadata": {},
   "outputs": [],
   "source": [
    "import pandas as pd\n",
    "import matplotlib as mpl\n",
    "%matplotlib inline\n",
    "import matplotlib.pyplot as plt\n",
    "from scipy import stats as st\n",
    "mpl.style.use(['ggplot'])"
   ]
  },
  {
   "cell_type": "code",
   "execution_count": 2,
   "metadata": {},
   "outputs": [],
   "source": [
    "try:\n",
    "    trip_name = pd.read_csv('https://code.s3.yandex.net/learning-materials/data-analyst-eng/project_sql_result_01.csv')\n",
    "    avg_dropoff = pd.read_csv('https://code.s3.yandex.net/learning-materials/data-analyst-eng/project_sql_result_04.csv')\n",
    "except:\n",
    "    trip_name = pd.read_csv('/datasets/project_sql_result_01.csv')\n",
    "    avg_dropoff = pd.read_csv('/datasets/project_sql_result_04.csv')\n"
   ]
  },
  {
   "cell_type": "markdown",
   "metadata": {},
   "source": [
    "<div class=\"alert alert-block alert-success\">\n",
    "<b>Reviewer's comment</b> <a class=\"tocSkip\"></a>\n",
    "    \n",
    "Thank you for try/except. It is a great decision. Import libraries at the beginning help us to set up working environment. Very good!\n",
    "</div>"
   ]
  },
  {
   "cell_type": "code",
   "execution_count": 3,
   "metadata": {},
   "outputs": [],
   "source": [
    "mas_cab = {'trip_name':trip_name,'avg_dropoff':avg_dropoff}"
   ]
  },
  {
   "cell_type": "code",
   "execution_count": 4,
   "metadata": {},
   "outputs": [
    {
     "name": "stdout",
     "output_type": "stream",
     "text": [
      "\n",
      "<class 'pandas.core.frame.DataFrame'>\n",
      "RangeIndex: 64 entries, 0 to 63\n",
      "Data columns (total 2 columns):\n",
      "company_name    64 non-null object\n",
      "trips_amount    64 non-null int64\n",
      "dtypes: int64(1), object(1)\n",
      "memory usage: 1.1+ KB\n",
      "\n",
      "<class 'pandas.core.frame.DataFrame'>\n",
      "RangeIndex: 94 entries, 0 to 93\n",
      "Data columns (total 2 columns):\n",
      "dropoff_location_name    94 non-null object\n",
      "average_trips            94 non-null float64\n",
      "dtypes: float64(1), object(1)\n",
      "memory usage: 1.6+ KB\n"
     ]
    }
   ],
   "source": [
    "for name,df in mas_cab.items():\n",
    "    f'{name}'\n",
    "    print()\n",
    "    df.info();"
   ]
  },
  {
   "cell_type": "code",
   "execution_count": 5,
   "metadata": {},
   "outputs": [],
   "source": [
    "def missing_values(df):\n",
    "    \"\"\" takes the dataframe and check for any missing values and calculate its' ratio\"\"\"\n",
    "    df_nulls=pd.concat([df.dtypes, df.isna().sum(), df.isna().sum()/len(df)], axis=1)\n",
    "    df_nulls.columns = [\"type\",\"count\",\"missing_ratio\"]\n",
    "    df_nulls=df_nulls[df_nulls[\"count\"]>0]\n",
    "    df_nulls.sort_values(by=\"missing_ratio\", ascending=False)\n",
    "    return df_nulls"
   ]
  },
  {
   "cell_type": "code",
   "execution_count": 6,
   "metadata": {},
   "outputs": [
    {
     "data": {
      "text/html": [
       "<div>\n",
       "<style scoped>\n",
       "    .dataframe tbody tr th:only-of-type {\n",
       "        vertical-align: middle;\n",
       "    }\n",
       "\n",
       "    .dataframe tbody tr th {\n",
       "        vertical-align: top;\n",
       "    }\n",
       "\n",
       "    .dataframe thead th {\n",
       "        text-align: right;\n",
       "    }\n",
       "</style>\n",
       "<table border=\"1\" class=\"dataframe\">\n",
       "  <thead>\n",
       "    <tr style=\"text-align: right;\">\n",
       "      <th></th>\n",
       "      <th>type</th>\n",
       "      <th>count</th>\n",
       "      <th>missing_ratio</th>\n",
       "    </tr>\n",
       "  </thead>\n",
       "  <tbody>\n",
       "  </tbody>\n",
       "</table>\n",
       "</div>"
      ],
      "text/plain": [
       "Empty DataFrame\n",
       "Columns: [type, count, missing_ratio]\n",
       "Index: []"
      ]
     },
     "execution_count": 6,
     "metadata": {},
     "output_type": "execute_result"
    }
   ],
   "source": [
    "missing_values(trip_name)"
   ]
  },
  {
   "cell_type": "code",
   "execution_count": 7,
   "metadata": {},
   "outputs": [
    {
     "data": {
      "text/html": [
       "<div>\n",
       "<style scoped>\n",
       "    .dataframe tbody tr th:only-of-type {\n",
       "        vertical-align: middle;\n",
       "    }\n",
       "\n",
       "    .dataframe tbody tr th {\n",
       "        vertical-align: top;\n",
       "    }\n",
       "\n",
       "    .dataframe thead th {\n",
       "        text-align: right;\n",
       "    }\n",
       "</style>\n",
       "<table border=\"1\" class=\"dataframe\">\n",
       "  <thead>\n",
       "    <tr style=\"text-align: right;\">\n",
       "      <th></th>\n",
       "      <th>type</th>\n",
       "      <th>count</th>\n",
       "      <th>missing_ratio</th>\n",
       "    </tr>\n",
       "  </thead>\n",
       "  <tbody>\n",
       "  </tbody>\n",
       "</table>\n",
       "</div>"
      ],
      "text/plain": [
       "Empty DataFrame\n",
       "Columns: [type, count, missing_ratio]\n",
       "Index: []"
      ]
     },
     "execution_count": 7,
     "metadata": {},
     "output_type": "execute_result"
    }
   ],
   "source": [
    "missing_values(avg_dropoff)"
   ]
  },
  {
   "cell_type": "code",
   "execution_count": 8,
   "metadata": {},
   "outputs": [
    {
     "data": {
      "text/plain": [
       "0"
      ]
     },
     "execution_count": 8,
     "metadata": {},
     "output_type": "execute_result"
    }
   ],
   "source": [
    "trip_name.duplicated().sum()"
   ]
  },
  {
   "cell_type": "code",
   "execution_count": 9,
   "metadata": {},
   "outputs": [
    {
     "data": {
      "text/plain": [
       "0"
      ]
     },
     "execution_count": 9,
     "metadata": {},
     "output_type": "execute_result"
    }
   ],
   "source": [
    "avg_dropoff.duplicated().sum()"
   ]
  },
  {
   "cell_type": "markdown",
   "metadata": {},
   "source": [
    "## Conclusion\n",
    "The datasets includes trip_name(company name and the number of trips made) and  avg_dropoff(drop off locations and number of trips made). There are no missing or duplicated enteries in the datasets."
   ]
  },
  {
   "cell_type": "markdown",
   "metadata": {},
   "source": [
    "<div class=\"alert alert-block alert-success\">\n",
    "<b>Reviewer's comment</b> <a class=\"tocSkip\"></a>\n",
    "    \n",
    "Great! We checked our data and sure that they are good.\n",
    "</div>"
   ]
  },
  {
   "cell_type": "markdown",
   "metadata": {},
   "source": [
    "## The top 10 neighborhoods in terms of drop-offs"
   ]
  },
  {
   "cell_type": "code",
   "execution_count": 10,
   "metadata": {},
   "outputs": [
    {
     "data": {
      "text/html": [
       "<div>\n",
       "<style scoped>\n",
       "    .dataframe tbody tr th:only-of-type {\n",
       "        vertical-align: middle;\n",
       "    }\n",
       "\n",
       "    .dataframe tbody tr th {\n",
       "        vertical-align: top;\n",
       "    }\n",
       "\n",
       "    .dataframe thead th {\n",
       "        text-align: right;\n",
       "    }\n",
       "</style>\n",
       "<table border=\"1\" class=\"dataframe\">\n",
       "  <thead>\n",
       "    <tr style=\"text-align: right;\">\n",
       "      <th></th>\n",
       "      <th>average_trips</th>\n",
       "    </tr>\n",
       "    <tr>\n",
       "      <th>dropoff_location_name</th>\n",
       "      <th></th>\n",
       "    </tr>\n",
       "  </thead>\n",
       "  <tbody>\n",
       "    <tr>\n",
       "      <td>Loop</td>\n",
       "      <td>10727.466667</td>\n",
       "    </tr>\n",
       "    <tr>\n",
       "      <td>River North</td>\n",
       "      <td>9523.666667</td>\n",
       "    </tr>\n",
       "    <tr>\n",
       "      <td>Streeterville</td>\n",
       "      <td>6664.666667</td>\n",
       "    </tr>\n",
       "    <tr>\n",
       "      <td>West Loop</td>\n",
       "      <td>5163.666667</td>\n",
       "    </tr>\n",
       "    <tr>\n",
       "      <td>O'Hare</td>\n",
       "      <td>2546.900000</td>\n",
       "    </tr>\n",
       "    <tr>\n",
       "      <td>Lake View</td>\n",
       "      <td>2420.966667</td>\n",
       "    </tr>\n",
       "    <tr>\n",
       "      <td>Grant Park</td>\n",
       "      <td>2068.533333</td>\n",
       "    </tr>\n",
       "    <tr>\n",
       "      <td>Museum Campus</td>\n",
       "      <td>1510.000000</td>\n",
       "    </tr>\n",
       "    <tr>\n",
       "      <td>Gold Coast</td>\n",
       "      <td>1364.233333</td>\n",
       "    </tr>\n",
       "    <tr>\n",
       "      <td>Sheffield &amp; DePaul</td>\n",
       "      <td>1259.766667</td>\n",
       "    </tr>\n",
       "  </tbody>\n",
       "</table>\n",
       "</div>"
      ],
      "text/plain": [
       "                       average_trips\n",
       "dropoff_location_name               \n",
       "Loop                    10727.466667\n",
       "River North              9523.666667\n",
       "Streeterville            6664.666667\n",
       "West Loop                5163.666667\n",
       "O'Hare                   2546.900000\n",
       "Lake View                2420.966667\n",
       "Grant Park               2068.533333\n",
       "Museum Campus            1510.000000\n",
       "Gold Coast               1364.233333\n",
       "Sheffield & DePaul       1259.766667"
      ]
     },
     "execution_count": 10,
     "metadata": {},
     "output_type": "execute_result"
    }
   ],
   "source": [
    "top_10_dropoff_loc= avg_dropoff.groupby('dropoff_location_name').sum().sort_values('average_trips',ascending=False).head(10)\n",
    "top_10_dropoff_loc"
   ]
  },
  {
   "cell_type": "code",
   "execution_count": 11,
   "metadata": {},
   "outputs": [
    {
     "data": {
      "image/png": "[encoded data removed]",
      "text/plain": [
       "<Figure size 648x432 with 1 Axes>"
      ]
     },
     "metadata": {},
     "output_type": "display_data"
    }
   ],
   "source": [
    "top_10_dropoff_loc.plot(kind='line',figsize=(9,6),title= 'Top 10 dropoff locations by Average number of trips')\n",
    "plt.xlabel('Dropoff locations')\n",
    "plt.ylabel('Average trips')\n",
    "plt.title('Top 10 dropoff locations by Average number of trips')\n",
    "plt.xticks(rotation =90)\n",
    "plt.show();"
   ]
  },
  {
   "cell_type": "markdown",
   "metadata": {},
   "source": [
    "## Conclusion\n",
    "The highest drop off location is Loop followed by River North."
   ]
  },
  {
   "cell_type": "markdown",
   "metadata": {},
   "source": [
    "<div class=\"alert alert-block alert-success\">\n",
    "<b>Reviewer's comment.</b> <a class=\"tocSkip\"></a>\n",
    "    \n",
    "Good idea to useline plot! :) \n",
    "</div>"
   ]
  },
  {
   "cell_type": "markdown",
   "metadata": {},
   "source": [
    "## Make graphs: taxi companies and number of rides, top 10 neighborhoods by number of dropoffs"
   ]
  },
  {
   "cell_type": "code",
   "execution_count": 12,
   "metadata": {},
   "outputs": [
    {
     "data": {
      "text/html": [
       "<div>\n",
       "<style scoped>\n",
       "    .dataframe tbody tr th:only-of-type {\n",
       "        vertical-align: middle;\n",
       "    }\n",
       "\n",
       "    .dataframe tbody tr th {\n",
       "        vertical-align: top;\n",
       "    }\n",
       "\n",
       "    .dataframe thead th {\n",
       "        text-align: right;\n",
       "    }\n",
       "</style>\n",
       "<table border=\"1\" class=\"dataframe\">\n",
       "  <thead>\n",
       "    <tr style=\"text-align: right;\">\n",
       "      <th></th>\n",
       "      <th>trips_amount</th>\n",
       "    </tr>\n",
       "    <tr>\n",
       "      <th>company_name</th>\n",
       "      <th></th>\n",
       "    </tr>\n",
       "  </thead>\n",
       "  <tbody>\n",
       "    <tr>\n",
       "      <td>Flash Cab</td>\n",
       "      <td>19558</td>\n",
       "    </tr>\n",
       "    <tr>\n",
       "      <td>Taxi Affiliation Services</td>\n",
       "      <td>11422</td>\n",
       "    </tr>\n",
       "    <tr>\n",
       "      <td>Medallion Leasin</td>\n",
       "      <td>10367</td>\n",
       "    </tr>\n",
       "    <tr>\n",
       "      <td>Yellow Cab</td>\n",
       "      <td>9888</td>\n",
       "    </tr>\n",
       "    <tr>\n",
       "      <td>Taxi Affiliation Service Yellow</td>\n",
       "      <td>9299</td>\n",
       "    </tr>\n",
       "    <tr>\n",
       "      <td>...</td>\n",
       "      <td>...</td>\n",
       "    </tr>\n",
       "    <tr>\n",
       "      <td>4053 - 40193 Adwar H. Nikola</td>\n",
       "      <td>7</td>\n",
       "    </tr>\n",
       "    <tr>\n",
       "      <td>2733 - 74600 Benny Jona</td>\n",
       "      <td>7</td>\n",
       "    </tr>\n",
       "    <tr>\n",
       "      <td>5874 - 73628 Sergey Cab Corp.</td>\n",
       "      <td>5</td>\n",
       "    </tr>\n",
       "    <tr>\n",
       "      <td>2241 - 44667 - Felman Corp, Manuel Alonso</td>\n",
       "      <td>3</td>\n",
       "    </tr>\n",
       "    <tr>\n",
       "      <td>3556 - 36214 RC Andrews Cab</td>\n",
       "      <td>2</td>\n",
       "    </tr>\n",
       "  </tbody>\n",
       "</table>\n",
       "<p>64 rows × 1 columns</p>\n",
       "</div>"
      ],
      "text/plain": [
       "                                           trips_amount\n",
       "company_name                                           \n",
       "Flash Cab                                         19558\n",
       "Taxi Affiliation Services                         11422\n",
       "Medallion Leasin                                  10367\n",
       "Yellow Cab                                         9888\n",
       "Taxi Affiliation Service Yellow                    9299\n",
       "...                                                 ...\n",
       "4053 - 40193 Adwar H. Nikola                          7\n",
       "2733 - 74600 Benny Jona                               7\n",
       "5874 - 73628 Sergey Cab Corp.                         5\n",
       "2241 - 44667 - Felman Corp, Manuel Alonso             3\n",
       "3556 - 36214 RC Andrews Cab                           2\n",
       "\n",
       "[64 rows x 1 columns]"
      ]
     },
     "execution_count": 12,
     "metadata": {},
     "output_type": "execute_result"
    }
   ],
   "source": [
    "trip_name.groupby('company_name').sum().sort_values('trips_amount',ascending=False)"
   ]
  },
  {
   "cell_type": "markdown",
   "metadata": {},
   "source": [
    "Grouped trip_name by company_name and sorted the data by trips_amount to determine the in descending order the company name and total number of trips made."
   ]
  },
  {
   "cell_type": "code",
   "execution_count": 13,
   "metadata": {},
   "outputs": [
    {
     "data": {
      "text/html": [
       "<div>\n",
       "<style scoped>\n",
       "    .dataframe tbody tr th:only-of-type {\n",
       "        vertical-align: middle;\n",
       "    }\n",
       "\n",
       "    .dataframe tbody tr th {\n",
       "        vertical-align: top;\n",
       "    }\n",
       "\n",
       "    .dataframe thead th {\n",
       "        text-align: right;\n",
       "    }\n",
       "</style>\n",
       "<table border=\"1\" class=\"dataframe\">\n",
       "  <thead>\n",
       "    <tr style=\"text-align: right;\">\n",
       "      <th></th>\n",
       "      <th>trips_amount</th>\n",
       "    </tr>\n",
       "    <tr>\n",
       "      <th>company_name</th>\n",
       "      <th></th>\n",
       "    </tr>\n",
       "  </thead>\n",
       "  <tbody>\n",
       "    <tr>\n",
       "      <td>Flash Cab</td>\n",
       "      <td>19558</td>\n",
       "    </tr>\n",
       "    <tr>\n",
       "      <td>Taxi Affiliation Services</td>\n",
       "      <td>11422</td>\n",
       "    </tr>\n",
       "    <tr>\n",
       "      <td>Medallion Leasin</td>\n",
       "      <td>10367</td>\n",
       "    </tr>\n",
       "    <tr>\n",
       "      <td>Yellow Cab</td>\n",
       "      <td>9888</td>\n",
       "    </tr>\n",
       "    <tr>\n",
       "      <td>Taxi Affiliation Service Yellow</td>\n",
       "      <td>9299</td>\n",
       "    </tr>\n",
       "    <tr>\n",
       "      <td>Chicago Carriage Cab Corp</td>\n",
       "      <td>9181</td>\n",
       "    </tr>\n",
       "    <tr>\n",
       "      <td>City Service</td>\n",
       "      <td>8448</td>\n",
       "    </tr>\n",
       "    <tr>\n",
       "      <td>Sun Taxi</td>\n",
       "      <td>7701</td>\n",
       "    </tr>\n",
       "    <tr>\n",
       "      <td>Star North Management LLC</td>\n",
       "      <td>7455</td>\n",
       "    </tr>\n",
       "    <tr>\n",
       "      <td>Blue Ribbon Taxi Association Inc.</td>\n",
       "      <td>5953</td>\n",
       "    </tr>\n",
       "  </tbody>\n",
       "</table>\n",
       "</div>"
      ],
      "text/plain": [
       "                                   trips_amount\n",
       "company_name                                   \n",
       "Flash Cab                                 19558\n",
       "Taxi Affiliation Services                 11422\n",
       "Medallion Leasin                          10367\n",
       "Yellow Cab                                 9888\n",
       "Taxi Affiliation Service Yellow            9299\n",
       "Chicago Carriage Cab Corp                  9181\n",
       "City Service                               8448\n",
       "Sun Taxi                                   7701\n",
       "Star North Management LLC                  7455\n",
       "Blue Ribbon Taxi Association Inc.          5953"
      ]
     },
     "execution_count": 13,
     "metadata": {},
     "output_type": "execute_result"
    }
   ],
   "source": [
    "top_10_name = trip_name.groupby('company_name').sum().sort_values('trips_amount',ascending=False).head(10)\n",
    "top_10_name"
   ]
  },
  {
   "cell_type": "code",
   "execution_count": 14,
   "metadata": {},
   "outputs": [
    {
     "data": {
      "image/png": "[encoded data removed]",
      "text/plain": [
       "<Figure size 648x504 with 1 Axes>"
      ]
     },
     "metadata": {},
     "output_type": "display_data"
    }
   ],
   "source": [
    "top_10_name.plot(kind='bar',figsize=(9,7),title= \"Top 10 Taxi companies by Total number of rides\")\n",
    "plt.xlabel('Company Name')\n",
    "plt.ylabel('Total rides')\n",
    "\n",
    "plt.show();"
   ]
  },
  {
   "cell_type": "markdown",
   "metadata": {},
   "source": [
    "<div class=\"alert alert-block alert-success\">\n",
    "<b>Reviewer's comment</b> <a class=\"tocSkip\"></a>\n",
    "    \n",
    "Very good graph! Thank you for sorted values for graph. It makes it more understandble.\n",
    "    \n",
    "Yes, flash cab is a best here. Perhaps, because of Flash or number of trips. :)\n",
    "</div>"
   ]
  },
  {
   "cell_type": "code",
   "execution_count": 15,
   "metadata": {},
   "outputs": [
    {
     "data": {
      "text/plain": [
       "9927.2"
      ]
     },
     "execution_count": 15,
     "metadata": {},
     "output_type": "execute_result"
    }
   ],
   "source": [
    "top_10_name['trips_amount'].mean()"
   ]
  },
  {
   "cell_type": "markdown",
   "metadata": {},
   "source": [
    "The data is filtered for the top 10 most performing companies and results plotted as above. Flash cab is the leading company irrespect of number of trips made."
   ]
  },
  {
   "cell_type": "code",
   "execution_count": 16,
   "metadata": {},
   "outputs": [
    {
     "data": {
      "image/png": "[encoded data removed]",
      "text/plain": [
       "<Figure size 648x432 with 1 Axes>"
      ]
     },
     "metadata": {},
     "output_type": "display_data"
    }
   ],
   "source": [
    "top_10_dropoff_loc.plot(kind='bar',figsize=(9,6),title= 'Top 10 dropoff locations by Average number of trips')\n",
    "plt.xlabel('Dropoff locations')\n",
    "plt.ylabel('Average trips')\n",
    "plt.title('Top 10 dropoff locations by Average number of trips')\n",
    "\n",
    "plt.show();"
   ]
  },
  {
   "cell_type": "code",
   "execution_count": 17,
   "metadata": {
    "scrolled": true
   },
   "outputs": [
    {
     "data": {
      "text/plain": [
       "4324.986666666667"
      ]
     },
     "execution_count": 17,
     "metadata": {},
     "output_type": "execute_result"
    }
   ],
   "source": [
    "top_10_dropoff_loc['average_trips'].mean()"
   ]
  },
  {
   "cell_type": "markdown",
   "metadata": {},
   "source": [
    "<div class=\"alert alert-block alert-success\">\n",
    "<b>Reviewer's comment.</b> <a class=\"tocSkip\"></a>\n",
    "\n",
    "Thank you!\n",
    "</div>"
   ]
  },
  {
   "cell_type": "markdown",
   "metadata": {},
   "source": [
    "## Conclusion\n",
    "\n",
    "flash cab is the leading cab company in the chicago area with over 10k more trips than Blue Ribbin Taxi Association which is the 10th most popuplar cab in the area. Most destinations by ride are to Loop which is followed closely by River North. On average, about 10k rides are made by the top 10 cab companies.\n",
    "On the other hand, Loop is the leading neighbourhood dropoff point for most passangers. Average trip by the leading top 10 neighbourhoods are about 4k."
   ]
  },
  {
   "cell_type": "markdown",
   "metadata": {},
   "source": [
    "<div class=\"alert alert-block alert-success\">\n",
    "<b>Reviewer's comment</b> <a class=\"tocSkip\"></a>\n",
    "    \n",
    "Great conclusion!\n",
    "\n",
    "</div>"
   ]
  },
  {
   "cell_type": "markdown",
   "metadata": {},
   "source": [
    "## Testing hypotheses "
   ]
  },
  {
   "cell_type": "code",
   "execution_count": 18,
   "metadata": {},
   "outputs": [
    {
     "data": {
      "text/html": [
       "<div>\n",
       "<style scoped>\n",
       "    .dataframe tbody tr th:only-of-type {\n",
       "        vertical-align: middle;\n",
       "    }\n",
       "\n",
       "    .dataframe tbody tr th {\n",
       "        vertical-align: top;\n",
       "    }\n",
       "\n",
       "    .dataframe thead th {\n",
       "        text-align: right;\n",
       "    }\n",
       "</style>\n",
       "<table border=\"1\" class=\"dataframe\">\n",
       "  <thead>\n",
       "    <tr style=\"text-align: right;\">\n",
       "      <th></th>\n",
       "      <th>start_ts</th>\n",
       "      <th>weather_conditions</th>\n",
       "      <th>duration_seconds</th>\n",
       "    </tr>\n",
       "  </thead>\n",
       "  <tbody>\n",
       "    <tr>\n",
       "      <td>0</td>\n",
       "      <td>2017-11-25 16:00:00</td>\n",
       "      <td>Good</td>\n",
       "      <td>2410.0</td>\n",
       "    </tr>\n",
       "    <tr>\n",
       "      <td>1</td>\n",
       "      <td>2017-11-25 14:00:00</td>\n",
       "      <td>Good</td>\n",
       "      <td>1920.0</td>\n",
       "    </tr>\n",
       "    <tr>\n",
       "      <td>2</td>\n",
       "      <td>2017-11-25 12:00:00</td>\n",
       "      <td>Good</td>\n",
       "      <td>1543.0</td>\n",
       "    </tr>\n",
       "    <tr>\n",
       "      <td>3</td>\n",
       "      <td>2017-11-04 10:00:00</td>\n",
       "      <td>Good</td>\n",
       "      <td>2512.0</td>\n",
       "    </tr>\n",
       "    <tr>\n",
       "      <td>4</td>\n",
       "      <td>2017-11-11 07:00:00</td>\n",
       "      <td>Good</td>\n",
       "      <td>1440.0</td>\n",
       "    </tr>\n",
       "    <tr>\n",
       "      <td>...</td>\n",
       "      <td>...</td>\n",
       "      <td>...</td>\n",
       "      <td>...</td>\n",
       "    </tr>\n",
       "    <tr>\n",
       "      <td>1063</td>\n",
       "      <td>2017-11-25 11:00:00</td>\n",
       "      <td>Good</td>\n",
       "      <td>0.0</td>\n",
       "    </tr>\n",
       "    <tr>\n",
       "      <td>1064</td>\n",
       "      <td>2017-11-11 10:00:00</td>\n",
       "      <td>Good</td>\n",
       "      <td>1318.0</td>\n",
       "    </tr>\n",
       "    <tr>\n",
       "      <td>1065</td>\n",
       "      <td>2017-11-11 13:00:00</td>\n",
       "      <td>Good</td>\n",
       "      <td>2100.0</td>\n",
       "    </tr>\n",
       "    <tr>\n",
       "      <td>1066</td>\n",
       "      <td>2017-11-11 08:00:00</td>\n",
       "      <td>Good</td>\n",
       "      <td>1380.0</td>\n",
       "    </tr>\n",
       "    <tr>\n",
       "      <td>1067</td>\n",
       "      <td>2017-11-04 16:00:00</td>\n",
       "      <td>Bad</td>\n",
       "      <td>2834.0</td>\n",
       "    </tr>\n",
       "  </tbody>\n",
       "</table>\n",
       "<p>1068 rows × 3 columns</p>\n",
       "</div>"
      ],
      "text/plain": [
       "                 start_ts weather_conditions  duration_seconds\n",
       "0     2017-11-25 16:00:00               Good            2410.0\n",
       "1     2017-11-25 14:00:00               Good            1920.0\n",
       "2     2017-11-25 12:00:00               Good            1543.0\n",
       "3     2017-11-04 10:00:00               Good            2512.0\n",
       "4     2017-11-11 07:00:00               Good            1440.0\n",
       "...                   ...                ...               ...\n",
       "1063  2017-11-25 11:00:00               Good               0.0\n",
       "1064  2017-11-11 10:00:00               Good            1318.0\n",
       "1065  2017-11-11 13:00:00               Good            2100.0\n",
       "1066  2017-11-11 08:00:00               Good            1380.0\n",
       "1067  2017-11-04 16:00:00                Bad            2834.0\n",
       "\n",
       "[1068 rows x 3 columns]"
      ]
     },
     "execution_count": 18,
     "metadata": {},
     "output_type": "execute_result"
    }
   ],
   "source": [
    "try:\n",
    "    ohare_airport = pd.read_csv('https://code.s3.yandex.net/learning-materials/data-analyst-eng/project_sql_result_07.csv')\n",
    "except:\n",
    "    ohare_airport = pd.read_csv('/datasets/project_sql_result_07.csv')\n",
    "ohare_airport"
   ]
  },
  {
   "cell_type": "markdown",
   "metadata": {},
   "source": [
    "Where:\n",
    "\n",
    "      Bad = stormy and rainny days and,\n",
    "      \n",
    "      Good = sunny etc."
   ]
  },
  {
   "cell_type": "code",
   "execution_count": 19,
   "metadata": {},
   "outputs": [
    {
     "name": "stdout",
     "output_type": "stream",
     "text": [
      "<class 'pandas.core.frame.DataFrame'>\n",
      "RangeIndex: 1068 entries, 0 to 1067\n",
      "Data columns (total 3 columns):\n",
      "start_ts              1068 non-null object\n",
      "weather_conditions    1068 non-null object\n",
      "duration_seconds      1068 non-null float64\n",
      "dtypes: float64(1), object(2)\n",
      "memory usage: 25.2+ KB\n"
     ]
    }
   ],
   "source": [
    "ohare_airport.info()"
   ]
  },
  {
   "cell_type": "code",
   "execution_count": 20,
   "metadata": {},
   "outputs": [],
   "source": [
    "ohare_airport['start_ts'] = pd.to_datetime(ohare_airport['start_ts'])"
   ]
  },
  {
   "cell_type": "code",
   "execution_count": 21,
   "metadata": {},
   "outputs": [
    {
     "data": {
      "text/plain": [
       "start_ts              0\n",
       "weather_conditions    0\n",
       "duration_seconds      0\n",
       "dtype: int64"
      ]
     },
     "execution_count": 21,
     "metadata": {},
     "output_type": "execute_result"
    }
   ],
   "source": [
    "ohare_airport.isnull().sum()"
   ]
  },
  {
   "cell_type": "code",
   "execution_count": 22,
   "metadata": {},
   "outputs": [
    {
     "data": {
      "text/plain": [
       "197"
      ]
     },
     "execution_count": 22,
     "metadata": {},
     "output_type": "execute_result"
    }
   ],
   "source": [
    "ohare_airport.duplicated().sum()"
   ]
  },
  {
   "cell_type": "markdown",
   "metadata": {},
   "source": [
    "### Conclusion\n",
    "The data on trips to Ohare airport does not have any missing values. The start_ts column which was string has been converted to datetime stamp. There are 197 duplicated rows in the dataframe."
   ]
  },
  {
   "cell_type": "markdown",
   "metadata": {},
   "source": [
    "<div class=\"alert alert-block alert-success\">\n",
    "<b>Reviewer's comment</b> <a class=\"tocSkip\"></a>\n",
    "    \n",
    "Another good checking! Great!\n",
    "\n",
    "</div>"
   ]
  },
  {
   "cell_type": "markdown",
   "metadata": {},
   "source": [
    "**NULL Hypothesis** The average duration of rides from the Loop to O'Hare International Airport does not change on rainy Saturdays.\n",
    "\n",
    "**Alternative Hypothesis** The average duration of rides from the Loop to O'Hare International Airport changes on rainy Saturdays"
   ]
  },
  {
   "cell_type": "code",
   "execution_count": 23,
   "metadata": {},
   "outputs": [],
   "source": [
    "rainy_days = ohare_airport[ohare_airport['weather_conditions']=='Bad']['duration_seconds'].unique()\n",
    "sunny_days = ohare_airport[ohare_airport['weather_conditions']=='Good']['duration_seconds'].unique()"
   ]
  },
  {
   "cell_type": "code",
   "execution_count": 24,
   "metadata": {},
   "outputs": [
    {
     "name": "stdout",
     "output_type": "stream",
     "text": [
      "pvalue: 0.00042094256249453315\n",
      "We reject the null hypothesis: Average duration for rides changes on rainy saturdays.\n",
      "The mean values are:\n",
      " rainy_days mean = 2416.935779816514\n",
      " sunny_days = 2115.1940639269405\n"
     ]
    }
   ],
   "source": [
    "alpha = 0.05\n",
    "results = st.ttest_ind(rainy_days,sunny_days,equal_var=False)\n",
    "print('pvalue:', results.pvalue)\n",
    "if results.pvalue < alpha:\n",
    "    print(\"We reject the null hypothesis: Average duration for rides changes on rainy saturdays.\")\n",
    "else:\n",
    "    print(\"We can't reject the null hypothesis: Average duration for rides do not change on rainy saturdays.\")\n",
    "print('The mean values are:')\n",
    "print(f' rainy_days mean = {rainy_days.mean()}')\n",
    "print(f' sunny_days = {sunny_days.mean()}')    \n"
   ]
  },
  {
   "cell_type": "markdown",
   "metadata": {},
   "source": [
    "## Conclusion\n",
    "Considering there were some duplicated enteries in the dataset, only the unique rows were picked for the analysis.\n",
    "The results indicate that, the average rides on rainy saturdays are different."
   ]
  },
  {
   "cell_type": "markdown",
   "metadata": {},
   "source": [
    "<div class=\"alert alert-block alert-success\">\n",
    "<b>Reviewer's comment</b> <a class=\"tocSkip\"></a>\n",
    "    \n",
    "Excellent step!\n",
    "  \n",
    "Very good formulation of hypotheses, right alpha and test.\n",
    "    \n",
    "Yes, you are right. The average rides on rainy saturdays are different.\n",
    "    \n",
    "Very good that we check it by test. It give to us full picture.\n",
    "\n",
    "</div>"
   ]
  },
  {
   "cell_type": "markdown",
   "metadata": {},
   "source": [
    "## Final Conclusion\n",
    "**Data Analysis**\n",
    "There were no missing or duplicated values in the company_name, dropoff datasets. start_ts of the Ohare_airport dataset was converted to datetime. The duplicated values in the Ohare_airport dataset were not used in the hypothesis testing.\n",
    "\n",
    "**Findings**\n",
    "1. The top 5 dropoff neighbourhoods are Loop, Rover North, Streeterville, West Loop and O'Hare in descending order.\n",
    "2. The top 5 Taxi companies are Flash cab, Taxi Affiliation Services,Medallion Leasin,Yellow Cab and Taxi Affiliation Service in descending order.\n",
    "3. Average trip by the top 10 companies are about *10k* with the **least ride amongst the top 10 being Blue Ribbon Taxi Association Inc.(5953 trips) as against 19558 trips by Flash Cab.**\n",
    "4. The hyposthesis test shows that, the average ride on rainy saturdays are different for trips to O'hare Airport.\n"
   ]
  },
  {
   "cell_type": "markdown",
   "metadata": {},
   "source": [
    "<div class=\"alert alert-block alert-success\">\n",
    "<b>Reviewer's comment</b> <a class=\"tocSkip\"></a>\n",
    "    \n",
    "Thank you for such big conclusion. We add information about the most popular taxi and neighborhoods and test results. Very good.\n",
    "    \n",
    "Great recommendation!\n",
    "\n",
    "</div>"
   ]
  }
 ],
 "metadata": {
  "ExecuteTimeLog": [
   {
    "duration": 1486,
    "start_time": "2021-08-12T18:00:32.828Z"
   },
   {
    "duration": 187,
    "start_time": "2021-08-12T18:01:23.003Z"
   },
   {
    "duration": 88,
    "start_time": "2021-08-12T18:03:58.895Z"
   },
   {
    "duration": 4,
    "start_time": "2021-08-12T18:04:09.251Z"
   },
   {
    "duration": 14,
    "start_time": "2021-08-12T18:04:24.801Z"
   },
   {
    "duration": 6,
    "start_time": "2021-08-12T18:04:50.262Z"
   },
   {
    "duration": 23,
    "start_time": "2021-08-12T18:05:01.024Z"
   },
   {
    "duration": 13,
    "start_time": "2021-08-12T18:05:13.557Z"
   },
   {
    "duration": 7,
    "start_time": "2021-08-12T18:05:23.140Z"
   },
   {
    "duration": 8,
    "start_time": "2021-08-12T18:05:32.193Z"
   },
   {
    "duration": 5,
    "start_time": "2021-08-12T18:10:25.882Z"
   },
   {
    "duration": 14,
    "start_time": "2021-08-12T18:13:54.776Z"
   },
   {
    "duration": 17,
    "start_time": "2021-08-12T18:16:51.647Z"
   },
   {
    "duration": 19,
    "start_time": "2021-08-12T18:17:03.677Z"
   },
   {
    "duration": 489,
    "start_time": "2021-08-12T18:20:27.707Z"
   },
   {
    "duration": 413,
    "start_time": "2021-08-12T18:23:14.256Z"
   },
   {
    "duration": 756,
    "start_time": "2021-08-12T18:24:03.729Z"
   },
   {
    "duration": 498,
    "start_time": "2021-08-12T18:24:14.410Z"
   },
   {
    "duration": 771,
    "start_time": "2021-08-12T18:25:09.544Z"
   },
   {
    "duration": 714,
    "start_time": "2021-08-12T18:25:33.578Z"
   },
   {
    "duration": 854,
    "start_time": "2021-08-12T18:25:41.477Z"
   },
   {
    "duration": 470,
    "start_time": "2021-08-12T18:25:53.331Z"
   },
   {
    "duration": 407,
    "start_time": "2021-08-12T18:28:12.798Z"
   },
   {
    "duration": 716,
    "start_time": "2021-08-12T18:28:46.795Z"
   },
   {
    "duration": 7,
    "start_time": "2021-08-12T18:35:14.129Z"
   },
   {
    "duration": 6,
    "start_time": "2021-08-12T18:36:29.248Z"
   },
   {
    "duration": 79,
    "start_time": "2021-08-12T18:39:04.744Z"
   },
   {
    "duration": 9,
    "start_time": "2021-08-12T18:39:52.002Z"
   },
   {
    "duration": 268,
    "start_time": "2021-08-12T18:40:20.052Z"
   },
   {
    "duration": 8,
    "start_time": "2021-08-12T18:40:27.382Z"
   },
   {
    "duration": 8,
    "start_time": "2021-08-12T18:40:42.813Z"
   },
   {
    "duration": 8,
    "start_time": "2021-08-12T18:41:05.849Z"
   },
   {
    "duration": 249,
    "start_time": "2021-08-12T18:46:12.976Z"
   },
   {
    "duration": 9,
    "start_time": "2021-08-12T18:46:31.677Z"
   },
   {
    "duration": 10,
    "start_time": "2021-08-12T18:46:56.908Z"
   },
   {
    "duration": 1367,
    "start_time": "2021-08-12T19:01:22.565Z"
   },
   {
    "duration": 153,
    "start_time": "2021-08-12T19:01:25.121Z"
   },
   {
    "duration": 4,
    "start_time": "2021-08-12T19:01:30.603Z"
   },
   {
    "duration": 13,
    "start_time": "2021-08-12T19:01:31.711Z"
   },
   {
    "duration": 6,
    "start_time": "2021-08-12T19:01:35.746Z"
   },
   {
    "duration": 23,
    "start_time": "2021-08-12T19:01:37.093Z"
   },
   {
    "duration": 13,
    "start_time": "2021-08-12T19:01:38.147Z"
   },
   {
    "duration": 7,
    "start_time": "2021-08-12T19:01:40.796Z"
   },
   {
    "duration": 8,
    "start_time": "2021-08-12T19:01:41.549Z"
   },
   {
    "duration": 18,
    "start_time": "2021-08-12T19:01:45.190Z"
   },
   {
    "duration": 16,
    "start_time": "2021-08-12T19:01:50.207Z"
   },
   {
    "duration": 14,
    "start_time": "2021-08-12T19:01:54.103Z"
   },
   {
    "duration": 529,
    "start_time": "2021-08-12T19:01:56.213Z"
   },
   {
    "duration": 7,
    "start_time": "2021-08-12T19:02:00.301Z"
   },
   {
    "duration": 452,
    "start_time": "2021-08-12T19:02:04.109Z"
   },
   {
    "duration": 7,
    "start_time": "2021-08-12T19:02:07.743Z"
   },
   {
    "duration": 63,
    "start_time": "2021-08-12T19:02:12.492Z"
   },
   {
    "duration": 8,
    "start_time": "2021-08-12T19:02:16.032Z"
   },
   {
    "duration": 7,
    "start_time": "2021-08-12T19:02:18.645Z"
   },
   {
    "duration": 10,
    "start_time": "2021-08-12T19:02:20.215Z"
   },
   {
    "duration": 9,
    "start_time": "2021-08-12T19:02:22.334Z"
   },
   {
    "duration": 9,
    "start_time": "2021-08-12T19:02:26.256Z"
   },
   {
    "duration": 11,
    "start_time": "2021-08-12T19:02:28.589Z"
   },
   {
    "duration": 61,
    "start_time": "2021-08-12T19:14:26.094Z"
   },
   {
    "duration": 1374,
    "start_time": "2021-08-12T19:14:37.491Z"
   },
   {
    "duration": 107,
    "start_time": "2021-08-12T19:14:39.938Z"
   },
   {
    "duration": 4,
    "start_time": "2021-08-12T19:14:42.842Z"
   },
   {
    "duration": 13,
    "start_time": "2021-08-12T19:14:43.880Z"
   },
   {
    "duration": 5,
    "start_time": "2021-08-12T19:14:47.346Z"
   },
   {
    "duration": 24,
    "start_time": "2021-08-12T19:14:48.328Z"
   },
   {
    "duration": 14,
    "start_time": "2021-08-12T19:14:49.149Z"
   },
   {
    "duration": 8,
    "start_time": "2021-08-12T19:14:49.859Z"
   },
   {
    "duration": 7,
    "start_time": "2021-08-12T19:14:50.632Z"
   },
   {
    "duration": 15,
    "start_time": "2021-08-12T19:14:54.523Z"
   },
   {
    "duration": 17,
    "start_time": "2021-08-12T19:14:58.549Z"
   },
   {
    "duration": 15,
    "start_time": "2021-08-12T19:15:02.079Z"
   },
   {
    "duration": 509,
    "start_time": "2021-08-12T19:15:04.083Z"
   },
   {
    "duration": 7,
    "start_time": "2021-08-12T19:15:08.172Z"
   },
   {
    "duration": 420,
    "start_time": "2021-08-12T19:15:11.481Z"
   },
   {
    "duration": 7,
    "start_time": "2021-08-12T19:15:14.323Z"
   },
   {
    "duration": 59,
    "start_time": "2021-08-12T19:15:17.650Z"
   },
   {
    "duration": 8,
    "start_time": "2021-08-12T19:15:22.897Z"
   },
   {
    "duration": 6,
    "start_time": "2021-08-12T19:15:25.499Z"
   },
   {
    "duration": 8,
    "start_time": "2021-08-12T19:15:27.007Z"
   },
   {
    "duration": 11,
    "start_time": "2021-08-12T19:15:29.579Z"
   },
   {
    "duration": 9,
    "start_time": "2021-08-12T19:15:33.807Z"
   },
   {
    "duration": 7,
    "start_time": "2021-08-12T19:15:35.655Z"
   },
   {
    "duration": 1049,
    "start_time": "2021-08-13T05:40:19.429Z"
   },
   {
    "duration": 170,
    "start_time": "2021-08-13T05:40:32.652Z"
   },
   {
    "duration": 3,
    "start_time": "2021-08-13T05:40:38.539Z"
   },
   {
    "duration": 10,
    "start_time": "2021-08-13T05:40:39.461Z"
   },
   {
    "duration": 4,
    "start_time": "2021-08-13T05:40:43.028Z"
   },
   {
    "duration": 14,
    "start_time": "2021-08-13T05:40:43.940Z"
   },
   {
    "duration": 10,
    "start_time": "2021-08-13T05:40:44.747Z"
   },
   {
    "duration": 5,
    "start_time": "2021-08-13T05:40:47.477Z"
   },
   {
    "duration": 5,
    "start_time": "2021-08-13T05:40:48.557Z"
   },
   {
    "duration": 10,
    "start_time": "2021-08-13T05:40:52.702Z"
   },
   {
    "duration": 241,
    "start_time": "2021-08-13T05:44:29.511Z"
   },
   {
    "duration": 263,
    "start_time": "2021-08-13T05:44:45.639Z"
   },
   {
    "duration": 247,
    "start_time": "2021-08-13T05:45:14.630Z"
   },
   {
    "duration": 302,
    "start_time": "2021-08-13T05:46:37.547Z"
   },
   {
    "duration": 183,
    "start_time": "2021-08-13T05:46:59.015Z"
   },
   {
    "duration": 10,
    "start_time": "2021-08-13T05:47:04.246Z"
   },
   {
    "duration": 280,
    "start_time": "2021-08-13T05:47:06.670Z"
   },
   {
    "duration": 263,
    "start_time": "2021-08-13T05:48:20.438Z"
   },
   {
    "duration": 223,
    "start_time": "2021-08-13T05:48:29.032Z"
   },
   {
    "duration": 242,
    "start_time": "2021-08-13T05:48:50.653Z"
   },
   {
    "duration": 326,
    "start_time": "2021-08-13T05:49:30.008Z"
   },
   {
    "duration": 177,
    "start_time": "2021-08-13T05:57:10.174Z"
   },
   {
    "duration": 4600,
    "start_time": "2021-08-13T05:57:28.354Z"
   },
   {
    "duration": 267,
    "start_time": "2021-08-13T05:57:42.727Z"
   },
   {
    "duration": 247,
    "start_time": "2021-08-13T05:59:04.121Z"
   },
   {
    "duration": 261,
    "start_time": "2021-08-13T06:00:18.698Z"
   },
   {
    "duration": 275,
    "start_time": "2021-08-13T06:01:03.956Z"
   },
   {
    "duration": 308,
    "start_time": "2021-08-13T06:01:24.382Z"
   },
   {
    "duration": 243,
    "start_time": "2021-08-13T06:02:15.270Z"
   },
   {
    "duration": 232,
    "start_time": "2021-08-13T06:02:49.301Z"
   },
   {
    "duration": 224,
    "start_time": "2021-08-13T06:03:39.656Z"
   },
   {
    "duration": 248,
    "start_time": "2021-08-13T06:04:05.470Z"
   },
   {
    "duration": 258,
    "start_time": "2021-08-13T06:04:17.819Z"
   },
   {
    "duration": 311,
    "start_time": "2021-08-13T06:04:27.852Z"
   },
   {
    "duration": 230,
    "start_time": "2021-08-13T06:05:06.797Z"
   },
   {
    "duration": 251,
    "start_time": "2021-08-13T06:05:20.070Z"
   },
   {
    "duration": 5,
    "start_time": "2021-08-13T06:06:26.388Z"
   },
   {
    "duration": 1000,
    "start_time": "2021-08-13T06:06:35.163Z"
   },
   {
    "duration": 91,
    "start_time": "2021-08-13T06:06:37.326Z"
   },
   {
    "duration": 3,
    "start_time": "2021-08-13T06:06:40.212Z"
   },
   {
    "duration": 9,
    "start_time": "2021-08-13T06:06:41.726Z"
   },
   {
    "duration": 4,
    "start_time": "2021-08-13T06:06:45.368Z"
   },
   {
    "duration": 14,
    "start_time": "2021-08-13T06:06:46.330Z"
   },
   {
    "duration": 9,
    "start_time": "2021-08-13T06:06:47.169Z"
   },
   {
    "duration": 6,
    "start_time": "2021-08-13T06:06:47.946Z"
   },
   {
    "duration": 5,
    "start_time": "2021-08-13T06:06:48.597Z"
   },
   {
    "duration": 11,
    "start_time": "2021-08-13T06:06:51.866Z"
   },
   {
    "duration": 236,
    "start_time": "2021-08-13T06:07:05.466Z"
   },
   {
    "duration": 11,
    "start_time": "2021-08-13T06:07:17.001Z"
   },
   {
    "duration": 10,
    "start_time": "2021-08-13T06:07:20.642Z"
   },
   {
    "duration": 285,
    "start_time": "2021-08-13T06:07:28.264Z"
   },
   {
    "duration": 4,
    "start_time": "2021-08-13T06:07:33.682Z"
   },
   {
    "duration": 245,
    "start_time": "2021-08-13T06:07:36.808Z"
   },
   {
    "duration": 5,
    "start_time": "2021-08-13T06:07:40.854Z"
   },
   {
    "duration": 95,
    "start_time": "2021-08-13T06:07:46.855Z"
   },
   {
    "duration": 6,
    "start_time": "2021-08-13T06:07:51.912Z"
   },
   {
    "duration": 5,
    "start_time": "2021-08-13T06:07:54.781Z"
   },
   {
    "duration": 6,
    "start_time": "2021-08-13T06:07:55.769Z"
   },
   {
    "duration": 6,
    "start_time": "2021-08-13T06:08:02.423Z"
   },
   {
    "duration": 6,
    "start_time": "2021-08-13T06:08:09.743Z"
   },
   {
    "duration": 5,
    "start_time": "2021-08-13T06:08:10.593Z"
   }
  ],
  "kernelspec": {
   "display_name": "Python 3 (ipykernel)",
   "language": "python",
   "name": "python3"
  },
  "language_info": {
   "codemirror_mode": {
    "name": "ipython",
    "version": 3
   },
   "file_extension": ".py",
   "mimetype": "text/x-python",
   "name": "python",
   "nbconvert_exporter": "python",
   "pygments_lexer": "ipython3",
   "version": "3.9.7"
  },
  "toc": {
   "base_numbering": 1,
   "nav_menu": {},
   "number_sections": true,
   "sideBar": true,
   "skip_h1_title": true,
   "title_cell": "Table of Contents",
   "title_sidebar": "Contents",
   "toc_cell": false,
   "toc_position": {},
   "toc_section_display": true,
   "toc_window_display": false
  }
 },
 "nbformat": 4,
 "nbformat_minor": 2
}
